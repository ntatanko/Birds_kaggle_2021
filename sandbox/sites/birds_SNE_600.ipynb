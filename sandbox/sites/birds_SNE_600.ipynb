{
 "cells": [
  {
   "cell_type": "code",
   "execution_count": null,
   "metadata": {},
   "outputs": [],
   "source": []
  },
  {
   "cell_type": "code",
   "execution_count": 1,
   "metadata": {},
   "outputs": [],
   "source": [
    "import os\n",
    "import shutil\n",
    "import warnings\n",
    "\n",
    "import numpy as np\n",
    "import pandas as pd\n",
    "import plotly.graph_objects as go\n",
    "import torchaudio\n",
    "\n",
    "warnings.filterwarnings(action=\"ignore\")\n",
    "from IPython.core.interactiveshell import InteractiveShell\n",
    "\n",
    "InteractiveShell.ast_node_interactivity = \"all\"\n",
    "import json\n",
    "\n",
    "import geopandas\n",
    "import librosa\n",
    "import librosa.display\n",
    "import matplotlib.pyplot as plt\n",
    "import scipy.stats as st\n",
    "import seaborn as sns\n",
    "import soundfile\n",
    "import tensorflow as tf\n",
    "import tensorflow_addons as tfa\n",
    "import torch\n",
    "\n",
    "%matplotlib inline\n",
    "from PIL import Image\n",
    "from sklearn.model_selection import train_test_split\n",
    "from sklearn.utils import shuffle\n",
    "from tensorflow import keras\n",
    "from tensorflow.keras.models import Sequential\n",
    "from tensorflow.keras.optimizers import Adam\n",
    "from torchaudio.transforms import MelSpectrogram\n",
    "from tqdm import tqdm\n",
    "\n",
    "from src.gen_short import MEL_Generator_Short, Mel_Provider\n",
    "from src.prepare_dataset import (\n",
    "    choose_ids,\n",
    "    make_dict_birds,\n",
    "    make_intervals,\n",
    "    make_intervals_upsampling,\n",
    "    prepare_dataset,\n",
    ")"
   ]
  },
  {
   "cell_type": "code",
   "execution_count": 2,
   "metadata": {},
   "outputs": [],
   "source": [
    "birds_SNE_600 = list(np.load(\"/app/sandbox/sites/birds_SNE_600.npy\", allow_pickle=True))\n",
    "birds_SNE_600.append('nocall')\n",
    "birds_SNE_600.sort()"
   ]
  },
  {
   "cell_type": "code",
   "execution_count": 3,
   "metadata": {},
   "outputs": [
    {
     "data": {
      "text/plain": [
       "181"
      ]
     },
     "execution_count": 3,
     "metadata": {},
     "output_type": "execute_result"
    }
   ],
   "source": [
    "len(birds_SNE_600)"
   ]
  },
  {
   "cell_type": "code",
   "execution_count": 4,
   "metadata": {},
   "outputs": [],
   "source": [
    "SEED = 42\n",
    "IMG_SIZE = 224\n",
    "SAMPLE_RATE = 32000\n",
    "N_FFT = 2048\n",
    "SIGNAL_LENGTH = 5\n",
    "FREQ_MIN = 0\n",
    "FREQ_MAX = 16000\n",
    "WIN_LENGHT = 1024\n",
    "BATCH_SIZE = 50"
   ]
  },
  {
   "cell_type": "markdown",
   "metadata": {},
   "source": [
    "## Initial dataframes"
   ]
  },
  {
   "cell_type": "code",
   "execution_count": 5,
   "metadata": {},
   "outputs": [
    {
     "data": {
      "text/plain": [
       "(35249, 24)"
      ]
     },
     "execution_count": 5,
     "metadata": {},
     "output_type": "execute_result"
    }
   ],
   "source": [
    "all_audio_init = pd.read_csv(\"/app/_data/all_audio_initial.csv\")\n",
    "all_audio = all_audio_init.query(\"primary_label in @birds_SNE_600\").reset_index(drop=True)\n",
    "all_audio.shape"
   ]
  },
  {
   "cell_type": "code",
   "execution_count": 6,
   "metadata": {},
   "outputs": [
    {
     "name": "stderr",
     "output_type": "stream",
     "text": [
      "100%|██████████| 35249/35249 [00:00<00:00, 60337.10it/s]\n"
     ]
    },
    {
     "data": {
      "text/plain": [
       "3077"
      ]
     },
     "execution_count": 6,
     "metadata": {},
     "output_type": "execute_result"
    }
   ],
   "source": [
    "list_ixs = []\n",
    "for i in tqdm(all_audio.index.tolist()):\n",
    "    sec_labels = all_audio.loc[i,'secondary_labels']\n",
    "    if type(sec_labels)!=float:\n",
    "        sec_labels = sec_labels.split()\n",
    "        for j in sec_labels:\n",
    "            if j not in birds_SNE_600:\n",
    "                list_ixs.append(i)\n",
    "len(set(list_ixs))"
   ]
  },
  {
   "cell_type": "code",
   "execution_count": 7,
   "metadata": {},
   "outputs": [
    {
     "data": {
      "text/plain": [
       "(32172, 24)"
      ]
     },
     "execution_count": 7,
     "metadata": {},
     "output_type": "execute_result"
    }
   ],
   "source": [
    "list_ixs = set(list_ixs)\n",
    "\n",
    "all_audio = all_audio.query(\"index not in @list_ixs\").reset_index(drop=True)\n",
    "all_audio.shape"
   ]
  },
  {
   "cell_type": "code",
   "execution_count": 8,
   "metadata": {},
   "outputs": [],
   "source": [
    "dict_birds, all_audio = make_dict_birds(all_audio)"
   ]
  },
  {
   "cell_type": "code",
   "execution_count": 9,
   "metadata": {},
   "outputs": [],
   "source": [
    "file_json = open(\"/app/_data/models/sites/sne/dict_birds_sne_600.json\", \"w\")\n",
    "json.dump(dict_birds, file_json)\n",
    "file_json.close()"
   ]
  },
  {
   "cell_type": "code",
   "execution_count": 10,
   "metadata": {},
   "outputs": [],
   "source": [
    "dict_weights = (1 / all_audio[\"primary_label\"].value_counts()).to_dict()\n",
    "all_audio[\"class_weights\"] = all_audio[\"primary_label\"].replace(dict_weights)\n",
    "all_audio[\"class_weights\"] = all_audio[\"class_weights\"] * all_audio[\"rating\"]"
   ]
  },
  {
   "cell_type": "code",
   "execution_count": 11,
   "metadata": {},
   "outputs": [
    {
     "data": {
      "text/plain": [
       "(30371, 24)"
      ]
     },
     "execution_count": 11,
     "metadata": {},
     "output_type": "execute_result"
    },
    {
     "data": {
      "text/plain": [
       "(1801, 24)"
      ]
     },
     "execution_count": 11,
     "metadata": {},
     "output_type": "execute_result"
    }
   ],
   "source": [
    "short_audio = all_audio[all_audio[\"rating\"] != 6].reset_index(\n",
    "    drop=True\n",
    ")  # only short audio\n",
    "train_sondscapes = all_audio[all_audio[\"rating\"] == 6].reset_index(\n",
    "    drop=True\n",
    ")  # only train_soundscapes\n",
    "short_audio.shape\n",
    "train_sondscapes.shape"
   ]
  },
  {
   "cell_type": "code",
   "execution_count": 12,
   "metadata": {},
   "outputs": [
    {
     "data": {
      "text/plain": [
       "181"
      ]
     },
     "execution_count": 12,
     "metadata": {},
     "output_type": "execute_result"
    }
   ],
   "source": [
    "len(dict_birds)"
   ]
  },
  {
   "cell_type": "code",
   "execution_count": 13,
   "metadata": {},
   "outputs": [],
   "source": [
    "train_sondscapes['duration']=600"
   ]
  },
  {
   "cell_type": "markdown",
   "metadata": {},
   "source": [
    "## Make intervals for short audio"
   ]
  },
  {
   "cell_type": "code",
   "execution_count": 14,
   "metadata": {},
   "outputs": [],
   "source": [
    "array_for_cut = short_audio[[\"filename\", \"duration\", \"class_weights\"]].values"
   ]
  },
  {
   "cell_type": "code",
   "execution_count": 15,
   "metadata": {},
   "outputs": [
    {
     "data": {
      "text/plain": [
       "(923809, 3)"
      ]
     },
     "execution_count": 15,
     "metadata": {},
     "output_type": "execute_result"
    }
   ],
   "source": [
    "birds_intervals = make_intervals(array_for_cut, 5, max_intervals=200, max_lenght=400)\n",
    "birds_intervals.shape"
   ]
  },
  {
   "cell_type": "code",
   "execution_count": 16,
   "metadata": {},
   "outputs": [],
   "source": [
    "birds_intervals[\"row_id\"] = birds_intervals.index"
   ]
  },
  {
   "cell_type": "code",
   "execution_count": 17,
   "metadata": {},
   "outputs": [
    {
     "data": {
      "text/plain": [
       "XC356711.ogg    200\n",
       "XC466426.ogg    200\n",
       "XC581000.ogg    200\n",
       "XC394312.ogg    200\n",
       "XC330857.ogg    200\n",
       "               ... \n",
       "XC163970.ogg      4\n",
       "XC618273.ogg      4\n",
       "XC441126.ogg      4\n",
       "XC602512.ogg      4\n",
       "XC418533.ogg      4\n",
       "Name: filename, Length: 30371, dtype: int64"
      ]
     },
     "execution_count": 17,
     "metadata": {},
     "output_type": "execute_result"
    }
   ],
   "source": [
    "birds_intervals[\"filename\"].value_counts()"
   ]
  },
  {
   "cell_type": "code",
   "execution_count": 18,
   "metadata": {},
   "outputs": [],
   "source": [
    "birds_intervals_sample = birds_intervals.sample(\n",
    "    n=500000, weights=\"class_weights\", random_state=SEED\n",
    ")"
   ]
  },
  {
   "cell_type": "code",
   "execution_count": 19,
   "metadata": {},
   "outputs": [],
   "source": [
    "short_audio = birds_intervals_sample.merge(\n",
    "    short_audio[\n",
    "        [\n",
    "            \"filename\",\n",
    "            \"primary_label\",\n",
    "            \"secondary_labels\",\n",
    "            \"label_id\",\n",
    "            \"secondary_labels_id\",\n",
    "            \"duration\",\n",
    "            \"rating\",\n",
    "            \"year\",\n",
    "            \"file_path\",\n",
    "            \"frames\",\n",
    "            \"sin_month\",\n",
    "            \"cos_month\",\n",
    "            \"sin_longitude\",\n",
    "            \"cos_longitude\",\n",
    "            \"latitude\",\n",
    "            \"norm_latitude\",\n",
    "            \"date\",\n",
    "        ]\n",
    "    ],\n",
    "    on=\"filename\",\n",
    "    how=\"left\",\n",
    ")"
   ]
  },
  {
   "cell_type": "code",
   "execution_count": 20,
   "metadata": {},
   "outputs": [
    {
     "data": {
      "text/plain": [
       "XC618597.ogg    197\n",
       "XC270173.ogg    195\n",
       "XC270172.ogg    192\n",
       "XC268195.ogg    190\n",
       "XC575301.ogg    189\n",
       "               ... \n",
       "XC306896.ogg      1\n",
       "XC357021.ogg      1\n",
       "XC617573.ogg      1\n",
       "XC164273.ogg      1\n",
       "XC396299.ogg      1\n",
       "Name: filename, Length: 28932, dtype: int64"
      ]
     },
     "execution_count": 20,
     "metadata": {},
     "output_type": "execute_result"
    }
   ],
   "source": [
    "short_audio[\"filename\"].value_counts()"
   ]
  },
  {
   "cell_type": "code",
   "execution_count": 21,
   "metadata": {},
   "outputs": [],
   "source": [
    "short_audio[\"end_sec\"] = short_audio[\"end_sec\"].apply(lambda x: x if x > 5 else 5)"
   ]
  },
  {
   "cell_type": "code",
   "execution_count": 22,
   "metadata": {},
   "outputs": [],
   "source": [
    "short_audio[\"start_sec\"] = short_audio[\"end_sec\"] - 5"
   ]
  },
  {
   "cell_type": "markdown",
   "metadata": {},
   "source": [
    "# concat short+long"
   ]
  },
  {
   "cell_type": "code",
   "execution_count": 23,
   "metadata": {},
   "outputs": [],
   "source": [
    "short_audio = prepare_dataset(short_audio)\n",
    "train_sondscapes = prepare_dataset(train_sondscapes)"
   ]
  },
  {
   "cell_type": "code",
   "execution_count": 24,
   "metadata": {},
   "outputs": [
    {
     "data": {
      "text/plain": [
       "(505403, 21)"
      ]
     },
     "execution_count": 24,
     "metadata": {},
     "output_type": "execute_result"
    }
   ],
   "source": [
    "final_audio = (\n",
    "    pd.concat(\n",
    "        [short_audio, train_sondscapes, train_sondscapes, train_sondscapes],\n",
    "        axis=0,\n",
    "        ignore_index=True,\n",
    "    )\n",
    "    .sample(frac=1, random_state=SEED)\n",
    "    .reset_index(drop=True)\n",
    ")\n",
    "final_audio.shape"
   ]
  },
  {
   "cell_type": "code",
   "execution_count": 25,
   "metadata": {},
   "outputs": [
    {
     "data": {
      "text/plain": [
       "brwhaw     1345\n",
       "royter1    1268\n",
       "cowscj1    1221\n",
       "sposan     1202\n",
       "brebla     1192\n",
       "mouqua     1175\n",
       "norsho     1150\n",
       "nutwoo     1087\n",
       "baleag     1032\n",
       "bongul     1022\n",
       "rufhum     1009\n",
       "lobdow      966\n",
       "wooduc      834\n",
       "babwar      807\n",
       "grnher      802\n",
       "cacgoo1     787\n",
       "ameavo      777\n",
       "amewig      642\n",
       "nrwswa      615\n",
       "rebsap      609\n",
       "Name: primary_label, dtype: int64"
      ]
     },
     "execution_count": 25,
     "metadata": {},
     "output_type": "execute_result"
    }
   ],
   "source": [
    "final_audio[\"primary_label\"].value_counts().tail(20)"
   ]
  },
  {
   "cell_type": "code",
   "execution_count": 26,
   "metadata": {},
   "outputs": [
    {
     "data": {
      "text/html": [
       "<div>\n",
       "<style scoped>\n",
       "    .dataframe tbody tr th:only-of-type {\n",
       "        vertical-align: middle;\n",
       "    }\n",
       "\n",
       "    .dataframe tbody tr th {\n",
       "        vertical-align: top;\n",
       "    }\n",
       "\n",
       "    .dataframe thead th {\n",
       "        text-align: right;\n",
       "    }\n",
       "</style>\n",
       "<table border=\"1\" class=\"dataframe\">\n",
       "  <thead>\n",
       "    <tr style=\"text-align: right;\">\n",
       "      <th></th>\n",
       "      <th>end_sec</th>\n",
       "      <th>duration</th>\n",
       "    </tr>\n",
       "  </thead>\n",
       "  <tbody>\n",
       "    <tr>\n",
       "      <th>148722</th>\n",
       "      <td>102.93</td>\n",
       "      <td>102.925687</td>\n",
       "    </tr>\n",
       "    <tr>\n",
       "      <th>471954</th>\n",
       "      <td>309.00</td>\n",
       "      <td>308.989000</td>\n",
       "    </tr>\n",
       "  </tbody>\n",
       "</table>\n",
       "</div>"
      ],
      "text/plain": [
       "        end_sec    duration\n",
       "148722   102.93  102.925687\n",
       "471954   309.00  308.989000"
      ]
     },
     "execution_count": 26,
     "metadata": {},
     "output_type": "execute_result"
    }
   ],
   "source": [
    "final_audio.query(\"end_sec > duration and rating!=6\")[['end_sec', 'duration']]"
   ]
  },
  {
   "cell_type": "code",
   "execution_count": 27,
   "metadata": {},
   "outputs": [],
   "source": [
    "for ix in final_audio.query(\"end_sec > duration and rating!=6\")[['end_sec', 'duration']].index:\n",
    "    final_audio.loc[ix, 'end_sec']= final_audio.loc[ix, 'duration']"
   ]
  },
  {
   "cell_type": "markdown",
   "metadata": {},
   "source": [
    "# train_test_split"
   ]
  },
  {
   "cell_type": "code",
   "execution_count": 28,
   "metadata": {},
   "outputs": [],
   "source": [
    "train, valid = train_test_split(final_audio, train_size=0.85, random_state=SEED)\n",
    "train = train.reset_index(drop=True)\n",
    "valid = valid.reset_index(drop=True)"
   ]
  },
  {
   "cell_type": "code",
   "execution_count": 29,
   "metadata": {},
   "outputs": [
    {
     "data": {
      "text/plain": [
       "nan"
      ]
     },
     "execution_count": 29,
     "metadata": {},
     "output_type": "execute_result"
    }
   ],
   "source": [
    "final_audio[final_audio[\"end_sec\"] > final_audio[\"duration\"]][\"rating\"].mean()"
   ]
  },
  {
   "cell_type": "code",
   "execution_count": 30,
   "metadata": {},
   "outputs": [
    {
     "data": {
      "text/plain": [
       "0"
      ]
     },
     "execution_count": 30,
     "metadata": {},
     "output_type": "execute_result"
    }
   ],
   "source": [
    "final_audio[\"end_sec\"].isna().sum()"
   ]
  },
  {
   "cell_type": "code",
   "execution_count": 31,
   "metadata": {},
   "outputs": [],
   "source": [
    "mel_pr = Mel_Provider(\n",
    "    n_fft=N_FFT,\n",
    "    win_length=WIN_LENGHT,\n",
    "    n_mels=IMG_SIZE,\n",
    "    sample_rate=SAMPLE_RATE,\n",
    "    mel_image_size=IMG_SIZE,\n",
    "    min_frequency=FREQ_MIN,\n",
    "    max_frequency=FREQ_MAX,\n",
    "    signal_lenght=SIGNAL_LENGTH,\n",
    ")"
   ]
  },
  {
   "cell_type": "code",
   "execution_count": 32,
   "metadata": {},
   "outputs": [],
   "source": [
    "callbacks = [\n",
    "    keras.callbacks.EarlyStopping(\n",
    "        monitor=\"val_f1_score\",\n",
    "        patience=12,\n",
    "        restore_best_weights=True,\n",
    "        verbose=1,\n",
    "        mode=\"max\",\n",
    "    ),\n",
    "    keras.callbacks.ModelCheckpoint(\n",
    "        \"/app/_data/models/sites/sne/eff0_sne_200.h5\",\n",
    "        monitor=\"val_f1_score\",\n",
    "        verbose=1,\n",
    "        save_best_only=True,\n",
    "        save_weights_only=False,\n",
    "        mode=\"max\",\n",
    "        save_freq=\"epoch\",\n",
    "    ),\n",
    "    keras.callbacks.ReduceLROnPlateau(\n",
    "        monitor=\"val_f1_score\",\n",
    "        factor=0.9,\n",
    "        patience=5,\n",
    "        verbose=1,\n",
    "        mode=\"max\",\n",
    "        min_delta=1e-4,\n",
    "        min_lr=0.00000001,\n",
    "    ),\n",
    "    keras.callbacks.TensorBoard(log_dir=\"/app/.tensorboard/sne_0_1/\", histogram_freq=0),\n",
    "    keras.callbacks.experimental.BackupAndRestore(\n",
    "        \"/app/_data/models/sites/sne/backup/\"\n",
    "    ),\n",
    "    keras.callbacks.TerminateOnNaN(),\n",
    "]"
   ]
  },
  {
   "cell_type": "code",
   "execution_count": 33,
   "metadata": {},
   "outputs": [],
   "source": [
    "def get_model():\n",
    "    inputs = keras.Input(shape=(IMG_SIZE, IMG_SIZE, 3))\n",
    "    base_model = keras.applications.EfficientNetB0(\n",
    "        weights=\"imagenet\", include_top=False\n",
    "    )\n",
    "    x = base_model(inputs)\n",
    "    x = keras.layers.GlobalAveragePooling2D(name=\"avg_pool\")(x)\n",
    "    x = keras.layers.Flatten(name=\"flatten\")(x)\n",
    "    outputs = keras.layers.Dense(NUM_CLASSES, activation=\"sigmoid\")(x)\n",
    "    model = keras.Model(inputs=inputs, outputs=outputs)\n",
    "    model.compile(\n",
    "        loss=\"binary_crossentropy\",\n",
    "        optimizer=Adam(lr=0.005),\n",
    "        metrics=[\n",
    "            \"acc\",\n",
    "            keras.metrics.Recall(),\n",
    "            keras.metrics.Precision(),\n",
    "            tfa.metrics.F1Score(num_classes=NUM_CLASSES, average=\"micro\"),\n",
    "        ],\n",
    "    )\n",
    "    return model"
   ]
  },
  {
   "cell_type": "code",
   "execution_count": 34,
   "metadata": {},
   "outputs": [
    {
     "name": "stdout",
     "output_type": "stream",
     "text": [
      "INFO:tensorflow:Mixed precision compatibility check (mixed_float16): OK\n",
      "Your GPU will likely run quickly with dtype policy mixed_float16 as it has compute capability of at least 7.0. Your GPU: NVIDIA GeForce RTX 3090, compute capability 8.6\n"
     ]
    }
   ],
   "source": [
    "policy = keras.mixed_precision.experimental.Policy(\"mixed_float16\")\n",
    "keras.mixed_precision.experimental.set_policy(policy)"
   ]
  },
  {
   "cell_type": "code",
   "execution_count": 35,
   "metadata": {},
   "outputs": [],
   "source": [
    "# for i in [\n",
    "#     \"/app/_data/npy/waves_npy/\",\n",
    "#     \"/app/_data/npy/short_mels/\",\n",
    "# ]:\n",
    "#     shutil.rmtree(i)"
   ]
  },
  {
   "cell_type": "code",
   "execution_count": 36,
   "metadata": {},
   "outputs": [],
   "source": [
    "NUM_CLASSES = len(dict_birds)"
   ]
  },
  {
   "cell_type": "code",
   "execution_count": 37,
   "metadata": {},
   "outputs": [],
   "source": [
    "gen_train = MEL_Generator_Short(\n",
    "    df=train,\n",
    "    n_mels=IMG_SIZE,\n",
    "    seed=SEED,\n",
    "    sample_rate=SAMPLE_RATE,\n",
    "    mel_image_size=IMG_SIZE,\n",
    "    batch_size=BATCH_SIZE,\n",
    "    n_classes=NUM_CLASSES,\n",
    "    signal_lenght=SIGNAL_LENGTH,\n",
    "    mel_provider=mel_pr,\n",
    "    wave_dir=\"/app/_data/npy/waves_npy/\",\n",
    "    short_mel_dir=\"/app/_data/npy/short_mels/\",\n",
    "    norm_mel=True,\n",
    "    convert_to_rgb=True,\n",
    "    shuffle=True,\n",
    "    return_primary_labels=False,\n",
    "    return_secondary_labels=False,\n",
    "    return_concat_labels=True,\n",
    "    augment=False,\n",
    ")\n",
    "\n",
    "gen_valid = MEL_Generator_Short(\n",
    "    df=valid,\n",
    "    n_mels=IMG_SIZE,\n",
    "    seed=SEED,\n",
    "    sample_rate=SAMPLE_RATE,\n",
    "    mel_image_size=IMG_SIZE,\n",
    "    batch_size=BATCH_SIZE,\n",
    "    n_classes=NUM_CLASSES,\n",
    "    signal_lenght=SIGNAL_LENGTH,\n",
    "    mel_provider=mel_pr,\n",
    "    wave_dir=\"/app/_data/npy/waves_npy/\",\n",
    "    short_mel_dir=\"/app/_data/npy/short_mels/\",\n",
    "    norm_mel=True,\n",
    "    convert_to_rgb=True,\n",
    "    shuffle=False,\n",
    "    return_primary_labels=False,\n",
    "    return_secondary_labels=False,\n",
    "    return_concat_labels=True,\n",
    "    augment=False,\n",
    ")"
   ]
  },
  {
   "cell_type": "code",
   "execution_count": 38,
   "metadata": {},
   "outputs": [],
   "source": [
    "# i"
   ]
  },
  {
   "cell_type": "code",
   "execution_count": 39,
   "metadata": {},
   "outputs": [],
   "source": [
    "# for i in tqdm(range(55500, 155500)):\n",
    "# #     print(i)\n",
    "#     a = gen_train._get_one(i)"
   ]
  },
  {
   "cell_type": "code",
   "execution_count": 40,
   "metadata": {},
   "outputs": [],
   "source": [
    "model = model=keras.models.load_model('/app/_data/models/sites/sne/eff0_sne.h5')"
   ]
  },
  {
   "cell_type": "code",
   "execution_count": 41,
   "metadata": {},
   "outputs": [],
   "source": [
    "BATCH_SIZE = 2000"
   ]
  },
  {
   "cell_type": "code",
   "execution_count": 42,
   "metadata": {},
   "outputs": [
    {
     "name": "stdout",
     "output_type": "stream",
     "text": [
      "Epoch 1/100\n",
      "  1/214 [..............................] - ETA: 0s - loss: 0.0111 - acc: 0.8800 - recall: 0.4393 - precision: 0.9400 - f1_score: 0.7566WARNING:tensorflow:From /usr/local/lib/python3.8/dist-packages/tensorflow/python/ops/summary_ops_v2.py:1277: stop (from tensorflow.python.eager.profiler) is deprecated and will be removed after 2020-07-01.\n",
      "Instructions for updating:\n",
      "use `tf.profiler.experimental.stop` instead.\n",
      "214/214 [==============================] - ETA: 0s - loss: 0.0098 - acc: 0.9142 - recall: 0.4320 - precision: 0.9677 - f1_score: 0.7714\n",
      "Epoch 00001: val_f1_score improved from -inf to 0.77603, saving model to /app/_data/models/sites/sne/eff0_sne_200.h5\n",
      "214/214 [==============================] - 46s 215ms/step - loss: 0.0098 - acc: 0.9142 - recall: 0.4320 - precision: 0.9677 - f1_score: 0.7714 - val_loss: 0.0099 - val_acc: 0.9286 - val_recall: 0.3965 - val_precision: 0.9848 - val_f1_score: 0.7760\n",
      "Epoch 2/100\n",
      "214/214 [==============================] - ETA: 0s - loss: 0.0100 - acc: 0.9125 - recall: 0.4266 - precision: 0.9678 - f1_score: 0.7683\n",
      "Epoch 00002: val_f1_score improved from 0.77603 to 0.77787, saving model to /app/_data/models/sites/sne/eff0_sne_200.h5\n",
      "214/214 [==============================] - 43s 200ms/step - loss: 0.0100 - acc: 0.9125 - recall: 0.4266 - precision: 0.9678 - f1_score: 0.7683 - val_loss: 0.0096 - val_acc: 0.9297 - val_recall: 0.4221 - val_precision: 0.9748 - val_f1_score: 0.7779\n",
      "Epoch 3/100\n",
      "214/214 [==============================] - ETA: 0s - loss: 0.0097 - acc: 0.9133 - recall: 0.4341 - precision: 0.9682 - f1_score: 0.7724\n",
      "Epoch 00003: val_f1_score did not improve from 0.77787\n",
      "214/214 [==============================] - 38s 180ms/step - loss: 0.0097 - acc: 0.9133 - recall: 0.4341 - precision: 0.9682 - f1_score: 0.7724 - val_loss: 0.0110 - val_acc: 0.9130 - val_recall: 0.3738 - val_precision: 0.9780 - val_f1_score: 0.7639\n",
      "Epoch 4/100\n",
      "214/214 [==============================] - ETA: 0s - loss: 0.0098 - acc: 0.9184 - recall: 0.4255 - precision: 0.9671 - f1_score: 0.7710\n",
      "Epoch 00004: val_f1_score did not improve from 0.77787\n",
      "214/214 [==============================] - 39s 182ms/step - loss: 0.0098 - acc: 0.9184 - recall: 0.4255 - precision: 0.9671 - f1_score: 0.7710 - val_loss: 0.0095 - val_acc: 0.9297 - val_recall: 0.4319 - val_precision: 0.9724 - val_f1_score: 0.7768\n",
      "Epoch 5/100\n",
      "214/214 [==============================] - ETA: 0s - loss: 0.0098 - acc: 0.9165 - recall: 0.4311 - precision: 0.9687 - f1_score: 0.7730- ETA: 8s - loss: 0.0097 - acc: 0.9140 \n",
      "Epoch 00005: val_f1_score did not improve from 0.77787\n",
      "214/214 [==============================] - 40s 189ms/step - loss: 0.0098 - acc: 0.9165 - recall: 0.4311 - precision: 0.9687 - f1_score: 0.7730 - val_loss: 0.0096 - val_acc: 0.9297 - val_recall: 0.4257 - val_precision: 0.9750 - val_f1_score: 0.7775\n",
      "Epoch 6/100\n",
      "214/214 [==============================] - ETA: 0s - loss: 0.0097 - acc: 0.9239 - recall: 0.4314 - precision: 0.9708 - f1_score: 0.7761\n",
      "Epoch 00006: val_f1_score did not improve from 0.77787\n",
      "214/214 [==============================] - 42s 196ms/step - loss: 0.0097 - acc: 0.9239 - recall: 0.4314 - precision: 0.9708 - f1_score: 0.7761 - val_loss: 0.0095 - val_acc: 0.9297 - val_recall: 0.4071 - val_precision: 0.9792 - val_f1_score: 0.7770\n",
      "Epoch 7/100\n",
      "214/214 [==============================] - ETA: 0s - loss: 0.0097 - acc: 0.9203 - recall: 0.4318 - precision: 0.9725 - f1_score: 0.7749\n",
      "Epoch 00007: val_f1_score did not improve from 0.77787\n",
      "\n",
      "Epoch 00007: ReduceLROnPlateau reducing learning rate to 0.0019371022470295429.\n",
      "214/214 [==============================] - 42s 198ms/step - loss: 0.0097 - acc: 0.9203 - recall: 0.4318 - precision: 0.9725 - f1_score: 0.7749 - val_loss: 0.0094 - val_acc: 0.9292 - val_recall: 0.4385 - val_precision: 0.9718 - val_f1_score: 0.7767\n",
      "Epoch 8/100\n",
      "214/214 [==============================] - ETA: 0s - loss: 0.0096 - acc: 0.9236 - recall: 0.4344 - precision: 0.9717 - f1_score: 0.7773\n",
      "Epoch 00008: val_f1_score improved from 0.77787 to 0.78333, saving model to /app/_data/models/sites/sne/eff0_sne_200.h5\n",
      "214/214 [==============================] - 44s 207ms/step - loss: 0.0096 - acc: 0.9236 - recall: 0.4344 - precision: 0.9717 - f1_score: 0.7773 - val_loss: 0.0093 - val_acc: 0.9357 - val_recall: 0.4412 - val_precision: 0.9715 - val_f1_score: 0.7833\n",
      "Epoch 9/100\n",
      "214/214 [==============================] - ETA: 0s - loss: 0.0096 - acc: 0.9223 - recall: 0.4346 - precision: 0.9719 - f1_score: 0.7773\n",
      "Epoch 00009: val_f1_score did not improve from 0.78333\n",
      "214/214 [==============================] - 43s 200ms/step - loss: 0.0096 - acc: 0.9223 - recall: 0.4346 - precision: 0.9719 - f1_score: 0.7773 - val_loss: 0.0094 - val_acc: 0.9243 - val_recall: 0.4444 - val_precision: 0.9712 - val_f1_score: 0.7745\n",
      "Epoch 10/100\n",
      "214/214 [==============================] - ETA: 0s - loss: 0.0095 - acc: 0.9261 - recall: 0.4326 - precision: 0.9729 - f1_score: 0.7783\n",
      "Epoch 00010: val_f1_score did not improve from 0.78333\n",
      "214/214 [==============================] - 41s 190ms/step - loss: 0.0095 - acc: 0.9261 - recall: 0.4326 - precision: 0.9729 - f1_score: 0.7783 - val_loss: 0.0092 - val_acc: 0.9330 - val_recall: 0.4512 - val_precision: 0.9764 - val_f1_score: 0.7812\n",
      "Epoch 11/100\n",
      "214/214 [==============================] - ETA: 0s - loss: 0.0096 - acc: 0.9266 - recall: 0.4264 - precision: 0.9745 - f1_score: 0.7747\n",
      "Epoch 00011: val_f1_score did not improve from 0.78333\n",
      "214/214 [==============================] - 40s 187ms/step - loss: 0.0096 - acc: 0.9266 - recall: 0.4264 - precision: 0.9745 - f1_score: 0.7747 - val_loss: 0.0098 - val_acc: 0.9184 - val_recall: 0.4594 - val_precision: 0.9675 - val_f1_score: 0.7707\n",
      "Epoch 12/100\n",
      "214/214 [==============================] - ETA: 0s - loss: 0.0094 - acc: 0.9279 - recall: 0.4349 - precision: 0.9752 - f1_score: 0.7789  ETA: 13s - loss: 0.0093 - acc - ETA: 7s - loss: 0.0093 - acc: 0.9285 - reca\n",
      "Epoch 00012: val_f1_score did not improve from 0.78333\n",
      "214/214 [==============================] - 40s 185ms/step - loss: 0.0094 - acc: 0.9279 - recall: 0.4349 - precision: 0.9752 - f1_score: 0.7789 - val_loss: 0.0095 - val_acc: 0.9254 - val_recall: 0.5007 - val_precision: 0.9620 - val_f1_score: 0.7740\n",
      "Epoch 13/100\n",
      "214/214 [==============================] - ETA: 0s - loss: 0.0095 - acc: 0.9234 - recall: 0.4338 - precision: 0.9733 - f1_score: 0.7764- ETA: 6s - loss: 0.0095 - acc: 0.9259 - recall: 0.43\n",
      "Epoch 00013: val_f1_score did not improve from 0.78333\n",
      "\n",
      "Epoch 00013: ReduceLROnPlateau reducing learning rate to 0.0017433920642361046.\n",
      "214/214 [==============================] - 40s 189ms/step - loss: 0.0095 - acc: 0.9234 - recall: 0.4338 - precision: 0.9733 - f1_score: 0.7764 - val_loss: 0.0093 - val_acc: 0.9259 - val_recall: 0.4251 - val_precision: 0.9755 - val_f1_score: 0.7742\n",
      "Epoch 14/100\n",
      "214/214 [==============================] - ETA: 0s - loss: 0.0092 - acc: 0.9325 - recall: 0.4385 - precision: 0.9759 - f1_score: 0.7849\n",
      "Epoch 00014: val_f1_score improved from 0.78333 to 0.78494, saving model to /app/_data/models/sites/sne/eff0_sne_200.h5\n",
      "214/214 [==============================] - 40s 189ms/step - loss: 0.0092 - acc: 0.9325 - recall: 0.4385 - precision: 0.9759 - f1_score: 0.7849 - val_loss: 0.0094 - val_acc: 0.9389 - val_recall: 0.5114 - val_precision: 0.9599 - val_f1_score: 0.7849\n",
      "Epoch 15/100\n",
      "214/214 [==============================] - ETA: 0s - loss: 0.0093 - acc: 0.9279 - recall: 0.4383 - precision: 0.9726 - f1_score: 0.7817\n",
      "Epoch 00015: val_f1_score did not improve from 0.78494\n",
      "214/214 [==============================] - 39s 182ms/step - loss: 0.0093 - acc: 0.9279 - recall: 0.4383 - precision: 0.9726 - f1_score: 0.7817 - val_loss: 0.0091 - val_acc: 0.9368 - val_recall: 0.4426 - val_precision: 0.9760 - val_f1_score: 0.7836\n",
      "Epoch 16/100\n",
      "214/214 [==============================] - ETA: 0s - loss: 0.0093 - acc: 0.9279 - recall: 0.4361 - precision: 0.9762 - f1_score: 0.7794\n",
      "Epoch 00016: val_f1_score improved from 0.78494 to 0.78790, saving model to /app/_data/models/sites/sne/eff0_sne_200.h5\n",
      "214/214 [==============================] - 40s 188ms/step - loss: 0.0093 - acc: 0.9279 - recall: 0.4361 - precision: 0.9762 - f1_score: 0.7794 - val_loss: 0.0090 - val_acc: 0.9438 - val_recall: 0.4355 - val_precision: 0.9826 - val_f1_score: 0.7879\n",
      "Epoch 17/100\n",
      "214/214 [==============================] - ETA: 0s - loss: 0.0093 - acc: 0.9354 - recall: 0.4357 - precision: 0.9750 - f1_score: 0.7829\n",
      "Epoch 00017: val_f1_score did not improve from 0.78790\n",
      "214/214 [==============================] - 40s 186ms/step - loss: 0.0093 - acc: 0.9354 - recall: 0.4357 - precision: 0.9750 - f1_score: 0.7829 - val_loss: 0.0093 - val_acc: 0.9286 - val_recall: 0.4453 - val_precision: 0.9727 - val_f1_score: 0.7776\n",
      "Epoch 18/100\n",
      "214/214 [==============================] - ETA: 0s - loss: 0.0091 - acc: 0.9364 - recall: 0.4390 - precision: 0.9759 - f1_score: 0.7862- ETA: 6s - loss: 0.0091 - acc: 0.9380 - recall: 0.4386 - precision: 0.9781 - f1_score: 0. - ETA: 5s - loss: 0.0091 - acc: 0.9379 - recall: 0.43\n",
      "Epoch 00018: val_f1_score did not improve from 0.78790\n",
      "214/214 [==============================] - 40s 185ms/step - loss: 0.0091 - acc: 0.9364 - recall: 0.4390 - precision: 0.9759 - f1_score: 0.7862 - val_loss: 0.0092 - val_acc: 0.9346 - val_recall: 0.4428 - val_precision: 0.9750 - val_f1_score: 0.7811\n",
      "Epoch 19/100\n",
      "214/214 [==============================] - ETA: 0s - loss: 0.0090 - acc: 0.9374 - recall: 0.4411 - precision: 0.9755 - f1_score: 0.7879- ETA: 8s - loss: 0.0090 - acc: \n",
      "Epoch 00019: val_f1_score did not improve from 0.78790\n",
      "214/214 [==============================] - 39s 182ms/step - loss: 0.0090 - acc: 0.9374 - recall: 0.4411 - precision: 0.9755 - f1_score: 0.7879 - val_loss: 0.0091 - val_acc: 0.9416 - val_recall: 0.4201 - val_precision: 0.9830 - val_f1_score: 0.7861\n",
      "Epoch 20/100\n",
      "214/214 [==============================] - ETA: 0s - loss: 0.0091 - acc: 0.9346 - recall: 0.4402 - precision: 0.9768 - f1_score: 0.7859\n",
      "Epoch 00020: val_f1_score did not improve from 0.78790\n",
      "214/214 [==============================] - 39s 180ms/step - loss: 0.0091 - acc: 0.9346 - recall: 0.4402 - precision: 0.9768 - f1_score: 0.7859 - val_loss: 0.0095 - val_acc: 0.9308 - val_recall: 0.5064 - val_precision: 0.9542 - val_f1_score: 0.7789\n",
      "Epoch 21/100\n",
      "214/214 [==============================] - ETA: 0s - loss: 0.0091 - acc: 0.9327 - recall: 0.4429 - precision: 0.9772 - f1_score: 0.7850\n",
      "Epoch 00021: val_f1_score did not improve from 0.78790\n",
      "\n",
      "Epoch 00021: ReduceLROnPlateau reducing learning rate to 0.001569052878767252.\n",
      "214/214 [==============================] - 38s 179ms/step - loss: 0.0091 - acc: 0.9327 - recall: 0.4429 - precision: 0.9772 - f1_score: 0.7850 - val_loss: 0.0092 - val_acc: 0.9373 - val_recall: 0.4764 - val_precision: 0.9695 - val_f1_score: 0.7830\n",
      "Epoch 22/100\n",
      "214/214 [==============================] - ETA: 0s - loss: 0.0089 - acc: 0.9392 - recall: 0.4443 - precision: 0.9802 - f1_score: 0.7897\n",
      "Epoch 00022: val_f1_score did not improve from 0.78790\n",
      "214/214 [==============================] - 38s 180ms/step - loss: 0.0089 - acc: 0.9392 - recall: 0.4443 - precision: 0.9802 - f1_score: 0.7897 - val_loss: 0.0098 - val_acc: 0.9227 - val_recall: 0.4105 - val_precision: 0.9794 - val_f1_score: 0.7723\n",
      "Epoch 23/100\n",
      "214/214 [==============================] - ETA: 0s - loss: 0.0092 - acc: 0.9350 - recall: 0.4363 - precision: 0.9757 - f1_score: 0.7835\n",
      "Epoch 00023: val_f1_score did not improve from 0.78790\n",
      "214/214 [==============================] - 38s 178ms/step - loss: 0.0092 - acc: 0.9350 - recall: 0.4363 - precision: 0.9757 - f1_score: 0.7835 - val_loss: 0.0091 - val_acc: 0.9395 - val_recall: 0.4764 - val_precision: 0.9731 - val_f1_score: 0.7855\n",
      "Epoch 24/100\n",
      "214/214 [==============================] - ETA: 0s - loss: 0.0092 - acc: 0.9344 - recall: 0.4344 - precision: 0.9775 - f1_score: 0.7808\n",
      "Epoch 00024: val_f1_score did not improve from 0.78790\n",
      "214/214 [==============================] - 38s 178ms/step - loss: 0.0092 - acc: 0.9344 - recall: 0.4344 - precision: 0.9775 - f1_score: 0.7808 - val_loss: 0.0093 - val_acc: 0.9368 - val_recall: 0.4866 - val_precision: 0.9662 - val_f1_score: 0.7838\n",
      "Epoch 25/100\n",
      "214/214 [==============================] - ETA: 0s - loss: 0.0090 - acc: 0.9364 - recall: 0.4417 - precision: 0.9794 - f1_score: 0.7861- ETA: 9s - loss: 0.0090 - acc\n",
      "Epoch 00025: val_f1_score did not improve from 0.78790\n",
      "214/214 [==============================] - 39s 180ms/step - loss: 0.0090 - acc: 0.9364 - recall: 0.4417 - precision: 0.9794 - f1_score: 0.7861 - val_loss: 0.0095 - val_acc: 0.9292 - val_recall: 0.4214 - val_precision: 0.9748 - val_f1_score: 0.7785\n",
      "Epoch 26/100\n",
      "214/214 [==============================] - ETA: 0s - loss: 0.0091 - acc: 0.9391 - recall: 0.4358 - precision: 0.9773 - f1_score: 0.7848\n",
      "Epoch 00026: val_f1_score did not improve from 0.78790\n",
      "\n",
      "Epoch 00026: ReduceLROnPlateau reducing learning rate to 0.0014121476328000427.\n",
      "214/214 [==============================] - 39s 182ms/step - loss: 0.0091 - acc: 0.9391 - recall: 0.4358 - precision: 0.9773 - f1_score: 0.7848 - val_loss: 0.0097 - val_acc: 0.9249 - val_recall: 0.4419 - val_precision: 0.9677 - val_f1_score: 0.7740\n",
      "Epoch 27/100\n",
      "214/214 [==============================] - ETA: 0s - loss: 0.0088 - acc: 0.9417 - recall: 0.4469 - precision: 0.9775 - f1_score: 0.7934\n",
      "Epoch 00027: val_f1_score did not improve from 0.78790\n",
      "214/214 [==============================] - 38s 178ms/step - loss: 0.0088 - acc: 0.9417 - recall: 0.4469 - precision: 0.9775 - f1_score: 0.7934 - val_loss: 0.0088 - val_acc: 0.9416 - val_recall: 0.4382 - val_precision: 0.9822 - val_f1_score: 0.7871\n",
      "Epoch 28/100\n",
      "214/214 [==============================] - ETA: 0s - loss: 0.0090 - acc: 0.9404 - recall: 0.4367 - precision: 0.9793 - f1_score: 0.7848- ETA: 6s - loss: 0.0091 - acc: 0.9393 - recall: 0.4352 - precision: 0.9799 - f1_ - ETA: 4s - loss: 0.0091 - acc: 0.9390 - recall: 0.4348 - precision: 0.98 - ETA: 1s - loss: 0.0091 - acc: 0.9400 - recall: 0.4366 - precision: 0.9793 - f1_scorRestoring model weights from the end of the best epoch.\n",
      "\n",
      "Epoch 00028: val_f1_score did not improve from 0.78790\n",
      "214/214 [==============================] - 39s 180ms/step - loss: 0.0090 - acc: 0.9404 - recall: 0.4367 - precision: 0.9793 - f1_score: 0.7848 - val_loss: 0.0091 - val_acc: 0.9405 - val_recall: 0.4952 - val_precision: 0.9655 - val_f1_score: 0.7859\n",
      "Epoch 00028: early stopping\n"
     ]
    }
   ],
   "source": [
    "history = model.fit(\n",
    "    gen_train,\n",
    "    validation_data=gen_valid,\n",
    "    epochs=100,\n",
    "    steps_per_epoch=train.shape[0] // BATCH_SIZE,\n",
    "    validation_steps=valid.shape[0] // BATCH_SIZE,\n",
    "    verbose=1,\n",
    "    workers=30,\n",
    "    callbacks=callbacks,\n",
    ")"
   ]
  },
  {
   "cell_type": "code",
   "execution_count": null,
   "metadata": {},
   "outputs": [],
   "source": [
    "import kaggle"
   ]
  },
  {
   "cell_type": "code",
   "execution_count": 57,
   "metadata": {},
   "outputs": [
    {
     "name": "stdout",
     "output_type": "stream",
     "text": [
      "Warning: Your Kaggle API key is readable by other users on this system! To fix this, you can run 'chmod 600 /app/kaggle.json'\n",
      "Data package template written to: /app/_data/models/Eff01/dataset-metadata.json\n"
     ]
    }
   ],
   "source": [
    "! kaggle datasets init -p /app/_data/models/Eff2_3"
   ]
  },
  {
   "cell_type": "code",
   "execution_count": 60,
   "metadata": {},
   "outputs": [
    {
     "name": "stdout",
     "output_type": "stream",
     "text": [
      "Warning: Your Kaggle API key is readable by other users on this system! To fix this, you can run 'chmod 600 /app/kaggle.json'\n",
      "Starting upload for file dict_birds.json\n",
      "100%|██████████████████████████████████████| 5.86k/5.86k [00:01<00:00, 3.59kB/s]\n",
      "Upload successful: dict_birds.json (6KB)\n",
      "Starting upload for file eff0_1.h5\n",
      "100%|███████████████████████████████████████| 52.7M/52.7M [01:21<00:00, 675kB/s]\n",
      "Upload successful: eff0_1.h5 (53MB)\n",
      "Skipping folder: .ipynb_checkpoints; use '--dir-mode' to upload folders\n",
      "Your private Dataset is being created. Please check progress at https://www.kaggle.com/nataliayurasova/Eff01Initial\n"
     ]
    }
   ],
   "source": [
    "! kaggle datasets create -p /app/_data/models/Eff2_3"
   ]
  },
  {
   "cell_type": "code",
   "execution_count": null,
   "metadata": {},
   "outputs": [],
   "source": []
  }
 ],
 "metadata": {
  "kernelspec": {
   "display_name": "Python 3",
   "language": "python",
   "name": "python3"
  },
  "language_info": {
   "codemirror_mode": {
    "name": "ipython",
    "version": 3
   },
   "file_extension": ".py",
   "mimetype": "text/x-python",
   "name": "python",
   "nbconvert_exporter": "python",
   "pygments_lexer": "ipython3",
   "version": "3.8.5"
  }
 },
 "nbformat": 4,
 "nbformat_minor": 4
}
