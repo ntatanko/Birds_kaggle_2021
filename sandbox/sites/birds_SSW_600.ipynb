{
 "cells": [
  {
   "cell_type": "code",
   "execution_count": 1,
   "metadata": {},
   "outputs": [],
   "source": [
    "import os\n",
    "import shutil\n",
    "import warnings\n",
    "\n",
    "import numpy as np\n",
    "import pandas as pd\n",
    "import plotly.graph_objects as go\n",
    "import torchaudio\n",
    "\n",
    "warnings.filterwarnings(action=\"ignore\")\n",
    "from IPython.core.interactiveshell import InteractiveShell\n",
    "\n",
    "InteractiveShell.ast_node_interactivity = \"all\"\n",
    "import json\n",
    "\n",
    "import geopandas\n",
    "import librosa\n",
    "import librosa.display\n",
    "import matplotlib.pyplot as plt\n",
    "import scipy.stats as st\n",
    "import seaborn as sns\n",
    "import soundfile\n",
    "import tensorflow as tf\n",
    "import tensorflow_addons as tfa\n",
    "import torch\n",
    "\n",
    "%matplotlib inline\n",
    "from PIL import Image\n",
    "from sklearn.model_selection import train_test_split\n",
    "from sklearn.utils import shuffle\n",
    "from tensorflow import keras\n",
    "from tensorflow.keras.models import Sequential\n",
    "from tensorflow.keras.optimizers import Adam\n",
    "from torchaudio.transforms import MelSpectrogram\n",
    "from tqdm import tqdm\n",
    "\n",
    "from src.gen_short import MEL_Generator_Short, Mel_Provider\n",
    "from src.prepare_dataset import (\n",
    "    choose_ids,\n",
    "    make_dict_birds,\n",
    "    make_intervals,\n",
    "    make_intervals_upsampling,\n",
    "    prepare_dataset,\n",
    ")"
   ]
  },
  {
   "cell_type": "code",
   "execution_count": 2,
   "metadata": {},
   "outputs": [],
   "source": [
    "birds_SSW_600 = list(np.load(\"/app/sandbox/sites/birds_SSW_600.npy\", allow_pickle=True))\n",
    "# birds_SSW_600.append('nocall')\n",
    "birds_SSW_600.sort()"
   ]
  },
  {
   "cell_type": "code",
   "execution_count": 3,
   "metadata": {},
   "outputs": [
    {
     "data": {
      "text/plain": [
       "168"
      ]
     },
     "execution_count": 3,
     "metadata": {},
     "output_type": "execute_result"
    }
   ],
   "source": [
    "len(birds_SSW_600)"
   ]
  },
  {
   "cell_type": "code",
   "execution_count": 4,
   "metadata": {},
   "outputs": [],
   "source": [
    "SEED = 42\n",
    "IMG_SIZE = 224\n",
    "SAMPLE_RATE = 32000\n",
    "N_FFT = 2048\n",
    "SIGNAL_LENGTH = 5\n",
    "FREQ_MIN = 0\n",
    "FREQ_MAX = 16000\n",
    "WIN_LENGHT = 1024\n",
    "BATCH_SIZE = 350"
   ]
  },
  {
   "cell_type": "markdown",
   "metadata": {},
   "source": [
    "## Initial dataframes"
   ]
  },
  {
   "cell_type": "code",
   "execution_count": 5,
   "metadata": {},
   "outputs": [
    {
     "data": {
      "text/plain": [
       "(32794, 24)"
      ]
     },
     "execution_count": 5,
     "metadata": {},
     "output_type": "execute_result"
    }
   ],
   "source": [
    "all_audio_init = pd.read_csv(\"/app/_data/all_audio_initial.csv\")\n",
    "all_audio = all_audio_init.query(\"primary_label in @birds_SSW_600\").reset_index(drop=True)\n",
    "all_audio.shape"
   ]
  },
  {
   "cell_type": "code",
   "execution_count": 6,
   "metadata": {},
   "outputs": [
    {
     "name": "stderr",
     "output_type": "stream",
     "text": [
      "100%|██████████| 32794/32794 [00:00<00:00, 53948.65it/s]\n"
     ]
    },
    {
     "data": {
      "text/plain": [
       "3332"
      ]
     },
     "execution_count": 6,
     "metadata": {},
     "output_type": "execute_result"
    }
   ],
   "source": [
    "list_ixs = []\n",
    "for i in tqdm(all_audio.index.tolist()):\n",
    "    sec_labels = all_audio.loc[i,'secondary_labels']\n",
    "    if type(sec_labels)!=float:\n",
    "        sec_labels = sec_labels.split()\n",
    "        for j in sec_labels:\n",
    "            if j not in birds_SSW_600:\n",
    "                list_ixs.append(i)\n",
    "len(set(list_ixs))"
   ]
  },
  {
   "cell_type": "code",
   "execution_count": 7,
   "metadata": {},
   "outputs": [],
   "source": [
    "list_ixs = set(list_ixs)"
   ]
  },
  {
   "cell_type": "code",
   "execution_count": 8,
   "metadata": {},
   "outputs": [
    {
     "data": {
      "text/plain": [
       "(29462, 24)"
      ]
     },
     "execution_count": 8,
     "metadata": {},
     "output_type": "execute_result"
    }
   ],
   "source": [
    "all_audio = all_audio.query(\"index not in @list_ixs\").reset_index(drop=True)\n",
    "all_audio.shape"
   ]
  },
  {
   "cell_type": "code",
   "execution_count": 9,
   "metadata": {},
   "outputs": [],
   "source": [
    "dict_birds, all_audio = make_dict_birds(all_audio)"
   ]
  },
  {
   "cell_type": "code",
   "execution_count": 10,
   "metadata": {},
   "outputs": [],
   "source": [
    "file_json = open(\"/app/_data/models/sites/ssw/dict_birds_ssw_600.json\", \"w\")\n",
    "json.dump(dict_birds, file_json)\n",
    "file_json.close()"
   ]
  },
  {
   "cell_type": "code",
   "execution_count": 11,
   "metadata": {},
   "outputs": [],
   "source": [
    "# dict_weights = (1 / all_audio[\"primary_label\"].value_counts()).to_dict()\n",
    "# all_audio[\"class_weights\"] = all_audio[\"primary_label\"].replace(dict_weights)\n",
    "# all_audio[\"class_weights\"] = all_audio[\"class_weights\"] * all_audio[\"rating\"]\n",
    "\n",
    "# short_audio = all_audio[all_audio[\"rating\"] != 6].reset_index(\n",
    "#     drop=True\n",
    "# )  # only short audio\n",
    "# train_sondscapes = all_audio[all_audio[\"rating\"] == 6].reset_index(\n",
    "#     drop=True\n",
    "# )  # only train_soundscapes\n",
    "# short_audio.shape\n",
    "# train_sondscapes.shape\n",
    "\n",
    "# len(dict_birds)\n",
    "\n",
    "# train_sondscapes['duration']=600\n",
    "\n",
    "# ## Make intervals for short audio\n",
    "\n",
    "# array_for_cut = short_audio[[\"filename\", \"duration\", \"class_weights\"]].values\n",
    "\n",
    "# birds_intervals = make_intervals(array_for_cut, 5, max_intervals=200, max_lenght=400)\n",
    "# birds_intervals.shape\n",
    "\n",
    "# birds_intervals[\"row_id\"] = birds_intervals.index\n",
    "\n",
    "# birds_intervals[\"filename\"].value_counts()\n",
    "\n",
    "# birds_intervals_sample = birds_intervals.sample(\n",
    "#     n=500000, weights=\"class_weights\", random_state=SEED\n",
    "# )\n",
    "\n",
    "# short_audio = birds_intervals_sample.merge(\n",
    "#     short_audio[\n",
    "#         [\n",
    "#             \"filename\",\n",
    "#             \"primary_label\",\n",
    "#             \"secondary_labels\",\n",
    "#             \"label_id\",\n",
    "#             \"secondary_labels_id\",\n",
    "#             \"duration\",\n",
    "#             \"rating\",\n",
    "#             \"year\",\n",
    "#             \"file_path\",\n",
    "#             \"frames\",\n",
    "#             \"sin_month\",\n",
    "#             \"cos_month\",\n",
    "#             \"sin_longitude\",\n",
    "#             \"cos_longitude\",\n",
    "#             \"latitude\",\n",
    "#             \"norm_latitude\",\n",
    "#             \"date\",\n",
    "#         ]\n",
    "#     ],\n",
    "#     on=\"filename\",\n",
    "#     how=\"left\",\n",
    "# )\n",
    "\n",
    "# short_audio[\"filename\"].value_counts()\n",
    "\n",
    "# short_audio[\"end_sec\"] = short_audio[\"end_sec\"].apply(lambda x: x if x > 5 else 5)\n",
    "\n",
    "# short_audio[\"start_sec\"] = short_audio[\"end_sec\"] - 5\n",
    "\n",
    "# # concat short+long\n",
    "\n",
    "# short_audio = prepare_dataset(short_audio)\n",
    "# train_sondscapes = prepare_dataset(train_sondscapes)\n",
    "\n",
    "# final_audio = (\n",
    "#     pd.concat(\n",
    "#         [short_audio, train_sondscapes, train_sondscapes, train_sondscapes],\n",
    "#         axis=0,\n",
    "#         ignore_index=True,\n",
    "#     )\n",
    "#     .sample(frac=1, random_state=SEED)\n",
    "#     .reset_index(drop=True)\n",
    "# )\n",
    "# final_audio.shape\n",
    "\n",
    "# final_audio[\"primary_label\"].value_counts().tail(20)\n",
    "\n",
    "# final_audio.query(\"end_sec > duration and rating!=6\")[['end_sec', 'duration']]\n",
    "\n",
    "# for ix in final_audio.query(\"end_sec > duration and rating!=6\")[['end_sec', 'duration']].index:\n",
    "#     final_audio.loc[ix, 'end_sec']= final_audio.loc[ix, 'duration']"
   ]
  },
  {
   "cell_type": "markdown",
   "metadata": {},
   "source": [
    "# train_test_split"
   ]
  },
  {
   "cell_type": "code",
   "execution_count": 12,
   "metadata": {},
   "outputs": [],
   "source": [
    "# final_audio.to_csv('/app/_data/models/sites/ssw/final_audio.csv', index=False)\n",
    "final_audio= pd.read_csv('/app/_data/models/sites/ssw/final_audio.csv')"
   ]
  },
  {
   "cell_type": "code",
   "execution_count": 13,
   "metadata": {},
   "outputs": [],
   "source": [
    "train, valid = train_test_split(final_audio, train_size=0.85, random_state=SEED)\n",
    "train = train.reset_index(drop=True)\n",
    "valid = valid.reset_index(drop=True)"
   ]
  },
  {
   "cell_type": "code",
   "execution_count": 14,
   "metadata": {},
   "outputs": [
    {
     "data": {
      "text/plain": [
       "nan"
      ]
     },
     "execution_count": 14,
     "metadata": {},
     "output_type": "execute_result"
    }
   ],
   "source": [
    "final_audio[final_audio[\"end_sec\"] > final_audio[\"duration\"]][\"rating\"].mean()"
   ]
  },
  {
   "cell_type": "code",
   "execution_count": 15,
   "metadata": {},
   "outputs": [
    {
     "data": {
      "text/plain": [
       "0"
      ]
     },
     "execution_count": 15,
     "metadata": {},
     "output_type": "execute_result"
    }
   ],
   "source": [
    "final_audio[\"end_sec\"].isna().sum()"
   ]
  },
  {
   "cell_type": "code",
   "execution_count": 16,
   "metadata": {},
   "outputs": [],
   "source": [
    "mel_pr = Mel_Provider(\n",
    "    n_fft=N_FFT,\n",
    "    win_length=WIN_LENGHT,\n",
    "    n_mels=IMG_SIZE,\n",
    "    sample_rate=SAMPLE_RATE,\n",
    "    mel_image_size=IMG_SIZE,\n",
    "    min_frequency=FREQ_MIN,\n",
    "    max_frequency=FREQ_MAX,\n",
    "    signal_lenght=SIGNAL_LENGTH,\n",
    ")"
   ]
  },
  {
   "cell_type": "code",
   "execution_count": 17,
   "metadata": {},
   "outputs": [],
   "source": [
    "callbacks = [\n",
    "    keras.callbacks.EarlyStopping(\n",
    "        monitor=\"val_f1_score\",\n",
    "        patience=12,\n",
    "        restore_best_weights=True,\n",
    "        verbose=1,\n",
    "        mode=\"max\",\n",
    "    ),\n",
    "    keras.callbacks.ModelCheckpoint(\n",
    "        \"/app/_data/models/sites/ssw/eff0_ssw.h5\",\n",
    "        monitor=\"val_f1_score\",\n",
    "        verbose=1,\n",
    "        save_best_only=True,\n",
    "        save_weights_only=False,\n",
    "        mode=\"max\",\n",
    "        save_freq=\"epoch\",\n",
    "    ),\n",
    "    keras.callbacks.ReduceLROnPlateau(\n",
    "        monitor=\"val_f1_score\",\n",
    "        factor=0.9,\n",
    "        patience=5,\n",
    "        verbose=1,\n",
    "        mode=\"max\",\n",
    "        min_delta=1e-4,\n",
    "        min_lr=0.00000001,\n",
    "    ),\n",
    "    keras.callbacks.TensorBoard(log_dir=\"/app/.tensorboard/ssw_0_2/\", histogram_freq=0),\n",
    "    keras.callbacks.experimental.BackupAndRestore(\n",
    "        \"/app/_data/models/sites/ssw/backup/\"\n",
    "    ),\n",
    "    keras.callbacks.TerminateOnNaN(),\n",
    "]"
   ]
  },
  {
   "cell_type": "code",
   "execution_count": 18,
   "metadata": {},
   "outputs": [],
   "source": [
    "def get_model():\n",
    "    inputs = keras.Input(shape=(IMG_SIZE, IMG_SIZE, 3))\n",
    "    base_model = keras.applications.EfficientNetB0(\n",
    "        weights=\"imagenet\", include_top=False\n",
    "    )\n",
    "    x = base_model(inputs)\n",
    "    x = keras.layers.GlobalAveragePooling2D(name=\"avg_pool\")(x)\n",
    "    x = keras.layers.Flatten(name=\"flatten\")(x)\n",
    "    outputs = keras.layers.Dense(NUM_CLASSES, activation=\"sigmoid\")(x)\n",
    "    model = keras.Model(inputs=inputs, outputs=outputs)\n",
    "    model.compile(\n",
    "        loss=\"binary_crossentropy\",\n",
    "        optimizer=Adam(lr=0.0001),\n",
    "        metrics=[\n",
    "            \"acc\",\n",
    "            keras.metrics.Recall(),\n",
    "            keras.metrics.Precision(),\n",
    "            tfa.metrics.F1Score(num_classes=NUM_CLASSES, average=\"micro\"),\n",
    "        ],\n",
    "    )\n",
    "    return model"
   ]
  },
  {
   "cell_type": "code",
   "execution_count": 19,
   "metadata": {},
   "outputs": [
    {
     "name": "stdout",
     "output_type": "stream",
     "text": [
      "INFO:tensorflow:Mixed precision compatibility check (mixed_float16): OK\n",
      "Your GPU will likely run quickly with dtype policy mixed_float16 as it has compute capability of at least 7.0. Your GPU: NVIDIA GeForce RTX 3090, compute capability 8.6\n"
     ]
    }
   ],
   "source": [
    "policy = keras.mixed_precision.experimental.Policy(\"mixed_float16\")\n",
    "keras.mixed_precision.experimental.set_policy(policy)"
   ]
  },
  {
   "cell_type": "code",
   "execution_count": 20,
   "metadata": {},
   "outputs": [],
   "source": [
    "# for i in [\n",
    "#     \"/app/_data/npy/waves_npy/\",\n",
    "#     \"/app/_data/npy/short_mels/\",\n",
    "# ]:\n",
    "#     shutil.rmtree(i)"
   ]
  },
  {
   "cell_type": "code",
   "execution_count": 21,
   "metadata": {},
   "outputs": [],
   "source": [
    "# for i in tqdm(os.listdir(\"/app/_data/npy/short_mels/\")):\n",
    "#     try:\n",
    "#         a = np.load(\"/app/_data/npy/short_mels/\"+i)\n",
    "#     except:\n",
    "#         print(i)"
   ]
  },
  {
   "cell_type": "code",
   "execution_count": 22,
   "metadata": {},
   "outputs": [],
   "source": [
    "# np.load(\"/app/_data/npy/short_mels/XC587961_51_0.npy\")"
   ]
  },
  {
   "cell_type": "code",
   "execution_count": null,
   "metadata": {},
   "outputs": [],
   "source": []
  },
  {
   "cell_type": "code",
   "execution_count": 23,
   "metadata": {},
   "outputs": [],
   "source": [
    "NUM_CLASSES = len(dict_birds)"
   ]
  },
  {
   "cell_type": "code",
   "execution_count": 24,
   "metadata": {},
   "outputs": [],
   "source": [
    "BATCH_SIZE = 400"
   ]
  },
  {
   "cell_type": "code",
   "execution_count": 25,
   "metadata": {},
   "outputs": [],
   "source": [
    "gen_train = MEL_Generator_Short(\n",
    "    df=train,\n",
    "    n_mels=IMG_SIZE,\n",
    "    seed=SEED,\n",
    "    sample_rate=SAMPLE_RATE,\n",
    "    mel_image_size=IMG_SIZE,\n",
    "    batch_size=BATCH_SIZE,\n",
    "    n_classes=NUM_CLASSES,\n",
    "    signal_lenght=SIGNAL_LENGTH,\n",
    "    mel_provider=mel_pr,\n",
    "    wave_dir=\"/app/_data/npy/waves_npy/\",\n",
    "    short_mel_dir=\"/app/_data/npy/short_mels/\",\n",
    "    norm_mel=True,\n",
    "    convert_to_rgb=True,\n",
    "    shuffle=True,\n",
    "    return_primary_labels=False,\n",
    "    return_secondary_labels=False,\n",
    "    return_concat_labels=True,\n",
    "    augment=False,\n",
    ")\n",
    "\n",
    "gen_valid = MEL_Generator_Short(\n",
    "    df=valid,\n",
    "    n_mels=IMG_SIZE,\n",
    "    seed=SEED,\n",
    "    sample_rate=SAMPLE_RATE,\n",
    "    mel_image_size=IMG_SIZE,\n",
    "    batch_size=BATCH_SIZE,\n",
    "    n_classes=NUM_CLASSES,\n",
    "    signal_lenght=SIGNAL_LENGTH,\n",
    "    mel_provider=mel_pr,\n",
    "    wave_dir=\"/app/_data/npy/waves_npy/\",\n",
    "    short_mel_dir=\"/app/_data/npy/short_mels/\",\n",
    "    norm_mel=True,\n",
    "    convert_to_rgb=True,\n",
    "    shuffle=False,\n",
    "    return_primary_labels=False,\n",
    "    return_secondary_labels=False,\n",
    "    return_concat_labels=True,\n",
    "    augment=False,\n",
    ")"
   ]
  },
  {
   "cell_type": "code",
   "execution_count": 26,
   "metadata": {},
   "outputs": [],
   "source": [
    "model = get_model()"
   ]
  },
  {
   "cell_type": "code",
   "execution_count": 27,
   "metadata": {},
   "outputs": [
    {
     "name": "stdout",
     "output_type": "stream",
     "text": [
      "Epoch 40/200\n",
      "   1/1075 [..............................] - ETA: 0s - loss: 0.0042 - acc: 0.9975 - recall: 0.5977 - precision: 0.9978 - f1_score: 0.8434WARNING:tensorflow:From /usr/local/lib/python3.8/dist-packages/tensorflow/python/ops/summary_ops_v2.py:1277: stop (from tensorflow.python.eager.profiler) is deprecated and will be removed after 2020-07-01.\n",
      "Instructions for updating:\n",
      "use `tf.profiler.experimental.stop` instead.\n",
      "1075/1075 [==============================] - ETA: 0s - loss: 0.0047 - acc: 0.9955 - recall: 0.5843 - precision: 0.9975 - f1_score: 0.8287\n",
      "Epoch 00040: val_f1_score improved from -inf to 0.81809, saving model to /app/_data/models/sites/ssw/eff0_ssw.h5\n",
      "1075/1075 [==============================] - 590s 549ms/step - loss: 0.0047 - acc: 0.9955 - recall: 0.5843 - precision: 0.9975 - f1_score: 0.8287 - val_loss: 0.0054 - val_acc: 0.9803 - val_recall: 0.5887 - val_precision: 0.9922 - val_f1_score: 0.8181\n",
      "Epoch 41/200\n",
      "1075/1075 [==============================] - ETA: 0s - loss: 0.0046 - acc: 0.9960 - recall: 0.5822 - precision: 0.9979 - f1_score: 0.8291\n",
      "Epoch 00041: val_f1_score did not improve from 0.81809\n",
      "1075/1075 [==============================] - 588s 547ms/step - loss: 0.0046 - acc: 0.9960 - recall: 0.5822 - precision: 0.9979 - f1_score: 0.8291 - val_loss: 0.0055 - val_acc: 0.9798 - val_recall: 0.5458 - val_precision: 0.9911 - val_f1_score: 0.8176\n",
      "Epoch 42/200\n",
      "1075/1075 [==============================] - ETA: 0s - loss: 0.0046 - acc: 0.9958 - recall: 0.5817 - precision: 0.9978 - f1_score: 0.8290\n",
      "Epoch 00042: val_f1_score did not improve from 0.81809\n",
      "1075/1075 [==============================] - 996s 926ms/step - loss: 0.0046 - acc: 0.9958 - recall: 0.5817 - precision: 0.9978 - f1_score: 0.8290 - val_loss: 0.0054 - val_acc: 0.9801 - val_recall: 0.6283 - val_precision: 0.9907 - val_f1_score: 0.8178\n",
      "Epoch 43/200\n",
      "1075/1075 [==============================] - ETA: 0s - loss: 0.0046 - acc: 0.9961 - recall: 0.5807 - precision: 0.9980 - f1_score: 0.8292\n",
      "Epoch 00043: val_f1_score did not improve from 0.81809\n",
      "1075/1075 [==============================] - 2163s 2s/step - loss: 0.0046 - acc: 0.9961 - recall: 0.5807 - precision: 0.9980 - f1_score: 0.8292 - val_loss: 0.0055 - val_acc: 0.9801 - val_recall: 0.5248 - val_precision: 0.9921 - val_f1_score: 0.8179\n",
      "Epoch 44/200\n",
      "1075/1075 [==============================] - ETA: 0s - loss: 0.0046 - acc: 0.9962 - recall: 0.5797 - precision: 0.9980 - f1_score: 0.8292\n",
      "Epoch 00044: val_f1_score improved from 0.81809 to 0.81851, saving model to /app/_data/models/sites/ssw/eff0_ssw.h5\n",
      "1075/1075 [==============================] - 589s 548ms/step - loss: 0.0046 - acc: 0.9962 - recall: 0.5797 - precision: 0.9980 - f1_score: 0.8292 - val_loss: 0.0053 - val_acc: 0.9809 - val_recall: 0.5551 - val_precision: 0.9921 - val_f1_score: 0.8185\n",
      "Epoch 45/200\n",
      "1075/1075 [==============================] - ETA: 0s - loss: 0.0046 - acc: 0.9964 - recall: 0.5782 - precision: 0.9981 - f1_score: 0.8294\n",
      "Epoch 00045: val_f1_score did not improve from 0.81851\n",
      "1075/1075 [==============================] - 587s 546ms/step - loss: 0.0046 - acc: 0.9964 - recall: 0.5782 - precision: 0.9981 - f1_score: 0.8294 - val_loss: 0.0056 - val_acc: 0.9778 - val_recall: 0.5870 - val_precision: 0.9910 - val_f1_score: 0.8163\n",
      "Epoch 46/200\n",
      "1075/1075 [==============================] - ETA: 0s - loss: 0.0046 - acc: 0.9963 - recall: 0.5784 - precision: 0.9980 - f1_score: 0.8293\n",
      "Epoch 00046: val_f1_score improved from 0.81851 to 0.81852, saving model to /app/_data/models/sites/ssw/eff0_ssw.h5\n",
      "1075/1075 [==============================] - 590s 549ms/step - loss: 0.0046 - acc: 0.9963 - recall: 0.5784 - precision: 0.9980 - f1_score: 0.8293 - val_loss: 0.0054 - val_acc: 0.9810 - val_recall: 0.5422 - val_precision: 0.9924 - val_f1_score: 0.8185\n",
      "Epoch 47/200\n",
      "1075/1075 [==============================] - ETA: 0s - loss: 0.0045 - acc: 0.9967 - recall: 0.5768 - precision: 0.9982 - f1_score: 0.8296\n",
      "Epoch 00047: val_f1_score did not improve from 0.81852\n",
      "1075/1075 [==============================] - 588s 547ms/step - loss: 0.0045 - acc: 0.9967 - recall: 0.5768 - precision: 0.9982 - f1_score: 0.8296 - val_loss: 0.0054 - val_acc: 0.9801 - val_recall: 0.5814 - val_precision: 0.9914 - val_f1_score: 0.8178\n",
      "Epoch 48/200\n",
      "1075/1075 [==============================] - ETA: 0s - loss: 0.0046 - acc: 0.9965 - recall: 0.5771 - precision: 0.9980 - f1_score: 0.8294\n",
      "Epoch 00048: val_f1_score improved from 0.81852 to 0.81882, saving model to /app/_data/models/sites/ssw/eff0_ssw.h5\n",
      "1075/1075 [==============================] - 596s 555ms/step - loss: 0.0046 - acc: 0.9965 - recall: 0.5771 - precision: 0.9980 - f1_score: 0.8294 - val_loss: 0.0053 - val_acc: 0.9814 - val_recall: 0.6112 - val_precision: 0.9916 - val_f1_score: 0.8188\n",
      "Epoch 49/200\n",
      "1075/1075 [==============================] - ETA: 0s - loss: 0.0045 - acc: 0.9966 - recall: 0.5756 - precision: 0.9981 - f1_score: 0.8295\n",
      "Epoch 00049: val_f1_score improved from 0.81882 to 0.81964, saving model to /app/_data/models/sites/ssw/eff0_ssw.h5\n",
      "1075/1075 [==============================] - 597s 555ms/step - loss: 0.0045 - acc: 0.9966 - recall: 0.5756 - precision: 0.9981 - f1_score: 0.8295 - val_loss: 0.0053 - val_acc: 0.9826 - val_recall: 0.5923 - val_precision: 0.9923 - val_f1_score: 0.8196\n",
      "Epoch 50/200\n",
      "1075/1075 [==============================] - ETA: 0s - loss: 0.0045 - acc: 0.9968 - recall: 0.5747 - precision: 0.9983 - f1_score: 0.8296\n",
      "Epoch 00050: val_f1_score did not improve from 0.81964\n",
      "1075/1075 [==============================] - 594s 552ms/step - loss: 0.0045 - acc: 0.9968 - recall: 0.5747 - precision: 0.9983 - f1_score: 0.8296 - val_loss: 0.0057 - val_acc: 0.9766 - val_recall: 0.5781 - val_precision: 0.9909 - val_f1_score: 0.8156\n",
      "Epoch 51/200\n",
      "1075/1075 [==============================] - ETA: 0s - loss: 0.0045 - acc: 0.9969 - recall: 0.5741 - precision: 0.9983 - f1_score: 0.8296\n",
      "Epoch 00051: val_f1_score did not improve from 0.81964\n",
      "1075/1075 [==============================] - 595s 553ms/step - loss: 0.0045 - acc: 0.9969 - recall: 0.5741 - precision: 0.9983 - f1_score: 0.8296 - val_loss: 0.0054 - val_acc: 0.9812 - val_recall: 0.5864 - val_precision: 0.9918 - val_f1_score: 0.8185\n",
      "Epoch 52/200\n",
      "1075/1075 [==============================] - ETA: 0s - loss: 0.0045 - acc: 0.9970 - recall: 0.5731 - precision: 0.9984 - f1_score: 0.8297\n",
      "Epoch 00052: val_f1_score improved from 0.81964 to 0.81975, saving model to /app/_data/models/sites/ssw/eff0_ssw.h5\n",
      "1075/1075 [==============================] - 598s 556ms/step - loss: 0.0045 - acc: 0.9970 - recall: 0.5731 - precision: 0.9984 - f1_score: 0.8297 - val_loss: 0.0053 - val_acc: 0.9828 - val_recall: 0.5909 - val_precision: 0.9928 - val_f1_score: 0.8198\n",
      "Epoch 53/200\n",
      "1075/1075 [==============================] - ETA: 0s - loss: 0.0045 - acc: 0.9969 - recall: 0.5727 - precision: 0.9983 - f1_score: 0.8297\n",
      "Epoch 00053: val_f1_score did not improve from 0.81975\n",
      "1075/1075 [==============================] - 596s 555ms/step - loss: 0.0045 - acc: 0.9969 - recall: 0.5727 - precision: 0.9983 - f1_score: 0.8297 - val_loss: 0.0053 - val_acc: 0.9818 - val_recall: 0.5553 - val_precision: 0.9924 - val_f1_score: 0.8190\n",
      "Epoch 54/200\n",
      "1075/1075 [==============================] - ETA: 0s - loss: 0.0045 - acc: 0.9970 - recall: 0.5725 - precision: 0.9982 - f1_score: 0.8297\n",
      "Epoch 00054: val_f1_score did not improve from 0.81975\n",
      "1075/1075 [==============================] - 595s 553ms/step - loss: 0.0045 - acc: 0.9970 - recall: 0.5725 - precision: 0.9982 - f1_score: 0.8297 - val_loss: 0.0055 - val_acc: 0.9796 - val_recall: 0.5359 - val_precision: 0.9910 - val_f1_score: 0.8176\n",
      "Epoch 55/200\n",
      "1075/1075 [==============================] - ETA: 0s - loss: 0.0045 - acc: 0.9972 - recall: 0.5713 - precision: 0.9983 - f1_score: 0.8298\n",
      "Epoch 00055: val_f1_score did not improve from 0.81975\n",
      "1075/1075 [==============================] - 598s 556ms/step - loss: 0.0045 - acc: 0.9972 - recall: 0.5713 - precision: 0.9983 - f1_score: 0.8298 - val_loss: 0.0052 - val_acc: 0.9825 - val_recall: 0.5997 - val_precision: 0.9929 - val_f1_score: 0.8196\n",
      "Epoch 56/200\n",
      "1075/1075 [==============================] - ETA: 0s - loss: 0.0045 - acc: 0.9972 - recall: 0.5703 - precision: 0.9984 - f1_score: 0.8299\n",
      "Epoch 00056: val_f1_score did not improve from 0.81975\n",
      "1075/1075 [==============================] - 594s 553ms/step - loss: 0.0045 - acc: 0.9972 - recall: 0.5703 - precision: 0.9984 - f1_score: 0.8299 - val_loss: 0.0053 - val_acc: 0.9829 - val_recall: 0.6057 - val_precision: 0.9928 - val_f1_score: 0.8197\n",
      "Epoch 57/200\n",
      "1075/1075 [==============================] - ETA: 0s - loss: 0.0045 - acc: 0.9973 - recall: 0.5690 - precision: 0.9984 - f1_score: 0.8300\n",
      "Epoch 00057: val_f1_score did not improve from 0.81975\n",
      "\n",
      "Epoch 00057: ReduceLROnPlateau reducing learning rate to 0.0008100000384729356.\n",
      "1075/1075 [==============================] - 591s 550ms/step - loss: 0.0045 - acc: 0.9973 - recall: 0.5690 - precision: 0.9984 - f1_score: 0.8300 - val_loss: 0.0053 - val_acc: 0.9819 - val_recall: 0.5686 - val_precision: 0.9925 - val_f1_score: 0.8191\n",
      "Epoch 58/200\n",
      "1075/1075 [==============================] - ETA: 0s - loss: 0.0044 - acc: 0.9978 - recall: 0.5644 - precision: 0.9988 - f1_score: 0.8303\n",
      "Epoch 00058: val_f1_score improved from 0.81975 to 0.82067, saving model to /app/_data/models/sites/ssw/eff0_ssw.h5\n",
      "1075/1075 [==============================] - 599s 558ms/step - loss: 0.0044 - acc: 0.9978 - recall: 0.5644 - precision: 0.9988 - f1_score: 0.8303 - val_loss: 0.0052 - val_acc: 0.9842 - val_recall: 0.5893 - val_precision: 0.9929 - val_f1_score: 0.8207\n",
      "Epoch 59/200\n",
      "1075/1075 [==============================] - ETA: 0s - loss: 0.0044 - acc: 0.9977 - recall: 0.5644 - precision: 0.9988 - f1_score: 0.8302\n",
      "Epoch 00059: val_f1_score improved from 0.82067 to 0.82080, saving model to /app/_data/models/sites/ssw/eff0_ssw.h5\n",
      "1075/1075 [==============================] - 602s 560ms/step - loss: 0.0044 - acc: 0.9977 - recall: 0.5644 - precision: 0.9988 - f1_score: 0.8302 - val_loss: 0.0051 - val_acc: 0.9844 - val_recall: 0.5770 - val_precision: 0.9934 - val_f1_score: 0.8208\n",
      "Epoch 60/200\n",
      "1075/1075 [==============================] - ETA: 0s - loss: 0.0044 - acc: 0.9976 - recall: 0.5634 - precision: 0.9987 - f1_score: 0.8301\n",
      "Epoch 00060: val_f1_score improved from 0.82080 to 0.82111, saving model to /app/_data/models/sites/ssw/eff0_ssw.h5\n",
      "1075/1075 [==============================] - 601s 559ms/step - loss: 0.0044 - acc: 0.9976 - recall: 0.5634 - precision: 0.9987 - f1_score: 0.8301 - val_loss: 0.0051 - val_acc: 0.9847 - val_recall: 0.5509 - val_precision: 0.9933 - val_f1_score: 0.8211\n",
      "Epoch 61/200\n",
      "1075/1075 [==============================] - ETA: 0s - loss: 0.0044 - acc: 0.9978 - recall: 0.5631 - precision: 0.9988 - f1_score: 0.8302\n",
      "Epoch 00061: val_f1_score did not improve from 0.82111\n",
      "1075/1075 [==============================] - 598s 556ms/step - loss: 0.0044 - acc: 0.9978 - recall: 0.5631 - precision: 0.9988 - f1_score: 0.8302 - val_loss: 0.0053 - val_acc: 0.9821 - val_recall: 0.5477 - val_precision: 0.9932 - val_f1_score: 0.8192\n",
      "Epoch 62/200\n",
      "1075/1075 [==============================] - ETA: 0s - loss: 0.0044 - acc: 0.9978 - recall: 0.5624 - precision: 0.9988 - f1_score: 0.8303\n",
      "Epoch 00062: val_f1_score did not improve from 0.82111\n",
      "1075/1075 [==============================] - 603s 561ms/step - loss: 0.0044 - acc: 0.9978 - recall: 0.5624 - precision: 0.9988 - f1_score: 0.8303 - val_loss: 0.0052 - val_acc: 0.9839 - val_recall: 0.6040 - val_precision: 0.9928 - val_f1_score: 0.8205\n",
      "Epoch 63/200\n",
      "1075/1075 [==============================] - ETA: 0s - loss: 0.0044 - acc: 0.9979 - recall: 0.5615 - precision: 0.9988 - f1_score: 0.8303\n",
      "Epoch 00063: val_f1_score did not improve from 0.82111\n",
      "1075/1075 [==============================] - 599s 558ms/step - loss: 0.0044 - acc: 0.9979 - recall: 0.5615 - precision: 0.9988 - f1_score: 0.8303 - val_loss: 0.0051 - val_acc: 0.9846 - val_recall: 0.5503 - val_precision: 0.9935 - val_f1_score: 0.8209\n",
      "Epoch 64/200\n",
      "1075/1075 [==============================] - ETA: 0s - loss: 0.0044 - acc: 0.9978 - recall: 0.5612 - precision: 0.9987 - f1_score: 0.8302\n",
      "Epoch 00064: val_f1_score improved from 0.82111 to 0.82136, saving model to /app/_data/models/sites/ssw/eff0_ssw.h5\n",
      "1075/1075 [==============================] - 605s 563ms/step - loss: 0.0044 - acc: 0.9978 - recall: 0.5612 - precision: 0.9987 - f1_score: 0.8302 - val_loss: 0.0051 - val_acc: 0.9851 - val_recall: 0.5428 - val_precision: 0.9942 - val_f1_score: 0.8214\n",
      "Epoch 65/200\n",
      "1075/1075 [==============================] - ETA: 0s - loss: 0.0044 - acc: 0.9981 - recall: 0.5589 - precision: 0.9990 - f1_score: 0.8304\n",
      "Epoch 00065: val_f1_score did not improve from 0.82136\n",
      "1075/1075 [==============================] - 601s 559ms/step - loss: 0.0044 - acc: 0.9981 - recall: 0.5589 - precision: 0.9990 - f1_score: 0.8304 - val_loss: 0.0052 - val_acc: 0.9843 - val_recall: 0.5813 - val_precision: 0.9942 - val_f1_score: 0.8208\n",
      "Epoch 66/200\n",
      "1075/1075 [==============================] - ETA: 0s - loss: 0.0044 - acc: 0.9979 - recall: 0.5601 - precision: 0.9988 - f1_score: 0.8303\n",
      "Epoch 00066: val_f1_score did not improve from 0.82136\n",
      "1075/1075 [==============================] - 596s 555ms/step - loss: 0.0044 - acc: 0.9979 - recall: 0.5601 - precision: 0.9988 - f1_score: 0.8303 - val_loss: 0.0051 - val_acc: 0.9853 - val_recall: 0.6005 - val_precision: 0.9937 - val_f1_score: 0.8213\n",
      "Epoch 67/200\n",
      "1075/1075 [==============================] - ETA: 0s - loss: 0.0044 - acc: 0.9982 - recall: 0.5589 - precision: 0.9989 - f1_score: 0.8305\n",
      "Epoch 00067: val_f1_score did not improve from 0.82136\n",
      "1075/1075 [==============================] - 601s 559ms/step - loss: 0.0044 - acc: 0.9982 - recall: 0.5589 - precision: 0.9989 - f1_score: 0.8305 - val_loss: 0.0052 - val_acc: 0.9848 - val_recall: 0.5712 - val_precision: 0.9933 - val_f1_score: 0.8210\n",
      "Epoch 68/200\n",
      "1075/1075 [==============================] - ETA: 0s - loss: 0.0044 - acc: 0.9980 - recall: 0.5595 - precision: 0.9987 - f1_score: 0.8304\n",
      "Epoch 00068: val_f1_score did not improve from 0.82136\n",
      "1075/1075 [==============================] - 599s 557ms/step - loss: 0.0044 - acc: 0.9980 - recall: 0.5595 - precision: 0.9987 - f1_score: 0.8304 - val_loss: 0.0051 - val_acc: 0.9842 - val_recall: 0.5385 - val_precision: 0.9939 - val_f1_score: 0.8206\n",
      "Epoch 69/200\n",
      "1075/1075 [==============================] - ETA: 0s - loss: 0.0044 - acc: 0.9982 - recall: 0.5573 - precision: 0.9990 - f1_score: 0.8305\n",
      "Epoch 00069: val_f1_score did not improve from 0.82136\n",
      "\n",
      "Epoch 00069: ReduceLROnPlateau reducing learning rate to 0.0007290000503417104.\n",
      "1075/1075 [==============================] - 600s 558ms/step - loss: 0.0044 - acc: 0.9982 - recall: 0.5573 - precision: 0.9990 - f1_score: 0.8305 - val_loss: 0.0051 - val_acc: 0.9848 - val_recall: 0.5751 - val_precision: 0.9936 - val_f1_score: 0.8211\n",
      "Epoch 70/200\n",
      "1075/1075 [==============================] - ETA: 0s - loss: 0.0043 - acc: 0.9983 - recall: 0.5535 - precision: 0.9991 - f1_score: 0.8306\n",
      "Epoch 00070: val_f1_score did not improve from 0.82136\n",
      "1075/1075 [==============================] - 599s 557ms/step - loss: 0.0043 - acc: 0.9983 - recall: 0.5535 - precision: 0.9991 - f1_score: 0.8306 - val_loss: 0.0053 - val_acc: 0.9830 - val_recall: 0.5328 - val_precision: 0.9937 - val_f1_score: 0.8198\n",
      "Epoch 71/200\n",
      "1075/1075 [==============================] - ETA: 0s - loss: 0.0043 - acc: 0.9985 - recall: 0.5521 - precision: 0.9991 - f1_score: 0.8307\n",
      "Epoch 00071: val_f1_score did not improve from 0.82136\n",
      "1075/1075 [==============================] - 603s 561ms/step - loss: 0.0043 - acc: 0.9985 - recall: 0.5521 - precision: 0.9991 - f1_score: 0.8307 - val_loss: 0.0051 - val_acc: 0.9846 - val_recall: 0.5816 - val_precision: 0.9935 - val_f1_score: 0.8209\n",
      "Epoch 72/200\n",
      "1075/1075 [==============================] - ETA: 0s - loss: 0.0043 - acc: 0.9984 - recall: 0.5532 - precision: 0.9990 - f1_score: 0.8306\n",
      "Epoch 00072: val_f1_score improved from 0.82136 to 0.82237, saving model to /app/_data/models/sites/ssw/eff0_ssw.h5\n",
      "1075/1075 [==============================] - 601s 559ms/step - loss: 0.0043 - acc: 0.9984 - recall: 0.5532 - precision: 0.9990 - f1_score: 0.8306 - val_loss: 0.0050 - val_acc: 0.9866 - val_recall: 0.5717 - val_precision: 0.9946 - val_f1_score: 0.8224\n",
      "Epoch 73/200\n",
      "1075/1075 [==============================] - ETA: 0s - loss: 0.0043 - acc: 0.9986 - recall: 0.5507 - precision: 0.9992 - f1_score: 0.8308\n",
      "Epoch 00073: val_f1_score did not improve from 0.82237\n",
      "1075/1075 [==============================] - 604s 562ms/step - loss: 0.0043 - acc: 0.9986 - recall: 0.5507 - precision: 0.9992 - f1_score: 0.8308 - val_loss: 0.0050 - val_acc: 0.9867 - val_recall: 0.5645 - val_precision: 0.9945 - val_f1_score: 0.8223\n",
      "Epoch 74/200\n",
      "1075/1075 [==============================] - ETA: 0s - loss: 0.0043 - acc: 0.9985 - recall: 0.5510 - precision: 0.9991 - f1_score: 0.8307\n",
      "Epoch 00074: val_f1_score did not improve from 0.82237\n",
      "1075/1075 [==============================] - 597s 555ms/step - loss: 0.0043 - acc: 0.9985 - recall: 0.5510 - precision: 0.9991 - f1_score: 0.8307 - val_loss: 0.0051 - val_acc: 0.9859 - val_recall: 0.5498 - val_precision: 0.9936 - val_f1_score: 0.8218\n",
      "Epoch 75/200\n",
      "1075/1075 [==============================] - ETA: 0s - loss: 0.0043 - acc: 0.9985 - recall: 0.5506 - precision: 0.9991 - f1_score: 0.8306\n",
      "Epoch 00075: val_f1_score did not improve from 0.82237\n",
      "1075/1075 [==============================] - 599s 558ms/step - loss: 0.0043 - acc: 0.9985 - recall: 0.5506 - precision: 0.9991 - f1_score: 0.8306 - val_loss: 0.0051 - val_acc: 0.9863 - val_recall: 0.5275 - val_precision: 0.9943 - val_f1_score: 0.8222\n",
      "Epoch 76/200\n",
      "1075/1075 [==============================] - ETA: 0s - loss: 0.0043 - acc: 0.9984 - recall: 0.5507 - precision: 0.9990 - f1_score: 0.8306\n",
      "Epoch 00076: val_f1_score did not improve from 0.82237\n",
      "1075/1075 [==============================] - 598s 557ms/step - loss: 0.0043 - acc: 0.9984 - recall: 0.5507 - precision: 0.9990 - f1_score: 0.8306 - val_loss: 0.0051 - val_acc: 0.9848 - val_recall: 0.5746 - val_precision: 0.9938 - val_f1_score: 0.8211\n",
      "Epoch 77/200\n",
      "1075/1075 [==============================] - ETA: 0s - loss: 0.0043 - acc: 0.9986 - recall: 0.5493 - precision: 0.9992 - f1_score: 0.8307\n",
      "Epoch 00077: val_f1_score did not improve from 0.82237\n",
      "\n",
      "Epoch 00077: ReduceLROnPlateau reducing learning rate to 0.0006561000715009868.\n",
      "1075/1075 [==============================] - 593s 551ms/step - loss: 0.0043 - acc: 0.9986 - recall: 0.5493 - precision: 0.9992 - f1_score: 0.8307 - val_loss: 0.0051 - val_acc: 0.9863 - val_recall: 0.5262 - val_precision: 0.9946 - val_f1_score: 0.8221\n",
      "Epoch 78/200\n",
      "1075/1075 [==============================] - ETA: 0s - loss: 0.0043 - acc: 0.9987 - recall: 0.5458 - precision: 0.9993 - f1_score: 0.8308\n",
      "Epoch 00078: val_f1_score improved from 0.82237 to 0.82290, saving model to /app/_data/models/sites/ssw/eff0_ssw.h5\n",
      "1075/1075 [==============================] - 598s 556ms/step - loss: 0.0043 - acc: 0.9987 - recall: 0.5458 - precision: 0.9993 - f1_score: 0.8308 - val_loss: 0.0049 - val_acc: 0.9874 - val_recall: 0.5516 - val_precision: 0.9952 - val_f1_score: 0.8229\n",
      "Epoch 79/200\n",
      "1075/1075 [==============================] - ETA: 0s - loss: 0.0043 - acc: 0.9988 - recall: 0.5438 - precision: 0.9993 - f1_score: 0.8309\n",
      "Epoch 00079: val_f1_score did not improve from 0.82290\n",
      "1075/1075 [==============================] - 594s 552ms/step - loss: 0.0043 - acc: 0.9988 - recall: 0.5438 - precision: 0.9993 - f1_score: 0.8309 - val_loss: 0.0050 - val_acc: 0.9872 - val_recall: 0.5324 - val_precision: 0.9948 - val_f1_score: 0.8227\n",
      "Epoch 80/200\n",
      "1075/1075 [==============================] - ETA: 0s - loss: 0.0043 - acc: 0.9986 - recall: 0.5447 - precision: 0.9992 - f1_score: 0.8307\n",
      "Epoch 00080: val_f1_score did not improve from 0.82290\n",
      "1075/1075 [==============================] - 597s 555ms/step - loss: 0.0043 - acc: 0.9986 - recall: 0.5447 - precision: 0.9992 - f1_score: 0.8307 - val_loss: 0.0050 - val_acc: 0.9859 - val_recall: 0.5391 - val_precision: 0.9947 - val_f1_score: 0.8217\n",
      "Epoch 81/200\n",
      "1075/1075 [==============================] - ETA: 0s - loss: 0.0043 - acc: 0.9988 - recall: 0.5437 - precision: 0.9993 - f1_score: 0.8309\n",
      "Epoch 00081: val_f1_score did not improve from 0.82290\n",
      "1075/1075 [==============================] - 595s 553ms/step - loss: 0.0043 - acc: 0.9988 - recall: 0.5437 - precision: 0.9993 - f1_score: 0.8309 - val_loss: 0.0049 - val_acc: 0.9871 - val_recall: 0.5420 - val_precision: 0.9949 - val_f1_score: 0.8227\n",
      "Epoch 82/200\n",
      "1075/1075 [==============================] - ETA: 0s - loss: 0.0043 - acc: 0.9988 - recall: 0.5434 - precision: 0.9993 - f1_score: 0.8309\n",
      "Epoch 00082: val_f1_score did not improve from 0.82290\n",
      "1075/1075 [==============================] - 597s 556ms/step - loss: 0.0043 - acc: 0.9988 - recall: 0.5434 - precision: 0.9993 - f1_score: 0.8309 - val_loss: 0.0050 - val_acc: 0.9866 - val_recall: 0.5226 - val_precision: 0.9948 - val_f1_score: 0.8223\n",
      "Epoch 83/200\n",
      "1075/1075 [==============================] - ETA: 0s - loss: 0.0043 - acc: 0.9988 - recall: 0.5426 - precision: 0.9993 - f1_score: 0.8308\n",
      "Epoch 00083: val_f1_score did not improve from 0.82290\n",
      "\n",
      "Epoch 00083: ReduceLROnPlateau reducing learning rate to 0.0005904900433961303.\n",
      "1075/1075 [==============================] - 596s 555ms/step - loss: 0.0043 - acc: 0.9988 - recall: 0.5426 - precision: 0.9993 - f1_score: 0.8308 - val_loss: 0.0054 - val_acc: 0.9830 - val_recall: 0.5245 - val_precision: 0.9936 - val_f1_score: 0.8198\n",
      "Epoch 84/200\n",
      "1075/1075 [==============================] - ETA: 0s - loss: 0.0042 - acc: 0.9990 - recall: 0.5392 - precision: 0.9994 - f1_score: 0.8310\n",
      "Epoch 00084: val_f1_score improved from 0.82290 to 0.82316, saving model to /app/_data/models/sites/ssw/eff0_ssw.h5\n",
      "1075/1075 [==============================] - 604s 561ms/step - loss: 0.0042 - acc: 0.9990 - recall: 0.5392 - precision: 0.9994 - f1_score: 0.8310 - val_loss: 0.0049 - val_acc: 0.9878 - val_recall: 0.5668 - val_precision: 0.9948 - val_f1_score: 0.8232\n",
      "Epoch 85/200\n",
      "1075/1075 [==============================] - ETA: 0s - loss: 0.0042 - acc: 0.9990 - recall: 0.5386 - precision: 0.9994 - f1_score: 0.8310\n",
      "Epoch 00085: val_f1_score did not improve from 0.82316\n",
      "1075/1075 [==============================] - 598s 556ms/step - loss: 0.0042 - acc: 0.9990 - recall: 0.5386 - precision: 0.9994 - f1_score: 0.8310 - val_loss: 0.0050 - val_acc: 0.9867 - val_recall: 0.5467 - val_precision: 0.9950 - val_f1_score: 0.8224\n",
      "Epoch 86/200\n",
      "1075/1075 [==============================] - ETA: 0s - loss: 0.0042 - acc: 0.9990 - recall: 0.5376 - precision: 0.9995 - f1_score: 0.8310\n",
      "Epoch 00086: val_f1_score did not improve from 0.82316\n",
      "1075/1075 [==============================] - 597s 556ms/step - loss: 0.0042 - acc: 0.9990 - recall: 0.5376 - precision: 0.9995 - f1_score: 0.8310 - val_loss: 0.0049 - val_acc: 0.9874 - val_recall: 0.5441 - val_precision: 0.9948 - val_f1_score: 0.8228\n",
      "Epoch 87/200\n",
      "1075/1075 [==============================] - ETA: 0s - loss: 0.0042 - acc: 0.9990 - recall: 0.5371 - precision: 0.9994 - f1_score: 0.8310\n",
      "Epoch 00087: val_f1_score did not improve from 0.82316\n",
      "1075/1075 [==============================] - 597s 555ms/step - loss: 0.0042 - acc: 0.9990 - recall: 0.5371 - precision: 0.9994 - f1_score: 0.8310 - val_loss: 0.0049 - val_acc: 0.9877 - val_recall: 0.5593 - val_precision: 0.9948 - val_f1_score: 0.8231\n",
      "Epoch 88/200\n",
      "1075/1075 [==============================] - ETA: 0s - loss: 0.0042 - acc: 0.9990 - recall: 0.5376 - precision: 0.9994 - f1_score: 0.8310\n",
      "Epoch 00088: val_f1_score improved from 0.82316 to 0.82327, saving model to /app/_data/models/sites/ssw/eff0_ssw.h5\n",
      "1075/1075 [==============================] - 599s 557ms/step - loss: 0.0042 - acc: 0.9990 - recall: 0.5376 - precision: 0.9994 - f1_score: 0.8310 - val_loss: 0.0049 - val_acc: 0.9879 - val_recall: 0.5232 - val_precision: 0.9955 - val_f1_score: 0.8233\n",
      "Epoch 89/200\n",
      "1075/1075 [==============================] - ETA: 0s - loss: 0.0042 - acc: 0.9990 - recall: 0.5364 - precision: 0.9995 - f1_score: 0.8310\n",
      "Epoch 00089: val_f1_score did not improve from 0.82327\n",
      "1075/1075 [==============================] - 599s 557ms/step - loss: 0.0042 - acc: 0.9990 - recall: 0.5364 - precision: 0.9995 - f1_score: 0.8310 - val_loss: 0.0050 - val_acc: 0.9870 - val_recall: 0.5209 - val_precision: 0.9949 - val_f1_score: 0.8226\n",
      "Epoch 90/200\n",
      "1075/1075 [==============================] - ETA: 0s - loss: 0.0042 - acc: 0.9991 - recall: 0.5359 - precision: 0.9995 - f1_score: 0.8310\n",
      "Epoch 00090: val_f1_score did not improve from 0.82327\n",
      "1075/1075 [==============================] - 597s 555ms/step - loss: 0.0042 - acc: 0.9991 - recall: 0.5359 - precision: 0.9995 - f1_score: 0.8310 - val_loss: 0.0049 - val_acc: 0.9876 - val_recall: 0.5275 - val_precision: 0.9952 - val_f1_score: 0.8230\n",
      "Epoch 91/200\n",
      "1075/1075 [==============================] - ETA: 0s - loss: 0.0042 - acc: 0.9991 - recall: 0.5363 - precision: 0.9994 - f1_score: 0.8310\n",
      "Epoch 00091: val_f1_score did not improve from 0.82327\n",
      "1075/1075 [==============================] - 598s 557ms/step - loss: 0.0042 - acc: 0.9991 - recall: 0.5363 - precision: 0.9994 - f1_score: 0.8310 - val_loss: 0.0050 - val_acc: 0.9871 - val_recall: 0.5268 - val_precision: 0.9946 - val_f1_score: 0.8226\n",
      "Epoch 92/200\n",
      "1075/1075 [==============================] - ETA: 0s - loss: 0.0042 - acc: 0.9991 - recall: 0.5354 - precision: 0.9995 - f1_score: 0.8310\n",
      "Epoch 00092: val_f1_score did not improve from 0.82327\n",
      "1075/1075 [==============================] - 598s 556ms/step - loss: 0.0042 - acc: 0.9991 - recall: 0.5354 - precision: 0.9995 - f1_score: 0.8310 - val_loss: 0.0050 - val_acc: 0.9874 - val_recall: 0.5591 - val_precision: 0.9943 - val_f1_score: 0.8228\n",
      "Epoch 93/200\n",
      "1075/1075 [==============================] - ETA: 0s - loss: 0.0042 - acc: 0.9990 - recall: 0.5355 - precision: 0.9994 - f1_score: 0.8310\n",
      "Epoch 00093: val_f1_score did not improve from 0.82327\n",
      "\n",
      "Epoch 00093: ReduceLROnPlateau reducing learning rate to 0.0005314410547725857.\n",
      "1075/1075 [==============================] - 601s 559ms/step - loss: 0.0042 - acc: 0.9990 - recall: 0.5355 - precision: 0.9994 - f1_score: 0.8310 - val_loss: 0.0049 - val_acc: 0.9872 - val_recall: 0.5494 - val_precision: 0.9948 - val_f1_score: 0.8227\n",
      "Epoch 94/200\n",
      "1075/1075 [==============================] - ETA: 0s - loss: 0.0042 - acc: 0.9992 - recall: 0.5319 - precision: 0.9996 - f1_score: 0.8311\n",
      "Epoch 00094: val_f1_score improved from 0.82327 to 0.82343, saving model to /app/_data/models/sites/ssw/eff0_ssw.h5\n",
      "1075/1075 [==============================] - 601s 559ms/step - loss: 0.0042 - acc: 0.9992 - recall: 0.5319 - precision: 0.9996 - f1_score: 0.8311 - val_loss: 0.0049 - val_acc: 0.9882 - val_recall: 0.5413 - val_precision: 0.9954 - val_f1_score: 0.8234\n",
      "Epoch 95/200\n",
      "1075/1075 [==============================] - ETA: 0s - loss: 0.0042 - acc: 0.9992 - recall: 0.5305 - precision: 0.9996 - f1_score: 0.8311\n",
      "Epoch 00095: val_f1_score did not improve from 0.82343\n",
      "1075/1075 [==============================] - 600s 558ms/step - loss: 0.0042 - acc: 0.9992 - recall: 0.5305 - precision: 0.9996 - f1_score: 0.8311 - val_loss: 0.0049 - val_acc: 0.9879 - val_recall: 0.5225 - val_precision: 0.9953 - val_f1_score: 0.8232\n",
      "Epoch 96/200\n",
      "1075/1075 [==============================] - ETA: 0s - loss: 0.0042 - acc: 0.9992 - recall: 0.5314 - precision: 0.9995 - f1_score: 0.8311\n",
      "Epoch 00096: val_f1_score did not improve from 0.82343\n",
      "1075/1075 [==============================] - 598s 557ms/step - loss: 0.0042 - acc: 0.9992 - recall: 0.5314 - precision: 0.9995 - f1_score: 0.8311 - val_loss: 0.0051 - val_acc: 0.9865 - val_recall: 0.5258 - val_precision: 0.9954 - val_f1_score: 0.8223\n",
      "Epoch 97/200\n",
      "1075/1075 [==============================] - ETA: 0s - loss: 0.0042 - acc: 0.9992 - recall: 0.5305 - precision: 0.9996 - f1_score: 0.8311\n",
      "Epoch 00097: val_f1_score improved from 0.82343 to 0.82355, saving model to /app/_data/models/sites/ssw/eff0_ssw.h5\n",
      "1075/1075 [==============================] - 603s 561ms/step - loss: 0.0042 - acc: 0.9992 - recall: 0.5305 - precision: 0.9996 - f1_score: 0.8311 - val_loss: 0.0049 - val_acc: 0.9885 - val_recall: 0.5305 - val_precision: 0.9954 - val_f1_score: 0.8235\n",
      "Epoch 98/200\n",
      "1075/1075 [==============================] - ETA: 0s - loss: 0.0042 - acc: 0.9992 - recall: 0.5301 - precision: 0.9995 - f1_score: 0.8311\n",
      "Epoch 00098: val_f1_score did not improve from 0.82355\n",
      "1075/1075 [==============================] - 600s 558ms/step - loss: 0.0042 - acc: 0.9992 - recall: 0.5301 - precision: 0.9995 - f1_score: 0.8311 - val_loss: 0.0049 - val_acc: 0.9876 - val_recall: 0.5303 - val_precision: 0.9953 - val_f1_score: 0.8230\n",
      "Epoch 99/200\n",
      "1075/1075 [==============================] - ETA: 0s - loss: 0.0042 - acc: 0.9992 - recall: 0.5306 - precision: 0.9995 - f1_score: 0.8311\n",
      "Epoch 00099: val_f1_score did not improve from 0.82355\n",
      "1075/1075 [==============================] - 592s 551ms/step - loss: 0.0042 - acc: 0.9992 - recall: 0.5306 - precision: 0.9995 - f1_score: 0.8311 - val_loss: 0.0049 - val_acc: 0.9877 - val_recall: 0.5205 - val_precision: 0.9953 - val_f1_score: 0.8231\n",
      "Epoch 100/200\n",
      "1075/1075 [==============================] - ETA: 0s - loss: 0.0042 - acc: 0.9992 - recall: 0.5298 - precision: 0.9996 - f1_score: 0.8311\n",
      "Epoch 00100: val_f1_score did not improve from 0.82355\n",
      "1075/1075 [==============================] - 598s 556ms/step - loss: 0.0042 - acc: 0.9992 - recall: 0.5298 - precision: 0.9996 - f1_score: 0.8311 - val_loss: 0.0050 - val_acc: 0.9872 - val_recall: 0.5355 - val_precision: 0.9948 - val_f1_score: 0.8226\n",
      "Epoch 101/200\n",
      "1075/1075 [==============================] - ETA: 0s - loss: 0.0042 - acc: 0.9992 - recall: 0.5295 - precision: 0.9996 - f1_score: 0.8311\n",
      "Epoch 00101: val_f1_score improved from 0.82355 to 0.82383, saving model to /app/_data/models/sites/ssw/eff0_ssw.h5\n",
      "1075/1075 [==============================] - 603s 561ms/step - loss: 0.0042 - acc: 0.9992 - recall: 0.5295 - precision: 0.9996 - f1_score: 0.8311 - val_loss: 0.0049 - val_acc: 0.9887 - val_recall: 0.5313 - val_precision: 0.9954 - val_f1_score: 0.8238\n",
      "Epoch 102/200\n",
      "1075/1075 [==============================] - ETA: 0s - loss: 0.0042 - acc: 0.9992 - recall: 0.5296 - precision: 0.9995 - f1_score: 0.8311\n",
      "Epoch 00102: val_f1_score did not improve from 0.82383\n",
      "1075/1075 [==============================] - 603s 561ms/step - loss: 0.0042 - acc: 0.9992 - recall: 0.5296 - precision: 0.9995 - f1_score: 0.8311 - val_loss: 0.0049 - val_acc: 0.9882 - val_recall: 0.5281 - val_precision: 0.9949 - val_f1_score: 0.8233\n",
      "Epoch 103/200\n",
      "1075/1075 [==============================] - ETA: 0s - loss: 0.0042 - acc: 0.9992 - recall: 0.5291 - precision: 0.9995 - f1_score: 0.8311\n",
      "Epoch 00103: val_f1_score did not improve from 0.82383\n",
      "1075/1075 [==============================] - 596s 554ms/step - loss: 0.0042 - acc: 0.9992 - recall: 0.5291 - precision: 0.9995 - f1_score: 0.8311 - val_loss: 0.0049 - val_acc: 0.9880 - val_recall: 0.5328 - val_precision: 0.9950 - val_f1_score: 0.8233\n",
      "Epoch 104/200\n",
      "1075/1075 [==============================] - ETA: 0s - loss: 0.0042 - acc: 0.9992 - recall: 0.5288 - precision: 0.9995 - f1_score: 0.8311\n",
      "Epoch 00104: val_f1_score did not improve from 0.82383\n",
      "1075/1075 [==============================] - 600s 558ms/step - loss: 0.0042 - acc: 0.9992 - recall: 0.5288 - precision: 0.9995 - f1_score: 0.8311 - val_loss: 0.0048 - val_acc: 0.9884 - val_recall: 0.5217 - val_precision: 0.9956 - val_f1_score: 0.8236\n",
      "Epoch 105/200\n",
      "1075/1075 [==============================] - ETA: 0s - loss: 0.0042 - acc: 0.9992 - recall: 0.5283 - precision: 0.9996 - f1_score: 0.8311\n",
      "Epoch 00105: val_f1_score did not improve from 0.82383\n",
      "1075/1075 [==============================] - 599s 557ms/step - loss: 0.0042 - acc: 0.9992 - recall: 0.5283 - precision: 0.9996 - f1_score: 0.8311 - val_loss: 0.0049 - val_acc: 0.9879 - val_recall: 0.5236 - val_precision: 0.9958 - val_f1_score: 0.8233\n",
      "Epoch 106/200\n",
      "1075/1075 [==============================] - ETA: 0s - loss: 0.0042 - acc: 0.9992 - recall: 0.5281 - precision: 0.9996 - f1_score: 0.8311\n",
      "Epoch 00106: val_f1_score did not improve from 0.82383\n",
      "\n",
      "Epoch 00106: ReduceLROnPlateau reducing learning rate to 0.00047829695977270604.\n",
      "1075/1075 [==============================] - 599s 557ms/step - loss: 0.0042 - acc: 0.9992 - recall: 0.5281 - precision: 0.9996 - f1_score: 0.8311 - val_loss: 0.0050 - val_acc: 0.9870 - val_recall: 0.5207 - val_precision: 0.9950 - val_f1_score: 0.8227\n",
      "Epoch 107/200\n",
      "1075/1075 [==============================] - ETA: 0s - loss: 0.0042 - acc: 0.9993 - recall: 0.5262 - precision: 0.9996 - f1_score: 0.8312\n",
      "Epoch 00107: val_f1_score did not improve from 0.82383\n",
      "1075/1075 [==============================] - 586s 545ms/step - loss: 0.0042 - acc: 0.9993 - recall: 0.5262 - precision: 0.9996 - f1_score: 0.8312 - val_loss: 0.0049 - val_acc: 0.9877 - val_recall: 0.5318 - val_precision: 0.9954 - val_f1_score: 0.8231\n",
      "Epoch 108/200\n",
      "1075/1075 [==============================] - ETA: 0s - loss: 0.0042 - acc: 0.9993 - recall: 0.5253 - precision: 0.9997 - f1_score: 0.8312\n",
      "Epoch 00108: val_f1_score did not improve from 0.82383\n",
      "1075/1075 [==============================] - 595s 554ms/step - loss: 0.0042 - acc: 0.9993 - recall: 0.5253 - precision: 0.9997 - f1_score: 0.8312 - val_loss: 0.0048 - val_acc: 0.9887 - val_recall: 0.5330 - val_precision: 0.9957 - val_f1_score: 0.8238\n",
      "Epoch 109/200\n",
      "1075/1075 [==============================] - ETA: 0s - loss: 0.0042 - acc: 0.9994 - recall: 0.5247 - precision: 0.9997 - f1_score: 0.8312\n",
      "Epoch 00109: val_f1_score did not improve from 0.82383\n",
      "1075/1075 [==============================] - 598s 557ms/step - loss: 0.0042 - acc: 0.9994 - recall: 0.5247 - precision: 0.9997 - f1_score: 0.8312 - val_loss: 0.0049 - val_acc: 0.9883 - val_recall: 0.5291 - val_precision: 0.9952 - val_f1_score: 0.8235\n",
      "Epoch 110/200\n",
      "1075/1075 [==============================] - ETA: 0s - loss: 0.0042 - acc: 0.9994 - recall: 0.5244 - precision: 0.9997 - f1_score: 0.8313\n",
      "Epoch 00110: val_f1_score did not improve from 0.82383\n",
      "1075/1075 [==============================] - 594s 553ms/step - loss: 0.0042 - acc: 0.9994 - recall: 0.5244 - precision: 0.9997 - f1_score: 0.8313 - val_loss: 0.0049 - val_acc: 0.9883 - val_recall: 0.5182 - val_precision: 0.9957 - val_f1_score: 0.8234\n",
      "Epoch 111/200\n",
      "1075/1075 [==============================] - ETA: 0s - loss: 0.0042 - acc: 0.9994 - recall: 0.5244 - precision: 0.9997 - f1_score: 0.8312\n",
      "Epoch 00111: val_f1_score did not improve from 0.82383\n",
      "\n",
      "Epoch 00111: ReduceLROnPlateau reducing learning rate to 0.0004304672533180565.\n",
      "1075/1075 [==============================] - 594s 553ms/step - loss: 0.0042 - acc: 0.9994 - recall: 0.5244 - precision: 0.9997 - f1_score: 0.8312 - val_loss: 0.0049 - val_acc: 0.9884 - val_recall: 0.5354 - val_precision: 0.9954 - val_f1_score: 0.8236\n",
      "Epoch 112/200\n",
      "1075/1075 [==============================] - ETA: 0s - loss: 0.0042 - acc: 0.9995 - recall: 0.5215 - precision: 0.9997 - f1_score: 0.8313\n",
      "Epoch 00112: val_f1_score did not improve from 0.82383\n",
      "1075/1075 [==============================] - 601s 559ms/step - loss: 0.0042 - acc: 0.9995 - recall: 0.5215 - precision: 0.9997 - f1_score: 0.8313 - val_loss: 0.0049 - val_acc: 0.9884 - val_recall: 0.5243 - val_precision: 0.9957 - val_f1_score: 0.8235\n",
      "Epoch 113/200\n",
      "1075/1075 [==============================] - ETA: 0s - loss: 0.0042 - acc: 0.9995 - recall: 0.5207 - precision: 0.9998 - f1_score: 0.8313Restoring model weights from the end of the best epoch.\n",
      "\n",
      "Epoch 00113: val_f1_score did not improve from 0.82383\n",
      "1075/1075 [==============================] - 596s 554ms/step - loss: 0.0042 - acc: 0.9995 - recall: 0.5207 - precision: 0.9998 - f1_score: 0.8313 - val_loss: 0.0049 - val_acc: 0.9887 - val_recall: 0.5230 - val_precision: 0.9958 - val_f1_score: 0.8238\n",
      "Epoch 00113: early stopping\n"
     ]
    }
   ],
   "source": [
    "history = model.fit(\n",
    "    gen_train,\n",
    "    validation_data=gen_valid,\n",
    "    epochs=200,\n",
    "    steps_per_epoch=train.shape[0] // BATCH_SIZE,\n",
    "    validation_steps=valid.shape[0] // BATCH_SIZE,\n",
    "    verbose=1,\n",
    "    workers=30,\n",
    "    callbacks=callbacks,\n",
    ")"
   ]
  },
  {
   "cell_type": "code",
   "execution_count": null,
   "metadata": {},
   "outputs": [],
   "source": [
    "import kaggle"
   ]
  },
  {
   "cell_type": "code",
   "execution_count": 57,
   "metadata": {},
   "outputs": [
    {
     "name": "stdout",
     "output_type": "stream",
     "text": [
      "Warning: Your Kaggle API key is readable by other users on this system! To fix this, you can run 'chmod 600 /app/kaggle.json'\n",
      "Data package template written to: /app/_data/models/Eff01/dataset-metadata.json\n"
     ]
    }
   ],
   "source": [
    "! kaggle datasets init -p /app/_data/models/Eff2_3"
   ]
  },
  {
   "cell_type": "code",
   "execution_count": 60,
   "metadata": {},
   "outputs": [
    {
     "name": "stdout",
     "output_type": "stream",
     "text": [
      "Warning: Your Kaggle API key is readable by other users on this system! To fix this, you can run 'chmod 600 /app/kaggle.json'\n",
      "Starting upload for file dict_birds.json\n",
      "100%|██████████████████████████████████████| 5.86k/5.86k [00:01<00:00, 3.59kB/s]\n",
      "Upload successful: dict_birds.json (6KB)\n",
      "Starting upload for file eff0_1.h5\n",
      "100%|███████████████████████████████████████| 52.7M/52.7M [01:21<00:00, 675kB/s]\n",
      "Upload successful: eff0_1.h5 (53MB)\n",
      "Skipping folder: .ipynb_checkpoints; use '--dir-mode' to upload folders\n",
      "Your private Dataset is being created. Please check progress at https://www.kaggle.com/nataliayurasova/Eff01Initial\n"
     ]
    }
   ],
   "source": [
    "! kaggle datasets create -p /app/_data/models/Eff2_3"
   ]
  },
  {
   "cell_type": "code",
   "execution_count": null,
   "metadata": {},
   "outputs": [],
   "source": []
  }
 ],
 "metadata": {
  "kernelspec": {
   "display_name": "Python 3",
   "language": "python",
   "name": "python3"
  },
  "language_info": {
   "codemirror_mode": {
    "name": "ipython",
    "version": 3
   },
   "file_extension": ".py",
   "mimetype": "text/x-python",
   "name": "python",
   "nbconvert_exporter": "python",
   "pygments_lexer": "ipython3",
   "version": "3.8.5"
  }
 },
 "nbformat": 4,
 "nbformat_minor": 4
}
