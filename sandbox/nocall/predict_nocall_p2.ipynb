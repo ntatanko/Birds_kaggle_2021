{
 "cells": [
  {
   "cell_type": "code",
   "execution_count": 1,
   "metadata": {},
   "outputs": [],
   "source": [
    "import os\n",
    "import shutil\n",
    "import warnings\n",
    "\n",
    "import numpy as np\n",
    "import pandas as pd\n",
    "import plotly.graph_objects as go\n",
    "import torchaudio\n",
    "\n",
    "warnings.filterwarnings(action=\"ignore\")\n",
    "from IPython.core.interactiveshell import InteractiveShell\n",
    "\n",
    "InteractiveShell.ast_node_interactivity = \"all\"\n",
    "import json\n",
    "\n",
    "import geopandas\n",
    "import librosa\n",
    "import librosa.display\n",
    "import matplotlib.pyplot as plt\n",
    "import scipy.stats as st\n",
    "import seaborn as sns\n",
    "import soundfile\n",
    "import tensorflow as tf\n",
    "import tensorflow_addons as tfa\n",
    "import torch\n",
    "\n",
    "%matplotlib inline\n",
    "from PIL import Image\n",
    "from sklearn.model_selection import train_test_split\n",
    "from sklearn.utils import shuffle\n",
    "from tensorflow import keras\n",
    "from tensorflow.keras.models import Sequential\n",
    "from tensorflow.keras.optimizers import Adam\n",
    "from torchaudio.transforms import MelSpectrogram\n",
    "from tqdm import tqdm\n",
    "\n",
    "from src.gen_short_nocall import Mel_Provider\n",
    "from src.prepare_dataset import (\n",
    "    choose_ids,\n",
    "    make_dict_birds,\n",
    "    make_intervals,\n",
    "    make_intervals_upsampling,\n",
    "    prepare_dataset,\n",
    ")"
   ]
  },
  {
   "cell_type": "code",
   "execution_count": 2,
   "metadata": {},
   "outputs": [],
   "source": [
    "SEED = 42\n",
    "IMG_SIZE = 224\n",
    "SAMPLE_RATE = 32000\n",
    "N_FFT = 2048\n",
    "SIGNAL_LENGTH = 5\n",
    "FREQ_MIN = 0\n",
    "FREQ_MAX = 16000\n",
    "WIN_LENGHT = 1024\n",
    "BATCH_SIZE = 410\n",
    "list_drop = [\n",
    "    \"XC509721.ogg\",\n",
    "    \"XC428067.ogg\",\n",
    "    \"XC523831.ogg\",\n",
    "    \"XC523960.ogg\",\n",
    "    \"XC237870.ogg\",\n",
    "    \"XC129924.ogg\",\n",
    "    \"XC576851.ogg\",\n",
    "    \"XC579430.ogg\",\n",
    "    \"XC590621.ogg\",\n",
    "]"
   ]
  },
  {
   "cell_type": "code",
   "execution_count": 3,
   "metadata": {},
   "outputs": [],
   "source": [
    "# def my_floor(a, precision=2):\n",
    "#     dec = a - np.floor(a)\n",
    "#     dec = dec * 10 ** precision\n",
    "#     dec = np.floor(dec) / 10 ** precision\n",
    "#     b = np.floor(a) + dec\n",
    "#     return b\n",
    "\n",
    "# def make_intervals(array, sig_lenght=5):\n",
    "#     dict_intervals = {}\n",
    "\n",
    "#     for row in array:\n",
    "#         filename = row[0]\n",
    "#         duration = row[1]\n",
    "#         file_path = row[2]\n",
    "#         if duration <= 10:\n",
    "#             step = 0.5\n",
    "#         else:\n",
    "#             step = 1\n",
    "#         for i in np.arange(sig_lenght, duration + 0.1, step):\n",
    "#             start = i - sig_lenght\n",
    "#             end = i\n",
    "#             if end <= duration:\n",
    "#                 row_id = filename[:-4] + \"_\" + \"_\".join(str(end).split(\".\"))\n",
    "#                 dict_intervals[row_id] = [end, filename]\n",
    "#             dict_intervals[row_id] = [filename, start, end, file_path]\n",
    "#     birds_intervals = pd.DataFrame(dict_intervals).T\n",
    "#     birds_intervals.columns = [\"filename\", \"start_sec\", \"end_sec\", \"file_path\"]\n",
    "#     birds_intervals[\"row_id\"] = birds_intervals.index\n",
    "#     return birds_intervals\n",
    "\n",
    "# all_audio = pd.read_csv(\"/app/_data/all_audio_initial.csv\")\n",
    "# all_audio = all_audio.query(\"filename not in @list_drop\")\n",
    "\n",
    "# short_audio_df = all_audio[\n",
    "#     ~all_audio[\"file_path\"].str.contains(\"train_soundscapes\")\n",
    "# ].reset_index(drop=True)\n",
    "\n",
    "# array_for_cut = short_audio_df[[\"filename\", \"duration\", \"file_path\"]].values\n",
    "\n",
    "# birds_intervals = make_intervals(array_for_cut, 5)\n",
    "\n",
    "# birds_intervals.head()"
   ]
  },
  {
   "cell_type": "code",
   "execution_count": 4,
   "metadata": {},
   "outputs": [],
   "source": [
    "# birds_intervals.to_csv('/app/_data/labels_nocall/birds_intervals_to_predict.csv')"
   ]
  },
  {
   "cell_type": "code",
   "execution_count": 5,
   "metadata": {},
   "outputs": [],
   "source": [
    "birds_intervals = pd.read_csv(\n",
    "    \"/app/_data/labels_nocall/birds_intervals_to_predict.csv\", index_col=[0]\n",
    ").reset_index(drop=True)"
   ]
  },
  {
   "cell_type": "code",
   "execution_count": 6,
   "metadata": {},
   "outputs": [],
   "source": [
    "class MEL_Generator_Short(keras.utils.Sequence):\n",
    "    def __init__(\n",
    "        self,\n",
    "        df,\n",
    "        n_mels,\n",
    "        sample_rate,\n",
    "        mel_image_size,\n",
    "        signal_lenght,\n",
    "        seed,\n",
    "        mel_provider=Mel_Provider,\n",
    "        norm_mel=True,\n",
    "        wave_dir=None,\n",
    "        long_mel_dir=None,\n",
    "        batch_size=32,\n",
    "        augment=None,\n",
    "    ):\n",
    "        self.mel_provider = mel_provider\n",
    "        self.df = df.reset_index(drop=True)\n",
    "        self.n_mels = n_mels\n",
    "        self.sample_rate = sample_rate\n",
    "        self.mel_image_size = mel_image_size\n",
    "        self.signal_lenght = signal_lenght\n",
    "        self.wave_dir = wave_dir\n",
    "        self.norm_mel = norm_mel\n",
    "        self.batch_size = batch_size\n",
    "        self.seed = seed\n",
    "        self.file_path = self.df['file_path'].values\n",
    "        self.row_id = self.df['row_id'].values\n",
    "        self.end_sec = self.df['end_sec'].values\n",
    "        self.filename = self.df['filename'].values\n",
    "    def __len__(self):\n",
    "        return self.df.shape[0] // self.batch_size\n",
    "\n",
    "    def get_audio(\n",
    "        self,\n",
    "        file_path,\n",
    "        end_sec=None,\n",
    "    ):\n",
    "        wave_dir = self.wave_dir\n",
    "        file_name = file_path.split(\"/\")[-1][:-4]\n",
    "        signal_lenght = self.signal_lenght\n",
    "        if wave_dir is not None:\n",
    "            if os.path.isfile(wave_dir + file_name + \".npy\"):\n",
    "                try:\n",
    "                    wave = np.load(wave_dir + file_name + \".npy\")\n",
    "                except:\n",
    "                    wave, sr = librosa.load(file_path, sr=self.sample_rate)\n",
    "            else:\n",
    "                wave, sr = librosa.load(file_path, sr=self.sample_rate)\n",
    "        else:\n",
    "            wave, sr = librosa.load(file_path, sr=self.sample_rate)\n",
    "        if wave_dir is not None:\n",
    "            if not os.path.isfile(wave_dir + file_name + \".npy\"):\n",
    "                if not os.path.exists(wave_dir):\n",
    "                    os.mkdir(wave_dir)\n",
    "                np.save(wave_dir + file_name, wave)\n",
    "        if end_sec is not None:\n",
    "            if end_sec < signal_lenght:\n",
    "                end_sec = signal_lenght\n",
    "            end = int(end_sec * self.sample_rate)\n",
    "            end = end if end < len(wave) else len(wave) - 100\n",
    "            start = int(end - (signal_lenght * self.sample_rate))\n",
    "            if start < 0:\n",
    "                start = 0\n",
    "                end = signal_lenght * self.sample_rate\n",
    "            wave = wave[start:end]\n",
    "        return wave\n",
    "\n",
    "    def __getitem__(self, batch_ix):\n",
    "        b_X = np.zeros(\n",
    "            (self.batch_size, self.mel_image_size, self.mel_image_size, 3),\n",
    "            dtype=np.uint8,\n",
    "        )\n",
    "\n",
    "        b_Y = np.zeros(\n",
    "            (self.batch_size, 1),\n",
    "        )\n",
    "\n",
    "        for i in range(self.batch_size):\n",
    "            b_X[i]= self._get_one(\n",
    "                i + self.batch_size * batch_ix,\n",
    "            )\n",
    "\n",
    "        return b_X, b_Y\n",
    "\n",
    "    def _get_one(self, ix):\n",
    "        file_path = self.file_path[ix]\n",
    "        end_sec = self.end_sec[ix]\n",
    "        filename = self.filename[ix]\n",
    "        row_id = self.row_id[ix]\n",
    "\n",
    "        wave = self.get_audio(file_path, end_sec)\n",
    "        mel_spec = self.mel_provider.msg(wave)\n",
    "\n",
    "        if mel_spec.shape != (self.mel_image_size, self.mel_image_size):\n",
    "            mel_spec = Image.fromarray(mel_spec)\n",
    "            mel_spec = mel_spec.resize(\n",
    "                (self.mel_image_size, self.mel_image_size),\n",
    "                Image.BICUBIC,\n",
    "            )\n",
    "            mel_spec = np.array(mel_spec)\n",
    "        mel_spec = np.round(mel_spec * 255)\n",
    "        mel_spec = np.repeat(np.expand_dims(mel_spec.astype(np.uint8), 2), 3, 2)\n",
    "#         mel_spec = np.expand_dims(mel_spec, axis=0)\n",
    "\n",
    "        return mel_spec"
   ]
  },
  {
   "cell_type": "code",
   "execution_count": 7,
   "metadata": {},
   "outputs": [
    {
     "data": {
      "text/plain": [
       "(3269758, 5)"
      ]
     },
     "execution_count": 7,
     "metadata": {},
     "output_type": "execute_result"
    }
   ],
   "source": [
    "birds_intervals.shape"
   ]
  },
  {
   "cell_type": "code",
   "execution_count": 8,
   "metadata": {},
   "outputs": [],
   "source": [
    "df1 = birds_intervals.loc[:1500000]\n",
    "df2 = birds_intervals.loc[1500000:]"
   ]
  },
  {
   "cell_type": "code",
   "execution_count": 9,
   "metadata": {},
   "outputs": [],
   "source": [
    "mel_pr = Mel_Provider(\n",
    "    n_fft=N_FFT,\n",
    "    win_length=WIN_LENGHT,\n",
    "    n_mels=IMG_SIZE,\n",
    "    sample_rate=SAMPLE_RATE,\n",
    "    mel_image_size=IMG_SIZE,\n",
    "    min_frequency=FREQ_MIN,\n",
    "    max_frequency=FREQ_MAX,\n",
    "    signal_lenght=SIGNAL_LENGTH,\n",
    ")"
   ]
  },
  {
   "cell_type": "code",
   "execution_count": 10,
   "metadata": {},
   "outputs": [
    {
     "name": "stdout",
     "output_type": "stream",
     "text": [
      "INFO:tensorflow:Mixed precision compatibility check (mixed_float16): OK\n",
      "Your GPU will likely run quickly with dtype policy mixed_float16 as it has compute capability of at least 7.0. Your GPU: NVIDIA GeForce RTX 3090, compute capability 8.6\n"
     ]
    }
   ],
   "source": [
    "model = keras.models.load_model(\"/app/_data/models/nocall/eff0_nocall_1.h5\"'')"
   ]
  },
  {
   "cell_type": "code",
   "execution_count": 11,
   "metadata": {},
   "outputs": [],
   "source": [
    "all_gen = MEL_Generator_Short(\n",
    "    df=df2,\n",
    "    n_mels=IMG_SIZE,\n",
    "    seed=SEED,\n",
    "    sample_rate=SAMPLE_RATE,\n",
    "    mel_image_size=IMG_SIZE,\n",
    "    batch_size=BATCH_SIZE,\n",
    "    signal_lenght=SIGNAL_LENGTH,\n",
    "    mel_provider=mel_pr,\n",
    "    wave_dir=\"/app/_data/npy/waves_npy/\",\n",
    "    norm_mel=True,\n",
    ")"
   ]
  },
  {
   "cell_type": "code",
   "execution_count": 12,
   "metadata": {},
   "outputs": [],
   "source": [
    "dict_birds = {\"nocall\": 0, \"call\": 1}"
   ]
  },
  {
   "cell_type": "code",
   "execution_count": 13,
   "metadata": {},
   "outputs": [
    {
     "name": "stdout",
     "output_type": "stream",
     "text": [
      "4316/4316 [==============================] - 6963s 2s/step\n"
     ]
    }
   ],
   "source": [
    "pred2 = model.predict(all_gen, max_queue_size=50,verbose=1,\n",
    "    workers=30)"
   ]
  },
  {
   "cell_type": "code",
   "execution_count": 17,
   "metadata": {},
   "outputs": [],
   "source": [
    "pred_df2 = pd.DataFrame(pred2)\n",
    "\n",
    "pred_df2['row_id'] = all_gen.row_id[:len(pred_df2)]\n",
    "\n",
    "pred_df2['filename'] = all_gen.filename[:len(pred_df2)]\n",
    "\n",
    "pred_df2['end_sec'] = all_gen.end_sec[:len(pred_df2)]"
   ]
  },
  {
   "cell_type": "code",
   "execution_count": 18,
   "metadata": {},
   "outputs": [],
   "source": [
    "l = list(all_gen.row_id[len(pred_df2):])\n",
    "df22 = df2.query('row_id in @l')"
   ]
  },
  {
   "cell_type": "code",
   "execution_count": 19,
   "metadata": {},
   "outputs": [],
   "source": [
    "all_gen22 = MEL_Generator_Short(\n",
    "    df=df22,\n",
    "    n_mels=IMG_SIZE,\n",
    "    seed=SEED,\n",
    "    sample_rate=SAMPLE_RATE,\n",
    "    mel_image_size=IMG_SIZE,\n",
    "    batch_size=len(df22),\n",
    "    signal_lenght=SIGNAL_LENGTH,\n",
    "    mel_provider=mel_pr,\n",
    "    wave_dir=\"/app/_data/npy/waves_npy/\",\n",
    "    norm_mel=True,)"
   ]
  },
  {
   "cell_type": "code",
   "execution_count": 20,
   "metadata": {},
   "outputs": [
    {
     "name": "stdout",
     "output_type": "stream",
     "text": [
      "1/1 [==============================] - 0s 75ms/step\n"
     ]
    }
   ],
   "source": [
    "pred22 = model.predict(all_gen22, max_queue_size=50,verbose=1,\n",
    "    workers=30)"
   ]
  },
  {
   "cell_type": "code",
   "execution_count": 21,
   "metadata": {},
   "outputs": [],
   "source": [
    "pred_df22 = pd.DataFrame(pred22)\n",
    "\n",
    "pred_df22['row_id'] = all_gen22.row_id\n",
    "\n",
    "pred_df22['filename'] = all_gen22.filename\n",
    "\n",
    "pred_df22['end_sec'] = all_gen22.end_sec"
   ]
  },
  {
   "cell_type": "code",
   "execution_count": 22,
   "metadata": {},
   "outputs": [],
   "source": [
    "final_pred2= pd.concat([pred_df2, pred_df22], axis=0, ignore_index=True)"
   ]
  },
  {
   "cell_type": "code",
   "execution_count": null,
   "metadata": {},
   "outputs": [],
   "source": [
    "pred2 = pd.DataFrame(dict_pred).T"
   ]
  },
  {
   "cell_type": "code",
   "execution_count": 23,
   "metadata": {},
   "outputs": [],
   "source": [
    "final_pred2.to_csv('/app/_data/labels_nocall/predictions_2.csv')"
   ]
  },
  {
   "cell_type": "code",
   "execution_count": null,
   "metadata": {},
   "outputs": [],
   "source": []
  }
 ],
 "metadata": {
  "kernelspec": {
   "display_name": "Python 3",
   "language": "python",
   "name": "python3"
  },
  "language_info": {
   "codemirror_mode": {
    "name": "ipython",
    "version": 3
   },
   "file_extension": ".py",
   "mimetype": "text/x-python",
   "name": "python",
   "nbconvert_exporter": "python",
   "pygments_lexer": "ipython3",
   "version": "3.8.5"
  }
 },
 "nbformat": 4,
 "nbformat_minor": 4
}
