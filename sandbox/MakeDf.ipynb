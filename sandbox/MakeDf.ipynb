{
 "cells": [
  {
   "cell_type": "code",
   "execution_count": 1,
   "metadata": {},
   "outputs": [],
   "source": [
    "import os\n",
    "import shutil\n",
    "import warnings\n",
    "\n",
    "import numpy as np\n",
    "import pandas as pd\n",
    "import torchaudio\n",
    "\n",
    "warnings.filterwarnings(action=\"ignore\")\n",
    "from IPython.core.interactiveshell import InteractiveShell\n",
    "\n",
    "InteractiveShell.ast_node_interactivity = \"all\"\n",
    "import json\n",
    "\n",
    "import geopandas\n",
    "import librosa\n",
    "import librosa.display\n",
    "import matplotlib.pyplot as plt\n",
    "import scipy.stats as st\n",
    "import seaborn as sns\n",
    "import soundfile\n",
    "import tensorflow as tf\n",
    "import torch\n",
    "\n",
    "%matplotlib inline\n",
    "from PIL import Image\n",
    "from sklearn.model_selection import train_test_split\n",
    "from sklearn.utils import shuffle\n",
    "from tensorflow import keras\n",
    "from tensorflow.keras.models import Sequential\n",
    "from tensorflow.keras.optimizers import Adam\n",
    "from torchaudio.transforms import MelSpectrogram\n",
    "from tqdm import tqdm"
   ]
  },
  {
   "cell_type": "code",
   "execution_count": 2,
   "metadata": {},
   "outputs": [],
   "source": [
    "SEED = 37\n",
    "IMG_SIZE = 260\n",
    "SAMPLE_RATE = 32000\n",
    "N_FFT = 2048\n",
    "SIGNAL_LENGTH = 5  # seconds\n",
    "FREQ_MIN = 500\n",
    "FREQ_MAX = 15000\n",
    "MAX_AUDIO_FILES = 100\n",
    "WIN_LENGHT = 128\n",
    "AUDIO_PATH = \"/app/_data/train_short_audio/\"\n",
    "JSON_PATH1 = \"/app/_data/my/500_miles_monts.json\"\n",
    "JSON_PATH2 = \"/app/_data/my/500_miles.json\""
   ]
  },
  {
   "cell_type": "code",
   "execution_count": 3,
   "metadata": {},
   "outputs": [
    {
     "data": {
      "text/plain": [
       "('XC579430.ogg', 'XC590621.ogg')"
      ]
     },
     "execution_count": 3,
     "metadata": {},
     "output_type": "execute_result"
    }
   ],
   "source": [
    "\"XC579430.ogg\", \"XC590621.ogg\" "
   ]
  },
  {
   "cell_type": "code",
   "execution_count": 45,
   "metadata": {},
   "outputs": [],
   "source": [
    "with open(JSON_PATH1, \"r\") as f:\n",
    "    birds_500_m = json.load(f)\n",
    "\n",
    "with open(JSON_PATH2, \"r\") as f:\n",
    "    birds_500 = json.load(f)"
   ]
  },
  {
   "cell_type": "code",
   "execution_count": 46,
   "metadata": {},
   "outputs": [],
   "source": [
    "# birds_500['total']"
   ]
  },
  {
   "cell_type": "code",
   "execution_count": 47,
   "metadata": {},
   "outputs": [
    {
     "data": {
      "text/plain": [
       "dict_keys(['COL', 'COR', 'SNE', 'SSW', 'Total'])"
      ]
     },
     "execution_count": 47,
     "metadata": {},
     "output_type": "execute_result"
    }
   ],
   "source": [
    "birds_500_m.keys()"
   ]
  },
  {
   "cell_type": "code",
   "execution_count": 3,
   "metadata": {},
   "outputs": [],
   "source": [
    "# train_soundscape_labels = pd.read_csv(\"/app/_data/train_soundscape_labels_orig.csv\")\n",
    "# train_metadata = pd.read_csv(\"/app/_data/train_metadata_orig.csv\")\n",
    "# test = pd.read_csv(\"/app/_data/test.csv\")\n",
    "# test_dates = pd.read_csv(\"/app/_data/test_soundscapes/test_set_recording_dates.csv\")"
   ]
  },
  {
   "cell_type": "code",
   "execution_count": 4,
   "metadata": {},
   "outputs": [],
   "source": [
    "all_audio = pd.read_csv(\"/app/_data/all_audio_initial.csv\")\n",
    "# all_audio = all_audio[all_audio[\"primary_label\"].str.len() <= 7]"
   ]
  },
  {
   "cell_type": "code",
   "execution_count": 6,
   "metadata": {},
   "outputs": [],
   "source": [
    "# all_audio\n"
   ]
  },
  {
   "cell_type": "code",
   "execution_count": 55,
   "metadata": {},
   "outputs": [],
   "source": [
    "all_audio_500 = all_audio.query('primary_label in @birds_500[\"total\"] and secondary_labels in @birds_500[\"total\"]')"
   ]
  },
  {
   "cell_type": "code",
   "execution_count": 57,
   "metadata": {},
   "outputs": [],
   "source": [
    "all_audio_500.to_csv('/app/_data/my/all_audio_500.csv', index = False)"
   ]
  },
  {
   "cell_type": "code",
   "execution_count": null,
   "metadata": {},
   "outputs": [],
   "source": [
    "# with open(\"/app/_data/dict_birds.json\", \"r\") as d:\n",
    "#     dict_birds = json.load(d)"
   ]
  },
  {
   "cell_type": "markdown",
   "metadata": {},
   "source": [
    "# chunks"
   ]
  },
  {
   "cell_type": "code",
   "execution_count": 14,
   "metadata": {},
   "outputs": [],
   "source": [
    "def my_floor(a, precision=2):\n",
    "    dec = a - np.floor(a)\n",
    "    dec = dec * 10 ** precision\n",
    "    dec = np.floor(dec) / 10 ** precision\n",
    "    b = np.floor(a) + dec\n",
    "    return b"
   ]
  },
  {
   "cell_type": "code",
   "execution_count": 39,
   "metadata": {},
   "outputs": [],
   "source": [
    "def make_segments(row, sig_lenght, ordered=True, rand=False):\n",
    "    duration = row[\"duration\"]\n",
    "    max_num_intervals = int(duration // sig_lenght)\n",
    "    if ordered:\n",
    "        if max_num_intervals == 1:\n",
    "            if duration >= 7:\n",
    "                intervals = [\n",
    "                    [0, sig_lenght],\n",
    "                    [my_floor(duration - sig_lenght), my_floor(duration)],\n",
    "                ]\n",
    "            else:\n",
    "                start = np.round((duration - sig_lenght) / 2, 2)\n",
    "                intervals = [start, start + sig_lenght]\n",
    "        elif max_num_intervals == 2:\n",
    "            center = my_floor((duration - sig_lenght) / 2)\n",
    "            intervals = [\n",
    "                [0, sig_lenght],\n",
    "                [my_floor(center), my_floor(center + sig_lenght)],\n",
    "                [my_floor(duration - sig_lenght), my_floor(duration)],\n",
    "            ]\n",
    "        else:\n",
    "            intervals = []\n",
    "            for i in range(max_num_intervals):\n",
    "                intervals.append([i * sig_lenght, (i + 1) * sig_lenght])\n",
    "            if duration % sig_lenght >= 2:\n",
    "                intervals.append([my_floor(duration - sig_lenght), my_floor(duration)])\n",
    "    if rand:\n",
    "        if max_num_intervals == 1:\n",
    "            if duration >= 7:\n",
    "                start1 = my_floor(\n",
    "                    np.random.randint(0, np.floor(duration - sig_lenght))\n",
    "                    + np.random.rand()\n",
    "                )\n",
    "                start2 = my_floor(\n",
    "                    np.random.randint(0, np.floor(duration - sig_lenght))\n",
    "                    + np.random.rand()\n",
    "                )\n",
    "                intervals = [\n",
    "                    [start1, my_floor(start1 + sig_lenght)],\n",
    "                    [start2, my_floor(start2 + sig_lenght)],\n",
    "                ]\n",
    "            elif 6 <= duration < 7:\n",
    "                start = my_floor(\n",
    "                    np.random.randint(0, np.floor(duration - sig_lenght))\n",
    "                    + np.random.rand()\n",
    "                )\n",
    "                intervals = [my_floor(start), my_floor(start + sig_lenght)]\n",
    "            elif duration < 6:\n",
    "                start = np.round((duration - sig_lenght) / 2, 2)\n",
    "                intervals = [start, start + sig_lenght]\n",
    "\n",
    "        elif max_num_intervals == 2:\n",
    "            intervals = []\n",
    "            for i in range(3):\n",
    "                start = my_floor(\n",
    "                    np.random.randint(0, np.floor(duration - sig_lenght))\n",
    "                    + np.random.rand()\n",
    "                )\n",
    "                intervals.append([my_floor(start), my_floor(start + sig_lenght)])\n",
    "        else:\n",
    "            intervals = []\n",
    "            for i in range(max_num_intervals):\n",
    "                start = my_floor(\n",
    "                    np.random.randint(0, np.floor(duration - sig_lenght))\n",
    "                    + np.random.rand()\n",
    "                )\n",
    "                intervals.append([my_floor(start), my_floor(start + sig_lenght)])\n",
    "    new_row = row.copy()\n",
    "    df = pd.DataFrame(columns=row1.index.tolist())\n",
    "    if max_num_intervals == 1 and duration < 7:\n",
    "        start = intervals[0]\n",
    "        end = intervals[1]\n",
    "        new_row[\"start_sec\"] = start\n",
    "        new_row[\"end_sec\"] = end\n",
    "        new_row[\"row_id\"] = new_row[\"filename\"] + \"_\" + \"_\".join(str(end).split(\".\"))\n",
    "        df.loc[0] = new_row\n",
    "    else:\n",
    "        for i in range(len(intervals)):\n",
    "            start = intervals[i][0]\n",
    "            end = intervals[i][1]\n",
    "            new_row[\"start_sec\"] = start\n",
    "            new_row[\"end_sec\"] = end\n",
    "            new_row[\"row_id\"] = (\n",
    "                new_row[\"filename\"] + \"_\" + \"_\".join(str(end).split(\".\"))\n",
    "            )\n",
    "            df.loc[i] = new_row\n",
    "\n",
    "    return df"
   ]
  },
  {
   "cell_type": "code",
   "execution_count": 7,
   "metadata": {},
   "outputs": [],
   "source": [
    "def make_segments(row, sig_lenght, ordered=True, rand=False):\n",
    "    duration = row[1]\n",
    "    max_num_intervals = int(duration // sig_lenght)\n",
    "    dict_intervals = []\n",
    "    if ordered:\n",
    "        if max_num_intervals == 1:\n",
    "            if duration >= 7:\n",
    "                intervals = [\n",
    "                    [0, sig_lenght],\n",
    "                    [my_floor(duration - sig_lenght), my_floor(duration)],\n",
    "                ]\n",
    "            else:\n",
    "                start = np.round((duration - sig_lenght) / 2, 2)\n",
    "                intervals = [start, start + sig_lenght]\n",
    "        elif max_num_intervals == 2:\n",
    "            center = my_floor((duration - sig_lenght) / 2)\n",
    "            intervals = [\n",
    "                [0, sig_lenght],\n",
    "                [my_floor(center), my_floor(center + sig_lenght)],\n",
    "                [my_floor(duration - sig_lenght), my_floor(duration)],\n",
    "            ]\n",
    "        else:\n",
    "            intervals = []\n",
    "            for i in range(max_num_intervals):\n",
    "                intervals.append([i * sig_lenght, (i + 1) * sig_lenght])\n",
    "            if duration % sig_lenght >= 2:\n",
    "                intervals.append([my_floor(duration - sig_lenght), my_floor(duration)])\n",
    "    if rand:\n",
    "        if max_num_intervals == 1:\n",
    "            if duration >= 7:\n",
    "                start1 = my_floor(\n",
    "                    np.random.randint(0, np.floor(duration - sig_lenght))\n",
    "                    + np.random.rand()\n",
    "                )\n",
    "                start2 = my_floor(\n",
    "                    np.random.randint(0, np.floor(duration - sig_lenght))\n",
    "                    + np.random.rand()\n",
    "                )\n",
    "                intervals = [\n",
    "                    [start1, my_floor(start1 + sig_lenght)],\n",
    "                    [start2, my_floor(start2 + sig_lenght)],\n",
    "                ]\n",
    "            elif 6 <= duration < 7:\n",
    "                start = my_floor(\n",
    "                    np.random.randint(0, np.floor(duration - sig_lenght))\n",
    "                    + np.random.rand()\n",
    "                )\n",
    "                intervals = [my_floor(start), my_floor(start + sig_lenght)]\n",
    "            elif duration < 6:\n",
    "                start = np.round((duration - sig_lenght) / 2, 2)\n",
    "                intervals = [start, start + sig_lenght]\n",
    "\n",
    "        elif max_num_intervals == 2:\n",
    "            intervals = []\n",
    "            for i in range(3):\n",
    "                start = my_floor(\n",
    "                    np.random.randint(0, np.floor(duration - sig_lenght))\n",
    "                    + np.random.rand()\n",
    "                )\n",
    "                intervals.append([my_floor(start), my_floor(start + sig_lenght)])\n",
    "        else:\n",
    "            intervals = []\n",
    "            for i in range(max_num_intervals):\n",
    "                start = my_floor(\n",
    "                    np.random.randint(0, np.floor(duration - sig_lenght))\n",
    "                    + np.random.rand()\n",
    "                )\n",
    "                intervals.append([my_floor(start), my_floor(start + sig_lenght)])\n",
    "    #     dict_intervals[0] = row[0]\n",
    "    #     dict_intervals[1] = intervals\n",
    "    #     dict_intervals[row[0]] = intervals\n",
    "    intervals.append(row[0])\n",
    "    if max_num_intervals == 1 and duration < 7:\n",
    "        start = intervals[0]\n",
    "        end = intervals[1]\n",
    "    else:\n",
    "        for i in range(len(intervals)):\n",
    "            start = intervals[i][0]\n",
    "            end = intervals[i][1]\n",
    "\n",
    "    return intervals"
   ]
  },
  {
   "cell_type": "code",
   "execution_count": 8,
   "metadata": {},
   "outputs": [],
   "source": [
    "short_audio_df = all_audio[\n",
    "    ~all_audio[\"file_path\"].str.contains(\"train_soundscapes\")\n",
    "].reset_index(drop=True)"
   ]
  },
  {
   "cell_type": "code",
   "execution_count": 9,
   "metadata": {},
   "outputs": [],
   "source": [
    "short_audio_df.index = short_audio_df[\"filename\"]"
   ]
  },
  {
   "cell_type": "code",
   "execution_count": 10,
   "metadata": {},
   "outputs": [],
   "source": [
    "array_for_cut = short_audio_df[[\"filename\", \"duration\"]].values"
   ]
  },
  {
   "cell_type": "code",
   "execution_count": 18,
   "metadata": {},
   "outputs": [
    {
     "data": {
      "text/plain": [
       "array([['XC109605.ogg', 63.6745625],\n",
       "       ['XC11209.ogg', 16.65415625],\n",
       "       ['XC127032.ogg', 47.1390625],\n",
       "       ...,\n",
       "       ['XC602701.ogg', 101.869],\n",
       "       ['XC614733.ogg', 16.4190625],\n",
       "       ['XC615888.ogg', 77.125]], dtype=object)"
      ]
     },
     "execution_count": 18,
     "metadata": {},
     "output_type": "execute_result"
    }
   ],
   "source": [
    "array_for_cut"
   ]
  },
  {
   "cell_type": "code",
   "execution_count": 15,
   "metadata": {},
   "outputs": [],
   "source": [
    "a = make_segments(array_for_cut[2], 5, ordered=False, rand=True)"
   ]
  },
  {
   "cell_type": "code",
   "execution_count": 16,
   "metadata": {},
   "outputs": [
    {
     "data": {
      "text/plain": [
       "[[34.79, 39.79],\n",
       " [12.15, 17.14],\n",
       " [0.93, 5.92],\n",
       " [23.1, 28.1],\n",
       " [23.98, 28.98],\n",
       " [28.08, 33.09],\n",
       " [2.06, 7.07],\n",
       " [36.67, 41.67],\n",
       " [36.36, 41.36],\n",
       " 'XC127032.ogg']"
      ]
     },
     "execution_count": 16,
     "metadata": {},
     "output_type": "execute_result"
    }
   ],
   "source": [
    "a"
   ]
  },
  {
   "cell_type": "code",
   "execution_count": 17,
   "metadata": {},
   "outputs": [
    {
     "data": {
      "text/plain": [
       "array([[34.79, 39.79],\n",
       "       [12.15, 17.14],\n",
       "       [ 0.93,  5.92],\n",
       "       [23.1 , 28.1 ],\n",
       "       [23.98, 28.98],\n",
       "       [28.08, 33.09],\n",
       "       [ 2.06,  7.07],\n",
       "       [36.67, 41.67],\n",
       "       [36.36, 41.36]])"
      ]
     },
     "execution_count": 17,
     "metadata": {},
     "output_type": "execute_result"
    }
   ],
   "source": [
    "np.array(a[:-1])"
   ]
  },
  {
   "cell_type": "code",
   "execution_count": 93,
   "metadata": {},
   "outputs": [],
   "source": [
    "d = {}\n",
    "d[b[-1]] = np.array(b[:-1])\n",
    "d[a[-1]] = np.array(a[:-1])"
   ]
  },
  {
   "cell_type": "code",
   "execution_count": 97,
   "metadata": {},
   "outputs": [
    {
     "data": {
      "text/plain": [
       "(3, 2)"
      ]
     },
     "execution_count": 97,
     "metadata": {},
     "output_type": "execute_result"
    }
   ],
   "source": [
    "d[\"XC11209.ogg\"].shape"
   ]
  },
  {
   "cell_type": "code",
   "execution_count": 100,
   "metadata": {},
   "outputs": [
    {
     "name": "stderr",
     "output_type": "stream",
     "text": [
      "100%|██████████| 62874/62874 [00:03<00:00, 18821.16it/s]\n"
     ]
    }
   ],
   "source": [
    "ord_cut = {}\n",
    "for i in tqdm(range(len(array_for_cut))):\n",
    "    row = array_for_cut[i]\n",
    "    seg = make_segments(row, 5, ordered=True, rand=False)\n",
    "    ord_cut[seg[-1]] = np.array(seg[:-1])"
   ]
  },
  {
   "cell_type": "code",
   "execution_count": 119,
   "metadata": {},
   "outputs": [
    {
     "data": {
      "text/plain": [
       "array([0.98, 5.98])"
      ]
     },
     "execution_count": 119,
     "metadata": {},
     "output_type": "execute_result"
    }
   ],
   "source": [
    "ord_cut[\"XC454273.ogg\"]"
   ]
  },
  {
   "cell_type": "code",
   "execution_count": 116,
   "metadata": {},
   "outputs": [],
   "source": [
    "col = [\n",
    "    \"rating\",\n",
    "    \"filename\",\n",
    "    \"row_id\",\n",
    "    \"class_weights\",\n",
    "    \"start_sec\",\n",
    "    \"end_sec\",\n",
    "]"
   ]
  },
  {
   "cell_type": "code",
   "execution_count": 117,
   "metadata": {},
   "outputs": [],
   "source": [
    "short_audio_df1 = short_audio_df[col]"
   ]
  },
  {
   "cell_type": "code",
   "execution_count": null,
   "metadata": {},
   "outputs": [
    {
     "name": "stderr",
     "output_type": "stream",
     "text": [
      " 56%|█████▋    | 35461/62874 [6:25:35<15:30:42,  2.04s/it] "
     ]
    }
   ],
   "source": [
    "df = pd.DataFrame(columns=col)\n",
    "for key in tqdm(ord_cut):\n",
    "    row = short_audio_df1.loc[key]\n",
    "    #     print(key)\n",
    "    for i in ord_cut[key]:\n",
    "        try:\n",
    "            start = i[0]\n",
    "            end = i[1]\n",
    "        except:\n",
    "            start = i\n",
    "            end = 1 + 5\n",
    "        filename = key.split(\".\")[0] + \"_\" + \"_\".join(str(end).split(\".\"))\n",
    "        row[\"start_sec\"] = start\n",
    "        row[\"end_sec\"] = end\n",
    "        row[\"row_id\"] = filename\n",
    "        df.loc[filename] = row"
   ]
  },
  {
   "cell_type": "code",
   "execution_count": 126,
   "metadata": {},
   "outputs": [],
   "source": [
    "aa = {\"a\": {\"b\": 1, \"c\": 2}}"
   ]
  },
  {
   "cell_type": "code",
   "execution_count": 134,
   "metadata": {},
   "outputs": [],
   "source": [
    "aa[\"a\"][\"b\"] = [1, 3]"
   ]
  },
  {
   "cell_type": "code",
   "execution_count": 135,
   "metadata": {},
   "outputs": [
    {
     "data": {
      "text/plain": [
       "{'a': {'b': [1, 3], 'c': 2}}"
      ]
     },
     "execution_count": 135,
     "metadata": {},
     "output_type": "execute_result"
    }
   ],
   "source": [
    "df"
   ]
  },
  {
   "cell_type": "code",
   "execution_count": 136,
   "metadata": {},
   "outputs": [
    {
     "name": "stderr",
     "output_type": "stream",
     "text": [
      "  0%|          | 0/62874 [00:00<?, ?it/s]\n"
     ]
    },
    {
     "ename": "TypeError",
     "evalue": "'str' object does not support item assignment",
     "output_type": "error",
     "traceback": [
      "\u001b[0;31m\u001b[0m",
      "\u001b[0;31mTypeError\u001b[0mTraceback (most recent call last)",
      "\u001b[0;32m<ipython-input-136-404ae22bb177>\u001b[0m in \u001b[0;36m<module>\u001b[0;34m\u001b[0m\n\u001b[1;32m     10\u001b[0m         \u001b[0mfilename\u001b[0m \u001b[0;34m=\u001b[0m \u001b[0mkey\u001b[0m\u001b[0;34m.\u001b[0m\u001b[0msplit\u001b[0m\u001b[0;34m(\u001b[0m\u001b[0;34m'.'\u001b[0m\u001b[0;34m)\u001b[0m\u001b[0;34m[\u001b[0m\u001b[0;36m0\u001b[0m\u001b[0;34m]\u001b[0m\u001b[0;34m+\u001b[0m\u001b[0;34m'_'\u001b[0m\u001b[0;34m+\u001b[0m\u001b[0;34m'_'\u001b[0m\u001b[0;34m.\u001b[0m\u001b[0mjoin\u001b[0m\u001b[0;34m(\u001b[0m\u001b[0mstr\u001b[0m\u001b[0;34m(\u001b[0m\u001b[0mend\u001b[0m\u001b[0;34m)\u001b[0m\u001b[0;34m.\u001b[0m\u001b[0msplit\u001b[0m\u001b[0;34m(\u001b[0m\u001b[0;34m'.'\u001b[0m\u001b[0;34m)\u001b[0m\u001b[0;34m)\u001b[0m\u001b[0;34m\u001b[0m\u001b[0;34m\u001b[0m\u001b[0m\n\u001b[1;32m     11\u001b[0m         \u001b[0mdict_ordered\u001b[0m\u001b[0;34m[\u001b[0m\u001b[0mkey\u001b[0m\u001b[0;34m]\u001b[0m \u001b[0;34m=\u001b[0m \u001b[0mfilename\u001b[0m\u001b[0;34m\u001b[0m\u001b[0;34m\u001b[0m\u001b[0m\n\u001b[0;32m---> 12\u001b[0;31m         \u001b[0mdict_ordered\u001b[0m\u001b[0;34m[\u001b[0m\u001b[0mkey\u001b[0m\u001b[0;34m]\u001b[0m\u001b[0;34m[\u001b[0m\u001b[0mfilename\u001b[0m\u001b[0;34m]\u001b[0m \u001b[0;34m=\u001b[0m \u001b[0;34m[\u001b[0m\u001b[0mstart\u001b[0m\u001b[0;34m,\u001b[0m \u001b[0mend\u001b[0m\u001b[0;34m]\u001b[0m\u001b[0;34m\u001b[0m\u001b[0;34m\u001b[0m\u001b[0m\n\u001b[0m",
      "\u001b[0;31mTypeError\u001b[0m: 'str' object does not support item assignment"
     ]
    }
   ],
   "source": [
    "dict_ordered = {}\n",
    "for key in tqdm(ord_cut):\n",
    "    for i in ord_cut[key]:\n",
    "        try:\n",
    "            start = i[0]\n",
    "            end = i[1]\n",
    "        except:\n",
    "            start = i\n",
    "            end = 1 + 5\n",
    "        filename = key.split(\".\")[0] + \"_\" + \"_\".join(str(end).split(\".\"))\n",
    "        dict_ordered[key] = filename\n",
    "        dict_ordered[key][filename] = [start, end]"
   ]
  },
  {
   "cell_type": "code",
   "execution_count": 46,
   "metadata": {},
   "outputs": [
    {
     "name": "stderr",
     "output_type": "stream",
     "text": [
      "100%|██████████| 62874/62874 [7:54:15<00:00,  2.21it/s]   \n"
     ]
    }
   ],
   "source": [
    "random_cut = pd.DataFrame(columns=all_audio.columns)\n",
    "for i in tqdm(range(len(short_audio_df))):\n",
    "    row = short_audio_df.loc[i]\n",
    "    #     print(i)\n",
    "    df = make_segments(row, 5, ordered=False, rand=True)\n",
    "    random_cut = pd.concat([random_cut, df], axis=0, ignore_index=True)"
   ]
  },
  {
   "cell_type": "code",
   "execution_count": 47,
   "metadata": {},
   "outputs": [],
   "source": [
    "random_cut.to_csv(\"/app/_data/random_cut1.csv\", index=False)"
   ]
  },
  {
   "cell_type": "code",
   "execution_count": 49,
   "metadata": {
    "collapsed": true,
    "jupyter": {
     "outputs_hidden": true
    }
   },
   "outputs": [
    {
     "name": "stderr",
     "output_type": "stream",
     "text": [
      "  0%|          | 155/62874 [00:28<3:13:47,  5.39it/s]\n"
     ]
    },
    {
     "ename": "KeyboardInterrupt",
     "evalue": "",
     "output_type": "error",
     "traceback": [
      "\u001b[0;31m\u001b[0m",
      "\u001b[0;31mKeyboardInterrupt\u001b[0mTraceback (most recent call last)",
      "\u001b[0;32m<ipython-input-49-a26902b9521c>\u001b[0m in \u001b[0;36m<module>\u001b[0;34m\u001b[0m\n\u001b[1;32m      3\u001b[0m     \u001b[0mrow\u001b[0m \u001b[0;34m=\u001b[0m \u001b[0mshort_audio_df\u001b[0m\u001b[0;34m.\u001b[0m\u001b[0mloc\u001b[0m\u001b[0;34m[\u001b[0m\u001b[0mi\u001b[0m\u001b[0;34m]\u001b[0m\u001b[0;34m\u001b[0m\u001b[0;34m\u001b[0m\u001b[0m\n\u001b[1;32m      4\u001b[0m \u001b[0;31m#     print(i)\u001b[0m\u001b[0;34m\u001b[0m\u001b[0;34m\u001b[0m\u001b[0;34m\u001b[0m\u001b[0m\n\u001b[0;32m----> 5\u001b[0;31m     \u001b[0mdf\u001b[0m \u001b[0;34m=\u001b[0m \u001b[0mmake_segments\u001b[0m\u001b[0;34m(\u001b[0m\u001b[0mrow\u001b[0m\u001b[0;34m,\u001b[0m \u001b[0;36m5\u001b[0m\u001b[0;34m,\u001b[0m \u001b[0mordered\u001b[0m\u001b[0;34m=\u001b[0m\u001b[0;32mTrue\u001b[0m\u001b[0;34m,\u001b[0m \u001b[0mrand\u001b[0m\u001b[0;34m=\u001b[0m\u001b[0;32mFalse\u001b[0m\u001b[0;34m)\u001b[0m\u001b[0;34m\u001b[0m\u001b[0;34m\u001b[0m\u001b[0m\n\u001b[0m\u001b[1;32m      6\u001b[0m     \u001b[0mordered_cut\u001b[0m \u001b[0;34m=\u001b[0m \u001b[0mpd\u001b[0m\u001b[0;34m.\u001b[0m\u001b[0mconcat\u001b[0m\u001b[0;34m(\u001b[0m\u001b[0;34m[\u001b[0m\u001b[0mordered_cut\u001b[0m\u001b[0;34m,\u001b[0m \u001b[0mdf\u001b[0m\u001b[0;34m]\u001b[0m\u001b[0;34m,\u001b[0m \u001b[0maxis\u001b[0m\u001b[0;34m=\u001b[0m\u001b[0;36m0\u001b[0m\u001b[0;34m,\u001b[0m \u001b[0mignore_index\u001b[0m\u001b[0;34m=\u001b[0m\u001b[0;32mTrue\u001b[0m\u001b[0;34m)\u001b[0m\u001b[0;34m\u001b[0m\u001b[0;34m\u001b[0m\u001b[0m\n",
      "\u001b[0;32m<ipython-input-39-95851a0be2a1>\u001b[0m in \u001b[0;36mmake_segments\u001b[0;34m(row, sig_lenght, ordered, rand)\u001b[0m\n\u001b[1;32m     67\u001b[0m                 \u001b[0mintervals\u001b[0m\u001b[0;34m.\u001b[0m\u001b[0mappend\u001b[0m\u001b[0;34m(\u001b[0m\u001b[0;34m[\u001b[0m\u001b[0mmy_floor\u001b[0m\u001b[0;34m(\u001b[0m\u001b[0mstart\u001b[0m\u001b[0;34m)\u001b[0m\u001b[0;34m,\u001b[0m\u001b[0mmy_floor\u001b[0m\u001b[0;34m(\u001b[0m \u001b[0mstart\u001b[0m \u001b[0;34m+\u001b[0m \u001b[0msig_lenght\u001b[0m\u001b[0;34m)\u001b[0m\u001b[0;34m]\u001b[0m\u001b[0;34m)\u001b[0m\u001b[0;34m\u001b[0m\u001b[0;34m\u001b[0m\u001b[0m\n\u001b[1;32m     68\u001b[0m     \u001b[0mnew_row\u001b[0m \u001b[0;34m=\u001b[0m \u001b[0mrow\u001b[0m\u001b[0;34m.\u001b[0m\u001b[0mcopy\u001b[0m\u001b[0;34m(\u001b[0m\u001b[0;34m)\u001b[0m\u001b[0;34m\u001b[0m\u001b[0;34m\u001b[0m\u001b[0m\n\u001b[0;32m---> 69\u001b[0;31m     \u001b[0mdf\u001b[0m \u001b[0;34m=\u001b[0m \u001b[0mpd\u001b[0m\u001b[0;34m.\u001b[0m\u001b[0mDataFrame\u001b[0m\u001b[0;34m(\u001b[0m\u001b[0mcolumns\u001b[0m\u001b[0;34m=\u001b[0m\u001b[0mrow1\u001b[0m\u001b[0;34m.\u001b[0m\u001b[0mindex\u001b[0m\u001b[0;34m.\u001b[0m\u001b[0mtolist\u001b[0m\u001b[0;34m(\u001b[0m\u001b[0;34m)\u001b[0m\u001b[0;34m)\u001b[0m\u001b[0;34m\u001b[0m\u001b[0;34m\u001b[0m\u001b[0m\n\u001b[0m\u001b[1;32m     70\u001b[0m     \u001b[0;32mif\u001b[0m \u001b[0mmax_num_intervals\u001b[0m\u001b[0;34m==\u001b[0m\u001b[0;36m1\u001b[0m \u001b[0;32mand\u001b[0m \u001b[0mduration\u001b[0m \u001b[0;34m<\u001b[0m \u001b[0;36m7\u001b[0m\u001b[0;34m:\u001b[0m\u001b[0;34m\u001b[0m\u001b[0;34m\u001b[0m\u001b[0m\n\u001b[1;32m     71\u001b[0m         \u001b[0mstart\u001b[0m \u001b[0;34m=\u001b[0m \u001b[0mintervals\u001b[0m\u001b[0;34m[\u001b[0m\u001b[0;36m0\u001b[0m\u001b[0;34m]\u001b[0m\u001b[0;34m\u001b[0m\u001b[0;34m\u001b[0m\u001b[0m\n",
      "\u001b[0;32m/usr/local/lib/python3.8/dist-packages/pandas/core/frame.py\u001b[0m in \u001b[0;36m__init__\u001b[0;34m(self, data, index, columns, dtype, copy)\u001b[0m\n\u001b[1;32m    527\u001b[0m \u001b[0;34m\u001b[0m\u001b[0m\n\u001b[1;32m    528\u001b[0m         \u001b[0;32melif\u001b[0m \u001b[0misinstance\u001b[0m\u001b[0;34m(\u001b[0m\u001b[0mdata\u001b[0m\u001b[0;34m,\u001b[0m \u001b[0mdict\u001b[0m\u001b[0;34m)\u001b[0m\u001b[0;34m:\u001b[0m\u001b[0;34m\u001b[0m\u001b[0;34m\u001b[0m\u001b[0m\n\u001b[0;32m--> 529\u001b[0;31m             \u001b[0mmgr\u001b[0m \u001b[0;34m=\u001b[0m \u001b[0minit_dict\u001b[0m\u001b[0;34m(\u001b[0m\u001b[0mdata\u001b[0m\u001b[0;34m,\u001b[0m \u001b[0mindex\u001b[0m\u001b[0;34m,\u001b[0m \u001b[0mcolumns\u001b[0m\u001b[0;34m,\u001b[0m \u001b[0mdtype\u001b[0m\u001b[0;34m=\u001b[0m\u001b[0mdtype\u001b[0m\u001b[0;34m)\u001b[0m\u001b[0;34m\u001b[0m\u001b[0;34m\u001b[0m\u001b[0m\n\u001b[0m\u001b[1;32m    530\u001b[0m         \u001b[0;32melif\u001b[0m \u001b[0misinstance\u001b[0m\u001b[0;34m(\u001b[0m\u001b[0mdata\u001b[0m\u001b[0;34m,\u001b[0m \u001b[0mma\u001b[0m\u001b[0;34m.\u001b[0m\u001b[0mMaskedArray\u001b[0m\u001b[0;34m)\u001b[0m\u001b[0;34m:\u001b[0m\u001b[0;34m\u001b[0m\u001b[0;34m\u001b[0m\u001b[0m\n\u001b[1;32m    531\u001b[0m             \u001b[0;32mimport\u001b[0m \u001b[0mnumpy\u001b[0m\u001b[0;34m.\u001b[0m\u001b[0mma\u001b[0m\u001b[0;34m.\u001b[0m\u001b[0mmrecords\u001b[0m \u001b[0;32mas\u001b[0m \u001b[0mmrecords\u001b[0m\u001b[0;34m\u001b[0m\u001b[0;34m\u001b[0m\u001b[0m\n",
      "\u001b[0;32m/usr/local/lib/python3.8/dist-packages/pandas/core/internals/construction.py\u001b[0m in \u001b[0;36minit_dict\u001b[0;34m(data, index, columns, dtype)\u001b[0m\n\u001b[1;32m    285\u001b[0m             \u001b[0marr\u001b[0m \u001b[0;32mif\u001b[0m \u001b[0;32mnot\u001b[0m \u001b[0mis_datetime64tz_dtype\u001b[0m\u001b[0;34m(\u001b[0m\u001b[0marr\u001b[0m\u001b[0;34m)\u001b[0m \u001b[0;32melse\u001b[0m \u001b[0marr\u001b[0m\u001b[0;34m.\u001b[0m\u001b[0mcopy\u001b[0m\u001b[0;34m(\u001b[0m\u001b[0;34m)\u001b[0m \u001b[0;32mfor\u001b[0m \u001b[0marr\u001b[0m \u001b[0;32min\u001b[0m \u001b[0marrays\u001b[0m\u001b[0;34m\u001b[0m\u001b[0;34m\u001b[0m\u001b[0m\n\u001b[1;32m    286\u001b[0m         ]\n\u001b[0;32m--> 287\u001b[0;31m     \u001b[0;32mreturn\u001b[0m \u001b[0marrays_to_mgr\u001b[0m\u001b[0;34m(\u001b[0m\u001b[0marrays\u001b[0m\u001b[0;34m,\u001b[0m \u001b[0mdata_names\u001b[0m\u001b[0;34m,\u001b[0m \u001b[0mindex\u001b[0m\u001b[0;34m,\u001b[0m \u001b[0mcolumns\u001b[0m\u001b[0;34m,\u001b[0m \u001b[0mdtype\u001b[0m\u001b[0;34m=\u001b[0m\u001b[0mdtype\u001b[0m\u001b[0;34m)\u001b[0m\u001b[0;34m\u001b[0m\u001b[0;34m\u001b[0m\u001b[0m\n\u001b[0m\u001b[1;32m    288\u001b[0m \u001b[0;34m\u001b[0m\u001b[0m\n\u001b[1;32m    289\u001b[0m \u001b[0;34m\u001b[0m\u001b[0m\n",
      "\u001b[0;32m/usr/local/lib/python3.8/dist-packages/pandas/core/internals/construction.py\u001b[0m in \u001b[0;36marrays_to_mgr\u001b[0;34m(arrays, arr_names, index, columns, dtype, verify_integrity)\u001b[0m\n\u001b[1;32m     85\u001b[0m         \u001b[0marrays\u001b[0m \u001b[0;34m=\u001b[0m \u001b[0m_homogenize\u001b[0m\u001b[0;34m(\u001b[0m\u001b[0marrays\u001b[0m\u001b[0;34m,\u001b[0m \u001b[0mindex\u001b[0m\u001b[0;34m,\u001b[0m \u001b[0mdtype\u001b[0m\u001b[0;34m)\u001b[0m\u001b[0;34m\u001b[0m\u001b[0;34m\u001b[0m\u001b[0m\n\u001b[1;32m     86\u001b[0m \u001b[0;34m\u001b[0m\u001b[0m\n\u001b[0;32m---> 87\u001b[0;31m         \u001b[0mcolumns\u001b[0m \u001b[0;34m=\u001b[0m \u001b[0mensure_index\u001b[0m\u001b[0;34m(\u001b[0m\u001b[0mcolumns\u001b[0m\u001b[0;34m)\u001b[0m\u001b[0;34m\u001b[0m\u001b[0;34m\u001b[0m\u001b[0m\n\u001b[0m\u001b[1;32m     88\u001b[0m     \u001b[0;32melse\u001b[0m\u001b[0;34m:\u001b[0m\u001b[0;34m\u001b[0m\u001b[0;34m\u001b[0m\u001b[0m\n\u001b[1;32m     89\u001b[0m         \u001b[0mcolumns\u001b[0m \u001b[0;34m=\u001b[0m \u001b[0mensure_index\u001b[0m\u001b[0;34m(\u001b[0m\u001b[0mcolumns\u001b[0m\u001b[0;34m)\u001b[0m\u001b[0;34m\u001b[0m\u001b[0;34m\u001b[0m\u001b[0m\n",
      "\u001b[0;32m/usr/local/lib/python3.8/dist-packages/pandas/core/indexes/base.py\u001b[0m in \u001b[0;36mensure_index\u001b[0;34m(index_like, copy)\u001b[0m\n\u001b[1;32m   5915\u001b[0m             \u001b[0mindex_like\u001b[0m \u001b[0;34m=\u001b[0m \u001b[0mcopy_func\u001b[0m\u001b[0;34m(\u001b[0m\u001b[0mindex_like\u001b[0m\u001b[0;34m)\u001b[0m\u001b[0;34m\u001b[0m\u001b[0;34m\u001b[0m\u001b[0m\n\u001b[1;32m   5916\u001b[0m \u001b[0;34m\u001b[0m\u001b[0m\n\u001b[0;32m-> 5917\u001b[0;31m     \u001b[0;32mreturn\u001b[0m \u001b[0mIndex\u001b[0m\u001b[0;34m(\u001b[0m\u001b[0mindex_like\u001b[0m\u001b[0;34m)\u001b[0m\u001b[0;34m\u001b[0m\u001b[0;34m\u001b[0m\u001b[0m\n\u001b[0m\u001b[1;32m   5918\u001b[0m \u001b[0;34m\u001b[0m\u001b[0m\n\u001b[1;32m   5919\u001b[0m \u001b[0;34m\u001b[0m\u001b[0m\n",
      "\u001b[0;32m/usr/local/lib/python3.8/dist-packages/pandas/core/indexes/base.py\u001b[0m in \u001b[0;36m__new__\u001b[0;34m(cls, data, dtype, copy, name, tupleize_cols, **kwargs)\u001b[0m\n\u001b[1;32m    301\u001b[0m             \u001b[0;32mreturn\u001b[0m \u001b[0m_maybe_asobject\u001b[0m\u001b[0;34m(\u001b[0m\u001b[0mdtype\u001b[0m\u001b[0;34m,\u001b[0m \u001b[0mTimedeltaIndex\u001b[0m\u001b[0;34m,\u001b[0m \u001b[0mdata\u001b[0m\u001b[0;34m,\u001b[0m \u001b[0mcopy\u001b[0m\u001b[0;34m,\u001b[0m \u001b[0mname\u001b[0m\u001b[0;34m,\u001b[0m \u001b[0;34m**\u001b[0m\u001b[0mkwargs\u001b[0m\u001b[0;34m)\u001b[0m\u001b[0;34m\u001b[0m\u001b[0;34m\u001b[0m\u001b[0m\n\u001b[1;32m    302\u001b[0m \u001b[0;34m\u001b[0m\u001b[0m\n\u001b[0;32m--> 303\u001b[0;31m         \u001b[0;32melif\u001b[0m \u001b[0mis_period_dtype\u001b[0m\u001b[0;34m(\u001b[0m\u001b[0mdata_dtype\u001b[0m\u001b[0;34m)\u001b[0m \u001b[0;32mor\u001b[0m \u001b[0mis_period_dtype\u001b[0m\u001b[0;34m(\u001b[0m\u001b[0mdtype\u001b[0m\u001b[0;34m)\u001b[0m\u001b[0;34m:\u001b[0m\u001b[0;34m\u001b[0m\u001b[0;34m\u001b[0m\u001b[0m\n\u001b[0m\u001b[1;32m    304\u001b[0m             \u001b[0;31m# Delay import for perf. https://github.com/pandas-dev/pandas/pull/31423\u001b[0m\u001b[0;34m\u001b[0m\u001b[0;34m\u001b[0m\u001b[0;34m\u001b[0m\u001b[0m\n\u001b[1;32m    305\u001b[0m             \u001b[0;32mfrom\u001b[0m \u001b[0mpandas\u001b[0m \u001b[0;32mimport\u001b[0m \u001b[0mPeriodIndex\u001b[0m\u001b[0;34m\u001b[0m\u001b[0;34m\u001b[0m\u001b[0m\n",
      "\u001b[0;32m/usr/local/lib/python3.8/dist-packages/pandas/core/dtypes/common.py\u001b[0m in \u001b[0;36mis_period_dtype\u001b[0;34m(arr_or_dtype)\u001b[0m\n\u001b[1;32m    494\u001b[0m     \u001b[0;32mif\u001b[0m \u001b[0marr_or_dtype\u001b[0m \u001b[0;32mis\u001b[0m \u001b[0;32mNone\u001b[0m\u001b[0;34m:\u001b[0m\u001b[0;34m\u001b[0m\u001b[0;34m\u001b[0m\u001b[0m\n\u001b[1;32m    495\u001b[0m         \u001b[0;32mreturn\u001b[0m \u001b[0;32mFalse\u001b[0m\u001b[0;34m\u001b[0m\u001b[0;34m\u001b[0m\u001b[0m\n\u001b[0;32m--> 496\u001b[0;31m     \u001b[0;32mreturn\u001b[0m \u001b[0mPeriodDtype\u001b[0m\u001b[0;34m.\u001b[0m\u001b[0mis_dtype\u001b[0m\u001b[0;34m(\u001b[0m\u001b[0marr_or_dtype\u001b[0m\u001b[0;34m)\u001b[0m\u001b[0;34m\u001b[0m\u001b[0;34m\u001b[0m\u001b[0m\n\u001b[0m\u001b[1;32m    497\u001b[0m \u001b[0;34m\u001b[0m\u001b[0m\n\u001b[1;32m    498\u001b[0m \u001b[0;34m\u001b[0m\u001b[0m\n",
      "\u001b[0;31mKeyboardInterrupt\u001b[0m: "
     ]
    }
   ],
   "source": [
    "for i in tqdm(range(len(short_audio_df))):\n",
    "    row = short_audio_df.loc[i]\n",
    "    #     print(i)\n",
    "    df = make_segments(row, 5, ordered=True, rand=False)\n",
    "    ordered_cut = pd.concat([ordered_cut, df], axis=0, ignore_index=True)"
   ]
  },
  {
   "cell_type": "code",
   "execution_count": null,
   "metadata": {},
   "outputs": [],
   "source": [
    "ordered_cut.to_csv(\"/app/_data/ordered_cut1.csv\", index=False)"
   ]
  },
  {
   "cell_type": "code",
   "execution_count": 121,
   "metadata": {},
   "outputs": [],
   "source": [
    "random_cut_sample = random_cut.sample(\n",
    "    n=40000, weights=\"class_weights\", random_state=SEED\n",
    ")"
   ]
  },
  {
   "cell_type": "code",
   "execution_count": 124,
   "metadata": {},
   "outputs": [
    {
     "data": {
      "text/plain": [
       "<AxesSubplot:>"
      ]
     },
     "execution_count": 124,
     "metadata": {},
     "output_type": "execute_result"
    },
    {
     "data": {
      "image/png": "[encoded data removed]",
      "text/plain": [
       "<Figure size 432x288 with 1 Axes>"
      ]
     },
     "metadata": {
      "image/png": {
       "height": 248,
       "width": 375
      },
      "needs_background": "light"
     },
     "output_type": "display_data"
    }
   ],
   "source": [
    "random_cut_sample[\"label_id\"].value_counts().hist()"
   ]
  },
  {
   "cell_type": "code",
   "execution_count": 125,
   "metadata": {},
   "outputs": [
    {
     "data": {
      "text/plain": [
       "<AxesSubplot:>"
      ]
     },
     "execution_count": 125,
     "metadata": {},
     "output_type": "execute_result"
    },
    {
     "data": {
      "image/png": "[encoded data removed]",
      "text/plain": [
       "<Figure size 432x288 with 1 Axes>"
      ]
     },
     "metadata": {
      "image/png": {
       "height": 248,
       "width": 375
      },
      "needs_background": "light"
     },
     "output_type": "display_data"
    }
   ],
   "source": [
    "random_cut[\"label_id\"].value_counts().hist()"
   ]
  },
  {
   "cell_type": "code",
   "execution_count": null,
   "metadata": {},
   "outputs": [],
   "source": [
    "# s = all_audio[\"primary_label\"].value_counts()\n",
    "# s.describe()\n",
    "\n",
    "# fig = go.Figure(\n",
    "#     data=[go.Bar(y=s.values, x=s.index)],\n",
    "#     layout=go.Layout(margin=go.layout.Margin(l=0, r=0, b=10, t=50)),\n",
    "# )\n",
    "\n",
    "# fig.show()\n",
    "\n",
    "# s1 = all_audio_sample[\"primary_label\"].value_counts()\n",
    "# s1.describe()\n",
    "\n",
    "# all_audio_sample['label_id'].hist(bins=399, figsize=(15, 10))\n",
    "# fig = go.Figure(\n",
    "#     data=[go.Bar(y=s.values, x=s.index)],\n",
    "#     layout=go.Layout(margin=go.layout.Margin(l=0, r=0, b=10, t=50)),\n",
    "# )\n",
    "\n",
    "# fig.show()"
   ]
  },
  {
   "cell_type": "code",
   "execution_count": 5,
   "metadata": {},
   "outputs": [],
   "source": [
    "def my_floor(a, precision=2):\n",
    "    dec = a - np.floor(a)\n",
    "    dec = dec * 10 ** precision\n",
    "    dec = np.floor(dec) / 10 ** precision\n",
    "    b = np.floor(a) + dec\n",
    "    return b"
   ]
  },
  {
   "cell_type": "code",
   "execution_count": 15,
   "metadata": {},
   "outputs": [],
   "source": [
    "def make_intervals(array, sig_lenght=5):\n",
    "    dict_intervals = {}\n",
    "\n",
    "    for row in array:\n",
    "        duration = row[1]\n",
    "        filename = row[0]\n",
    "        weight = row[2]\n",
    "        if duration <= 10:\n",
    "            step=0.3\n",
    "        elif 10<duration<=20:\n",
    "            step = 1\n",
    "        elif 20<duration<=40:\n",
    "            step = 1.5\n",
    "        else:\n",
    "            step = 2\n",
    "        for i in np.arange(0, duration+1, step):\n",
    "            start = i\n",
    "            end=i+sig_lenght\n",
    "            if end <= duration:\n",
    "                row_id = filename[:-4]+'_'+\"_\".join(str(end).split(\".\"))\n",
    "                dict_intervals[row_id] = [end, filename]\n",
    "            else:\n",
    "                end = my_floor(duration - np.random.rand())\n",
    "                row_id = filename[:-4]+'_'+\"_\".join(str(end).split(\".\"))\n",
    "            dict_intervals[row_id] = [end,weight, filename]\n",
    "    birds_intervals = pd.DataFrame(dict_intervals).T\n",
    "    birds_intervals.columns = ['end_sec', 'class_weight', 'filename']\n",
    "    return birds_intervals, dict_intervals\n"
   ]
  },
  {
   "cell_type": "code",
   "execution_count": 6,
   "metadata": {},
   "outputs": [],
   "source": [
    "short_audio_df = all_audio[\n",
    "    ~all_audio[\"file_path\"].str.contains(\"train_soundscapes\")\n",
    "].reset_index(drop=True)"
   ]
  },
  {
   "cell_type": "code",
   "execution_count": 9,
   "metadata": {},
   "outputs": [],
   "source": [
    "short_audio_df.index = short_audio_df[\"filename\"]"
   ]
  },
  {
   "cell_type": "code",
   "execution_count": 8,
   "metadata": {},
   "outputs": [
    {
     "data": {
      "text/plain": [
       "Index(['primary_label', 'secondary_labels', 'latitude', 'longitude', 'date',\n",
       "       'filename', 'rating', 'month', 'year', 'file_path', 'frames',\n",
       "       'duration', 'row_id', 'sin_month', 'cos_month', 'sin_longitude',\n",
       "       'cos_longitude', 'norm_latitude', 'label_id', 'class_weights',\n",
       "       'num_intervals', 'start_sec', 'end_sec', 'secondary_labels_id'],\n",
       "      dtype='object')"
      ]
     },
     "execution_count": 8,
     "metadata": {},
     "output_type": "execute_result"
    }
   ],
   "source": [
    "short_audio_df.columns"
   ]
  },
  {
   "cell_type": "code",
   "execution_count": 9,
   "metadata": {},
   "outputs": [],
   "source": [
    "array_for_cut = short_audio_df[[\"filename\", \"duration\", 'class_weights']].values"
   ]
  },
  {
   "cell_type": "code",
   "execution_count": 13,
   "metadata": {},
   "outputs": [
    {
     "data": {
      "text/plain": [
       "float"
      ]
     },
     "execution_count": 13,
     "metadata": {},
     "output_type": "execute_result"
    }
   ],
   "source": [
    "type(array_for_cut[0][2])"
   ]
  },
  {
   "cell_type": "code",
   "execution_count": 16,
   "metadata": {},
   "outputs": [],
   "source": [
    "# for row in array_for_cut[:5]:\n",
    "birds_intervals, dict_intervals = make_intervals(array_for_cut[:10], 5)"
   ]
  },
  {
   "cell_type": "code",
   "execution_count": 53,
   "metadata": {},
   "outputs": [],
   "source": [
    "birds_intervals = pd.DataFrame(d_i).T"
   ]
  },
  {
   "cell_type": "code",
   "execution_count": 17,
   "metadata": {},
   "outputs": [
    {
     "data": {
      "text/html": [
       "<div>\n",
       "<style scoped>\n",
       "    .dataframe tbody tr th:only-of-type {\n",
       "        vertical-align: middle;\n",
       "    }\n",
       "\n",
       "    .dataframe tbody tr th {\n",
       "        vertical-align: top;\n",
       "    }\n",
       "\n",
       "    .dataframe thead th {\n",
       "        text-align: right;\n",
       "    }\n",
       "</style>\n",
       "<table border=\"1\" class=\"dataframe\">\n",
       "  <thead>\n",
       "    <tr style=\"text-align: right;\">\n",
       "      <th></th>\n",
       "      <th>end_sec</th>\n",
       "      <th>class_weight</th>\n",
       "      <th>filename</th>\n",
       "    </tr>\n",
       "  </thead>\n",
       "  <tbody>\n",
       "    <tr>\n",
       "      <th>XC109605_5_0</th>\n",
       "      <td>5.0</td>\n",
       "      <td>0.007576</td>\n",
       "      <td>XC109605.ogg</td>\n",
       "    </tr>\n",
       "    <tr>\n",
       "      <th>XC109605_7_0</th>\n",
       "      <td>7.0</td>\n",
       "      <td>0.007576</td>\n",
       "      <td>XC109605.ogg</td>\n",
       "    </tr>\n",
       "    <tr>\n",
       "      <th>XC109605_9_0</th>\n",
       "      <td>9.0</td>\n",
       "      <td>0.007576</td>\n",
       "      <td>XC109605.ogg</td>\n",
       "    </tr>\n",
       "    <tr>\n",
       "      <th>XC109605_11_0</th>\n",
       "      <td>11.0</td>\n",
       "      <td>0.007576</td>\n",
       "      <td>XC109605.ogg</td>\n",
       "    </tr>\n",
       "    <tr>\n",
       "      <th>XC109605_13_0</th>\n",
       "      <td>13.0</td>\n",
       "      <td>0.007576</td>\n",
       "      <td>XC109605.ogg</td>\n",
       "    </tr>\n",
       "  </tbody>\n",
       "</table>\n",
       "</div>"
      ],
      "text/plain": [
       "              end_sec class_weight      filename\n",
       "XC109605_5_0      5.0     0.007576  XC109605.ogg\n",
       "XC109605_7_0      7.0     0.007576  XC109605.ogg\n",
       "XC109605_9_0      9.0     0.007576  XC109605.ogg\n",
       "XC109605_11_0    11.0     0.007576  XC109605.ogg\n",
       "XC109605_13_0    13.0     0.007576  XC109605.ogg"
      ]
     },
     "execution_count": 17,
     "metadata": {},
     "output_type": "execute_result"
    }
   ],
   "source": [
    "birds_intervals.head()"
   ]
  },
  {
   "cell_type": "code",
   "execution_count": 18,
   "metadata": {},
   "outputs": [
    {
     "data": {
      "text/plain": [
       "XC109605_5_0        5.0\n",
       "XC109605_7_0        7.0\n",
       "XC109605_9_0        9.0\n",
       "XC109605_11_0      11.0\n",
       "XC109605_13_0      13.0\n",
       "                  ...  \n",
       "XC131193_41_0      41.0\n",
       "XC131193_43_0      43.0\n",
       "XC131193_43_42    43.42\n",
       "XC131193_43_17    43.17\n",
       "XC131193_43_41    43.41\n",
       "Name: end_sec, Length: 244, dtype: object"
      ]
     },
     "execution_count": 18,
     "metadata": {},
     "output_type": "execute_result"
    }
   ],
   "source": [
    "birds_intervals['end_sec']"
   ]
  },
  {
   "cell_type": "code",
   "execution_count": 22,
   "metadata": {},
   "outputs": [
    {
     "data": {
      "text/plain": [
       "numpy.float64"
      ]
     },
     "execution_count": 22,
     "metadata": {},
     "output_type": "execute_result"
    }
   ],
   "source": [
    "type(dict_intervals['XC109605_45_0'][0])"
   ]
  },
  {
   "cell_type": "code",
   "execution_count": 23,
   "metadata": {},
   "outputs": [
    {
     "data": {
      "text/plain": [
       "[45.0, 0.0075757575757575, 'XC109605.ogg']"
      ]
     },
     "execution_count": 23,
     "metadata": {},
     "output_type": "execute_result"
    }
   ],
   "source": [
    "dict_intervals['XC109605_45_0']"
   ]
  },
  {
   "cell_type": "code",
   "execution_count": 26,
   "metadata": {},
   "outputs": [
    {
     "data": {
      "text/plain": [
       "XC109605_5_0      0.007576\n",
       "XC109605_7_0      0.007576\n",
       "XC109605_9_0      0.007576\n",
       "XC109605_11_0     0.007576\n",
       "XC109605_13_0     0.007576\n",
       "                    ...   \n",
       "XC131193_41_0     0.007576\n",
       "XC131193_43_0     0.007576\n",
       "XC131193_43_42    0.007576\n",
       "XC131193_43_17    0.007576\n",
       "XC131193_43_41    0.007576\n",
       "Name: 1, Length: 244, dtype: object"
      ]
     },
     "execution_count": 26,
     "metadata": {},
     "output_type": "execute_result"
    }
   ],
   "source": [
    "pd.DataFrame(dict_intervals).T[1]"
   ]
  },
  {
   "cell_type": "code",
   "execution_count": 27,
   "metadata": {},
   "outputs": [
    {
     "data": {
      "text/plain": [
       "False"
      ]
     },
     "execution_count": 27,
     "metadata": {},
     "output_type": "execute_result"
    }
   ],
   "source": [
    "9851872 >11788574"
   ]
  },
  {
   "cell_type": "code",
   "execution_count": null,
   "metadata": {},
   "outputs": [],
   "source": []
  }
 ],
 "metadata": {
  "kernelspec": {
   "display_name": "Python 3",
   "language": "python",
   "name": "python3"
  },
  "language_info": {
   "codemirror_mode": {
    "name": "ipython",
    "version": 3
   },
   "file_extension": ".py",
   "mimetype": "text/x-python",
   "name": "python",
   "nbconvert_exporter": "python",
   "pygments_lexer": "ipython3",
   "version": "3.8.5"
  }
 },
 "nbformat": 4,
 "nbformat_minor": 4
}
