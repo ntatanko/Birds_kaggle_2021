{
 "cells": [
  {
   "cell_type": "code",
   "execution_count": 1,
   "metadata": {},
   "outputs": [],
   "source": [
    "import os\n",
    "import shutil\n",
    "import warnings\n",
    "\n",
    "import numpy as np\n",
    "import pandas as pd\n",
    "import torchaudio\n",
    "\n",
    "warnings.filterwarnings(action=\"ignore\")\n",
    "from IPython.core.interactiveshell import InteractiveShell\n",
    "\n",
    "InteractiveShell.ast_node_interactivity = \"all\"\n",
    "import json\n",
    "\n",
    "import geopandas\n",
    "import librosa\n",
    "import librosa.display\n",
    "import matplotlib.pyplot as plt\n",
    "import scipy.stats as st\n",
    "import seaborn as sns\n",
    "import soundfile\n",
    "import tensorflow as tf\n",
    "import torch\n",
    "\n",
    "%matplotlib inline\n",
    "from PIL import Image\n",
    "from sklearn.model_selection import train_test_split\n",
    "from sklearn.utils import shuffle\n",
    "from tensorflow import keras\n",
    "from tensorflow.keras.models import Sequential\n",
    "from tensorflow.keras.optimizers import Adam\n",
    "from torchaudio.transforms import MelSpectrogram\n",
    "from tqdm import tqdm"
   ]
  },
  {
   "cell_type": "code",
   "execution_count": 2,
   "metadata": {},
   "outputs": [],
   "source": [
    "SEED = 42\n",
    "IMG_SIZE = 260\n",
    "SAMPLE_RATE = 32000\n",
    "N_FFT = 2048\n",
    "SIGNAL_LENGTH = 5  # seconds\n",
    "FREQ_MIN = 500\n",
    "FREQ_MAX = 15000\n",
    "MAX_AUDIO_FILES = 100\n",
    "WIN_LENGHT = 128\n",
    "AUDIO_PATH = \"/app/_data/train_short_audio/\""
   ]
  },
  {
   "cell_type": "code",
   "execution_count": 3,
   "metadata": {},
   "outputs": [],
   "source": [
    "train_soundscape_labels = pd.read_csv(\"/app/_data/train_soundscape_labels_orig.csv\")\n",
    "train_metadata = pd.read_csv(\"/app/_data/train_metadata_orig.csv\")\n",
    "test = pd.read_csv(\"/app/_data/test.csv\")\n",
    "test_dates = pd.read_csv(\"/app/_data/test_soundscapes/test_set_recording_dates.csv\")"
   ]
  },
  {
   "cell_type": "markdown",
   "metadata": {},
   "source": [
    "# train_soundscape_labels"
   ]
  },
  {
   "cell_type": "code",
   "execution_count": 4,
   "metadata": {},
   "outputs": [
    {
     "data": {
      "text/html": [
       "<div>\n",
       "<style scoped>\n",
       "    .dataframe tbody tr th:only-of-type {\n",
       "        vertical-align: middle;\n",
       "    }\n",
       "\n",
       "    .dataframe tbody tr th {\n",
       "        vertical-align: top;\n",
       "    }\n",
       "\n",
       "    .dataframe thead th {\n",
       "        text-align: right;\n",
       "    }\n",
       "</style>\n",
       "<table border=\"1\" class=\"dataframe\">\n",
       "  <thead>\n",
       "    <tr style=\"text-align: right;\">\n",
       "      <th></th>\n",
       "      <th>row_id</th>\n",
       "      <th>site</th>\n",
       "      <th>audio_id</th>\n",
       "      <th>seconds</th>\n",
       "      <th>birds</th>\n",
       "    </tr>\n",
       "  </thead>\n",
       "  <tbody>\n",
       "    <tr>\n",
       "      <th>0</th>\n",
       "      <td>7019_COR_5</td>\n",
       "      <td>COR</td>\n",
       "      <td>7019</td>\n",
       "      <td>5</td>\n",
       "      <td>nocall</td>\n",
       "    </tr>\n",
       "    <tr>\n",
       "      <th>1</th>\n",
       "      <td>7019_COR_10</td>\n",
       "      <td>COR</td>\n",
       "      <td>7019</td>\n",
       "      <td>10</td>\n",
       "      <td>nocall</td>\n",
       "    </tr>\n",
       "    <tr>\n",
       "      <th>2</th>\n",
       "      <td>7019_COR_15</td>\n",
       "      <td>COR</td>\n",
       "      <td>7019</td>\n",
       "      <td>15</td>\n",
       "      <td>nocall</td>\n",
       "    </tr>\n",
       "    <tr>\n",
       "      <th>3</th>\n",
       "      <td>7019_COR_20</td>\n",
       "      <td>COR</td>\n",
       "      <td>7019</td>\n",
       "      <td>20</td>\n",
       "      <td>nocall</td>\n",
       "    </tr>\n",
       "    <tr>\n",
       "      <th>4</th>\n",
       "      <td>7019_COR_25</td>\n",
       "      <td>COR</td>\n",
       "      <td>7019</td>\n",
       "      <td>25</td>\n",
       "      <td>nocall</td>\n",
       "    </tr>\n",
       "    <tr>\n",
       "      <th>...</th>\n",
       "      <td>...</td>\n",
       "      <td>...</td>\n",
       "      <td>...</td>\n",
       "      <td>...</td>\n",
       "      <td>...</td>\n",
       "    </tr>\n",
       "    <tr>\n",
       "      <th>2395</th>\n",
       "      <td>54955_SSW_580</td>\n",
       "      <td>SSW</td>\n",
       "      <td>54955</td>\n",
       "      <td>580</td>\n",
       "      <td>nocall</td>\n",
       "    </tr>\n",
       "    <tr>\n",
       "      <th>2396</th>\n",
       "      <td>54955_SSW_585</td>\n",
       "      <td>SSW</td>\n",
       "      <td>54955</td>\n",
       "      <td>585</td>\n",
       "      <td>grycat</td>\n",
       "    </tr>\n",
       "    <tr>\n",
       "      <th>2397</th>\n",
       "      <td>54955_SSW_590</td>\n",
       "      <td>SSW</td>\n",
       "      <td>54955</td>\n",
       "      <td>590</td>\n",
       "      <td>grycat</td>\n",
       "    </tr>\n",
       "    <tr>\n",
       "      <th>2398</th>\n",
       "      <td>54955_SSW_595</td>\n",
       "      <td>SSW</td>\n",
       "      <td>54955</td>\n",
       "      <td>595</td>\n",
       "      <td>nocall</td>\n",
       "    </tr>\n",
       "    <tr>\n",
       "      <th>2399</th>\n",
       "      <td>54955_SSW_600</td>\n",
       "      <td>SSW</td>\n",
       "      <td>54955</td>\n",
       "      <td>600</td>\n",
       "      <td>nocall</td>\n",
       "    </tr>\n",
       "  </tbody>\n",
       "</table>\n",
       "<p>2400 rows × 5 columns</p>\n",
       "</div>"
      ],
      "text/plain": [
       "             row_id site  audio_id  seconds   birds\n",
       "0        7019_COR_5  COR      7019        5  nocall\n",
       "1       7019_COR_10  COR      7019       10  nocall\n",
       "2       7019_COR_15  COR      7019       15  nocall\n",
       "3       7019_COR_20  COR      7019       20  nocall\n",
       "4       7019_COR_25  COR      7019       25  nocall\n",
       "...             ...  ...       ...      ...     ...\n",
       "2395  54955_SSW_580  SSW     54955      580  nocall\n",
       "2396  54955_SSW_585  SSW     54955      585  grycat\n",
       "2397  54955_SSW_590  SSW     54955      590  grycat\n",
       "2398  54955_SSW_595  SSW     54955      595  nocall\n",
       "2399  54955_SSW_600  SSW     54955      600  nocall\n",
       "\n",
       "[2400 rows x 5 columns]"
      ]
     },
     "execution_count": 4,
     "metadata": {},
     "output_type": "execute_result"
    }
   ],
   "source": [
    "train_soundscape_labels"
   ]
  },
  {
   "cell_type": "code",
   "execution_count": 5,
   "metadata": {},
   "outputs": [],
   "source": [
    "ss_df = pd.DataFrame()\n",
    "for mel_name in os.listdir(\"/app/_data/train_soundscapes/\"):\n",
    "    mel_name_full = mel_name\n",
    "    mel_name = mel_name[:-4].split(\"_\")\n",
    "    ss_df = ss_df.append(\n",
    "        {\n",
    "            \"audio_id\": np.int(mel_name[0]),\n",
    "            \"date\": mel_name[-1],\n",
    "            \"file_path\": \"/app/_data/train_soundscapes/\" + mel_name_full,\n",
    "        },\n",
    "        ignore_index=True,\n",
    "    )"
   ]
  },
  {
   "cell_type": "code",
   "execution_count": 6,
   "metadata": {},
   "outputs": [],
   "source": [
    "train_soundscape_labels = train_soundscape_labels.merge(\n",
    "    ss_df, on=\"audio_id\", how=\"outer\"\n",
    ")"
   ]
  },
  {
   "cell_type": "code",
   "execution_count": 7,
   "metadata": {},
   "outputs": [],
   "source": [
    "train_soundscape_labels[\"date\"] = pd.to_datetime(\n",
    "    train_soundscape_labels[\"date\"], format=\"%Y%m%d\"\n",
    ")"
   ]
  },
  {
   "cell_type": "code",
   "execution_count": 8,
   "metadata": {},
   "outputs": [],
   "source": [
    "list_sites = []\n",
    "for file_name in os.listdir(\"/app/_data/test_soundscapes/txt\"):\n",
    "    if file_name[-3:] == \"txt\":\n",
    "        with open(\"/app/_data/test_soundscapes/txt/\" + file_name, \"r\") as f:\n",
    "            site = f.readlines()\n",
    "            list_sites.append([file_name.split(\"_\")[0], site[-2:]])"
   ]
  },
  {
   "cell_type": "code",
   "execution_count": 9,
   "metadata": {},
   "outputs": [],
   "source": [
    "coord_sites = pd.DataFrame()\n",
    "for i in list_sites:\n",
    "    ids = i[0]\n",
    "    coord_sites.loc[ids, \"longitude\"] = i[1][1].split(\":\")[1].split(\"\\n\")[0].split()[0]\n",
    "    coord_sites.loc[ids, \"latitude\"] = i[1][0].split(\":\")[1].split(\"\\n\")[0].split()[0]\n",
    "coord_sites = coord_sites.astype(\"float\")\n",
    "coord_sites[\"site\"] = coord_sites.index"
   ]
  },
  {
   "cell_type": "code",
   "execution_count": 10,
   "metadata": {},
   "outputs": [
    {
     "data": {
      "text/html": [
       "<div>\n",
       "<style scoped>\n",
       "    .dataframe tbody tr th:only-of-type {\n",
       "        vertical-align: middle;\n",
       "    }\n",
       "\n",
       "    .dataframe tbody tr th {\n",
       "        vertical-align: top;\n",
       "    }\n",
       "\n",
       "    .dataframe thead th {\n",
       "        text-align: right;\n",
       "    }\n",
       "</style>\n",
       "<table border=\"1\" class=\"dataframe\">\n",
       "  <thead>\n",
       "    <tr style=\"text-align: right;\">\n",
       "      <th></th>\n",
       "      <th>longitude</th>\n",
       "      <th>latitude</th>\n",
       "      <th>site</th>\n",
       "    </tr>\n",
       "  </thead>\n",
       "  <tbody>\n",
       "    <tr>\n",
       "      <th>COR</th>\n",
       "      <td>-84.51</td>\n",
       "      <td>10.12</td>\n",
       "      <td>COR</td>\n",
       "    </tr>\n",
       "    <tr>\n",
       "      <th>SNE</th>\n",
       "      <td>-119.95</td>\n",
       "      <td>38.49</td>\n",
       "      <td>SNE</td>\n",
       "    </tr>\n",
       "    <tr>\n",
       "      <th>SSW</th>\n",
       "      <td>-76.45</td>\n",
       "      <td>42.47</td>\n",
       "      <td>SSW</td>\n",
       "    </tr>\n",
       "    <tr>\n",
       "      <th>COL</th>\n",
       "      <td>-75.85</td>\n",
       "      <td>5.57</td>\n",
       "      <td>COL</td>\n",
       "    </tr>\n",
       "  </tbody>\n",
       "</table>\n",
       "</div>"
      ],
      "text/plain": [
       "     longitude  latitude site\n",
       "COR     -84.51     10.12  COR\n",
       "SNE    -119.95     38.49  SNE\n",
       "SSW     -76.45     42.47  SSW\n",
       "COL     -75.85      5.57  COL"
      ]
     },
     "execution_count": 10,
     "metadata": {},
     "output_type": "execute_result"
    }
   ],
   "source": [
    "coord_sites"
   ]
  },
  {
   "cell_type": "code",
   "execution_count": 11,
   "metadata": {},
   "outputs": [],
   "source": [
    "train_soundscape_labels = train_soundscape_labels.merge(\n",
    "    coord_sites, on=\"site\", how=\"left\"\n",
    ")"
   ]
  },
  {
   "cell_type": "code",
   "execution_count": 12,
   "metadata": {},
   "outputs": [],
   "source": [
    "train_soundscape_labels[\"month\"] = train_soundscape_labels[\"date\"].dt.month\n",
    "train_soundscape_labels[\"year\"] = train_soundscape_labels[\"date\"].dt.year"
   ]
  },
  {
   "cell_type": "code",
   "execution_count": 13,
   "metadata": {},
   "outputs": [
    {
     "data": {
      "text/html": [
       "<div>\n",
       "<style scoped>\n",
       "    .dataframe tbody tr th:only-of-type {\n",
       "        vertical-align: middle;\n",
       "    }\n",
       "\n",
       "    .dataframe tbody tr th {\n",
       "        vertical-align: top;\n",
       "    }\n",
       "\n",
       "    .dataframe thead th {\n",
       "        text-align: right;\n",
       "    }\n",
       "</style>\n",
       "<table border=\"1\" class=\"dataframe\">\n",
       "  <thead>\n",
       "    <tr style=\"text-align: right;\">\n",
       "      <th></th>\n",
       "      <th>row_id</th>\n",
       "      <th>site</th>\n",
       "      <th>audio_id</th>\n",
       "      <th>seconds</th>\n",
       "      <th>birds</th>\n",
       "      <th>date</th>\n",
       "      <th>file_path</th>\n",
       "      <th>longitude</th>\n",
       "      <th>latitude</th>\n",
       "      <th>month</th>\n",
       "      <th>year</th>\n",
       "    </tr>\n",
       "  </thead>\n",
       "  <tbody>\n",
       "    <tr>\n",
       "      <th>0</th>\n",
       "      <td>7019_COR_5</td>\n",
       "      <td>COR</td>\n",
       "      <td>7019</td>\n",
       "      <td>5</td>\n",
       "      <td>nocall</td>\n",
       "      <td>2019-09-04</td>\n",
       "      <td>/app/_data/train_soundscapes/7019_COR_20190904...</td>\n",
       "      <td>-84.51</td>\n",
       "      <td>10.12</td>\n",
       "      <td>9</td>\n",
       "      <td>2019</td>\n",
       "    </tr>\n",
       "    <tr>\n",
       "      <th>1</th>\n",
       "      <td>7019_COR_10</td>\n",
       "      <td>COR</td>\n",
       "      <td>7019</td>\n",
       "      <td>10</td>\n",
       "      <td>nocall</td>\n",
       "      <td>2019-09-04</td>\n",
       "      <td>/app/_data/train_soundscapes/7019_COR_20190904...</td>\n",
       "      <td>-84.51</td>\n",
       "      <td>10.12</td>\n",
       "      <td>9</td>\n",
       "      <td>2019</td>\n",
       "    </tr>\n",
       "    <tr>\n",
       "      <th>2</th>\n",
       "      <td>7019_COR_15</td>\n",
       "      <td>COR</td>\n",
       "      <td>7019</td>\n",
       "      <td>15</td>\n",
       "      <td>nocall</td>\n",
       "      <td>2019-09-04</td>\n",
       "      <td>/app/_data/train_soundscapes/7019_COR_20190904...</td>\n",
       "      <td>-84.51</td>\n",
       "      <td>10.12</td>\n",
       "      <td>9</td>\n",
       "      <td>2019</td>\n",
       "    </tr>\n",
       "    <tr>\n",
       "      <th>3</th>\n",
       "      <td>7019_COR_20</td>\n",
       "      <td>COR</td>\n",
       "      <td>7019</td>\n",
       "      <td>20</td>\n",
       "      <td>nocall</td>\n",
       "      <td>2019-09-04</td>\n",
       "      <td>/app/_data/train_soundscapes/7019_COR_20190904...</td>\n",
       "      <td>-84.51</td>\n",
       "      <td>10.12</td>\n",
       "      <td>9</td>\n",
       "      <td>2019</td>\n",
       "    </tr>\n",
       "    <tr>\n",
       "      <th>4</th>\n",
       "      <td>7019_COR_25</td>\n",
       "      <td>COR</td>\n",
       "      <td>7019</td>\n",
       "      <td>25</td>\n",
       "      <td>nocall</td>\n",
       "      <td>2019-09-04</td>\n",
       "      <td>/app/_data/train_soundscapes/7019_COR_20190904...</td>\n",
       "      <td>-84.51</td>\n",
       "      <td>10.12</td>\n",
       "      <td>9</td>\n",
       "      <td>2019</td>\n",
       "    </tr>\n",
       "    <tr>\n",
       "      <th>...</th>\n",
       "      <td>...</td>\n",
       "      <td>...</td>\n",
       "      <td>...</td>\n",
       "      <td>...</td>\n",
       "      <td>...</td>\n",
       "      <td>...</td>\n",
       "      <td>...</td>\n",
       "      <td>...</td>\n",
       "      <td>...</td>\n",
       "      <td>...</td>\n",
       "      <td>...</td>\n",
       "    </tr>\n",
       "    <tr>\n",
       "      <th>2395</th>\n",
       "      <td>54955_SSW_580</td>\n",
       "      <td>SSW</td>\n",
       "      <td>54955</td>\n",
       "      <td>580</td>\n",
       "      <td>nocall</td>\n",
       "      <td>2017-06-17</td>\n",
       "      <td>/app/_data/train_soundscapes/54955_SSW_2017061...</td>\n",
       "      <td>-76.45</td>\n",
       "      <td>42.47</td>\n",
       "      <td>6</td>\n",
       "      <td>2017</td>\n",
       "    </tr>\n",
       "    <tr>\n",
       "      <th>2396</th>\n",
       "      <td>54955_SSW_585</td>\n",
       "      <td>SSW</td>\n",
       "      <td>54955</td>\n",
       "      <td>585</td>\n",
       "      <td>grycat</td>\n",
       "      <td>2017-06-17</td>\n",
       "      <td>/app/_data/train_soundscapes/54955_SSW_2017061...</td>\n",
       "      <td>-76.45</td>\n",
       "      <td>42.47</td>\n",
       "      <td>6</td>\n",
       "      <td>2017</td>\n",
       "    </tr>\n",
       "    <tr>\n",
       "      <th>2397</th>\n",
       "      <td>54955_SSW_590</td>\n",
       "      <td>SSW</td>\n",
       "      <td>54955</td>\n",
       "      <td>590</td>\n",
       "      <td>grycat</td>\n",
       "      <td>2017-06-17</td>\n",
       "      <td>/app/_data/train_soundscapes/54955_SSW_2017061...</td>\n",
       "      <td>-76.45</td>\n",
       "      <td>42.47</td>\n",
       "      <td>6</td>\n",
       "      <td>2017</td>\n",
       "    </tr>\n",
       "    <tr>\n",
       "      <th>2398</th>\n",
       "      <td>54955_SSW_595</td>\n",
       "      <td>SSW</td>\n",
       "      <td>54955</td>\n",
       "      <td>595</td>\n",
       "      <td>nocall</td>\n",
       "      <td>2017-06-17</td>\n",
       "      <td>/app/_data/train_soundscapes/54955_SSW_2017061...</td>\n",
       "      <td>-76.45</td>\n",
       "      <td>42.47</td>\n",
       "      <td>6</td>\n",
       "      <td>2017</td>\n",
       "    </tr>\n",
       "    <tr>\n",
       "      <th>2399</th>\n",
       "      <td>54955_SSW_600</td>\n",
       "      <td>SSW</td>\n",
       "      <td>54955</td>\n",
       "      <td>600</td>\n",
       "      <td>nocall</td>\n",
       "      <td>2017-06-17</td>\n",
       "      <td>/app/_data/train_soundscapes/54955_SSW_2017061...</td>\n",
       "      <td>-76.45</td>\n",
       "      <td>42.47</td>\n",
       "      <td>6</td>\n",
       "      <td>2017</td>\n",
       "    </tr>\n",
       "  </tbody>\n",
       "</table>\n",
       "<p>2400 rows × 11 columns</p>\n",
       "</div>"
      ],
      "text/plain": [
       "             row_id site  audio_id  seconds   birds       date  \\\n",
       "0        7019_COR_5  COR      7019        5  nocall 2019-09-04   \n",
       "1       7019_COR_10  COR      7019       10  nocall 2019-09-04   \n",
       "2       7019_COR_15  COR      7019       15  nocall 2019-09-04   \n",
       "3       7019_COR_20  COR      7019       20  nocall 2019-09-04   \n",
       "4       7019_COR_25  COR      7019       25  nocall 2019-09-04   \n",
       "...             ...  ...       ...      ...     ...        ...   \n",
       "2395  54955_SSW_580  SSW     54955      580  nocall 2017-06-17   \n",
       "2396  54955_SSW_585  SSW     54955      585  grycat 2017-06-17   \n",
       "2397  54955_SSW_590  SSW     54955      590  grycat 2017-06-17   \n",
       "2398  54955_SSW_595  SSW     54955      595  nocall 2017-06-17   \n",
       "2399  54955_SSW_600  SSW     54955      600  nocall 2017-06-17   \n",
       "\n",
       "                                              file_path  longitude  latitude  \\\n",
       "0     /app/_data/train_soundscapes/7019_COR_20190904...     -84.51     10.12   \n",
       "1     /app/_data/train_soundscapes/7019_COR_20190904...     -84.51     10.12   \n",
       "2     /app/_data/train_soundscapes/7019_COR_20190904...     -84.51     10.12   \n",
       "3     /app/_data/train_soundscapes/7019_COR_20190904...     -84.51     10.12   \n",
       "4     /app/_data/train_soundscapes/7019_COR_20190904...     -84.51     10.12   \n",
       "...                                                 ...        ...       ...   \n",
       "2395  /app/_data/train_soundscapes/54955_SSW_2017061...     -76.45     42.47   \n",
       "2396  /app/_data/train_soundscapes/54955_SSW_2017061...     -76.45     42.47   \n",
       "2397  /app/_data/train_soundscapes/54955_SSW_2017061...     -76.45     42.47   \n",
       "2398  /app/_data/train_soundscapes/54955_SSW_2017061...     -76.45     42.47   \n",
       "2399  /app/_data/train_soundscapes/54955_SSW_2017061...     -76.45     42.47   \n",
       "\n",
       "      month  year  \n",
       "0         9  2019  \n",
       "1         9  2019  \n",
       "2         9  2019  \n",
       "3         9  2019  \n",
       "4         9  2019  \n",
       "...     ...   ...  \n",
       "2395      6  2017  \n",
       "2396      6  2017  \n",
       "2397      6  2017  \n",
       "2398      6  2017  \n",
       "2399      6  2017  \n",
       "\n",
       "[2400 rows x 11 columns]"
      ]
     },
     "execution_count": 13,
     "metadata": {},
     "output_type": "execute_result"
    }
   ],
   "source": [
    "train_soundscape_labels"
   ]
  },
  {
   "cell_type": "markdown",
   "metadata": {},
   "source": [
    "# train_metadata"
   ]
  },
  {
   "cell_type": "code",
   "execution_count": 14,
   "metadata": {},
   "outputs": [
    {
     "data": {
      "text/html": [
       "<div>\n",
       "<style scoped>\n",
       "    .dataframe tbody tr th:only-of-type {\n",
       "        vertical-align: middle;\n",
       "    }\n",
       "\n",
       "    .dataframe tbody tr th {\n",
       "        vertical-align: top;\n",
       "    }\n",
       "\n",
       "    .dataframe thead th {\n",
       "        text-align: right;\n",
       "    }\n",
       "</style>\n",
       "<table border=\"1\" class=\"dataframe\">\n",
       "  <thead>\n",
       "    <tr style=\"text-align: right;\">\n",
       "      <th></th>\n",
       "      <th>primary_label</th>\n",
       "      <th>secondary_labels</th>\n",
       "      <th>type</th>\n",
       "      <th>latitude</th>\n",
       "      <th>longitude</th>\n",
       "      <th>scientific_name</th>\n",
       "      <th>common_name</th>\n",
       "      <th>author</th>\n",
       "      <th>date</th>\n",
       "      <th>filename</th>\n",
       "      <th>license</th>\n",
       "      <th>rating</th>\n",
       "      <th>time</th>\n",
       "      <th>url</th>\n",
       "    </tr>\n",
       "  </thead>\n",
       "  <tbody>\n",
       "    <tr>\n",
       "      <th>0</th>\n",
       "      <td>acafly</td>\n",
       "      <td>['amegfi']</td>\n",
       "      <td>['begging call', 'call', 'juvenile']</td>\n",
       "      <td>35.3860</td>\n",
       "      <td>-84.1250</td>\n",
       "      <td>Empidonax virescens</td>\n",
       "      <td>Acadian Flycatcher</td>\n",
       "      <td>Mike Nelson</td>\n",
       "      <td>2012-08-12</td>\n",
       "      <td>XC109605.ogg</td>\n",
       "      <td>Creative Commons Attribution-NonCommercial-Sha...</td>\n",
       "      <td>2.5</td>\n",
       "      <td>09:30</td>\n",
       "      <td>https://www.xeno-canto.org/109605</td>\n",
       "    </tr>\n",
       "    <tr>\n",
       "      <th>1</th>\n",
       "      <td>acafly</td>\n",
       "      <td>[]</td>\n",
       "      <td>['call']</td>\n",
       "      <td>9.1334</td>\n",
       "      <td>-79.6501</td>\n",
       "      <td>Empidonax virescens</td>\n",
       "      <td>Acadian Flycatcher</td>\n",
       "      <td>Allen T. Chartier</td>\n",
       "      <td>2000-12-26</td>\n",
       "      <td>XC11209.ogg</td>\n",
       "      <td>Creative Commons Attribution-NonCommercial-Sha...</td>\n",
       "      <td>3.0</td>\n",
       "      <td>?</td>\n",
       "      <td>https://www.xeno-canto.org/11209</td>\n",
       "    </tr>\n",
       "    <tr>\n",
       "      <th>2</th>\n",
       "      <td>acafly</td>\n",
       "      <td>[]</td>\n",
       "      <td>['call']</td>\n",
       "      <td>5.7813</td>\n",
       "      <td>-75.7452</td>\n",
       "      <td>Empidonax virescens</td>\n",
       "      <td>Acadian Flycatcher</td>\n",
       "      <td>Sergio Chaparro-Herrera</td>\n",
       "      <td>2012-01-10</td>\n",
       "      <td>XC127032.ogg</td>\n",
       "      <td>Creative Commons Attribution-NonCommercial-Sha...</td>\n",
       "      <td>3.0</td>\n",
       "      <td>15:20</td>\n",
       "      <td>https://www.xeno-canto.org/127032</td>\n",
       "    </tr>\n",
       "    <tr>\n",
       "      <th>3</th>\n",
       "      <td>acafly</td>\n",
       "      <td>['whwbec1']</td>\n",
       "      <td>['call']</td>\n",
       "      <td>4.6717</td>\n",
       "      <td>-75.6283</td>\n",
       "      <td>Empidonax virescens</td>\n",
       "      <td>Acadian Flycatcher</td>\n",
       "      <td>Oscar Humberto Marin-Gomez</td>\n",
       "      <td>2009-06-19</td>\n",
       "      <td>XC129974.ogg</td>\n",
       "      <td>Creative Commons Attribution-NonCommercial-Sha...</td>\n",
       "      <td>3.5</td>\n",
       "      <td>07:50</td>\n",
       "      <td>https://www.xeno-canto.org/129974</td>\n",
       "    </tr>\n",
       "    <tr>\n",
       "      <th>4</th>\n",
       "      <td>acafly</td>\n",
       "      <td>['whwbec1']</td>\n",
       "      <td>['call']</td>\n",
       "      <td>4.6717</td>\n",
       "      <td>-75.6283</td>\n",
       "      <td>Empidonax virescens</td>\n",
       "      <td>Acadian Flycatcher</td>\n",
       "      <td>Oscar Humberto Marin-Gomez</td>\n",
       "      <td>2009-06-19</td>\n",
       "      <td>XC129981.ogg</td>\n",
       "      <td>Creative Commons Attribution-NonCommercial-Sha...</td>\n",
       "      <td>3.5</td>\n",
       "      <td>07:50</td>\n",
       "      <td>https://www.xeno-canto.org/129981</td>\n",
       "    </tr>\n",
       "    <tr>\n",
       "      <th>...</th>\n",
       "      <td>...</td>\n",
       "      <td>...</td>\n",
       "      <td>...</td>\n",
       "      <td>...</td>\n",
       "      <td>...</td>\n",
       "      <td>...</td>\n",
       "      <td>...</td>\n",
       "      <td>...</td>\n",
       "      <td>...</td>\n",
       "      <td>...</td>\n",
       "      <td>...</td>\n",
       "      <td>...</td>\n",
       "      <td>...</td>\n",
       "      <td>...</td>\n",
       "    </tr>\n",
       "    <tr>\n",
       "      <th>62869</th>\n",
       "      <td>yetvir</td>\n",
       "      <td>[]</td>\n",
       "      <td>['adult', 'male', 'song']</td>\n",
       "      <td>30.2150</td>\n",
       "      <td>-97.6505</td>\n",
       "      <td>Vireo flavifrons</td>\n",
       "      <td>Yellow-throated Vireo</td>\n",
       "      <td>Caleb Helsel</td>\n",
       "      <td>2020-07-10</td>\n",
       "      <td>XC591680.ogg</td>\n",
       "      <td>Creative Commons Attribution-NonCommercial-Sha...</td>\n",
       "      <td>1.0</td>\n",
       "      <td>08:30</td>\n",
       "      <td>https://www.xeno-canto.org/591680</td>\n",
       "    </tr>\n",
       "    <tr>\n",
       "      <th>62870</th>\n",
       "      <td>yetvir</td>\n",
       "      <td>[]</td>\n",
       "      <td>['life stage uncertain', 'sex uncertain', 'song']</td>\n",
       "      <td>42.3005</td>\n",
       "      <td>-72.5877</td>\n",
       "      <td>Vireo flavifrons</td>\n",
       "      <td>Yellow-throated Vireo</td>\n",
       "      <td>Christopher McPherson</td>\n",
       "      <td>2019-05-31</td>\n",
       "      <td>XC600085.ogg</td>\n",
       "      <td>Creative Commons Attribution-NonCommercial-Sha...</td>\n",
       "      <td>5.0</td>\n",
       "      <td>09:30</td>\n",
       "      <td>https://www.xeno-canto.org/600085</td>\n",
       "    </tr>\n",
       "    <tr>\n",
       "      <th>62871</th>\n",
       "      <td>yetvir</td>\n",
       "      <td>['amered', 'eawpew', 'norcar', 'reevir1']</td>\n",
       "      <td>['adult', 'male', 'song']</td>\n",
       "      <td>42.3005</td>\n",
       "      <td>-72.5877</td>\n",
       "      <td>Vireo flavifrons</td>\n",
       "      <td>Yellow-throated Vireo</td>\n",
       "      <td>Christopher McPherson</td>\n",
       "      <td>2020-06-02</td>\n",
       "      <td>XC602701.ogg</td>\n",
       "      <td>Creative Commons Attribution-NonCommercial-Sha...</td>\n",
       "      <td>4.5</td>\n",
       "      <td>08:30</td>\n",
       "      <td>https://www.xeno-canto.org/602701</td>\n",
       "    </tr>\n",
       "    <tr>\n",
       "      <th>62872</th>\n",
       "      <td>yetvir</td>\n",
       "      <td>[]</td>\n",
       "      <td>['uncertain']</td>\n",
       "      <td>32.2357</td>\n",
       "      <td>-99.8811</td>\n",
       "      <td>Vireo flavifrons</td>\n",
       "      <td>Yellow-throated Vireo</td>\n",
       "      <td>Brad Banner</td>\n",
       "      <td>2019-04-27</td>\n",
       "      <td>XC614733.ogg</td>\n",
       "      <td>Creative Commons Attribution-NonCommercial-Sha...</td>\n",
       "      <td>4.0</td>\n",
       "      <td>17:30</td>\n",
       "      <td>https://www.xeno-canto.org/614733</td>\n",
       "    </tr>\n",
       "    <tr>\n",
       "      <th>62873</th>\n",
       "      <td>yetvir</td>\n",
       "      <td>['gamqua', 'whwdov']</td>\n",
       "      <td>['adult', 'male', 'song']</td>\n",
       "      <td>31.9060</td>\n",
       "      <td>-109.1543</td>\n",
       "      <td>Vireo flavifrons</td>\n",
       "      <td>Yellow-throated Vireo</td>\n",
       "      <td>Richard E. Webster</td>\n",
       "      <td>2020-05-26</td>\n",
       "      <td>XC615888.ogg</td>\n",
       "      <td>Creative Commons Attribution-NonCommercial-Sha...</td>\n",
       "      <td>4.5</td>\n",
       "      <td>06:23</td>\n",
       "      <td>https://www.xeno-canto.org/615888</td>\n",
       "    </tr>\n",
       "  </tbody>\n",
       "</table>\n",
       "<p>62874 rows × 14 columns</p>\n",
       "</div>"
      ],
      "text/plain": [
       "      primary_label                           secondary_labels  \\\n",
       "0            acafly                                 ['amegfi']   \n",
       "1            acafly                                         []   \n",
       "2            acafly                                         []   \n",
       "3            acafly                                ['whwbec1']   \n",
       "4            acafly                                ['whwbec1']   \n",
       "...             ...                                        ...   \n",
       "62869        yetvir                                         []   \n",
       "62870        yetvir                                         []   \n",
       "62871        yetvir  ['amered', 'eawpew', 'norcar', 'reevir1']   \n",
       "62872        yetvir                                         []   \n",
       "62873        yetvir                       ['gamqua', 'whwdov']   \n",
       "\n",
       "                                                    type  latitude  longitude  \\\n",
       "0                   ['begging call', 'call', 'juvenile']   35.3860   -84.1250   \n",
       "1                                               ['call']    9.1334   -79.6501   \n",
       "2                                               ['call']    5.7813   -75.7452   \n",
       "3                                               ['call']    4.6717   -75.6283   \n",
       "4                                               ['call']    4.6717   -75.6283   \n",
       "...                                                  ...       ...        ...   \n",
       "62869                          ['adult', 'male', 'song']   30.2150   -97.6505   \n",
       "62870  ['life stage uncertain', 'sex uncertain', 'song']   42.3005   -72.5877   \n",
       "62871                          ['adult', 'male', 'song']   42.3005   -72.5877   \n",
       "62872                                      ['uncertain']   32.2357   -99.8811   \n",
       "62873                          ['adult', 'male', 'song']   31.9060  -109.1543   \n",
       "\n",
       "           scientific_name            common_name                      author  \\\n",
       "0      Empidonax virescens     Acadian Flycatcher                 Mike Nelson   \n",
       "1      Empidonax virescens     Acadian Flycatcher           Allen T. Chartier   \n",
       "2      Empidonax virescens     Acadian Flycatcher     Sergio Chaparro-Herrera   \n",
       "3      Empidonax virescens     Acadian Flycatcher  Oscar Humberto Marin-Gomez   \n",
       "4      Empidonax virescens     Acadian Flycatcher  Oscar Humberto Marin-Gomez   \n",
       "...                    ...                    ...                         ...   \n",
       "62869     Vireo flavifrons  Yellow-throated Vireo                Caleb Helsel   \n",
       "62870     Vireo flavifrons  Yellow-throated Vireo       Christopher McPherson   \n",
       "62871     Vireo flavifrons  Yellow-throated Vireo       Christopher McPherson   \n",
       "62872     Vireo flavifrons  Yellow-throated Vireo                 Brad Banner   \n",
       "62873     Vireo flavifrons  Yellow-throated Vireo          Richard E. Webster   \n",
       "\n",
       "             date      filename  \\\n",
       "0      2012-08-12  XC109605.ogg   \n",
       "1      2000-12-26   XC11209.ogg   \n",
       "2      2012-01-10  XC127032.ogg   \n",
       "3      2009-06-19  XC129974.ogg   \n",
       "4      2009-06-19  XC129981.ogg   \n",
       "...           ...           ...   \n",
       "62869  2020-07-10  XC591680.ogg   \n",
       "62870  2019-05-31  XC600085.ogg   \n",
       "62871  2020-06-02  XC602701.ogg   \n",
       "62872  2019-04-27  XC614733.ogg   \n",
       "62873  2020-05-26  XC615888.ogg   \n",
       "\n",
       "                                                 license  rating   time  \\\n",
       "0      Creative Commons Attribution-NonCommercial-Sha...     2.5  09:30   \n",
       "1      Creative Commons Attribution-NonCommercial-Sha...     3.0      ?   \n",
       "2      Creative Commons Attribution-NonCommercial-Sha...     3.0  15:20   \n",
       "3      Creative Commons Attribution-NonCommercial-Sha...     3.5  07:50   \n",
       "4      Creative Commons Attribution-NonCommercial-Sha...     3.5  07:50   \n",
       "...                                                  ...     ...    ...   \n",
       "62869  Creative Commons Attribution-NonCommercial-Sha...     1.0  08:30   \n",
       "62870  Creative Commons Attribution-NonCommercial-Sha...     5.0  09:30   \n",
       "62871  Creative Commons Attribution-NonCommercial-Sha...     4.5  08:30   \n",
       "62872  Creative Commons Attribution-NonCommercial-Sha...     4.0  17:30   \n",
       "62873  Creative Commons Attribution-NonCommercial-Sha...     4.5  06:23   \n",
       "\n",
       "                                     url  \n",
       "0      https://www.xeno-canto.org/109605  \n",
       "1       https://www.xeno-canto.org/11209  \n",
       "2      https://www.xeno-canto.org/127032  \n",
       "3      https://www.xeno-canto.org/129974  \n",
       "4      https://www.xeno-canto.org/129981  \n",
       "...                                  ...  \n",
       "62869  https://www.xeno-canto.org/591680  \n",
       "62870  https://www.xeno-canto.org/600085  \n",
       "62871  https://www.xeno-canto.org/602701  \n",
       "62872  https://www.xeno-canto.org/614733  \n",
       "62873  https://www.xeno-canto.org/615888  \n",
       "\n",
       "[62874 rows x 14 columns]"
      ]
     },
     "execution_count": 14,
     "metadata": {},
     "output_type": "execute_result"
    }
   ],
   "source": [
    "train_metadata"
   ]
  },
  {
   "cell_type": "code",
   "execution_count": 15,
   "metadata": {},
   "outputs": [],
   "source": [
    "train_metadata[\"month\"] = train_metadata[\"date\"].apply(lambda x: x.split(\"-\")[1])\n",
    "train_metadata[\"month\"] = train_metadata[\"month\"].astype(\"int\")\n",
    "train_metadata[\"year\"] = train_metadata[\"date\"].apply(lambda x: x.split(\"-\")[0])\n",
    "train_metadata[\"year\"] = train_metadata[\"year\"].astype(\"int\")"
   ]
  },
  {
   "cell_type": "code",
   "execution_count": 16,
   "metadata": {},
   "outputs": [],
   "source": [
    "train_metadata[\"type\"] = train_metadata[\"type\"].str.replace(r\"[\\[\\]\\'\\\"\\(\\)?]\", \"\")\n",
    "train_metadata[\"secondary_labels\"] = train_metadata[\"secondary_labels\"].str.replace(\n",
    "    r\"[\\[\\]\\',]\", \"\"\n",
    ")"
   ]
  },
  {
   "cell_type": "code",
   "execution_count": 17,
   "metadata": {},
   "outputs": [],
   "source": [
    "def get_audio_info(filepath):\n",
    "    \"\"\"Get some properties from  an audio file\"\"\"\n",
    "    with soundfile.SoundFile(filepath) as f:\n",
    "        sr = f.samplerate\n",
    "        frames = f.frames\n",
    "        duration = float(frames) / sr\n",
    "    return {\"frames\": frames, \"sr\": sr, \"duration\": duration}"
   ]
  },
  {
   "cell_type": "code",
   "execution_count": 18,
   "metadata": {},
   "outputs": [],
   "source": [
    "for ids in train_metadata.index.tolist():\n",
    "    bird = train_metadata.loc[ids, \"primary_label\"]\n",
    "    path = AUDIO_PATH + bird\n",
    "    record = train_metadata.loc[ids, \"filename\"]\n",
    "    audio_info = get_audio_info(os.path.join(path, record))\n",
    "    train_metadata.loc[ids, \"file_path\"] = os.path.join(path, record)\n",
    "    train_metadata.loc[ids, \"frames\"] = audio_info[\"frames\"]\n",
    "    train_metadata.loc[ids, \"sr\"] = audio_info[\"sr\"]\n",
    "    train_metadata.loc[ids, \"duration\"] = audio_info[\"duration\"]"
   ]
  },
  {
   "cell_type": "code",
   "execution_count": 19,
   "metadata": {},
   "outputs": [
    {
     "data": {
      "text/plain": [
       "array(['rocpig1', 'rocpig1', 'rocpig1', 'rocpig1 solsan whtdov',\n",
       "       'rocpig1 grtgra', 'rocpig1', 'rocpig1', 'rocpig1',\n",
       "       'rewbla rocpig1 cangoo saypho killde amerob'], dtype=object)"
      ]
     },
     "execution_count": 19,
     "metadata": {},
     "output_type": "execute_result"
    }
   ],
   "source": [
    "train_metadata[train_metadata[\"secondary_labels\"].str.contains(\"rocpig1\")][\n",
    "    \"secondary_labels\"\n",
    "].values"
   ]
  },
  {
   "cell_type": "code",
   "execution_count": 20,
   "metadata": {},
   "outputs": [],
   "source": [
    "train_metadata[\"secondary_labels\"] = train_metadata[\"secondary_labels\"].replace(\n",
    "    \"rocpig1\", \"rocpig\"\n",
    ")"
   ]
  },
  {
   "cell_type": "code",
   "execution_count": 21,
   "metadata": {},
   "outputs": [],
   "source": [
    "train_metadata[\"secondary_labels\"] = train_metadata[\"secondary_labels\"].replace(\n",
    "    {\n",
    "        \"rocpig1 solsan whtdov\": \"rocpig solsan whtdov\",\n",
    "        \"rocpig1 grtgra\": \"rocpig grtgra\",\n",
    "        \"rewbla rocpig1 cangoo saypho killde amerob\": \"rewbla rocpig cangoo saypho killde amerob\",\n",
    "    }\n",
    ")"
   ]
  },
  {
   "cell_type": "code",
   "execution_count": 22,
   "metadata": {},
   "outputs": [],
   "source": [
    "train_metadata.to_csv(\"/app/_data/train_metadata_full.csv\", index=False)"
   ]
  },
  {
   "cell_type": "code",
   "execution_count": 23,
   "metadata": {},
   "outputs": [],
   "source": [
    "train_metadata = train_metadata[\n",
    "    [\n",
    "        \"primary_label\",\n",
    "        \"secondary_labels\",\n",
    "        \"latitude\",\n",
    "        \"longitude\",\n",
    "        \"date\",\n",
    "        \"filename\",\n",
    "        \"rating\",\n",
    "        \"month\",\n",
    "        \"year\",\n",
    "        \"file_path\",\n",
    "        \"frames\",\n",
    "        \"duration\",\n",
    "    ]\n",
    "]"
   ]
  },
  {
   "cell_type": "markdown",
   "metadata": {},
   "source": [
    "# concat"
   ]
  },
  {
   "cell_type": "code",
   "execution_count": 24,
   "metadata": {},
   "outputs": [],
   "source": [
    "train_soundscape_labels = train_soundscape_labels[\n",
    "    [\"row_id\", \"birds\", \"date\", \"file_path\", \"longitude\", \"latitude\", \"month\", \"year\"]\n",
    "]\n",
    "train_soundscape_labels.columns = [\n",
    "    \"row_id\",\n",
    "    \"primary_label\",\n",
    "    \"date\",\n",
    "    \"file_path\",\n",
    "    \"longitude\",\n",
    "    \"latitude\",\n",
    "    \"month\",\n",
    "    \"year\",\n",
    "]"
   ]
  },
  {
   "cell_type": "code",
   "execution_count": 25,
   "metadata": {},
   "outputs": [],
   "source": [
    "train_soundscape_labels[\"filename\"] = train_soundscape_labels[\"file_path\"].apply(\n",
    "    lambda x: x.split(\"/\")[-1]\n",
    ")\n",
    "train_soundscape_labels[\"rating\"] = 6\n",
    "train_soundscape_labels[\"frames\"] = 32000 * 5\n",
    "train_soundscape_labels[\"duration\"] = 5"
   ]
  },
  {
   "cell_type": "code",
   "execution_count": 26,
   "metadata": {},
   "outputs": [],
   "source": [
    "train_soundscape_labels.to_csv(\n",
    "    \"/app/_data/train_soundscape_labels_full.csv\", index=False\n",
    ")"
   ]
  },
  {
   "cell_type": "code",
   "execution_count": 27,
   "metadata": {},
   "outputs": [],
   "source": [
    "all_audio = pd.concat(\n",
    "    [train_metadata, train_soundscape_labels], axis=0, ignore_index=True\n",
    ")"
   ]
  },
  {
   "cell_type": "code",
   "execution_count": 28,
   "metadata": {},
   "outputs": [],
   "source": [
    "# all_audio1 = pd.read_csv(\"/app/_data/all_audio.csv\")"
   ]
  },
  {
   "cell_type": "code",
   "execution_count": 29,
   "metadata": {},
   "outputs": [
    {
     "data": {
      "text/html": [
       "<div>\n",
       "<style scoped>\n",
       "    .dataframe tbody tr th:only-of-type {\n",
       "        vertical-align: middle;\n",
       "    }\n",
       "\n",
       "    .dataframe tbody tr th {\n",
       "        vertical-align: top;\n",
       "    }\n",
       "\n",
       "    .dataframe thead th {\n",
       "        text-align: right;\n",
       "    }\n",
       "</style>\n",
       "<table border=\"1\" class=\"dataframe\">\n",
       "  <thead>\n",
       "    <tr style=\"text-align: right;\">\n",
       "      <th></th>\n",
       "      <th>primary_label</th>\n",
       "      <th>secondary_labels</th>\n",
       "      <th>latitude</th>\n",
       "      <th>longitude</th>\n",
       "      <th>date</th>\n",
       "      <th>filename</th>\n",
       "      <th>rating</th>\n",
       "      <th>month</th>\n",
       "      <th>year</th>\n",
       "      <th>file_path</th>\n",
       "      <th>frames</th>\n",
       "      <th>duration</th>\n",
       "      <th>row_id</th>\n",
       "    </tr>\n",
       "  </thead>\n",
       "  <tbody>\n",
       "    <tr>\n",
       "      <th>0</th>\n",
       "      <td>acafly</td>\n",
       "      <td>amegfi</td>\n",
       "      <td>35.3860</td>\n",
       "      <td>-84.1250</td>\n",
       "      <td>2012-08-12</td>\n",
       "      <td>XC109605.ogg</td>\n",
       "      <td>2.5</td>\n",
       "      <td>8</td>\n",
       "      <td>2012</td>\n",
       "      <td>/app/_data/train_short_audio/acafly/XC109605.ogg</td>\n",
       "      <td>2037586.0</td>\n",
       "      <td>63.674563</td>\n",
       "      <td>NaN</td>\n",
       "    </tr>\n",
       "    <tr>\n",
       "      <th>1</th>\n",
       "      <td>acafly</td>\n",
       "      <td></td>\n",
       "      <td>9.1334</td>\n",
       "      <td>-79.6501</td>\n",
       "      <td>2000-12-26</td>\n",
       "      <td>XC11209.ogg</td>\n",
       "      <td>3.0</td>\n",
       "      <td>12</td>\n",
       "      <td>2000</td>\n",
       "      <td>/app/_data/train_short_audio/acafly/XC11209.ogg</td>\n",
       "      <td>532933.0</td>\n",
       "      <td>16.654156</td>\n",
       "      <td>NaN</td>\n",
       "    </tr>\n",
       "    <tr>\n",
       "      <th>2</th>\n",
       "      <td>acafly</td>\n",
       "      <td></td>\n",
       "      <td>5.7813</td>\n",
       "      <td>-75.7452</td>\n",
       "      <td>2012-01-10</td>\n",
       "      <td>XC127032.ogg</td>\n",
       "      <td>3.0</td>\n",
       "      <td>1</td>\n",
       "      <td>2012</td>\n",
       "      <td>/app/_data/train_short_audio/acafly/XC127032.ogg</td>\n",
       "      <td>1508450.0</td>\n",
       "      <td>47.139063</td>\n",
       "      <td>NaN</td>\n",
       "    </tr>\n",
       "    <tr>\n",
       "      <th>3</th>\n",
       "      <td>acafly</td>\n",
       "      <td>whwbec1</td>\n",
       "      <td>4.6717</td>\n",
       "      <td>-75.6283</td>\n",
       "      <td>2009-06-19</td>\n",
       "      <td>XC129974.ogg</td>\n",
       "      <td>3.5</td>\n",
       "      <td>6</td>\n",
       "      <td>2009</td>\n",
       "      <td>/app/_data/train_short_audio/acafly/XC129974.ogg</td>\n",
       "      <td>450177.0</td>\n",
       "      <td>14.068031</td>\n",
       "      <td>NaN</td>\n",
       "    </tr>\n",
       "    <tr>\n",
       "      <th>4</th>\n",
       "      <td>acafly</td>\n",
       "      <td>whwbec1</td>\n",
       "      <td>4.6717</td>\n",
       "      <td>-75.6283</td>\n",
       "      <td>2009-06-19</td>\n",
       "      <td>XC129981.ogg</td>\n",
       "      <td>3.5</td>\n",
       "      <td>6</td>\n",
       "      <td>2009</td>\n",
       "      <td>/app/_data/train_short_audio/acafly/XC129981.ogg</td>\n",
       "      <td>1301142.0</td>\n",
       "      <td>40.660688</td>\n",
       "      <td>NaN</td>\n",
       "    </tr>\n",
       "    <tr>\n",
       "      <th>...</th>\n",
       "      <td>...</td>\n",
       "      <td>...</td>\n",
       "      <td>...</td>\n",
       "      <td>...</td>\n",
       "      <td>...</td>\n",
       "      <td>...</td>\n",
       "      <td>...</td>\n",
       "      <td>...</td>\n",
       "      <td>...</td>\n",
       "      <td>...</td>\n",
       "      <td>...</td>\n",
       "      <td>...</td>\n",
       "      <td>...</td>\n",
       "    </tr>\n",
       "    <tr>\n",
       "      <th>65269</th>\n",
       "      <td>nocall</td>\n",
       "      <td>NaN</td>\n",
       "      <td>42.4700</td>\n",
       "      <td>-76.4500</td>\n",
       "      <td>2017-06-17 00:00:00</td>\n",
       "      <td>54955_SSW_20170617.ogg</td>\n",
       "      <td>6.0</td>\n",
       "      <td>6</td>\n",
       "      <td>2017</td>\n",
       "      <td>/app/_data/train_soundscapes/54955_SSW_2017061...</td>\n",
       "      <td>160000.0</td>\n",
       "      <td>5.000000</td>\n",
       "      <td>54955_SSW_580</td>\n",
       "    </tr>\n",
       "    <tr>\n",
       "      <th>65270</th>\n",
       "      <td>grycat</td>\n",
       "      <td>NaN</td>\n",
       "      <td>42.4700</td>\n",
       "      <td>-76.4500</td>\n",
       "      <td>2017-06-17 00:00:00</td>\n",
       "      <td>54955_SSW_20170617.ogg</td>\n",
       "      <td>6.0</td>\n",
       "      <td>6</td>\n",
       "      <td>2017</td>\n",
       "      <td>/app/_data/train_soundscapes/54955_SSW_2017061...</td>\n",
       "      <td>160000.0</td>\n",
       "      <td>5.000000</td>\n",
       "      <td>54955_SSW_585</td>\n",
       "    </tr>\n",
       "    <tr>\n",
       "      <th>65271</th>\n",
       "      <td>grycat</td>\n",
       "      <td>NaN</td>\n",
       "      <td>42.4700</td>\n",
       "      <td>-76.4500</td>\n",
       "      <td>2017-06-17 00:00:00</td>\n",
       "      <td>54955_SSW_20170617.ogg</td>\n",
       "      <td>6.0</td>\n",
       "      <td>6</td>\n",
       "      <td>2017</td>\n",
       "      <td>/app/_data/train_soundscapes/54955_SSW_2017061...</td>\n",
       "      <td>160000.0</td>\n",
       "      <td>5.000000</td>\n",
       "      <td>54955_SSW_590</td>\n",
       "    </tr>\n",
       "    <tr>\n",
       "      <th>65272</th>\n",
       "      <td>nocall</td>\n",
       "      <td>NaN</td>\n",
       "      <td>42.4700</td>\n",
       "      <td>-76.4500</td>\n",
       "      <td>2017-06-17 00:00:00</td>\n",
       "      <td>54955_SSW_20170617.ogg</td>\n",
       "      <td>6.0</td>\n",
       "      <td>6</td>\n",
       "      <td>2017</td>\n",
       "      <td>/app/_data/train_soundscapes/54955_SSW_2017061...</td>\n",
       "      <td>160000.0</td>\n",
       "      <td>5.000000</td>\n",
       "      <td>54955_SSW_595</td>\n",
       "    </tr>\n",
       "    <tr>\n",
       "      <th>65273</th>\n",
       "      <td>nocall</td>\n",
       "      <td>NaN</td>\n",
       "      <td>42.4700</td>\n",
       "      <td>-76.4500</td>\n",
       "      <td>2017-06-17 00:00:00</td>\n",
       "      <td>54955_SSW_20170617.ogg</td>\n",
       "      <td>6.0</td>\n",
       "      <td>6</td>\n",
       "      <td>2017</td>\n",
       "      <td>/app/_data/train_soundscapes/54955_SSW_2017061...</td>\n",
       "      <td>160000.0</td>\n",
       "      <td>5.000000</td>\n",
       "      <td>54955_SSW_600</td>\n",
       "    </tr>\n",
       "  </tbody>\n",
       "</table>\n",
       "<p>65274 rows × 13 columns</p>\n",
       "</div>"
      ],
      "text/plain": [
       "      primary_label secondary_labels  latitude  longitude  \\\n",
       "0            acafly           amegfi   35.3860   -84.1250   \n",
       "1            acafly                     9.1334   -79.6501   \n",
       "2            acafly                     5.7813   -75.7452   \n",
       "3            acafly          whwbec1    4.6717   -75.6283   \n",
       "4            acafly          whwbec1    4.6717   -75.6283   \n",
       "...             ...              ...       ...        ...   \n",
       "65269        nocall              NaN   42.4700   -76.4500   \n",
       "65270        grycat              NaN   42.4700   -76.4500   \n",
       "65271        grycat              NaN   42.4700   -76.4500   \n",
       "65272        nocall              NaN   42.4700   -76.4500   \n",
       "65273        nocall              NaN   42.4700   -76.4500   \n",
       "\n",
       "                      date                filename  rating  month  year  \\\n",
       "0               2012-08-12            XC109605.ogg     2.5      8  2012   \n",
       "1               2000-12-26             XC11209.ogg     3.0     12  2000   \n",
       "2               2012-01-10            XC127032.ogg     3.0      1  2012   \n",
       "3               2009-06-19            XC129974.ogg     3.5      6  2009   \n",
       "4               2009-06-19            XC129981.ogg     3.5      6  2009   \n",
       "...                    ...                     ...     ...    ...   ...   \n",
       "65269  2017-06-17 00:00:00  54955_SSW_20170617.ogg     6.0      6  2017   \n",
       "65270  2017-06-17 00:00:00  54955_SSW_20170617.ogg     6.0      6  2017   \n",
       "65271  2017-06-17 00:00:00  54955_SSW_20170617.ogg     6.0      6  2017   \n",
       "65272  2017-06-17 00:00:00  54955_SSW_20170617.ogg     6.0      6  2017   \n",
       "65273  2017-06-17 00:00:00  54955_SSW_20170617.ogg     6.0      6  2017   \n",
       "\n",
       "                                               file_path     frames  \\\n",
       "0       /app/_data/train_short_audio/acafly/XC109605.ogg  2037586.0   \n",
       "1        /app/_data/train_short_audio/acafly/XC11209.ogg   532933.0   \n",
       "2       /app/_data/train_short_audio/acafly/XC127032.ogg  1508450.0   \n",
       "3       /app/_data/train_short_audio/acafly/XC129974.ogg   450177.0   \n",
       "4       /app/_data/train_short_audio/acafly/XC129981.ogg  1301142.0   \n",
       "...                                                  ...        ...   \n",
       "65269  /app/_data/train_soundscapes/54955_SSW_2017061...   160000.0   \n",
       "65270  /app/_data/train_soundscapes/54955_SSW_2017061...   160000.0   \n",
       "65271  /app/_data/train_soundscapes/54955_SSW_2017061...   160000.0   \n",
       "65272  /app/_data/train_soundscapes/54955_SSW_2017061...   160000.0   \n",
       "65273  /app/_data/train_soundscapes/54955_SSW_2017061...   160000.0   \n",
       "\n",
       "        duration         row_id  \n",
       "0      63.674563            NaN  \n",
       "1      16.654156            NaN  \n",
       "2      47.139063            NaN  \n",
       "3      14.068031            NaN  \n",
       "4      40.660688            NaN  \n",
       "...          ...            ...  \n",
       "65269   5.000000  54955_SSW_580  \n",
       "65270   5.000000  54955_SSW_585  \n",
       "65271   5.000000  54955_SSW_590  \n",
       "65272   5.000000  54955_SSW_595  \n",
       "65273   5.000000  54955_SSW_600  \n",
       "\n",
       "[65274 rows x 13 columns]"
      ]
     },
     "execution_count": 29,
     "metadata": {},
     "output_type": "execute_result"
    }
   ],
   "source": [
    "all_audio"
   ]
  },
  {
   "cell_type": "code",
   "execution_count": 30,
   "metadata": {},
   "outputs": [],
   "source": [
    "for i in all_audio.index.tolist():\n",
    "    if all_audio.loc[i, \"secondary_labels\"] == \"\":\n",
    "        all_audio.loc[i, \"secondary_labels\"] = \"nocall\""
   ]
  },
  {
   "cell_type": "code",
   "execution_count": 31,
   "metadata": {},
   "outputs": [],
   "source": [
    "all_audio[\"secondary_labels\"] = all_audio[\"secondary_labels\"].fillna(\"nocall\")\n",
    "all_audio[\"sin_month\"] = np.sin(2 * np.pi * all_audio[\"month\"] / 12)\n",
    "all_audio[\"cos_month\"] = np.cos(2 * np.pi * all_audio[\"month\"] / 12)\n",
    "all_audio[\"sin_longitude\"] = np.sin(2 * np.pi * (all_audio[\"longitude\"]) / 360)\n",
    "all_audio[\"cos_longitude\"] = np.cos(2 * np.pi * (all_audio[\"longitude\"]) / 360)\n",
    "all_audio[\"norm_latitude\"] = (all_audio[\"latitude\"] - all_audio[\"latitude\"].min()) / (\n",
    "    all_audio[\"latitude\"].max() - all_audio[\"latitude\"].min()\n",
    ")"
   ]
  },
  {
   "cell_type": "code",
   "execution_count": 32,
   "metadata": {},
   "outputs": [],
   "source": [
    "all_audio = all_audio[all_audio[\"primary_label\"].str.len() <= 7]\n",
    "dict_birds = {}\n",
    "for i, bird in enumerate(sorted(all_audio[\"primary_label\"].unique())):\n",
    "    dict_birds[bird] = i\n",
    "all_audio[\"label_id\"] = all_audio[\"primary_label\"].replace(dict_birds)"
   ]
  },
  {
   "cell_type": "code",
   "execution_count": 33,
   "metadata": {},
   "outputs": [],
   "source": [
    "dict_weights = (1 / all_audio[\"primary_label\"].value_counts()).to_dict()\n",
    "all_audio[\"class_weights\"] = all_audio[\"primary_label\"].replace(dict_weights)\n",
    "all_audio[\"num_intervals\"] = all_audio[\"duration\"] // 5\n",
    "all_audio[\"start_sec\"] = 0\n",
    "all_audio[\"end_sec\"] = 5"
   ]
  },
  {
   "cell_type": "code",
   "execution_count": 34,
   "metadata": {},
   "outputs": [],
   "source": [
    "for i in all_audio.index.tolist():\n",
    "    labels = all_audio.loc[i, \"secondary_labels\"].split(\" \")\n",
    "    list_ids = []\n",
    "    for bird in labels:\n",
    "        list_ids.append(str(dict_birds[bird]))\n",
    "    all_audio.loc[i, \"secondary_labels_id\"] = \" \".join(list_ids)"
   ]
  },
  {
   "cell_type": "code",
   "execution_count": 35,
   "metadata": {},
   "outputs": [],
   "source": [
    "file_json = open(\"/app/_data/dict_birds.json\", \"w\")\n",
    "json.dump(dict_birds, file_json)\n",
    "file_json.close()"
   ]
  },
  {
   "cell_type": "code",
   "execution_count": 36,
   "metadata": {},
   "outputs": [],
   "source": [
    "# with open(\"/app/_data/dict_birds.json\", \"r\") as d:\n",
    "#     dict_birds = json.load(d)"
   ]
  },
  {
   "cell_type": "code",
   "execution_count": 37,
   "metadata": {},
   "outputs": [
    {
     "data": {
      "text/html": [
       "<div>\n",
       "<style scoped>\n",
       "    .dataframe tbody tr th:only-of-type {\n",
       "        vertical-align: middle;\n",
       "    }\n",
       "\n",
       "    .dataframe tbody tr th {\n",
       "        vertical-align: top;\n",
       "    }\n",
       "\n",
       "    .dataframe thead th {\n",
       "        text-align: right;\n",
       "    }\n",
       "</style>\n",
       "<table border=\"1\" class=\"dataframe\">\n",
       "  <thead>\n",
       "    <tr style=\"text-align: right;\">\n",
       "      <th></th>\n",
       "      <th>primary_label</th>\n",
       "      <th>secondary_labels</th>\n",
       "      <th>latitude</th>\n",
       "      <th>longitude</th>\n",
       "      <th>date</th>\n",
       "      <th>filename</th>\n",
       "      <th>rating</th>\n",
       "      <th>month</th>\n",
       "      <th>year</th>\n",
       "      <th>file_path</th>\n",
       "      <th>...</th>\n",
       "      <th>cos_month</th>\n",
       "      <th>sin_longitude</th>\n",
       "      <th>cos_longitude</th>\n",
       "      <th>norm_latitude</th>\n",
       "      <th>label_id</th>\n",
       "      <th>class_weights</th>\n",
       "      <th>num_intervals</th>\n",
       "      <th>start_sec</th>\n",
       "      <th>end_sec</th>\n",
       "      <th>secondary_labels_id</th>\n",
       "    </tr>\n",
       "  </thead>\n",
       "  <tbody>\n",
       "    <tr>\n",
       "      <th>23714</th>\n",
       "      <td>gcrwar</td>\n",
       "      <td>nocall</td>\n",
       "      <td>-22.4902</td>\n",
       "      <td>-44.5679</td>\n",
       "      <td>2007-09-15</td>\n",
       "      <td>XC195449.ogg</td>\n",
       "      <td>3.0</td>\n",
       "      <td>9</td>\n",
       "      <td>2007</td>\n",
       "      <td>/app/_data/train_short_audio/gcrwar/XC195449.ogg</td>\n",
       "      <td>...</td>\n",
       "      <td>-1.836970e-16</td>\n",
       "      <td>-0.701754</td>\n",
       "      <td>0.712419</td>\n",
       "      <td>0.232204</td>\n",
       "      <td>143</td>\n",
       "      <td>0.005525</td>\n",
       "      <td>9.0</td>\n",
       "      <td>0</td>\n",
       "      <td>5</td>\n",
       "      <td>220</td>\n",
       "    </tr>\n",
       "  </tbody>\n",
       "</table>\n",
       "<p>1 rows × 24 columns</p>\n",
       "</div>"
      ],
      "text/plain": [
       "      primary_label secondary_labels  latitude  longitude        date  \\\n",
       "23714        gcrwar           nocall  -22.4902   -44.5679  2007-09-15   \n",
       "\n",
       "           filename  rating  month  year  \\\n",
       "23714  XC195449.ogg     3.0      9  2007   \n",
       "\n",
       "                                              file_path  ...     cos_month  \\\n",
       "23714  /app/_data/train_short_audio/gcrwar/XC195449.ogg  ... -1.836970e-16   \n",
       "\n",
       "       sin_longitude cos_longitude  norm_latitude  label_id  class_weights  \\\n",
       "23714      -0.701754      0.712419       0.232204       143       0.005525   \n",
       "\n",
       "       num_intervals  start_sec  end_sec  secondary_labels_id  \n",
       "23714            9.0          0        5                  220  \n",
       "\n",
       "[1 rows x 24 columns]"
      ]
     },
     "execution_count": 37,
     "metadata": {},
     "output_type": "execute_result"
    }
   ],
   "source": [
    "all_audio.sample()"
   ]
  },
  {
   "cell_type": "code",
   "execution_count": 107,
   "metadata": {},
   "outputs": [],
   "source": [
    "all_audio.to_csv(\"/app/_data/all_audio_initial.csv\")"
   ]
  },
  {
   "cell_type": "markdown",
   "metadata": {},
   "source": [
    "# chunks"
   ]
  },
  {
   "cell_type": "code",
   "execution_count": 38,
   "metadata": {},
   "outputs": [],
   "source": [
    "def my_floor(a, precision=2):\n",
    "    dec = a - np.floor(a)\n",
    "    dec = dec * 10 ** precision\n",
    "    dec = np.floor(dec) / 10 ** precision\n",
    "    b = np.floor(a) + dec\n",
    "    return b"
   ]
  },
  {
   "cell_type": "code",
   "execution_count": 39,
   "metadata": {},
   "outputs": [],
   "source": [
    "def make_segments(row, sig_lenght, ordered=True, rand=False):\n",
    "    duration = row[\"duration\"]\n",
    "    max_num_intervals = int(duration // sig_lenght)\n",
    "    if ordered:\n",
    "        if max_num_intervals == 1:\n",
    "            if duration >= 7:\n",
    "                intervals = [\n",
    "                    [0, sig_lenght],\n",
    "                    [my_floor(duration - sig_lenght), my_floor(duration)],\n",
    "                ]\n",
    "            else:\n",
    "                start = np.round((duration - sig_lenght) / 2, 2)\n",
    "                intervals = [start, start + sig_lenght]\n",
    "        elif max_num_intervals == 2:\n",
    "            center = my_floor((duration - sig_lenght) / 2)\n",
    "            intervals = [\n",
    "                [0, sig_lenght],\n",
    "                [my_floor(center), my_floor(center + sig_lenght)],\n",
    "                [my_floor(duration - sig_lenght), my_floor(duration)],\n",
    "            ]\n",
    "        else:\n",
    "            intervals = []\n",
    "            for i in range(max_num_intervals):\n",
    "                intervals.append([i * sig_lenght, (i + 1) * sig_lenght])\n",
    "            if duration % sig_lenght >= 2:\n",
    "                intervals.append([my_floor(duration - sig_lenght), my_floor(duration)])\n",
    "    if rand:\n",
    "        if max_num_intervals == 1:\n",
    "            if duration >= 7:\n",
    "                start1 = my_floor(\n",
    "                    np.random.randint(0, np.floor(duration - sig_lenght))\n",
    "                    + np.random.rand()\n",
    "                )\n",
    "                start2 = my_floor(\n",
    "                    np.random.randint(0, np.floor(duration - sig_lenght))\n",
    "                    + np.random.rand()\n",
    "                )\n",
    "                intervals = [\n",
    "                    [start1, my_floor(start1 + sig_lenght)],\n",
    "                    [start2, my_floor(start2 + sig_lenght)],\n",
    "                ]\n",
    "            elif 6 <= duration<7:\n",
    "                start = my_floor(\n",
    "                    np.random.randint(0, np.floor(duration - sig_lenght))\n",
    "                    + np.random.rand()\n",
    "                )\n",
    "                intervals = [my_floor(start),my_floor( start + sig_lenght)]\n",
    "            elif duration<6:\n",
    "                start = np.round((duration - sig_lenght) / 2, 2)\n",
    "                intervals = [start, start + sig_lenght]\n",
    "\n",
    "        elif max_num_intervals == 2:\n",
    "            intervals = []\n",
    "            for i in range(3):\n",
    "                start = my_floor(\n",
    "                    np.random.randint(0, np.floor(duration - sig_lenght))\n",
    "                    + np.random.rand()\n",
    "                )\n",
    "                intervals.append([my_floor(start),my_floor( start + sig_lenght)])\n",
    "        else:\n",
    "            intervals = []\n",
    "            for i in range(max_num_intervals):\n",
    "                start = my_floor(\n",
    "                    np.random.randint(0, np.floor(duration - sig_lenght))\n",
    "                    + np.random.rand()\n",
    "                )\n",
    "                intervals.append([my_floor(start),my_floor( start + sig_lenght)])\n",
    "    new_row = row.copy()\n",
    "    df = pd.DataFrame(columns=row1.index.tolist())\n",
    "    if max_num_intervals==1 and duration < 7:\n",
    "        start = intervals[0]\n",
    "        end = intervals[1]\n",
    "        new_row['start_sec'] = start\n",
    "        new_row['end_sec'] = end\n",
    "        new_row['row_id'] = new_row['filename']+'_'+'_'.join(str(end).split('.'))\n",
    "        df.loc[0] = new_row\n",
    "    else:\n",
    "        for i in range(len(intervals)):\n",
    "            start = intervals[i][0]\n",
    "            end = intervals[i][1]\n",
    "            new_row['start_sec'] = start\n",
    "            new_row['end_sec'] = end\n",
    "            new_row['row_id'] = new_row['filename']+'_'+'_'.join(str(end).split('.'))\n",
    "            df.loc[i] = new_row\n",
    "\n",
    "    return  df"
   ]
  },
  {
   "cell_type": "code",
   "execution_count": 83,
   "metadata": {},
   "outputs": [],
   "source": [
    "def make_segments(row, sig_lenght, ordered=True, rand=False):\n",
    "    duration = row[1]\n",
    "    max_num_intervals = int(duration // sig_lenght)\n",
    "    dict_intervals = []\n",
    "    if ordered:\n",
    "        if max_num_intervals == 1:\n",
    "            if duration >= 7:\n",
    "                intervals = [\n",
    "                    [0, sig_lenght],\n",
    "                    [my_floor(duration - sig_lenght), my_floor(duration)],\n",
    "                ]\n",
    "            else:\n",
    "                start = np.round((duration - sig_lenght) / 2, 2)\n",
    "                intervals = [start, start + sig_lenght]\n",
    "        elif max_num_intervals == 2:\n",
    "            center = my_floor((duration - sig_lenght) / 2)\n",
    "            intervals = [\n",
    "                [0, sig_lenght],\n",
    "                [my_floor(center), my_floor(center + sig_lenght)],\n",
    "                [my_floor(duration - sig_lenght), my_floor(duration)],\n",
    "            ]\n",
    "        else:\n",
    "            intervals = []\n",
    "            for i in range(max_num_intervals):\n",
    "                intervals.append([i * sig_lenght, (i + 1) * sig_lenght])\n",
    "            if duration % sig_lenght >= 2:\n",
    "                intervals.append([my_floor(duration - sig_lenght), my_floor(duration)])\n",
    "    if rand:\n",
    "        if max_num_intervals == 1:\n",
    "            if duration >= 7:\n",
    "                start1 = my_floor(\n",
    "                    np.random.randint(0, np.floor(duration - sig_lenght))\n",
    "                    + np.random.rand()\n",
    "                )\n",
    "                start2 = my_floor(\n",
    "                    np.random.randint(0, np.floor(duration - sig_lenght))\n",
    "                    + np.random.rand()\n",
    "                )\n",
    "                intervals = [\n",
    "                    [start1, my_floor(start1 + sig_lenght)],\n",
    "                    [start2, my_floor(start2 + sig_lenght)],\n",
    "                ]\n",
    "            elif 6 <= duration<7:\n",
    "                start = my_floor(\n",
    "                    np.random.randint(0, np.floor(duration - sig_lenght))\n",
    "                    + np.random.rand()\n",
    "                )\n",
    "                intervals = [my_floor(start),my_floor( start + sig_lenght)]\n",
    "            elif duration<6:\n",
    "                start = np.round((duration - sig_lenght) / 2, 2)\n",
    "                intervals = [start, start + sig_lenght]\n",
    "\n",
    "        elif max_num_intervals == 2:\n",
    "            intervals = []\n",
    "            for i in range(3):\n",
    "                start = my_floor(\n",
    "                    np.random.randint(0, np.floor(duration - sig_lenght))\n",
    "                    + np.random.rand()\n",
    "                )\n",
    "                intervals.append([my_floor(start),my_floor( start + sig_lenght)])\n",
    "        else:\n",
    "            intervals = []\n",
    "            for i in range(max_num_intervals):\n",
    "                start = my_floor(\n",
    "                    np.random.randint(0, np.floor(duration - sig_lenght))\n",
    "                    + np.random.rand()\n",
    "                )\n",
    "                intervals.append([my_floor(start),my_floor( start + sig_lenght)])\n",
    "#     dict_intervals[0] = row[0]\n",
    "#     dict_intervals[1] = intervals\n",
    "#     dict_intervals[row[0]] = intervals\n",
    "    intervals.append(row[0])\n",
    "    if max_num_intervals==1 and duration < 7:\n",
    "        start = intervals[0]\n",
    "        end = intervals[1]\n",
    "    else:\n",
    "        for i in range(len(intervals)):\n",
    "            start = intervals[i][0]\n",
    "            end = intervals[i][1]\n",
    "            \n",
    "    return  intervals"
   ]
  },
  {
   "cell_type": "code",
   "execution_count": 45,
   "metadata": {},
   "outputs": [],
   "source": [
    "short_audio_df = all_audio[\n",
    "    ~all_audio[\"file_path\"].str.contains(\"train_soundscapes\")\n",
    "].reset_index(drop=True)"
   ]
  },
  {
   "cell_type": "code",
   "execution_count": 102,
   "metadata": {},
   "outputs": [],
   "source": [
    "short_audio_df.index = short_audio_df['filename']"
   ]
  },
  {
   "cell_type": "code",
   "execution_count": 54,
   "metadata": {},
   "outputs": [],
   "source": [
    "array_for_cut = short_audio_df[['filename', 'duration']].values"
   ]
  },
  {
   "cell_type": "code",
   "execution_count": 82,
   "metadata": {},
   "outputs": [
    {
     "data": {
      "text/plain": [
       "'XC109605.ogg'"
      ]
     },
     "execution_count": 82,
     "metadata": {},
     "output_type": "execute_result"
    }
   ],
   "source": [
    "array_for_cut[0][0]"
   ]
  },
  {
   "cell_type": "code",
   "execution_count": 87,
   "metadata": {},
   "outputs": [],
   "source": [
    "a = make_segments(array_for_cut[2], 5, ordered=False, rand=True)"
   ]
  },
  {
   "cell_type": "code",
   "execution_count": 92,
   "metadata": {},
   "outputs": [
    {
     "data": {
      "text/plain": [
       "array([[ 8.22, 13.22],\n",
       "       [ 8.08, 13.08],\n",
       "       [10.23, 15.23]])"
      ]
     },
     "execution_count": 92,
     "metadata": {},
     "output_type": "execute_result"
    }
   ],
   "source": [
    "np.array(b[: -1])"
   ]
  },
  {
   "cell_type": "code",
   "execution_count": 93,
   "metadata": {},
   "outputs": [],
   "source": [
    "d = {}\n",
    "d[b[-1]] = np.array(b[:-1])\n",
    "d[a[-1]] = np.array(a[:-1])"
   ]
  },
  {
   "cell_type": "code",
   "execution_count": 97,
   "metadata": {},
   "outputs": [
    {
     "data": {
      "text/plain": [
       "(3, 2)"
      ]
     },
     "execution_count": 97,
     "metadata": {},
     "output_type": "execute_result"
    }
   ],
   "source": [
    "d['XC11209.ogg'].shape"
   ]
  },
  {
   "cell_type": "code",
   "execution_count": 100,
   "metadata": {},
   "outputs": [
    {
     "name": "stderr",
     "output_type": "stream",
     "text": [
      "100%|██████████| 62874/62874 [00:03<00:00, 18821.16it/s]\n"
     ]
    }
   ],
   "source": [
    "ord_cut = {}\n",
    "for i in tqdm(range(len(array_for_cut))):\n",
    "    row = array_for_cut[i]\n",
    "    seg = make_segments(row, 5, ordered=True, rand=False)\n",
    "    ord_cut[seg[-1]] = np.array(seg[:-1])"
   ]
  },
  {
   "cell_type": "code",
   "execution_count": 119,
   "metadata": {},
   "outputs": [
    {
     "data": {
      "text/plain": [
       "array([0.98, 5.98])"
      ]
     },
     "execution_count": 119,
     "metadata": {},
     "output_type": "execute_result"
    }
   ],
   "source": [
    "ord_cut['XC454273.ogg']"
   ]
  },
  {
   "cell_type": "code",
   "execution_count": 116,
   "metadata": {},
   "outputs": [],
   "source": [
    "col = [\n",
    "    \"rating\",\n",
    "    \"filename\",\n",
    "    \"row_id\",\n",
    "    \"class_weights\",\n",
    "    \"start_sec\",\n",
    "    \"end_sec\",\n",
    "]"
   ]
  },
  {
   "cell_type": "code",
   "execution_count": 117,
   "metadata": {},
   "outputs": [],
   "source": [
    "short_audio_df1 = short_audio_df[col]"
   ]
  },
  {
   "cell_type": "code",
   "execution_count": null,
   "metadata": {},
   "outputs": [
    {
     "name": "stderr",
     "output_type": "stream",
     "text": [
      " 53%|█████▎    | 33423/62874 [5:39:49<14:32:41,  1.78s/it] "
     ]
    }
   ],
   "source": [
    "df = pd.DataFrame(columns=col)\n",
    "for key in tqdm(ord_cut):\n",
    "    row = short_audio_df1.loc[key]\n",
    "#     print(key)\n",
    "    for i in ord_cut[key]:\n",
    "        try:\n",
    "            start = i[0]\n",
    "            end=i[1]\n",
    "        except:\n",
    "            start = i\n",
    "            end = 1+5\n",
    "        filename = key.split('.')[0]+'_'+'_'.join(str(end).split('.'))\n",
    "        row['start_sec'] = start\n",
    "        row['end_sec'] = end\n",
    "        row['row_id']= filename\n",
    "        df.loc[filename] = row"
   ]
  },
  {
   "cell_type": "code",
   "execution_count": 126,
   "metadata": {},
   "outputs": [],
   "source": [
    "aa = {'a': {'b':1, 'c':2}}"
   ]
  },
  {
   "cell_type": "code",
   "execution_count": 134,
   "metadata": {},
   "outputs": [],
   "source": [
    "aa['a']['b'] = [1,3]"
   ]
  },
  {
   "cell_type": "code",
   "execution_count": 135,
   "metadata": {},
   "outputs": [
    {
     "data": {
      "text/plain": [
       "{'a': {'b': [1, 3], 'c': 2}}"
      ]
     },
     "execution_count": 135,
     "metadata": {},
     "output_type": "execute_result"
    }
   ],
   "source": [
    "aa"
   ]
  },
  {
   "cell_type": "code",
   "execution_count": 136,
   "metadata": {},
   "outputs": [
    {
     "name": "stderr",
     "output_type": "stream",
     "text": [
      "  0%|          | 0/62874 [00:00<?, ?it/s]\n"
     ]
    },
    {
     "ename": "TypeError",
     "evalue": "'str' object does not support item assignment",
     "output_type": "error",
     "traceback": [
      "\u001b[0;31m\u001b[0m",
      "\u001b[0;31mTypeError\u001b[0mTraceback (most recent call last)",
      "\u001b[0;32m<ipython-input-136-404ae22bb177>\u001b[0m in \u001b[0;36m<module>\u001b[0;34m\u001b[0m\n\u001b[1;32m     10\u001b[0m         \u001b[0mfilename\u001b[0m \u001b[0;34m=\u001b[0m \u001b[0mkey\u001b[0m\u001b[0;34m.\u001b[0m\u001b[0msplit\u001b[0m\u001b[0;34m(\u001b[0m\u001b[0;34m'.'\u001b[0m\u001b[0;34m)\u001b[0m\u001b[0;34m[\u001b[0m\u001b[0;36m0\u001b[0m\u001b[0;34m]\u001b[0m\u001b[0;34m+\u001b[0m\u001b[0;34m'_'\u001b[0m\u001b[0;34m+\u001b[0m\u001b[0;34m'_'\u001b[0m\u001b[0;34m.\u001b[0m\u001b[0mjoin\u001b[0m\u001b[0;34m(\u001b[0m\u001b[0mstr\u001b[0m\u001b[0;34m(\u001b[0m\u001b[0mend\u001b[0m\u001b[0;34m)\u001b[0m\u001b[0;34m.\u001b[0m\u001b[0msplit\u001b[0m\u001b[0;34m(\u001b[0m\u001b[0;34m'.'\u001b[0m\u001b[0;34m)\u001b[0m\u001b[0;34m)\u001b[0m\u001b[0;34m\u001b[0m\u001b[0;34m\u001b[0m\u001b[0m\n\u001b[1;32m     11\u001b[0m         \u001b[0mdict_ordered\u001b[0m\u001b[0;34m[\u001b[0m\u001b[0mkey\u001b[0m\u001b[0;34m]\u001b[0m \u001b[0;34m=\u001b[0m \u001b[0mfilename\u001b[0m\u001b[0;34m\u001b[0m\u001b[0;34m\u001b[0m\u001b[0m\n\u001b[0;32m---> 12\u001b[0;31m         \u001b[0mdict_ordered\u001b[0m\u001b[0;34m[\u001b[0m\u001b[0mkey\u001b[0m\u001b[0;34m]\u001b[0m\u001b[0;34m[\u001b[0m\u001b[0mfilename\u001b[0m\u001b[0;34m]\u001b[0m \u001b[0;34m=\u001b[0m \u001b[0;34m[\u001b[0m\u001b[0mstart\u001b[0m\u001b[0;34m,\u001b[0m \u001b[0mend\u001b[0m\u001b[0;34m]\u001b[0m\u001b[0;34m\u001b[0m\u001b[0;34m\u001b[0m\u001b[0m\n\u001b[0m",
      "\u001b[0;31mTypeError\u001b[0m: 'str' object does not support item assignment"
     ]
    }
   ],
   "source": [
    "dict_ordered = {}\n",
    "for key in tqdm(ord_cut):\n",
    "    for i in ord_cut[key]:\n",
    "        try:\n",
    "            start = i[0]\n",
    "            end=i[1]\n",
    "        except:\n",
    "            start = i\n",
    "            end = 1+5\n",
    "        filename = key.split('.')[0]+'_'+'_'.join(str(end).split('.'))\n",
    "        dict_ordered[key] = filename\n",
    "        dict_ordered[key][filename] = [start, end]"
   ]
  },
  {
   "cell_type": "code",
   "execution_count": 46,
   "metadata": {},
   "outputs": [
    {
     "name": "stderr",
     "output_type": "stream",
     "text": [
      "100%|██████████| 62874/62874 [7:54:15<00:00,  2.21it/s]   \n"
     ]
    }
   ],
   "source": [
    "random_cut = pd.DataFrame(columns=all_audio.columns)\n",
    "for i in tqdm(range(len(short_audio_df))):\n",
    "    row = short_audio_df.loc[i]\n",
    "#     print(i)\n",
    "    df = make_segments(row, 5, ordered=False, rand=True)\n",
    "    random_cut = pd.concat([random_cut, df], axis=0, ignore_index=True)"
   ]
  },
  {
   "cell_type": "code",
   "execution_count": 47,
   "metadata": {},
   "outputs": [],
   "source": [
    "random_cut.to_csv('/app/_data/random_cut1.csv', index=False)"
   ]
  },
  {
   "cell_type": "code",
   "execution_count": 49,
   "metadata": {
    "collapsed": true,
    "jupyter": {
     "outputs_hidden": true
    }
   },
   "outputs": [
    {
     "name": "stderr",
     "output_type": "stream",
     "text": [
      "  0%|          | 155/62874 [00:28<3:13:47,  5.39it/s]\n"
     ]
    },
    {
     "ename": "KeyboardInterrupt",
     "evalue": "",
     "output_type": "error",
     "traceback": [
      "\u001b[0;31m\u001b[0m",
      "\u001b[0;31mKeyboardInterrupt\u001b[0mTraceback (most recent call last)",
      "\u001b[0;32m<ipython-input-49-a26902b9521c>\u001b[0m in \u001b[0;36m<module>\u001b[0;34m\u001b[0m\n\u001b[1;32m      3\u001b[0m     \u001b[0mrow\u001b[0m \u001b[0;34m=\u001b[0m \u001b[0mshort_audio_df\u001b[0m\u001b[0;34m.\u001b[0m\u001b[0mloc\u001b[0m\u001b[0;34m[\u001b[0m\u001b[0mi\u001b[0m\u001b[0;34m]\u001b[0m\u001b[0;34m\u001b[0m\u001b[0;34m\u001b[0m\u001b[0m\n\u001b[1;32m      4\u001b[0m \u001b[0;31m#     print(i)\u001b[0m\u001b[0;34m\u001b[0m\u001b[0;34m\u001b[0m\u001b[0;34m\u001b[0m\u001b[0m\n\u001b[0;32m----> 5\u001b[0;31m     \u001b[0mdf\u001b[0m \u001b[0;34m=\u001b[0m \u001b[0mmake_segments\u001b[0m\u001b[0;34m(\u001b[0m\u001b[0mrow\u001b[0m\u001b[0;34m,\u001b[0m \u001b[0;36m5\u001b[0m\u001b[0;34m,\u001b[0m \u001b[0mordered\u001b[0m\u001b[0;34m=\u001b[0m\u001b[0;32mTrue\u001b[0m\u001b[0;34m,\u001b[0m \u001b[0mrand\u001b[0m\u001b[0;34m=\u001b[0m\u001b[0;32mFalse\u001b[0m\u001b[0;34m)\u001b[0m\u001b[0;34m\u001b[0m\u001b[0;34m\u001b[0m\u001b[0m\n\u001b[0m\u001b[1;32m      6\u001b[0m     \u001b[0mordered_cut\u001b[0m \u001b[0;34m=\u001b[0m \u001b[0mpd\u001b[0m\u001b[0;34m.\u001b[0m\u001b[0mconcat\u001b[0m\u001b[0;34m(\u001b[0m\u001b[0;34m[\u001b[0m\u001b[0mordered_cut\u001b[0m\u001b[0;34m,\u001b[0m \u001b[0mdf\u001b[0m\u001b[0;34m]\u001b[0m\u001b[0;34m,\u001b[0m \u001b[0maxis\u001b[0m\u001b[0;34m=\u001b[0m\u001b[0;36m0\u001b[0m\u001b[0;34m,\u001b[0m \u001b[0mignore_index\u001b[0m\u001b[0;34m=\u001b[0m\u001b[0;32mTrue\u001b[0m\u001b[0;34m)\u001b[0m\u001b[0;34m\u001b[0m\u001b[0;34m\u001b[0m\u001b[0m\n",
      "\u001b[0;32m<ipython-input-39-95851a0be2a1>\u001b[0m in \u001b[0;36mmake_segments\u001b[0;34m(row, sig_lenght, ordered, rand)\u001b[0m\n\u001b[1;32m     67\u001b[0m                 \u001b[0mintervals\u001b[0m\u001b[0;34m.\u001b[0m\u001b[0mappend\u001b[0m\u001b[0;34m(\u001b[0m\u001b[0;34m[\u001b[0m\u001b[0mmy_floor\u001b[0m\u001b[0;34m(\u001b[0m\u001b[0mstart\u001b[0m\u001b[0;34m)\u001b[0m\u001b[0;34m,\u001b[0m\u001b[0mmy_floor\u001b[0m\u001b[0;34m(\u001b[0m \u001b[0mstart\u001b[0m \u001b[0;34m+\u001b[0m \u001b[0msig_lenght\u001b[0m\u001b[0;34m)\u001b[0m\u001b[0;34m]\u001b[0m\u001b[0;34m)\u001b[0m\u001b[0;34m\u001b[0m\u001b[0;34m\u001b[0m\u001b[0m\n\u001b[1;32m     68\u001b[0m     \u001b[0mnew_row\u001b[0m \u001b[0;34m=\u001b[0m \u001b[0mrow\u001b[0m\u001b[0;34m.\u001b[0m\u001b[0mcopy\u001b[0m\u001b[0;34m(\u001b[0m\u001b[0;34m)\u001b[0m\u001b[0;34m\u001b[0m\u001b[0;34m\u001b[0m\u001b[0m\n\u001b[0;32m---> 69\u001b[0;31m     \u001b[0mdf\u001b[0m \u001b[0;34m=\u001b[0m \u001b[0mpd\u001b[0m\u001b[0;34m.\u001b[0m\u001b[0mDataFrame\u001b[0m\u001b[0;34m(\u001b[0m\u001b[0mcolumns\u001b[0m\u001b[0;34m=\u001b[0m\u001b[0mrow1\u001b[0m\u001b[0;34m.\u001b[0m\u001b[0mindex\u001b[0m\u001b[0;34m.\u001b[0m\u001b[0mtolist\u001b[0m\u001b[0;34m(\u001b[0m\u001b[0;34m)\u001b[0m\u001b[0;34m)\u001b[0m\u001b[0;34m\u001b[0m\u001b[0;34m\u001b[0m\u001b[0m\n\u001b[0m\u001b[1;32m     70\u001b[0m     \u001b[0;32mif\u001b[0m \u001b[0mmax_num_intervals\u001b[0m\u001b[0;34m==\u001b[0m\u001b[0;36m1\u001b[0m \u001b[0;32mand\u001b[0m \u001b[0mduration\u001b[0m \u001b[0;34m<\u001b[0m \u001b[0;36m7\u001b[0m\u001b[0;34m:\u001b[0m\u001b[0;34m\u001b[0m\u001b[0;34m\u001b[0m\u001b[0m\n\u001b[1;32m     71\u001b[0m         \u001b[0mstart\u001b[0m \u001b[0;34m=\u001b[0m \u001b[0mintervals\u001b[0m\u001b[0;34m[\u001b[0m\u001b[0;36m0\u001b[0m\u001b[0;34m]\u001b[0m\u001b[0;34m\u001b[0m\u001b[0;34m\u001b[0m\u001b[0m\n",
      "\u001b[0;32m/usr/local/lib/python3.8/dist-packages/pandas/core/frame.py\u001b[0m in \u001b[0;36m__init__\u001b[0;34m(self, data, index, columns, dtype, copy)\u001b[0m\n\u001b[1;32m    527\u001b[0m \u001b[0;34m\u001b[0m\u001b[0m\n\u001b[1;32m    528\u001b[0m         \u001b[0;32melif\u001b[0m \u001b[0misinstance\u001b[0m\u001b[0;34m(\u001b[0m\u001b[0mdata\u001b[0m\u001b[0;34m,\u001b[0m \u001b[0mdict\u001b[0m\u001b[0;34m)\u001b[0m\u001b[0;34m:\u001b[0m\u001b[0;34m\u001b[0m\u001b[0;34m\u001b[0m\u001b[0m\n\u001b[0;32m--> 529\u001b[0;31m             \u001b[0mmgr\u001b[0m \u001b[0;34m=\u001b[0m \u001b[0minit_dict\u001b[0m\u001b[0;34m(\u001b[0m\u001b[0mdata\u001b[0m\u001b[0;34m,\u001b[0m \u001b[0mindex\u001b[0m\u001b[0;34m,\u001b[0m \u001b[0mcolumns\u001b[0m\u001b[0;34m,\u001b[0m \u001b[0mdtype\u001b[0m\u001b[0;34m=\u001b[0m\u001b[0mdtype\u001b[0m\u001b[0;34m)\u001b[0m\u001b[0;34m\u001b[0m\u001b[0;34m\u001b[0m\u001b[0m\n\u001b[0m\u001b[1;32m    530\u001b[0m         \u001b[0;32melif\u001b[0m \u001b[0misinstance\u001b[0m\u001b[0;34m(\u001b[0m\u001b[0mdata\u001b[0m\u001b[0;34m,\u001b[0m \u001b[0mma\u001b[0m\u001b[0;34m.\u001b[0m\u001b[0mMaskedArray\u001b[0m\u001b[0;34m)\u001b[0m\u001b[0;34m:\u001b[0m\u001b[0;34m\u001b[0m\u001b[0;34m\u001b[0m\u001b[0m\n\u001b[1;32m    531\u001b[0m             \u001b[0;32mimport\u001b[0m \u001b[0mnumpy\u001b[0m\u001b[0;34m.\u001b[0m\u001b[0mma\u001b[0m\u001b[0;34m.\u001b[0m\u001b[0mmrecords\u001b[0m \u001b[0;32mas\u001b[0m \u001b[0mmrecords\u001b[0m\u001b[0;34m\u001b[0m\u001b[0;34m\u001b[0m\u001b[0m\n",
      "\u001b[0;32m/usr/local/lib/python3.8/dist-packages/pandas/core/internals/construction.py\u001b[0m in \u001b[0;36minit_dict\u001b[0;34m(data, index, columns, dtype)\u001b[0m\n\u001b[1;32m    285\u001b[0m             \u001b[0marr\u001b[0m \u001b[0;32mif\u001b[0m \u001b[0;32mnot\u001b[0m \u001b[0mis_datetime64tz_dtype\u001b[0m\u001b[0;34m(\u001b[0m\u001b[0marr\u001b[0m\u001b[0;34m)\u001b[0m \u001b[0;32melse\u001b[0m \u001b[0marr\u001b[0m\u001b[0;34m.\u001b[0m\u001b[0mcopy\u001b[0m\u001b[0;34m(\u001b[0m\u001b[0;34m)\u001b[0m \u001b[0;32mfor\u001b[0m \u001b[0marr\u001b[0m \u001b[0;32min\u001b[0m \u001b[0marrays\u001b[0m\u001b[0;34m\u001b[0m\u001b[0;34m\u001b[0m\u001b[0m\n\u001b[1;32m    286\u001b[0m         ]\n\u001b[0;32m--> 287\u001b[0;31m     \u001b[0;32mreturn\u001b[0m \u001b[0marrays_to_mgr\u001b[0m\u001b[0;34m(\u001b[0m\u001b[0marrays\u001b[0m\u001b[0;34m,\u001b[0m \u001b[0mdata_names\u001b[0m\u001b[0;34m,\u001b[0m \u001b[0mindex\u001b[0m\u001b[0;34m,\u001b[0m \u001b[0mcolumns\u001b[0m\u001b[0;34m,\u001b[0m \u001b[0mdtype\u001b[0m\u001b[0;34m=\u001b[0m\u001b[0mdtype\u001b[0m\u001b[0;34m)\u001b[0m\u001b[0;34m\u001b[0m\u001b[0;34m\u001b[0m\u001b[0m\n\u001b[0m\u001b[1;32m    288\u001b[0m \u001b[0;34m\u001b[0m\u001b[0m\n\u001b[1;32m    289\u001b[0m \u001b[0;34m\u001b[0m\u001b[0m\n",
      "\u001b[0;32m/usr/local/lib/python3.8/dist-packages/pandas/core/internals/construction.py\u001b[0m in \u001b[0;36marrays_to_mgr\u001b[0;34m(arrays, arr_names, index, columns, dtype, verify_integrity)\u001b[0m\n\u001b[1;32m     85\u001b[0m         \u001b[0marrays\u001b[0m \u001b[0;34m=\u001b[0m \u001b[0m_homogenize\u001b[0m\u001b[0;34m(\u001b[0m\u001b[0marrays\u001b[0m\u001b[0;34m,\u001b[0m \u001b[0mindex\u001b[0m\u001b[0;34m,\u001b[0m \u001b[0mdtype\u001b[0m\u001b[0;34m)\u001b[0m\u001b[0;34m\u001b[0m\u001b[0;34m\u001b[0m\u001b[0m\n\u001b[1;32m     86\u001b[0m \u001b[0;34m\u001b[0m\u001b[0m\n\u001b[0;32m---> 87\u001b[0;31m         \u001b[0mcolumns\u001b[0m \u001b[0;34m=\u001b[0m \u001b[0mensure_index\u001b[0m\u001b[0;34m(\u001b[0m\u001b[0mcolumns\u001b[0m\u001b[0;34m)\u001b[0m\u001b[0;34m\u001b[0m\u001b[0;34m\u001b[0m\u001b[0m\n\u001b[0m\u001b[1;32m     88\u001b[0m     \u001b[0;32melse\u001b[0m\u001b[0;34m:\u001b[0m\u001b[0;34m\u001b[0m\u001b[0;34m\u001b[0m\u001b[0m\n\u001b[1;32m     89\u001b[0m         \u001b[0mcolumns\u001b[0m \u001b[0;34m=\u001b[0m \u001b[0mensure_index\u001b[0m\u001b[0;34m(\u001b[0m\u001b[0mcolumns\u001b[0m\u001b[0;34m)\u001b[0m\u001b[0;34m\u001b[0m\u001b[0;34m\u001b[0m\u001b[0m\n",
      "\u001b[0;32m/usr/local/lib/python3.8/dist-packages/pandas/core/indexes/base.py\u001b[0m in \u001b[0;36mensure_index\u001b[0;34m(index_like, copy)\u001b[0m\n\u001b[1;32m   5915\u001b[0m             \u001b[0mindex_like\u001b[0m \u001b[0;34m=\u001b[0m \u001b[0mcopy_func\u001b[0m\u001b[0;34m(\u001b[0m\u001b[0mindex_like\u001b[0m\u001b[0;34m)\u001b[0m\u001b[0;34m\u001b[0m\u001b[0;34m\u001b[0m\u001b[0m\n\u001b[1;32m   5916\u001b[0m \u001b[0;34m\u001b[0m\u001b[0m\n\u001b[0;32m-> 5917\u001b[0;31m     \u001b[0;32mreturn\u001b[0m \u001b[0mIndex\u001b[0m\u001b[0;34m(\u001b[0m\u001b[0mindex_like\u001b[0m\u001b[0;34m)\u001b[0m\u001b[0;34m\u001b[0m\u001b[0;34m\u001b[0m\u001b[0m\n\u001b[0m\u001b[1;32m   5918\u001b[0m \u001b[0;34m\u001b[0m\u001b[0m\n\u001b[1;32m   5919\u001b[0m \u001b[0;34m\u001b[0m\u001b[0m\n",
      "\u001b[0;32m/usr/local/lib/python3.8/dist-packages/pandas/core/indexes/base.py\u001b[0m in \u001b[0;36m__new__\u001b[0;34m(cls, data, dtype, copy, name, tupleize_cols, **kwargs)\u001b[0m\n\u001b[1;32m    301\u001b[0m             \u001b[0;32mreturn\u001b[0m \u001b[0m_maybe_asobject\u001b[0m\u001b[0;34m(\u001b[0m\u001b[0mdtype\u001b[0m\u001b[0;34m,\u001b[0m \u001b[0mTimedeltaIndex\u001b[0m\u001b[0;34m,\u001b[0m \u001b[0mdata\u001b[0m\u001b[0;34m,\u001b[0m \u001b[0mcopy\u001b[0m\u001b[0;34m,\u001b[0m \u001b[0mname\u001b[0m\u001b[0;34m,\u001b[0m \u001b[0;34m**\u001b[0m\u001b[0mkwargs\u001b[0m\u001b[0;34m)\u001b[0m\u001b[0;34m\u001b[0m\u001b[0;34m\u001b[0m\u001b[0m\n\u001b[1;32m    302\u001b[0m \u001b[0;34m\u001b[0m\u001b[0m\n\u001b[0;32m--> 303\u001b[0;31m         \u001b[0;32melif\u001b[0m \u001b[0mis_period_dtype\u001b[0m\u001b[0;34m(\u001b[0m\u001b[0mdata_dtype\u001b[0m\u001b[0;34m)\u001b[0m \u001b[0;32mor\u001b[0m \u001b[0mis_period_dtype\u001b[0m\u001b[0;34m(\u001b[0m\u001b[0mdtype\u001b[0m\u001b[0;34m)\u001b[0m\u001b[0;34m:\u001b[0m\u001b[0;34m\u001b[0m\u001b[0;34m\u001b[0m\u001b[0m\n\u001b[0m\u001b[1;32m    304\u001b[0m             \u001b[0;31m# Delay import for perf. https://github.com/pandas-dev/pandas/pull/31423\u001b[0m\u001b[0;34m\u001b[0m\u001b[0;34m\u001b[0m\u001b[0;34m\u001b[0m\u001b[0m\n\u001b[1;32m    305\u001b[0m             \u001b[0;32mfrom\u001b[0m \u001b[0mpandas\u001b[0m \u001b[0;32mimport\u001b[0m \u001b[0mPeriodIndex\u001b[0m\u001b[0;34m\u001b[0m\u001b[0;34m\u001b[0m\u001b[0m\n",
      "\u001b[0;32m/usr/local/lib/python3.8/dist-packages/pandas/core/dtypes/common.py\u001b[0m in \u001b[0;36mis_period_dtype\u001b[0;34m(arr_or_dtype)\u001b[0m\n\u001b[1;32m    494\u001b[0m     \u001b[0;32mif\u001b[0m \u001b[0marr_or_dtype\u001b[0m \u001b[0;32mis\u001b[0m \u001b[0;32mNone\u001b[0m\u001b[0;34m:\u001b[0m\u001b[0;34m\u001b[0m\u001b[0;34m\u001b[0m\u001b[0m\n\u001b[1;32m    495\u001b[0m         \u001b[0;32mreturn\u001b[0m \u001b[0;32mFalse\u001b[0m\u001b[0;34m\u001b[0m\u001b[0;34m\u001b[0m\u001b[0m\n\u001b[0;32m--> 496\u001b[0;31m     \u001b[0;32mreturn\u001b[0m \u001b[0mPeriodDtype\u001b[0m\u001b[0;34m.\u001b[0m\u001b[0mis_dtype\u001b[0m\u001b[0;34m(\u001b[0m\u001b[0marr_or_dtype\u001b[0m\u001b[0;34m)\u001b[0m\u001b[0;34m\u001b[0m\u001b[0;34m\u001b[0m\u001b[0m\n\u001b[0m\u001b[1;32m    497\u001b[0m \u001b[0;34m\u001b[0m\u001b[0m\n\u001b[1;32m    498\u001b[0m \u001b[0;34m\u001b[0m\u001b[0m\n",
      "\u001b[0;31mKeyboardInterrupt\u001b[0m: "
     ]
    }
   ],
   "source": [
    "\n",
    "for i in tqdm(range(len(short_audio_df))):\n",
    "    row = short_audio_df.loc[i]\n",
    "#     print(i)\n",
    "    df = make_segments(row, 5, ordered=True, rand=False)\n",
    "    ordered_cut = pd.concat([ordered_cut, df], axis=0, ignore_index=True)"
   ]
  },
  {
   "cell_type": "code",
   "execution_count": null,
   "metadata": {},
   "outputs": [],
   "source": [
    "ordered_cut.to_csv('/app/_data/ordered_cut1.csv', index=False)"
   ]
  },
  {
   "cell_type": "code",
   "execution_count": 121,
   "metadata": {},
   "outputs": [],
   "source": [
    "random_cut_sample = random_cut.sample(n=40000, weights='class_weights', random_state = SEED)"
   ]
  },
  {
   "cell_type": "code",
   "execution_count": 124,
   "metadata": {},
   "outputs": [
    {
     "data": {
      "text/plain": [
       "<AxesSubplot:>"
      ]
     },
     "execution_count": 124,
     "metadata": {},
     "output_type": "execute_result"
    },
    {
     "data": {
      "image/png": "[encoded data removed]",
      "text/plain": [
       "<Figure size 432x288 with 1 Axes>"
      ]
     },
     "metadata": {
      "image/png": {
       "height": 248,
       "width": 375
      },
      "needs_background": "light"
     },
     "output_type": "display_data"
    }
   ],
   "source": [
    "random_cut_sample['label_id'].value_counts().hist()"
   ]
  },
  {
   "cell_type": "code",
   "execution_count": 125,
   "metadata": {},
   "outputs": [
    {
     "data": {
      "text/plain": [
       "<AxesSubplot:>"
      ]
     },
     "execution_count": 125,
     "metadata": {},
     "output_type": "execute_result"
    },
    {
     "data": {
      "image/png": "[encoded data removed]",
      "text/plain": [
       "<Figure size 432x288 with 1 Axes>"
      ]
     },
     "metadata": {
      "image/png": {
       "height": 248,
       "width": 375
      },
      "needs_background": "light"
     },
     "output_type": "display_data"
    }
   ],
   "source": [
    "random_cut['label_id'].value_counts().hist()"
   ]
  },
  {
   "cell_type": "code",
   "execution_count": null,
   "metadata": {},
   "outputs": [],
   "source": []
  }
 ],
 "metadata": {
  "kernelspec": {
   "display_name": "Python 3",
   "language": "python",
   "name": "python3"
  },
  "language_info": {
   "codemirror_mode": {
    "name": "ipython",
    "version": 3
   },
   "file_extension": ".py",
   "mimetype": "text/x-python",
   "name": "python",
   "nbconvert_exporter": "python",
   "pygments_lexer": "ipython3",
   "version": "3.8.5"
  }
 },
 "nbformat": 4,
 "nbformat_minor": 4
}
