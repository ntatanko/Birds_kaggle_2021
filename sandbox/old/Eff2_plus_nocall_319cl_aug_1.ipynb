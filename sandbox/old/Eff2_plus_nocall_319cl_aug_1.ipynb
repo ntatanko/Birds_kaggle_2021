{
 "cells": [
  {
   "cell_type": "code",
   "execution_count": 1,
   "metadata": {},
   "outputs": [],
   "source": [
    "import os\n",
    "import shutil\n",
    "import warnings\n",
    "\n",
    "import numpy as np\n",
    "import pandas as pd\n",
    "import plotly.graph_objects as go\n",
    "import torchaudio\n",
    "\n",
    "warnings.filterwarnings(action=\"ignore\")\n",
    "from IPython.core.interactiveshell import InteractiveShell\n",
    "\n",
    "InteractiveShell.ast_node_interactivity = \"all\"\n",
    "import json\n",
    "\n",
    "import geopandas\n",
    "import librosa\n",
    "import librosa.display\n",
    "import matplotlib.pyplot as plt\n",
    "import scipy.stats as st\n",
    "import seaborn as sns\n",
    "import soundfile\n",
    "import tensorflow as tf\n",
    "import tensorflow_addons as tfa\n",
    "import torch\n",
    "\n",
    "%matplotlib inline\n",
    "from PIL import Image\n",
    "from sklearn.model_selection import train_test_split\n",
    "from sklearn.utils import shuffle\n",
    "from tensorflow import keras\n",
    "from tensorflow.keras.models import Sequential\n",
    "from tensorflow.keras.optimizers import Adam\n",
    "from torchaudio.transforms import MelSpectrogram\n",
    "from tqdm import tqdm\n",
    "\n",
    "from src.MEL_Gen_Aug import MEL_Gen, Mel_Provider\n",
    "from src.prepare_dataset import (\n",
    "    choose_ids,\n",
    "    make_dict_birds,\n",
    "    make_intervals,\n",
    "    make_intervals_upsampling,\n",
    "    prepare_dataset,\n",
    ")"
   ]
  },
  {
   "cell_type": "code",
   "execution_count": null,
   "metadata": {},
   "outputs": [],
   "source": [
    "SEED = 78\n",
    "IMG_SIZE = 260\n",
    "N_MELS = 260\n",
    "SAMPLE_RATE = 32000\n",
    "N_FFT = 2048\n",
    "SIGNAL_LENGTH = 5\n",
    "FREQ_MIN = 0\n",
    "FREQ_MAX = 16000\n",
    "WIN_LENGHT = 1024\n",
    "BATCH_SIZE = 200"
   ]
  },
  {
   "cell_type": "code",
   "execution_count": 2,
   "metadata": {},
   "outputs": [],
   "source": [
    "SEED = 78\n",
    "IMG_SIZE = 260\n",
    "SAMPLE_RATE = 32000\n",
    "N_FFT = 2048\n",
    "SIGNAL_LENGTH = 5\n",
    "FREQ_MIN = 0\n",
    "FREQ_MAX = 16000\n",
    "WIN_LENGHT = 1024\n",
    "BATCH_SIZE = 200\n",
    "list_drop = [\n",
    "    \"XC509721.ogg\",\n",
    "    \"XC428067.ogg\",\n",
    "    \"XC523831.ogg\",\n",
    "    \"XC523960.ogg\",\n",
    "    \"XC237870.ogg\",\n",
    "    \"XC129924.ogg\",\n",
    "    \"XC576851.ogg\",\n",
    "    \"XC579430.ogg\",\n",
    "    \"XC590621.ogg\",\n",
    "]"
   ]
  },
  {
   "cell_type": "code",
   "execution_count": 3,
   "metadata": {},
   "outputs": [],
   "source": [
    "bird_classes = [\n",
    "    \"acafly\",\n",
    "    \"acowoo\",\n",
    "    \"aldfly\",\n",
    "    \"ameavo\",\n",
    "    \"amecro\",\n",
    "    \"amegfi\",\n",
    "    \"amekes\",\n",
    "    \"amered\",\n",
    "    \"amerob\",\n",
    "    \"amewig\",\n",
    "    \"amtspa\",\n",
    "    \"andsol1\",\n",
    "    \"annhum\",\n",
    "    \"astfly\",\n",
    "    \"azaspi1\",\n",
    "    \"babwar\",\n",
    "    \"balori\",\n",
    "    \"banana\",\n",
    "    \"banwre1\",\n",
    "    \"barant1\",\n",
    "    \"barswa\",\n",
    "    \"bawswa1\",\n",
    "    \"bawwar\",\n",
    "    \"baywre1\",\n",
    "    \"bbwduc\",\n",
    "    \"belkin1\",\n",
    "    \"bewwre\",\n",
    "    \"bkbwar\",\n",
    "    \"bkcchi\",\n",
    "    \"bkhgro\",\n",
    "    \"bkmtou1\",\n",
    "    \"bknsti\",\n",
    "    \"blbgra1\",\n",
    "    \"blbthr1\",\n",
    "    \"blcjay1\",\n",
    "    \"blsspa1\",\n",
    "    \"blugrb1\",\n",
    "    \"blujay\",\n",
    "    \"bncfly\",\n",
    "    \"bnhcow\",\n",
    "    \"bobfly1\",\n",
    "    \"brbmot1\",\n",
    "    \"brcvir1\",\n",
    "    \"brebla\",\n",
    "    \"brncre\",\n",
    "    \"brnjay\",\n",
    "    \"brnthr\",\n",
    "    \"brratt1\",\n",
    "    \"brwhaw\",\n",
    "    \"brwpar1\",\n",
    "    \"btbwar\",\n",
    "    \"btnwar\",\n",
    "    \"btywar\",\n",
    "    \"bucmot2\",\n",
    "    \"buggna\",\n",
    "    \"bugtan\",\n",
    "    \"buhvir\",\n",
    "    \"bulori\",\n",
    "    \"burwar1\",\n",
    "    \"bushti\",\n",
    "    \"calqua\",\n",
    "    \"caltow\",\n",
    "    \"cangoo\",\n",
    "    \"canwar\",\n",
    "    \"carchi\",\n",
    "    \"carwre\",\n",
    "    \"casfin\",\n",
    "    \"caster1\",\n",
    "    \"casvir\",\n",
    "    \"ccbfin\",\n",
    "    \"cedwax\",\n",
    "    \"chbant1\",\n",
    "    \"chbchi\",\n",
    "    \"chbwre1\",\n",
    "    \"chcant2\",\n",
    "    \"chispa\",\n",
    "    \"chswar\",\n",
    "    \"cinfly2\",\n",
    "    \"clanut\",\n",
    "    \"clcrob\",\n",
    "    \"cliswa\",\n",
    "    \"cobtan1\",\n",
    "    \"colcha1\",\n",
    "    \"coltro1\",\n",
    "    \"comgra\",\n",
    "    \"comloo\",\n",
    "    \"commer\",\n",
    "    \"compau\",\n",
    "    \"compot1\",\n",
    "    \"comrav\",\n",
    "    \"comyel\",\n",
    "    \"cotfly1\",\n",
    "    \"cowscj1\",\n",
    "    \"crfpar\",\n",
    "    \"daejun\",\n",
    "    \"dowwoo\",\n",
    "    \"ducfly\",\n",
    "    \"dusfly\",\n",
    "    \"easblu\",\n",
    "    \"easkin\",\n",
    "    \"easmea\",\n",
    "    \"easpho\",\n",
    "    \"eastow\",\n",
    "    \"eawpew\",\n",
    "    \"eucdov\",\n",
    "    \"eursta\",\n",
    "    \"fepowl\",\n",
    "    \"fiespa\",\n",
    "    \"flrtan1\",\n",
    "    \"foxspa\",\n",
    "    \"gartro1\",\n",
    "    \"gbbgul\",\n",
    "    \"gbwwre1\",\n",
    "    \"gcrwar\",\n",
    "    \"gnttow\",\n",
    "    \"gocfly1\",\n",
    "    \"gockin\",\n",
    "    \"gocspa\",\n",
    "    \"goftyr1\",\n",
    "    \"gohque1\",\n",
    "    \"goowoo1\",\n",
    "    \"grasal1\",\n",
    "    \"grbani\",\n",
    "    \"grbher3\",\n",
    "    \"grcfly\",\n",
    "    \"grekis\",\n",
    "    \"grethr1\",\n",
    "    \"gretin1\",\n",
    "    \"greyel\",\n",
    "    \"grhcha1\",\n",
    "    \"grhowl\",\n",
    "    \"grnher\",\n",
    "    \"grnjay\",\n",
    "    \"grtgra\",\n",
    "    \"grycat\",\n",
    "    \"gryhaw2\",\n",
    "    \"haiwoo\",\n",
    "    \"herthr\",\n",
    "    \"herwar\",\n",
    "    \"higmot1\",\n",
    "    \"hofwoo1\",\n",
    "    \"houfin\",\n",
    "    \"houspa\",\n",
    "    \"houwre\",\n",
    "    \"hutvir\",\n",
    "    \"incdov\",\n",
    "    \"indbun\",\n",
    "    \"kebtou1\",\n",
    "    \"killde\",\n",
    "    \"larspa\",\n",
    "    \"laufal1\",\n",
    "    \"laugul\",\n",
    "    \"lazbun\",\n",
    "    \"leafly\",\n",
    "    \"leasan\",\n",
    "    \"lesgol\",\n",
    "    \"lesgre1\",\n",
    "    \"lesvio1\",\n",
    "    \"linspa\",\n",
    "    \"linwoo1\",\n",
    "    \"littin1\",\n",
    "    \"lobgna5\",\n",
    "    \"lotduc\",\n",
    "    \"lotman1\",\n",
    "    \"macwar\",\n",
    "    \"magwar\",\n",
    "    \"mallar3\",\n",
    "    \"marwre\",\n",
    "    \"meapar\",\n",
    "    \"melbla1\",\n",
    "    \"monoro1\",\n",
    "    \"mouchi\",\n",
    "    \"moudov\",\n",
    "    \"mouela1\",\n",
    "    \"mouqua\",\n",
    "    \"mouwar\",\n",
    "    \"naswar\",\n",
    "    \"nocall\",\n",
    "    \"norcar\",\n",
    "    \"norfli\",\n",
    "    \"normoc\",\n",
    "    \"norpar\",\n",
    "    \"norwat\",\n",
    "    \"nrwswa\",\n",
    "    \"nutwoo\",\n",
    "    \"oaktit\",\n",
    "    \"obnthr1\",\n",
    "    \"ocbfly1\",\n",
    "    \"olsfly\",\n",
    "    \"orbspa1\",\n",
    "    \"orcpar\",\n",
    "    \"orcwar\",\n",
    "    \"orfpar\",\n",
    "    \"osprey\",\n",
    "    \"ovenbi1\",\n",
    "    \"pabspi1\",\n",
    "    \"palwar\",\n",
    "    \"pasfly\",\n",
    "    \"pibgre\",\n",
    "    \"pilwoo\",\n",
    "    \"pinsis\",\n",
    "    \"pirfly1\",\n",
    "    \"plawre1\",\n",
    "    \"plsvir\",\n",
    "    \"prowar\",\n",
    "    \"purfin\",\n",
    "    \"purgal2\",\n",
    "    \"putfru1\",\n",
    "    \"pygnut\",\n",
    "    \"rawwre1\",\n",
    "    \"rebnut\",\n",
    "    \"rebsap\",\n",
    "    \"rebwoo\",\n",
    "    \"reevir1\",\n",
    "    \"rehbar1\",\n",
    "    \"relpar\",\n",
    "    \"reshaw\",\n",
    "    \"rethaw\",\n",
    "    \"rewbla\",\n",
    "    \"ribgul\",\n",
    "    \"rinkin1\",\n",
    "    \"roahaw\",\n",
    "    \"robgro\",\n",
    "    \"royter1\",\n",
    "    \"rtlhum\",\n",
    "    \"rubpep1\",\n",
    "    \"rubwre1\",\n",
    "    \"ruckin\",\n",
    "    \"rucspa1\",\n",
    "    \"rucwar\",\n",
    "    \"rucwar1\",\n",
    "    \"rudpig\",\n",
    "    \"rugdov\",\n",
    "    \"rumfly1\",\n",
    "    \"runwre1\",\n",
    "    \"rutjac1\",\n",
    "    \"saffin\",\n",
    "    \"sancra\",\n",
    "    \"sander\",\n",
    "    \"savspa\",\n",
    "    \"saypho\",\n",
    "    \"scamac1\",\n",
    "    \"scatan\",\n",
    "    \"scbwre1\",\n",
    "    \"scptyr1\",\n",
    "    \"scrtan1\",\n",
    "    \"semplo\",\n",
    "    \"shicow\",\n",
    "    \"smbani\",\n",
    "    \"sobtyr1\",\n",
    "    \"socfly1\",\n",
    "    \"solsan\",\n",
    "    \"sonspa\",\n",
    "    \"soulap1\",\n",
    "    \"sposan\",\n",
    "    \"spotow\",\n",
    "    \"spvear1\",\n",
    "    \"stejay\",\n",
    "    \"sthant1\",\n",
    "    \"sthwoo1\",\n",
    "    \"strcuc1\",\n",
    "    \"strfly1\",\n",
    "    \"strsal1\",\n",
    "    \"stvhum2\",\n",
    "    \"sumtan\",\n",
    "    \"swaspa\",\n",
    "    \"swathr\",\n",
    "    \"tenwar\",\n",
    "    \"thbeup1\",\n",
    "    \"thswar1\",\n",
    "    \"towsol\",\n",
    "    \"treswa\",\n",
    "    \"trogna1\",\n",
    "    \"trokin\",\n",
    "    \"tromoc\",\n",
    "    \"tropar\",\n",
    "    \"tuftit\",\n",
    "    \"veery\",\n",
    "    \"vigswa\",\n",
    "    \"warvir\",\n",
    "    \"wbwwre1\",\n",
    "    \"wegspa1\",\n",
    "    \"wesant1\",\n",
    "    \"wesblu\",\n",
    "    \"weskin\",\n",
    "    \"wesmea\",\n",
    "    \"westan\",\n",
    "    \"wewpew\",\n",
    "    \"whbman1\",\n",
    "    \"whbnut\",\n",
    "    \"whcpar\",\n",
    "    \"whcspa\",\n",
    "    \"whevir\",\n",
    "    \"whfpar1\",\n",
    "    \"whiwre1\",\n",
    "    \"whtdov\",\n",
    "    \"whtspa\",\n",
    "    \"whwbec1\",\n",
    "    \"whwdov\",\n",
    "    \"wilfly\",\n",
    "    \"wiltur\",\n",
    "    \"wlswar\",\n",
    "    \"wooduc\",\n",
    "    \"woothr\",\n",
    "    \"wrenti\",\n",
    "    \"y00475\",\n",
    "    \"yebcha\",\n",
    "    \"yebela1\",\n",
    "    \"yebfly\",\n",
    "    \"yebori1\",\n",
    "    \"yebsap\",\n",
    "    \"yebsee1\",\n",
    "    \"yefgra1\",\n",
    "    \"yehbla\",\n",
    "    \"yehcar1\",\n",
    "    \"yelwar\",\n",
    "    \"yerwar\",\n",
    "    \"yeteup1\",\n",
    "    \"yetvir\",\n",
    "]"
   ]
  },
  {
   "cell_type": "code",
   "execution_count": 4,
   "metadata": {},
   "outputs": [],
   "source": [
    "bird_classes.sort()"
   ]
  },
  {
   "cell_type": "code",
   "execution_count": 5,
   "metadata": {},
   "outputs": [],
   "source": [
    "dict_birds = {}\n",
    "for i, bird in enumerate(bird_classes):\n",
    "    dict_birds['bird']=i"
   ]
  },
  {
   "cell_type": "code",
   "execution_count": 6,
   "metadata": {},
   "outputs": [],
   "source": [
    "# os.mkdir(\"/app/_data/models/Eff2_319cl_1/\")"
   ]
  },
  {
   "cell_type": "code",
   "execution_count": 7,
   "metadata": {},
   "outputs": [],
   "source": [
    "file_json = open(\"/app/_data/models/Eff2_319cl_1/dict_birds.json\", \"w\")\n",
    "json.dump(dict_birds, file_json)\n",
    "file_json.close()"
   ]
  },
  {
   "cell_type": "code",
   "execution_count": 8,
   "metadata": {},
   "outputs": [],
   "source": [
    "nocall = pd.read_csv(\"/app/_data/labels_nocall/all_nocalls.csv\")"
   ]
  },
  {
   "cell_type": "code",
   "execution_count": 9,
   "metadata": {},
   "outputs": [
    {
     "data": {
      "text/plain": [
       "(54507, 24)"
      ]
     },
     "execution_count": 9,
     "metadata": {},
     "output_type": "execute_result"
    }
   ],
   "source": [
    "all_audio = pd.read_csv(\"/app/_data/all_audio_initial.csv\")\n",
    "all_audio = all_audio.query(\"filename not in @list_drop\").reset_index(drop=True)\n",
    "all_audio = all_audio.query(\"primary_label in @bird_classes\").reset_index(drop=True)\n",
    "all_audio = all_audio.query(\"year >=1980 and year<=2021\").reset_index(drop=True)\n",
    "all_audio.shape"
   ]
  },
  {
   "cell_type": "markdown",
   "metadata": {},
   "source": [
    "# dict_birds and weights"
   ]
  },
  {
   "cell_type": "code",
   "execution_count": 10,
   "metadata": {},
   "outputs": [],
   "source": [
    "all_audio = all_audio[all_audio[\"rating\"] >= 3]"
   ]
  },
  {
   "cell_type": "code",
   "execution_count": 11,
   "metadata": {},
   "outputs": [
    {
     "data": {
      "text/plain": [
       "(46989, 24)"
      ]
     },
     "execution_count": 11,
     "metadata": {},
     "output_type": "execute_result"
    }
   ],
   "source": [
    "all_audio.shape"
   ]
  },
  {
   "cell_type": "code",
   "execution_count": 12,
   "metadata": {},
   "outputs": [],
   "source": [
    "dict_birds, all_audio = make_dict_birds(all_audio, secondary=False)"
   ]
  },
  {
   "cell_type": "code",
   "execution_count": 13,
   "metadata": {},
   "outputs": [
    {
     "data": {
      "text/plain": [
       "319"
      ]
     },
     "execution_count": 13,
     "metadata": {},
     "output_type": "execute_result"
    }
   ],
   "source": [
    "len(dict_birds)"
   ]
  },
  {
   "cell_type": "code",
   "execution_count": 14,
   "metadata": {},
   "outputs": [],
   "source": [
    "dict_weights = (1 / all_audio[\"primary_label\"].value_counts()).to_dict()\n",
    "all_audio[\"class_weights\"] = all_audio[\"primary_label\"].replace(dict_weights)\n",
    "# all_audio[\"class_weights\"] = all_audio[\"class_weights\"] * all_audio[\"rating\"]"
   ]
  },
  {
   "cell_type": "code",
   "execution_count": 15,
   "metadata": {},
   "outputs": [
    {
     "data": {
      "text/plain": [
       "(44589, 24)"
      ]
     },
     "execution_count": 15,
     "metadata": {},
     "output_type": "execute_result"
    },
    {
     "data": {
      "text/plain": [
       "(2400, 24)"
      ]
     },
     "execution_count": 15,
     "metadata": {},
     "output_type": "execute_result"
    }
   ],
   "source": [
    "short_audio = all_audio[all_audio[\"rating\"] != 6].reset_index(\n",
    "    drop=True\n",
    ")  # only short audio\n",
    "train_sondscapes = all_audio[all_audio[\"rating\"] == 6].reset_index(\n",
    "    drop=True\n",
    ")  # only train_soundscapes\n",
    "short_audio.shape\n",
    "train_sondscapes.shape\n",
    "train_sondscapes[\"duration\"] = 600"
   ]
  },
  {
   "cell_type": "markdown",
   "metadata": {},
   "source": [
    "## calls"
   ]
  },
  {
   "cell_type": "code",
   "execution_count": 16,
   "metadata": {},
   "outputs": [],
   "source": [
    "short_audio_0_20 = short_audio[short_audio[\"duration\"] < 19]\n",
    "short_audio_20_30 = short_audio[\n",
    "    (short_audio[\"duration\"] >= 19) & (short_audio[\"duration\"] <= 30)\n",
    "]\n",
    "short_audio_30 = short_audio[short_audio[\"duration\"] > 30]"
   ]
  },
  {
   "cell_type": "code",
   "execution_count": 17,
   "metadata": {},
   "outputs": [],
   "source": [
    "short_audio_20_30[\"duration\"] = short_audio_20_30[\"duration\"] - 4\n",
    "short_audio_30[\"duration\"] = short_audio_30[\"duration\"] - 7"
   ]
  },
  {
   "cell_type": "code",
   "execution_count": 18,
   "metadata": {},
   "outputs": [],
   "source": [
    "short_audio = pd.concat(\n",
    "    [short_audio_0_20, short_audio_20_30, short_audio_30], axis=0, ignore_index=True\n",
    ")"
   ]
  },
  {
   "cell_type": "code",
   "execution_count": 19,
   "metadata": {},
   "outputs": [
    {
     "data": {
      "text/plain": [
       "(44589, 24)"
      ]
     },
     "execution_count": 19,
     "metadata": {},
     "output_type": "execute_result"
    }
   ],
   "source": [
    "short_audio.shape"
   ]
  },
  {
   "cell_type": "markdown",
   "metadata": {},
   "source": [
    "# Make intervals for short audio"
   ]
  },
  {
   "cell_type": "code",
   "execution_count": 20,
   "metadata": {},
   "outputs": [
    {
     "data": {
      "text/plain": [
       "(1189957, 3)"
      ]
     },
     "execution_count": 20,
     "metadata": {},
     "output_type": "execute_result"
    }
   ],
   "source": [
    "array_for_cut = short_audio[[\"filename\", \"duration\", \"class_weights\"]].values\n",
    "\n",
    "birds_intervals = make_intervals(array_for_cut, 5, max_intervals=150, max_lenght=300)\n",
    "birds_intervals = birds_intervals.sample(frac=1, random_state=SEED)\n",
    "birds_intervals.shape"
   ]
  },
  {
   "cell_type": "code",
   "execution_count": 21,
   "metadata": {},
   "outputs": [
    {
     "data": {
      "text/plain": [
       "XC593553.ogg    150\n",
       "XC132874.ogg    150\n",
       "XC268213.ogg    150\n",
       "XC504277.ogg    150\n",
       "XC580960.ogg    150\n",
       "               ... \n",
       "XC384642.ogg      4\n",
       "XC301120.ogg      4\n",
       "XC583545.ogg      4\n",
       "XC29295.ogg       4\n",
       "XC152846.ogg      4\n",
       "Name: filename, Length: 44589, dtype: int64"
      ]
     },
     "execution_count": 21,
     "metadata": {},
     "output_type": "execute_result"
    }
   ],
   "source": [
    "birds_intervals[\"row_id\"] = birds_intervals.index\n",
    "birds_intervals[\"filename\"].value_counts()"
   ]
  },
  {
   "cell_type": "code",
   "execution_count": 22,
   "metadata": {},
   "outputs": [],
   "source": [
    "dict_w = pd.DataFrame((1 / birds_intervals[\"filename\"].value_counts()))\n",
    "dict_w.columns = [\"weights\"]\n",
    "dict_w[\"filename\"] = dict_w.index"
   ]
  },
  {
   "cell_type": "code",
   "execution_count": 23,
   "metadata": {},
   "outputs": [],
   "source": [
    "birds_intervals = birds_intervals.merge(dict_w, on=\"filename\", how=\"left\")"
   ]
  },
  {
   "cell_type": "code",
   "execution_count": 24,
   "metadata": {},
   "outputs": [],
   "source": [
    "birds_intervals_sample = birds_intervals.sample(\n",
    "    n=700000, weights=\"weights\", random_state=SEED\n",
    ")"
   ]
  },
  {
   "cell_type": "code",
   "execution_count": 25,
   "metadata": {},
   "outputs": [],
   "source": [
    "birds_intervals_sample = birds_intervals_sample.sample(\n",
    "    n=500000, weights=\"class_weights\", random_state=SEED\n",
    ")"
   ]
  },
  {
   "cell_type": "code",
   "execution_count": 26,
   "metadata": {},
   "outputs": [
    {
     "data": {
      "text/html": [
       "<div>\n",
       "<style scoped>\n",
       "    .dataframe tbody tr th:only-of-type {\n",
       "        vertical-align: middle;\n",
       "    }\n",
       "\n",
       "    .dataframe tbody tr th {\n",
       "        vertical-align: top;\n",
       "    }\n",
       "\n",
       "    .dataframe thead th {\n",
       "        text-align: right;\n",
       "    }\n",
       "</style>\n",
       "<table border=\"1\" class=\"dataframe\">\n",
       "  <thead>\n",
       "    <tr style=\"text-align: right;\">\n",
       "      <th></th>\n",
       "      <th>end_sec</th>\n",
       "      <th>class_weights</th>\n",
       "      <th>filename</th>\n",
       "      <th>row_id</th>\n",
       "      <th>weights</th>\n",
       "    </tr>\n",
       "  </thead>\n",
       "  <tbody>\n",
       "    <tr>\n",
       "      <th>268921</th>\n",
       "      <td>9.0</td>\n",
       "      <td>0.001818</td>\n",
       "      <td>XC196037.ogg</td>\n",
       "      <td>XC196037_9_0</td>\n",
       "      <td>0.1</td>\n",
       "    </tr>\n",
       "    <tr>\n",
       "      <th>520242</th>\n",
       "      <td>7.0</td>\n",
       "      <td>0.001818</td>\n",
       "      <td>XC196037.ogg</td>\n",
       "      <td>XC196037_7_0</td>\n",
       "      <td>0.1</td>\n",
       "    </tr>\n",
       "    <tr>\n",
       "      <th>733923</th>\n",
       "      <td>13.0</td>\n",
       "      <td>0.001818</td>\n",
       "      <td>XC196037.ogg</td>\n",
       "      <td>XC196037_13_0</td>\n",
       "      <td>0.1</td>\n",
       "    </tr>\n",
       "    <tr>\n",
       "      <th>1096588</th>\n",
       "      <td>6.0</td>\n",
       "      <td>0.001818</td>\n",
       "      <td>XC196037.ogg</td>\n",
       "      <td>XC196037_6_0</td>\n",
       "      <td>0.1</td>\n",
       "    </tr>\n",
       "    <tr>\n",
       "      <th>161291</th>\n",
       "      <td>10.0</td>\n",
       "      <td>0.001818</td>\n",
       "      <td>XC196037.ogg</td>\n",
       "      <td>XC196037_10_0</td>\n",
       "      <td>0.1</td>\n",
       "    </tr>\n",
       "  </tbody>\n",
       "</table>\n",
       "</div>"
      ],
      "text/plain": [
       "         end_sec  class_weights      filename         row_id  weights\n",
       "268921       9.0       0.001818  XC196037.ogg   XC196037_9_0      0.1\n",
       "520242       7.0       0.001818  XC196037.ogg   XC196037_7_0      0.1\n",
       "733923      13.0       0.001818  XC196037.ogg  XC196037_13_0      0.1\n",
       "1096588      6.0       0.001818  XC196037.ogg   XC196037_6_0      0.1\n",
       "161291      10.0       0.001818  XC196037.ogg  XC196037_10_0      0.1"
      ]
     },
     "execution_count": 26,
     "metadata": {},
     "output_type": "execute_result"
    }
   ],
   "source": [
    "birds_intervals_sample[birds_intervals_sample[\"filename\"] == \"XC196037.ogg\"]"
   ]
  },
  {
   "cell_type": "code",
   "execution_count": 27,
   "metadata": {},
   "outputs": [
    {
     "data": {
      "text/plain": [
       "XC595751.ogg    40\n",
       "XC504287.ogg    40\n",
       "XC571073.ogg    39\n",
       "XC601316.ogg    39\n",
       "XC614268.ogg    38\n",
       "                ..\n",
       "XC129258.ogg     1\n",
       "XC386603.ogg     1\n",
       "XC524542.ogg     1\n",
       "XC168094.ogg     1\n",
       "XC134211.ogg     1\n",
       "Name: filename, Length: 44552, dtype: int64"
      ]
     },
     "execution_count": 27,
     "metadata": {},
     "output_type": "execute_result"
    }
   ],
   "source": [
    "short_audio = birds_intervals_sample.merge(\n",
    "    short_audio[\n",
    "        [\n",
    "            \"filename\",\n",
    "            \"primary_label\",\n",
    "            \"secondary_labels\",\n",
    "            \"label_id\",\n",
    "            \"secondary_labels_id\",\n",
    "            \"duration\",\n",
    "            \"rating\",\n",
    "            \"year\",\n",
    "            \"file_path\",\n",
    "            \"frames\",\n",
    "            \"sin_month\",\n",
    "            \"cos_month\",\n",
    "            \"sin_longitude\",\n",
    "            \"cos_longitude\",\n",
    "            \"latitude\",\n",
    "            \"norm_latitude\",\n",
    "            \"date\",\n",
    "        ]\n",
    "    ],\n",
    "    on=\"filename\",\n",
    "    how=\"left\",\n",
    ")\n",
    "\n",
    "short_audio[\"filename\"].value_counts()\n",
    "\n",
    "short_audio[\"end_sec\"] = short_audio[\"end_sec\"].apply(lambda x: x if x > 5 else 5)\n",
    "\n",
    "short_audio[\"start_sec\"] = short_audio[\"end_sec\"] - 5"
   ]
  },
  {
   "cell_type": "code",
   "execution_count": 28,
   "metadata": {},
   "outputs": [
    {
     "data": {
      "text/plain": [
       "bncfly     3384\n",
       "normoc     3370\n",
       "eursta     3259\n",
       "amerob     3146\n",
       "swathr     3124\n",
       "           ... \n",
       "runwre1     125\n",
       "crfpar      110\n",
       "whcpar      103\n",
       "stvhum2      57\n",
       "wegspa1      49\n",
       "Name: primary_label, Length: 318, dtype: int64"
      ]
     },
     "execution_count": 28,
     "metadata": {},
     "output_type": "execute_result"
    }
   ],
   "source": [
    "short_audio[\"primary_label\"].value_counts()"
   ]
  },
  {
   "cell_type": "markdown",
   "metadata": {},
   "source": [
    "# train_sondscapes"
   ]
  },
  {
   "cell_type": "code",
   "execution_count": 29,
   "metadata": {},
   "outputs": [
    {
     "data": {
      "text/plain": [
       "240     600\n",
       "242     600\n",
       "244     600\n",
       "267     600\n",
       "268     600\n",
       "       ... \n",
       "2391    600\n",
       "2393    600\n",
       "2394    600\n",
       "2396    600\n",
       "2397    600\n",
       "Name: duration, Length: 871, dtype: int64"
      ]
     },
     "execution_count": 29,
     "metadata": {},
     "output_type": "execute_result"
    }
   ],
   "source": [
    "train_sondscapes[train_sondscapes[\"primary_label\"] != \"nocall\"]['duration']"
   ]
  },
  {
   "cell_type": "code",
   "execution_count": 30,
   "metadata": {},
   "outputs": [],
   "source": [
    "short_audio = pd.concat([short_audio, train_sondscapes], axis=0, ignore_index=True).sample(frac=1, random_state=SEED)"
   ]
  },
  {
   "cell_type": "markdown",
   "metadata": {},
   "source": [
    "# nocall"
   ]
  },
  {
   "cell_type": "code",
   "execution_count": 31,
   "metadata": {},
   "outputs": [
    {
     "data": {
      "text/plain": [
       "XC117324.ogg    15\n",
       "XC317112.ogg    14\n",
       "XC293291.ogg    14\n",
       "XC542240.ogg    12\n",
       "XC351965.ogg    12\n",
       "                ..\n",
       "XC144370.ogg     1\n",
       "XC132192.ogg     1\n",
       "XC291092.ogg     1\n",
       "XC259210.ogg     1\n",
       "XC210768.ogg     1\n",
       "Name: filename, Length: 192, dtype: int64"
      ]
     },
     "execution_count": 31,
     "metadata": {},
     "output_type": "execute_result"
    }
   ],
   "source": [
    "nocall = nocall.drop_duplicates()\n",
    "\n",
    "nocall[\"file_path\"] = nocall[\"file_path\"].str.replace(\"birdclef-2021/\", \"\")\n",
    "\n",
    "nocall = nocall[~nocall[\"file_path\"].str.contains(\"train_soundscapes\")].reset_index(\n",
    "    drop=True\n",
    ")\n",
    "\n",
    "soundscapes_nocall = all_audio[all_audio[\"file_path\"].str.contains(\"train_soundscapes\")]\n",
    "soundscapes_nocall = soundscapes_nocall[soundscapes_nocall[\"primary_label\"] == \"nocall\"]\n",
    "\n",
    "dict_w = (1 / nocall[\"filename\"].value_counts()).to_dict()\n",
    "nocall[\"weights\"] = nocall[\"filename\"].replace(dict_w)\n",
    "\n",
    "nocall_sample = nocall.sample(1200, random_state=SEED, weights=\"weights\")\n",
    "\n",
    "nocall_sample[\"filename\"].value_counts()"
   ]
  },
  {
   "cell_type": "code",
   "execution_count": 32,
   "metadata": {},
   "outputs": [
    {
     "data": {
      "text/plain": [
       "filename           0\n",
       "row_id             0\n",
       "start_sec          0\n",
       "end_sec            0\n",
       "file_path          0\n",
       "duration           0\n",
       "rating           207\n",
       "year             207\n",
       "sin_month        207\n",
       "cos_month        207\n",
       "sin_longitude    207\n",
       "cos_longitude    207\n",
       "latitude         207\n",
       "norm_latitude    207\n",
       "class_weights    207\n",
       "label_id           0\n",
       "dtype: int64"
      ]
     },
     "execution_count": 32,
     "metadata": {},
     "output_type": "execute_result"
    },
    {
     "data": {
      "text/plain": [
       "count    2522.000000\n",
       "mean     2016.124504\n",
       "std         4.625220\n",
       "min      1989.000000\n",
       "25%      2016.000000\n",
       "50%      2017.000000\n",
       "75%      2019.000000\n",
       "max      2021.000000\n",
       "Name: year, dtype: float64"
      ]
     },
     "execution_count": 32,
     "metadata": {},
     "output_type": "execute_result"
    }
   ],
   "source": [
    "nocall_sample = nocall_sample.merge(\n",
    "    all_audio[\n",
    "        [\n",
    "            \"filename\",\n",
    "            \"rating\",\n",
    "            \"year\",\n",
    "            \"sin_month\",\n",
    "            \"cos_month\",\n",
    "            \"sin_longitude\",\n",
    "            \"cos_longitude\",\n",
    "            \"latitude\",\n",
    "            \"norm_latitude\",\n",
    "            \"class_weights\",\n",
    "        ]\n",
    "    ],\n",
    "    on=\"filename\",\n",
    "    how=\"left\",\n",
    ")\n",
    "\n",
    "nocall_sample = nocall_sample[\n",
    "    [\n",
    "        \"filename\",\n",
    "        \"row_id\",\n",
    "        \"start_sec\",\n",
    "        \"end_sec\",\n",
    "        \"file_path\",\n",
    "        \"duration\",\n",
    "        \"rating\",\n",
    "        \"year\",\n",
    "        \"sin_month\",\n",
    "        \"cos_month\",\n",
    "        \"sin_longitude\",\n",
    "        \"cos_longitude\",\n",
    "        \"latitude\",\n",
    "        \"norm_latitude\",\n",
    "        \"class_weights\",\n",
    "    ]\n",
    "]\n",
    "soundscapes_nocall = soundscapes_nocall[\n",
    "    [\n",
    "        \"filename\",\n",
    "        \"row_id\",\n",
    "        \"start_sec\",\n",
    "        \"end_sec\",\n",
    "        \"file_path\",\n",
    "        \"duration\",\n",
    "        \"rating\",\n",
    "        \"year\",\n",
    "        \"sin_month\",\n",
    "        \"cos_month\",\n",
    "        \"sin_longitude\",\n",
    "        \"cos_longitude\",\n",
    "        \"latitude\",\n",
    "        \"norm_latitude\",\n",
    "        \"class_weights\",\n",
    "    ]\n",
    "]\n",
    "\n",
    "soundscapes_nocall[\"duration\"] = 600\n",
    "\n",
    "all_nocall = pd.concat([nocall_sample, soundscapes_nocall], axis=0, ignore_index=True)\n",
    "\n",
    "all_nocall[\"label_id\"] = dict_birds[\"nocall\"]\n",
    "all_nocall = all_nocall.sample(frac=1, random_state=SEED).reset_index(drop=True)\n",
    "\n",
    "all_nocall.isna().sum()\n",
    "all_nocall = all_nocall.dropna(axis=0)\n",
    "all_nocall[\"secondary_labels_id\"] = np.nan\n",
    "all_nocall[\"year\"].describe()"
   ]
  },
  {
   "cell_type": "markdown",
   "metadata": {},
   "source": [
    "# concat"
   ]
  },
  {
   "cell_type": "code",
   "execution_count": 33,
   "metadata": {},
   "outputs": [
    {
     "data": {
      "text/plain": [
       "(504922, 25)"
      ]
     },
     "execution_count": 33,
     "metadata": {},
     "output_type": "execute_result"
    }
   ],
   "source": [
    "final_audio = (\n",
    "    pd.concat(\n",
    "        [short_audio, all_nocall],\n",
    "        axis=0,\n",
    "        ignore_index=True,\n",
    "    )\n",
    "    .sample(frac=1, random_state=SEED)\n",
    "    .reset_index(drop=True)\n",
    ")\n",
    "final_audio.shape"
   ]
  },
  {
   "cell_type": "code",
   "execution_count": 34,
   "metadata": {},
   "outputs": [
    {
     "data": {
      "text/plain": [
       "scrtan1    381\n",
       "rehbar1    373\n",
       "flrtan1    277\n",
       "grhcha1    251\n",
       "hofwoo1    186\n",
       "runwre1    131\n",
       "crfpar     128\n",
       "whcpar     107\n",
       "stvhum2     57\n",
       "wegspa1     49\n",
       "Name: primary_label, dtype: int64"
      ]
     },
     "execution_count": 34,
     "metadata": {},
     "output_type": "execute_result"
    }
   ],
   "source": [
    "final_audio[\"primary_label\"].value_counts().tail(10)"
   ]
  },
  {
   "cell_type": "markdown",
   "metadata": {},
   "source": [
    "#  upsampling\n"
   ]
  },
  {
   "cell_type": "code",
   "execution_count": 35,
   "metadata": {},
   "outputs": [],
   "source": [
    "rare_birds = list(final_audio[\"primary_label\"].value_counts().tail(10).index.values)"
   ]
  },
  {
   "cell_type": "code",
   "execution_count": 36,
   "metadata": {},
   "outputs": [
    {
     "data": {
      "text/html": [
       "<div>\n",
       "<style scoped>\n",
       "    .dataframe tbody tr th:only-of-type {\n",
       "        vertical-align: middle;\n",
       "    }\n",
       "\n",
       "    .dataframe tbody tr th {\n",
       "        vertical-align: top;\n",
       "    }\n",
       "\n",
       "    .dataframe thead th {\n",
       "        text-align: right;\n",
       "    }\n",
       "</style>\n",
       "<table border=\"1\" class=\"dataframe\">\n",
       "  <thead>\n",
       "    <tr style=\"text-align: right;\">\n",
       "      <th></th>\n",
       "      <th>end_sec</th>\n",
       "      <th>class_weights</th>\n",
       "      <th>filename</th>\n",
       "    </tr>\n",
       "  </thead>\n",
       "  <tbody>\n",
       "    <tr>\n",
       "      <th>XC129839_5_0</th>\n",
       "      <td>5.00</td>\n",
       "      <td>0.037037</td>\n",
       "      <td>XC129839.ogg</td>\n",
       "    </tr>\n",
       "    <tr>\n",
       "      <th>XC129839_6_71</th>\n",
       "      <td>6.71</td>\n",
       "      <td>0.037037</td>\n",
       "      <td>XC129839.ogg</td>\n",
       "    </tr>\n",
       "    <tr>\n",
       "      <th>XC129839_8_43</th>\n",
       "      <td>8.43</td>\n",
       "      <td>0.037037</td>\n",
       "      <td>XC129839.ogg</td>\n",
       "    </tr>\n",
       "    <tr>\n",
       "      <th>XC129839_10_16</th>\n",
       "      <td>10.16</td>\n",
       "      <td>0.037037</td>\n",
       "      <td>XC129839.ogg</td>\n",
       "    </tr>\n",
       "    <tr>\n",
       "      <th>XC129839_11_87</th>\n",
       "      <td>11.87</td>\n",
       "      <td>0.037037</td>\n",
       "      <td>XC129839.ogg</td>\n",
       "    </tr>\n",
       "    <tr>\n",
       "      <th>...</th>\n",
       "      <td>...</td>\n",
       "      <td>...</td>\n",
       "      <td>...</td>\n",
       "    </tr>\n",
       "    <tr>\n",
       "      <th>XC433788_36_45</th>\n",
       "      <td>36.45</td>\n",
       "      <td>0.200000</td>\n",
       "      <td>XC433788.ogg</td>\n",
       "    </tr>\n",
       "    <tr>\n",
       "      <th>XC433788_36_58</th>\n",
       "      <td>36.58</td>\n",
       "      <td>0.200000</td>\n",
       "      <td>XC433788.ogg</td>\n",
       "    </tr>\n",
       "    <tr>\n",
       "      <th>XC433788_36_71</th>\n",
       "      <td>36.71</td>\n",
       "      <td>0.200000</td>\n",
       "      <td>XC433788.ogg</td>\n",
       "    </tr>\n",
       "    <tr>\n",
       "      <th>XC433788_36_84</th>\n",
       "      <td>36.84</td>\n",
       "      <td>0.200000</td>\n",
       "      <td>XC433788.ogg</td>\n",
       "    </tr>\n",
       "    <tr>\n",
       "      <th>XC433788_36_97</th>\n",
       "      <td>36.97</td>\n",
       "      <td>0.200000</td>\n",
       "      <td>XC433788.ogg</td>\n",
       "    </tr>\n",
       "  </tbody>\n",
       "</table>\n",
       "<p>6422 rows × 3 columns</p>\n",
       "</div>"
      ],
      "text/plain": [
       "                end_sec  class_weights      filename\n",
       "XC129839_5_0       5.00       0.037037  XC129839.ogg\n",
       "XC129839_6_71      6.71       0.037037  XC129839.ogg\n",
       "XC129839_8_43      8.43       0.037037  XC129839.ogg\n",
       "XC129839_10_16    10.16       0.037037  XC129839.ogg\n",
       "XC129839_11_87    11.87       0.037037  XC129839.ogg\n",
       "...                 ...            ...           ...\n",
       "XC433788_36_45    36.45       0.200000  XC433788.ogg\n",
       "XC433788_36_58    36.58       0.200000  XC433788.ogg\n",
       "XC433788_36_71    36.71       0.200000  XC433788.ogg\n",
       "XC433788_36_84    36.84       0.200000  XC433788.ogg\n",
       "XC433788_36_97    36.97       0.200000  XC433788.ogg\n",
       "\n",
       "[6422 rows x 3 columns]"
      ]
     },
     "execution_count": 36,
     "metadata": {},
     "output_type": "execute_result"
    }
   ],
   "source": [
    "df = pd.DataFrame(columns=[\"end_sec\", \"class_weights\", \"filename\"])\n",
    "for bird in rare_birds:\n",
    "    rare_bird_filenames = (\n",
    "        all_audio.query(\"primary_label ==@bird\")[\"filename\"].unique().tolist()\n",
    "    )\n",
    "    rare_array = all_audio.query(\n",
    "        \"primary_label ==@bird and rating!=0 and rating!=6 and filename in @rare_bird_filenames\"\n",
    "    )[[\"filename\", \"duration\", \"class_weights\"]].values\n",
    "    intervals = make_intervals_upsampling(rare_array, sum_intervals=600)\n",
    "    df = pd.concat([df, intervals], axis=0)\n",
    "\n",
    "df"
   ]
  },
  {
   "cell_type": "code",
   "execution_count": 37,
   "metadata": {},
   "outputs": [
    {
     "data": {
      "text/plain": [
       "(144,)"
      ]
     },
     "execution_count": 37,
     "metadata": {},
     "output_type": "execute_result"
    }
   ],
   "source": [
    "df[\"filename\"].unique().shape"
   ]
  },
  {
   "cell_type": "code",
   "execution_count": 38,
   "metadata": {},
   "outputs": [],
   "source": [
    "df[\"row_id\"] = df.index\n",
    "df = df.merge(\n",
    "    all_audio[\n",
    "        [\n",
    "            \"filename\",\n",
    "            \"primary_label\",\n",
    "            \"secondary_labels\",\n",
    "            \"label_id\",\n",
    "            \"secondary_labels_id\",\n",
    "            \"duration\",\n",
    "            \"rating\",\n",
    "            \"year\",\n",
    "            \"file_path\",\n",
    "            \"frames\",\n",
    "            \"sin_month\",\n",
    "            \"cos_month\",\n",
    "            \"sin_longitude\",\n",
    "            \"cos_longitude\",\n",
    "            \"latitude\",\n",
    "            \"norm_latitude\",\n",
    "            \"date\",\n",
    "        ]\n",
    "    ],\n",
    "    on=\"filename\",\n",
    "    how=\"left\",\n",
    ")\n",
    "df[\"end_sec\"] = df[\"end_sec\"].apply(lambda x: x if x > 5 else 5)\n",
    "df[\"start_sec\"] = df[\"end_sec\"] - 5"
   ]
  },
  {
   "cell_type": "code",
   "execution_count": 39,
   "metadata": {},
   "outputs": [
    {
     "data": {
      "text/plain": [
       "(10,)"
      ]
     },
     "execution_count": 39,
     "metadata": {},
     "output_type": "execute_result"
    }
   ],
   "source": [
    "df[\"primary_label\"].unique().shape"
   ]
  },
  {
   "cell_type": "code",
   "execution_count": 40,
   "metadata": {},
   "outputs": [
    {
     "data": {
      "text/plain": [
       "(511344, 25)"
      ]
     },
     "execution_count": 40,
     "metadata": {},
     "output_type": "execute_result"
    },
    {
     "data": {
      "text/plain": [
       "stvhum2    684\n",
       "yebsap     680\n",
       "gretin1    663\n",
       "sander     652\n",
       "rugdov     648\n",
       "nutwoo     630\n",
       "palwar     609\n",
       "sthwoo1    603\n",
       "leasan     603\n",
       "grnher     597\n",
       "yeteup1    587\n",
       "ameavo     544\n",
       "orfpar     543\n",
       "wooduc     536\n",
       "brwpar1    499\n",
       "higmot1    460\n",
       "bucmot2    418\n",
       "nrwswa     403\n",
       "rebsap     401\n",
       "amewig     384\n",
       "Name: primary_label, dtype: int64"
      ]
     },
     "execution_count": 40,
     "metadata": {},
     "output_type": "execute_result"
    }
   ],
   "source": [
    "final_audio = (\n",
    "    pd.concat(\n",
    "        [final_audio, df],\n",
    "        axis=0,\n",
    "        ignore_index=True,\n",
    "    )\n",
    "    .sample(frac=1, random_state=SEED)\n",
    "    .reset_index(drop=True)\n",
    ")\n",
    "final_audio.shape\n",
    "\n",
    "final_audio[\"primary_label\"].value_counts().tail(20)"
   ]
  },
  {
   "cell_type": "code",
   "execution_count": 41,
   "metadata": {},
   "outputs": [],
   "source": [
    "final_audio['secondary_labels_id'] = final_audio['secondary_labels_id'].replace('',np.nan)"
   ]
  },
  {
   "cell_type": "code",
   "execution_count": 42,
   "metadata": {},
   "outputs": [
    {
     "data": {
      "text/plain": [
       "array([nan, '140', '180 90 172 255 155', ..., '17 231 0',\n",
       "       '169 133 250 170 1', '178 316 84 252'], dtype=object)"
      ]
     },
     "execution_count": 42,
     "metadata": {},
     "output_type": "execute_result"
    }
   ],
   "source": [
    "final_audio['secondary_labels_id'].unique()"
   ]
  },
  {
   "cell_type": "code",
   "execution_count": 43,
   "metadata": {},
   "outputs": [
    {
     "data": {
      "text/plain": [
       "(509583,)"
      ]
     },
     "execution_count": 43,
     "metadata": {},
     "output_type": "execute_result"
    }
   ],
   "source": [
    "final_audio['row_id'].unique().shape"
   ]
  },
  {
   "cell_type": "code",
   "execution_count": 44,
   "metadata": {},
   "outputs": [],
   "source": [
    "train, valid = train_test_split(final_audio, train_size=0.8, random_state=SEED)\n",
    "train = train.reset_index(drop=True)\n",
    "valid = valid.reset_index(drop=True)"
   ]
  },
  {
   "cell_type": "markdown",
   "metadata": {},
   "source": [
    "# MEL_Gen"
   ]
  },
  {
   "cell_type": "code",
   "execution_count": 45,
   "metadata": {},
   "outputs": [],
   "source": [
    "NUM_CLASSES = len(dict_birds)\n",
    "BATCH_SIZE = 200"
   ]
  },
  {
   "cell_type": "code",
   "execution_count": 46,
   "metadata": {},
   "outputs": [],
   "source": [
    "mel_pr = Mel_Provider(\n",
    "    n_fft=N_FFT,\n",
    "    win_length=WIN_LENGHT,\n",
    "    n_mels=IMG_SIZE,\n",
    "    sample_rate=SAMPLE_RATE,\n",
    "    mel_image_size=IMG_SIZE,\n",
    "    min_frequency=FREQ_MIN,\n",
    "    max_frequency=FREQ_MAX,\n",
    "    signal_lenght=SIGNAL_LENGTH,\n",
    ")"
   ]
  },
  {
   "cell_type": "code",
   "execution_count": 47,
   "metadata": {},
   "outputs": [],
   "source": [
    "# wave = np.load(\"/app/_data/npy/waves_npy/XC570659.npy\")"
   ]
  },
  {
   "cell_type": "code",
   "execution_count": 48,
   "metadata": {},
   "outputs": [],
   "source": [
    "# shutil.rmtree('/app/_data/npy/short_mels_260_uint8/', ignore_errors=True)\n",
    "# os.mkdir('/app/_data/npy/short_mels_260_uint8')"
   ]
  },
  {
   "cell_type": "code",
   "execution_count": 49,
   "metadata": {},
   "outputs": [],
   "source": [
    "gen_train = MEL_Gen(\n",
    "    df=train,\n",
    "    n_mels=IMG_SIZE,\n",
    "    seed=SEED,\n",
    "    sample_rate=SAMPLE_RATE,\n",
    "    mel_image_size=IMG_SIZE,\n",
    "    batch_size=BATCH_SIZE,\n",
    "    n_classes=NUM_CLASSES,\n",
    "    signal_lenght=SIGNAL_LENGTH,\n",
    "    mel_provider=mel_pr,\n",
    "    nocall_label_id=dict_birds[\"nocall\"],\n",
    "    wave_dir=\"/app/_data/npy/waves_npy/\",\n",
    "    short_mel_dir=\"/app/_data/npy/mels_260_uint8_1d/\",\n",
    "    convert_to_rgb=True,\n",
    "    shuffle=True,\n",
    "    return_primary_labels=False,\n",
    "    return_concat_labels=True,\n",
    "    augment=True,\n",
    "    img_dtype=\"uint8\",\n",
    "    secondary_coeff=0.3,\n",
    ")\n",
    "gen_valid = MEL_Gen(\n",
    "    df=valid,\n",
    "    n_mels=IMG_SIZE,\n",
    "    seed=SEED,\n",
    "    nocall_label_id=dict_birds[\"nocall\"],\n",
    "    sample_rate=SAMPLE_RATE,\n",
    "    mel_image_size=IMG_SIZE,\n",
    "    batch_size=BATCH_SIZE,\n",
    "    n_classes=NUM_CLASSES,\n",
    "    signal_lenght=SIGNAL_LENGTH,\n",
    "    mel_provider=mel_pr,\n",
    "    wave_dir=\"/app/_data/npy/waves_npy/\",\n",
    "    short_mel_dir=\"/app/_data/npy/mels_260_uint8_1d/\",\n",
    "    convert_to_rgb=True,\n",
    "    shuffle=False,\n",
    "    return_primary_labels=False,\n",
    "    return_concat_labels=True,\n",
    "    augment=False,\n",
    "    img_dtype=\"uint8\",\n",
    "    secondary_coeff=0.3,\n",
    ")"
   ]
  },
  {
   "cell_type": "code",
   "execution_count": 50,
   "metadata": {},
   "outputs": [],
   "source": [
    "a = gen_train.__getitem__(2)"
   ]
  },
  {
   "cell_type": "code",
   "execution_count": 51,
   "metadata": {},
   "outputs": [
    {
     "data": {
      "text/plain": [
       "<matplotlib.image.AxesImage at 0x7fc14ebda5b0>"
      ]
     },
     "execution_count": 51,
     "metadata": {},
     "output_type": "execute_result"
    },
    {
     "data": {
      "image/png": "[encoded data removed]",
      "text/plain": [
       "<Figure size 432x288 with 1 Axes>"
      ]
     },
     "metadata": {
      "image/png": {
       "height": 251,
       "width": 259
      },
      "needs_background": "light"
     },
     "output_type": "display_data"
    }
   ],
   "source": [
    "plt.imshow(a[0][67])"
   ]
  },
  {
   "cell_type": "code",
   "execution_count": 52,
   "metadata": {},
   "outputs": [],
   "source": [
    "# plt.figure(figsize=(20,15))\n",
    "# for i in range(16):\n",
    "#     a = gen_train.__getitem__(2)\n",
    "#     plt.subplot(4,4,i+1)\n",
    "#     plt.imshow(a[0][67])\n",
    "# plt.show();"
   ]
  },
  {
   "cell_type": "markdown",
   "metadata": {},
   "source": [
    "# model"
   ]
  },
  {
   "cell_type": "code",
   "execution_count": 53,
   "metadata": {},
   "outputs": [
    {
     "name": "stdout",
     "output_type": "stream",
     "text": [
      "INFO:tensorflow:Mixed precision compatibility check (mixed_float16): OK\n",
      "Your GPU will likely run quickly with dtype policy mixed_float16 as it has compute capability of at least 7.0. Your GPU: NVIDIA GeForce RTX 3090, compute capability 8.6\n"
     ]
    }
   ],
   "source": [
    "def get_model():\n",
    "    inputs = keras.Input(shape=(IMG_SIZE, IMG_SIZE, 3))\n",
    "    base_model = keras.applications.EfficientNetB2(\n",
    "        weights=\"imagenet\", include_top=False\n",
    "    )\n",
    "    x = base_model(inputs)\n",
    "    x = keras.layers.GlobalAveragePooling2D(name=\"avg_pool\")(x)\n",
    "    x = keras.layers.Flatten(name=\"flatten\")(x)\n",
    "    outputs = keras.layers.Dense(NUM_CLASSES, activation=\"sigmoid\")(x)\n",
    "    model = keras.Model(inputs=inputs, outputs=outputs)\n",
    "    model.compile(\n",
    "        loss=\"binary_crossentropy\",\n",
    "        optimizer=Adam(lr=0.0005),\n",
    "        metrics=[\n",
    "            \"acc\",\n",
    "            keras.metrics.Recall(),\n",
    "            keras.metrics.Precision(),\n",
    "            tfa.metrics.F1Score(num_classes=NUM_CLASSES, average=\"micro\"),\n",
    "        ],\n",
    "    )\n",
    "    return model\n",
    "\n",
    "\n",
    "policy = keras.mixed_precision.experimental.Policy(\"mixed_float16\")\n",
    "keras.mixed_precision.experimental.set_policy(policy)"
   ]
  },
  {
   "cell_type": "code",
   "execution_count": 54,
   "metadata": {},
   "outputs": [],
   "source": [
    "callbacks = [\n",
    "    keras.callbacks.EarlyStopping(\n",
    "        monitor=\"val_loss\",\n",
    "        patience=12,\n",
    "        restore_best_weights=True,\n",
    "        verbose=1,\n",
    "        mode=\"min\",\n",
    "    ),\n",
    "    keras.callbacks.ModelCheckpoint(\n",
    "        \"/app/_data/models/Eff2_319cl_1/Eff2_319_1.h5\",\n",
    "        monitor=\"val_loss\",\n",
    "        verbose=1,\n",
    "        save_best_only=True,\n",
    "        save_weights_only=False,\n",
    "        mode=\"min\",\n",
    "        save_freq=\"epoch\",\n",
    "    ),\n",
    "    keras.callbacks.ReduceLROnPlateau(\n",
    "        monitor=\"val_loss\",\n",
    "        factor=0.9,\n",
    "        patience=5,\n",
    "        verbose=1,\n",
    "        mode=\"min\",\n",
    "        min_delta=1e-4,\n",
    "        min_lr=0.00000001,\n",
    "    ),\n",
    "    keras.callbacks.TensorBoard(log_dir=\"/app/.tensorboard/Eff2_319cl_1/\", histogram_freq=0),\n",
    "    keras.callbacks.experimental.BackupAndRestore(\"/app/_data/models/Eff2_319cl_1/backup/\"),\n",
    "    keras.callbacks.TerminateOnNaN(),\n",
    "]"
   ]
  },
  {
   "cell_type": "code",
   "execution_count": null,
   "metadata": {},
   "outputs": [
    {
     "name": "stdout",
     "output_type": "stream",
     "text": [
      "Epoch 29/100\n",
      "   1/2045 [..............................] - ETA: 0s - loss: 0.0033 - acc: 0.9650 - recall: 0.5603 - precision: 0.9721 - f1_score: 0.8555WARNING:tensorflow:From /usr/local/lib/python3.8/dist-packages/tensorflow/python/ops/summary_ops_v2.py:1277: stop (from tensorflow.python.eager.profiler) is deprecated and will be removed after 2020-07-01.\n",
      "Instructions for updating:\n",
      "use `tf.profiler.experimental.stop` instead.\n",
      " 195/2045 [=>............................] - ETA: 35:02 - loss: 0.0032 - acc: 0.9534 - recall: 0.5681 - precision: 0.9771 - f1_score: 0.8531"
     ]
    }
   ],
   "source": [
    "model = get_model()\n",
    "history = model.fit(\n",
    "    gen_train,\n",
    "    validation_data=gen_valid,\n",
    "    epochs=100,\n",
    "    steps_per_epoch=train.shape[0] // BATCH_SIZE,\n",
    "    validation_steps=valid.shape[0] // BATCH_SIZE,\n",
    "    verbose=1,\n",
    "    workers=20,\n",
    "    max_queue_size=50,\n",
    "    callbacks=callbacks,\n",
    ")"
   ]
  },
  {
   "cell_type": "code",
   "execution_count": 63,
   "metadata": {},
   "outputs": [],
   "source": [
    "# shutil.rmtree('/app/_data/npy/mels_260_uint8_1d')\n",
    "# os.mkdir('/app/_data/npy/mels_260_uint8_1d')"
   ]
  },
  {
   "cell_type": "code",
   "execution_count": 58,
   "metadata": {},
   "outputs": [
    {
     "ename": "KeyboardInterrupt",
     "evalue": "",
     "output_type": "error",
     "traceback": [
      "\u001b[0;31m\u001b[0m",
      "\u001b[0;31mKeyboardInterrupt\u001b[0mTraceback (most recent call last)",
      "\u001b[0;32m<ipython-input-58-95a5a68e931b>\u001b[0m in \u001b[0;36m<module>\u001b[0;34m\u001b[0m\n\u001b[1;32m      1\u001b[0m \u001b[0;32mfor\u001b[0m \u001b[0mi\u001b[0m \u001b[0;32min\u001b[0m \u001b[0mrange\u001b[0m\u001b[0;34m(\u001b[0m\u001b[0;36m10000\u001b[0m\u001b[0;34m)\u001b[0m\u001b[0;34m:\u001b[0m\u001b[0;34m\u001b[0m\u001b[0;34m\u001b[0m\u001b[0m\n\u001b[1;32m      2\u001b[0m     \u001b[0mj\u001b[0m \u001b[0;34m=\u001b[0m \u001b[0mnp\u001b[0m\u001b[0;34m.\u001b[0m\u001b[0mrandom\u001b[0m\u001b[0;34m.\u001b[0m\u001b[0mrandint\u001b[0m\u001b[0;34m(\u001b[0m\u001b[0;36m0\u001b[0m\u001b[0;34m,\u001b[0m \u001b[0;36m300\u001b[0m\u001b[0;34m)\u001b[0m\u001b[0;34m\u001b[0m\u001b[0;34m\u001b[0m\u001b[0m\n\u001b[0;32m----> 3\u001b[0;31m     \u001b[0ma\u001b[0m \u001b[0;34m=\u001b[0m \u001b[0mnp\u001b[0m\u001b[0;34m.\u001b[0m\u001b[0mload\u001b[0m\u001b[0;34m(\u001b[0m\u001b[0;34m'/app/_data/npy/mels_260_uint8_1d/'\u001b[0m\u001b[0;34m+\u001b[0m\u001b[0mos\u001b[0m\u001b[0;34m.\u001b[0m\u001b[0mlistdir\u001b[0m\u001b[0;34m(\u001b[0m\u001b[0;34m'/app/_data/npy/mels_260_uint8_1d/'\u001b[0m\u001b[0;34m)\u001b[0m\u001b[0;34m[\u001b[0m\u001b[0mi\u001b[0m\u001b[0;34m]\u001b[0m\u001b[0;34m)\u001b[0m\u001b[0;34m\u001b[0m\u001b[0;34m\u001b[0m\u001b[0m\n\u001b[0m",
      "\u001b[0;31mKeyboardInterrupt\u001b[0m: "
     ]
    }
   ],
   "source": [
    "# for i in range(10000):\n",
    "#     j = np.random.randint(0, 300)\n",
    "#     a = np.load('/app/_data/npy/mels_260_uint8_1d/'+os.listdir('/app/_data/npy/mels_260_uint8_1d/')[i])"
   ]
  },
  {
   "cell_type": "code",
   "execution_count": 61,
   "metadata": {},
   "outputs": [
    {
     "data": {
      "text/plain": [
       "771084"
      ]
     },
     "execution_count": 61,
     "metadata": {},
     "output_type": "execute_result"
    }
   ],
   "source": [
    "len(os.listdir('/app/_data/npy/mels_260_uint8_1d'))"
   ]
  },
  {
   "cell_type": "code",
   "execution_count": null,
   "metadata": {},
   "outputs": [],
   "source": []
  }
 ],
 "metadata": {
  "kernelspec": {
   "display_name": "Python 3",
   "language": "python",
   "name": "python3"
  },
  "language_info": {
   "codemirror_mode": {
    "name": "ipython",
    "version": 3
   },
   "file_extension": ".py",
   "mimetype": "text/x-python",
   "name": "python",
   "nbconvert_exporter": "python",
   "pygments_lexer": "ipython3",
   "version": "3.8.5"
  }
 },
 "nbformat": 4,
 "nbformat_minor": 4
}
