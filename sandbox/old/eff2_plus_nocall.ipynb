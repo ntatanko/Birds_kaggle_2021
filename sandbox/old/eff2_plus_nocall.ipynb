{
 "cells": [
  {
   "cell_type": "code",
   "execution_count": 1,
   "metadata": {},
   "outputs": [],
   "source": [
    "import os\n",
    "import shutil\n",
    "import warnings\n",
    "\n",
    "import numpy as np\n",
    "import pandas as pd\n",
    "import plotly.graph_objects as go\n",
    "import torchaudio\n",
    "\n",
    "warnings.filterwarnings(action=\"ignore\")\n",
    "from IPython.core.interactiveshell import InteractiveShell\n",
    "\n",
    "InteractiveShell.ast_node_interactivity = \"all\"\n",
    "import json\n",
    "\n",
    "import geopandas\n",
    "import librosa\n",
    "import librosa.display\n",
    "import matplotlib.pyplot as plt\n",
    "import scipy.stats as st\n",
    "import seaborn as sns\n",
    "import soundfile\n",
    "\n",
    "import tensorflow as tf\n",
    "import tensorflow_addons as tfa\n",
    "import torch\n",
    "\n",
    "%matplotlib inline\n",
    "from PIL import Image\n",
    "from sklearn.model_selection import train_test_split\n",
    "from sklearn.utils import shuffle\n",
    "from tensorflow import keras\n",
    "from tensorflow.keras.models import Sequential\n",
    "from tensorflow.keras.optimizers import Adam\n",
    "from torchaudio.transforms import MelSpectrogram\n",
    "from tqdm import tqdm\n",
    "\n",
    "from src.MEL_Gen import MEL_Gen, Mel_Provider\n",
    "from src.prepare_dataset import (\n",
    "    choose_ids,\n",
    "    make_dict_birds,\n",
    "    make_intervals,\n",
    "    make_intervals_upsampling,\n",
    "    prepare_dataset,\n",
    ")"
   ]
  },
  {
   "cell_type": "code",
   "execution_count": 2,
   "metadata": {},
   "outputs": [],
   "source": [
    "SEED = 78\n",
    "IMG_SIZE = 260\n",
    "SAMPLE_RATE = 32000\n",
    "N_FFT = 2048\n",
    "SIGNAL_LENGTH = 5\n",
    "FREQ_MIN = 0\n",
    "FREQ_MAX = 16000\n",
    "WIN_LENGHT = 1024\n",
    "BATCH_SIZE = 300\n",
    "list_drop = [\n",
    "    \"XC509721.ogg\",\n",
    "    \"XC428067.ogg\",\n",
    "    \"XC523831.ogg\",\n",
    "    \"XC523960.ogg\",\n",
    "    \"XC237870.ogg\",\n",
    "    \"XC129924.ogg\",\n",
    "    \"XC576851.ogg\",\n",
    "    \"XC579430.ogg\",\n",
    "    \"XC590621.ogg\",\n",
    "]"
   ]
  },
  {
   "cell_type": "code",
   "execution_count": 3,
   "metadata": {},
   "outputs": [],
   "source": [
    "nocall = pd.read_csv(\"/app/_data/labels_nocall/all_nocalls.csv\")"
   ]
  },
  {
   "cell_type": "code",
   "execution_count": 4,
   "metadata": {},
   "outputs": [
    {
     "data": {
      "text/plain": [
       "(65128, 24)"
      ]
     },
     "execution_count": 4,
     "metadata": {},
     "output_type": "execute_result"
    }
   ],
   "source": [
    "all_audio = pd.read_csv(\"/app/_data/all_audio_initial.csv\")\n",
    "all_audio = all_audio.query(\"filename not in @list_drop\").reset_index(drop=True)\n",
    "all_audio = all_audio.query(\"year >=1980 and year<=2021\").reset_index(drop=True)\n",
    "all_audio.shape"
   ]
  },
  {
   "cell_type": "code",
   "execution_count": 5,
   "metadata": {},
   "outputs": [
    {
     "data": {
      "text/plain": [
       "42727"
      ]
     },
     "execution_count": 5,
     "metadata": {},
     "output_type": "execute_result"
    }
   ],
   "source": [
    "_, list_filenames = choose_ids(1000, start_year=1990)\n",
    "len(list_filenames)"
   ]
  },
  {
   "cell_type": "code",
   "execution_count": 6,
   "metadata": {},
   "outputs": [],
   "source": [
    "all_audio = all_audio.query('filename in @list_filenames').reset_index(drop=True)"
   ]
  },
  {
   "cell_type": "markdown",
   "metadata": {},
   "source": [
    "# dict_birds and weights"
   ]
  },
  {
   "cell_type": "code",
   "execution_count": 7,
   "metadata": {},
   "outputs": [],
   "source": [
    "all_audio = all_audio[all_audio[\"rating\"] >= 2.5]"
   ]
  },
  {
   "cell_type": "code",
   "execution_count": 8,
   "metadata": {},
   "outputs": [
    {
     "data": {
      "text/plain": [
       "(41267, 24)"
      ]
     },
     "execution_count": 8,
     "metadata": {},
     "output_type": "execute_result"
    }
   ],
   "source": [
    "all_audio.shape"
   ]
  },
  {
   "cell_type": "code",
   "execution_count": 9,
   "metadata": {},
   "outputs": [],
   "source": [
    "dict_birds, all_audio = make_dict_birds(all_audio)"
   ]
  },
  {
   "cell_type": "code",
   "execution_count": 10,
   "metadata": {},
   "outputs": [
    {
     "data": {
      "text/plain": [
       "395"
      ]
     },
     "execution_count": 10,
     "metadata": {},
     "output_type": "execute_result"
    }
   ],
   "source": [
    "len(dict_birds)"
   ]
  },
  {
   "cell_type": "code",
   "execution_count": 11,
   "metadata": {},
   "outputs": [],
   "source": [
    "# os.mkdir(\"/app/_data/models/Eff2_5/\")"
   ]
  },
  {
   "cell_type": "code",
   "execution_count": 12,
   "metadata": {},
   "outputs": [],
   "source": [
    "file_json = open(\"/app/_data/models/Eff2_5/dict_birds.json\", \"w\")\n",
    "json.dump(dict_birds, file_json)\n",
    "file_json.close()"
   ]
  },
  {
   "cell_type": "code",
   "execution_count": 13,
   "metadata": {},
   "outputs": [],
   "source": [
    "dict_weights = (1 / all_audio[\"primary_label\"].value_counts()).to_dict()\n",
    "all_audio[\"class_weights\"] = all_audio[\"primary_label\"].replace(dict_weights)\n",
    "all_audio[\"class_weights\"] = all_audio[\"class_weights\"] * all_audio[\"rating\"]"
   ]
  },
  {
   "cell_type": "code",
   "execution_count": 14,
   "metadata": {},
   "outputs": [
    {
     "data": {
      "text/plain": [
       "(38867, 24)"
      ]
     },
     "execution_count": 14,
     "metadata": {},
     "output_type": "execute_result"
    },
    {
     "data": {
      "text/plain": [
       "(2400, 24)"
      ]
     },
     "execution_count": 14,
     "metadata": {},
     "output_type": "execute_result"
    }
   ],
   "source": [
    "short_audio = all_audio[all_audio[\"rating\"] != 6].reset_index(\n",
    "    drop=True\n",
    ")  # only short audio\n",
    "train_sondscapes = all_audio[all_audio[\"rating\"] == 6].reset_index(\n",
    "    drop=True\n",
    ")  # only train_soundscapes\n",
    "short_audio.shape\n",
    "train_sondscapes.shape\n",
    "train_sondscapes['duration']=600"
   ]
  },
  {
   "cell_type": "markdown",
   "metadata": {},
   "source": [
    "## calls"
   ]
  },
  {
   "cell_type": "code",
   "execution_count": 15,
   "metadata": {},
   "outputs": [],
   "source": [
    "short_audio_0_20 = short_audio[short_audio['duration']<19]\n",
    "short_audio_20_30 = short_audio[(short_audio['duration']>=19)&(short_audio['duration']<=30)]\n",
    "short_audio_30 = short_audio[short_audio['duration']>30]"
   ]
  },
  {
   "cell_type": "code",
   "execution_count": 16,
   "metadata": {},
   "outputs": [],
   "source": [
    "short_audio_20_30['duration'] = short_audio_20_30['duration']-4\n",
    "short_audio_30['duration'] = short_audio_30['duration']-7"
   ]
  },
  {
   "cell_type": "code",
   "execution_count": 17,
   "metadata": {},
   "outputs": [],
   "source": [
    "short_audio = pd.concat([short_audio_0_20,short_audio_20_30,short_audio_30], axis=0, ignore_index=True)"
   ]
  },
  {
   "cell_type": "code",
   "execution_count": 18,
   "metadata": {},
   "outputs": [
    {
     "data": {
      "text/plain": [
       "(38867, 24)"
      ]
     },
     "execution_count": 18,
     "metadata": {},
     "output_type": "execute_result"
    }
   ],
   "source": [
    "short_audio.shape"
   ]
  },
  {
   "cell_type": "markdown",
   "metadata": {},
   "source": [
    "# Make intervals for short audio"
   ]
  },
  {
   "cell_type": "code",
   "execution_count": 19,
   "metadata": {},
   "outputs": [
    {
     "data": {
      "text/plain": [
       "(1080511, 3)"
      ]
     },
     "execution_count": 19,
     "metadata": {},
     "output_type": "execute_result"
    }
   ],
   "source": [
    "array_for_cut = short_audio[[\"filename\", \"duration\", \"class_weights\"]].values\n",
    "\n",
    "birds_intervals = make_intervals(array_for_cut, 5, max_intervals=200, max_lenght=400)\n",
    "birds_intervals = birds_intervals.sample(frac=1, random_state=SEED)\n",
    "birds_intervals.shape"
   ]
  },
  {
   "cell_type": "code",
   "execution_count": 20,
   "metadata": {},
   "outputs": [
    {
     "data": {
      "text/plain": [
       "XC268464.ogg    200\n",
       "XC263188.ogg    200\n",
       "XC256433.ogg    200\n",
       "XC530996.ogg    200\n",
       "XC608256.ogg    200\n",
       "               ... \n",
       "XC166035.ogg      4\n",
       "XC331890.ogg      4\n",
       "XC337827.ogg      4\n",
       "XC538963.ogg      4\n",
       "XC371529.ogg      4\n",
       "Name: filename, Length: 38867, dtype: int64"
      ]
     },
     "execution_count": 20,
     "metadata": {},
     "output_type": "execute_result"
    }
   ],
   "source": [
    "birds_intervals[\"row_id\"] = birds_intervals.index\n",
    "birds_intervals[\"filename\"].value_counts()"
   ]
  },
  {
   "cell_type": "code",
   "execution_count": 21,
   "metadata": {},
   "outputs": [],
   "source": [
    "dict_w = pd.DataFrame((1/birds_intervals['filename'].value_counts()))\n",
    "dict_w.columns=['weights']\n",
    "dict_w['filename'] = dict_w.index"
   ]
  },
  {
   "cell_type": "code",
   "execution_count": 22,
   "metadata": {},
   "outputs": [],
   "source": [
    "birds_intervals = birds_intervals.merge(dict_w, on='filename', how='left')"
   ]
  },
  {
   "cell_type": "code",
   "execution_count": 23,
   "metadata": {},
   "outputs": [],
   "source": [
    "birds_intervals_sample = birds_intervals.sample(\n",
    "    n=700000, weights=\"weights\", random_state=SEED\n",
    ")"
   ]
  },
  {
   "cell_type": "code",
   "execution_count": 24,
   "metadata": {},
   "outputs": [],
   "source": [
    "birds_intervals_sample = birds_intervals_sample.sample(\n",
    "    n=500000, weights=\"class_weights\", random_state=SEED\n",
    ")"
   ]
  },
  {
   "cell_type": "code",
   "execution_count": 25,
   "metadata": {},
   "outputs": [
    {
     "data": {
      "text/html": [
       "<div>\n",
       "<style scoped>\n",
       "    .dataframe tbody tr th:only-of-type {\n",
       "        vertical-align: middle;\n",
       "    }\n",
       "\n",
       "    .dataframe tbody tr th {\n",
       "        vertical-align: top;\n",
       "    }\n",
       "\n",
       "    .dataframe thead th {\n",
       "        text-align: right;\n",
       "    }\n",
       "</style>\n",
       "<table border=\"1\" class=\"dataframe\">\n",
       "  <thead>\n",
       "    <tr style=\"text-align: right;\">\n",
       "      <th></th>\n",
       "      <th>end_sec</th>\n",
       "      <th>class_weights</th>\n",
       "      <th>filename</th>\n",
       "      <th>row_id</th>\n",
       "      <th>weights</th>\n",
       "    </tr>\n",
       "  </thead>\n",
       "  <tbody>\n",
       "    <tr>\n",
       "      <th>320016</th>\n",
       "      <td>13.0</td>\n",
       "      <td>0.009761</td>\n",
       "      <td>XC196037.ogg</td>\n",
       "      <td>XC196037_13_0</td>\n",
       "      <td>0.1</td>\n",
       "    </tr>\n",
       "    <tr>\n",
       "      <th>507790</th>\n",
       "      <td>11.0</td>\n",
       "      <td>0.009761</td>\n",
       "      <td>XC196037.ogg</td>\n",
       "      <td>XC196037_11_0</td>\n",
       "      <td>0.1</td>\n",
       "    </tr>\n",
       "    <tr>\n",
       "      <th>573385</th>\n",
       "      <td>14.0</td>\n",
       "      <td>0.009761</td>\n",
       "      <td>XC196037.ogg</td>\n",
       "      <td>XC196037_14_0</td>\n",
       "      <td>0.1</td>\n",
       "    </tr>\n",
       "  </tbody>\n",
       "</table>\n",
       "</div>"
      ],
      "text/plain": [
       "        end_sec  class_weights      filename         row_id  weights\n",
       "320016     13.0       0.009761  XC196037.ogg  XC196037_13_0      0.1\n",
       "507790     11.0       0.009761  XC196037.ogg  XC196037_11_0      0.1\n",
       "573385     14.0       0.009761  XC196037.ogg  XC196037_14_0      0.1"
      ]
     },
     "execution_count": 25,
     "metadata": {},
     "output_type": "execute_result"
    }
   ],
   "source": [
    "birds_intervals_sample[birds_intervals_sample['filename']=='XC196037.ogg']"
   ]
  },
  {
   "cell_type": "code",
   "execution_count": 26,
   "metadata": {},
   "outputs": [
    {
     "data": {
      "text/plain": [
       "XC132146.ogg    50\n",
       "XC323359.ogg    49\n",
       "XC278263.ogg    49\n",
       "XC270173.ogg    49\n",
       "XC392250.ogg    48\n",
       "                ..\n",
       "XC612149.ogg     1\n",
       "XC24161.ogg      1\n",
       "XC592148.ogg     1\n",
       "XC31148.ogg      1\n",
       "XC355258.ogg     1\n",
       "Name: filename, Length: 38830, dtype: int64"
      ]
     },
     "execution_count": 26,
     "metadata": {},
     "output_type": "execute_result"
    }
   ],
   "source": [
    "short_audio = birds_intervals_sample.merge(\n",
    "    short_audio[\n",
    "        [\n",
    "            \"filename\",\n",
    "            \"primary_label\",\n",
    "            \"secondary_labels\",\n",
    "            \"label_id\",\n",
    "            \"secondary_labels_id\",\n",
    "            \"duration\",\n",
    "            \"rating\",\n",
    "            \"year\",\n",
    "            \"file_path\",\n",
    "            \"frames\",\n",
    "            \"sin_month\",\n",
    "            \"cos_month\",\n",
    "            \"sin_longitude\",\n",
    "            \"cos_longitude\",\n",
    "            \"latitude\",\n",
    "            \"norm_latitude\",\n",
    "            \"date\",\n",
    "        ]\n",
    "    ],\n",
    "    on=\"filename\",\n",
    "    how=\"left\",\n",
    ")\n",
    "\n",
    "short_audio[\"filename\"].value_counts()\n",
    "\n",
    "short_audio[\"end_sec\"] = short_audio[\"end_sec\"].apply(lambda x: x if x > 5 else 5)\n",
    "\n",
    "short_audio[\"start_sec\"] = short_audio[\"end_sec\"] - 5"
   ]
  },
  {
   "cell_type": "code",
   "execution_count": 27,
   "metadata": {},
   "outputs": [
    {
     "data": {
      "text/plain": [
       "cubthr     3192\n",
       "bncfly     3106\n",
       "normoc     2999\n",
       "houwre     2979\n",
       "spotow     2906\n",
       "           ... \n",
       "banswa       97\n",
       "wegspa1      86\n",
       "gbbgul       80\n",
       "stvhum2      59\n",
       "mutswa       10\n",
       "Name: primary_label, Length: 394, dtype: int64"
      ]
     },
     "execution_count": 27,
     "metadata": {},
     "output_type": "execute_result"
    }
   ],
   "source": [
    "short_audio[\"primary_label\"].value_counts()"
   ]
  },
  {
   "cell_type": "markdown",
   "metadata": {},
   "source": [
    "# nocall"
   ]
  },
  {
   "cell_type": "code",
   "execution_count": 28,
   "metadata": {},
   "outputs": [
    {
     "data": {
      "text/plain": [
       "XC117324.ogg    15\n",
       "XC293291.ogg    14\n",
       "XC317112.ogg    14\n",
       "XC612864.ogg    12\n",
       "XC493544.ogg    12\n",
       "                ..\n",
       "XC210768.ogg     1\n",
       "XC564545.ogg     1\n",
       "XC144370.ogg     1\n",
       "XC259210.ogg     1\n",
       "XC187408.ogg     1\n",
       "Name: filename, Length: 192, dtype: int64"
      ]
     },
     "execution_count": 28,
     "metadata": {},
     "output_type": "execute_result"
    }
   ],
   "source": [
    "nocall = nocall.drop_duplicates()\n",
    "\n",
    "nocall[\"file_path\"] = nocall[\"file_path\"].str.replace(\"birdclef-2021/\", \"\")\n",
    "\n",
    "nocall = nocall[~nocall['file_path'].str.contains('train_soundscapes')].reset_index(drop=True)\n",
    "\n",
    "soundscapes_nocall =all_audio[all_audio['file_path'].str.contains('train_soundscapes')]\n",
    "soundscapes_nocall = soundscapes_nocall[soundscapes_nocall['primary_label']=='nocall']\n",
    "\n",
    "dict_w = (1/nocall['filename'].value_counts()).to_dict()\n",
    "nocall['weights'] = nocall['filename'].replace(dict_w)\n",
    "\n",
    "nocall_sample = nocall.sample(1200, random_state=SEED,  weights='weights')\n",
    "\n",
    "nocall_sample['filename'].value_counts()"
   ]
  },
  {
   "cell_type": "code",
   "execution_count": 29,
   "metadata": {},
   "outputs": [
    {
     "data": {
      "text/plain": [
       "filename           0\n",
       "row_id             0\n",
       "start_sec          0\n",
       "end_sec            0\n",
       "file_path          0\n",
       "duration           0\n",
       "rating           278\n",
       "year             278\n",
       "sin_month        278\n",
       "cos_month        278\n",
       "sin_longitude    278\n",
       "cos_longitude    278\n",
       "latitude         278\n",
       "norm_latitude    278\n",
       "class_weights    278\n",
       "label_id           0\n",
       "dtype: int64"
      ]
     },
     "execution_count": 29,
     "metadata": {},
     "output_type": "execute_result"
    },
    {
     "data": {
      "text/plain": [
       "count    2451.000000\n",
       "mean     2016.253366\n",
       "std         4.572663\n",
       "min      1990.000000\n",
       "25%      2016.000000\n",
       "50%      2017.000000\n",
       "75%      2019.000000\n",
       "max      2021.000000\n",
       "Name: year, dtype: float64"
      ]
     },
     "execution_count": 29,
     "metadata": {},
     "output_type": "execute_result"
    }
   ],
   "source": [
    "nocall_sample = nocall_sample.merge(\n",
    "    all_audio[\n",
    "        [\n",
    "            \"filename\",\n",
    "            \"rating\",\n",
    "            \"year\",\n",
    "            \"sin_month\",\n",
    "            \"cos_month\",\n",
    "            \"sin_longitude\",\n",
    "            \"cos_longitude\",\n",
    "            \"latitude\",\n",
    "            \"norm_latitude\",\n",
    "            'class_weights'\n",
    "        ]\n",
    "    ],\n",
    "    on=\"filename\",\n",
    "    how=\"left\",\n",
    ")\n",
    "\n",
    "nocall_sample = nocall_sample[['filename', 'row_id', 'start_sec', 'end_sec', 'file_path',\n",
    "       'duration', 'rating', 'year', 'sin_month', 'cos_month',\n",
    "       'sin_longitude', 'cos_longitude', 'latitude', 'norm_latitude',\n",
    "       'class_weights']]\n",
    "soundscapes_nocall = soundscapes_nocall[['filename', 'row_id', 'start_sec', 'end_sec', 'file_path',\n",
    "       'duration', 'rating', 'year', 'sin_month', 'cos_month',\n",
    "       'sin_longitude', 'cos_longitude', 'latitude', 'norm_latitude',\n",
    "       'class_weights']]\n",
    "\n",
    "soundscapes_nocall['duration']=600\n",
    "\n",
    "all_nocall = pd.concat([nocall_sample, soundscapes_nocall], axis=0, ignore_index=True)\n",
    "\n",
    "all_nocall[\"label_id\"] = dict_birds[\"nocall\"]\n",
    "all_nocall = all_nocall.sample(frac=1, random_state=SEED).reset_index(drop=True)\n",
    "\n",
    "all_nocall.isna().sum()\n",
    "all_nocall = all_nocall.dropna(axis=0)\n",
    "all_nocall[\"secondary_labels_id\"] = np.nan\n",
    "all_nocall['year'].describe()"
   ]
  },
  {
   "cell_type": "markdown",
   "metadata": {},
   "source": [
    "# concat"
   ]
  },
  {
   "cell_type": "code",
   "execution_count": 30,
   "metadata": {},
   "outputs": [
    {
     "data": {
      "text/plain": [
       "(502451, 22)"
      ]
     },
     "execution_count": 30,
     "metadata": {},
     "output_type": "execute_result"
    }
   ],
   "source": [
    "final_audio = (\n",
    "    pd.concat(\n",
    "        [short_audio, all_nocall],\n",
    "        axis=0,\n",
    "        ignore_index=True,\n",
    "    )\n",
    "    .sample(frac=1, random_state=SEED)\n",
    "    .reset_index(drop=True)\n",
    ")\n",
    "final_audio.shape"
   ]
  },
  {
   "cell_type": "code",
   "execution_count": 31,
   "metadata": {},
   "outputs": [
    {
     "data": {
      "text/plain": [
       "yelgro     320\n",
       "grhcha1    317\n",
       "tunswa     311\n",
       "lobdow     308\n",
       "flrtan1    308\n",
       "orfpar     302\n",
       "rebsap     300\n",
       "tropew1    298\n",
       "baleag     298\n",
       "rugdov     292\n",
       "bkbplo     290\n",
       "commer     282\n",
       "rubrob     279\n",
       "buwtea     253\n",
       "whimbr     238\n",
       "gwfgoo     227\n",
       "norsho     207\n",
       "hofwoo1    207\n",
       "lotduc     156\n",
       "comgol     132\n",
       "sander     129\n",
       "crfpar     119\n",
       "rudtur     118\n",
       "whcpar     105\n",
       "runwre1    101\n",
       "banswa      97\n",
       "wegspa1     86\n",
       "gbbgul      80\n",
       "stvhum2     59\n",
       "mutswa      10\n",
       "Name: primary_label, dtype: int64"
      ]
     },
     "execution_count": 31,
     "metadata": {},
     "output_type": "execute_result"
    }
   ],
   "source": [
    "final_audio[\"primary_label\"].value_counts().tail(30)"
   ]
  },
  {
   "cell_type": "markdown",
   "metadata": {},
   "source": [
    "#  upsampling\n"
   ]
  },
  {
   "cell_type": "code",
   "execution_count": 32,
   "metadata": {},
   "outputs": [],
   "source": [
    "rare_birds = list(final_audio[\"primary_label\"].value_counts().tail(30).index.values)"
   ]
  },
  {
   "cell_type": "code",
   "execution_count": 33,
   "metadata": {},
   "outputs": [
    {
     "data": {
      "text/html": [
       "<div>\n",
       "<style scoped>\n",
       "    .dataframe tbody tr th:only-of-type {\n",
       "        vertical-align: middle;\n",
       "    }\n",
       "\n",
       "    .dataframe tbody tr th {\n",
       "        vertical-align: top;\n",
       "    }\n",
       "\n",
       "    .dataframe thead th {\n",
       "        text-align: right;\n",
       "    }\n",
       "</style>\n",
       "<table border=\"1\" class=\"dataframe\">\n",
       "  <thead>\n",
       "    <tr style=\"text-align: right;\">\n",
       "      <th></th>\n",
       "      <th>end_sec</th>\n",
       "      <th>class_weights</th>\n",
       "      <th>filename</th>\n",
       "    </tr>\n",
       "  </thead>\n",
       "  <tbody>\n",
       "    <tr>\n",
       "      <th>XC31693_5_0</th>\n",
       "      <td>5.00</td>\n",
       "      <td>0.3</td>\n",
       "      <td>XC31693.ogg</td>\n",
       "    </tr>\n",
       "    <tr>\n",
       "      <th>XC31693_7_09</th>\n",
       "      <td>7.09</td>\n",
       "      <td>0.3</td>\n",
       "      <td>XC31693.ogg</td>\n",
       "    </tr>\n",
       "    <tr>\n",
       "      <th>XC31693_9_19</th>\n",
       "      <td>9.19</td>\n",
       "      <td>0.3</td>\n",
       "      <td>XC31693.ogg</td>\n",
       "    </tr>\n",
       "    <tr>\n",
       "      <th>XC31693_11_29</th>\n",
       "      <td>11.29</td>\n",
       "      <td>0.3</td>\n",
       "      <td>XC31693.ogg</td>\n",
       "    </tr>\n",
       "    <tr>\n",
       "      <th>XC31693_13_39</th>\n",
       "      <td>13.39</td>\n",
       "      <td>0.3</td>\n",
       "      <td>XC31693.ogg</td>\n",
       "    </tr>\n",
       "    <tr>\n",
       "      <th>...</th>\n",
       "      <td>...</td>\n",
       "      <td>...</td>\n",
       "      <td>...</td>\n",
       "    </tr>\n",
       "    <tr>\n",
       "      <th>XC310077_14_37</th>\n",
       "      <td>14.37</td>\n",
       "      <td>4.0</td>\n",
       "      <td>XC310077.ogg</td>\n",
       "    </tr>\n",
       "    <tr>\n",
       "      <th>XC310077_14_38</th>\n",
       "      <td>14.38</td>\n",
       "      <td>4.0</td>\n",
       "      <td>XC310077.ogg</td>\n",
       "    </tr>\n",
       "    <tr>\n",
       "      <th>XC310077_14_39</th>\n",
       "      <td>14.39</td>\n",
       "      <td>4.0</td>\n",
       "      <td>XC310077.ogg</td>\n",
       "    </tr>\n",
       "    <tr>\n",
       "      <th>XC310077_14_4</th>\n",
       "      <td>14.40</td>\n",
       "      <td>4.0</td>\n",
       "      <td>XC310077.ogg</td>\n",
       "    </tr>\n",
       "    <tr>\n",
       "      <th>XC310077_14_41</th>\n",
       "      <td>14.41</td>\n",
       "      <td>4.0</td>\n",
       "      <td>XC310077.ogg</td>\n",
       "    </tr>\n",
       "  </tbody>\n",
       "</table>\n",
       "<p>19483 rows × 3 columns</p>\n",
       "</div>"
      ],
      "text/plain": [
       "                end_sec  class_weights      filename\n",
       "XC31693_5_0        5.00            0.3   XC31693.ogg\n",
       "XC31693_7_09       7.09            0.3   XC31693.ogg\n",
       "XC31693_9_19       9.19            0.3   XC31693.ogg\n",
       "XC31693_11_29     11.29            0.3   XC31693.ogg\n",
       "XC31693_13_39     13.39            0.3   XC31693.ogg\n",
       "...                 ...            ...           ...\n",
       "XC310077_14_37    14.37            4.0  XC310077.ogg\n",
       "XC310077_14_38    14.38            4.0  XC310077.ogg\n",
       "XC310077_14_39    14.39            4.0  XC310077.ogg\n",
       "XC310077_14_4     14.40            4.0  XC310077.ogg\n",
       "XC310077_14_41    14.41            4.0  XC310077.ogg\n",
       "\n",
       "[19483 rows x 3 columns]"
      ]
     },
     "execution_count": 33,
     "metadata": {},
     "output_type": "execute_result"
    }
   ],
   "source": [
    "df = pd.DataFrame(columns=[\"end_sec\", \"class_weights\", \"filename\"])\n",
    "for bird in rare_birds:\n",
    "    rare_bird_filenames = (\n",
    "    all_audio.query(\"primary_label ==@bird\")[\"filename\"].unique().tolist())\n",
    "    rare_array = all_audio.query(\n",
    "        \"primary_label ==@bird and rating!=0 and rating!=6 and filename in @rare_bird_filenames\"\n",
    "    )[[\"filename\", \"duration\", \"class_weights\"]].values\n",
    "    intervals = make_intervals_upsampling(rare_array,sum_intervals=600)\n",
    "    df = pd.concat([df, intervals], axis=0)\n",
    "\n",
    "df"
   ]
  },
  {
   "cell_type": "code",
   "execution_count": 34,
   "metadata": {},
   "outputs": [
    {
     "data": {
      "text/plain": [
       "(421,)"
      ]
     },
     "execution_count": 34,
     "metadata": {},
     "output_type": "execute_result"
    }
   ],
   "source": [
    "df['filename'].unique().shape"
   ]
  },
  {
   "cell_type": "code",
   "execution_count": 35,
   "metadata": {},
   "outputs": [],
   "source": [
    "df[\"row_id\"] = df.index\n",
    "df = df.merge(\n",
    "    all_audio[\n",
    "        [\n",
    "            \"filename\",\n",
    "            \"primary_label\",\n",
    "            \"secondary_labels\",\n",
    "            \"label_id\",\n",
    "            \"secondary_labels_id\",\n",
    "            \"duration\",\n",
    "            \"rating\",\n",
    "            \"year\",\n",
    "            \"file_path\",\n",
    "            \"frames\",\n",
    "            \"sin_month\",\n",
    "            \"cos_month\",\n",
    "            \"sin_longitude\",\n",
    "            \"cos_longitude\",\n",
    "            \"latitude\",\n",
    "            \"norm_latitude\",\n",
    "            \"date\",\n",
    "        ]\n",
    "    ],\n",
    "    on=\"filename\",\n",
    "    how=\"left\",\n",
    ")\n",
    "df[\"end_sec\"] = df[\"end_sec\"].apply(lambda x: x if x > 5 else 5)\n",
    "df[\"start_sec\"] = df[\"end_sec\"] - 5"
   ]
  },
  {
   "cell_type": "code",
   "execution_count": 36,
   "metadata": {},
   "outputs": [
    {
     "data": {
      "text/plain": [
       "(30,)"
      ]
     },
     "execution_count": 36,
     "metadata": {},
     "output_type": "execute_result"
    }
   ],
   "source": [
    "df['primary_label'].unique().shape"
   ]
  },
  {
   "cell_type": "code",
   "execution_count": 37,
   "metadata": {},
   "outputs": [
    {
     "data": {
      "text/plain": [
       "(521934, 22)"
      ]
     },
     "execution_count": 37,
     "metadata": {},
     "output_type": "execute_result"
    },
    {
     "data": {
      "text/plain": [
       "sinwre1    479\n",
       "gretin1    474\n",
       "leasan     471\n",
       "grnher     457\n",
       "palwar     454\n",
       "gadwal     453\n",
       "scrtan1    427\n",
       "cacgoo1    427\n",
       "rehbar1    423\n",
       "bcnher     417\n",
       "greegr     387\n",
       "nrwswa     378\n",
       "categr     373\n",
       "amewig     365\n",
       "rthhum     363\n",
       "rotbec     353\n",
       "laugul     350\n",
       "ameavo     350\n",
       "solsan     333\n",
       "oliwoo1    322\n",
       "Name: primary_label, dtype: int64"
      ]
     },
     "execution_count": 37,
     "metadata": {},
     "output_type": "execute_result"
    }
   ],
   "source": [
    "final_audio = (\n",
    "    pd.concat(\n",
    "        [final_audio, df],\n",
    "        axis=0,\n",
    "        ignore_index=True,\n",
    "    )\n",
    "    .sample(frac=1, random_state=SEED)\n",
    "    .reset_index(drop=True)\n",
    ")\n",
    "final_audio.shape\n",
    "\n",
    "final_audio[\"primary_label\"].value_counts().tail(20)"
   ]
  },
  {
   "cell_type": "code",
   "execution_count": 38,
   "metadata": {},
   "outputs": [],
   "source": [
    "train, valid = train_test_split(final_audio, train_size=0.8, random_state=SEED)\n",
    "train = train.reset_index(drop=True)\n",
    "valid = valid.reset_index(drop=True)"
   ]
  },
  {
   "cell_type": "code",
   "execution_count": 39,
   "metadata": {},
   "outputs": [
    {
     "data": {
      "text/html": [
       "<div>\n",
       "<style scoped>\n",
       "    .dataframe tbody tr th:only-of-type {\n",
       "        vertical-align: middle;\n",
       "    }\n",
       "\n",
       "    .dataframe tbody tr th {\n",
       "        vertical-align: top;\n",
       "    }\n",
       "\n",
       "    .dataframe thead th {\n",
       "        text-align: right;\n",
       "    }\n",
       "</style>\n",
       "<table border=\"1\" class=\"dataframe\">\n",
       "  <thead>\n",
       "    <tr style=\"text-align: right;\">\n",
       "      <th></th>\n",
       "      <th>end_sec</th>\n",
       "      <th>class_weights</th>\n",
       "      <th>filename</th>\n",
       "      <th>row_id</th>\n",
       "      <th>weights</th>\n",
       "      <th>primary_label</th>\n",
       "      <th>secondary_labels</th>\n",
       "      <th>label_id</th>\n",
       "      <th>secondary_labels_id</th>\n",
       "      <th>duration</th>\n",
       "      <th>...</th>\n",
       "      <th>file_path</th>\n",
       "      <th>frames</th>\n",
       "      <th>sin_month</th>\n",
       "      <th>cos_month</th>\n",
       "      <th>sin_longitude</th>\n",
       "      <th>cos_longitude</th>\n",
       "      <th>latitude</th>\n",
       "      <th>norm_latitude</th>\n",
       "      <th>date</th>\n",
       "      <th>start_sec</th>\n",
       "    </tr>\n",
       "  </thead>\n",
       "  <tbody>\n",
       "    <tr>\n",
       "      <th>92</th>\n",
       "      <td>165.00</td>\n",
       "      <td>0.003924</td>\n",
       "      <td>20152_SSW_20170805.ogg</td>\n",
       "      <td>20152_SSW_165</td>\n",
       "      <td>NaN</td>\n",
       "      <td>NaN</td>\n",
       "      <td>NaN</td>\n",
       "      <td>217</td>\n",
       "      <td>NaN</td>\n",
       "      <td>600.000000</td>\n",
       "      <td>...</td>\n",
       "      <td>/app/_data/train_soundscapes/20152_SSW_2017080...</td>\n",
       "      <td>NaN</td>\n",
       "      <td>-0.866025</td>\n",
       "      <td>-0.500000</td>\n",
       "      <td>-0.972166</td>\n",
       "      <td>0.234294</td>\n",
       "      <td>42.4700</td>\n",
       "      <td>0.735944</td>\n",
       "      <td>NaN</td>\n",
       "      <td>160.00</td>\n",
       "    </tr>\n",
       "    <tr>\n",
       "      <th>224</th>\n",
       "      <td>74.34</td>\n",
       "      <td>0.022959</td>\n",
       "      <td>XC268850.ogg</td>\n",
       "      <td>XC268850_74_34</td>\n",
       "      <td>0.005025</td>\n",
       "      <td>ducfly</td>\n",
       "      <td>whwdov bncfly astfly spotow bewwre</td>\n",
       "      <td>123</td>\n",
       "      <td>369 49 14 316 32</td>\n",
       "      <td>501.539875</td>\n",
       "      <td>...</td>\n",
       "      <td>/app/_data/train_short_audio/ducfly/XC268850.ogg</td>\n",
       "      <td>16273276.0</td>\n",
       "      <td>0.500000</td>\n",
       "      <td>-0.866025</td>\n",
       "      <td>-0.944638</td>\n",
       "      <td>-0.328113</td>\n",
       "      <td>31.9060</td>\n",
       "      <td>0.677256</td>\n",
       "      <td>2015-05-28</td>\n",
       "      <td>69.34</td>\n",
       "    </tr>\n",
       "    <tr>\n",
       "      <th>314</th>\n",
       "      <td>49.52</td>\n",
       "      <td>0.022959</td>\n",
       "      <td>XC268850.ogg</td>\n",
       "      <td>XC268850_49_52</td>\n",
       "      <td>0.005025</td>\n",
       "      <td>ducfly</td>\n",
       "      <td>whwdov bncfly astfly spotow bewwre</td>\n",
       "      <td>123</td>\n",
       "      <td>369 49 14 316 32</td>\n",
       "      <td>501.539875</td>\n",
       "      <td>...</td>\n",
       "      <td>/app/_data/train_short_audio/ducfly/XC268850.ogg</td>\n",
       "      <td>16273276.0</td>\n",
       "      <td>0.500000</td>\n",
       "      <td>-0.866025</td>\n",
       "      <td>-0.944638</td>\n",
       "      <td>-0.328113</td>\n",
       "      <td>31.9060</td>\n",
       "      <td>0.677256</td>\n",
       "      <td>2015-05-28</td>\n",
       "      <td>44.52</td>\n",
       "    </tr>\n",
       "    <tr>\n",
       "      <th>339</th>\n",
       "      <td>121.87</td>\n",
       "      <td>0.019231</td>\n",
       "      <td>XC269452.ogg</td>\n",
       "      <td>XC269452_121_87</td>\n",
       "      <td>0.005000</td>\n",
       "      <td>eawpew</td>\n",
       "      <td>norcar comyel dowwoo carwre norfli indbun eastow</td>\n",
       "      <td>130</td>\n",
       "      <td>218 113 122 83 219 180 129</td>\n",
       "      <td>544.677000</td>\n",
       "      <td>...</td>\n",
       "      <td>/app/_data/train_short_audio/eawpew/XC269452.ogg</td>\n",
       "      <td>17653664.0</td>\n",
       "      <td>-0.500000</td>\n",
       "      <td>-0.866025</td>\n",
       "      <td>-0.974242</td>\n",
       "      <td>0.225505</td>\n",
       "      <td>34.7672</td>\n",
       "      <td>0.693151</td>\n",
       "      <td>2015-07-08</td>\n",
       "      <td>116.87</td>\n",
       "    </tr>\n",
       "    <tr>\n",
       "      <th>366</th>\n",
       "      <td>153.24</td>\n",
       "      <td>0.037190</td>\n",
       "      <td>XC322595.ogg</td>\n",
       "      <td>XC322595_153_24</td>\n",
       "      <td>0.005025</td>\n",
       "      <td>pinsis</td>\n",
       "      <td>cacwre ducfly whwdov gamqua houfin chispa batp...</td>\n",
       "      <td>246</td>\n",
       "      <td>77 123 369 139 175 95 24 218 14 114 187</td>\n",
       "      <td>538.372531</td>\n",
       "      <td>...</td>\n",
       "      <td>/app/_data/train_short_audio/pinsis/XC322595.ogg</td>\n",
       "      <td>17451921.0</td>\n",
       "      <td>0.866025</td>\n",
       "      <td>-0.500000</td>\n",
       "      <td>-0.944638</td>\n",
       "      <td>-0.328113</td>\n",
       "      <td>31.9060</td>\n",
       "      <td>0.677256</td>\n",
       "      <td>2015-04-27</td>\n",
       "      <td>148.24</td>\n",
       "    </tr>\n",
       "    <tr>\n",
       "      <th>...</th>\n",
       "      <td>...</td>\n",
       "      <td>...</td>\n",
       "      <td>...</td>\n",
       "      <td>...</td>\n",
       "      <td>...</td>\n",
       "      <td>...</td>\n",
       "      <td>...</td>\n",
       "      <td>...</td>\n",
       "      <td>...</td>\n",
       "      <td>...</td>\n",
       "      <td>...</td>\n",
       "      <td>...</td>\n",
       "      <td>...</td>\n",
       "      <td>...</td>\n",
       "      <td>...</td>\n",
       "      <td>...</td>\n",
       "      <td>...</td>\n",
       "      <td>...</td>\n",
       "      <td>...</td>\n",
       "      <td>...</td>\n",
       "      <td>...</td>\n",
       "    </tr>\n",
       "    <tr>\n",
       "      <th>417064</th>\n",
       "      <td>506.73</td>\n",
       "      <td>0.022843</td>\n",
       "      <td>XC263260.ogg</td>\n",
       "      <td>XC263260_506_73</td>\n",
       "      <td>0.005000</td>\n",
       "      <td>bulori</td>\n",
       "      <td>cacwre caskin whwdov moudov cubthr houfin acow...</td>\n",
       "      <td>71</td>\n",
       "      <td>77 85 369 211 120 175 1 49 139</td>\n",
       "      <td>587.143156</td>\n",
       "      <td>...</td>\n",
       "      <td>/app/_data/train_short_audio/bulori/XC263260.ogg</td>\n",
       "      <td>19012581.0</td>\n",
       "      <td>-0.500000</td>\n",
       "      <td>-0.866025</td>\n",
       "      <td>-0.944638</td>\n",
       "      <td>-0.328113</td>\n",
       "      <td>31.9060</td>\n",
       "      <td>0.677256</td>\n",
       "      <td>2014-07-21</td>\n",
       "      <td>501.73</td>\n",
       "    </tr>\n",
       "    <tr>\n",
       "      <th>417153</th>\n",
       "      <td>180.00</td>\n",
       "      <td>0.003924</td>\n",
       "      <td>50878_COR_20191004.ogg</td>\n",
       "      <td>50878_COR_180</td>\n",
       "      <td>NaN</td>\n",
       "      <td>NaN</td>\n",
       "      <td>NaN</td>\n",
       "      <td>217</td>\n",
       "      <td>NaN</td>\n",
       "      <td>600.000000</td>\n",
       "      <td>...</td>\n",
       "      <td>/app/_data/train_soundscapes/50878_COR_2019100...</td>\n",
       "      <td>NaN</td>\n",
       "      <td>-0.866025</td>\n",
       "      <td>0.500000</td>\n",
       "      <td>-0.995413</td>\n",
       "      <td>0.095672</td>\n",
       "      <td>10.1200</td>\n",
       "      <td>0.556222</td>\n",
       "      <td>NaN</td>\n",
       "      <td>175.00</td>\n",
       "    </tr>\n",
       "    <tr>\n",
       "      <th>417237</th>\n",
       "      <td>103.23</td>\n",
       "      <td>0.019565</td>\n",
       "      <td>XC608252.ogg</td>\n",
       "      <td>XC608252_103_23</td>\n",
       "      <td>0.005000</td>\n",
       "      <td>normoc</td>\n",
       "      <td>normoc moudov verdin cacwre</td>\n",
       "      <td>220</td>\n",
       "      <td>220 211 345 77</td>\n",
       "      <td>635.277000</td>\n",
       "      <td>...</td>\n",
       "      <td>/app/_data/train_short_audio/normoc/XC608252.ogg</td>\n",
       "      <td>20552864.0</td>\n",
       "      <td>0.500000</td>\n",
       "      <td>-0.866025</td>\n",
       "      <td>-0.944531</td>\n",
       "      <td>-0.328422</td>\n",
       "      <td>31.9570</td>\n",
       "      <td>0.677539</td>\n",
       "      <td>2020-05-01</td>\n",
       "      <td>98.23</td>\n",
       "    </tr>\n",
       "    <tr>\n",
       "      <th>417248</th>\n",
       "      <td>360.00</td>\n",
       "      <td>0.003924</td>\n",
       "      <td>31928_COR_20191004.ogg</td>\n",
       "      <td>31928_COR_360</td>\n",
       "      <td>NaN</td>\n",
       "      <td>NaN</td>\n",
       "      <td>NaN</td>\n",
       "      <td>217</td>\n",
       "      <td>NaN</td>\n",
       "      <td>600.000000</td>\n",
       "      <td>...</td>\n",
       "      <td>/app/_data/train_soundscapes/31928_COR_2019100...</td>\n",
       "      <td>NaN</td>\n",
       "      <td>-0.866025</td>\n",
       "      <td>0.500000</td>\n",
       "      <td>-0.995413</td>\n",
       "      <td>0.095672</td>\n",
       "      <td>10.1200</td>\n",
       "      <td>0.556222</td>\n",
       "      <td>NaN</td>\n",
       "      <td>355.00</td>\n",
       "    </tr>\n",
       "    <tr>\n",
       "      <th>417433</th>\n",
       "      <td>176.67</td>\n",
       "      <td>0.155172</td>\n",
       "      <td>XC558126.ogg</td>\n",
       "      <td>XC558126_176_67</td>\n",
       "      <td>0.005000</td>\n",
       "      <td>greegr</td>\n",
       "      <td>grbher3 daejun</td>\n",
       "      <td>156</td>\n",
       "      <td>154 121</td>\n",
       "      <td>1248.021000</td>\n",
       "      <td>...</td>\n",
       "      <td>/app/_data/train_short_audio/greegr/XC558126.ogg</td>\n",
       "      <td>40160672.0</td>\n",
       "      <td>0.500000</td>\n",
       "      <td>-0.866025</td>\n",
       "      <td>-0.858571</td>\n",
       "      <td>-0.512695</td>\n",
       "      <td>35.3506</td>\n",
       "      <td>0.696392</td>\n",
       "      <td>2020-05-10</td>\n",
       "      <td>171.67</td>\n",
       "    </tr>\n",
       "  </tbody>\n",
       "</table>\n",
       "<p>4612 rows × 22 columns</p>\n",
       "</div>"
      ],
      "text/plain": [
       "        end_sec  class_weights                filename           row_id  \\\n",
       "92       165.00       0.003924  20152_SSW_20170805.ogg    20152_SSW_165   \n",
       "224       74.34       0.022959            XC268850.ogg   XC268850_74_34   \n",
       "314       49.52       0.022959            XC268850.ogg   XC268850_49_52   \n",
       "339      121.87       0.019231            XC269452.ogg  XC269452_121_87   \n",
       "366      153.24       0.037190            XC322595.ogg  XC322595_153_24   \n",
       "...         ...            ...                     ...              ...   \n",
       "417064   506.73       0.022843            XC263260.ogg  XC263260_506_73   \n",
       "417153   180.00       0.003924  50878_COR_20191004.ogg    50878_COR_180   \n",
       "417237   103.23       0.019565            XC608252.ogg  XC608252_103_23   \n",
       "417248   360.00       0.003924  31928_COR_20191004.ogg    31928_COR_360   \n",
       "417433   176.67       0.155172            XC558126.ogg  XC558126_176_67   \n",
       "\n",
       "         weights primary_label  \\\n",
       "92           NaN           NaN   \n",
       "224     0.005025        ducfly   \n",
       "314     0.005025        ducfly   \n",
       "339     0.005000        eawpew   \n",
       "366     0.005025        pinsis   \n",
       "...          ...           ...   \n",
       "417064  0.005000        bulori   \n",
       "417153       NaN           NaN   \n",
       "417237  0.005000        normoc   \n",
       "417248       NaN           NaN   \n",
       "417433  0.005000        greegr   \n",
       "\n",
       "                                         secondary_labels  label_id  \\\n",
       "92                                                    NaN       217   \n",
       "224                    whwdov bncfly astfly spotow bewwre       123   \n",
       "314                    whwdov bncfly astfly spotow bewwre       123   \n",
       "339      norcar comyel dowwoo carwre norfli indbun eastow       130   \n",
       "366     cacwre ducfly whwdov gamqua houfin chispa batp...       246   \n",
       "...                                                   ...       ...   \n",
       "417064  cacwre caskin whwdov moudov cubthr houfin acow...        71   \n",
       "417153                                                NaN       217   \n",
       "417237                        normoc moudov verdin cacwre       220   \n",
       "417248                                                NaN       217   \n",
       "417433                                     grbher3 daejun       156   \n",
       "\n",
       "                            secondary_labels_id     duration  ...  \\\n",
       "92                                          NaN   600.000000  ...   \n",
       "224                            369 49 14 316 32   501.539875  ...   \n",
       "314                            369 49 14 316 32   501.539875  ...   \n",
       "339                  218 113 122 83 219 180 129   544.677000  ...   \n",
       "366     77 123 369 139 175 95 24 218 14 114 187   538.372531  ...   \n",
       "...                                         ...          ...  ...   \n",
       "417064           77 85 369 211 120 175 1 49 139   587.143156  ...   \n",
       "417153                                      NaN   600.000000  ...   \n",
       "417237                           220 211 345 77   635.277000  ...   \n",
       "417248                                      NaN   600.000000  ...   \n",
       "417433                                  154 121  1248.021000  ...   \n",
       "\n",
       "                                                file_path      frames  \\\n",
       "92      /app/_data/train_soundscapes/20152_SSW_2017080...         NaN   \n",
       "224      /app/_data/train_short_audio/ducfly/XC268850.ogg  16273276.0   \n",
       "314      /app/_data/train_short_audio/ducfly/XC268850.ogg  16273276.0   \n",
       "339      /app/_data/train_short_audio/eawpew/XC269452.ogg  17653664.0   \n",
       "366      /app/_data/train_short_audio/pinsis/XC322595.ogg  17451921.0   \n",
       "...                                                   ...         ...   \n",
       "417064   /app/_data/train_short_audio/bulori/XC263260.ogg  19012581.0   \n",
       "417153  /app/_data/train_soundscapes/50878_COR_2019100...         NaN   \n",
       "417237   /app/_data/train_short_audio/normoc/XC608252.ogg  20552864.0   \n",
       "417248  /app/_data/train_soundscapes/31928_COR_2019100...         NaN   \n",
       "417433   /app/_data/train_short_audio/greegr/XC558126.ogg  40160672.0   \n",
       "\n",
       "       sin_month  cos_month  sin_longitude  cos_longitude  latitude  \\\n",
       "92     -0.866025  -0.500000      -0.972166       0.234294   42.4700   \n",
       "224     0.500000  -0.866025      -0.944638      -0.328113   31.9060   \n",
       "314     0.500000  -0.866025      -0.944638      -0.328113   31.9060   \n",
       "339    -0.500000  -0.866025      -0.974242       0.225505   34.7672   \n",
       "366     0.866025  -0.500000      -0.944638      -0.328113   31.9060   \n",
       "...          ...        ...            ...            ...       ...   \n",
       "417064 -0.500000  -0.866025      -0.944638      -0.328113   31.9060   \n",
       "417153 -0.866025   0.500000      -0.995413       0.095672   10.1200   \n",
       "417237  0.500000  -0.866025      -0.944531      -0.328422   31.9570   \n",
       "417248 -0.866025   0.500000      -0.995413       0.095672   10.1200   \n",
       "417433  0.500000  -0.866025      -0.858571      -0.512695   35.3506   \n",
       "\n",
       "        norm_latitude        date  start_sec  \n",
       "92           0.735944         NaN     160.00  \n",
       "224          0.677256  2015-05-28      69.34  \n",
       "314          0.677256  2015-05-28      44.52  \n",
       "339          0.693151  2015-07-08     116.87  \n",
       "366          0.677256  2015-04-27     148.24  \n",
       "...               ...         ...        ...  \n",
       "417064       0.677256  2014-07-21     501.73  \n",
       "417153       0.556222         NaN     175.00  \n",
       "417237       0.677539  2020-05-01      98.23  \n",
       "417248       0.556222         NaN     355.00  \n",
       "417433       0.696392  2020-05-10     171.67  \n",
       "\n",
       "[4612 rows x 22 columns]"
      ]
     },
     "execution_count": 39,
     "metadata": {},
     "output_type": "execute_result"
    }
   ],
   "source": [
    "train[train['duration']>500]"
   ]
  },
  {
   "cell_type": "markdown",
   "metadata": {},
   "source": [
    "# MEL_Gen"
   ]
  },
  {
   "cell_type": "code",
   "execution_count": 40,
   "metadata": {},
   "outputs": [],
   "source": [
    "NUM_CLASSES = len(dict_birds)\n",
    "BATCH_SIZE = 200"
   ]
  },
  {
   "cell_type": "code",
   "execution_count": 41,
   "metadata": {},
   "outputs": [],
   "source": [
    "mel_pr = Mel_Provider(\n",
    "    n_fft=N_FFT,\n",
    "    win_length=WIN_LENGHT,\n",
    "    n_mels=IMG_SIZE,\n",
    "    sample_rate=SAMPLE_RATE,\n",
    "    mel_image_size=IMG_SIZE,\n",
    "    min_frequency=FREQ_MIN,\n",
    "    max_frequency=FREQ_MAX,\n",
    "    signal_lenght=SIGNAL_LENGTH,\n",
    "    hop_length=617\n",
    ")"
   ]
  },
  {
   "cell_type": "code",
   "execution_count": 42,
   "metadata": {},
   "outputs": [],
   "source": [
    "wave=np.load('/app/_data/npy/waves_npy/XC570659.npy')"
   ]
  },
  {
   "cell_type": "code",
   "execution_count": 43,
   "metadata": {},
   "outputs": [
    {
     "data": {
      "text/plain": [
       "5.0"
      ]
     },
     "execution_count": 43,
     "metadata": {},
     "output_type": "execute_result"
    }
   ],
   "source": [
    "mel_pr.msg(wave[:160000]).shape[0]/52"
   ]
  },
  {
   "cell_type": "code",
   "execution_count": 44,
   "metadata": {},
   "outputs": [],
   "source": [
    "# shutil.rmtree('/app/_data/npy/short_mels_260_uint8/', ignore_errors=True)\n",
    "# os.mkdir('/app/_data/npy/short_mels_260_uint8')"
   ]
  },
  {
   "cell_type": "code",
   "execution_count": 45,
   "metadata": {},
   "outputs": [],
   "source": [
    "gen_train = MEL_Gen(\n",
    "    df=train,\n",
    "    n_mels=IMG_SIZE,\n",
    "    seed=SEED,\n",
    "    sample_rate=SAMPLE_RATE,\n",
    "    mel_image_size=IMG_SIZE,\n",
    "    batch_size=BATCH_SIZE,\n",
    "    n_classes=NUM_CLASSES,\n",
    "    signal_lenght=SIGNAL_LENGTH,\n",
    "    mel_provider=mel_pr,\n",
    "    wave_dir=\"/app/_data/npy/waves_npy/\",\n",
    "    short_mel_dir=\"/app/_data/npy/short_mels_260_uint8/\",\n",
    "    convert_to_rgb=True,\n",
    "    shuffle=True,\n",
    "    return_primary_labels=False,\n",
    "    return_concat_labels=True,\n",
    "    augment=False,\n",
    "    img_dtype=\"uint8\",\n",
    "    secondary_coeff=0.3\n",
    ")\n",
    "gen_valid = MEL_Gen(\n",
    "    df=valid,\n",
    "    n_mels=IMG_SIZE,\n",
    "    seed=SEED,\n",
    "    sample_rate=SAMPLE_RATE,\n",
    "    mel_image_size=IMG_SIZE,\n",
    "    batch_size=BATCH_SIZE,\n",
    "    n_classes=NUM_CLASSES,\n",
    "    signal_lenght=SIGNAL_LENGTH,\n",
    "    mel_provider=mel_pr,\n",
    "    wave_dir=\"/app/_data/npy/waves_npy/\",\n",
    "    short_mel_dir=\"/app/_data/npy/short_mels_260_uint8/\",\n",
    "    convert_to_rgb=True,\n",
    "    shuffle=False,\n",
    "    return_primary_labels=False,\n",
    "    return_concat_labels=True,\n",
    "    augment=False,\n",
    "    img_dtype=\"uint8\",\n",
    "    secondary_coeff=0.3\n",
    ")"
   ]
  },
  {
   "cell_type": "code",
   "execution_count": 46,
   "metadata": {},
   "outputs": [],
   "source": [
    "a = gen_train.__getitem__(0)"
   ]
  },
  {
   "cell_type": "code",
   "execution_count": 47,
   "metadata": {},
   "outputs": [
    {
     "data": {
      "text/plain": [
       "<matplotlib.image.AxesImage at 0x7f685e5b2400>"
      ]
     },
     "execution_count": 47,
     "metadata": {},
     "output_type": "execute_result"
    },
    {
     "data": {
      "image/png": "[encoded data removed]",
      "text/plain": [
       "<Figure size 432x288 with 1 Axes>"
      ]
     },
     "metadata": {
      "image/png": {
       "height": 251,
       "width": 259
      },
      "needs_background": "light"
     },
     "output_type": "display_data"
    }
   ],
   "source": [
    "plt.imshow(a[0][0])"
   ]
  },
  {
   "cell_type": "markdown",
   "metadata": {},
   "source": [
    "# model"
   ]
  },
  {
   "cell_type": "code",
   "execution_count": 48,
   "metadata": {},
   "outputs": [
    {
     "name": "stdout",
     "output_type": "stream",
     "text": [
      "INFO:tensorflow:Mixed precision compatibility check (mixed_float16): OK\n",
      "Your GPU will likely run quickly with dtype policy mixed_float16 as it has compute capability of at least 7.0. Your GPU: NVIDIA GeForce RTX 3090, compute capability 8.6\n"
     ]
    }
   ],
   "source": [
    "def get_model():\n",
    "    inputs = keras.Input(shape=(IMG_SIZE, IMG_SIZE, 3))\n",
    "    base_model = keras.applications.EfficientNetB2(\n",
    "        weights=\"imagenet\", include_top=False\n",
    "    )\n",
    "    x = base_model(inputs)\n",
    "    x = keras.layers.GlobalAveragePooling2D(name=\"avg_pool\")(x)\n",
    "    x = keras.layers.Flatten(name=\"flatten\")(x)\n",
    "    outputs = keras.layers.Dense(NUM_CLASSES, activation=\"sigmoid\")(x)\n",
    "    model = keras.Model(inputs=inputs, outputs=outputs)\n",
    "    model.compile(\n",
    "        loss=\"binary_crossentropy\",\n",
    "        optimizer=Adam(lr=0.0005),\n",
    "        metrics=[\n",
    "            \"acc\",\n",
    "            keras.metrics.Recall(),\n",
    "            keras.metrics.Precision(),\n",
    "            tfa.metrics.F1Score(num_classes=NUM_CLASSES, average=\"micro\"),\n",
    "        ],\n",
    "    )\n",
    "    return model\n",
    "\n",
    "\n",
    "policy = keras.mixed_precision.experimental.Policy(\"mixed_float16\")\n",
    "keras.mixed_precision.experimental.set_policy(policy)"
   ]
  },
  {
   "cell_type": "code",
   "execution_count": 49,
   "metadata": {},
   "outputs": [],
   "source": [
    "callbacks = [\n",
    "    keras.callbacks.EarlyStopping(\n",
    "        monitor=\"val_loss\",\n",
    "        patience=12,\n",
    "        restore_best_weights=True,\n",
    "        verbose=1,\n",
    "        mode=\"min\",\n",
    "    ),\n",
    "    keras.callbacks.ModelCheckpoint(\n",
    "        \"/app/_data/models/Eff2_5/Eff2_5.h5\",\n",
    "        monitor=\"val_loss\",\n",
    "        verbose=1,\n",
    "        save_best_only=True,\n",
    "        save_weights_only=False,\n",
    "        mode=\"min\",\n",
    "        save_freq=\"epoch\",\n",
    "    ),\n",
    "    keras.callbacks.ReduceLROnPlateau(\n",
    "        monitor=\"val_loss\",\n",
    "        factor=0.9,\n",
    "        patience=5,\n",
    "        verbose=1,\n",
    "        mode=\"min\",\n",
    "        min_delta=1e-4,\n",
    "        min_lr=0.00000001,\n",
    "    ),\n",
    "    keras.callbacks.TensorBoard(\n",
    "        log_dir=\"/app/.tensorboard/Eff2_5/\", histogram_freq=0\n",
    "    ),\n",
    "    keras.callbacks.experimental.BackupAndRestore(\n",
    "        \"/app/_data/models/Eff2_5/backup/\"\n",
    "    ),\n",
    "    keras.callbacks.TerminateOnNaN(),\n",
    "]"
   ]
  },
  {
   "cell_type": "code",
   "execution_count": 50,
   "metadata": {},
   "outputs": [
    {
     "name": "stdout",
     "output_type": "stream",
     "text": [
      "Epoch 5/100\n",
      "   1/2087 [..............................] - ETA: 10s - loss: 0.0042 - acc: 0.8900 - recall: 0.4853 - precision: 0.9333 - f1_score: 0.7894WARNING:tensorflow:From /usr/local/lib/python3.8/dist-packages/tensorflow/python/ops/summary_ops_v2.py:1277: stop (from tensorflow.python.eager.profiler) is deprecated and will be removed after 2020-07-01.\n",
      "Instructions for updating:\n",
      "use `tf.profiler.experimental.stop` instead.\n",
      "2087/2087 [==============================] - ETA: 0s - loss: 0.0046 - acc: 0.8819 - recall: 0.4485 - precision: 0.9552 - f1_score: 0.7737\n",
      "Epoch 00005: val_loss improved from inf to 0.00408, saving model to /app/_data/models/Eff2_5/Eff2_5.h5\n",
      "2087/2087 [==============================] - 1782s 854ms/step - loss: 0.0046 - acc: 0.8819 - recall: 0.4485 - precision: 0.9552 - f1_score: 0.7737 - val_loss: 0.0041 - val_acc: 0.9050 - val_recall: 0.4777 - val_precision: 0.9575 - val_f1_score: 0.7918\n",
      "Epoch 6/100\n",
      "2087/2087 [==============================] - ETA: 0s - loss: 0.0038 - acc: 0.9206 - recall: 0.4815 - precision: 0.9689 - f1_score: 0.8052\n",
      "Epoch 00006: val_loss improved from 0.00408 to 0.00377, saving model to /app/_data/models/Eff2_5/Eff2_5.h5\n",
      "2087/2087 [==============================] - 1045s 501ms/step - loss: 0.0038 - acc: 0.9206 - recall: 0.4815 - precision: 0.9689 - f1_score: 0.8052 - val_loss: 0.0038 - val_acc: 0.9188 - val_recall: 0.4956 - val_precision: 0.9631 - val_f1_score: 0.8032\n",
      "Epoch 7/100\n",
      "2087/2087 [==============================] - ETA: 0s - loss: 0.0034 - acc: 0.9414 - recall: 0.5016 - precision: 0.9764 - f1_score: 0.8217\n",
      "Epoch 00007: val_loss improved from 0.00377 to 0.00357, saving model to /app/_data/models/Eff2_5/Eff2_5.h5\n",
      "2087/2087 [==============================] - 1077s 516ms/step - loss: 0.0034 - acc: 0.9414 - recall: 0.5016 - precision: 0.9764 - f1_score: 0.8217 - val_loss: 0.0036 - val_acc: 0.9267 - val_recall: 0.5069 - val_precision: 0.9672 - val_f1_score: 0.8095\n",
      "Epoch 8/100\n",
      "2087/2087 [==============================] - ETA: 0s - loss: 0.0031 - acc: 0.9544 - recall: 0.5145 - precision: 0.9809 - f1_score: 0.8319\n",
      "Epoch 00008: val_loss improved from 0.00357 to 0.00345, saving model to /app/_data/models/Eff2_5/Eff2_5.h5\n",
      "2087/2087 [==============================] - 1076s 516ms/step - loss: 0.0031 - acc: 0.9544 - recall: 0.5145 - precision: 0.9809 - f1_score: 0.8319 - val_loss: 0.0035 - val_acc: 0.9328 - val_recall: 0.5212 - val_precision: 0.9671 - val_f1_score: 0.8141\n",
      "Epoch 9/100\n",
      "2087/2087 [==============================] - ETA: 0s - loss: 0.0030 - acc: 0.9630 - recall: 0.5236 - precision: 0.9843 - f1_score: 0.8386\n",
      "Epoch 00009: val_loss improved from 0.00345 to 0.00340, saving model to /app/_data/models/Eff2_5/Eff2_5.h5\n",
      "2087/2087 [==============================] - 1045s 501ms/step - loss: 0.0030 - acc: 0.9630 - recall: 0.5236 - precision: 0.9843 - f1_score: 0.8386 - val_loss: 0.0034 - val_acc: 0.9361 - val_recall: 0.5341 - val_precision: 0.9641 - val_f1_score: 0.8165\n",
      "Epoch 10/100\n",
      "2087/2087 [==============================] - ETA: 0s - loss: 0.0028 - acc: 0.9693 - recall: 0.5302 - precision: 0.9867 - f1_score: 0.8435\n",
      "Epoch 00010: val_loss improved from 0.00340 to 0.00317, saving model to /app/_data/models/Eff2_5/Eff2_5.h5\n",
      "2087/2087 [==============================] - 1054s 505ms/step - loss: 0.0028 - acc: 0.9693 - recall: 0.5302 - precision: 0.9867 - f1_score: 0.8435 - val_loss: 0.0032 - val_acc: 0.9448 - val_recall: 0.5310 - val_precision: 0.9734 - val_f1_score: 0.8236\n",
      "Epoch 11/100\n",
      "2087/2087 [==============================] - ETA: 0s - loss: 0.0027 - acc: 0.9743 - recall: 0.5345 - precision: 0.9887 - f1_score: 0.8472\n",
      "Epoch 00011: val_loss did not improve from 0.00317\n",
      "2087/2087 [==============================] - 1057s 507ms/step - loss: 0.0027 - acc: 0.9743 - recall: 0.5345 - precision: 0.9887 - f1_score: 0.8472 - val_loss: 0.0032 - val_acc: 0.9436 - val_recall: 0.5359 - val_precision: 0.9731 - val_f1_score: 0.8226\n",
      "Epoch 12/100\n",
      "2087/2087 [==============================] - ETA: 0s - loss: 0.0026 - acc: 0.9777 - recall: 0.5375 - precision: 0.9901 - f1_score: 0.8496\n",
      "Epoch 00012: val_loss improved from 0.00317 to 0.00304, saving model to /app/_data/models/Eff2_5/Eff2_5.h5\n",
      "2087/2087 [==============================] - 1062s 509ms/step - loss: 0.0026 - acc: 0.9777 - recall: 0.5375 - precision: 0.9901 - f1_score: 0.8496 - val_loss: 0.0030 - val_acc: 0.9492 - val_recall: 0.5305 - val_precision: 0.9771 - val_f1_score: 0.8271\n",
      "Epoch 13/100\n",
      "2087/2087 [==============================] - ETA: 0s - loss: 0.0025 - acc: 0.9805 - recall: 0.5396 - precision: 0.9913 - f1_score: 0.8517\n",
      "Epoch 00013: val_loss improved from 0.00304 to 0.00303, saving model to /app/_data/models/Eff2_5/Eff2_5.h5\n",
      "2087/2087 [==============================] - 1056s 506ms/step - loss: 0.0025 - acc: 0.9805 - recall: 0.5396 - precision: 0.9913 - f1_score: 0.8517 - val_loss: 0.0030 - val_acc: 0.9504 - val_recall: 0.5374 - val_precision: 0.9768 - val_f1_score: 0.8277\n",
      "Epoch 14/100\n",
      "2087/2087 [==============================] - ETA: 0s - loss: 0.0025 - acc: 0.9829 - recall: 0.5417 - precision: 0.9920 - f1_score: 0.8534\n",
      "Epoch 00014: val_loss improved from 0.00303 to 0.00294, saving model to /app/_data/models/Eff2_5/Eff2_5.h5\n",
      "2087/2087 [==============================] - 1069s 512ms/step - loss: 0.0025 - acc: 0.9829 - recall: 0.5417 - precision: 0.9920 - f1_score: 0.8534 - val_loss: 0.0029 - val_acc: 0.9528 - val_recall: 0.5491 - val_precision: 0.9776 - val_f1_score: 0.8297\n",
      "Epoch 15/100\n",
      "2087/2087 [==============================] - ETA: 0s - loss: 0.0024 - acc: 0.9847 - recall: 0.5427 - precision: 0.9928 - f1_score: 0.8548\n",
      "Epoch 00015: val_loss did not improve from 0.00294\n",
      "2087/2087 [==============================] - 1078s 516ms/step - loss: 0.0024 - acc: 0.9847 - recall: 0.5427 - precision: 0.9928 - f1_score: 0.8548 - val_loss: 0.0030 - val_acc: 0.9512 - val_recall: 0.5345 - val_precision: 0.9773 - val_f1_score: 0.8284\n",
      "Epoch 16/100\n",
      "2087/2087 [==============================] - ETA: 0s - loss: 0.0024 - acc: 0.9860 - recall: 0.5431 - precision: 0.9934 - f1_score: 0.8557\n",
      "Epoch 00016: val_loss improved from 0.00294 to 0.00289, saving model to /app/_data/models/Eff2_5/Eff2_5.h5\n",
      "2087/2087 [==============================] - 1064s 510ms/step - loss: 0.0024 - acc: 0.9860 - recall: 0.5431 - precision: 0.9934 - f1_score: 0.8557 - val_loss: 0.0029 - val_acc: 0.9554 - val_recall: 0.5393 - val_precision: 0.9804 - val_f1_score: 0.8316\n",
      "Epoch 17/100\n",
      "2087/2087 [==============================] - ETA: 0s - loss: 0.0023 - acc: 0.9875 - recall: 0.5439 - precision: 0.9941 - f1_score: 0.8568\n",
      "Epoch 00017: val_loss improved from 0.00289 to 0.00285, saving model to /app/_data/models/Eff2_5/Eff2_5.h5\n",
      "2087/2087 [==============================] - 1077s 516ms/step - loss: 0.0023 - acc: 0.9875 - recall: 0.5439 - precision: 0.9941 - f1_score: 0.8568 - val_loss: 0.0029 - val_acc: 0.9566 - val_recall: 0.5513 - val_precision: 0.9804 - val_f1_score: 0.8322\n",
      "Epoch 18/100\n",
      "2087/2087 [==============================] - ETA: 0s - loss: 0.0023 - acc: 0.9886 - recall: 0.5438 - precision: 0.9946 - f1_score: 0.8575\n",
      "Epoch 00018: val_loss improved from 0.00285 to 0.00281, saving model to /app/_data/models/Eff2_5/Eff2_5.h5\n",
      "2087/2087 [==============================] - 1069s 512ms/step - loss: 0.0023 - acc: 0.9886 - recall: 0.5438 - precision: 0.9946 - f1_score: 0.8575 - val_loss: 0.0028 - val_acc: 0.9578 - val_recall: 0.5348 - val_precision: 0.9817 - val_f1_score: 0.8334\n",
      "Epoch 19/100\n",
      "2087/2087 [==============================] - ETA: 0s - loss: 0.0023 - acc: 0.9898 - recall: 0.5439 - precision: 0.9950 - f1_score: 0.8584\n",
      "Epoch 00019: val_loss improved from 0.00281 to 0.00280, saving model to /app/_data/models/Eff2_5/Eff2_5.h5\n",
      "2087/2087 [==============================] - 1085s 520ms/step - loss: 0.0023 - acc: 0.9898 - recall: 0.5439 - precision: 0.9950 - f1_score: 0.8584 - val_loss: 0.0028 - val_acc: 0.9587 - val_recall: 0.5539 - val_precision: 0.9809 - val_f1_score: 0.8339\n",
      "Epoch 20/100\n",
      "2087/2087 [==============================] - ETA: 0s - loss: 0.0022 - acc: 0.9902 - recall: 0.5437 - precision: 0.9951 - f1_score: 0.8587\n",
      "Epoch 00020: val_loss improved from 0.00280 to 0.00278, saving model to /app/_data/models/Eff2_5/Eff2_5.h5\n",
      "2087/2087 [==============================] - 1070s 513ms/step - loss: 0.0022 - acc: 0.9902 - recall: 0.5437 - precision: 0.9951 - f1_score: 0.8587 - val_loss: 0.0028 - val_acc: 0.9591 - val_recall: 0.5484 - val_precision: 0.9810 - val_f1_score: 0.8342\n",
      "Epoch 21/100\n",
      "2087/2087 [==============================] - ETA: 0s - loss: 0.0022 - acc: 0.9907 - recall: 0.5435 - precision: 0.9955 - f1_score: 0.8590\n",
      "Epoch 00021: val_loss improved from 0.00278 to 0.00275, saving model to /app/_data/models/Eff2_5/Eff2_5.h5\n",
      "2087/2087 [==============================] - 1070s 513ms/step - loss: 0.0022 - acc: 0.9907 - recall: 0.5435 - precision: 0.9955 - f1_score: 0.8590 - val_loss: 0.0027 - val_acc: 0.9612 - val_recall: 0.5591 - val_precision: 0.9817 - val_f1_score: 0.8359\n",
      "Epoch 22/100\n",
      "2087/2087 [==============================] - ETA: 0s - loss: 0.0022 - acc: 0.9915 - recall: 0.5433 - precision: 0.9956 - f1_score: 0.8596\n",
      "Epoch 00022: val_loss did not improve from 0.00275\n",
      "2087/2087 [==============================] - 1079s 517ms/step - loss: 0.0022 - acc: 0.9915 - recall: 0.5433 - precision: 0.9956 - f1_score: 0.8596 - val_loss: 0.0028 - val_acc: 0.9599 - val_recall: 0.5436 - val_precision: 0.9832 - val_f1_score: 0.8350\n",
      "Epoch 23/100\n",
      "2087/2087 [==============================] - ETA: 0s - loss: 0.0022 - acc: 0.9918 - recall: 0.5430 - precision: 0.9959 - f1_score: 0.8598\n",
      "Epoch 00023: val_loss improved from 0.00275 to 0.00269, saving model to /app/_data/models/Eff2_5/Eff2_5.h5\n",
      "2087/2087 [==============================] - 1080s 517ms/step - loss: 0.0022 - acc: 0.9918 - recall: 0.5430 - precision: 0.9959 - f1_score: 0.8598 - val_loss: 0.0027 - val_acc: 0.9618 - val_recall: 0.5638 - val_precision: 0.9841 - val_f1_score: 0.8364\n",
      "Epoch 24/100\n",
      "2087/2087 [==============================] - ETA: 0s - loss: 0.0021 - acc: 0.9925 - recall: 0.5421 - precision: 0.9959 - f1_score: 0.8603\n",
      "Epoch 00024: val_loss improved from 0.00269 to 0.00268, saving model to /app/_data/models/Eff2_5/Eff2_5.h5\n",
      "2087/2087 [==============================] - 1070s 513ms/step - loss: 0.0021 - acc: 0.9925 - recall: 0.5421 - precision: 0.9959 - f1_score: 0.8603 - val_loss: 0.0027 - val_acc: 0.9631 - val_recall: 0.5413 - val_precision: 0.9835 - val_f1_score: 0.8372\n",
      "Epoch 25/100\n",
      "2087/2087 [==============================] - ETA: 0s - loss: 0.0021 - acc: 0.9929 - recall: 0.5419 - precision: 0.9963 - f1_score: 0.8606\n",
      "Epoch 00025: val_loss did not improve from 0.00268\n",
      "2087/2087 [==============================] - 1078s 517ms/step - loss: 0.0021 - acc: 0.9929 - recall: 0.5419 - precision: 0.9963 - f1_score: 0.8606 - val_loss: 0.0028 - val_acc: 0.9593 - val_recall: 0.5531 - val_precision: 0.9818 - val_f1_score: 0.8345\n",
      "Epoch 26/100\n",
      "2087/2087 [==============================] - ETA: 0s - loss: 0.0021 - acc: 0.9937 - recall: 0.5414 - precision: 0.9965 - f1_score: 0.8612\n",
      "Epoch 00026: val_loss did not improve from 0.00268\n",
      "2087/2087 [==============================] - 1081s 518ms/step - loss: 0.0021 - acc: 0.9937 - recall: 0.5414 - precision: 0.9965 - f1_score: 0.8612 - val_loss: 0.0027 - val_acc: 0.9623 - val_recall: 0.5441 - val_precision: 0.9839 - val_f1_score: 0.8364\n",
      "Epoch 27/100\n",
      "2087/2087 [==============================] - ETA: 0s - loss: 0.0021 - acc: 0.9937 - recall: 0.5406 - precision: 0.9965 - f1_score: 0.8611\n",
      "Epoch 00027: val_loss improved from 0.00268 to 0.00267, saving model to /app/_data/models/Eff2_5/Eff2_5.h5\n",
      "2087/2087 [==============================] - 1038s 497ms/step - loss: 0.0021 - acc: 0.9937 - recall: 0.5406 - precision: 0.9965 - f1_score: 0.8611 - val_loss: 0.0027 - val_acc: 0.9637 - val_recall: 0.5401 - val_precision: 0.9854 - val_f1_score: 0.8376\n",
      "Epoch 28/100\n",
      "2087/2087 [==============================] - ETA: 0s - loss: 0.0021 - acc: 0.9940 - recall: 0.5403 - precision: 0.9968 - f1_score: 0.8613\n",
      "Epoch 00028: val_loss improved from 0.00267 to 0.00264, saving model to /app/_data/models/Eff2_5/Eff2_5.h5\n",
      "2087/2087 [==============================] - 1025s 491ms/step - loss: 0.0021 - acc: 0.9940 - recall: 0.5403 - precision: 0.9968 - f1_score: 0.8613 - val_loss: 0.0026 - val_acc: 0.9634 - val_recall: 0.5350 - val_precision: 0.9850 - val_f1_score: 0.8373\n",
      "Epoch 29/100\n",
      "2087/2087 [==============================] - ETA: 0s - loss: 0.0020 - acc: 0.9945 - recall: 0.5398 - precision: 0.9970 - f1_score: 0.8617\n",
      "Epoch 00029: val_loss improved from 0.00264 to 0.00260, saving model to /app/_data/models/Eff2_5/Eff2_5.h5\n",
      "\n",
      "Epoch 00029: ReduceLROnPlateau reducing learning rate to 0.0004500000213738531.\n",
      "2087/2087 [==============================] - 1022s 490ms/step - loss: 0.0020 - acc: 0.9945 - recall: 0.5398 - precision: 0.9970 - f1_score: 0.8617 - val_loss: 0.0026 - val_acc: 0.9651 - val_recall: 0.5463 - val_precision: 0.9848 - val_f1_score: 0.8386\n",
      "Epoch 30/100\n",
      "2087/2087 [==============================] - ETA: 0s - loss: 0.0020 - acc: 0.9957 - recall: 0.5374 - precision: 0.9975 - f1_score: 0.8626\n",
      "Epoch 00030: val_loss improved from 0.00260 to 0.00251, saving model to /app/_data/models/Eff2_5/Eff2_5.h5\n",
      "2087/2087 [==============================] - 1020s 489ms/step - loss: 0.0020 - acc: 0.9957 - recall: 0.5374 - precision: 0.9975 - f1_score: 0.8626 - val_loss: 0.0025 - val_acc: 0.9687 - val_recall: 0.5480 - val_precision: 0.9867 - val_f1_score: 0.8415\n",
      "Epoch 31/100\n",
      "2087/2087 [==============================] - ETA: 0s - loss: 0.0020 - acc: 0.9959 - recall: 0.5364 - precision: 0.9976 - f1_score: 0.8627\n",
      "Epoch 00031: val_loss did not improve from 0.00251\n",
      "2087/2087 [==============================] - 1037s 497ms/step - loss: 0.0020 - acc: 0.9959 - recall: 0.5364 - precision: 0.9976 - f1_score: 0.8627 - val_loss: 0.0026 - val_acc: 0.9671 - val_recall: 0.5524 - val_precision: 0.9870 - val_f1_score: 0.8402\n",
      "Epoch 32/100\n",
      "2087/2087 [==============================] - ETA: 0s - loss: 0.0020 - acc: 0.9959 - recall: 0.5363 - precision: 0.9977 - f1_score: 0.8626\n",
      "Epoch 00032: val_loss did not improve from 0.00251\n",
      "2087/2087 [==============================] - 1019s 488ms/step - loss: 0.0020 - acc: 0.9959 - recall: 0.5363 - precision: 0.9977 - f1_score: 0.8626 - val_loss: 0.0026 - val_acc: 0.9671 - val_recall: 0.5552 - val_precision: 0.9852 - val_f1_score: 0.8401\n",
      "Epoch 33/100\n",
      "2087/2087 [==============================] - ETA: 0s - loss: 0.0020 - acc: 0.9962 - recall: 0.5353 - precision: 0.9979 - f1_score: 0.8630\n",
      "Epoch 00033: val_loss did not improve from 0.00251\n",
      "2087/2087 [==============================] - 1034s 496ms/step - loss: 0.0020 - acc: 0.9962 - recall: 0.5353 - precision: 0.9979 - f1_score: 0.8630 - val_loss: 0.0025 - val_acc: 0.9675 - val_recall: 0.5547 - val_precision: 0.9866 - val_f1_score: 0.8404\n",
      "Epoch 34/100\n",
      "2087/2087 [==============================] - ETA: 0s - loss: 0.0019 - acc: 0.9965 - recall: 0.5349 - precision: 0.9979 - f1_score: 0.8632\n",
      "Epoch 00034: val_loss did not improve from 0.00251\n",
      "2087/2087 [==============================] - 1014s 486ms/step - loss: 0.0019 - acc: 0.9965 - recall: 0.5349 - precision: 0.9979 - f1_score: 0.8632 - val_loss: 0.0025 - val_acc: 0.9688 - val_recall: 0.5519 - val_precision: 0.9869 - val_f1_score: 0.8414\n",
      "Epoch 35/100\n",
      "2087/2087 [==============================] - ETA: 0s - loss: 0.0019 - acc: 0.9965 - recall: 0.5345 - precision: 0.9978 - f1_score: 0.8631\n",
      "Epoch 00035: val_loss did not improve from 0.00251\n",
      "\n",
      "Epoch 00035: ReduceLROnPlateau reducing learning rate to 0.0004050000192364678.\n",
      "2087/2087 [==============================] - 1021s 489ms/step - loss: 0.0019 - acc: 0.9965 - recall: 0.5345 - precision: 0.9978 - f1_score: 0.8631 - val_loss: 0.0025 - val_acc: 0.9676 - val_recall: 0.5411 - val_precision: 0.9869 - val_f1_score: 0.8406\n",
      "Epoch 36/100\n",
      "2087/2087 [==============================] - ETA: 0s - loss: 0.0019 - acc: 0.9972 - recall: 0.5313 - precision: 0.9983 - f1_score: 0.8637\n",
      "Epoch 00036: val_loss improved from 0.00251 to 0.00244, saving model to /app/_data/models/Eff2_5/Eff2_5.h5\n",
      "2087/2087 [==============================] - 1018s 488ms/step - loss: 0.0019 - acc: 0.9972 - recall: 0.5313 - precision: 0.9983 - f1_score: 0.8637 - val_loss: 0.0024 - val_acc: 0.9709 - val_recall: 0.5413 - val_precision: 0.9886 - val_f1_score: 0.8430\n",
      "Epoch 37/100\n",
      "2087/2087 [==============================] - ETA: 0s - loss: 0.0019 - acc: 0.9974 - recall: 0.5304 - precision: 0.9984 - f1_score: 0.8638\n",
      "Epoch 00037: val_loss improved from 0.00244 to 0.00244, saving model to /app/_data/models/Eff2_5/Eff2_5.h5\n",
      "2087/2087 [==============================] - 1009s 483ms/step - loss: 0.0019 - acc: 0.9974 - recall: 0.5304 - precision: 0.9984 - f1_score: 0.8638 - val_loss: 0.0024 - val_acc: 0.9716 - val_recall: 0.5536 - val_precision: 0.9880 - val_f1_score: 0.8435\n",
      "Epoch 38/100\n",
      "2087/2087 [==============================] - ETA: 0s - loss: 0.0019 - acc: 0.9974 - recall: 0.5298 - precision: 0.9984 - f1_score: 0.8637\n",
      "Epoch 00038: val_loss did not improve from 0.00244\n",
      "2087/2087 [==============================] - 1023s 490ms/step - loss: 0.0019 - acc: 0.9974 - recall: 0.5298 - precision: 0.9984 - f1_score: 0.8637 - val_loss: 0.0025 - val_acc: 0.9698 - val_recall: 0.5362 - val_precision: 0.9878 - val_f1_score: 0.8422\n",
      "Epoch 39/100\n",
      "2087/2087 [==============================] - ETA: 0s - loss: 0.0019 - acc: 0.9976 - recall: 0.5294 - precision: 0.9985 - f1_score: 0.8639\n",
      "Epoch 00039: val_loss did not improve from 0.00244\n",
      "2087/2087 [==============================] - 1022s 490ms/step - loss: 0.0019 - acc: 0.9976 - recall: 0.5294 - precision: 0.9985 - f1_score: 0.8639 - val_loss: 0.0025 - val_acc: 0.9700 - val_recall: 0.5531 - val_precision: 0.9875 - val_f1_score: 0.8423\n",
      "Epoch 40/100\n",
      "2087/2087 [==============================] - ETA: 0s - loss: 0.0019 - acc: 0.9977 - recall: 0.5287 - precision: 0.9985 - f1_score: 0.8640\n",
      "Epoch 00040: val_loss improved from 0.00244 to 0.00241, saving model to /app/_data/models/Eff2_5/Eff2_5.h5\n",
      "2087/2087 [==============================] - 1009s 483ms/step - loss: 0.0019 - acc: 0.9977 - recall: 0.5287 - precision: 0.9985 - f1_score: 0.8640 - val_loss: 0.0024 - val_acc: 0.9729 - val_recall: 0.5461 - val_precision: 0.9884 - val_f1_score: 0.8444\n",
      "Epoch 41/100\n",
      "2087/2087 [==============================] - ETA: 0s - loss: 0.0019 - acc: 0.9977 - recall: 0.5282 - precision: 0.9986 - f1_score: 0.8639\n",
      "Epoch 00041: val_loss did not improve from 0.00241\n",
      "2087/2087 [==============================] - 1032s 495ms/step - loss: 0.0019 - acc: 0.9977 - recall: 0.5282 - precision: 0.9986 - f1_score: 0.8639 - val_loss: 0.0025 - val_acc: 0.9709 - val_recall: 0.5489 - val_precision: 0.9879 - val_f1_score: 0.8429\n",
      "Epoch 42/100\n",
      "2087/2087 [==============================] - ETA: 0s - loss: 0.0019 - acc: 0.9978 - recall: 0.5276 - precision: 0.9986 - f1_score: 0.8640\n",
      "Epoch 00042: val_loss did not improve from 0.00241\n",
      "2087/2087 [==============================] - 1063s 509ms/step - loss: 0.0019 - acc: 0.9978 - recall: 0.5276 - precision: 0.9986 - f1_score: 0.8640 - val_loss: 0.0024 - val_acc: 0.9717 - val_recall: 0.5601 - val_precision: 0.9879 - val_f1_score: 0.8436\n",
      "Epoch 43/100\n",
      "2087/2087 [==============================] - ETA: 0s - loss: 0.0019 - acc: 0.9978 - recall: 0.5271 - precision: 0.9986 - f1_score: 0.8641\n",
      "Epoch 00043: val_loss did not improve from 0.00241\n",
      "2087/2087 [==============================] - 1023s 490ms/step - loss: 0.0019 - acc: 0.9978 - recall: 0.5271 - precision: 0.9986 - f1_score: 0.8641 - val_loss: 0.0024 - val_acc: 0.9716 - val_recall: 0.5476 - val_precision: 0.9886 - val_f1_score: 0.8435\n",
      "Epoch 44/100\n",
      "2087/2087 [==============================] - ETA: 0s - loss: 0.0019 - acc: 0.9981 - recall: 0.5267 - precision: 0.9986 - f1_score: 0.8642\n",
      "Epoch 00044: val_loss did not improve from 0.00241\n",
      "2087/2087 [==============================] - 1050s 503ms/step - loss: 0.0019 - acc: 0.9981 - recall: 0.5267 - precision: 0.9986 - f1_score: 0.8642 - val_loss: 0.0025 - val_acc: 0.9704 - val_recall: 0.5500 - val_precision: 0.9878 - val_f1_score: 0.8425\n",
      "Epoch 45/100\n",
      "2087/2087 [==============================] - ETA: 0s - loss: 0.0018 - acc: 0.9980 - recall: 0.5261 - precision: 0.9987 - f1_score: 0.8642\n",
      "Epoch 00045: val_loss improved from 0.00241 to 0.00240, saving model to /app/_data/models/Eff2_5/Eff2_5.h5\n",
      "\n",
      "Epoch 00045: ReduceLROnPlateau reducing learning rate to 0.0003645000251708552.\n",
      "2087/2087 [==============================] - 1036s 496ms/step - loss: 0.0018 - acc: 0.9980 - recall: 0.5261 - precision: 0.9987 - f1_score: 0.8642 - val_loss: 0.0024 - val_acc: 0.9717 - val_recall: 0.5313 - val_precision: 0.9887 - val_f1_score: 0.8435\n",
      "Epoch 46/100\n",
      "2087/2087 [==============================] - ETA: 0s - loss: 0.0018 - acc: 0.9984 - recall: 0.5234 - precision: 0.9990 - f1_score: 0.8645\n",
      "Epoch 00046: val_loss improved from 0.00240 to 0.00240, saving model to /app/_data/models/Eff2_5/Eff2_5.h5\n",
      "2087/2087 [==============================] - 1049s 503ms/step - loss: 0.0018 - acc: 0.9984 - recall: 0.5234 - precision: 0.9990 - f1_score: 0.8645 - val_loss: 0.0024 - val_acc: 0.9732 - val_recall: 0.5545 - val_precision: 0.9891 - val_f1_score: 0.8447\n",
      "Epoch 47/100\n",
      "2087/2087 [==============================] - ETA: 0s - loss: 0.0018 - acc: 0.9983 - recall: 0.5226 - precision: 0.9990 - f1_score: 0.8644\n",
      "Epoch 00047: val_loss improved from 0.00240 to 0.00237, saving model to /app/_data/models/Eff2_5/Eff2_5.h5\n",
      "2087/2087 [==============================] - 1035s 496ms/step - loss: 0.0018 - acc: 0.9983 - recall: 0.5226 - precision: 0.9990 - f1_score: 0.8644 - val_loss: 0.0024 - val_acc: 0.9732 - val_recall: 0.5378 - val_precision: 0.9895 - val_f1_score: 0.8447\n",
      "Epoch 48/100\n",
      "2087/2087 [==============================] - ETA: 0s - loss: 0.0018 - acc: 0.9984 - recall: 0.5222 - precision: 0.9989 - f1_score: 0.8644\n",
      "Epoch 00048: val_loss did not improve from 0.00237\n",
      "2087/2087 [==============================] - 1050s 503ms/step - loss: 0.0018 - acc: 0.9984 - recall: 0.5222 - precision: 0.9989 - f1_score: 0.8644 - val_loss: 0.0024 - val_acc: 0.9730 - val_recall: 0.5516 - val_precision: 0.9888 - val_f1_score: 0.8445\n",
      "Epoch 49/100\n",
      "2087/2087 [==============================] - ETA: 0s - loss: 0.0018 - acc: 0.9985 - recall: 0.5219 - precision: 0.9990 - f1_score: 0.8645\n",
      "Epoch 00049: val_loss did not improve from 0.00237\n",
      "2087/2087 [==============================] - 1081s 518ms/step - loss: 0.0018 - acc: 0.9985 - recall: 0.5219 - precision: 0.9990 - f1_score: 0.8645 - val_loss: 0.0024 - val_acc: 0.9725 - val_recall: 0.5359 - val_precision: 0.9888 - val_f1_score: 0.8440\n",
      "Epoch 50/100\n",
      "2087/2087 [==============================] - ETA: 0s - loss: 0.0018 - acc: 0.9986 - recall: 0.5212 - precision: 0.9989 - f1_score: 0.8646\n",
      "Epoch 00050: val_loss did not improve from 0.00237\n",
      "\n",
      "Epoch 00050: ReduceLROnPlateau reducing learning rate to 0.0003280500357504934.\n",
      "2087/2087 [==============================] - 1080s 518ms/step - loss: 0.0018 - acc: 0.9986 - recall: 0.5212 - precision: 0.9989 - f1_score: 0.8646 - val_loss: 0.0024 - val_acc: 0.9724 - val_recall: 0.5383 - val_precision: 0.9883 - val_f1_score: 0.8439\n",
      "Epoch 51/100\n",
      "2087/2087 [==============================] - ETA: 0s - loss: 0.0018 - acc: 0.9988 - recall: 0.5187 - precision: 0.9992 - f1_score: 0.8647\n",
      "Epoch 00051: val_loss improved from 0.00237 to 0.00237, saving model to /app/_data/models/Eff2_5/Eff2_5.h5\n",
      "2087/2087 [==============================] - 1095s 525ms/step - loss: 0.0018 - acc: 0.9988 - recall: 0.5187 - precision: 0.9992 - f1_score: 0.8647 - val_loss: 0.0024 - val_acc: 0.9741 - val_recall: 0.5486 - val_precision: 0.9895 - val_f1_score: 0.8453\n",
      "Epoch 52/100\n",
      "2087/2087 [==============================] - ETA: 0s - loss: 0.0018 - acc: 0.9988 - recall: 0.5179 - precision: 0.9992 - f1_score: 0.8648\n",
      "Epoch 00052: val_loss did not improve from 0.00237\n",
      "2087/2087 [==============================] - 1091s 523ms/step - loss: 0.0018 - acc: 0.9988 - recall: 0.5179 - precision: 0.9992 - f1_score: 0.8648 - val_loss: 0.0024 - val_acc: 0.9737 - val_recall: 0.5474 - val_precision: 0.9895 - val_f1_score: 0.8450\n",
      "Epoch 53/100\n",
      "2087/2087 [==============================] - ETA: 0s - loss: 0.0018 - acc: 0.9989 - recall: 0.5175 - precision: 0.9993 - f1_score: 0.8648\n",
      "Epoch 00053: val_loss improved from 0.00237 to 0.00236, saving model to /app/_data/models/Eff2_5/Eff2_5.h5\n",
      "2087/2087 [==============================] - 1056s 506ms/step - loss: 0.0018 - acc: 0.9989 - recall: 0.5175 - precision: 0.9993 - f1_score: 0.8648 - val_loss: 0.0024 - val_acc: 0.9741 - val_recall: 0.5347 - val_precision: 0.9896 - val_f1_score: 0.8453\n",
      "Epoch 54/100\n",
      "2087/2087 [==============================] - ETA: 0s - loss: 0.0018 - acc: 0.9990 - recall: 0.5170 - precision: 0.9993 - f1_score: 0.8649\n",
      "Epoch 00054: val_loss improved from 0.00236 to 0.00235, saving model to /app/_data/models/Eff2_5/Eff2_5.h5\n",
      "2087/2087 [==============================] - 1059s 507ms/step - loss: 0.0018 - acc: 0.9990 - recall: 0.5170 - precision: 0.9993 - f1_score: 0.8649 - val_loss: 0.0024 - val_acc: 0.9741 - val_recall: 0.5428 - val_precision: 0.9898 - val_f1_score: 0.8453\n",
      "Epoch 55/100\n",
      "2087/2087 [==============================] - ETA: 0s - loss: 0.0018 - acc: 0.9990 - recall: 0.5163 - precision: 0.9994 - f1_score: 0.8649\n",
      "Epoch 00055: val_loss did not improve from 0.00235\n",
      "\n",
      "Epoch 00055: ReduceLROnPlateau reducing learning rate to 0.00029524502169806513.\n",
      "2087/2087 [==============================] - 1056s 506ms/step - loss: 0.0018 - acc: 0.9990 - recall: 0.5163 - precision: 0.9994 - f1_score: 0.8649 - val_loss: 0.0024 - val_acc: 0.9738 - val_recall: 0.5372 - val_precision: 0.9899 - val_f1_score: 0.8450\n",
      "Epoch 56/100\n",
      "2087/2087 [==============================] - ETA: 0s - loss: 0.0018 - acc: 0.9991 - recall: 0.5144 - precision: 0.9994 - f1_score: 0.8650\n",
      "Epoch 00056: val_loss did not improve from 0.00235\n",
      "2087/2087 [==============================] - 1055s 506ms/step - loss: 0.0018 - acc: 0.9991 - recall: 0.5144 - precision: 0.9994 - f1_score: 0.8650 - val_loss: 0.0024 - val_acc: 0.9740 - val_recall: 0.5413 - val_precision: 0.9894 - val_f1_score: 0.8452\n",
      "Epoch 57/100\n",
      "2087/2087 [==============================] - ETA: 0s - loss: 0.0018 - acc: 0.9991 - recall: 0.5137 - precision: 0.9993 - f1_score: 0.8650\n",
      "Epoch 00057: val_loss improved from 0.00235 to 0.00232, saving model to /app/_data/models/Eff2_5/Eff2_5.h5\n",
      "2087/2087 [==============================] - 1059s 507ms/step - loss: 0.0018 - acc: 0.9991 - recall: 0.5137 - precision: 0.9993 - f1_score: 0.8650 - val_loss: 0.0023 - val_acc: 0.9748 - val_recall: 0.5312 - val_precision: 0.9899 - val_f1_score: 0.8458\n",
      "Epoch 58/100\n",
      "2087/2087 [==============================] - ETA: 0s - loss: 0.0017 - acc: 0.9992 - recall: 0.5130 - precision: 0.9994 - f1_score: 0.8651\n",
      "Epoch 00058: val_loss improved from 0.00232 to 0.00232, saving model to /app/_data/models/Eff2_5/Eff2_5.h5\n",
      "2087/2087 [==============================] - 1055s 505ms/step - loss: 0.0017 - acc: 0.9992 - recall: 0.5130 - precision: 0.9994 - f1_score: 0.8651 - val_loss: 0.0023 - val_acc: 0.9753 - val_recall: 0.5285 - val_precision: 0.9904 - val_f1_score: 0.8462\n",
      "Epoch 59/100\n",
      "2087/2087 [==============================] - ETA: 0s - loss: 0.0017 - acc: 0.9992 - recall: 0.5128 - precision: 0.9994 - f1_score: 0.8650\n",
      "Epoch 00059: val_loss did not improve from 0.00232\n",
      "2087/2087 [==============================] - 1060s 508ms/step - loss: 0.0017 - acc: 0.9992 - recall: 0.5128 - precision: 0.9994 - f1_score: 0.8650 - val_loss: 0.0024 - val_acc: 0.9742 - val_recall: 0.5357 - val_precision: 0.9901 - val_f1_score: 0.8454\n",
      "Epoch 60/100\n",
      "2087/2087 [==============================] - ETA: 0s - loss: 0.0017 - acc: 0.9992 - recall: 0.5126 - precision: 0.9993 - f1_score: 0.8650\n",
      "Epoch 00060: val_loss improved from 0.00232 to 0.00231, saving model to /app/_data/models/Eff2_5/Eff2_5.h5\n",
      "2087/2087 [==============================] - 1055s 506ms/step - loss: 0.0017 - acc: 0.9992 - recall: 0.5126 - precision: 0.9993 - f1_score: 0.8650 - val_loss: 0.0023 - val_acc: 0.9750 - val_recall: 0.5318 - val_precision: 0.9900 - val_f1_score: 0.8459\n",
      "Epoch 61/100\n",
      "2087/2087 [==============================] - ETA: 0s - loss: 0.0017 - acc: 0.9993 - recall: 0.5119 - precision: 0.9995 - f1_score: 0.8651\n",
      "Epoch 00061: val_loss did not improve from 0.00231\n",
      "2087/2087 [==============================] - 1060s 508ms/step - loss: 0.0017 - acc: 0.9993 - recall: 0.5119 - precision: 0.9995 - f1_score: 0.8651 - val_loss: 0.0023 - val_acc: 0.9748 - val_recall: 0.5401 - val_precision: 0.9898 - val_f1_score: 0.8457\n",
      "Epoch 62/100\n",
      "2087/2087 [==============================] - ETA: 0s - loss: 0.0017 - acc: 0.9993 - recall: 0.5121 - precision: 0.9995 - f1_score: 0.8651\n",
      "Epoch 00062: val_loss did not improve from 0.00231\n",
      "2087/2087 [==============================] - 1055s 506ms/step - loss: 0.0017 - acc: 0.9993 - recall: 0.5121 - precision: 0.9995 - f1_score: 0.8651 - val_loss: 0.0023 - val_acc: 0.9747 - val_recall: 0.5353 - val_precision: 0.9897 - val_f1_score: 0.8457\n",
      "Epoch 63/100\n",
      "2087/2087 [==============================] - ETA: 0s - loss: 0.0017 - acc: 0.9993 - recall: 0.5115 - precision: 0.9995 - f1_score: 0.8651\n",
      "Epoch 00063: val_loss did not improve from 0.00231\n",
      "2087/2087 [==============================] - 1055s 506ms/step - loss: 0.0017 - acc: 0.9993 - recall: 0.5115 - precision: 0.9995 - f1_score: 0.8651 - val_loss: 0.0023 - val_acc: 0.9756 - val_recall: 0.5426 - val_precision: 0.9902 - val_f1_score: 0.8463\n",
      "Epoch 64/100\n",
      "2087/2087 [==============================] - ETA: 0s - loss: 0.0017 - acc: 0.9993 - recall: 0.5114 - precision: 0.9995 - f1_score: 0.8651\n",
      "Epoch 00064: val_loss did not improve from 0.00231\n",
      "2087/2087 [==============================] - 1049s 503ms/step - loss: 0.0017 - acc: 0.9993 - recall: 0.5114 - precision: 0.9995 - f1_score: 0.8651 - val_loss: 0.0024 - val_acc: 0.9741 - val_recall: 0.5332 - val_precision: 0.9891 - val_f1_score: 0.8452\n",
      "Epoch 65/100\n",
      "2087/2087 [==============================] - ETA: 0s - loss: 0.0017 - acc: 0.9993 - recall: 0.5110 - precision: 0.9995 - f1_score: 0.8652\n",
      "Epoch 00065: val_loss did not improve from 0.00231\n",
      "\n",
      "Epoch 00065: ReduceLROnPlateau reducing learning rate to 0.00026572052738629284.\n",
      "2087/2087 [==============================] - 1052s 504ms/step - loss: 0.0017 - acc: 0.9993 - recall: 0.5110 - precision: 0.9995 - f1_score: 0.8652 - val_loss: 0.0023 - val_acc: 0.9753 - val_recall: 0.5257 - val_precision: 0.9904 - val_f1_score: 0.8462\n",
      "Epoch 66/100\n",
      "2087/2087 [==============================] - ETA: 0s - loss: 0.0017 - acc: 0.9994 - recall: 0.5090 - precision: 0.9996 - f1_score: 0.8652\n",
      "Epoch 00066: val_loss did not improve from 0.00231\n",
      "2087/2087 [==============================] - 1051s 504ms/step - loss: 0.0017 - acc: 0.9994 - recall: 0.5090 - precision: 0.9996 - f1_score: 0.8652 - val_loss: 0.0023 - val_acc: 0.9762 - val_recall: 0.5327 - val_precision: 0.9904 - val_f1_score: 0.8468\n",
      "Epoch 67/100\n",
      "2087/2087 [==============================] - ETA: 0s - loss: 0.0017 - acc: 0.9994 - recall: 0.5086 - precision: 0.9996 - f1_score: 0.8652\n",
      "Epoch 00067: val_loss improved from 0.00231 to 0.00231, saving model to /app/_data/models/Eff2_5/Eff2_5.h5\n",
      "2087/2087 [==============================] - 1048s 502ms/step - loss: 0.0017 - acc: 0.9994 - recall: 0.5086 - precision: 0.9996 - f1_score: 0.8652 - val_loss: 0.0023 - val_acc: 0.9764 - val_recall: 0.5301 - val_precision: 0.9908 - val_f1_score: 0.8470\n",
      "Epoch 68/100\n",
      "2087/2087 [==============================] - ETA: 0s - loss: 0.0017 - acc: 0.9995 - recall: 0.5083 - precision: 0.9997 - f1_score: 0.8653\n",
      "Epoch 00068: val_loss did not improve from 0.00231\n",
      "2087/2087 [==============================] - 1056s 506ms/step - loss: 0.0017 - acc: 0.9995 - recall: 0.5083 - precision: 0.9997 - f1_score: 0.8653 - val_loss: 0.0023 - val_acc: 0.9754 - val_recall: 0.5379 - val_precision: 0.9903 - val_f1_score: 0.8462\n",
      "Epoch 69/100\n",
      "2087/2087 [==============================] - ETA: 0s - loss: 0.0017 - acc: 0.9994 - recall: 0.5084 - precision: 0.9996 - f1_score: 0.8652\n",
      "Epoch 00069: val_loss did not improve from 0.00231\n",
      "2087/2087 [==============================] - 1055s 505ms/step - loss: 0.0017 - acc: 0.9994 - recall: 0.5084 - precision: 0.9996 - f1_score: 0.8652 - val_loss: 0.0023 - val_acc: 0.9758 - val_recall: 0.5251 - val_precision: 0.9904 - val_f1_score: 0.8464\n",
      "Epoch 70/100\n",
      "2087/2087 [==============================] - ETA: 0s - loss: 0.0017 - acc: 0.9994 - recall: 0.5079 - precision: 0.9995 - f1_score: 0.8652\n",
      "Epoch 00070: val_loss did not improve from 0.00231\n",
      "\n",
      "Epoch 00070: ReduceLROnPlateau reducing learning rate to 0.00023914847988635302.\n",
      "2087/2087 [==============================] - 1058s 507ms/step - loss: 0.0017 - acc: 0.9994 - recall: 0.5079 - precision: 0.9995 - f1_score: 0.8652 - val_loss: 0.0023 - val_acc: 0.9756 - val_recall: 0.5307 - val_precision: 0.9899 - val_f1_score: 0.8463\n",
      "Epoch 71/100\n",
      "2087/2087 [==============================] - ETA: 0s - loss: 0.0017 - acc: 0.9996 - recall: 0.5061 - precision: 0.9997 - f1_score: 0.8653\n",
      "Epoch 00071: val_loss did not improve from 0.00231\n",
      "2087/2087 [==============================] - 1050s 503ms/step - loss: 0.0017 - acc: 0.9996 - recall: 0.5061 - precision: 0.9997 - f1_score: 0.8653 - val_loss: 0.0023 - val_acc: 0.9758 - val_recall: 0.5299 - val_precision: 0.9906 - val_f1_score: 0.8465\n",
      "Epoch 72/100\n",
      "2087/2087 [==============================] - ETA: 0s - loss: 0.0017 - acc: 0.9996 - recall: 0.5058 - precision: 0.9997 - f1_score: 0.8653\n",
      "Epoch 00072: val_loss did not improve from 0.00231\n",
      "2087/2087 [==============================] - 1053s 505ms/step - loss: 0.0017 - acc: 0.9996 - recall: 0.5058 - precision: 0.9997 - f1_score: 0.8653 - val_loss: 0.0023 - val_acc: 0.9764 - val_recall: 0.5286 - val_precision: 0.9908 - val_f1_score: 0.8469\n",
      "Epoch 73/100\n",
      "2087/2087 [==============================] - ETA: 0s - loss: 0.0017 - acc: 0.9996 - recall: 0.5054 - precision: 0.9997 - f1_score: 0.8653\n",
      "Epoch 00073: val_loss improved from 0.00231 to 0.00230, saving model to /app/_data/models/Eff2_5/Eff2_5.h5\n",
      "2087/2087 [==============================] - 1050s 503ms/step - loss: 0.0017 - acc: 0.9996 - recall: 0.5054 - precision: 0.9997 - f1_score: 0.8653 - val_loss: 0.0023 - val_acc: 0.9764 - val_recall: 0.5364 - val_precision: 0.9907 - val_f1_score: 0.8470\n",
      "Epoch 74/100\n",
      "2087/2087 [==============================] - ETA: 0s - loss: 0.0017 - acc: 0.9996 - recall: 0.5053 - precision: 0.9997 - f1_score: 0.8653\n",
      "Epoch 00074: val_loss did not improve from 0.00230\n",
      "2087/2087 [==============================] - 1047s 502ms/step - loss: 0.0017 - acc: 0.9996 - recall: 0.5053 - precision: 0.9997 - f1_score: 0.8653 - val_loss: 0.0023 - val_acc: 0.9764 - val_recall: 0.5248 - val_precision: 0.9910 - val_f1_score: 0.8470\n",
      "Epoch 75/100\n",
      "2087/2087 [==============================] - ETA: 0s - loss: 0.0017 - acc: 0.9996 - recall: 0.5051 - precision: 0.9997 - f1_score: 0.8653\n",
      "Epoch 00075: val_loss did not improve from 0.00230\n",
      "\n",
      "Epoch 00075: ReduceLROnPlateau reducing learning rate to 0.00021523362665902825.\n",
      "2087/2087 [==============================] - 1049s 502ms/step - loss: 0.0017 - acc: 0.9996 - recall: 0.5051 - precision: 0.9997 - f1_score: 0.8653 - val_loss: 0.0023 - val_acc: 0.9760 - val_recall: 0.5210 - val_precision: 0.9910 - val_f1_score: 0.8466\n",
      "Epoch 76/100\n",
      "2087/2087 [==============================] - ETA: 0s - loss: 0.0017 - acc: 0.9996 - recall: 0.5038 - precision: 0.9997 - f1_score: 0.8653\n",
      "Epoch 00076: val_loss improved from 0.00230 to 0.00229, saving model to /app/_data/models/Eff2_5/Eff2_5.h5\n",
      "2087/2087 [==============================] - 1054s 505ms/step - loss: 0.0017 - acc: 0.9996 - recall: 0.5038 - precision: 0.9997 - f1_score: 0.8653 - val_loss: 0.0023 - val_acc: 0.9765 - val_recall: 0.5237 - val_precision: 0.9908 - val_f1_score: 0.8471\n",
      "Epoch 77/100\n",
      "2087/2087 [==============================] - ETA: 0s - loss: 0.0017 - acc: 0.9996 - recall: 0.5032 - precision: 0.9997 - f1_score: 0.8654\n",
      "Epoch 00077: val_loss did not improve from 0.00229\n",
      "2087/2087 [==============================] - 1050s 503ms/step - loss: 0.0017 - acc: 0.9996 - recall: 0.5032 - precision: 0.9997 - f1_score: 0.8654 - val_loss: 0.0023 - val_acc: 0.9768 - val_recall: 0.5385 - val_precision: 0.9906 - val_f1_score: 0.8472\n",
      "Epoch 78/100\n",
      "2087/2087 [==============================] - ETA: 0s - loss: 0.0017 - acc: 0.9997 - recall: 0.5030 - precision: 0.9998 - f1_score: 0.8654\n",
      "Epoch 00078: val_loss did not improve from 0.00229\n",
      "2087/2087 [==============================] - 1049s 503ms/step - loss: 0.0017 - acc: 0.9997 - recall: 0.5030 - precision: 0.9998 - f1_score: 0.8654 - val_loss: 0.0023 - val_acc: 0.9769 - val_recall: 0.5325 - val_precision: 0.9905 - val_f1_score: 0.8473\n",
      "Epoch 79/100\n",
      "2087/2087 [==============================] - ETA: 0s - loss: 0.0017 - acc: 0.9997 - recall: 0.5029 - precision: 0.9998 - f1_score: 0.8654\n",
      "Epoch 00079: val_loss improved from 0.00229 to 0.00229, saving model to /app/_data/models/Eff2_5/Eff2_5.h5\n",
      "2087/2087 [==============================] - 1054s 505ms/step - loss: 0.0017 - acc: 0.9997 - recall: 0.5029 - precision: 0.9998 - f1_score: 0.8654 - val_loss: 0.0023 - val_acc: 0.9771 - val_recall: 0.5247 - val_precision: 0.9911 - val_f1_score: 0.8474\n",
      "Epoch 80/100\n",
      "2087/2087 [==============================] - ETA: 0s - loss: 0.0017 - acc: 0.9997 - recall: 0.5028 - precision: 0.9998 - f1_score: 0.8654\n",
      "Epoch 00080: val_loss did not improve from 0.00229\n",
      "\n",
      "Epoch 00080: ReduceLROnPlateau reducing learning rate to 0.00019371026137378068.\n",
      "2087/2087 [==============================] - 1040s 498ms/step - loss: 0.0017 - acc: 0.9997 - recall: 0.5028 - precision: 0.9998 - f1_score: 0.8654 - val_loss: 0.0023 - val_acc: 0.9773 - val_recall: 0.5317 - val_precision: 0.9910 - val_f1_score: 0.8476\n",
      "Epoch 81/100\n",
      "2087/2087 [==============================] - ETA: 0s - loss: 0.0017 - acc: 0.9997 - recall: 0.5013 - precision: 0.9998 - f1_score: 0.8654\n",
      "Epoch 00081: val_loss did not improve from 0.00229\n",
      "2087/2087 [==============================] - 1047s 502ms/step - loss: 0.0017 - acc: 0.9997 - recall: 0.5013 - precision: 0.9998 - f1_score: 0.8654 - val_loss: 0.0023 - val_acc: 0.9773 - val_recall: 0.5242 - val_precision: 0.9910 - val_f1_score: 0.8476\n",
      "Epoch 82/100\n",
      "2087/2087 [==============================] - ETA: 0s - loss: 0.0017 - acc: 0.9998 - recall: 0.5012 - precision: 0.9998 - f1_score: 0.8655\n",
      "Epoch 00082: val_loss improved from 0.00229 to 0.00228, saving model to /app/_data/models/Eff2_5/Eff2_5.h5\n",
      "2087/2087 [==============================] - 1059s 507ms/step - loss: 0.0017 - acc: 0.9998 - recall: 0.5012 - precision: 0.9998 - f1_score: 0.8655 - val_loss: 0.0023 - val_acc: 0.9778 - val_recall: 0.5178 - val_precision: 0.9912 - val_f1_score: 0.8480\n",
      "Epoch 83/100\n",
      "2087/2087 [==============================] - ETA: 0s - loss: 0.0017 - acc: 0.9997 - recall: 0.5011 - precision: 0.9998 - f1_score: 0.8654\n",
      "Epoch 00083: val_loss improved from 0.00228 to 0.00227, saving model to /app/_data/models/Eff2_5/Eff2_5.h5\n",
      "2087/2087 [==============================] - 1059s 508ms/step - loss: 0.0017 - acc: 0.9997 - recall: 0.5011 - precision: 0.9998 - f1_score: 0.8654 - val_loss: 0.0023 - val_acc: 0.9779 - val_recall: 0.5263 - val_precision: 0.9914 - val_f1_score: 0.8481\n",
      "Epoch 84/100\n",
      "2087/2087 [==============================] - ETA: 0s - loss: 0.0017 - acc: 0.9997 - recall: 0.5009 - precision: 0.9998 - f1_score: 0.8654\n",
      "Epoch 00084: val_loss improved from 0.00227 to 0.00227, saving model to /app/_data/models/Eff2_5/Eff2_5.h5\n",
      "2087/2087 [==============================] - 1067s 511ms/step - loss: 0.0017 - acc: 0.9997 - recall: 0.5009 - precision: 0.9998 - f1_score: 0.8654 - val_loss: 0.0023 - val_acc: 0.9778 - val_recall: 0.5201 - val_precision: 0.9913 - val_f1_score: 0.8480\n",
      "Epoch 85/100\n",
      "2087/2087 [==============================] - ETA: 0s - loss: 0.0017 - acc: 0.9997 - recall: 0.5008 - precision: 0.9998 - f1_score: 0.8654\n",
      "Epoch 00085: val_loss did not improve from 0.00227\n",
      "\n",
      "Epoch 00085: ReduceLROnPlateau reducing learning rate to 0.00017433923785574736.\n",
      "2087/2087 [==============================] - 1069s 512ms/step - loss: 0.0017 - acc: 0.9997 - recall: 0.5008 - precision: 0.9998 - f1_score: 0.8654 - val_loss: 0.0023 - val_acc: 0.9780 - val_recall: 0.5246 - val_precision: 0.9912 - val_f1_score: 0.8481\n",
      "Epoch 86/100\n",
      "2087/2087 [==============================] - ETA: 0s - loss: 0.0017 - acc: 0.9997 - recall: 0.4999 - precision: 0.9998 - f1_score: 0.8654\n",
      "Epoch 00086: val_loss did not improve from 0.00227\n",
      "2087/2087 [==============================] - 1070s 513ms/step - loss: 0.0017 - acc: 0.9997 - recall: 0.4999 - precision: 0.9998 - f1_score: 0.8654 - val_loss: 0.0023 - val_acc: 0.9780 - val_recall: 0.5299 - val_precision: 0.9914 - val_f1_score: 0.8481\n",
      "Epoch 87/100\n",
      "2087/2087 [==============================] - ETA: 0s - loss: 0.0017 - acc: 0.9998 - recall: 0.4995 - precision: 0.9999 - f1_score: 0.8655\n",
      "Epoch 00087: val_loss did not improve from 0.00227\n",
      "2087/2087 [==============================] - 1074s 514ms/step - loss: 0.0017 - acc: 0.9998 - recall: 0.4995 - precision: 0.9999 - f1_score: 0.8655 - val_loss: 0.0023 - val_acc: 0.9778 - val_recall: 0.5196 - val_precision: 0.9915 - val_f1_score: 0.8480\n",
      "Epoch 88/100\n",
      "2087/2087 [==============================] - ETA: 0s - loss: 0.0017 - acc: 0.9998 - recall: 0.4993 - precision: 0.9999 - f1_score: 0.8655\n",
      "Epoch 00088: val_loss did not improve from 0.00227\n",
      "2087/2087 [==============================] - 1078s 517ms/step - loss: 0.0017 - acc: 0.9998 - recall: 0.4993 - precision: 0.9999 - f1_score: 0.8655 - val_loss: 0.0023 - val_acc: 0.9779 - val_recall: 0.5225 - val_precision: 0.9912 - val_f1_score: 0.8481\n",
      "Epoch 89/100\n",
      "2087/2087 [==============================] - ETA: 0s - loss: 0.0017 - acc: 0.9998 - recall: 0.4993 - precision: 0.9998 - f1_score: 0.8655\n",
      "Epoch 00089: val_loss did not improve from 0.00227\n",
      "2087/2087 [==============================] - 1071s 513ms/step - loss: 0.0017 - acc: 0.9998 - recall: 0.4993 - precision: 0.9998 - f1_score: 0.8655 - val_loss: 0.0023 - val_acc: 0.9780 - val_recall: 0.5215 - val_precision: 0.9915 - val_f1_score: 0.8482\n",
      "Epoch 90/100\n",
      "2087/2087 [==============================] - ETA: 0s - loss: 0.0017 - acc: 0.9998 - recall: 0.4990 - precision: 0.9998 - f1_score: 0.8655\n",
      "Epoch 00090: val_loss did not improve from 0.00227\n",
      "\n",
      "Epoch 00090: ReduceLROnPlateau reducing learning rate to 0.00015690531145082787.\n",
      "2087/2087 [==============================] - 1077s 516ms/step - loss: 0.0017 - acc: 0.9998 - recall: 0.4990 - precision: 0.9998 - f1_score: 0.8655 - val_loss: 0.0023 - val_acc: 0.9777 - val_recall: 0.5269 - val_precision: 0.9915 - val_f1_score: 0.8480\n",
      "Epoch 91/100\n",
      "2087/2087 [==============================] - ETA: 0s - loss: 0.0017 - acc: 0.9998 - recall: 0.4985 - precision: 0.9999 - f1_score: 0.8655\n",
      "Epoch 00091: val_loss did not improve from 0.00227\n",
      "2087/2087 [==============================] - 1069s 512ms/step - loss: 0.0017 - acc: 0.9998 - recall: 0.4985 - precision: 0.9999 - f1_score: 0.8655 - val_loss: 0.0023 - val_acc: 0.9781 - val_recall: 0.5218 - val_precision: 0.9919 - val_f1_score: 0.8483\n",
      "Epoch 92/100\n",
      "2087/2087 [==============================] - ETA: 0s - loss: 0.0017 - acc: 0.9998 - recall: 0.4981 - precision: 0.9999 - f1_score: 0.8655\n",
      "Epoch 00092: val_loss did not improve from 0.00227\n",
      "2087/2087 [==============================] - 1070s 513ms/step - loss: 0.0017 - acc: 0.9998 - recall: 0.4981 - precision: 0.9999 - f1_score: 0.8655 - val_loss: 0.0023 - val_acc: 0.9780 - val_recall: 0.5254 - val_precision: 0.9912 - val_f1_score: 0.8482\n",
      "Epoch 93/100\n",
      "2087/2087 [==============================] - ETA: 0s - loss: 0.0017 - acc: 0.9998 - recall: 0.4980 - precision: 0.9999 - f1_score: 0.8655\n",
      "Epoch 00093: val_loss did not improve from 0.00227\n",
      "2087/2087 [==============================] - 1058s 507ms/step - loss: 0.0017 - acc: 0.9998 - recall: 0.4980 - precision: 0.9999 - f1_score: 0.8655 - val_loss: 0.0023 - val_acc: 0.9780 - val_recall: 0.5266 - val_precision: 0.9915 - val_f1_score: 0.8482\n",
      "Epoch 94/100\n",
      "2087/2087 [==============================] - ETA: 0s - loss: 0.0017 - acc: 0.9998 - recall: 0.4978 - precision: 0.9998 - f1_score: 0.8655\n",
      "Epoch 00094: val_loss did not improve from 0.00227\n",
      "2087/2087 [==============================] - 1057s 506ms/step - loss: 0.0017 - acc: 0.9998 - recall: 0.4978 - precision: 0.9998 - f1_score: 0.8655 - val_loss: 0.0023 - val_acc: 0.9784 - val_recall: 0.5259 - val_precision: 0.9916 - val_f1_score: 0.8484\n",
      "Epoch 95/100\n",
      "2087/2087 [==============================] - ETA: 0s - loss: 0.0017 - acc: 0.9998 - recall: 0.4980 - precision: 0.9999 - f1_score: 0.8655\n",
      "Epoch 00095: val_loss improved from 0.00227 to 0.00227, saving model to /app/_data/models/Eff2_5/Eff2_5.h5\n",
      "\n",
      "Epoch 00095: ReduceLROnPlateau reducing learning rate to 0.00014121478161541746.\n",
      "2087/2087 [==============================] - 1051s 503ms/step - loss: 0.0017 - acc: 0.9998 - recall: 0.4980 - precision: 0.9999 - f1_score: 0.8655 - val_loss: 0.0023 - val_acc: 0.9780 - val_recall: 0.5237 - val_precision: 0.9912 - val_f1_score: 0.8482\n",
      "Epoch 96/100\n",
      "2087/2087 [==============================] - ETA: 0s - loss: 0.0017 - acc: 0.9998 - recall: 0.4972 - precision: 0.9999 - f1_score: 0.8655\n",
      "Epoch 00096: val_loss did not improve from 0.00227\n",
      "2087/2087 [==============================] - 1066s 511ms/step - loss: 0.0017 - acc: 0.9998 - recall: 0.4972 - precision: 0.9999 - f1_score: 0.8655 - val_loss: 0.0023 - val_acc: 0.9783 - val_recall: 0.5277 - val_precision: 0.9914 - val_f1_score: 0.8484\n",
      "Epoch 97/100\n",
      "2087/2087 [==============================] - ETA: 0s - loss: 0.0017 - acc: 0.9999 - recall: 0.4970 - precision: 0.9999 - f1_score: 0.8655\n",
      "Epoch 00097: val_loss did not improve from 0.00227\n",
      "2087/2087 [==============================] - 1070s 512ms/step - loss: 0.0017 - acc: 0.9999 - recall: 0.4970 - precision: 0.9999 - f1_score: 0.8655 - val_loss: 0.0023 - val_acc: 0.9783 - val_recall: 0.5276 - val_precision: 0.9912 - val_f1_score: 0.8484\n",
      "Epoch 98/100\n",
      "2087/2087 [==============================] - ETA: 0s - loss: 0.0017 - acc: 0.9998 - recall: 0.4969 - precision: 0.9999 - f1_score: 0.8655\n",
      "Epoch 00098: val_loss did not improve from 0.00227\n",
      "2087/2087 [==============================] - 1064s 510ms/step - loss: 0.0017 - acc: 0.9998 - recall: 0.4969 - precision: 0.9999 - f1_score: 0.8655 - val_loss: 0.0023 - val_acc: 0.9781 - val_recall: 0.5234 - val_precision: 0.9911 - val_f1_score: 0.8482\n",
      "Epoch 99/100\n",
      "2087/2087 [==============================] - ETA: 0s - loss: 0.0017 - acc: 0.9998 - recall: 0.4969 - precision: 0.9999 - f1_score: 0.8655\n",
      "Epoch 00099: val_loss did not improve from 0.00227\n",
      "2087/2087 [==============================] - 1076s 515ms/step - loss: 0.0017 - acc: 0.9998 - recall: 0.4969 - precision: 0.9999 - f1_score: 0.8655 - val_loss: 0.0023 - val_acc: 0.9781 - val_recall: 0.5247 - val_precision: 0.9912 - val_f1_score: 0.8482\n",
      "Epoch 100/100\n",
      "2087/2087 [==============================] - ETA: 0s - loss: 0.0017 - acc: 0.9999 - recall: 0.4968 - precision: 0.9999 - f1_score: 0.8655\n",
      "Epoch 00100: val_loss did not improve from 0.00227\n",
      "\n",
      "Epoch 00100: ReduceLROnPlateau reducing learning rate to 0.00012709330476354808.\n",
      "2087/2087 [==============================] - 1073s 514ms/step - loss: 0.0017 - acc: 0.9999 - recall: 0.4968 - precision: 0.9999 - f1_score: 0.8655 - val_loss: 0.0023 - val_acc: 0.9782 - val_recall: 0.5263 - val_precision: 0.9913 - val_f1_score: 0.8483\n"
     ]
    }
   ],
   "source": [
    "model = get_model()\n",
    "history = model.fit(\n",
    "    gen_train,\n",
    "    validation_data=gen_valid,\n",
    "    epochs=100,\n",
    "    steps_per_epoch=train.shape[0] // BATCH_SIZE,\n",
    "    validation_steps=valid.shape[0] // BATCH_SIZE,\n",
    "    verbose=1,\n",
    "    workers=20,\n",
    "    max_queue_size=50,\n",
    "    callbacks=callbacks,\n",
    ")"
   ]
  },
  {
   "cell_type": "code",
   "execution_count": null,
   "metadata": {},
   "outputs": [],
   "source": []
  }
 ],
 "metadata": {
  "kernelspec": {
   "display_name": "Python 3",
   "language": "python",
   "name": "python3"
  },
  "language_info": {
   "codemirror_mode": {
    "name": "ipython",
    "version": 3
   },
   "file_extension": ".py",
   "mimetype": "text/x-python",
   "name": "python",
   "nbconvert_exporter": "python",
   "pygments_lexer": "ipython3",
   "version": "3.8.5"
  }
 },
 "nbformat": 4,
 "nbformat_minor": 4
}
