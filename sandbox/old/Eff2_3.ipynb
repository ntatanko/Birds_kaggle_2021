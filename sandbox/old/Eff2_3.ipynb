{
 "cells": [
  {
   "cell_type": "code",
   "execution_count": 1,
   "metadata": {},
   "outputs": [],
   "source": [
    "import os\n",
    "import shutil\n",
    "import warnings\n",
    "\n",
    "import numpy as np\n",
    "import pandas as pd\n",
    "import plotly.graph_objects as go\n",
    "import torchaudio\n",
    "\n",
    "warnings.filterwarnings(action=\"ignore\")\n",
    "from IPython.core.interactiveshell import InteractiveShell\n",
    "\n",
    "InteractiveShell.ast_node_interactivity = \"all\"\n",
    "import json\n",
    "\n",
    "import geopandas\n",
    "import librosa\n",
    "import librosa.display\n",
    "import matplotlib.pyplot as plt\n",
    "import scipy.stats as st\n",
    "import seaborn as sns\n",
    "import soundfile\n",
    "import tensorflow as tf\n",
    "import tensorflow_addons as tfa\n",
    "import torch\n",
    "\n",
    "%matplotlib inline\n",
    "from PIL import Image\n",
    "from sklearn.model_selection import train_test_split\n",
    "from sklearn.utils import shuffle\n",
    "from tensorflow import keras\n",
    "from tensorflow.keras.models import Sequential\n",
    "from tensorflow.keras.optimizers import Adam\n",
    "from torchaudio.transforms import MelSpectrogram\n",
    "from tqdm import tqdm\n",
    "\n",
    "from src.gen_short import MEL_Generator_Short, Mel_Provider\n",
    "from src.prepare_dataset import make_dict_birds, prepare_dataset, choose_ids, make_intervals"
   ]
  },
  {
   "cell_type": "code",
   "execution_count": 2,
   "metadata": {},
   "outputs": [],
   "source": [
    "SEED = 42\n",
    "IMG_SIZE = 260\n",
    "SAMPLE_RATE = 32000\n",
    "N_FFT = 2048\n",
    "SIGNAL_LENGTH = 5\n",
    "FREQ_MIN = 0\n",
    "FREQ_MAX = 16000\n",
    "WIN_LENGHT = 1024\n",
    "BATCH_SIZE = 50"
   ]
  },
  {
   "cell_type": "code",
   "execution_count": 3,
   "metadata": {},
   "outputs": [],
   "source": [
    "al_audio_init = pd.read_csv('/app/_data/all_audio_initial.csv')\n",
    "train_sound = pd.read_csv(\"/app/_data/train_soundscapes_prepared.csv\")\n",
    "train_sound = prepare_dataset(train_sound)\n"
   ]
  },
  {
   "cell_type": "code",
   "execution_count": 4,
   "metadata": {},
   "outputs": [
    {
     "data": {
      "text/plain": [
       "21416"
      ]
     },
     "execution_count": 4,
     "metadata": {},
     "output_type": "execute_result"
    }
   ],
   "source": [
    "_, list_filenames = choose_ids(500)\n",
    "len(list_filenames)"
   ]
  },
  {
   "cell_type": "code",
   "execution_count": 5,
   "metadata": {},
   "outputs": [
    {
     "data": {
      "text/plain": [
       "(21396, 24)"
      ]
     },
     "execution_count": 5,
     "metadata": {},
     "output_type": "execute_result"
    }
   ],
   "source": [
    "short_audio_df = al_audio_init[\n",
    "    al_audio_init[\"rating\"]!=6].query('filename in @list_filenames').reset_index(drop=True)\n",
    "short_audio_df.shape"
   ]
  },
  {
   "cell_type": "code",
   "execution_count": 6,
   "metadata": {},
   "outputs": [],
   "source": [
    "dict_weights = (1 / short_audio_df[\"primary_label\"].value_counts()).to_dict()\n",
    "short_audio_df[\"class_weights\"] = short_audio_df[\"primary_label\"].replace(dict_weights)"
   ]
  },
  {
   "cell_type": "code",
   "execution_count": 7,
   "metadata": {},
   "outputs": [],
   "source": [
    "array_for_cut = short_audio_df[[\"filename\", \"duration\", 'class_weights']].values"
   ]
  },
  {
   "cell_type": "code",
   "execution_count": 8,
   "metadata": {},
   "outputs": [
    {
     "data": {
      "text/plain": [
       "(691562, 3)"
      ]
     },
     "execution_count": 8,
     "metadata": {},
     "output_type": "execute_result"
    }
   ],
   "source": [
    "birds_intervals = make_intervals(array_for_cut, 5)\n",
    "birds_intervals.shape"
   ]
  },
  {
   "cell_type": "code",
   "execution_count": 9,
   "metadata": {},
   "outputs": [],
   "source": [
    "birds_intervals['row_id'] = birds_intervals.index"
   ]
  },
  {
   "cell_type": "code",
   "execution_count": 10,
   "metadata": {},
   "outputs": [],
   "source": [
    "birds_intervals_sample = birds_intervals.sample(n=250000, weights='class_weights', random_state=SEED)"
   ]
  },
  {
   "cell_type": "code",
   "execution_count": 11,
   "metadata": {},
   "outputs": [
    {
     "data": {
      "text/plain": [
       "XC127032_5_0         5.00\n",
       "XC127032_7_0         7.00\n",
       "XC127032_9_0         9.00\n",
       "XC127032_11_0       11.00\n",
       "XC127032_13_0       13.00\n",
       "                    ...  \n",
       "XC602701_99_0       99.00\n",
       "XC602701_101_0     101.00\n",
       "XC602701_101_01    101.01\n",
       "XC602701_101_83    101.83\n",
       "XC602701_100_93    100.93\n",
       "Name: end_sec, Length: 691562, dtype: float64"
      ]
     },
     "execution_count": 11,
     "metadata": {},
     "output_type": "execute_result"
    }
   ],
   "source": [
    "birds_intervals['end_sec']"
   ]
  },
  {
   "cell_type": "code",
   "execution_count": 12,
   "metadata": {},
   "outputs": [
    {
     "data": {
      "text/plain": [
       "count    691562.000000\n",
       "mean         61.579991\n",
       "std         111.912144\n",
       "min           4.980000\n",
       "25%          13.112500\n",
       "50%          30.510000\n",
       "75%          67.000000\n",
       "max        2739.620000\n",
       "Name: end_sec, dtype: float64"
      ]
     },
     "execution_count": 12,
     "metadata": {},
     "output_type": "execute_result"
    }
   ],
   "source": [
    "birds_intervals['end_sec'].describe()"
   ]
  },
  {
   "cell_type": "code",
   "execution_count": 13,
   "metadata": {},
   "outputs": [],
   "source": [
    "short_audio_df = prepare_dataset(short_audio_df)"
   ]
  },
  {
   "cell_type": "code",
   "execution_count": 14,
   "metadata": {},
   "outputs": [],
   "source": [
    "short_audio_df_concat = birds_intervals_sample.merge(short_audio_df[['filename', 'primary_label', 'secondary_labels', 'label_id',\n",
    "       'secondary_labels_id', 'duration',\n",
    "       'rating', 'year', 'file_path', 'frames', 'sin_month',\n",
    "       'cos_month', 'sin_longitude', 'cos_longitude', 'latitude',\n",
    "       'norm_latitude', 'date']], on='filename', how = 'left')"
   ]
  },
  {
   "cell_type": "code",
   "execution_count": 15,
   "metadata": {},
   "outputs": [],
   "source": [
    "short_audio_df_concat['start_sec'] = short_audio_df_concat['end_sec']-5"
   ]
  },
  {
   "cell_type": "code",
   "execution_count": 16,
   "metadata": {},
   "outputs": [
    {
     "data": {
      "text/plain": [
       "(262000, 21)"
      ]
     },
     "execution_count": 16,
     "metadata": {},
     "output_type": "execute_result"
    }
   ],
   "source": [
    "all_audio = pd.concat([short_audio_df_concat, train_sound, train_sound,train_sound,train_sound,train_sound], axis=0, ignore_index=True)\n",
    "# all_audio = all_audio[all_audio[\"rating\"] >= 3]\n",
    "all_audio.shape\n",
    "all_audio = all_audio.sample(frac=1, random_state=SEED).reset_index(drop=True)"
   ]
  },
  {
   "cell_type": "code",
   "execution_count": 17,
   "metadata": {},
   "outputs": [
    {
     "data": {
      "text/plain": [
       "count    262000.000000\n",
       "mean         71.764552\n",
       "std         131.468079\n",
       "min           4.980000\n",
       "25%          13.000000\n",
       "50%          31.000000\n",
       "75%          73.000000\n",
       "max        2738.660000\n",
       "Name: end_sec, dtype: float64"
      ]
     },
     "execution_count": 17,
     "metadata": {},
     "output_type": "execute_result"
    }
   ],
   "source": [
    "all_audio['end_sec'].describe()"
   ]
  },
  {
   "cell_type": "code",
   "execution_count": 18,
   "metadata": {},
   "outputs": [
    {
     "data": {
      "text/plain": [
       "18802312.53999999"
      ]
     },
     "execution_count": 18,
     "metadata": {},
     "output_type": "execute_result"
    }
   ],
   "source": [
    "all_audio['end_sec'].sum()"
   ]
  },
  {
   "cell_type": "code",
   "execution_count": 19,
   "metadata": {},
   "outputs": [
    {
     "data": {
      "text/plain": [
       "28163163.8900625"
      ]
     },
     "execution_count": 19,
     "metadata": {},
     "output_type": "execute_result"
    }
   ],
   "source": [
    "all_audio['duration'].sum()"
   ]
  },
  {
   "cell_type": "code",
   "execution_count": 20,
   "metadata": {},
   "outputs": [],
   "source": [
    "dict_birds, df = make_dict_birds(all_audio)"
   ]
  },
  {
   "cell_type": "code",
   "execution_count": 21,
   "metadata": {},
   "outputs": [
    {
     "data": {
      "text/html": [
       "<div>\n",
       "<style scoped>\n",
       "    .dataframe tbody tr th:only-of-type {\n",
       "        vertical-align: middle;\n",
       "    }\n",
       "\n",
       "    .dataframe tbody tr th {\n",
       "        vertical-align: top;\n",
       "    }\n",
       "\n",
       "    .dataframe thead th {\n",
       "        text-align: right;\n",
       "    }\n",
       "</style>\n",
       "<table border=\"1\" class=\"dataframe\">\n",
       "  <thead>\n",
       "    <tr style=\"text-align: right;\">\n",
       "      <th></th>\n",
       "      <th>end_sec</th>\n",
       "      <th>class_weights</th>\n",
       "      <th>filename</th>\n",
       "      <th>row_id</th>\n",
       "      <th>primary_label</th>\n",
       "      <th>secondary_labels</th>\n",
       "      <th>label_id</th>\n",
       "      <th>secondary_labels_id</th>\n",
       "      <th>duration</th>\n",
       "      <th>rating</th>\n",
       "      <th>...</th>\n",
       "      <th>file_path</th>\n",
       "      <th>frames</th>\n",
       "      <th>sin_month</th>\n",
       "      <th>cos_month</th>\n",
       "      <th>sin_longitude</th>\n",
       "      <th>cos_longitude</th>\n",
       "      <th>latitude</th>\n",
       "      <th>norm_latitude</th>\n",
       "      <th>date</th>\n",
       "      <th>start_sec</th>\n",
       "    </tr>\n",
       "  </thead>\n",
       "  <tbody>\n",
       "    <tr>\n",
       "      <th>41698</th>\n",
       "      <td>183.0</td>\n",
       "      <td>0.012987</td>\n",
       "      <td>XC179676.ogg</td>\n",
       "      <td>XC179676_183_0</td>\n",
       "      <td>canwar</td>\n",
       "      <td>mouwar sonspa bnhcow amerob swathr</td>\n",
       "      <td>81</td>\n",
       "      <td>214 311 50 9 328</td>\n",
       "      <td>238.694969</td>\n",
       "      <td>3.5</td>\n",
       "      <td>...</td>\n",
       "      <td>/app/_data/train_short_audio/canwar/XC179676.ogg</td>\n",
       "      <td>7638239.0</td>\n",
       "      <td>0.500000</td>\n",
       "      <td>-0.866025</td>\n",
       "      <td>-0.992638</td>\n",
       "      <td>0.121116</td>\n",
       "      <td>40.0168</td>\n",
       "      <td>0.722316</td>\n",
       "      <td>2014-05-24</td>\n",
       "      <td>178.0</td>\n",
       "    </tr>\n",
       "    <tr>\n",
       "      <th>169237</th>\n",
       "      <td>20.0</td>\n",
       "      <td>0.015625</td>\n",
       "      <td>XC212929.ogg</td>\n",
       "      <td>XC212929_20_0</td>\n",
       "      <td>killde</td>\n",
       "      <td>y00475</td>\n",
       "      <td>182</td>\n",
       "      <td>376</td>\n",
       "      <td>33.268031</td>\n",
       "      <td>4.5</td>\n",
       "      <td>...</td>\n",
       "      <td>/app/_data/train_short_audio/killde/XC212929.ogg</td>\n",
       "      <td>1064577.0</td>\n",
       "      <td>0.866025</td>\n",
       "      <td>0.500000</td>\n",
       "      <td>-0.881874</td>\n",
       "      <td>-0.471486</td>\n",
       "      <td>34.7917</td>\n",
       "      <td>0.693287</td>\n",
       "      <td>2015-02-08</td>\n",
       "      <td>15.0</td>\n",
       "    </tr>\n",
       "    <tr>\n",
       "      <th>166372</th>\n",
       "      <td>57.0</td>\n",
       "      <td>0.019608</td>\n",
       "      <td>XC241226.ogg</td>\n",
       "      <td>XC241226_57_0</td>\n",
       "      <td>thswar1</td>\n",
       "      <td>NaN</td>\n",
       "      <td>332</td>\n",
       "      <td>NaN</td>\n",
       "      <td>65.173000</td>\n",
       "      <td>5.0</td>\n",
       "      <td>...</td>\n",
       "      <td>/app/_data/train_short_audio/thswar1/XC241226.ogg</td>\n",
       "      <td>2085536.0</td>\n",
       "      <td>0.500000</td>\n",
       "      <td>0.866025</td>\n",
       "      <td>-0.978449</td>\n",
       "      <td>0.206488</td>\n",
       "      <td>1.3001</td>\n",
       "      <td>0.507223</td>\n",
       "      <td>2014-01-22</td>\n",
       "      <td>52.0</td>\n",
       "    </tr>\n",
       "  </tbody>\n",
       "</table>\n",
       "<p>3 rows × 21 columns</p>\n",
       "</div>"
      ],
      "text/plain": [
       "        end_sec  class_weights      filename          row_id primary_label  \\\n",
       "41698     183.0       0.012987  XC179676.ogg  XC179676_183_0        canwar   \n",
       "169237     20.0       0.015625  XC212929.ogg   XC212929_20_0        killde   \n",
       "166372     57.0       0.019608  XC241226.ogg   XC241226_57_0       thswar1   \n",
       "\n",
       "                          secondary_labels  label_id secondary_labels_id  \\\n",
       "41698   mouwar sonspa bnhcow amerob swathr        81    214 311 50 9 328   \n",
       "169237                              y00475       182                 376   \n",
       "166372                                 NaN       332                 NaN   \n",
       "\n",
       "          duration  rating  ...  \\\n",
       "41698   238.694969     3.5  ...   \n",
       "169237   33.268031     4.5  ...   \n",
       "166372   65.173000     5.0  ...   \n",
       "\n",
       "                                                file_path     frames  \\\n",
       "41698    /app/_data/train_short_audio/canwar/XC179676.ogg  7638239.0   \n",
       "169237   /app/_data/train_short_audio/killde/XC212929.ogg  1064577.0   \n",
       "166372  /app/_data/train_short_audio/thswar1/XC241226.ogg  2085536.0   \n",
       "\n",
       "        sin_month  cos_month  sin_longitude  cos_longitude  latitude  \\\n",
       "41698    0.500000  -0.866025      -0.992638       0.121116   40.0168   \n",
       "169237   0.866025   0.500000      -0.881874      -0.471486   34.7917   \n",
       "166372   0.500000   0.866025      -0.978449       0.206488    1.3001   \n",
       "\n",
       "        norm_latitude       date start_sec  \n",
       "41698        0.722316 2014-05-24     178.0  \n",
       "169237       0.693287 2015-02-08      15.0  \n",
       "166372       0.507223 2014-01-22      52.0  \n",
       "\n",
       "[3 rows x 21 columns]"
      ]
     },
     "execution_count": 21,
     "metadata": {},
     "output_type": "execute_result"
    }
   ],
   "source": [
    "df.sample(3)"
   ]
  },
  {
   "cell_type": "code",
   "execution_count": 22,
   "metadata": {},
   "outputs": [],
   "source": [
    "file_json = open(\"/app/_data/models/Eff2_3/dict_birds_eff2_3.json\", \"w\")\n",
    "json.dump(dict_birds, file_json)\n",
    "file_json.close()"
   ]
  },
  {
   "cell_type": "code",
   "execution_count": 23,
   "metadata": {},
   "outputs": [],
   "source": [
    "df.loc[218614,'end_sec']=5"
   ]
  },
  {
   "cell_type": "code",
   "execution_count": 24,
   "metadata": {},
   "outputs": [
    {
     "data": {
      "text/html": [
       "<div>\n",
       "<style scoped>\n",
       "    .dataframe tbody tr th:only-of-type {\n",
       "        vertical-align: middle;\n",
       "    }\n",
       "\n",
       "    .dataframe tbody tr th {\n",
       "        vertical-align: top;\n",
       "    }\n",
       "\n",
       "    .dataframe thead th {\n",
       "        text-align: right;\n",
       "    }\n",
       "</style>\n",
       "<table border=\"1\" class=\"dataframe\">\n",
       "  <thead>\n",
       "    <tr style=\"text-align: right;\">\n",
       "      <th></th>\n",
       "      <th>end_sec</th>\n",
       "      <th>class_weights</th>\n",
       "      <th>filename</th>\n",
       "      <th>row_id</th>\n",
       "      <th>primary_label</th>\n",
       "      <th>secondary_labels</th>\n",
       "      <th>label_id</th>\n",
       "      <th>secondary_labels_id</th>\n",
       "      <th>duration</th>\n",
       "      <th>rating</th>\n",
       "      <th>...</th>\n",
       "      <th>file_path</th>\n",
       "      <th>frames</th>\n",
       "      <th>sin_month</th>\n",
       "      <th>cos_month</th>\n",
       "      <th>sin_longitude</th>\n",
       "      <th>cos_longitude</th>\n",
       "      <th>latitude</th>\n",
       "      <th>norm_latitude</th>\n",
       "      <th>date</th>\n",
       "      <th>start_sec</th>\n",
       "    </tr>\n",
       "  </thead>\n",
       "  <tbody>\n",
       "    <tr>\n",
       "      <th>143696</th>\n",
       "      <td>4.98</td>\n",
       "      <td>0.016129</td>\n",
       "      <td>XC217441.ogg</td>\n",
       "      <td>XC217441_4_98</td>\n",
       "      <td>littin1</td>\n",
       "      <td>NaN</td>\n",
       "      <td>195</td>\n",
       "      <td>NaN</td>\n",
       "      <td>5.970094</td>\n",
       "      <td>3.0</td>\n",
       "      <td>...</td>\n",
       "      <td>/app/_data/train_short_audio/littin1/XC217441.ogg</td>\n",
       "      <td>191043.0</td>\n",
       "      <td>0.866025</td>\n",
       "      <td>0.5</td>\n",
       "      <td>-0.982069</td>\n",
       "      <td>0.188523</td>\n",
       "      <td>0.1431</td>\n",
       "      <td>0.500795</td>\n",
       "      <td>2015-02-20</td>\n",
       "      <td>-0.02</td>\n",
       "    </tr>\n",
       "  </tbody>\n",
       "</table>\n",
       "<p>1 rows × 21 columns</p>\n",
       "</div>"
      ],
      "text/plain": [
       "        end_sec  class_weights      filename         row_id primary_label  \\\n",
       "143696     4.98       0.016129  XC217441.ogg  XC217441_4_98       littin1   \n",
       "\n",
       "       secondary_labels  label_id secondary_labels_id  duration  rating  ...  \\\n",
       "143696              NaN       195                 NaN  5.970094     3.0  ...   \n",
       "\n",
       "                                                file_path    frames  \\\n",
       "143696  /app/_data/train_short_audio/littin1/XC217441.ogg  191043.0   \n",
       "\n",
       "        sin_month  cos_month  sin_longitude  cos_longitude  latitude  \\\n",
       "143696   0.866025        0.5      -0.982069       0.188523    0.1431   \n",
       "\n",
       "        norm_latitude       date start_sec  \n",
       "143696       0.500795 2015-02-20     -0.02  \n",
       "\n",
       "[1 rows x 21 columns]"
      ]
     },
     "execution_count": 24,
     "metadata": {},
     "output_type": "execute_result"
    }
   ],
   "source": [
    "df[df['end_sec']<5]"
   ]
  },
  {
   "cell_type": "code",
   "execution_count": 25,
   "metadata": {},
   "outputs": [],
   "source": [
    "df.to_csv('/app/_data/models/Eff2_3/df.csv')\n",
    "df=pd.read_csv('/app/_data/models/Eff2_3/df.csv', index_col=[0])\n"
   ]
  },
  {
   "cell_type": "code",
   "execution_count": 26,
   "metadata": {},
   "outputs": [],
   "source": [
    "train, valid = train_test_split(df, train_size=0.85, random_state=SEED)\n",
    "train = train.reset_index(drop=True)\n",
    "valid = valid.reset_index(drop=True)"
   ]
  },
  {
   "cell_type": "code",
   "execution_count": 27,
   "metadata": {},
   "outputs": [
    {
     "data": {
      "text/plain": [
       "6.0"
      ]
     },
     "execution_count": 27,
     "metadata": {},
     "output_type": "execute_result"
    }
   ],
   "source": [
    "valid[valid['end_sec']>=valid['duration']]['rating'].mean()"
   ]
  },
  {
   "cell_type": "code",
   "execution_count": 28,
   "metadata": {},
   "outputs": [
    {
     "data": {
      "text/plain": [
       "0"
      ]
     },
     "execution_count": 28,
     "metadata": {},
     "output_type": "execute_result"
    }
   ],
   "source": [
    "df['end_sec'].isna().sum()"
   ]
  },
  {
   "cell_type": "code",
   "execution_count": 29,
   "metadata": {},
   "outputs": [
    {
     "data": {
      "text/html": [
       "<div>\n",
       "<style scoped>\n",
       "    .dataframe tbody tr th:only-of-type {\n",
       "        vertical-align: middle;\n",
       "    }\n",
       "\n",
       "    .dataframe tbody tr th {\n",
       "        vertical-align: top;\n",
       "    }\n",
       "\n",
       "    .dataframe thead th {\n",
       "        text-align: right;\n",
       "    }\n",
       "</style>\n",
       "<table border=\"1\" class=\"dataframe\">\n",
       "  <thead>\n",
       "    <tr style=\"text-align: right;\">\n",
       "      <th></th>\n",
       "      <th>end_sec</th>\n",
       "      <th>class_weights</th>\n",
       "      <th>filename</th>\n",
       "      <th>row_id</th>\n",
       "      <th>primary_label</th>\n",
       "      <th>secondary_labels</th>\n",
       "      <th>label_id</th>\n",
       "      <th>secondary_labels_id</th>\n",
       "      <th>duration</th>\n",
       "      <th>rating</th>\n",
       "      <th>...</th>\n",
       "      <th>file_path</th>\n",
       "      <th>frames</th>\n",
       "      <th>sin_month</th>\n",
       "      <th>cos_month</th>\n",
       "      <th>sin_longitude</th>\n",
       "      <th>cos_longitude</th>\n",
       "      <th>latitude</th>\n",
       "      <th>norm_latitude</th>\n",
       "      <th>date</th>\n",
       "      <th>start_sec</th>\n",
       "    </tr>\n",
       "  </thead>\n",
       "  <tbody>\n",
       "    <tr>\n",
       "      <th>4</th>\n",
       "      <td>600.0</td>\n",
       "      <td>0.000654</td>\n",
       "      <td>26709_SSW_20170701.ogg</td>\n",
       "      <td>26709_SSW_600</td>\n",
       "      <td>nocall</td>\n",
       "      <td>NaN</td>\n",
       "      <td>217</td>\n",
       "      <td>NaN</td>\n",
       "      <td>5.0</td>\n",
       "      <td>6.0</td>\n",
       "      <td>...</td>\n",
       "      <td>/app/_data/train_soundscapes/26709_SSW_2017070...</td>\n",
       "      <td>160000.0</td>\n",
       "      <td>-0.500000</td>\n",
       "      <td>-8.660254e-01</td>\n",
       "      <td>-0.972166</td>\n",
       "      <td>0.234294</td>\n",
       "      <td>42.47</td>\n",
       "      <td>0.735944</td>\n",
       "      <td>2017-07-01</td>\n",
       "      <td>595.0</td>\n",
       "    </tr>\n",
       "    <tr>\n",
       "      <th>78</th>\n",
       "      <td>80.0</td>\n",
       "      <td>0.000654</td>\n",
       "      <td>14473_SSW_20170701.ogg</td>\n",
       "      <td>14473_SSW_80</td>\n",
       "      <td>nocall</td>\n",
       "      <td>NaN</td>\n",
       "      <td>217</td>\n",
       "      <td>NaN</td>\n",
       "      <td>5.0</td>\n",
       "      <td>6.0</td>\n",
       "      <td>...</td>\n",
       "      <td>/app/_data/train_soundscapes/14473_SSW_2017070...</td>\n",
       "      <td>160000.0</td>\n",
       "      <td>-0.500000</td>\n",
       "      <td>-8.660254e-01</td>\n",
       "      <td>-0.972166</td>\n",
       "      <td>0.234294</td>\n",
       "      <td>42.47</td>\n",
       "      <td>0.735944</td>\n",
       "      <td>2017-07-01</td>\n",
       "      <td>75.0</td>\n",
       "    </tr>\n",
       "    <tr>\n",
       "      <th>109</th>\n",
       "      <td>390.0</td>\n",
       "      <td>0.000654</td>\n",
       "      <td>50878_COR_20191004.ogg</td>\n",
       "      <td>50878_COR_390</td>\n",
       "      <td>nocall</td>\n",
       "      <td>NaN</td>\n",
       "      <td>217</td>\n",
       "      <td>NaN</td>\n",
       "      <td>5.0</td>\n",
       "      <td>6.0</td>\n",
       "      <td>...</td>\n",
       "      <td>/app/_data/train_soundscapes/50878_COR_2019100...</td>\n",
       "      <td>160000.0</td>\n",
       "      <td>-0.866025</td>\n",
       "      <td>5.000000e-01</td>\n",
       "      <td>-0.995413</td>\n",
       "      <td>0.095672</td>\n",
       "      <td>10.12</td>\n",
       "      <td>0.556222</td>\n",
       "      <td>2019-10-04</td>\n",
       "      <td>385.0</td>\n",
       "    </tr>\n",
       "    <tr>\n",
       "      <th>125</th>\n",
       "      <td>365.0</td>\n",
       "      <td>0.003546</td>\n",
       "      <td>28933_SSW_20170408.ogg</td>\n",
       "      <td>28933_SSW_365</td>\n",
       "      <td>cangoo</td>\n",
       "      <td>sonspa</td>\n",
       "      <td>80</td>\n",
       "      <td>311</td>\n",
       "      <td>5.0</td>\n",
       "      <td>6.0</td>\n",
       "      <td>...</td>\n",
       "      <td>/app/_data/train_soundscapes/28933_SSW_2017040...</td>\n",
       "      <td>160000.0</td>\n",
       "      <td>0.866025</td>\n",
       "      <td>-5.000000e-01</td>\n",
       "      <td>-0.972166</td>\n",
       "      <td>0.234294</td>\n",
       "      <td>42.47</td>\n",
       "      <td>0.735944</td>\n",
       "      <td>2017-04-08</td>\n",
       "      <td>360.0</td>\n",
       "    </tr>\n",
       "    <tr>\n",
       "      <th>132</th>\n",
       "      <td>475.0</td>\n",
       "      <td>0.000654</td>\n",
       "      <td>14473_SSW_20170701.ogg</td>\n",
       "      <td>14473_SSW_475</td>\n",
       "      <td>nocall</td>\n",
       "      <td>NaN</td>\n",
       "      <td>217</td>\n",
       "      <td>NaN</td>\n",
       "      <td>5.0</td>\n",
       "      <td>6.0</td>\n",
       "      <td>...</td>\n",
       "      <td>/app/_data/train_soundscapes/14473_SSW_2017070...</td>\n",
       "      <td>160000.0</td>\n",
       "      <td>-0.500000</td>\n",
       "      <td>-8.660254e-01</td>\n",
       "      <td>-0.972166</td>\n",
       "      <td>0.234294</td>\n",
       "      <td>42.47</td>\n",
       "      <td>0.735944</td>\n",
       "      <td>2017-07-01</td>\n",
       "      <td>470.0</td>\n",
       "    </tr>\n",
       "    <tr>\n",
       "      <th>...</th>\n",
       "      <td>...</td>\n",
       "      <td>...</td>\n",
       "      <td>...</td>\n",
       "      <td>...</td>\n",
       "      <td>...</td>\n",
       "      <td>...</td>\n",
       "      <td>...</td>\n",
       "      <td>...</td>\n",
       "      <td>...</td>\n",
       "      <td>...</td>\n",
       "      <td>...</td>\n",
       "      <td>...</td>\n",
       "      <td>...</td>\n",
       "      <td>...</td>\n",
       "      <td>...</td>\n",
       "      <td>...</td>\n",
       "      <td>...</td>\n",
       "      <td>...</td>\n",
       "      <td>...</td>\n",
       "      <td>...</td>\n",
       "      <td>...</td>\n",
       "    </tr>\n",
       "    <tr>\n",
       "      <th>261924</th>\n",
       "      <td>210.0</td>\n",
       "      <td>0.000654</td>\n",
       "      <td>18003_COR_20190904.ogg</td>\n",
       "      <td>18003_COR_210</td>\n",
       "      <td>nocall</td>\n",
       "      <td>NaN</td>\n",
       "      <td>217</td>\n",
       "      <td>NaN</td>\n",
       "      <td>5.0</td>\n",
       "      <td>6.0</td>\n",
       "      <td>...</td>\n",
       "      <td>/app/_data/train_soundscapes/18003_COR_2019090...</td>\n",
       "      <td>160000.0</td>\n",
       "      <td>-1.000000</td>\n",
       "      <td>-1.836970e-16</td>\n",
       "      <td>-0.995413</td>\n",
       "      <td>0.095672</td>\n",
       "      <td>10.12</td>\n",
       "      <td>0.556222</td>\n",
       "      <td>2019-09-04</td>\n",
       "      <td>205.0</td>\n",
       "    </tr>\n",
       "    <tr>\n",
       "      <th>261963</th>\n",
       "      <td>180.0</td>\n",
       "      <td>0.000654</td>\n",
       "      <td>14473_SSW_20170701.ogg</td>\n",
       "      <td>14473_SSW_180</td>\n",
       "      <td>nocall</td>\n",
       "      <td>NaN</td>\n",
       "      <td>217</td>\n",
       "      <td>NaN</td>\n",
       "      <td>5.0</td>\n",
       "      <td>6.0</td>\n",
       "      <td>...</td>\n",
       "      <td>/app/_data/train_soundscapes/14473_SSW_2017070...</td>\n",
       "      <td>160000.0</td>\n",
       "      <td>-0.500000</td>\n",
       "      <td>-8.660254e-01</td>\n",
       "      <td>-0.972166</td>\n",
       "      <td>0.234294</td>\n",
       "      <td>42.47</td>\n",
       "      <td>0.735944</td>\n",
       "      <td>2017-07-01</td>\n",
       "      <td>175.0</td>\n",
       "    </tr>\n",
       "    <tr>\n",
       "      <th>261973</th>\n",
       "      <td>350.0</td>\n",
       "      <td>0.000654</td>\n",
       "      <td>11254_COR_20190904.ogg</td>\n",
       "      <td>11254_COR_350</td>\n",
       "      <td>nocall</td>\n",
       "      <td>NaN</td>\n",
       "      <td>217</td>\n",
       "      <td>NaN</td>\n",
       "      <td>5.0</td>\n",
       "      <td>6.0</td>\n",
       "      <td>...</td>\n",
       "      <td>/app/_data/train_soundscapes/11254_COR_2019090...</td>\n",
       "      <td>160000.0</td>\n",
       "      <td>-1.000000</td>\n",
       "      <td>-1.836970e-16</td>\n",
       "      <td>-0.995413</td>\n",
       "      <td>0.095672</td>\n",
       "      <td>10.12</td>\n",
       "      <td>0.556222</td>\n",
       "      <td>2019-09-04</td>\n",
       "      <td>345.0</td>\n",
       "    </tr>\n",
       "    <tr>\n",
       "      <th>261988</th>\n",
       "      <td>235.0</td>\n",
       "      <td>0.000654</td>\n",
       "      <td>42907_SSW_20170708.ogg</td>\n",
       "      <td>42907_SSW_235</td>\n",
       "      <td>nocall</td>\n",
       "      <td>NaN</td>\n",
       "      <td>217</td>\n",
       "      <td>NaN</td>\n",
       "      <td>5.0</td>\n",
       "      <td>6.0</td>\n",
       "      <td>...</td>\n",
       "      <td>/app/_data/train_soundscapes/42907_SSW_2017070...</td>\n",
       "      <td>160000.0</td>\n",
       "      <td>-0.500000</td>\n",
       "      <td>-8.660254e-01</td>\n",
       "      <td>-0.972166</td>\n",
       "      <td>0.234294</td>\n",
       "      <td>42.47</td>\n",
       "      <td>0.735944</td>\n",
       "      <td>2017-07-08</td>\n",
       "      <td>230.0</td>\n",
       "    </tr>\n",
       "    <tr>\n",
       "      <th>261995</th>\n",
       "      <td>295.0</td>\n",
       "      <td>0.003546</td>\n",
       "      <td>28933_SSW_20170408.ogg</td>\n",
       "      <td>28933_SSW_295</td>\n",
       "      <td>cangoo</td>\n",
       "      <td>gockin rewbla</td>\n",
       "      <td>80</td>\n",
       "      <td>147 268</td>\n",
       "      <td>5.0</td>\n",
       "      <td>6.0</td>\n",
       "      <td>...</td>\n",
       "      <td>/app/_data/train_soundscapes/28933_SSW_2017040...</td>\n",
       "      <td>160000.0</td>\n",
       "      <td>0.866025</td>\n",
       "      <td>-5.000000e-01</td>\n",
       "      <td>-0.972166</td>\n",
       "      <td>0.234294</td>\n",
       "      <td>42.47</td>\n",
       "      <td>0.735944</td>\n",
       "      <td>2017-04-08</td>\n",
       "      <td>290.0</td>\n",
       "    </tr>\n",
       "  </tbody>\n",
       "</table>\n",
       "<p>11900 rows × 21 columns</p>\n",
       "</div>"
      ],
      "text/plain": [
       "        end_sec  class_weights                filename         row_id  \\\n",
       "4         600.0       0.000654  26709_SSW_20170701.ogg  26709_SSW_600   \n",
       "78         80.0       0.000654  14473_SSW_20170701.ogg   14473_SSW_80   \n",
       "109       390.0       0.000654  50878_COR_20191004.ogg  50878_COR_390   \n",
       "125       365.0       0.003546  28933_SSW_20170408.ogg  28933_SSW_365   \n",
       "132       475.0       0.000654  14473_SSW_20170701.ogg  14473_SSW_475   \n",
       "...         ...            ...                     ...            ...   \n",
       "261924    210.0       0.000654  18003_COR_20190904.ogg  18003_COR_210   \n",
       "261963    180.0       0.000654  14473_SSW_20170701.ogg  14473_SSW_180   \n",
       "261973    350.0       0.000654  11254_COR_20190904.ogg  11254_COR_350   \n",
       "261988    235.0       0.000654  42907_SSW_20170708.ogg  42907_SSW_235   \n",
       "261995    295.0       0.003546  28933_SSW_20170408.ogg  28933_SSW_295   \n",
       "\n",
       "       primary_label secondary_labels  label_id secondary_labels_id  duration  \\\n",
       "4             nocall              NaN       217                 NaN       5.0   \n",
       "78            nocall              NaN       217                 NaN       5.0   \n",
       "109           nocall              NaN       217                 NaN       5.0   \n",
       "125           cangoo           sonspa        80                 311       5.0   \n",
       "132           nocall              NaN       217                 NaN       5.0   \n",
       "...              ...              ...       ...                 ...       ...   \n",
       "261924        nocall              NaN       217                 NaN       5.0   \n",
       "261963        nocall              NaN       217                 NaN       5.0   \n",
       "261973        nocall              NaN       217                 NaN       5.0   \n",
       "261988        nocall              NaN       217                 NaN       5.0   \n",
       "261995        cangoo    gockin rewbla        80             147 268       5.0   \n",
       "\n",
       "        rating  ...                                          file_path  \\\n",
       "4          6.0  ...  /app/_data/train_soundscapes/26709_SSW_2017070...   \n",
       "78         6.0  ...  /app/_data/train_soundscapes/14473_SSW_2017070...   \n",
       "109        6.0  ...  /app/_data/train_soundscapes/50878_COR_2019100...   \n",
       "125        6.0  ...  /app/_data/train_soundscapes/28933_SSW_2017040...   \n",
       "132        6.0  ...  /app/_data/train_soundscapes/14473_SSW_2017070...   \n",
       "...        ...  ...                                                ...   \n",
       "261924     6.0  ...  /app/_data/train_soundscapes/18003_COR_2019090...   \n",
       "261963     6.0  ...  /app/_data/train_soundscapes/14473_SSW_2017070...   \n",
       "261973     6.0  ...  /app/_data/train_soundscapes/11254_COR_2019090...   \n",
       "261988     6.0  ...  /app/_data/train_soundscapes/42907_SSW_2017070...   \n",
       "261995     6.0  ...  /app/_data/train_soundscapes/28933_SSW_2017040...   \n",
       "\n",
       "          frames  sin_month     cos_month  sin_longitude  cos_longitude  \\\n",
       "4       160000.0  -0.500000 -8.660254e-01      -0.972166       0.234294   \n",
       "78      160000.0  -0.500000 -8.660254e-01      -0.972166       0.234294   \n",
       "109     160000.0  -0.866025  5.000000e-01      -0.995413       0.095672   \n",
       "125     160000.0   0.866025 -5.000000e-01      -0.972166       0.234294   \n",
       "132     160000.0  -0.500000 -8.660254e-01      -0.972166       0.234294   \n",
       "...          ...        ...           ...            ...            ...   \n",
       "261924  160000.0  -1.000000 -1.836970e-16      -0.995413       0.095672   \n",
       "261963  160000.0  -0.500000 -8.660254e-01      -0.972166       0.234294   \n",
       "261973  160000.0  -1.000000 -1.836970e-16      -0.995413       0.095672   \n",
       "261988  160000.0  -0.500000 -8.660254e-01      -0.972166       0.234294   \n",
       "261995  160000.0   0.866025 -5.000000e-01      -0.972166       0.234294   \n",
       "\n",
       "        latitude  norm_latitude        date start_sec  \n",
       "4          42.47       0.735944  2017-07-01     595.0  \n",
       "78         42.47       0.735944  2017-07-01      75.0  \n",
       "109        10.12       0.556222  2019-10-04     385.0  \n",
       "125        42.47       0.735944  2017-04-08     360.0  \n",
       "132        42.47       0.735944  2017-07-01     470.0  \n",
       "...          ...            ...         ...       ...  \n",
       "261924     10.12       0.556222  2019-09-04     205.0  \n",
       "261963     42.47       0.735944  2017-07-01     175.0  \n",
       "261973     10.12       0.556222  2019-09-04     345.0  \n",
       "261988     42.47       0.735944  2017-07-08     230.0  \n",
       "261995     42.47       0.735944  2017-04-08     290.0  \n",
       "\n",
       "[11900 rows x 21 columns]"
      ]
     },
     "execution_count": 29,
     "metadata": {},
     "output_type": "execute_result"
    }
   ],
   "source": [
    "df[df['end_sec']>df['duration']]"
   ]
  },
  {
   "cell_type": "code",
   "execution_count": 30,
   "metadata": {},
   "outputs": [],
   "source": [
    "mel_pr = Mel_Provider(\n",
    "    n_fft=N_FFT,\n",
    "    win_length=WIN_LENGHT,\n",
    "    n_mels=IMG_SIZE,\n",
    "    sample_rate=SAMPLE_RATE,\n",
    "    mel_image_size=IMG_SIZE,\n",
    "    min_frequency=FREQ_MIN,\n",
    "    max_frequency=FREQ_MAX,\n",
    "    signal_lenght=SIGNAL_LENGTH,\n",
    ")"
   ]
  },
  {
   "cell_type": "code",
   "execution_count": 31,
   "metadata": {},
   "outputs": [],
   "source": [
    "callbacks = [\n",
    "    keras.callbacks.EarlyStopping(\n",
    "        monitor=\"val_f1_score\",\n",
    "        patience=12,\n",
    "        restore_best_weights=True,\n",
    "        verbose=1,\n",
    "        mode=\"max\",\n",
    "    ),\n",
    "    keras.callbacks.ModelCheckpoint(\n",
    "        \"/app/_data/models/eff2_3/eff2_3.h5\",\n",
    "        monitor=\"val_f1_score\",\n",
    "        verbose=1,\n",
    "        save_best_only=True,\n",
    "        save_weights_only=False,\n",
    "        mode=\"max\",\n",
    "        save_freq=\"epoch\",\n",
    "    ),\n",
    "    keras.callbacks.ReduceLROnPlateau(\n",
    "        monitor=\"val_f1_score\",\n",
    "        factor=0.9,\n",
    "        patience=5,\n",
    "        verbose=1,\n",
    "        mode=\"max\",\n",
    "        min_delta=1e-4,\n",
    "        min_lr=0.00000001,\n",
    "    ),\n",
    "    keras.callbacks.TensorBoard(log_dir=\"/app/.tensorboard/eff2_3/\", histogram_freq=0),\n",
    "    keras.callbacks.experimental.BackupAndRestore(\"/app/_data/models/eff2_3/backup/\"),\n",
    "    keras.callbacks.TerminateOnNaN(),\n",
    "]"
   ]
  },
  {
   "cell_type": "code",
   "execution_count": 32,
   "metadata": {},
   "outputs": [],
   "source": [
    "def get_model():\n",
    "    inputs = keras.Input(shape=(IMG_SIZE, IMG_SIZE, 3))\n",
    "    base_model = keras.applications.EfficientNetB2(\n",
    "        weights=\"imagenet\", include_top=False\n",
    "    )\n",
    "    x = base_model(inputs)\n",
    "    x = keras.layers.GlobalAveragePooling2D(name=\"avg_pool\")(x)\n",
    "    x = keras.layers.Flatten(name=\"flatten\")(x)\n",
    "    outputs = keras.layers.Dense(NUM_CLASSES, activation=\"sigmoid\")(x)\n",
    "    model = keras.Model(inputs=inputs, outputs=outputs)\n",
    "    model.compile(\n",
    "        loss=\"binary_crossentropy\",\n",
    "        optimizer=Adam(lr=0.005),\n",
    "        metrics=[\n",
    "            \"acc\",\n",
    "            keras.metrics.Recall(),\n",
    "            keras.metrics.Precision(),\n",
    "            tfa.metrics.F1Score(num_classes=NUM_CLASSES, average=\"micro\"),\n",
    "        ],\n",
    "    )\n",
    "    return model"
   ]
  },
  {
   "cell_type": "code",
   "execution_count": 33,
   "metadata": {},
   "outputs": [
    {
     "name": "stdout",
     "output_type": "stream",
     "text": [
      "INFO:tensorflow:Mixed precision compatibility check (mixed_float16): OK\n",
      "Your GPU will likely run quickly with dtype policy mixed_float16 as it has compute capability of at least 7.0. Your GPU: NVIDIA GeForce RTX 3090, compute capability 8.6\n"
     ]
    }
   ],
   "source": [
    "policy = keras.mixed_precision.experimental.Policy(\"mixed_float16\")\n",
    "keras.mixed_precision.experimental.set_policy(policy)"
   ]
  },
  {
   "cell_type": "code",
   "execution_count": 34,
   "metadata": {},
   "outputs": [],
   "source": [
    "# for i in [\n",
    "#     \"/app/_data/npy/waves_npy/\",\n",
    "#     \"/app/_data/npy/short_mels/\",\n",
    "# ]:\n",
    "#     shutil.rmtree(i)"
   ]
  },
  {
   "cell_type": "code",
   "execution_count": 35,
   "metadata": {},
   "outputs": [],
   "source": [
    "BATCH_SIZE = 128"
   ]
  },
  {
   "cell_type": "code",
   "execution_count": 36,
   "metadata": {},
   "outputs": [],
   "source": [
    "NUM_CLASSES = len(dict_birds)"
   ]
  },
  {
   "cell_type": "code",
   "execution_count": 37,
   "metadata": {},
   "outputs": [],
   "source": [
    "gen_train = MEL_Generator_Short(\n",
    "    df=train,\n",
    "    n_mels=IMG_SIZE,\n",
    "    seed=SEED,\n",
    "    sample_rate=SAMPLE_RATE,\n",
    "    mel_image_size=IMG_SIZE,\n",
    "    batch_size=BATCH_SIZE,\n",
    "    n_classes=NUM_CLASSES,\n",
    "    signal_lenght=SIGNAL_LENGTH,\n",
    "    mel_provider=mel_pr,\n",
    "    wave_dir=\"/app/_data/npy/waves_npy/\",\n",
    "    short_mel_dir=\"/app/_data/npy/short_mels/\",\n",
    "    norm_mel=True,\n",
    "    convert_to_rgb=True,\n",
    "    shuffle=True,\n",
    "    return_primary_labels=False,\n",
    "    return_secondary_labels=False,\n",
    "    return_concat_labels=True,\n",
    "    augment=False\n",
    ")\n",
    "\n",
    "gen_valid = MEL_Generator_Short(\n",
    "    df=valid,\n",
    "    n_mels=IMG_SIZE,\n",
    "    seed=SEED,\n",
    "    sample_rate=SAMPLE_RATE,\n",
    "    mel_image_size=IMG_SIZE,\n",
    "    batch_size=BATCH_SIZE,\n",
    "    n_classes=NUM_CLASSES,\n",
    "    signal_lenght=SIGNAL_LENGTH,\n",
    "    mel_provider=mel_pr,\n",
    "    wave_dir=\"/app/_data/npy/waves_npy/\",\n",
    "    short_mel_dir=\"/app/_data/npy/short_mels/\",\n",
    "    norm_mel=True,\n",
    "    convert_to_rgb=True,\n",
    "    shuffle=False,\n",
    "    return_primary_labels=False,\n",
    "    return_secondary_labels=False,\n",
    "    return_concat_labels=True,\n",
    "    augment=False\n",
    ")"
   ]
  },
  {
   "cell_type": "code",
   "execution_count": 38,
   "metadata": {},
   "outputs": [],
   "source": [
    "# i"
   ]
  },
  {
   "cell_type": "code",
   "execution_count": 39,
   "metadata": {},
   "outputs": [],
   "source": [
    "# for i in tqdm(range(55500, 155500)):\n",
    "# #     print(i)\n",
    "#     a = gen_train._get_one(i)\n"
   ]
  },
  {
   "cell_type": "code",
   "execution_count": 40,
   "metadata": {},
   "outputs": [
    {
     "name": "stdout",
     "output_type": "stream",
     "text": [
      "Downloading data from https://storage.googleapis.com/keras-applications/efficientnetb2_notop.h5\n",
      "31793152/31790344 [==============================] - 2s 0us/step\n"
     ]
    }
   ],
   "source": [
    "model = get_model()"
   ]
  },
  {
   "cell_type": "code",
   "execution_count": 41,
   "metadata": {},
   "outputs": [
    {
     "name": "stdout",
     "output_type": "stream",
     "text": [
      "Epoch 44/100\n",
      "   1/1739 [..............................] - ETA: 0s - loss: 0.0036 - acc: 0.9609 - recall: 0.4936 - precision: 0.9809 - f1_score: 0.7924WARNING:tensorflow:From /usr/local/lib/python3.8/dist-packages/tensorflow/python/ops/summary_ops_v2.py:1277: stop (from tensorflow.python.eager.profiler) is deprecated and will be removed after 2020-07-01.\n",
      "Instructions for updating:\n",
      "use `tf.profiler.experimental.stop` instead.\n",
      "1739/1739 [==============================] - ETA: 0s - loss: 0.0027 - acc: 0.9681 - recall: 0.5412 - precision: 0.9851 - f1_score: 0.8449\n",
      "Epoch 00044: val_f1_score improved from -inf to 0.82669, saving model to /app/_data/models/Eff4_1/eff2_3.h5\n",
      "1739/1739 [==============================] - 1176s 676ms/step - loss: 0.0027 - acc: 0.9681 - recall: 0.5412 - precision: 0.9851 - f1_score: 0.8449 - val_loss: 0.0037 - val_acc: 0.9462 - val_recall: 0.4578 - val_precision: 0.9885 - val_f1_score: 0.8267\n",
      "Epoch 45/100\n",
      "1739/1739 [==============================] - ETA: 0s - loss: 0.0023 - acc: 0.9849 - recall: 0.5505 - precision: 0.9931 - f1_score: 0.8579\n",
      "Epoch 00045: val_f1_score improved from 0.82669 to 0.83455, saving model to /app/_data/models/Eff4_1/eff2_3.h5\n",
      "1739/1739 [==============================] - 925s 532ms/step - loss: 0.0023 - acc: 0.9849 - recall: 0.5505 - precision: 0.9931 - f1_score: 0.8579 - val_loss: 0.0032 - val_acc: 0.9556 - val_recall: 0.4999 - val_precision: 0.9855 - val_f1_score: 0.8346\n",
      "Epoch 46/100\n",
      "1739/1739 [==============================] - ETA: 0s - loss: 0.0022 - acc: 0.9888 - recall: 0.5536 - precision: 0.9948 - f1_score: 0.8609\n",
      "Epoch 00046: val_f1_score improved from 0.83455 to 0.84455, saving model to /app/_data/models/Eff4_1/eff2_3.h5\n",
      "1739/1739 [==============================] - 921s 529ms/step - loss: 0.0022 - acc: 0.9888 - recall: 0.5536 - precision: 0.9948 - f1_score: 0.8609 - val_loss: 0.0028 - val_acc: 0.9685 - val_recall: 0.5483 - val_precision: 0.9853 - val_f1_score: 0.8446\n",
      "Epoch 47/100\n",
      "1739/1739 [==============================] - ETA: 0s - loss: 0.0022 - acc: 0.9910 - recall: 0.5544 - precision: 0.9958 - f1_score: 0.8625\n",
      "Epoch 00047: val_f1_score did not improve from 0.84455\n",
      "1739/1739 [==============================] - 982s 564ms/step - loss: 0.0022 - acc: 0.9910 - recall: 0.5544 - precision: 0.9958 - f1_score: 0.8625 - val_loss: 0.0035 - val_acc: 0.9518 - val_recall: 0.4840 - val_precision: 0.9863 - val_f1_score: 0.8318\n",
      "Epoch 48/100\n",
      "1739/1739 [==============================] - ETA: 0s - loss: 0.0022 - acc: 0.9924 - recall: 0.5554 - precision: 0.9966 - f1_score: 0.8635\n",
      "Epoch 00048: val_f1_score improved from 0.84455 to 0.84493, saving model to /app/_data/models/Eff4_1/eff2_3.h5\n",
      "1739/1739 [==============================] - 982s 564ms/step - loss: 0.0022 - acc: 0.9924 - recall: 0.5554 - precision: 0.9966 - f1_score: 0.8635 - val_loss: 0.0028 - val_acc: 0.9684 - val_recall: 0.5238 - val_precision: 0.9888 - val_f1_score: 0.8449\n",
      "Epoch 49/100\n",
      "1739/1739 [==============================] - ETA: 0s - loss: 0.0021 - acc: 0.9935 - recall: 0.5564 - precision: 0.9966 - f1_score: 0.8643\n",
      "Epoch 00049: val_f1_score did not improve from 0.84493\n",
      "1739/1739 [==============================] - 959s 551ms/step - loss: 0.0021 - acc: 0.9935 - recall: 0.5564 - precision: 0.9966 - f1_score: 0.8643 - val_loss: 0.0029 - val_acc: 0.9646 - val_recall: 0.5272 - val_precision: 0.9857 - val_f1_score: 0.8418\n",
      "Epoch 50/100\n",
      "1739/1739 [==============================] - ETA: 0s - loss: 0.0021 - acc: 0.9942 - recall: 0.5558 - precision: 0.9972 - f1_score: 0.8648\n",
      "Epoch 00050: val_f1_score improved from 0.84493 to 0.84963, saving model to /app/_data/models/Eff4_1/eff2_3.h5\n",
      "1739/1739 [==============================] - 1006s 578ms/step - loss: 0.0021 - acc: 0.9942 - recall: 0.5558 - precision: 0.9972 - f1_score: 0.8648 - val_loss: 0.0025 - val_acc: 0.9744 - val_recall: 0.5310 - val_precision: 0.9915 - val_f1_score: 0.8496\n",
      "Epoch 51/100\n",
      "1739/1739 [==============================] - ETA: 0s - loss: 0.0021 - acc: 0.9946 - recall: 0.5560 - precision: 0.9973 - f1_score: 0.8651\n",
      "Epoch 00051: val_f1_score did not improve from 0.84963\n",
      "1739/1739 [==============================] - 984s 566ms/step - loss: 0.0021 - acc: 0.9946 - recall: 0.5560 - precision: 0.9973 - f1_score: 0.8651 - val_loss: 0.0027 - val_acc: 0.9741 - val_recall: 0.6289 - val_precision: 0.9849 - val_f1_score: 0.8492\n",
      "Epoch 52/100\n",
      "1739/1739 [==============================] - ETA: 0s - loss: 0.0021 - acc: 0.9948 - recall: 0.5558 - precision: 0.9974 - f1_score: 0.8652\n",
      "Epoch 00052: val_f1_score did not improve from 0.84963\n",
      "1739/1739 [==============================] - 956s 550ms/step - loss: 0.0021 - acc: 0.9948 - recall: 0.5558 - precision: 0.9974 - f1_score: 0.8652 - val_loss: 0.0034 - val_acc: 0.9556 - val_recall: 0.4816 - val_precision: 0.9888 - val_f1_score: 0.8353\n",
      "Epoch 53/100\n",
      "1739/1739 [==============================] - ETA: 0s - loss: 0.0021 - acc: 0.9955 - recall: 0.5556 - precision: 0.9979 - f1_score: 0.8657\n",
      "Epoch 00053: val_f1_score did not improve from 0.84963\n",
      "1739/1739 [==============================] - 979s 563ms/step - loss: 0.0021 - acc: 0.9955 - recall: 0.5556 - precision: 0.9979 - f1_score: 0.8657 - val_loss: 0.0028 - val_acc: 0.9692 - val_recall: 0.5320 - val_precision: 0.9898 - val_f1_score: 0.8454\n",
      "Epoch 54/100\n",
      "1739/1739 [==============================] - ETA: 0s - loss: 0.0020 - acc: 0.9958 - recall: 0.5554 - precision: 0.9981 - f1_score: 0.8659\n",
      "Epoch 00054: val_f1_score did not improve from 0.84963\n",
      "1739/1739 [==============================] - 986s 567ms/step - loss: 0.0020 - acc: 0.9958 - recall: 0.5554 - precision: 0.9981 - f1_score: 0.8659 - val_loss: 0.0031 - val_acc: 0.9664 - val_recall: 0.4872 - val_precision: 0.9921 - val_f1_score: 0.8435\n",
      "Epoch 55/100\n",
      "1739/1739 [==============================] - ETA: 0s - loss: 0.0020 - acc: 0.9960 - recall: 0.5552 - precision: 0.9980 - f1_score: 0.8660\n",
      "Epoch 00055: val_f1_score did not improve from 0.84963\n",
      "\n",
      "Epoch 00055: ReduceLROnPlateau reducing learning rate to 0.004049999825656414.\n",
      "1739/1739 [==============================] - 969s 557ms/step - loss: 0.0020 - acc: 0.9960 - recall: 0.5552 - precision: 0.9980 - f1_score: 0.8660 - val_loss: 0.0026 - val_acc: 0.9741 - val_recall: 0.5814 - val_precision: 0.9858 - val_f1_score: 0.8492\n",
      "Epoch 56/100\n",
      "1739/1739 [==============================] - ETA: 0s - loss: 0.0020 - acc: 0.9969 - recall: 0.5532 - precision: 0.9986 - f1_score: 0.8667\n",
      "Epoch 00056: val_f1_score did not improve from 0.84963\n",
      "1739/1739 [==============================] - 877s 504ms/step - loss: 0.0020 - acc: 0.9969 - recall: 0.5532 - precision: 0.9986 - f1_score: 0.8667 - val_loss: 0.0027 - val_acc: 0.9743 - val_recall: 0.4955 - val_precision: 0.9951 - val_f1_score: 0.8494\n",
      "Epoch 57/100\n",
      "1739/1739 [==============================] - ETA: 0s - loss: 0.0020 - acc: 0.9973 - recall: 0.5522 - precision: 0.9989 - f1_score: 0.8670\n",
      "Epoch 00057: val_f1_score did not improve from 0.84963\n",
      "1739/1739 [==============================] - 887s 510ms/step - loss: 0.0020 - acc: 0.9973 - recall: 0.5522 - precision: 0.9989 - f1_score: 0.8670 - val_loss: 0.0028 - val_acc: 0.9712 - val_recall: 0.5368 - val_precision: 0.9908 - val_f1_score: 0.8465\n",
      "Epoch 58/100\n",
      "1739/1739 [==============================] - ETA: 0s - loss: 0.0020 - acc: 0.9975 - recall: 0.5523 - precision: 0.9988 - f1_score: 0.8671\n",
      "Epoch 00058: val_f1_score did not improve from 0.84963\n",
      "1739/1739 [==============================] - 884s 508ms/step - loss: 0.0020 - acc: 0.9975 - recall: 0.5523 - precision: 0.9988 - f1_score: 0.8671 - val_loss: 0.0026 - val_acc: 0.9725 - val_recall: 0.5435 - val_precision: 0.9904 - val_f1_score: 0.8480\n",
      "Epoch 59/100\n",
      "1739/1739 [==============================] - ETA: 0s - loss: 0.0019 - acc: 0.9975 - recall: 0.5521 - precision: 0.9988 - f1_score: 0.8671\n",
      "Epoch 00059: val_f1_score did not improve from 0.84963\n",
      "1739/1739 [==============================] - 909s 523ms/step - loss: 0.0019 - acc: 0.9975 - recall: 0.5521 - precision: 0.9988 - f1_score: 0.8671 - val_loss: 0.0027 - val_acc: 0.9742 - val_recall: 0.5136 - val_precision: 0.9951 - val_f1_score: 0.8495\n",
      "Epoch 60/100\n",
      "1739/1739 [==============================] - ETA: 0s - loss: 0.0019 - acc: 0.9977 - recall: 0.5513 - precision: 0.9990 - f1_score: 0.8673\n",
      "Epoch 00060: val_f1_score did not improve from 0.84963\n",
      "\n",
      "Epoch 00060: ReduceLROnPlateau reducing learning rate to 0.0036449996754527093.\n",
      "1739/1739 [==============================] - 902s 519ms/step - loss: 0.0019 - acc: 0.9977 - recall: 0.5513 - precision: 0.9990 - f1_score: 0.8673 - val_loss: 0.0028 - val_acc: 0.9700 - val_recall: 0.5092 - val_precision: 0.9920 - val_f1_score: 0.8461\n",
      "Epoch 61/100\n",
      "1739/1739 [==============================] - ETA: 0s - loss: 0.0019 - acc: 0.9982 - recall: 0.5485 - precision: 0.9993 - f1_score: 0.8675\n",
      "Epoch 00061: val_f1_score did not improve from 0.84963\n",
      "1739/1739 [==============================] - 927s 533ms/step - loss: 0.0019 - acc: 0.9982 - recall: 0.5485 - precision: 0.9993 - f1_score: 0.8675 - val_loss: 0.0029 - val_acc: 0.9660 - val_recall: 0.5173 - val_precision: 0.9912 - val_f1_score: 0.8425\n",
      "Epoch 62/100\n",
      "1739/1739 [==============================] - ETA: 0s - loss: 0.0019 - acc: 0.9984 - recall: 0.5473 - precision: 0.9994 - f1_score: 0.8677\n",
      "Epoch 00062: val_f1_score improved from 0.84963 to 0.85255, saving model to /app/_data/models/Eff4_1/eff2_3.h5\n",
      "1739/1739 [==============================] - 891s 512ms/step - loss: 0.0019 - acc: 0.9984 - recall: 0.5473 - precision: 0.9994 - f1_score: 0.8677 - val_loss: 0.0024 - val_acc: 0.9786 - val_recall: 0.6173 - val_precision: 0.9900 - val_f1_score: 0.8525\n",
      "Epoch 63/100\n",
      "1739/1739 [==============================] - ETA: 0s - loss: 0.0019 - acc: 0.9985 - recall: 0.5472 - precision: 0.9993 - f1_score: 0.8677\n",
      "Epoch 00063: val_f1_score did not improve from 0.85255\n",
      "1739/1739 [==============================] - 934s 537ms/step - loss: 0.0019 - acc: 0.9985 - recall: 0.5472 - precision: 0.9993 - f1_score: 0.8677 - val_loss: 0.0024 - val_acc: 0.9767 - val_recall: 0.5595 - val_precision: 0.9918 - val_f1_score: 0.8513\n",
      "Epoch 64/100\n",
      "1739/1739 [==============================] - ETA: 0s - loss: 0.0019 - acc: 0.9985 - recall: 0.5472 - precision: 0.9994 - f1_score: 0.8677\n",
      "Epoch 00064: val_f1_score did not improve from 0.85255\n",
      "1739/1739 [==============================] - 879s 506ms/step - loss: 0.0019 - acc: 0.9985 - recall: 0.5472 - precision: 0.9994 - f1_score: 0.8677 - val_loss: 0.0025 - val_acc: 0.9762 - val_recall: 0.5267 - val_precision: 0.9941 - val_f1_score: 0.8507\n",
      "Epoch 65/100\n",
      "1739/1739 [==============================] - ETA: 0s - loss: 0.0019 - acc: 0.9987 - recall: 0.5460 - precision: 0.9995 - f1_score: 0.8679\n",
      "Epoch 00065: val_f1_score improved from 0.85255 to 0.85337, saving model to /app/_data/models/Eff4_1/eff2_3.h5\n",
      "1739/1739 [==============================] - 887s 510ms/step - loss: 0.0019 - acc: 0.9987 - recall: 0.5460 - precision: 0.9995 - f1_score: 0.8679 - val_loss: 0.0023 - val_acc: 0.9796 - val_recall: 0.5437 - val_precision: 0.9936 - val_f1_score: 0.8534\n",
      "Epoch 66/100\n",
      "1739/1739 [==============================] - ETA: 0s - loss: 0.0019 - acc: 0.9986 - recall: 0.5456 - precision: 0.9994 - f1_score: 0.8678\n",
      "Epoch 00066: val_f1_score did not improve from 0.85337\n",
      "1739/1739 [==============================] - 886s 510ms/step - loss: 0.0019 - acc: 0.9986 - recall: 0.5456 - precision: 0.9994 - f1_score: 0.8678 - val_loss: 0.0026 - val_acc: 0.9762 - val_recall: 0.5096 - val_precision: 0.9947 - val_f1_score: 0.8508\n",
      "Epoch 67/100\n",
      "1739/1739 [==============================] - ETA: 0s - loss: 0.0018 - acc: 0.9988 - recall: 0.5449 - precision: 0.9995 - f1_score: 0.8679\n",
      "Epoch 00067: val_f1_score did not improve from 0.85337\n",
      "1739/1739 [==============================] - 905s 520ms/step - loss: 0.0018 - acc: 0.9988 - recall: 0.5449 - precision: 0.9995 - f1_score: 0.8679 - val_loss: 0.0024 - val_acc: 0.9794 - val_recall: 0.5544 - val_precision: 0.9932 - val_f1_score: 0.8531\n",
      "Epoch 68/100\n",
      "1739/1739 [==============================] - ETA: 0s - loss: 0.0018 - acc: 0.9989 - recall: 0.5443 - precision: 0.9995 - f1_score: 0.8680\n",
      "Epoch 00068: val_f1_score did not improve from 0.85337\n",
      "1739/1739 [==============================] - 886s 510ms/step - loss: 0.0018 - acc: 0.9989 - recall: 0.5443 - precision: 0.9995 - f1_score: 0.8680 - val_loss: 0.0025 - val_acc: 0.9756 - val_recall: 0.5636 - val_precision: 0.9899 - val_f1_score: 0.8505\n",
      "Epoch 69/100\n",
      "1739/1739 [==============================] - ETA: 0s - loss: 0.0018 - acc: 0.9988 - recall: 0.5446 - precision: 0.9995 - f1_score: 0.8679\n",
      "Epoch 00069: val_f1_score did not improve from 0.85337\n",
      "1739/1739 [==============================] - 950s 546ms/step - loss: 0.0018 - acc: 0.9988 - recall: 0.5446 - precision: 0.9995 - f1_score: 0.8679 - val_loss: 0.0057 - val_acc: 0.9034 - val_recall: 0.4715 - val_precision: 0.9855 - val_f1_score: 0.7904\n",
      "Epoch 70/100\n",
      "1739/1739 [==============================] - ETA: 0s - loss: 0.0018 - acc: 0.9990 - recall: 0.5441 - precision: 0.9995 - f1_score: 0.8680\n",
      "Epoch 00070: val_f1_score did not improve from 0.85337\n",
      "\n",
      "Epoch 00070: ReduceLROnPlateau reducing learning rate to 0.0032804996240884065.\n",
      "1739/1739 [==============================] - 888s 511ms/step - loss: 0.0018 - acc: 0.9990 - recall: 0.5441 - precision: 0.9995 - f1_score: 0.8680 - val_loss: 0.0024 - val_acc: 0.9779 - val_recall: 0.5496 - val_precision: 0.9934 - val_f1_score: 0.8521\n",
      "Epoch 71/100\n",
      "1739/1739 [==============================] - ETA: 0s - loss: 0.0018 - acc: 0.9990 - recall: 0.5409 - precision: 0.9996 - f1_score: 0.8681\n",
      "Epoch 00071: val_f1_score did not improve from 0.85337\n",
      "1739/1739 [==============================] - 939s 540ms/step - loss: 0.0018 - acc: 0.9990 - recall: 0.5409 - precision: 0.9996 - f1_score: 0.8681 - val_loss: 0.0023 - val_acc: 0.9790 - val_recall: 0.5744 - val_precision: 0.9932 - val_f1_score: 0.8528\n",
      "Epoch 72/100\n",
      "1739/1739 [==============================] - ETA: 0s - loss: 0.0018 - acc: 0.9992 - recall: 0.5400 - precision: 0.9997 - f1_score: 0.8682\n",
      "Epoch 00072: val_f1_score improved from 0.85337 to 0.85453, saving model to /app/_data/models/Eff4_1/eff2_3.h5\n",
      "1739/1739 [==============================] - 930s 535ms/step - loss: 0.0018 - acc: 0.9992 - recall: 0.5400 - precision: 0.9997 - f1_score: 0.8682 - val_loss: 0.0023 - val_acc: 0.9811 - val_recall: 0.5472 - val_precision: 0.9944 - val_f1_score: 0.8545\n",
      "Epoch 73/100\n",
      "1739/1739 [==============================] - ETA: 0s - loss: 0.0018 - acc: 0.9993 - recall: 0.5393 - precision: 0.9997 - f1_score: 0.8682\n",
      "Epoch 00073: val_f1_score did not improve from 0.85453\n",
      "1739/1739 [==============================] - 943s 542ms/step - loss: 0.0018 - acc: 0.9993 - recall: 0.5393 - precision: 0.9997 - f1_score: 0.8682 - val_loss: 0.0024 - val_acc: 0.9795 - val_recall: 0.5434 - val_precision: 0.9947 - val_f1_score: 0.8532\n",
      "Epoch 74/100\n",
      "1739/1739 [==============================] - ETA: 0s - loss: 0.0018 - acc: 0.9992 - recall: 0.5397 - precision: 0.9997 - f1_score: 0.8682\n",
      "Epoch 00074: val_f1_score did not improve from 0.85453\n",
      "1739/1739 [==============================] - 911s 524ms/step - loss: 0.0018 - acc: 0.9992 - recall: 0.5397 - precision: 0.9997 - f1_score: 0.8682 - val_loss: 0.0023 - val_acc: 0.9796 - val_recall: 0.5698 - val_precision: 0.9933 - val_f1_score: 0.8534\n",
      "Epoch 75/100\n",
      "1739/1739 [==============================] - ETA: 0s - loss: 0.0018 - acc: 0.9992 - recall: 0.5386 - precision: 0.9997 - f1_score: 0.8682\n",
      "Epoch 00075: val_f1_score did not improve from 0.85453\n",
      "1739/1739 [==============================] - 964s 554ms/step - loss: 0.0018 - acc: 0.9992 - recall: 0.5386 - precision: 0.9997 - f1_score: 0.8682 - val_loss: 0.0024 - val_acc: 0.9796 - val_recall: 0.5250 - val_precision: 0.9949 - val_f1_score: 0.8534\n",
      "Epoch 76/100\n",
      "1739/1739 [==============================] - ETA: 0s - loss: 0.0018 - acc: 0.9994 - recall: 0.5384 - precision: 0.9997 - f1_score: 0.8683\n",
      "Epoch 00076: val_f1_score did not improve from 0.85453\n",
      "1739/1739 [==============================] - 918s 528ms/step - loss: 0.0018 - acc: 0.9994 - recall: 0.5384 - precision: 0.9997 - f1_score: 0.8683 - val_loss: 0.0023 - val_acc: 0.9804 - val_recall: 0.5500 - val_precision: 0.9947 - val_f1_score: 0.8539\n",
      "Epoch 77/100\n",
      "1739/1739 [==============================] - ETA: 0s - loss: 0.0018 - acc: 0.9994 - recall: 0.5380 - precision: 0.9998 - f1_score: 0.8683\n",
      "Epoch 00077: val_f1_score did not improve from 0.85453\n",
      "\n",
      "Epoch 00077: ReduceLROnPlateau reducing learning rate to 0.0029524497454985975.\n",
      "1739/1739 [==============================] - 954s 548ms/step - loss: 0.0018 - acc: 0.9994 - recall: 0.5380 - precision: 0.9998 - f1_score: 0.8683 - val_loss: 0.0024 - val_acc: 0.9789 - val_recall: 0.5265 - val_precision: 0.9949 - val_f1_score: 0.8529\n",
      "Epoch 78/100\n",
      "1739/1739 [==============================] - ETA: 0s - loss: 0.0018 - acc: 0.9995 - recall: 0.5346 - precision: 0.9998 - f1_score: 0.8684\n",
      "Epoch 00078: val_f1_score did not improve from 0.85453\n",
      "1739/1739 [==============================] - 940s 541ms/step - loss: 0.0018 - acc: 0.9995 - recall: 0.5346 - precision: 0.9998 - f1_score: 0.8684 - val_loss: 0.0025 - val_acc: 0.9781 - val_recall: 0.5289 - val_precision: 0.9952 - val_f1_score: 0.8521\n",
      "Epoch 79/100\n",
      "1739/1739 [==============================] - ETA: 0s - loss: 0.0018 - acc: 0.9996 - recall: 0.5338 - precision: 0.9999 - f1_score: 0.8684\n",
      "Epoch 00079: val_f1_score improved from 0.85453 to 0.85458, saving model to /app/_data/models/Eff4_1/eff2_3.h5\n",
      "1739/1739 [==============================] - 916s 527ms/step - loss: 0.0018 - acc: 0.9996 - recall: 0.5338 - precision: 0.9999 - f1_score: 0.8684 - val_loss: 0.0023 - val_acc: 0.9811 - val_recall: 0.5607 - val_precision: 0.9944 - val_f1_score: 0.8546\n",
      "Epoch 80/100\n",
      "1739/1739 [==============================] - ETA: 0s - loss: 0.0018 - acc: 0.9995 - recall: 0.5337 - precision: 0.9998 - f1_score: 0.8684\n",
      "Epoch 00080: val_f1_score improved from 0.85458 to 0.85499, saving model to /app/_data/models/Eff4_1/eff2_3.h5\n",
      "1739/1739 [==============================] - 937s 539ms/step - loss: 0.0018 - acc: 0.9995 - recall: 0.5337 - precision: 0.9998 - f1_score: 0.8684 - val_loss: 0.0023 - val_acc: 0.9818 - val_recall: 0.5637 - val_precision: 0.9945 - val_f1_score: 0.8550\n",
      "Epoch 81/100\n",
      "1739/1739 [==============================] - ETA: 0s - loss: 0.0018 - acc: 0.9996 - recall: 0.5329 - precision: 0.9999 - f1_score: 0.8684\n",
      "Epoch 00081: val_f1_score did not improve from 0.85499\n",
      "1739/1739 [==============================] - 958s 551ms/step - loss: 0.0018 - acc: 0.9996 - recall: 0.5329 - precision: 0.9999 - f1_score: 0.8684 - val_loss: 0.0023 - val_acc: 0.9807 - val_recall: 0.5304 - val_precision: 0.9953 - val_f1_score: 0.8541\n",
      "Epoch 82/100\n",
      "1739/1739 [==============================] - ETA: 0s - loss: 0.0018 - acc: 0.9996 - recall: 0.5326 - precision: 0.9998 - f1_score: 0.8684\n",
      "Epoch 00082: val_f1_score did not improve from 0.85499\n",
      "1739/1739 [==============================] - 909s 523ms/step - loss: 0.0018 - acc: 0.9996 - recall: 0.5326 - precision: 0.9998 - f1_score: 0.8684 - val_loss: 0.0022 - val_acc: 0.9810 - val_recall: 0.5563 - val_precision: 0.9950 - val_f1_score: 0.8544\n",
      "Epoch 83/100\n",
      "1739/1739 [==============================] - ETA: 0s - loss: 0.0018 - acc: 0.9996 - recall: 0.5330 - precision: 0.9998 - f1_score: 0.8685\n",
      "Epoch 00083: val_f1_score improved from 0.85499 to 0.85526, saving model to /app/_data/models/Eff4_1/eff2_3.h5\n",
      "1739/1739 [==============================] - 949s 546ms/step - loss: 0.0018 - acc: 0.9996 - recall: 0.5330 - precision: 0.9998 - f1_score: 0.8685 - val_loss: 0.0023 - val_acc: 0.9820 - val_recall: 0.6084 - val_precision: 0.9938 - val_f1_score: 0.8553\n",
      "Epoch 84/100\n",
      "1739/1739 [==============================] - ETA: 0s - loss: 0.0017 - acc: 0.9997 - recall: 0.5317 - precision: 0.9999 - f1_score: 0.8685\n",
      "Epoch 00084: val_f1_score did not improve from 0.85526\n",
      "1739/1739 [==============================] - 907s 522ms/step - loss: 0.0017 - acc: 0.9997 - recall: 0.5317 - precision: 0.9999 - f1_score: 0.8685 - val_loss: 0.0023 - val_acc: 0.9810 - val_recall: 0.5277 - val_precision: 0.9964 - val_f1_score: 0.8545\n",
      "Epoch 85/100\n",
      "1739/1739 [==============================] - ETA: 0s - loss: 0.0017 - acc: 0.9997 - recall: 0.5322 - precision: 0.9999 - f1_score: 0.8685\n",
      "Epoch 00085: val_f1_score did not improve from 0.85526\n",
      "1739/1739 [==============================] - 918s 528ms/step - loss: 0.0017 - acc: 0.9997 - recall: 0.5322 - precision: 0.9999 - f1_score: 0.8685 - val_loss: 0.0023 - val_acc: 0.9816 - val_recall: 0.5983 - val_precision: 0.9938 - val_f1_score: 0.8548\n",
      "Epoch 86/100\n",
      "1739/1739 [==============================] - ETA: 0s - loss: 0.0017 - acc: 0.9996 - recall: 0.5319 - precision: 0.9998 - f1_score: 0.8685\n",
      "Epoch 00086: val_f1_score did not improve from 0.85526\n",
      "1739/1739 [==============================] - 962s 553ms/step - loss: 0.0017 - acc: 0.9996 - recall: 0.5319 - precision: 0.9998 - f1_score: 0.8685 - val_loss: 0.0023 - val_acc: 0.9786 - val_recall: 0.5554 - val_precision: 0.9936 - val_f1_score: 0.8526\n",
      "Epoch 87/100\n",
      "1739/1739 [==============================] - ETA: 0s - loss: 0.0017 - acc: 0.9996 - recall: 0.5311 - precision: 0.9999 - f1_score: 0.8685\n",
      "Epoch 00087: val_f1_score did not improve from 0.85526\n",
      "1739/1739 [==============================] - 957s 550ms/step - loss: 0.0017 - acc: 0.9996 - recall: 0.5311 - precision: 0.9999 - f1_score: 0.8685 - val_loss: 0.0023 - val_acc: 0.9794 - val_recall: 0.5402 - val_precision: 0.9943 - val_f1_score: 0.8531\n",
      "Epoch 88/100\n",
      "1739/1739 [==============================] - ETA: 0s - loss: 0.0017 - acc: 0.9997 - recall: 0.5313 - precision: 0.9999 - f1_score: 0.8685\n",
      "Epoch 00088: val_f1_score did not improve from 0.85526\n",
      "\n",
      "Epoch 00088: ReduceLROnPlateau reducing learning rate to 0.00265720474999398.\n",
      "1739/1739 [==============================] - 913s 525ms/step - loss: 0.0017 - acc: 0.9997 - recall: 0.5313 - precision: 0.9999 - f1_score: 0.8685 - val_loss: 0.0023 - val_acc: 0.9809 - val_recall: 0.5539 - val_precision: 0.9950 - val_f1_score: 0.8543\n",
      "Epoch 89/100\n",
      "1739/1739 [==============================] - ETA: 0s - loss: 0.0017 - acc: 0.9998 - recall: 0.5283 - precision: 0.9999 - f1_score: 0.8686\n",
      "Epoch 00089: val_f1_score did not improve from 0.85526\n",
      "1739/1739 [==============================] - 927s 533ms/step - loss: 0.0017 - acc: 0.9998 - recall: 0.5283 - precision: 0.9999 - f1_score: 0.8686 - val_loss: 0.0023 - val_acc: 0.9810 - val_recall: 0.5339 - val_precision: 0.9949 - val_f1_score: 0.8544\n",
      "Epoch 90/100\n",
      "1739/1739 [==============================] - ETA: 0s - loss: 0.0017 - acc: 0.9998 - recall: 0.5278 - precision: 0.9999 - f1_score: 0.8686\n",
      "Epoch 00090: val_f1_score improved from 0.85526 to 0.85565, saving model to /app/_data/models/Eff4_1/eff2_3.h5\n",
      "1739/1739 [==============================] - 969s 557ms/step - loss: 0.0017 - acc: 0.9998 - recall: 0.5278 - precision: 0.9999 - f1_score: 0.8686 - val_loss: 0.0022 - val_acc: 0.9828 - val_recall: 0.5689 - val_precision: 0.9949 - val_f1_score: 0.8557\n",
      "Epoch 91/100\n",
      "1739/1739 [==============================] - ETA: 0s - loss: 0.0017 - acc: 0.9998 - recall: 0.5273 - precision: 0.9999 - f1_score: 0.8686\n",
      "Epoch 00091: val_f1_score did not improve from 0.85565\n",
      "1739/1739 [==============================] - 899s 517ms/step - loss: 0.0017 - acc: 0.9998 - recall: 0.5273 - precision: 0.9999 - f1_score: 0.8686 - val_loss: 0.0023 - val_acc: 0.9817 - val_recall: 0.5509 - val_precision: 0.9951 - val_f1_score: 0.8549\n",
      "Epoch 92/100\n",
      "1739/1739 [==============================] - ETA: 0s - loss: 0.0017 - acc: 0.9997 - recall: 0.5267 - precision: 0.9999 - f1_score: 0.8685\n",
      "Epoch 00092: val_f1_score did not improve from 0.85565\n",
      "1739/1739 [==============================] - 948s 545ms/step - loss: 0.0017 - acc: 0.9997 - recall: 0.5267 - precision: 0.9999 - f1_score: 0.8685 - val_loss: 0.0023 - val_acc: 0.9808 - val_recall: 0.5167 - val_precision: 0.9961 - val_f1_score: 0.8542\n",
      "Epoch 93/100\n",
      "1739/1739 [==============================] - ETA: 0s - loss: 0.0017 - acc: 0.9998 - recall: 0.5264 - precision: 0.9999 - f1_score: 0.8686\n",
      "Epoch 00093: val_f1_score did not improve from 0.85565\n",
      "1739/1739 [==============================] - 912s 524ms/step - loss: 0.0017 - acc: 0.9998 - recall: 0.5264 - precision: 0.9999 - f1_score: 0.8686 - val_loss: 0.0022 - val_acc: 0.9815 - val_recall: 0.5510 - val_precision: 0.9955 - val_f1_score: 0.8547\n",
      "Epoch 94/100\n",
      "1739/1739 [==============================] - ETA: 0s - loss: 0.0017 - acc: 0.9998 - recall: 0.5261 - precision: 0.9999 - f1_score: 0.8686\n",
      "Epoch 00094: val_f1_score did not improve from 0.85565\n",
      "1739/1739 [==============================] - 911s 524ms/step - loss: 0.0017 - acc: 0.9998 - recall: 0.5261 - precision: 0.9999 - f1_score: 0.8686 - val_loss: 0.0022 - val_acc: 0.9823 - val_recall: 0.5529 - val_precision: 0.9953 - val_f1_score: 0.8554\n",
      "Epoch 95/100\n",
      "1739/1739 [==============================] - ETA: 0s - loss: 0.0017 - acc: 0.9997 - recall: 0.5266 - precision: 0.9999 - f1_score: 0.8685\n",
      "Epoch 00095: val_f1_score did not improve from 0.85565\n",
      "\n",
      "Epoch 00095: ReduceLROnPlateau reducing learning rate to 0.002391484379768372.\n",
      "1739/1739 [==============================] - 888s 511ms/step - loss: 0.0017 - acc: 0.9997 - recall: 0.5266 - precision: 0.9999 - f1_score: 0.8685 - val_loss: 0.0023 - val_acc: 0.9819 - val_recall: 0.5482 - val_precision: 0.9954 - val_f1_score: 0.8550\n",
      "Epoch 96/100\n",
      "1739/1739 [==============================] - ETA: 0s - loss: 0.0017 - acc: 0.9998 - recall: 0.5239 - precision: 0.9999 - f1_score: 0.8686\n",
      "Epoch 00096: val_f1_score did not improve from 0.85565\n",
      "1739/1739 [==============================] - 907s 521ms/step - loss: 0.0017 - acc: 0.9998 - recall: 0.5239 - precision: 0.9999 - f1_score: 0.8686 - val_loss: 0.0022 - val_acc: 0.9823 - val_recall: 0.5421 - val_precision: 0.9959 - val_f1_score: 0.8553\n",
      "Epoch 97/100\n",
      "1739/1739 [==============================] - ETA: 0s - loss: 0.0017 - acc: 0.9998 - recall: 0.5226 - precision: 0.9999 - f1_score: 0.8686\n",
      "Epoch 00097: val_f1_score did not improve from 0.85565\n",
      "1739/1739 [==============================] - 888s 510ms/step - loss: 0.0017 - acc: 0.9998 - recall: 0.5226 - precision: 0.9999 - f1_score: 0.8686 - val_loss: 0.0023 - val_acc: 0.9813 - val_recall: 0.5494 - val_precision: 0.9955 - val_f1_score: 0.8545\n",
      "Epoch 98/100\n",
      "1739/1739 [==============================] - ETA: 0s - loss: 0.0017 - acc: 0.9999 - recall: 0.5225 - precision: 0.9999 - f1_score: 0.8686\n",
      "Epoch 00098: val_f1_score did not improve from 0.85565\n",
      "1739/1739 [==============================] - 934s 537ms/step - loss: 0.0017 - acc: 0.9999 - recall: 0.5225 - precision: 0.9999 - f1_score: 0.8686 - val_loss: 0.0022 - val_acc: 0.9822 - val_recall: 0.5448 - val_precision: 0.9957 - val_f1_score: 0.8553\n",
      "Epoch 99/100\n",
      "1739/1739 [==============================] - ETA: 0s - loss: 0.0017 - acc: 0.9999 - recall: 0.5221 - precision: 0.9999 - f1_score: 0.8686\n",
      "Epoch 00099: val_f1_score did not improve from 0.85565\n",
      "1739/1739 [==============================] - 874s 503ms/step - loss: 0.0017 - acc: 0.9999 - recall: 0.5221 - precision: 0.9999 - f1_score: 0.8686 - val_loss: 0.0022 - val_acc: 0.9818 - val_recall: 0.5342 - val_precision: 0.9956 - val_f1_score: 0.8551\n",
      "Epoch 100/100\n",
      "1739/1739 [==============================] - ETA: 0s - loss: 0.0017 - acc: 0.9999 - recall: 0.5218 - precision: 0.9999 - f1_score: 0.8686\n",
      "Epoch 00100: val_f1_score did not improve from 0.85565\n",
      "\n",
      "Epoch 00100: ReduceLROnPlateau reducing learning rate to 0.0021523358998820187.\n",
      "1739/1739 [==============================] - 889s 511ms/step - loss: 0.0017 - acc: 0.9999 - recall: 0.5218 - precision: 0.9999 - f1_score: 0.8686 - val_loss: 0.0022 - val_acc: 0.9813 - val_recall: 0.5342 - val_precision: 0.9958 - val_f1_score: 0.8545\n"
     ]
    }
   ],
   "source": [
    "history = model.fit(\n",
    "    gen_train,\n",
    "    validation_data=gen_valid,\n",
    "    epochs=100,\n",
    "    steps_per_epoch=train.shape[0] // BATCH_SIZE,\n",
    "    validation_steps=valid.shape[0] // BATCH_SIZE,\n",
    "    verbose=1,\n",
    "    workers=30,\n",
    "    callbacks=callbacks,\n",
    ")"
   ]
  },
  {
   "cell_type": "code",
   "execution_count": null,
   "metadata": {},
   "outputs": [],
   "source": [
    "import kaggle"
   ]
  },
  {
   "cell_type": "code",
   "execution_count": 57,
   "metadata": {},
   "outputs": [
    {
     "name": "stdout",
     "output_type": "stream",
     "text": [
      "Warning: Your Kaggle API key is readable by other users on this system! To fix this, you can run 'chmod 600 /app/kaggle.json'\n",
      "Data package template written to: /app/_data/models/Eff01/dataset-metadata.json\n"
     ]
    }
   ],
   "source": [
    "! kaggle datasets init -p /app/_data/models/Eff2_3"
   ]
  },
  {
   "cell_type": "code",
   "execution_count": 60,
   "metadata": {},
   "outputs": [
    {
     "name": "stdout",
     "output_type": "stream",
     "text": [
      "Warning: Your Kaggle API key is readable by other users on this system! To fix this, you can run 'chmod 600 /app/kaggle.json'\n",
      "Starting upload for file dict_birds.json\n",
      "100%|██████████████████████████████████████| 5.86k/5.86k [00:01<00:00, 3.59kB/s]\n",
      "Upload successful: dict_birds.json (6KB)\n",
      "Starting upload for file eff0_1.h5\n",
      "100%|███████████████████████████████████████| 52.7M/52.7M [01:21<00:00, 675kB/s]\n",
      "Upload successful: eff0_1.h5 (53MB)\n",
      "Skipping folder: .ipynb_checkpoints; use '--dir-mode' to upload folders\n",
      "Your private Dataset is being created. Please check progress at https://www.kaggle.com/nataliayurasova/Eff01Initial\n"
     ]
    }
   ],
   "source": [
    "! kaggle datasets create -p /app/_data/models/Eff2_3"
   ]
  },
  {
   "cell_type": "code",
   "execution_count": null,
   "metadata": {},
   "outputs": [],
   "source": []
  }
 ],
 "metadata": {
  "kernelspec": {
   "display_name": "Python 3",
   "language": "python",
   "name": "python3"
  },
  "language_info": {
   "codemirror_mode": {
    "name": "ipython",
    "version": 3
   },
   "file_extension": ".py",
   "mimetype": "text/x-python",
   "name": "python",
   "nbconvert_exporter": "python",
   "pygments_lexer": "ipython3",
   "version": "3.8.5"
  }
 },
 "nbformat": 4,
 "nbformat_minor": 4
}
