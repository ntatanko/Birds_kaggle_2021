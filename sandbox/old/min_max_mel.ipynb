{
 "cells": [
  {
   "cell_type": "code",
   "execution_count": 1,
   "metadata": {},
   "outputs": [],
   "source": [
    "import os\n",
    "import shutil\n",
    "import warnings\n",
    "\n",
    "import numpy as np\n",
    "import pandas as pd\n",
    "import torchaudio\n",
    "\n",
    "warnings.filterwarnings(action=\"ignore\")\n",
    "from IPython.core.interactiveshell import InteractiveShell\n",
    "\n",
    "InteractiveShell.ast_node_interactivity = \"all\"\n",
    "import json\n",
    "\n",
    "import geopandas\n",
    "import librosa\n",
    "import librosa.display\n",
    "import matplotlib.pyplot as plt\n",
    "import scipy.stats as st\n",
    "import seaborn as sns\n",
    "import soundfile\n",
    "import tensorflow as tf\n",
    "import torch\n",
    "\n",
    "%matplotlib inline\n",
    "from PIL import Image\n",
    "from sklearn.model_selection import train_test_split\n",
    "from sklearn.utils import shuffle\n",
    "from tensorflow import keras\n",
    "from tensorflow.keras.models import Sequential\n",
    "from tensorflow.keras.optimizers import Adam\n",
    "from torchaudio.transforms import MelSpectrogram\n",
    "from tqdm import tqdm"
   ]
  },
  {
   "cell_type": "code",
   "execution_count": 2,
   "metadata": {},
   "outputs": [],
   "source": [
    "SEED = 42\n",
    "IMG_SIZE = 260\n",
    "SAMPLE_RATE = 32000\n",
    "N_FFT = 2048\n",
    "SIGNAL_LENGTH = 5  # seconds\n",
    "FREQ_MIN = 500\n",
    "FREQ_MAX = 15000\n",
    "MAX_AUDIO_FILES = 100\n",
    "WIN_LENGHT = 1024\n",
    "AUDIO_PATH = \"/app/_data/train_short_audio/\"\n",
    "calls_to_drop = [\"XC579430.ogg\", \"XC590621.ogg\"]"
   ]
  },
  {
   "cell_type": "code",
   "execution_count": 3,
   "metadata": {},
   "outputs": [],
   "source": [
    "train_metadata= pd.read_csv(\"/app/_data/train_metadata_full.csv\")"
   ]
  },
  {
   "cell_type": "code",
   "execution_count": 7,
   "metadata": {},
   "outputs": [],
   "source": [
    "HOP_LENGTH = int(\n",
    "    32000 * 5 / (IMG_SIZE - 1))"
   ]
  },
  {
   "cell_type": "code",
   "execution_count": 33,
   "metadata": {},
   "outputs": [],
   "source": [
    "min_max_dict={}\n",
    "for path in train_metadata['file_path']:\n",
    "    name = path.split('/')[-1]\n",
    "    wave, sr = librosa.load(path, sr=SAMPLE_RATE)\n",
    "    mel = librosa.feature.melspectrogram(\n",
    "            wave,\n",
    "            sr=SAMPLE_RATE,\n",
    "            n_fft=2048,\n",
    "            win_length=WIN_LENGHT,\n",
    "            hop_length=HOP_LENGTH,\n",
    "            n_mels=IMG_SIZE,\n",
    "            fmin=FREQ_MIN,\n",
    "            fmax=FREQ_MAX,\n",
    "        )\n",
    "    mel = librosa.power_to_db(mel)\n",
    "    min_max_dict[name] = [mel.min(), mel.max()]"
   ]
  },
  {
   "cell_type": "code",
   "execution_count": 34,
   "metadata": {},
   "outputs": [],
   "source": [
    "df = pd.DataFrame(min_max_dict).T"
   ]
  },
  {
   "cell_type": "code",
   "execution_count": 35,
   "metadata": {},
   "outputs": [],
   "source": [
    "df.columns = ['min', 'max']"
   ]
  },
  {
   "cell_type": "code",
   "execution_count": 36,
   "metadata": {},
   "outputs": [
    {
     "data": {
      "text/html": [
       "<div>\n",
       "<style scoped>\n",
       "    .dataframe tbody tr th:only-of-type {\n",
       "        vertical-align: middle;\n",
       "    }\n",
       "\n",
       "    .dataframe tbody tr th {\n",
       "        vertical-align: top;\n",
       "    }\n",
       "\n",
       "    .dataframe thead th {\n",
       "        text-align: right;\n",
       "    }\n",
       "</style>\n",
       "<table border=\"1\" class=\"dataframe\">\n",
       "  <thead>\n",
       "    <tr style=\"text-align: right;\">\n",
       "      <th></th>\n",
       "      <th>min</th>\n",
       "      <th>max</th>\n",
       "    </tr>\n",
       "  </thead>\n",
       "  <tbody>\n",
       "    <tr>\n",
       "      <th>XC109605.ogg</th>\n",
       "      <td>-74.466286</td>\n",
       "      <td>5.533711</td>\n",
       "    </tr>\n",
       "    <tr>\n",
       "      <th>XC11209.ogg</th>\n",
       "      <td>-65.819443</td>\n",
       "      <td>14.180557</td>\n",
       "    </tr>\n",
       "    <tr>\n",
       "      <th>XC127032.ogg</th>\n",
       "      <td>-92.770172</td>\n",
       "      <td>-12.770171</td>\n",
       "    </tr>\n",
       "    <tr>\n",
       "      <th>XC129974.ogg</th>\n",
       "      <td>-86.944679</td>\n",
       "      <td>-6.944676</td>\n",
       "    </tr>\n",
       "    <tr>\n",
       "      <th>XC129981.ogg</th>\n",
       "      <td>-78.272804</td>\n",
       "      <td>1.727196</td>\n",
       "    </tr>\n",
       "    <tr>\n",
       "      <th>...</th>\n",
       "      <td>...</td>\n",
       "      <td>...</td>\n",
       "    </tr>\n",
       "    <tr>\n",
       "      <th>XC591680.ogg</th>\n",
       "      <td>-89.220100</td>\n",
       "      <td>-9.220098</td>\n",
       "    </tr>\n",
       "    <tr>\n",
       "      <th>XC600085.ogg</th>\n",
       "      <td>-67.975037</td>\n",
       "      <td>12.024967</td>\n",
       "    </tr>\n",
       "    <tr>\n",
       "      <th>XC602701.ogg</th>\n",
       "      <td>-67.683960</td>\n",
       "      <td>12.316044</td>\n",
       "    </tr>\n",
       "    <tr>\n",
       "      <th>XC614733.ogg</th>\n",
       "      <td>-66.722282</td>\n",
       "      <td>13.277718</td>\n",
       "    </tr>\n",
       "    <tr>\n",
       "      <th>XC615888.ogg</th>\n",
       "      <td>-72.953362</td>\n",
       "      <td>7.046637</td>\n",
       "    </tr>\n",
       "  </tbody>\n",
       "</table>\n",
       "<p>62874 rows × 2 columns</p>\n",
       "</div>"
      ],
      "text/plain": [
       "                    min        max\n",
       "XC109605.ogg -74.466286   5.533711\n",
       "XC11209.ogg  -65.819443  14.180557\n",
       "XC127032.ogg -92.770172 -12.770171\n",
       "XC129974.ogg -86.944679  -6.944676\n",
       "XC129981.ogg -78.272804   1.727196\n",
       "...                 ...        ...\n",
       "XC591680.ogg -89.220100  -9.220098\n",
       "XC600085.ogg -67.975037  12.024967\n",
       "XC602701.ogg -67.683960  12.316044\n",
       "XC614733.ogg -66.722282  13.277718\n",
       "XC615888.ogg -72.953362   7.046637\n",
       "\n",
       "[62874 rows x 2 columns]"
      ]
     },
     "execution_count": 36,
     "metadata": {},
     "output_type": "execute_result"
    }
   ],
   "source": [
    "df"
   ]
  },
  {
   "cell_type": "code",
   "execution_count": 37,
   "metadata": {},
   "outputs": [],
   "source": [
    "df['filename'] = df.index"
   ]
  },
  {
   "cell_type": "code",
   "execution_count": 38,
   "metadata": {},
   "outputs": [],
   "source": [
    "df.to_csv('/app/_data/min_max_mel_db.csv', index=False)"
   ]
  },
  {
   "cell_type": "code",
   "execution_count": 39,
   "metadata": {},
   "outputs": [
    {
     "data": {
      "text/html": [
       "<div>\n",
       "<style scoped>\n",
       "    .dataframe tbody tr th:only-of-type {\n",
       "        vertical-align: middle;\n",
       "    }\n",
       "\n",
       "    .dataframe tbody tr th {\n",
       "        vertical-align: top;\n",
       "    }\n",
       "\n",
       "    .dataframe thead th {\n",
       "        text-align: right;\n",
       "    }\n",
       "</style>\n",
       "<table border=\"1\" class=\"dataframe\">\n",
       "  <thead>\n",
       "    <tr style=\"text-align: right;\">\n",
       "      <th></th>\n",
       "      <th>min</th>\n",
       "      <th>max</th>\n",
       "    </tr>\n",
       "  </thead>\n",
       "  <tbody>\n",
       "    <tr>\n",
       "      <th>count</th>\n",
       "      <td>62874.000000</td>\n",
       "      <td>62874.000000</td>\n",
       "    </tr>\n",
       "    <tr>\n",
       "      <th>mean</th>\n",
       "      <td>-75.932284</td>\n",
       "      <td>3.933032</td>\n",
       "    </tr>\n",
       "    <tr>\n",
       "      <th>std</th>\n",
       "      <td>9.021403</td>\n",
       "      <td>9.469411</td>\n",
       "    </tr>\n",
       "    <tr>\n",
       "      <th>min</th>\n",
       "      <td>-100.000000</td>\n",
       "      <td>-100.000000</td>\n",
       "    </tr>\n",
       "    <tr>\n",
       "      <th>25%</th>\n",
       "      <td>-81.262318</td>\n",
       "      <td>-1.271007</td>\n",
       "    </tr>\n",
       "    <tr>\n",
       "      <th>50%</th>\n",
       "      <td>-74.125397</td>\n",
       "      <td>5.870295</td>\n",
       "    </tr>\n",
       "    <tr>\n",
       "      <th>75%</th>\n",
       "      <td>-69.032707</td>\n",
       "      <td>10.966664</td>\n",
       "    </tr>\n",
       "    <tr>\n",
       "      <th>max</th>\n",
       "      <td>-58.963268</td>\n",
       "      <td>21.036732</td>\n",
       "    </tr>\n",
       "  </tbody>\n",
       "</table>\n",
       "</div>"
      ],
      "text/plain": [
       "                min           max\n",
       "count  62874.000000  62874.000000\n",
       "mean     -75.932284      3.933032\n",
       "std        9.021403      9.469411\n",
       "min     -100.000000   -100.000000\n",
       "25%      -81.262318     -1.271007\n",
       "50%      -74.125397      5.870295\n",
       "75%      -69.032707     10.966664\n",
       "max      -58.963268     21.036732"
      ]
     },
     "execution_count": 39,
     "metadata": {},
     "output_type": "execute_result"
    }
   ],
   "source": [
    "df[['min', 'max']].describe()"
   ]
  },
  {
   "cell_type": "code",
   "execution_count": 28,
   "metadata": {},
   "outputs": [
    {
     "data": {
      "text/plain": [
       "<AxesSubplot:>"
      ]
     },
     "execution_count": 28,
     "metadata": {},
     "output_type": "execute_result"
    },
    {
     "data": {
      "image/png": "[encoded data removed]",
      "text/plain": [
       "<Figure size 432x288 with 1 Axes>"
      ]
     },
     "metadata": {
      "image/png": {
       "height": 248,
       "width": 388
      },
      "needs_background": "light"
     },
     "output_type": "display_data"
    }
   ],
   "source": [
    "df['max'].hist(bins=100)"
   ]
  },
  {
   "cell_type": "code",
   "execution_count": null,
   "metadata": {},
   "outputs": [],
   "source": [
    "df['max'].hist(bins=100)"
   ]
  }
 ],
 "metadata": {
  "kernelspec": {
   "display_name": "Python 3",
   "language": "python",
   "name": "python3"
  },
  "language_info": {
   "codemirror_mode": {
    "name": "ipython",
    "version": 3
   },
   "file_extension": ".py",
   "mimetype": "text/x-python",
   "name": "python",
   "nbconvert_exporter": "python",
   "pygments_lexer": "ipython3",
   "version": "3.8.5"
  }
 },
 "nbformat": 4,
 "nbformat_minor": 4
}
