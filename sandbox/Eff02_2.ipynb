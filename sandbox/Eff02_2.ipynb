{
 "cells": [
  {
   "cell_type": "code",
   "execution_count": 1,
   "metadata": {},
   "outputs": [],
   "source": [
    "import os\n",
    "import shutil\n",
    "import warnings\n",
    "\n",
    "import numpy as np\n",
    "import pandas as pd\n",
    "import plotly.graph_objects as go\n",
    "import torchaudio\n",
    "\n",
    "warnings.filterwarnings(action=\"ignore\")\n",
    "from IPython.core.interactiveshell import InteractiveShell\n",
    "\n",
    "InteractiveShell.ast_node_interactivity = \"all\"\n",
    "import json\n",
    "\n",
    "import geopandas\n",
    "import librosa\n",
    "import librosa.display\n",
    "import matplotlib.pyplot as plt\n",
    "import scipy.stats as st\n",
    "import seaborn as sns\n",
    "import soundfile\n",
    "import tensorflow as tf\n",
    "import tensorflow_addons as tfa\n",
    "import torch\n",
    "\n",
    "%matplotlib inline\n",
    "from PIL import Image\n",
    "from sklearn.model_selection import train_test_split\n",
    "from sklearn.utils import shuffle\n",
    "from tensorflow import keras\n",
    "from tensorflow.keras.models import Sequential\n",
    "from tensorflow.keras.optimizers import Adam\n",
    "from torchaudio.transforms import MelSpectrogram\n",
    "from tqdm import tqdm\n",
    "\n",
    "from src.gen_short import MEL_Generator_Short, Mel_Provider\n",
    "from src.prepare_dataset import make_dict_birds, prepare_dataset, choose_ids"
   ]
  },
  {
   "cell_type": "code",
   "execution_count": 2,
   "metadata": {},
   "outputs": [],
   "source": [
    "SEED = 42\n",
    "IMG_SIZE = 260\n",
    "SAMPLE_RATE = 32000\n",
    "N_FFT = 2048\n",
    "SIGNAL_LENGTH = 5\n",
    "FREQ_MIN = 500\n",
    "FREQ_MAX = 15000\n",
    "WIN_LENGHT = 1024\n",
    "BATCH_SIZE = 128"
   ]
  },
  {
   "cell_type": "code",
   "execution_count": 3,
   "metadata": {},
   "outputs": [
    {
     "data": {
      "text/plain": [
       "(686847, 21)"
      ]
     },
     "execution_count": 3,
     "metadata": {},
     "output_type": "execute_result"
    }
   ],
   "source": [
    "rand_cut = pd.read_csv(\"/app/_data/random_cut_edited.csv\")\n",
    "train_sound = pd.read_csv(\"/app/_data/train_soundscapes_prepared.csv\")\n",
    "train_sound = prepare_dataset(train_sound)\n",
    "rand_cut = prepare_dataset(rand_cut)\n",
    "rand_cut.shape"
   ]
  },
  {
   "cell_type": "code",
   "execution_count": 4,
   "metadata": {},
   "outputs": [
    {
     "data": {
      "text/plain": [
       "21416"
      ]
     },
     "execution_count": 4,
     "metadata": {},
     "output_type": "execute_result"
    }
   ],
   "source": [
    "_, list_filenames = choose_ids(500)\n",
    "len(list_filenames)"
   ]
  },
  {
   "cell_type": "code",
   "execution_count": 5,
   "metadata": {},
   "outputs": [
    {
     "data": {
      "text/plain": [
       "(221458, 21)"
      ]
     },
     "execution_count": 5,
     "metadata": {},
     "output_type": "execute_result"
    }
   ],
   "source": [
    "rand_cut = rand_cut.query('filename in @list_filenames')\n",
    "rand_cut.shape"
   ]
  },
  {
   "cell_type": "code",
   "execution_count": 6,
   "metadata": {},
   "outputs": [
    {
     "data": {
      "text/plain": [
       "(191256, 21)"
      ]
     },
     "execution_count": 6,
     "metadata": {},
     "output_type": "execute_result"
    }
   ],
   "source": [
    "all_audio = pd.concat([rand_cut, train_sound], axis=0, ignore_index=True)\n",
    "all_audio = all_audio[all_audio[\"rating\"] >= 3]\n",
    "all_audio.shape\n",
    "all_audio = all_audio.reset_index(drop=True)"
   ]
  },
  {
   "cell_type": "code",
   "execution_count": 7,
   "metadata": {},
   "outputs": [],
   "source": [
    "dict_birds, df = make_dict_birds(all_audio)"
   ]
  },
  {
   "cell_type": "code",
   "execution_count": 8,
   "metadata": {},
   "outputs": [
    {
     "data": {
      "text/html": [
       "<div>\n",
       "<style scoped>\n",
       "    .dataframe tbody tr th:only-of-type {\n",
       "        vertical-align: middle;\n",
       "    }\n",
       "\n",
       "    .dataframe tbody tr th {\n",
       "        vertical-align: top;\n",
       "    }\n",
       "\n",
       "    .dataframe thead th {\n",
       "        text-align: right;\n",
       "    }\n",
       "</style>\n",
       "<table border=\"1\" class=\"dataframe\">\n",
       "  <thead>\n",
       "    <tr style=\"text-align: right;\">\n",
       "      <th></th>\n",
       "      <th>filename</th>\n",
       "      <th>primary_label</th>\n",
       "      <th>secondary_labels</th>\n",
       "      <th>label_id</th>\n",
       "      <th>secondary_labels_id</th>\n",
       "      <th>start_sec</th>\n",
       "      <th>end_sec</th>\n",
       "      <th>row_id</th>\n",
       "      <th>duration</th>\n",
       "      <th>rating</th>\n",
       "      <th>...</th>\n",
       "      <th>year</th>\n",
       "      <th>file_path</th>\n",
       "      <th>frames</th>\n",
       "      <th>sin_month</th>\n",
       "      <th>cos_month</th>\n",
       "      <th>sin_longitude</th>\n",
       "      <th>cos_longitude</th>\n",
       "      <th>latitude</th>\n",
       "      <th>norm_latitude</th>\n",
       "      <th>date</th>\n",
       "    </tr>\n",
       "  </thead>\n",
       "  <tbody>\n",
       "    <tr>\n",
       "      <th>117701</th>\n",
       "      <td>XC358899.ogg</td>\n",
       "      <td>oaktit</td>\n",
       "      <td>NaN</td>\n",
       "      <td>226</td>\n",
       "      <td>NaN</td>\n",
       "      <td>26.62</td>\n",
       "      <td>31.62</td>\n",
       "      <td>XC358899_31_62</td>\n",
       "      <td>36.901000</td>\n",
       "      <td>4.0</td>\n",
       "      <td>...</td>\n",
       "      <td>2017</td>\n",
       "      <td>/app/_data/train_short_audio/oaktit/XC358899.ogg</td>\n",
       "      <td>1180832.0</td>\n",
       "      <td>8.660254e-01</td>\n",
       "      <td>0.500000</td>\n",
       "      <td>-0.897477</td>\n",
       "      <td>-0.441061</td>\n",
       "      <td>34.0148</td>\n",
       "      <td>0.688971</td>\n",
       "      <td>2017-02-16</td>\n",
       "    </tr>\n",
       "    <tr>\n",
       "      <th>132186</th>\n",
       "      <td>XC322509.ogg</td>\n",
       "      <td>reevir1</td>\n",
       "      <td>rebwoo acafly</td>\n",
       "      <td>263</td>\n",
       "      <td>261 0</td>\n",
       "      <td>7.60</td>\n",
       "      <td>12.60</td>\n",
       "      <td>XC322509_12_6</td>\n",
       "      <td>24.177437</td>\n",
       "      <td>4.5</td>\n",
       "      <td>...</td>\n",
       "      <td>2016</td>\n",
       "      <td>/app/_data/train_short_audio/reevir1/XC322509.ogg</td>\n",
       "      <td>773678.0</td>\n",
       "      <td>5.000000e-01</td>\n",
       "      <td>-0.866025</td>\n",
       "      <td>-0.968333</td>\n",
       "      <td>0.249663</td>\n",
       "      <td>39.1742</td>\n",
       "      <td>0.717634</td>\n",
       "      <td>2016-05-15</td>\n",
       "    </tr>\n",
       "    <tr>\n",
       "      <th>170700</th>\n",
       "      <td>XC436105.ogg</td>\n",
       "      <td>wesant1</td>\n",
       "      <td>NaN</td>\n",
       "      <td>349</td>\n",
       "      <td>NaN</td>\n",
       "      <td>4.18</td>\n",
       "      <td>9.18</td>\n",
       "      <td>XC436105_9_19</td>\n",
       "      <td>69.229000</td>\n",
       "      <td>4.0</td>\n",
       "      <td>...</td>\n",
       "      <td>2017</td>\n",
       "      <td>/app/_data/train_short_audio/wesant1/XC436105.ogg</td>\n",
       "      <td>2215328.0</td>\n",
       "      <td>1.224647e-16</td>\n",
       "      <td>-1.000000</td>\n",
       "      <td>-0.969591</td>\n",
       "      <td>0.244730</td>\n",
       "      <td>6.4764</td>\n",
       "      <td>0.535980</td>\n",
       "      <td>2017-06-27</td>\n",
       "    </tr>\n",
       "  </tbody>\n",
       "</table>\n",
       "<p>3 rows × 21 columns</p>\n",
       "</div>"
      ],
      "text/plain": [
       "            filename primary_label secondary_labels  label_id  \\\n",
       "117701  XC358899.ogg        oaktit              NaN       226   \n",
       "132186  XC322509.ogg       reevir1    rebwoo acafly       263   \n",
       "170700  XC436105.ogg       wesant1              NaN       349   \n",
       "\n",
       "       secondary_labels_id  start_sec  end_sec          row_id   duration  \\\n",
       "117701                 NaN      26.62    31.62  XC358899_31_62  36.901000   \n",
       "132186               261 0       7.60    12.60   XC322509_12_6  24.177437   \n",
       "170700                 NaN       4.18     9.18   XC436105_9_19  69.229000   \n",
       "\n",
       "        rating  ...  year                                          file_path  \\\n",
       "117701     4.0  ...  2017   /app/_data/train_short_audio/oaktit/XC358899.ogg   \n",
       "132186     4.5  ...  2016  /app/_data/train_short_audio/reevir1/XC322509.ogg   \n",
       "170700     4.0  ...  2017  /app/_data/train_short_audio/wesant1/XC436105.ogg   \n",
       "\n",
       "           frames     sin_month  cos_month  sin_longitude  cos_longitude  \\\n",
       "117701  1180832.0  8.660254e-01   0.500000      -0.897477      -0.441061   \n",
       "132186   773678.0  5.000000e-01  -0.866025      -0.968333       0.249663   \n",
       "170700  2215328.0  1.224647e-16  -1.000000      -0.969591       0.244730   \n",
       "\n",
       "        latitude  norm_latitude       date  \n",
       "117701   34.0148       0.688971 2017-02-16  \n",
       "132186   39.1742       0.717634 2016-05-15  \n",
       "170700    6.4764       0.535980 2017-06-27  \n",
       "\n",
       "[3 rows x 21 columns]"
      ]
     },
     "execution_count": 8,
     "metadata": {},
     "output_type": "execute_result"
    }
   ],
   "source": [
    "df.sample(3)"
   ]
  },
  {
   "cell_type": "code",
   "execution_count": 9,
   "metadata": {},
   "outputs": [],
   "source": [
    "file_json = open(\"/app/_data/models/Eff02_2/dict_birds_eff2_02.json\", \"w\")\n",
    "json.dump(dict_birds, file_json)\n",
    "file_json.close()"
   ]
  },
  {
   "cell_type": "code",
   "execution_count": 10,
   "metadata": {},
   "outputs": [],
   "source": [
    "train, valid = train_test_split(df, train_size=0.85, random_state=SEED)\n",
    "train = train.reset_index(drop=True)\n",
    "valid = valid.reset_index(drop=True)"
   ]
  },
  {
   "cell_type": "code",
   "execution_count": 11,
   "metadata": {},
   "outputs": [],
   "source": [
    "mel_pr = Mel_Provider(\n",
    "    n_fft=N_FFT,\n",
    "    win_length=WIN_LENGHT,\n",
    "    n_mels=IMG_SIZE,\n",
    "    sample_rate=SAMPLE_RATE,\n",
    "    mel_image_size=IMG_SIZE,\n",
    "    min_frequency=FREQ_MIN,\n",
    "    max_frequency=FREQ_MAX,\n",
    "    signal_lenght=SIGNAL_LENGTH,\n",
    ")"
   ]
  },
  {
   "cell_type": "code",
   "execution_count": 12,
   "metadata": {},
   "outputs": [],
   "source": [
    "callbacks = [\n",
    "    keras.callbacks.EarlyStopping(\n",
    "        monitor=\"val_f1_score\",\n",
    "        patience=12,\n",
    "        restore_best_weights=True,\n",
    "        verbose=1,\n",
    "        mode=\"max\",\n",
    "    ),\n",
    "    keras.callbacks.ModelCheckpoint(\n",
    "        \"/app/_data/models/Eff02_2/eff02_2.h5\",\n",
    "        monitor=\"val_f1_score\",\n",
    "        verbose=1,\n",
    "        save_best_only=True,\n",
    "        save_weights_only=False,\n",
    "        mode=\"max\",\n",
    "        save_freq=\"epoch\",\n",
    "    ),\n",
    "    keras.callbacks.ReduceLROnPlateau(\n",
    "        monitor=\"val_f1_score\",\n",
    "        factor=0.9,\n",
    "        patience=5,\n",
    "        verbose=1,\n",
    "        mode=\"max\",\n",
    "        min_delta=1e-4,\n",
    "        min_lr=0.00000001,\n",
    "    ),\n",
    "    keras.callbacks.TensorBoard(log_dir=\"/app/.tensorboard/eff0_2/\", histogram_freq=0),\n",
    "    keras.callbacks.experimental.BackupAndRestore(\"/app/_data/models/Eff02_2/backup/\"),\n",
    "    keras.callbacks.TerminateOnNaN(),\n",
    "]"
   ]
  },
  {
   "cell_type": "code",
   "execution_count": 13,
   "metadata": {},
   "outputs": [],
   "source": [
    "def get_model():\n",
    "    inputs = keras.Input(shape=(IMG_SIZE, IMG_SIZE, 3))\n",
    "    base_model = keras.applications.EfficientNetB2(\n",
    "        weights=\"imagenet\", include_top=False\n",
    "    )\n",
    "    x = base_model(inputs)\n",
    "    x = keras.layers.GlobalAveragePooling2D(name=\"avg_pool\")(x)\n",
    "    x = keras.layers.Flatten(name=\"flatten\")(x)\n",
    "    outputs = keras.layers.Dense(NUM_CLASSES, activation=\"sigmoid\")(x)\n",
    "    model = keras.Model(inputs=inputs, outputs=outputs)\n",
    "    model.compile(\n",
    "        loss=\"binary_crossentropy\",\n",
    "        optimizer=Adam(lr=0.005),\n",
    "        metrics=[\n",
    "            \"acc\",\n",
    "            keras.metrics.Recall(),\n",
    "            keras.metrics.Precision(),\n",
    "            tfa.metrics.F1Score(num_classes=NUM_CLASSES, average=\"micro\"),\n",
    "        ],\n",
    "    )\n",
    "    return model"
   ]
  },
  {
   "cell_type": "code",
   "execution_count": 14,
   "metadata": {},
   "outputs": [
    {
     "name": "stdout",
     "output_type": "stream",
     "text": [
      "INFO:tensorflow:Mixed precision compatibility check (mixed_float16): OK\n",
      "Your GPU will likely run quickly with dtype policy mixed_float16 as it has compute capability of at least 7.0. Your GPU: NVIDIA GeForce RTX 3090, compute capability 8.6\n"
     ]
    }
   ],
   "source": [
    "policy = keras.mixed_precision.experimental.Policy(\"mixed_float16\")\n",
    "keras.mixed_precision.experimental.set_policy(policy)"
   ]
  },
  {
   "cell_type": "code",
   "execution_count": 15,
   "metadata": {},
   "outputs": [],
   "source": [
    "# for i in [\n",
    "#     \"/app/_data/npy/waves_npy/\",\n",
    "#     \"/app/_data/npy/short_mels/\",\n",
    "# ]:\n",
    "#     shutil.rmtree(i)"
   ]
  },
  {
   "cell_type": "code",
   "execution_count": 16,
   "metadata": {},
   "outputs": [],
   "source": [
    "NUM_CLASSES = len(dict_birds)"
   ]
  },
  {
   "cell_type": "code",
   "execution_count": 17,
   "metadata": {},
   "outputs": [],
   "source": [
    "gen_train = MEL_Generator_Short(\n",
    "    df=train,\n",
    "    n_mels=IMG_SIZE,\n",
    "    seed=SEED,\n",
    "    sample_rate=SAMPLE_RATE,\n",
    "    mel_image_size=IMG_SIZE,\n",
    "    batch_size=BATCH_SIZE,\n",
    "    n_classes=NUM_CLASSES,\n",
    "    signal_lenght=SIGNAL_LENGTH,\n",
    "    mel_provider=mel_pr,\n",
    "    wave_dir=\"/app/_data/npy/waves_npy/\",\n",
    "    short_mel_dir=\"/app/_data/npy/short_mels/\",\n",
    "    norm_mel=True,\n",
    "    convert_to_rgb=True,\n",
    "    shuffle=True,\n",
    "    return_primary_labels=False,\n",
    "    return_secondary_labels=False,\n",
    "    return_concat_labels=True,\n",
    "    augment=False\n",
    ")\n",
    "\n",
    "gen_valid = MEL_Generator_Short(\n",
    "    df=valid,\n",
    "    n_mels=IMG_SIZE,\n",
    "    seed=SEED,\n",
    "    sample_rate=SAMPLE_RATE,\n",
    "    mel_image_size=IMG_SIZE,\n",
    "    batch_size=BATCH_SIZE,\n",
    "    n_classes=NUM_CLASSES,\n",
    "    signal_lenght=SIGNAL_LENGTH,\n",
    "    mel_provider=mel_pr,\n",
    "    wave_dir=\"/app/_data/npy/waves_npy/\",\n",
    "    short_mel_dir=\"/app/_data/npy/short_mels/\",\n",
    "    norm_mel=True,\n",
    "    convert_to_rgb=True,\n",
    "    shuffle=False,\n",
    "    return_primary_labels=False,\n",
    "    return_secondary_labels=False,\n",
    "    return_concat_labels=True,\n",
    "    augment=False\n",
    ")"
   ]
  },
  {
   "cell_type": "code",
   "execution_count": 18,
   "metadata": {},
   "outputs": [],
   "source": [
    "model = keras.models.load_model('/app/_data/models/Eff02_2/eff02_2_1.h5')"
   ]
  },
  {
   "cell_type": "code",
   "execution_count": null,
   "metadata": {},
   "outputs": [
    {
     "name": "stdout",
     "output_type": "stream",
     "text": [
      "Epoch 1/200\n",
      "   1/1270 [..............................] - ETA: 0s - loss: 0.0016 - acc: 1.0000 - recall: 0.5139 - precision: 1.0000 - f1_score: 0.8740WARNING:tensorflow:From /usr/local/lib/python3.8/dist-packages/tensorflow/python/ops/summary_ops_v2.py:1277: stop (from tensorflow.python.eager.profiler) is deprecated and will be removed after 2020-07-01.\n",
      "Instructions for updating:\n",
      "use `tf.profiler.experimental.stop` instead.\n",
      "1270/1270 [==============================] - ETA: 0s - loss: 0.0019 - acc: 1.0000 - recall: 0.4882 - precision: 1.0000 - f1_score: 0.8549\n",
      "Epoch 00001: val_f1_score improved from -inf to 0.83009, saving model to /app/_data/models/Eff02_2/eff02_2.h5\n",
      "1270/1270 [==============================] - 607s 478ms/step - loss: 0.0019 - acc: 1.0000 - recall: 0.4882 - precision: 1.0000 - f1_score: 0.8549 - val_loss: 0.0029 - val_acc: 0.9635 - val_recall: 0.4837 - val_precision: 0.9910 - val_f1_score: 0.8301\n",
      "Epoch 2/200\n",
      "1270/1270 [==============================] - ETA: 0s - loss: 0.0019 - acc: 1.0000 - recall: 0.4881 - precision: 1.0000 - f1_score: 0.8549\n",
      "Epoch 00002: val_f1_score did not improve from 0.83009\n",
      "1270/1270 [==============================] - 681s 536ms/step - loss: 0.0019 - acc: 1.0000 - recall: 0.4881 - precision: 1.0000 - f1_score: 0.8549 - val_loss: 0.0029 - val_acc: 0.9635 - val_recall: 0.4998 - val_precision: 0.9907 - val_f1_score: 0.8300\n",
      "Epoch 3/200\n",
      "1270/1270 [==============================] - ETA: 0s - loss: 0.0019 - acc: 1.0000 - recall: 0.4883 - precision: 1.0000 - f1_score: 0.8549\n",
      "Epoch 00003: val_f1_score did not improve from 0.83009\n",
      "1270/1270 [==============================] - 688s 542ms/step - loss: 0.0019 - acc: 1.0000 - recall: 0.4883 - precision: 1.0000 - f1_score: 0.8549 - val_loss: 0.0030 - val_acc: 0.9629 - val_recall: 0.4890 - val_precision: 0.9910 - val_f1_score: 0.8295\n",
      "Epoch 4/200\n",
      "1270/1270 [==============================] - ETA: 0s - loss: 0.0019 - acc: 1.0000 - recall: 0.4882 - precision: 1.0000 - f1_score: 0.8549\n",
      "Epoch 00004: val_f1_score improved from 0.83009 to 0.83050, saving model to /app/_data/models/Eff02_2/eff02_2.h5\n",
      "1270/1270 [==============================] - 670s 528ms/step - loss: 0.0019 - acc: 1.0000 - recall: 0.4882 - precision: 1.0000 - f1_score: 0.8549 - val_loss: 0.0029 - val_acc: 0.9641 - val_recall: 0.4874 - val_precision: 0.9907 - val_f1_score: 0.8305\n",
      "Epoch 5/200\n",
      "1270/1270 [==============================] - ETA: 0s - loss: 0.0019 - acc: 1.0000 - recall: 0.4876 - precision: 1.0000 - f1_score: 0.8549\n",
      "Epoch 00005: val_f1_score improved from 0.83050 to 0.83068, saving model to /app/_data/models/Eff02_2/eff02_2.h5\n",
      "1270/1270 [==============================] - 685s 540ms/step - loss: 0.0019 - acc: 1.0000 - recall: 0.4876 - precision: 1.0000 - f1_score: 0.8549 - val_loss: 0.0029 - val_acc: 0.9644 - val_recall: 0.4921 - val_precision: 0.9902 - val_f1_score: 0.8307\n",
      "Epoch 6/200\n",
      "1270/1270 [==============================] - ETA: 0s - loss: 0.0019 - acc: 1.0000 - recall: 0.4880 - precision: 1.0000 - f1_score: 0.8550\n",
      "Epoch 00006: val_f1_score did not improve from 0.83068\n",
      "1270/1270 [==============================] - 701s 552ms/step - loss: 0.0019 - acc: 1.0000 - recall: 0.4880 - precision: 1.0000 - f1_score: 0.8550 - val_loss: 0.0030 - val_acc: 0.9625 - val_recall: 0.4823 - val_precision: 0.9915 - val_f1_score: 0.8294\n",
      "Epoch 7/200\n",
      "1270/1270 [==============================] - ETA: 0s - loss: 0.0019 - acc: 1.0000 - recall: 0.4869 - precision: 1.0000 - f1_score: 0.8549\n",
      "Epoch 00007: val_f1_score improved from 0.83068 to 0.83157, saving model to /app/_data/models/Eff02_2/eff02_2.h5\n",
      "1270/1270 [==============================] - 686s 540ms/step - loss: 0.0019 - acc: 1.0000 - recall: 0.4869 - precision: 1.0000 - f1_score: 0.8549 - val_loss: 0.0029 - val_acc: 0.9658 - val_recall: 0.4923 - val_precision: 0.9907 - val_f1_score: 0.8316\n",
      "Epoch 8/200\n",
      "1270/1270 [==============================] - ETA: 0s - loss: 0.0019 - acc: 1.0000 - recall: 0.4872 - precision: 0.9999 - f1_score: 0.8550\n",
      "Epoch 00008: val_f1_score did not improve from 0.83157\n",
      "1270/1270 [==============================] - 676s 532ms/step - loss: 0.0019 - acc: 1.0000 - recall: 0.4872 - precision: 0.9999 - f1_score: 0.8550 - val_loss: 0.0029 - val_acc: 0.9637 - val_recall: 0.4841 - val_precision: 0.9914 - val_f1_score: 0.8302\n",
      "Epoch 9/200\n",
      "1270/1270 [==============================] - ETA: 0s - loss: 0.0019 - acc: 1.0000 - recall: 0.4867 - precision: 1.0000 - f1_score: 0.8549\n",
      "Epoch 00009: val_f1_score did not improve from 0.83157\n",
      "1270/1270 [==============================] - 658s 518ms/step - loss: 0.0019 - acc: 1.0000 - recall: 0.4867 - precision: 1.0000 - f1_score: 0.8549 - val_loss: 0.0029 - val_acc: 0.9652 - val_recall: 0.4907 - val_precision: 0.9918 - val_f1_score: 0.8313\n",
      "Epoch 10/200\n",
      "1270/1270 [==============================] - ETA: 0s - loss: 0.0019 - acc: 1.0000 - recall: 0.4874 - precision: 1.0000 - f1_score: 0.8550\n",
      "Epoch 00010: val_f1_score did not improve from 0.83157\n",
      "1270/1270 [==============================] - 659s 519ms/step - loss: 0.0019 - acc: 1.0000 - recall: 0.4874 - precision: 1.0000 - f1_score: 0.8550 - val_loss: 0.0030 - val_acc: 0.9640 - val_recall: 0.4820 - val_precision: 0.9899 - val_f1_score: 0.8304\n",
      "Epoch 11/200\n",
      "1270/1270 [==============================] - ETA: 0s - loss: 0.0019 - acc: 1.0000 - recall: 0.4866 - precision: 1.0000 - f1_score: 0.8549\n",
      "Epoch 00011: val_f1_score did not improve from 0.83157\n",
      "1270/1270 [==============================] - 671s 528ms/step - loss: 0.0019 - acc: 1.0000 - recall: 0.4866 - precision: 1.0000 - f1_score: 0.8549 - val_loss: 0.0030 - val_acc: 0.9637 - val_recall: 0.4773 - val_precision: 0.9911 - val_f1_score: 0.8301\n",
      "Epoch 12/200\n",
      "1270/1270 [==============================] - ETA: 0s - loss: 0.0019 - acc: 1.0000 - recall: 0.4868 - precision: 0.9999 - f1_score: 0.8549\n",
      "Epoch 00012: val_f1_score did not improve from 0.83157\n",
      "\n",
      "Epoch 00012: ReduceLROnPlateau reducing learning rate to 0.0019371022470295429.\n",
      "1270/1270 [==============================] - 452s 356ms/step - loss: 0.0019 - acc: 1.0000 - recall: 0.4868 - precision: 0.9999 - f1_score: 0.8549 - val_loss: 0.0029 - val_acc: 0.9641 - val_recall: 0.4901 - val_precision: 0.9908 - val_f1_score: 0.8305\n",
      "Epoch 13/200\n",
      "1270/1270 [==============================] - ETA: 0s - loss: 0.0019 - acc: 1.0000 - recall: 0.4848 - precision: 1.0000 - f1_score: 0.8550\n",
      "Epoch 00013: val_f1_score did not improve from 0.83157\n",
      "1270/1270 [==============================] - 463s 365ms/step - loss: 0.0019 - acc: 1.0000 - recall: 0.4848 - precision: 1.0000 - f1_score: 0.8550 - val_loss: 0.0030 - val_acc: 0.9645 - val_recall: 0.4960 - val_precision: 0.9903 - val_f1_score: 0.8308\n",
      "Epoch 14/200\n",
      "1270/1270 [==============================] - ETA: 0s - loss: 0.0019 - acc: 1.0000 - recall: 0.4840 - precision: 1.0000 - f1_score: 0.8550\n",
      "Epoch 00014: val_f1_score did not improve from 0.83157\n",
      "1270/1270 [==============================] - 467s 368ms/step - loss: 0.0019 - acc: 1.0000 - recall: 0.4840 - precision: 1.0000 - f1_score: 0.8550 - val_loss: 0.0029 - val_acc: 0.9647 - val_recall: 0.4916 - val_precision: 0.9911 - val_f1_score: 0.8310\n",
      "Epoch 15/200\n",
      "1270/1270 [==============================] - ETA: 0s - loss: 0.0019 - acc: 1.0000 - recall: 0.4837 - precision: 1.0000 - f1_score: 0.8549\n",
      "Epoch 00015: val_f1_score did not improve from 0.83157\n",
      "1270/1270 [==============================] - 472s 372ms/step - loss: 0.0019 - acc: 1.0000 - recall: 0.4837 - precision: 1.0000 - f1_score: 0.8549 - val_loss: 0.0030 - val_acc: 0.9627 - val_recall: 0.4770 - val_precision: 0.9917 - val_f1_score: 0.8294\n",
      "Epoch 16/200\n",
      "1270/1270 [==============================] - ETA: 0s - loss: 0.0018 - acc: 1.0000 - recall: 0.4833 - precision: 1.0000 - f1_score: 0.8550\n",
      "Epoch 00016: val_f1_score did not improve from 0.83157\n",
      "1270/1270 [==============================] - 472s 371ms/step - loss: 0.0018 - acc: 1.0000 - recall: 0.4833 - precision: 1.0000 - f1_score: 0.8550 - val_loss: 0.0029 - val_acc: 0.9653 - val_recall: 0.4995 - val_precision: 0.9913 - val_f1_score: 0.8314\n",
      "Epoch 17/200\n",
      "1270/1270 [==============================] - ETA: 0s - loss: 0.0018 - acc: 1.0000 - recall: 0.4836 - precision: 1.0000 - f1_score: 0.8549\n",
      "Epoch 00017: val_f1_score improved from 0.83157 to 0.83219, saving model to /app/_data/models/Eff02_2/eff02_2.h5\n",
      "1270/1270 [==============================] - 474s 373ms/step - loss: 0.0018 - acc: 1.0000 - recall: 0.4836 - precision: 1.0000 - f1_score: 0.8549 - val_loss: 0.0028 - val_acc: 0.9663 - val_recall: 0.4944 - val_precision: 0.9917 - val_f1_score: 0.8322\n",
      "Epoch 18/200\n",
      "1270/1270 [==============================] - ETA: 0s - loss: 0.0018 - acc: 1.0000 - recall: 0.4834 - precision: 1.0000 - f1_score: 0.8550\n",
      "Epoch 00018: val_f1_score did not improve from 0.83219\n",
      "1270/1270 [==============================] - 474s 373ms/step - loss: 0.0018 - acc: 1.0000 - recall: 0.4834 - precision: 1.0000 - f1_score: 0.8550 - val_loss: 0.0030 - val_acc: 0.9617 - val_recall: 0.5067 - val_precision: 0.9895 - val_f1_score: 0.8285\n",
      "Epoch 19/200\n",
      "1270/1270 [==============================] - ETA: 0s - loss: 0.0018 - acc: 1.0000 - recall: 0.4834 - precision: 1.0000 - f1_score: 0.8550\n",
      "Epoch 00019: val_f1_score did not improve from 0.83219\n",
      "1270/1270 [==============================] - 476s 375ms/step - loss: 0.0018 - acc: 1.0000 - recall: 0.4834 - precision: 1.0000 - f1_score: 0.8550 - val_loss: 0.0029 - val_acc: 0.9657 - val_recall: 0.4794 - val_precision: 0.9922 - val_f1_score: 0.8316\n",
      "Epoch 20/200\n",
      "1270/1270 [==============================] - ETA: 0s - loss: 0.0018 - acc: 1.0000 - recall: 0.4832 - precision: 1.0000 - f1_score: 0.8550\n",
      "Epoch 00020: val_f1_score did not improve from 0.83219\n",
      "1270/1270 [==============================] - 482s 379ms/step - loss: 0.0018 - acc: 1.0000 - recall: 0.4832 - precision: 1.0000 - f1_score: 0.8550 - val_loss: 0.0029 - val_acc: 0.9662 - val_recall: 0.4842 - val_precision: 0.9920 - val_f1_score: 0.8319\n",
      "Epoch 21/200\n",
      "1270/1270 [==============================] - ETA: 0s - loss: 0.0018 - acc: 1.0000 - recall: 0.4826 - precision: 1.0000 - f1_score: 0.8550\n",
      "Epoch 00021: val_f1_score did not improve from 0.83219\n",
      "1270/1270 [==============================] - 482s 380ms/step - loss: 0.0018 - acc: 1.0000 - recall: 0.4826 - precision: 1.0000 - f1_score: 0.8550 - val_loss: 0.0029 - val_acc: 0.9657 - val_recall: 0.4927 - val_precision: 0.9911 - val_f1_score: 0.8317\n",
      "Epoch 22/200\n",
      "1270/1270 [==============================] - ETA: 0s - loss: 0.0018 - acc: 1.0000 - recall: 0.4828 - precision: 1.0000 - f1_score: 0.8549\n",
      "Epoch 00022: val_f1_score did not improve from 0.83219\n",
      "\n",
      "Epoch 00022: ReduceLROnPlateau reducing learning rate to 0.0017433920642361046.\n",
      "1270/1270 [==============================] - 481s 379ms/step - loss: 0.0018 - acc: 1.0000 - recall: 0.4828 - precision: 1.0000 - f1_score: 0.8549 - val_loss: 0.0029 - val_acc: 0.9659 - val_recall: 0.4895 - val_precision: 0.9918 - val_f1_score: 0.8318\n",
      "Epoch 23/200\n",
      "1270/1270 [==============================] - ETA: 0s - loss: 0.0018 - acc: 1.0000 - recall: 0.4814 - precision: 1.0000 - f1_score: 0.8550\n",
      "Epoch 00023: val_f1_score did not improve from 0.83219\n",
      "1270/1270 [==============================] - 467s 368ms/step - loss: 0.0018 - acc: 1.0000 - recall: 0.4814 - precision: 1.0000 - f1_score: 0.8550 - val_loss: 0.0029 - val_acc: 0.9659 - val_recall: 0.4854 - val_precision: 0.9919 - val_f1_score: 0.8316\n",
      "Epoch 24/200\n",
      "1270/1270 [==============================] - ETA: 0s - loss: 0.0018 - acc: 1.0000 - recall: 0.4809 - precision: 1.0000 - f1_score: 0.8549\n",
      "Epoch 00024: val_f1_score did not improve from 0.83219\n",
      "1270/1270 [==============================] - 497s 392ms/step - loss: 0.0018 - acc: 1.0000 - recall: 0.4809 - precision: 1.0000 - f1_score: 0.8549 - val_loss: 0.0031 - val_acc: 0.9614 - val_recall: 0.4766 - val_precision: 0.9913 - val_f1_score: 0.8284\n",
      "Epoch 25/200\n",
      "1270/1270 [==============================] - ETA: 0s - loss: 0.0018 - acc: 1.0000 - recall: 0.4804 - precision: 1.0000 - f1_score: 0.8550\n",
      "Epoch 00025: val_f1_score did not improve from 0.83219\n",
      "1270/1270 [==============================] - 750s 590ms/step - loss: 0.0018 - acc: 1.0000 - recall: 0.4804 - precision: 1.0000 - f1_score: 0.8550 - val_loss: 0.0028 - val_acc: 0.9655 - val_recall: 0.4988 - val_precision: 0.9909 - val_f1_score: 0.8316\n",
      "Epoch 26/200\n",
      "1270/1270 [==============================] - ETA: 0s - loss: 0.0018 - acc: 1.0000 - recall: 0.4803 - precision: 1.0000 - f1_score: 0.8549\n",
      "Epoch 00026: val_f1_score improved from 0.83219 to 0.83248, saving model to /app/_data/models/Eff02_2/eff02_2.h5\n",
      "1270/1270 [==============================] - 717s 565ms/step - loss: 0.0018 - acc: 1.0000 - recall: 0.4803 - precision: 1.0000 - f1_score: 0.8549 - val_loss: 0.0029 - val_acc: 0.9669 - val_recall: 0.4803 - val_precision: 0.9923 - val_f1_score: 0.8325\n",
      "Epoch 27/200\n",
      "1270/1270 [==============================] - ETA: 0s - loss: 0.0018 - acc: 1.0000 - recall: 0.4801 - precision: 1.0000 - f1_score: 0.8550\n",
      "Epoch 00027: val_f1_score did not improve from 0.83248\n",
      "1270/1270 [==============================] - 737s 580ms/step - loss: 0.0018 - acc: 1.0000 - recall: 0.4801 - precision: 1.0000 - f1_score: 0.8550 - val_loss: 0.0028 - val_acc: 0.9664 - val_recall: 0.5015 - val_precision: 0.9914 - val_f1_score: 0.8321\n",
      "Epoch 28/200\n",
      " 989/1270 [======================>.......] - ETA: 2:17 - loss: 0.0018 - acc: 1.0000 - recall: 0.4800 - precision: 1.0000 - f1_score: 0.8548"
     ]
    }
   ],
   "source": [
    "history = model.fit(\n",
    "    gen_train,\n",
    "    validation_data=gen_valid,\n",
    "    epochs=200,\n",
    "    steps_per_epoch=train.shape[0] // BATCH_SIZE,\n",
    "    validation_steps=valid.shape[0] // BATCH_SIZE,\n",
    "    verbose=1,\n",
    "    workers=30,\n",
    "    callbacks=callbacks,\n",
    ")"
   ]
  },
  {
   "cell_type": "code",
   "execution_count": 56,
   "metadata": {},
   "outputs": [
    {
     "name": "stdout",
     "output_type": "stream",
     "text": [
      "/bin/bash: import: command not found\n"
     ]
    }
   ],
   "source": [
    "import kaggle"
   ]
  },
  {
   "cell_type": "code",
   "execution_count": 57,
   "metadata": {},
   "outputs": [
    {
     "name": "stdout",
     "output_type": "stream",
     "text": [
      "Warning: Your Kaggle API key is readable by other users on this system! To fix this, you can run 'chmod 600 /app/kaggle.json'\n",
      "Data package template written to: /app/_data/models/Eff01/dataset-metadata.json\n"
     ]
    }
   ],
   "source": [
    "! kaggle datasets init -p /app/_data/models/Eff02_2"
   ]
  },
  {
   "cell_type": "code",
   "execution_count": 60,
   "metadata": {},
   "outputs": [
    {
     "name": "stdout",
     "output_type": "stream",
     "text": [
      "Warning: Your Kaggle API key is readable by other users on this system! To fix this, you can run 'chmod 600 /app/kaggle.json'\n",
      "Starting upload for file dict_birds.json\n",
      "100%|██████████████████████████████████████| 5.86k/5.86k [00:01<00:00, 3.59kB/s]\n",
      "Upload successful: dict_birds.json (6KB)\n",
      "Starting upload for file eff0_1.h5\n",
      "100%|███████████████████████████████████████| 52.7M/52.7M [01:21<00:00, 675kB/s]\n",
      "Upload successful: eff0_1.h5 (53MB)\n",
      "Skipping folder: .ipynb_checkpoints; use '--dir-mode' to upload folders\n",
      "Your private Dataset is being created. Please check progress at https://www.kaggle.com/nataliayurasova/Eff01Initial\n"
     ]
    }
   ],
   "source": [
    "! kaggle datasets create -p /app/_data/models/Eff01"
   ]
  },
  {
   "cell_type": "code",
   "execution_count": null,
   "metadata": {},
   "outputs": [],
   "source": []
  }
 ],
 "metadata": {
  "kernelspec": {
   "display_name": "Python 3",
   "language": "python",
   "name": "python3"
  },
  "language_info": {
   "codemirror_mode": {
    "name": "ipython",
    "version": 3
   },
   "file_extension": ".py",
   "mimetype": "text/x-python",
   "name": "python",
   "nbconvert_exporter": "python",
   "pygments_lexer": "ipython3",
   "version": "3.8.5"
  }
 },
 "nbformat": 4,
 "nbformat_minor": 4
}
