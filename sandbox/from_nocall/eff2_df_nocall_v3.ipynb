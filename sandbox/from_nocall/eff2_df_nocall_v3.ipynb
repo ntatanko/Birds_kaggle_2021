{
 "cells": [
  {
   "cell_type": "code",
   "execution_count": 1,
   "metadata": {},
   "outputs": [],
   "source": [
    "import os\n",
    "import shutil\n",
    "import warnings\n",
    "\n",
    "import numpy as np\n",
    "import pandas as pd\n",
    "import plotly.graph_objects as go\n",
    "import torchaudio\n",
    "\n",
    "warnings.filterwarnings(action=\"ignore\")\n",
    "from IPython.core.interactiveshell import InteractiveShell\n",
    "\n",
    "InteractiveShell.ast_node_interactivity = \"all\"\n",
    "import json\n",
    "\n",
    "import geopandas\n",
    "import librosa\n",
    "import librosa.display\n",
    "import matplotlib.pyplot as plt\n",
    "import scipy.stats as st\n",
    "import seaborn as sns\n",
    "import soundfile\n",
    "import tensorflow as tf\n",
    "import tensorflow_addons as tfa\n",
    "import torch\n",
    "\n",
    "%matplotlib inline\n",
    "from PIL import Image\n",
    "from sklearn.model_selection import train_test_split\n",
    "from sklearn.utils import shuffle\n",
    "from tensorflow import keras\n",
    "from tensorflow.keras.models import Sequential\n",
    "from tensorflow.keras.optimizers import Adam\n",
    "from torchaudio.transforms import MelSpectrogram\n",
    "from tqdm import tqdm\n",
    "\n",
    "from src.MEL_Gen import MEL_Gen, Mel_Provider\n",
    "from src.prepare_dataset import (\n",
    "    choose_ids,\n",
    "    make_dict_birds,\n",
    "    make_intervals,\n",
    "    make_intervals_upsampling,\n",
    "    prepare_dataset,\n",
    ")"
   ]
  },
  {
   "cell_type": "code",
   "execution_count": 2,
   "metadata": {},
   "outputs": [],
   "source": [
    "SEED = 1488\n",
    "IMG_SIZE = 224\n",
    "SAMPLE_RATE = 32000\n",
    "N_FFT = 2048\n",
    "SIGNAL_LENGTH = 5\n",
    "FREQ_MIN = 0\n",
    "FREQ_MAX = 16000\n",
    "WIN_LENGHT = 1024\n",
    "BATCH_SIZE = 50\n",
    "list_drop = [\n",
    "    \"XC509721.ogg\",\n",
    "    \"XC428067.ogg\",\n",
    "    \"XC523831.ogg\",\n",
    "    \"XC523960.ogg\",\n",
    "    \"XC237870.ogg\",\n",
    "    \"XC129924.ogg\",\n",
    "    \"XC576851.ogg\",\n",
    "    \"XC579430.ogg\",\n",
    "    \"XC590621.ogg\",\n",
    "]"
   ]
  },
  {
   "cell_type": "code",
   "execution_count": 3,
   "metadata": {},
   "outputs": [],
   "source": [
    "final = pd.read_csv(\"/app/_data/labels_nocall/nocall_predictions.csv\")\n",
    "nocall = pd.read_csv(\"/app/_data/labels_nocall/all_nocalls.csv\")"
   ]
  },
  {
   "cell_type": "code",
   "execution_count": 4,
   "metadata": {},
   "outputs": [
    {
     "data": {
      "text/plain": [
       "(65128, 24)"
      ]
     },
     "execution_count": 4,
     "metadata": {},
     "output_type": "execute_result"
    }
   ],
   "source": [
    "all_audio_init = pd.read_csv(\"/app/_data/all_audio_initial.csv\")\n",
    "all_audio = all_audio_init.query(\"filename not in @list_drop\").reset_index(drop=True)\n",
    "all_audio = all_audio.query(\"year >=1980 and year<=2021\").reset_index(drop=True)\n",
    "\n",
    "all_audio.shape"
   ]
  },
  {
   "cell_type": "markdown",
   "metadata": {},
   "source": [
    "# dict_birds and weights"
   ]
  },
  {
   "cell_type": "code",
   "execution_count": 5,
   "metadata": {},
   "outputs": [],
   "source": [
    "dict_birds, all_audio = make_dict_birds(all_audio)"
   ]
  },
  {
   "cell_type": "code",
   "execution_count": 6,
   "metadata": {},
   "outputs": [
    {
     "data": {
      "text/plain": [
       "398"
      ]
     },
     "execution_count": 6,
     "metadata": {},
     "output_type": "execute_result"
    }
   ],
   "source": [
    "len(dict_birds)"
   ]
  },
  {
   "cell_type": "code",
   "execution_count": 7,
   "metadata": {},
   "outputs": [],
   "source": [
    "file_json = open(\"/app/_data/models/from_nocall/Eff0_2/dict_birds.json\", \"w\")\n",
    "json.dump(dict_birds, file_json)\n",
    "file_json.close()"
   ]
  },
  {
   "cell_type": "code",
   "execution_count": 8,
   "metadata": {},
   "outputs": [],
   "source": [
    "dict_weights = (1 / all_audio[\"primary_label\"].value_counts()).to_dict()\n",
    "all_audio[\"class_weights\"] = all_audio[\"primary_label\"].replace(dict_weights)\n",
    "# all_audio[\"class_weights\"] = all_audio[\"class_weights\"] * all_audio[\"rating\"]"
   ]
  },
  {
   "cell_type": "code",
   "execution_count": 9,
   "metadata": {},
   "outputs": [],
   "source": [
    "all_audio = all_audio[all_audio[\"rating\"] >= 3]"
   ]
  },
  {
   "cell_type": "markdown",
   "metadata": {},
   "source": [
    "## calls"
   ]
  },
  {
   "cell_type": "code",
   "execution_count": 10,
   "metadata": {},
   "outputs": [],
   "source": [
    "drop_list_final = final[(final[\"bird\"] == 1) & (final[\"nocall\"] == 1)][\n",
    "    \"row_id\"\n",
    "].tolist()"
   ]
  },
  {
   "cell_type": "code",
   "execution_count": 11,
   "metadata": {},
   "outputs": [],
   "source": [
    "final = final.query(\"row_id not in @drop_list_final\")\n",
    "final = final.query(\"bird == 1\")"
   ]
  },
  {
   "cell_type": "code",
   "execution_count": 12,
   "metadata": {},
   "outputs": [],
   "source": [
    "final = final.merge(\n",
    "    all_audio[[\"filename\", \"primary_label\", \"class_weights\", 'duration']], on=\"filename\", how=\"left\"\n",
    ")"
   ]
  },
  {
   "cell_type": "code",
   "execution_count": 13,
   "metadata": {},
   "outputs": [
    {
     "data": {
      "text/plain": [
       "nocall                0\n",
       "bird                  0\n",
       "row_id                0\n",
       "filename              0\n",
       "end_sec               0\n",
       "primary_label    252740\n",
       "class_weights    252740\n",
       "duration         252740\n",
       "dtype: int64"
      ]
     },
     "execution_count": 13,
     "metadata": {},
     "output_type": "execute_result"
    }
   ],
   "source": [
    "final.isna().sum()"
   ]
  },
  {
   "cell_type": "code",
   "execution_count": 14,
   "metadata": {},
   "outputs": [],
   "source": [
    "final = final.dropna(axis=0)\n",
    "final = final.drop(['nocall', 'bird'], axis=1)"
   ]
  },
  {
   "cell_type": "code",
   "execution_count": 15,
   "metadata": {},
   "outputs": [
    {
     "data": {
      "text/html": [
       "<div>\n",
       "<style scoped>\n",
       "    .dataframe tbody tr th:only-of-type {\n",
       "        vertical-align: middle;\n",
       "    }\n",
       "\n",
       "    .dataframe tbody tr th {\n",
       "        vertical-align: top;\n",
       "    }\n",
       "\n",
       "    .dataframe thead th {\n",
       "        text-align: right;\n",
       "    }\n",
       "</style>\n",
       "<table border=\"1\" class=\"dataframe\">\n",
       "  <thead>\n",
       "    <tr style=\"text-align: right;\">\n",
       "      <th></th>\n",
       "      <th>row_id</th>\n",
       "      <th>filename</th>\n",
       "      <th>end_sec</th>\n",
       "      <th>primary_label</th>\n",
       "      <th>class_weights</th>\n",
       "      <th>duration</th>\n",
       "    </tr>\n",
       "  </thead>\n",
       "  <tbody>\n",
       "    <tr>\n",
       "      <th>3</th>\n",
       "      <td>XC11209_5_0</td>\n",
       "      <td>XC11209.ogg</td>\n",
       "      <td>5.0</td>\n",
       "      <td>acafly</td>\n",
       "      <td>0.007576</td>\n",
       "      <td>16.654156</td>\n",
       "    </tr>\n",
       "  </tbody>\n",
       "</table>\n",
       "</div>"
      ],
      "text/plain": [
       "        row_id     filename  end_sec primary_label  class_weights   duration\n",
       "3  XC11209_5_0  XC11209.ogg      5.0        acafly       0.007576  16.654156"
      ]
     },
     "execution_count": 15,
     "metadata": {},
     "output_type": "execute_result"
    }
   ],
   "source": [
    "final.head(1)"
   ]
  },
  {
   "cell_type": "code",
   "execution_count": null,
   "metadata": {},
   "outputs": [],
   "source": []
  },
  {
   "cell_type": "code",
   "execution_count": null,
   "metadata": {},
   "outputs": [
    {
     "name": "stderr",
     "output_type": "stream",
     "text": [
      " 48%|████▊     | 24829/52258 [2:58:20<3:54:36,  1.95it/s]"
     ]
    }
   ],
   "source": [
    "data_max_100 = pd.DataFrame(columns = final.columns)\n",
    "for i in tqdm(final['filename'].unique().tolist()):\n",
    "    df = final[final['filename']==i].reset_index(drop=True)\n",
    "    if len(df)<= 10:\n",
    "        step=1\n",
    "    elif 10 < len(df)<= 201:\n",
    "        step=2\n",
    "    else:\n",
    "        step=len(df)//100\n",
    "    list_ixs = range(0, len(df),step)\n",
    "    df = df.query('index in @list_ixs')\n",
    "    data_max_100 = pd.concat([data_max_100, df], axis=0, ignore_index=False)"
   ]
  },
  {
   "cell_type": "code",
   "execution_count": null,
   "metadata": {},
   "outputs": [],
   "source": [
    "data_max_100.to_csv('/app/_data/labels_nocall/data_max_100.csv', index=False)"
   ]
  },
  {
   "cell_type": "code",
   "execution_count": 39,
   "metadata": {},
   "outputs": [
    {
     "name": "stderr",
     "output_type": "stream",
     "text": [
      "  1%|          | 469/52258 [02:59<5:29:41,  2.62it/s]\n"
     ]
    },
    {
     "ename": "KeyboardInterrupt",
     "evalue": "",
     "output_type": "error",
     "traceback": [
      "\u001b[0;31m\u001b[0m",
      "\u001b[0;31mKeyboardInterrupt\u001b[0mTraceback (most recent call last)",
      "\u001b[0;32m<ipython-input-39-e4161c0455e6>\u001b[0m in \u001b[0;36m<module>\u001b[0;34m\u001b[0m\n\u001b[1;32m      3\u001b[0m \u001b[0;32mfor\u001b[0m \u001b[0mi\u001b[0m \u001b[0;32min\u001b[0m \u001b[0mtqdm\u001b[0m\u001b[0;34m(\u001b[0m\u001b[0mfinal\u001b[0m\u001b[0;34m[\u001b[0m\u001b[0;34m'filename'\u001b[0m\u001b[0;34m]\u001b[0m\u001b[0;34m.\u001b[0m\u001b[0munique\u001b[0m\u001b[0;34m(\u001b[0m\u001b[0;34m)\u001b[0m\u001b[0;34m.\u001b[0m\u001b[0mtolist\u001b[0m\u001b[0;34m(\u001b[0m\u001b[0;34m)\u001b[0m\u001b[0;34m)\u001b[0m\u001b[0;34m:\u001b[0m\u001b[0;34m\u001b[0m\u001b[0;34m\u001b[0m\u001b[0m\n\u001b[1;32m      4\u001b[0m \u001b[0;31m#     df = final[final['filename']==i]\u001b[0m\u001b[0;34m\u001b[0m\u001b[0;34m\u001b[0m\u001b[0;34m\u001b[0m\u001b[0m\n\u001b[0;32m----> 5\u001b[0;31m     \u001b[0mixs\u001b[0m \u001b[0;34m=\u001b[0m \u001b[0mfinal\u001b[0m\u001b[0;34m[\u001b[0m\u001b[0mfinal\u001b[0m\u001b[0;34m[\u001b[0m\u001b[0;34m'filename'\u001b[0m\u001b[0;34m]\u001b[0m\u001b[0;34m==\u001b[0m\u001b[0mi\u001b[0m\u001b[0;34m]\u001b[0m\u001b[0;34m.\u001b[0m\u001b[0mindex\u001b[0m\u001b[0;34m.\u001b[0m\u001b[0mtolist\u001b[0m\u001b[0;34m(\u001b[0m\u001b[0;34m)\u001b[0m\u001b[0;34m\u001b[0m\u001b[0;34m\u001b[0m\u001b[0m\n\u001b[0m\u001b[1;32m      6\u001b[0m     \u001b[0;32mif\u001b[0m \u001b[0mlen\u001b[0m\u001b[0;34m(\u001b[0m\u001b[0mixs\u001b[0m\u001b[0;34m)\u001b[0m\u001b[0;34m<=\u001b[0m \u001b[0;36m10\u001b[0m\u001b[0;34m:\u001b[0m\u001b[0;34m\u001b[0m\u001b[0;34m\u001b[0m\u001b[0m\n\u001b[1;32m      7\u001b[0m         \u001b[0mstep\u001b[0m\u001b[0;34m=\u001b[0m\u001b[0;36m1\u001b[0m\u001b[0;34m\u001b[0m\u001b[0;34m\u001b[0m\u001b[0m\n",
      "\u001b[0;32m/usr/local/lib/python3.8/dist-packages/pandas/core/ops/common.py\u001b[0m in \u001b[0;36mnew_method\u001b[0;34m(self, other)\u001b[0m\n\u001b[1;32m     63\u001b[0m         \u001b[0mother\u001b[0m \u001b[0;34m=\u001b[0m \u001b[0mitem_from_zerodim\u001b[0m\u001b[0;34m(\u001b[0m\u001b[0mother\u001b[0m\u001b[0;34m)\u001b[0m\u001b[0;34m\u001b[0m\u001b[0;34m\u001b[0m\u001b[0m\n\u001b[1;32m     64\u001b[0m \u001b[0;34m\u001b[0m\u001b[0m\n\u001b[0;32m---> 65\u001b[0;31m         \u001b[0;32mreturn\u001b[0m \u001b[0mmethod\u001b[0m\u001b[0;34m(\u001b[0m\u001b[0mself\u001b[0m\u001b[0;34m,\u001b[0m \u001b[0mother\u001b[0m\u001b[0;34m)\u001b[0m\u001b[0;34m\u001b[0m\u001b[0;34m\u001b[0m\u001b[0m\n\u001b[0m\u001b[1;32m     66\u001b[0m \u001b[0;34m\u001b[0m\u001b[0m\n\u001b[1;32m     67\u001b[0m     \u001b[0;32mreturn\u001b[0m \u001b[0mnew_method\u001b[0m\u001b[0;34m\u001b[0m\u001b[0;34m\u001b[0m\u001b[0m\n",
      "\u001b[0;32m/usr/local/lib/python3.8/dist-packages/pandas/core/arraylike.py\u001b[0m in \u001b[0;36m__eq__\u001b[0;34m(self, other)\u001b[0m\n\u001b[1;32m     27\u001b[0m     \u001b[0;34m@\u001b[0m\u001b[0munpack_zerodim_and_defer\u001b[0m\u001b[0;34m(\u001b[0m\u001b[0;34m\"__eq__\"\u001b[0m\u001b[0;34m)\u001b[0m\u001b[0;34m\u001b[0m\u001b[0;34m\u001b[0m\u001b[0m\n\u001b[1;32m     28\u001b[0m     \u001b[0;32mdef\u001b[0m \u001b[0m__eq__\u001b[0m\u001b[0;34m(\u001b[0m\u001b[0mself\u001b[0m\u001b[0;34m,\u001b[0m \u001b[0mother\u001b[0m\u001b[0;34m)\u001b[0m\u001b[0;34m:\u001b[0m\u001b[0;34m\u001b[0m\u001b[0;34m\u001b[0m\u001b[0m\n\u001b[0;32m---> 29\u001b[0;31m         \u001b[0;32mreturn\u001b[0m \u001b[0mself\u001b[0m\u001b[0;34m.\u001b[0m\u001b[0m_cmp_method\u001b[0m\u001b[0;34m(\u001b[0m\u001b[0mother\u001b[0m\u001b[0;34m,\u001b[0m \u001b[0moperator\u001b[0m\u001b[0;34m.\u001b[0m\u001b[0meq\u001b[0m\u001b[0;34m)\u001b[0m\u001b[0;34m\u001b[0m\u001b[0;34m\u001b[0m\u001b[0m\n\u001b[0m\u001b[1;32m     30\u001b[0m \u001b[0;34m\u001b[0m\u001b[0m\n\u001b[1;32m     31\u001b[0m     \u001b[0;34m@\u001b[0m\u001b[0munpack_zerodim_and_defer\u001b[0m\u001b[0;34m(\u001b[0m\u001b[0;34m\"__ne__\"\u001b[0m\u001b[0;34m)\u001b[0m\u001b[0;34m\u001b[0m\u001b[0;34m\u001b[0m\u001b[0m\n",
      "\u001b[0;32m/usr/local/lib/python3.8/dist-packages/pandas/core/series.py\u001b[0m in \u001b[0;36m_cmp_method\u001b[0;34m(self, other, op)\u001b[0m\n\u001b[1;32m   4976\u001b[0m         \u001b[0mrvalues\u001b[0m \u001b[0;34m=\u001b[0m \u001b[0mextract_array\u001b[0m\u001b[0;34m(\u001b[0m\u001b[0mother\u001b[0m\u001b[0;34m,\u001b[0m \u001b[0mextract_numpy\u001b[0m\u001b[0;34m=\u001b[0m\u001b[0;32mTrue\u001b[0m\u001b[0;34m)\u001b[0m\u001b[0;34m\u001b[0m\u001b[0;34m\u001b[0m\u001b[0m\n\u001b[1;32m   4977\u001b[0m \u001b[0;34m\u001b[0m\u001b[0m\n\u001b[0;32m-> 4978\u001b[0;31m         \u001b[0mres_values\u001b[0m \u001b[0;34m=\u001b[0m \u001b[0mops\u001b[0m\u001b[0;34m.\u001b[0m\u001b[0mcomparison_op\u001b[0m\u001b[0;34m(\u001b[0m\u001b[0mlvalues\u001b[0m\u001b[0;34m,\u001b[0m \u001b[0mrvalues\u001b[0m\u001b[0;34m,\u001b[0m \u001b[0mop\u001b[0m\u001b[0;34m)\u001b[0m\u001b[0;34m\u001b[0m\u001b[0;34m\u001b[0m\u001b[0m\n\u001b[0m\u001b[1;32m   4979\u001b[0m \u001b[0;34m\u001b[0m\u001b[0m\n\u001b[1;32m   4980\u001b[0m         \u001b[0;32mreturn\u001b[0m \u001b[0mself\u001b[0m\u001b[0;34m.\u001b[0m\u001b[0m_construct_result\u001b[0m\u001b[0;34m(\u001b[0m\u001b[0mres_values\u001b[0m\u001b[0;34m,\u001b[0m \u001b[0mname\u001b[0m\u001b[0;34m=\u001b[0m\u001b[0mres_name\u001b[0m\u001b[0;34m)\u001b[0m\u001b[0;34m\u001b[0m\u001b[0;34m\u001b[0m\u001b[0m\n",
      "\u001b[0;32m/usr/local/lib/python3.8/dist-packages/pandas/core/ops/array_ops.py\u001b[0m in \u001b[0;36mcomparison_op\u001b[0;34m(left, right, op)\u001b[0m\n\u001b[1;32m    241\u001b[0m \u001b[0;34m\u001b[0m\u001b[0m\n\u001b[1;32m    242\u001b[0m     \u001b[0;32melif\u001b[0m \u001b[0mis_object_dtype\u001b[0m\u001b[0;34m(\u001b[0m\u001b[0mlvalues\u001b[0m\u001b[0;34m.\u001b[0m\u001b[0mdtype\u001b[0m\u001b[0;34m)\u001b[0m\u001b[0;34m:\u001b[0m\u001b[0;34m\u001b[0m\u001b[0;34m\u001b[0m\u001b[0m\n\u001b[0;32m--> 243\u001b[0;31m         \u001b[0mres_values\u001b[0m \u001b[0;34m=\u001b[0m \u001b[0mcomp_method_OBJECT_ARRAY\u001b[0m\u001b[0;34m(\u001b[0m\u001b[0mop\u001b[0m\u001b[0;34m,\u001b[0m \u001b[0mlvalues\u001b[0m\u001b[0;34m,\u001b[0m \u001b[0mrvalues\u001b[0m\u001b[0;34m)\u001b[0m\u001b[0;34m\u001b[0m\u001b[0;34m\u001b[0m\u001b[0m\n\u001b[0m\u001b[1;32m    244\u001b[0m \u001b[0;34m\u001b[0m\u001b[0m\n\u001b[1;32m    245\u001b[0m     \u001b[0;32melse\u001b[0m\u001b[0;34m:\u001b[0m\u001b[0;34m\u001b[0m\u001b[0;34m\u001b[0m\u001b[0m\n",
      "\u001b[0;32m/usr/local/lib/python3.8/dist-packages/pandas/core/ops/array_ops.py\u001b[0m in \u001b[0;36mcomp_method_OBJECT_ARRAY\u001b[0;34m(op, x, y)\u001b[0m\n\u001b[1;32m     53\u001b[0m         \u001b[0mresult\u001b[0m \u001b[0;34m=\u001b[0m \u001b[0mlibops\u001b[0m\u001b[0;34m.\u001b[0m\u001b[0mvec_compare\u001b[0m\u001b[0;34m(\u001b[0m\u001b[0mx\u001b[0m\u001b[0;34m.\u001b[0m\u001b[0mravel\u001b[0m\u001b[0;34m(\u001b[0m\u001b[0;34m)\u001b[0m\u001b[0;34m,\u001b[0m \u001b[0my\u001b[0m\u001b[0;34m.\u001b[0m\u001b[0mravel\u001b[0m\u001b[0;34m(\u001b[0m\u001b[0;34m)\u001b[0m\u001b[0;34m,\u001b[0m \u001b[0mop\u001b[0m\u001b[0;34m)\u001b[0m\u001b[0;34m\u001b[0m\u001b[0;34m\u001b[0m\u001b[0m\n\u001b[1;32m     54\u001b[0m     \u001b[0;32melse\u001b[0m\u001b[0;34m:\u001b[0m\u001b[0;34m\u001b[0m\u001b[0;34m\u001b[0m\u001b[0m\n\u001b[0;32m---> 55\u001b[0;31m         \u001b[0mresult\u001b[0m \u001b[0;34m=\u001b[0m \u001b[0mlibops\u001b[0m\u001b[0;34m.\u001b[0m\u001b[0mscalar_compare\u001b[0m\u001b[0;34m(\u001b[0m\u001b[0mx\u001b[0m\u001b[0;34m.\u001b[0m\u001b[0mravel\u001b[0m\u001b[0;34m(\u001b[0m\u001b[0;34m)\u001b[0m\u001b[0;34m,\u001b[0m \u001b[0my\u001b[0m\u001b[0;34m,\u001b[0m \u001b[0mop\u001b[0m\u001b[0;34m)\u001b[0m\u001b[0;34m\u001b[0m\u001b[0;34m\u001b[0m\u001b[0m\n\u001b[0m\u001b[1;32m     56\u001b[0m     \u001b[0;32mreturn\u001b[0m \u001b[0mresult\u001b[0m\u001b[0;34m.\u001b[0m\u001b[0mreshape\u001b[0m\u001b[0;34m(\u001b[0m\u001b[0mx\u001b[0m\u001b[0;34m.\u001b[0m\u001b[0mshape\u001b[0m\u001b[0;34m)\u001b[0m\u001b[0;34m\u001b[0m\u001b[0;34m\u001b[0m\u001b[0m\n\u001b[1;32m     57\u001b[0m \u001b[0;34m\u001b[0m\u001b[0m\n",
      "\u001b[0;31mKeyboardInterrupt\u001b[0m: "
     ]
    }
   ],
   "source": [
    "data_max_100 = pd.DataFrame(columns = final.columns)\n",
    "list_index = []\n",
    "for i in tqdm(final['filename'].unique().tolist()):\n",
    "#     df = final[final['filename']==i]\n",
    "    ixs = final[final['filename']==i].index.tolist()\n",
    "    if len(ixs)<= 10:\n",
    "        step=1\n",
    "    elif 10 < len(ixs)<= 201:\n",
    "        step=2\n",
    "    else:\n",
    "        step=len(ixs)//100\n",
    "    list_ixs = list(range(0, len(ixs),step))\n",
    "    a = [ixs[j] for j in list_ixs]\n",
    "    list_index.extend(a)\n",
    "#     df = df.query('index in @list_ixs')\n",
    "#     data_max_100 = pd.concat([data_max_100, df], axis=0, ignore_index=False)"
   ]
  },
  {
   "cell_type": "code",
   "execution_count": 26,
   "metadata": {},
   "outputs": [],
   "source": [
    "ixs = np.array([1,4,5,8,9,55,67,44,33,33,55,66,88,55])"
   ]
  },
  {
   "cell_type": "code",
   "execution_count": 29,
   "metadata": {},
   "outputs": [
    {
     "ename": "IndexError",
     "evalue": "too many indices for array",
     "output_type": "error",
     "traceback": [
      "\u001b[0;31m\u001b[0m",
      "\u001b[0;31mIndexError\u001b[0mTraceback (most recent call last)",
      "\u001b[0;32m<ipython-input-29-60bd568e639c>\u001b[0m in \u001b[0;36m<module>\u001b[0;34m\u001b[0m\n\u001b[0;32m----> 1\u001b[0;31m \u001b[0mixs\u001b[0m\u001b[0;34m[\u001b[0m\u001b[0;36m0\u001b[0m\u001b[0;34m,\u001b[0m  \u001b[0;36m2\u001b[0m\u001b[0;34m,\u001b[0m  \u001b[0;36m4\u001b[0m\u001b[0;34m,\u001b[0m  \u001b[0;36m6\u001b[0m\u001b[0;34m,\u001b[0m  \u001b[0;36m8\u001b[0m\u001b[0;34m]\u001b[0m\u001b[0;34m\u001b[0m\u001b[0;34m\u001b[0m\u001b[0m\n\u001b[0m",
      "\u001b[0;31mIndexError\u001b[0m: too many indices for array"
     ]
    }
   ],
   "source": [
    "list(ixs[0,  2,  4,  6,  8]"
   ]
  },
  {
   "cell_type": "code",
   "execution_count": 31,
   "metadata": {},
   "outputs": [
    {
     "data": {
      "text/plain": [
       "[0, 2, 4, 6, 8, 10]"
      ]
     },
     "execution_count": 31,
     "metadata": {},
     "output_type": "execute_result"
    }
   ],
   "source": [
    "list(range(0, 11+1,2))"
   ]
  },
  {
   "cell_type": "code",
   "execution_count": null,
   "metadata": {},
   "outputs": [],
   "source": []
  },
  {
   "cell_type": "code",
   "execution_count": 14,
   "metadata": {},
   "outputs": [],
   "source": [
    "final_sample = data_max_100.sample(400000, weights=\"class_weights\", random_state=SEED)"
   ]
  },
  {
   "cell_type": "code",
   "execution_count": 15,
   "metadata": {},
   "outputs": [
    {
     "data": {
      "text/html": [
       "<div>\n",
       "<style scoped>\n",
       "    .dataframe tbody tr th:only-of-type {\n",
       "        vertical-align: middle;\n",
       "    }\n",
       "\n",
       "    .dataframe tbody tr th {\n",
       "        vertical-align: top;\n",
       "    }\n",
       "\n",
       "    .dataframe thead th {\n",
       "        text-align: right;\n",
       "    }\n",
       "</style>\n",
       "<table border=\"1\" class=\"dataframe\">\n",
       "  <thead>\n",
       "    <tr style=\"text-align: right;\">\n",
       "      <th></th>\n",
       "      <th>nocall</th>\n",
       "      <th>bird</th>\n",
       "      <th>row_id</th>\n",
       "      <th>filename</th>\n",
       "      <th>end_sec</th>\n",
       "      <th>primary_label</th>\n",
       "      <th>class_weights</th>\n",
       "    </tr>\n",
       "  </thead>\n",
       "  <tbody>\n",
       "    <tr>\n",
       "      <th>1309728</th>\n",
       "      <td>0</td>\n",
       "      <td>1</td>\n",
       "      <td>XC172660_18_0</td>\n",
       "      <td>XC172660.ogg</td>\n",
       "      <td>18.0</td>\n",
       "      <td>lazbun</td>\n",
       "      <td>0.008333</td>\n",
       "    </tr>\n",
       "  </tbody>\n",
       "</table>\n",
       "</div>"
      ],
      "text/plain": [
       "         nocall  bird         row_id      filename  end_sec primary_label  \\\n",
       "1309728       0     1  XC172660_18_0  XC172660.ogg     18.0        lazbun   \n",
       "\n",
       "         class_weights  \n",
       "1309728       0.008333  "
      ]
     },
     "execution_count": 15,
     "metadata": {},
     "output_type": "execute_result"
    }
   ],
   "source": [
    "final_sample.sample()"
   ]
  },
  {
   "cell_type": "code",
   "execution_count": 16,
   "metadata": {},
   "outputs": [],
   "source": [
    "final_sample = final_sample[\n",
    "    [\"row_id\", \"filename\", \"end_sec\", \"primary_label\", \"class_weights\"]\n",
    "].merge(\n",
    "    all_audio[\n",
    "        [\n",
    "            \"filename\",\n",
    "            \"secondary_labels\",\n",
    "            \"label_id\",\n",
    "            \"secondary_labels_id\",\n",
    "            \"duration\",\n",
    "            \"rating\",\n",
    "            \"year\",\n",
    "            \"file_path\",\n",
    "            \"sin_month\",\n",
    "            \"cos_month\",\n",
    "            \"sin_longitude\",\n",
    "            \"cos_longitude\",\n",
    "            \"latitude\",\n",
    "            \"norm_latitude\",\n",
    "        ]\n",
    "    ],\n",
    "    on=\"filename\",\n",
    "    how=\"left\",\n",
    ")"
   ]
  },
  {
   "cell_type": "code",
   "execution_count": 17,
   "metadata": {},
   "outputs": [
    {
     "data": {
      "text/html": [
       "<div>\n",
       "<style scoped>\n",
       "    .dataframe tbody tr th:only-of-type {\n",
       "        vertical-align: middle;\n",
       "    }\n",
       "\n",
       "    .dataframe tbody tr th {\n",
       "        vertical-align: top;\n",
       "    }\n",
       "\n",
       "    .dataframe thead th {\n",
       "        text-align: right;\n",
       "    }\n",
       "</style>\n",
       "<table border=\"1\" class=\"dataframe\">\n",
       "  <thead>\n",
       "    <tr style=\"text-align: right;\">\n",
       "      <th></th>\n",
       "      <th>row_id</th>\n",
       "      <th>filename</th>\n",
       "      <th>end_sec</th>\n",
       "      <th>primary_label</th>\n",
       "      <th>class_weights</th>\n",
       "      <th>secondary_labels</th>\n",
       "      <th>label_id</th>\n",
       "      <th>secondary_labels_id</th>\n",
       "      <th>duration</th>\n",
       "      <th>rating</th>\n",
       "      <th>year</th>\n",
       "      <th>file_path</th>\n",
       "      <th>sin_month</th>\n",
       "      <th>cos_month</th>\n",
       "      <th>sin_longitude</th>\n",
       "      <th>cos_longitude</th>\n",
       "      <th>latitude</th>\n",
       "      <th>norm_latitude</th>\n",
       "    </tr>\n",
       "  </thead>\n",
       "  <tbody>\n",
       "    <tr>\n",
       "      <th>0</th>\n",
       "      <td>XC575588_25_0</td>\n",
       "      <td>XC575588.ogg</td>\n",
       "      <td>25.0</td>\n",
       "      <td>wiltur</td>\n",
       "      <td>0.014286</td>\n",
       "      <td>casfin chispa ruckin amerob</td>\n",
       "      <td>376</td>\n",
       "      <td>84 95 285 9</td>\n",
       "      <td>212.468031</td>\n",
       "      <td>4.5</td>\n",
       "      <td>2018</td>\n",
       "      <td>/app/_data/train_short_audio/wiltur/XC575588.ogg</td>\n",
       "      <td>1.224647e-16</td>\n",
       "      <td>-1.000000e+00</td>\n",
       "      <td>-0.911385</td>\n",
       "      <td>-0.411554</td>\n",
       "      <td>39.010800</td>\n",
       "      <td>0.716727</td>\n",
       "    </tr>\n",
       "    <tr>\n",
       "      <th>1</th>\n",
       "      <td>XC268189_98_0</td>\n",
       "      <td>XC268189.ogg</td>\n",
       "      <td>98.0</td>\n",
       "      <td>incdov</td>\n",
       "      <td>0.010204</td>\n",
       "      <td>moudov houfin norcar cogdov gamqua yebcha gilw...</td>\n",
       "      <td>182</td>\n",
       "      <td>214 178 221 103 139 382 144 32</td>\n",
       "      <td>373.199469</td>\n",
       "      <td>3.5</td>\n",
       "      <td>2015</td>\n",
       "      <td>/app/_data/train_short_audio/incdov/XC268189.ogg</td>\n",
       "      <td>1.224647e-16</td>\n",
       "      <td>-1.000000e+00</td>\n",
       "      <td>-0.943957</td>\n",
       "      <td>-0.330070</td>\n",
       "      <td>31.340000</td>\n",
       "      <td>0.674111</td>\n",
       "    </tr>\n",
       "    <tr>\n",
       "      <th>2</th>\n",
       "      <td>XC343095_10_0</td>\n",
       "      <td>XC343095.ogg</td>\n",
       "      <td>10.0</td>\n",
       "      <td>burwar1</td>\n",
       "      <td>0.006289</td>\n",
       "      <td>NaN</td>\n",
       "      <td>72</td>\n",
       "      <td>NaN</td>\n",
       "      <td>21.997000</td>\n",
       "      <td>4.0</td>\n",
       "      <td>2013</td>\n",
       "      <td>/app/_data/train_short_audio/burwar1/XC343095.ogg</td>\n",
       "      <td>1.224647e-16</td>\n",
       "      <td>-1.000000e+00</td>\n",
       "      <td>-0.937315</td>\n",
       "      <td>0.348484</td>\n",
       "      <td>-10.790000</td>\n",
       "      <td>0.440056</td>\n",
       "    </tr>\n",
       "    <tr>\n",
       "      <th>3</th>\n",
       "      <td>XC124487_25_0</td>\n",
       "      <td>XC124487.ogg</td>\n",
       "      <td>25.0</td>\n",
       "      <td>nutwoo</td>\n",
       "      <td>0.020000</td>\n",
       "      <td>NaN</td>\n",
       "      <td>228</td>\n",
       "      <td>NaN</td>\n",
       "      <td>61.872125</td>\n",
       "      <td>5.0</td>\n",
       "      <td>2013</td>\n",
       "      <td>/app/_data/train_short_audio/nutwoo/XC124487.ogg</td>\n",
       "      <td>1.000000e+00</td>\n",
       "      <td>6.123234e-17</td>\n",
       "      <td>-0.858232</td>\n",
       "      <td>-0.513263</td>\n",
       "      <td>35.275100</td>\n",
       "      <td>0.695973</td>\n",
       "    </tr>\n",
       "    <tr>\n",
       "      <th>4</th>\n",
       "      <td>XC348156_90_0</td>\n",
       "      <td>XC348156.ogg</td>\n",
       "      <td>90.0</td>\n",
       "      <td>pasfly</td>\n",
       "      <td>0.006369</td>\n",
       "      <td>acowoo pasfly wesblu daejun mouchi</td>\n",
       "      <td>244</td>\n",
       "      <td>1 244 355 121 213</td>\n",
       "      <td>158.107219</td>\n",
       "      <td>3.5</td>\n",
       "      <td>2001</td>\n",
       "      <td>/app/_data/train_short_audio/pasfly/XC348156.ogg</td>\n",
       "      <td>1.224647e-16</td>\n",
       "      <td>-1.000000e+00</td>\n",
       "      <td>-0.902555</td>\n",
       "      <td>-0.430574</td>\n",
       "      <td>30.980000</td>\n",
       "      <td>0.672111</td>\n",
       "    </tr>\n",
       "    <tr>\n",
       "      <th>...</th>\n",
       "      <td>...</td>\n",
       "      <td>...</td>\n",
       "      <td>...</td>\n",
       "      <td>...</td>\n",
       "      <td>...</td>\n",
       "      <td>...</td>\n",
       "      <td>...</td>\n",
       "      <td>...</td>\n",
       "      <td>...</td>\n",
       "      <td>...</td>\n",
       "      <td>...</td>\n",
       "      <td>...</td>\n",
       "      <td>...</td>\n",
       "      <td>...</td>\n",
       "      <td>...</td>\n",
       "      <td>...</td>\n",
       "      <td>...</td>\n",
       "      <td>...</td>\n",
       "    </tr>\n",
       "    <tr>\n",
       "      <th>399995</th>\n",
       "      <td>XC137714_57_0</td>\n",
       "      <td>XC137714.ogg</td>\n",
       "      <td>57.0</td>\n",
       "      <td>buggna</td>\n",
       "      <td>0.004587</td>\n",
       "      <td>NaN</td>\n",
       "      <td>68</td>\n",
       "      <td>NaN</td>\n",
       "      <td>283.117000</td>\n",
       "      <td>5.0</td>\n",
       "      <td>2013</td>\n",
       "      <td>/app/_data/train_short_audio/buggna/XC137714.ogg</td>\n",
       "      <td>1.224647e-16</td>\n",
       "      <td>-1.000000e+00</td>\n",
       "      <td>-0.998313</td>\n",
       "      <td>-0.058069</td>\n",
       "      <td>44.707000</td>\n",
       "      <td>0.748372</td>\n",
       "    </tr>\n",
       "    <tr>\n",
       "      <th>399996</th>\n",
       "      <td>XC427421_16_0</td>\n",
       "      <td>XC427421.ogg</td>\n",
       "      <td>16.0</td>\n",
       "      <td>webwoo1</td>\n",
       "      <td>0.008403</td>\n",
       "      <td>NaN</td>\n",
       "      <td>352</td>\n",
       "      <td>NaN</td>\n",
       "      <td>24.589000</td>\n",
       "      <td>4.5</td>\n",
       "      <td>2015</td>\n",
       "      <td>/app/_data/train_short_audio/webwoo1/XC427421.ogg</td>\n",
       "      <td>-8.660254e-01</td>\n",
       "      <td>5.000000e-01</td>\n",
       "      <td>-0.906574</td>\n",
       "      <td>0.422047</td>\n",
       "      <td>-9.616208</td>\n",
       "      <td>0.446577</td>\n",
       "    </tr>\n",
       "    <tr>\n",
       "      <th>399997</th>\n",
       "      <td>XC425817_28_0</td>\n",
       "      <td>XC425817.ogg</td>\n",
       "      <td>28.0</td>\n",
       "      <td>chswar</td>\n",
       "      <td>0.006098</td>\n",
       "      <td>bkcchi reevir1 indbun</td>\n",
       "      <td>96</td>\n",
       "      <td>36 266 183</td>\n",
       "      <td>95.597125</td>\n",
       "      <td>3.5</td>\n",
       "      <td>2018</td>\n",
       "      <td>/app/_data/train_short_audio/chswar/XC425817.ogg</td>\n",
       "      <td>-5.000000e-01</td>\n",
       "      <td>-8.660254e-01</td>\n",
       "      <td>-0.969580</td>\n",
       "      <td>0.244776</td>\n",
       "      <td>42.580000</td>\n",
       "      <td>0.736556</td>\n",
       "    </tr>\n",
       "    <tr>\n",
       "      <th>399998</th>\n",
       "      <td>XC371638_39_0</td>\n",
       "      <td>XC371638.ogg</td>\n",
       "      <td>39.0</td>\n",
       "      <td>amered</td>\n",
       "      <td>0.003534</td>\n",
       "      <td>NaN</td>\n",
       "      <td>8</td>\n",
       "      <td>NaN</td>\n",
       "      <td>51.292531</td>\n",
       "      <td>3.0</td>\n",
       "      <td>2017</td>\n",
       "      <td>/app/_data/train_short_audio/amered/XC371638.ogg</td>\n",
       "      <td>5.000000e-01</td>\n",
       "      <td>-8.660254e-01</td>\n",
       "      <td>-0.962453</td>\n",
       "      <td>0.271449</td>\n",
       "      <td>40.605200</td>\n",
       "      <td>0.725584</td>\n",
       "    </tr>\n",
       "    <tr>\n",
       "      <th>399999</th>\n",
       "      <td>XC174754_312_0</td>\n",
       "      <td>XC174754.ogg</td>\n",
       "      <td>312.0</td>\n",
       "      <td>rufhum</td>\n",
       "      <td>0.015625</td>\n",
       "      <td>calqua amecro bulori eucdov pasfly</td>\n",
       "      <td>291</td>\n",
       "      <td>78 4 71 132 244</td>\n",
       "      <td>317.701000</td>\n",
       "      <td>3.5</td>\n",
       "      <td>2014</td>\n",
       "      <td>/app/_data/train_short_audio/rufhum/XC174754.ogg</td>\n",
       "      <td>8.660254e-01</td>\n",
       "      <td>-5.000000e-01</td>\n",
       "      <td>-0.859612</td>\n",
       "      <td>-0.510948</td>\n",
       "      <td>35.336000</td>\n",
       "      <td>0.696311</td>\n",
       "    </tr>\n",
       "  </tbody>\n",
       "</table>\n",
       "<p>400000 rows × 18 columns</p>\n",
       "</div>"
      ],
      "text/plain": [
       "                row_id      filename  end_sec primary_label  class_weights  \\\n",
       "0        XC575588_25_0  XC575588.ogg     25.0        wiltur       0.014286   \n",
       "1        XC268189_98_0  XC268189.ogg     98.0        incdov       0.010204   \n",
       "2        XC343095_10_0  XC343095.ogg     10.0       burwar1       0.006289   \n",
       "3        XC124487_25_0  XC124487.ogg     25.0        nutwoo       0.020000   \n",
       "4        XC348156_90_0  XC348156.ogg     90.0        pasfly       0.006369   \n",
       "...                ...           ...      ...           ...            ...   \n",
       "399995   XC137714_57_0  XC137714.ogg     57.0        buggna       0.004587   \n",
       "399996   XC427421_16_0  XC427421.ogg     16.0       webwoo1       0.008403   \n",
       "399997   XC425817_28_0  XC425817.ogg     28.0        chswar       0.006098   \n",
       "399998   XC371638_39_0  XC371638.ogg     39.0        amered       0.003534   \n",
       "399999  XC174754_312_0  XC174754.ogg    312.0        rufhum       0.015625   \n",
       "\n",
       "                                         secondary_labels  label_id  \\\n",
       "0                             casfin chispa ruckin amerob       376   \n",
       "1       moudov houfin norcar cogdov gamqua yebcha gilw...       182   \n",
       "2                                                     NaN        72   \n",
       "3                                                     NaN       228   \n",
       "4                      acowoo pasfly wesblu daejun mouchi       244   \n",
       "...                                                   ...       ...   \n",
       "399995                                                NaN        68   \n",
       "399996                                                NaN       352   \n",
       "399997                              bkcchi reevir1 indbun        96   \n",
       "399998                                                NaN         8   \n",
       "399999                 calqua amecro bulori eucdov pasfly       291   \n",
       "\n",
       "                   secondary_labels_id    duration  rating  year  \\\n",
       "0                          84 95 285 9  212.468031     4.5  2018   \n",
       "1       214 178 221 103 139 382 144 32  373.199469     3.5  2015   \n",
       "2                                  NaN   21.997000     4.0  2013   \n",
       "3                                  NaN   61.872125     5.0  2013   \n",
       "4                    1 244 355 121 213  158.107219     3.5  2001   \n",
       "...                                ...         ...     ...   ...   \n",
       "399995                             NaN  283.117000     5.0  2013   \n",
       "399996                             NaN   24.589000     4.5  2015   \n",
       "399997                      36 266 183   95.597125     3.5  2018   \n",
       "399998                             NaN   51.292531     3.0  2017   \n",
       "399999                 78 4 71 132 244  317.701000     3.5  2014   \n",
       "\n",
       "                                                file_path     sin_month  \\\n",
       "0        /app/_data/train_short_audio/wiltur/XC575588.ogg  1.224647e-16   \n",
       "1        /app/_data/train_short_audio/incdov/XC268189.ogg  1.224647e-16   \n",
       "2       /app/_data/train_short_audio/burwar1/XC343095.ogg  1.224647e-16   \n",
       "3        /app/_data/train_short_audio/nutwoo/XC124487.ogg  1.000000e+00   \n",
       "4        /app/_data/train_short_audio/pasfly/XC348156.ogg  1.224647e-16   \n",
       "...                                                   ...           ...   \n",
       "399995   /app/_data/train_short_audio/buggna/XC137714.ogg  1.224647e-16   \n",
       "399996  /app/_data/train_short_audio/webwoo1/XC427421.ogg -8.660254e-01   \n",
       "399997   /app/_data/train_short_audio/chswar/XC425817.ogg -5.000000e-01   \n",
       "399998   /app/_data/train_short_audio/amered/XC371638.ogg  5.000000e-01   \n",
       "399999   /app/_data/train_short_audio/rufhum/XC174754.ogg  8.660254e-01   \n",
       "\n",
       "           cos_month  sin_longitude  cos_longitude   latitude  norm_latitude  \n",
       "0      -1.000000e+00      -0.911385      -0.411554  39.010800       0.716727  \n",
       "1      -1.000000e+00      -0.943957      -0.330070  31.340000       0.674111  \n",
       "2      -1.000000e+00      -0.937315       0.348484 -10.790000       0.440056  \n",
       "3       6.123234e-17      -0.858232      -0.513263  35.275100       0.695973  \n",
       "4      -1.000000e+00      -0.902555      -0.430574  30.980000       0.672111  \n",
       "...              ...            ...            ...        ...            ...  \n",
       "399995 -1.000000e+00      -0.998313      -0.058069  44.707000       0.748372  \n",
       "399996  5.000000e-01      -0.906574       0.422047  -9.616208       0.446577  \n",
       "399997 -8.660254e-01      -0.969580       0.244776  42.580000       0.736556  \n",
       "399998 -8.660254e-01      -0.962453       0.271449  40.605200       0.725584  \n",
       "399999 -5.000000e-01      -0.859612      -0.510948  35.336000       0.696311  \n",
       "\n",
       "[400000 rows x 18 columns]"
      ]
     },
     "execution_count": 17,
     "metadata": {},
     "output_type": "execute_result"
    }
   ],
   "source": [
    "final_sample"
   ]
  },
  {
   "cell_type": "code",
   "execution_count": 18,
   "metadata": {},
   "outputs": [
    {
     "data": {
      "text/plain": [
       "normoc     3566\n",
       "yelgro     2968\n",
       "bulori     2770\n",
       "brnthr     2679\n",
       "thbkin     2587\n",
       "           ... \n",
       "gretin1     186\n",
       "whcpar      160\n",
       "hofwoo1     112\n",
       "stvhum2      53\n",
       "wegspa1      50\n",
       "Name: primary_label, Length: 397, dtype: int64"
      ]
     },
     "execution_count": 18,
     "metadata": {},
     "output_type": "execute_result"
    }
   ],
   "source": [
    "final_sample[\"primary_label\"].value_counts()"
   ]
  },
  {
   "cell_type": "markdown",
   "metadata": {},
   "source": [
    "# nocall"
   ]
  },
  {
   "cell_type": "code",
   "execution_count": 11,
   "metadata": {},
   "outputs": [],
   "source": [
    "nocall = nocall.drop_duplicates()"
   ]
  },
  {
   "cell_type": "code",
   "execution_count": 13,
   "metadata": {},
   "outputs": [],
   "source": [
    "nocall[\"file_path\"] = nocall[\"file_path\"].str.replace(\"birdclef-2021/\", \"\")"
   ]
  },
  {
   "cell_type": "code",
   "execution_count": 27,
   "metadata": {},
   "outputs": [],
   "source": [
    "nocall = nocall[~nocall['file_path'].str.contains('train_soundscapes')].reset_index(drop=True)"
   ]
  },
  {
   "cell_type": "code",
   "execution_count": 26,
   "metadata": {},
   "outputs": [],
   "source": [
    "soundscapes_nocall =all_audio[all_audio['file_path'].str.contains('train_soundscapes')]\n",
    "soundscapes_nocall = soundscapes_nocall[soundscapes_nocall['primary_label']=='nocall']"
   ]
  },
  {
   "cell_type": "code",
   "execution_count": 37,
   "metadata": {},
   "outputs": [],
   "source": [
    "dict_w = (1/nocall['filename'].value_counts()).to_dict()\n",
    "nocall['weights'] = nocall['filename'].replace(dict_w)"
   ]
  },
  {
   "cell_type": "code",
   "execution_count": 40,
   "metadata": {},
   "outputs": [],
   "source": [
    "nocall_sample = nocall.sample(2000, random_state=SEED,  weights='weights')"
   ]
  },
  {
   "cell_type": "code",
   "execution_count": 41,
   "metadata": {},
   "outputs": [
    {
     "data": {
      "text/plain": [
       "XC443189.ogg    21\n",
       "XC197662.ogg    20\n",
       "XC327562.ogg    20\n",
       "XC118888.ogg    19\n",
       "XC256594.ogg    19\n",
       "                ..\n",
       "XC132192.ogg     1\n",
       "XC210768.ogg     1\n",
       "XC259210.ogg     1\n",
       "XC187408.ogg     1\n",
       "XC564545.ogg     1\n",
       "Name: filename, Length: 192, dtype: int64"
      ]
     },
     "execution_count": 41,
     "metadata": {},
     "output_type": "execute_result"
    }
   ],
   "source": [
    "nocall_sample['filename'].value_counts()"
   ]
  },
  {
   "cell_type": "code",
   "execution_count": 46,
   "metadata": {},
   "outputs": [],
   "source": [
    "nocall_sample = nocall_sample.merge(\n",
    "    all_audio[\n",
    "        [\n",
    "            \"filename\",\n",
    "            \"rating\",\n",
    "            \"year\",\n",
    "            \"sin_month\",\n",
    "            \"cos_month\",\n",
    "            \"sin_longitude\",\n",
    "            \"cos_longitude\",\n",
    "            \"latitude\",\n",
    "            \"norm_latitude\",\n",
    "            'class_weights'\n",
    "        ]\n",
    "    ],\n",
    "    on=\"filename\",\n",
    "    how=\"left\",\n",
    ")"
   ]
  },
  {
   "cell_type": "code",
   "execution_count": 54,
   "metadata": {},
   "outputs": [],
   "source": [
    "nocall_sample = nocall_sample[['filename', 'row_id', 'start_sec', 'end_sec', 'file_path',\n",
    "       'duration', 'rating', 'year', 'sin_month', 'cos_month',\n",
    "       'sin_longitude', 'cos_longitude', 'latitude', 'norm_latitude',\n",
    "       'class_weights', 'label_id', 'secondary_labels_id']]\n",
    "soundscapes_nocall = soundscapes_nocall[['filename', 'row_id', 'start_sec', 'end_sec', 'file_path',\n",
    "       'duration', 'rating', 'year', 'sin_month', 'cos_month',\n",
    "       'sin_longitude', 'cos_longitude', 'latitude', 'norm_latitude',\n",
    "       'class_weights', 'label_id', 'secondary_labels_id']]"
   ]
  },
  {
   "cell_type": "code",
   "execution_count": 56,
   "metadata": {},
   "outputs": [],
   "source": [
    "soundscapes_nocall['duration']=600"
   ]
  },
  {
   "cell_type": "code",
   "execution_count": 57,
   "metadata": {},
   "outputs": [],
   "source": [
    "all_nocall = pd.concat([nocall_sample, soundscapes_nocall], axis=0, ignore_index=True)"
   ]
  },
  {
   "cell_type": "code",
   "execution_count": 58,
   "metadata": {},
   "outputs": [],
   "source": [
    "all_nocall[\"label_id\"] = dict_birds[\"nocall\"]\n",
    "all_nocall[\"secondary_labels_id\"] = np.nan"
   ]
  },
  {
   "cell_type": "code",
   "execution_count": 60,
   "metadata": {},
   "outputs": [
    {
     "data": {
      "text/plain": [
       "filename                  0\n",
       "row_id                    0\n",
       "start_sec                 0\n",
       "end_sec                   0\n",
       "file_path                 0\n",
       "duration                  0\n",
       "rating                    0\n",
       "year                      0\n",
       "sin_month                 0\n",
       "cos_month                 0\n",
       "sin_longitude             0\n",
       "cos_longitude             0\n",
       "latitude                  0\n",
       "norm_latitude             0\n",
       "class_weights             0\n",
       "label_id                  0\n",
       "secondary_labels_id    3529\n",
       "dtype: int64"
      ]
     },
     "execution_count": 60,
     "metadata": {},
     "output_type": "execute_result"
    }
   ],
   "source": [
    "all_nocall.isna().sum()"
   ]
  },
  {
   "cell_type": "markdown",
   "metadata": {},
   "source": [
    "# concat"
   ]
  },
  {
   "cell_type": "code",
   "execution_count": 25,
   "metadata": {},
   "outputs": [
    {
     "data": {
      "text/plain": [
       "(405000, 20)"
      ]
     },
     "execution_count": 25,
     "metadata": {},
     "output_type": "execute_result"
    }
   ],
   "source": [
    "final_audio = (\n",
    "    pd.concat(\n",
    "        [final_sample, nocall_sample],\n",
    "        axis=0,\n",
    "        ignore_index=True,\n",
    "    )\n",
    "    .sample(frac=1, random_state=SEED)\n",
    "    .reset_index(drop=True)\n",
    ")\n",
    "final_audio.shape"
   ]
  },
  {
   "cell_type": "code",
   "execution_count": 26,
   "metadata": {},
   "outputs": [
    {
     "data": {
      "text/plain": [
       "scamac1    395\n",
       "brwpar1    392\n",
       "norsho     366\n",
       "rebsap     364\n",
       "sthwoo1    359\n",
       "grhcha1    352\n",
       "lotduc     339\n",
       "whimbr     327\n",
       "goowoo1    323\n",
       "rehbar1    274\n",
       "runwre1    249\n",
       "sander     244\n",
       "bucmot2    218\n",
       "heptan     217\n",
       "rthhum     201\n",
       "gretin1    186\n",
       "whcpar     160\n",
       "hofwoo1    112\n",
       "stvhum2     53\n",
       "wegspa1     50\n",
       "Name: primary_label, dtype: int64"
      ]
     },
     "execution_count": 26,
     "metadata": {},
     "output_type": "execute_result"
    }
   ],
   "source": [
    "final_audio[\"primary_label\"].value_counts().tail(20)"
   ]
  },
  {
   "cell_type": "code",
   "execution_count": 27,
   "metadata": {},
   "outputs": [],
   "source": [
    "train, valid = train_test_split(final_audio, train_size=0.8, random_state=SEED)\n",
    "train = train.reset_index(drop=True)\n",
    "valid = valid.reset_index(drop=True)"
   ]
  },
  {
   "cell_type": "markdown",
   "metadata": {},
   "source": [
    "# MEL_Gen"
   ]
  },
  {
   "cell_type": "code",
   "execution_count": 28,
   "metadata": {},
   "outputs": [],
   "source": [
    "NUM_CLASSES = len(dict_birds)\n",
    "BATCH_SIZE = 400"
   ]
  },
  {
   "cell_type": "code",
   "execution_count": 29,
   "metadata": {},
   "outputs": [],
   "source": [
    "mel_pr = Mel_Provider(\n",
    "    n_fft=N_FFT,\n",
    "    win_length=WIN_LENGHT,\n",
    "    n_mels=IMG_SIZE,\n",
    "    sample_rate=SAMPLE_RATE,\n",
    "    mel_image_size=IMG_SIZE,\n",
    "    min_frequency=FREQ_MIN,\n",
    "    max_frequency=FREQ_MAX,\n",
    "    signal_lenght=SIGNAL_LENGTH,\n",
    ")"
   ]
  },
  {
   "cell_type": "code",
   "execution_count": 30,
   "metadata": {},
   "outputs": [],
   "source": [
    "# shutil.rmtree('/app/_data/npy/short_mels')"
   ]
  },
  {
   "cell_type": "code",
   "execution_count": 31,
   "metadata": {},
   "outputs": [],
   "source": [
    "gen_train = MEL_Gen(\n",
    "    df=train,\n",
    "    n_mels=IMG_SIZE,\n",
    "    seed=SEED,\n",
    "    sample_rate=SAMPLE_RATE,\n",
    "    mel_image_size=IMG_SIZE,\n",
    "    batch_size=BATCH_SIZE,\n",
    "    n_classes=NUM_CLASSES,\n",
    "    signal_lenght=SIGNAL_LENGTH,\n",
    "    mel_provider=mel_pr,\n",
    "    wave_dir=\"/app/_data/npy/waves_npy/\",\n",
    "    short_mel_dir=\"/app/_data/npy/short_mels_224_uint8/\",\n",
    "    convert_to_rgb=True,\n",
    "    shuffle=True,\n",
    "    return_primary_labels=False,\n",
    "    return_concat_labels=True,\n",
    "    augment=False,\n",
    "    img_dtype=\"uint8\",\n",
    ")\n",
    "gen_valid = MEL_Gen(\n",
    "    df=valid,\n",
    "    n_mels=IMG_SIZE,\n",
    "    seed=SEED,\n",
    "    sample_rate=SAMPLE_RATE,\n",
    "    mel_image_size=IMG_SIZE,\n",
    "    batch_size=BATCH_SIZE,\n",
    "    n_classes=NUM_CLASSES,\n",
    "    signal_lenght=SIGNAL_LENGTH,\n",
    "    mel_provider=mel_pr,\n",
    "    wave_dir=\"/app/_data/npy/waves_npy/\",\n",
    "    short_mel_dir=\"/app/_data/npy/short_mels_224_uint8/\",\n",
    "    convert_to_rgb=True,\n",
    "    shuffle=False,\n",
    "    return_primary_labels=False,\n",
    "    return_concat_labels=True,\n",
    "    augment=False,\n",
    "    img_dtype=\"uint8\",\n",
    ")"
   ]
  },
  {
   "cell_type": "markdown",
   "metadata": {},
   "source": [
    "# model"
   ]
  },
  {
   "cell_type": "code",
   "execution_count": 32,
   "metadata": {},
   "outputs": [
    {
     "name": "stdout",
     "output_type": "stream",
     "text": [
      "INFO:tensorflow:Mixed precision compatibility check (mixed_float16): OK\n",
      "Your GPU will likely run quickly with dtype policy mixed_float16 as it has compute capability of at least 7.0. Your GPU: NVIDIA GeForce RTX 3090, compute capability 8.6\n"
     ]
    }
   ],
   "source": [
    "def get_model():\n",
    "    inputs = keras.Input(shape=(IMG_SIZE, IMG_SIZE, 3))\n",
    "    base_model = keras.applications.EfficientNetB0(\n",
    "        weights=\"imagenet\", include_top=False\n",
    "    )\n",
    "    x = base_model(inputs)\n",
    "    x = keras.layers.GlobalAveragePooling2D(name=\"avg_pool\")(x)\n",
    "    x = keras.layers.Flatten(name=\"flatten\")(x)\n",
    "    outputs = keras.layers.Dense(NUM_CLASSES, activation=\"sigmoid\")(x)\n",
    "    model = keras.Model(inputs=inputs, outputs=outputs)\n",
    "    model.compile(\n",
    "        loss=\"binary_crossentropy\",\n",
    "        optimizer=Adam(lr=0.0005),\n",
    "        metrics=[\n",
    "            \"acc\",\n",
    "            keras.metrics.Recall(),\n",
    "            keras.metrics.Precision(),\n",
    "            tfa.metrics.F1Score(num_classes=NUM_CLASSES, average=\"micro\"),\n",
    "        ],\n",
    "    )\n",
    "    return model\n",
    "\n",
    "\n",
    "policy = keras.mixed_precision.experimental.Policy(\"mixed_float16\")\n",
    "keras.mixed_precision.experimental.set_policy(policy)"
   ]
  },
  {
   "cell_type": "code",
   "execution_count": 33,
   "metadata": {},
   "outputs": [],
   "source": [
    "callbacks = [\n",
    "    keras.callbacks.EarlyStopping(\n",
    "        monitor=\"val_f1_score\",\n",
    "        patience=12,\n",
    "        restore_best_weights=True,\n",
    "        verbose=1,\n",
    "        mode=\"max\",\n",
    "    ),\n",
    "    keras.callbacks.ModelCheckpoint(\n",
    "        \"/app/_data/models/from_nocall/Eff0_2/Eff0_2.h5\",\n",
    "        monitor=\"val_f1_score\",\n",
    "        verbose=1,\n",
    "        save_best_only=True,\n",
    "        save_weights_only=False,\n",
    "        mode=\"max\",\n",
    "        save_freq=\"epoch\",\n",
    "    ),\n",
    "    keras.callbacks.ReduceLROnPlateau(\n",
    "        monitor=\"val_f1_score\",\n",
    "        factor=0.9,\n",
    "        patience=5,\n",
    "        verbose=1,\n",
    "        mode=\"max\",\n",
    "        min_delta=1e-4,\n",
    "        min_lr=0.00000001,\n",
    "    ),\n",
    "    keras.callbacks.TensorBoard(\n",
    "        log_dir=\"/app/.tensorboard/Eff0_2_nc2/\", histogram_freq=0\n",
    "    ),\n",
    "    keras.callbacks.experimental.BackupAndRestore(\n",
    "        \"/app/_data/models/from_nocall/Eff0_2/backup/\"\n",
    "    ),\n",
    "    keras.callbacks.TerminateOnNaN(),\n",
    "]"
   ]
  },
  {
   "cell_type": "code",
   "execution_count": null,
   "metadata": {},
   "outputs": [
    {
     "name": "stdout",
     "output_type": "stream",
     "text": [
      "Epoch 1/100\n",
      "  1/810 [..............................] - ETA: 6s - loss: 0.7080 - acc: 0.0050 - recall: 0.5063 - precision: 0.0065 - f1_score: 0.0038WARNING:tensorflow:From /usr/local/lib/python3.8/dist-packages/tensorflow/python/ops/summary_ops_v2.py:1277: stop (from tensorflow.python.eager.profiler) is deprecated and will be removed after 2020-07-01.\n",
      "Instructions for updating:\n",
      "use `tf.profiler.experimental.stop` instead.\n",
      "810/810 [==============================] - ETA: 0s - loss: 0.0276 - acc: 0.0773 - recall: 0.0083 - precision: 0.0281 - f1_score: 0.0856\n",
      "Epoch 00001: val_f1_score improved from -inf to 0.22116, saving model to /app/_data/models/from_nocall/Eff0_2/Eff0_2.h5\n",
      "810/810 [==============================] - 1562s 2s/step - loss: 0.0276 - acc: 0.0773 - recall: 0.0083 - precision: 0.0281 - f1_score: 0.0856 - val_loss: 0.0289 - val_acc: 0.2582 - val_recall: 0.2707 - val_precision: 0.4380 - val_f1_score: 0.2212\n",
      "Epoch 2/100\n",
      "810/810 [==============================] - ETA: 0s - loss: 0.0130 - acc: 0.5026 - recall: 0.1267 - precision: 0.9009 - f1_score: 0.4075\n",
      "Epoch 00002: val_f1_score improved from 0.22116 to 0.50073, saving model to /app/_data/models/from_nocall/Eff0_2/Eff0_2.h5\n",
      "810/810 [==============================] - 695s 858ms/step - loss: 0.0130 - acc: 0.5026 - recall: 0.1267 - precision: 0.9009 - f1_score: 0.4075 - val_loss: 0.0113 - val_acc: 0.6267 - val_recall: 0.2332 - val_precision: 0.8696 - val_f1_score: 0.5007\n",
      "Epoch 3/100\n",
      "810/810 [==============================] - ETA: 0s - loss: 0.0098 - acc: 0.7026 - recall: 0.2542 - precision: 0.9220 - f1_score: 0.5570\n",
      "Epoch 00003: val_f1_score improved from 0.50073 to 0.57958, saving model to /app/_data/models/from_nocall/Eff0_2/Eff0_2.h5\n",
      "810/810 [==============================] - 697s 860ms/step - loss: 0.0098 - acc: 0.7026 - recall: 0.2542 - precision: 0.9220 - f1_score: 0.5570 - val_loss: 0.0092 - val_acc: 0.7327 - val_recall: 0.2831 - val_precision: 0.9257 - val_f1_score: 0.5796\n",
      "Epoch 4/100\n",
      "810/810 [==============================] - ETA: 0s - loss: 0.0082 - acc: 0.7814 - recall: 0.3172 - precision: 0.9387 - f1_score: 0.6149\n",
      "Epoch 00004: val_f1_score improved from 0.57958 to 0.62016, saving model to /app/_data/models/from_nocall/Eff0_2/Eff0_2.h5\n",
      "810/810 [==============================] - 697s 860ms/step - loss: 0.0082 - acc: 0.7814 - recall: 0.3172 - precision: 0.9387 - f1_score: 0.6149 - val_loss: 0.0080 - val_acc: 0.7893 - val_recall: 0.3179 - val_precision: 0.9406 - val_f1_score: 0.6202\n",
      "Epoch 5/100\n",
      "810/810 [==============================] - ETA: 0s - loss: 0.0072 - acc: 0.8287 - recall: 0.3600 - precision: 0.9508 - f1_score: 0.6491\n",
      "Epoch 00005: val_f1_score improved from 0.62016 to 0.64425, saving model to /app/_data/models/from_nocall/Eff0_2/Eff0_2.h5\n",
      "810/810 [==============================] - 696s 859ms/step - loss: 0.0072 - acc: 0.8287 - recall: 0.3600 - precision: 0.9508 - f1_score: 0.6491 - val_loss: 0.0071 - val_acc: 0.8227 - val_recall: 0.3681 - val_precision: 0.9415 - val_f1_score: 0.6443\n",
      "Epoch 6/100\n",
      "810/810 [==============================] - ETA: 0s - loss: 0.0064 - acc: 0.8615 - recall: 0.3923 - precision: 0.9588 - f1_score: 0.6723\n",
      "Epoch 00006: val_f1_score improved from 0.64425 to 0.66184, saving model to /app/_data/models/from_nocall/Eff0_2/Eff0_2.h5\n",
      "810/810 [==============================] - 696s 859ms/step - loss: 0.0064 - acc: 0.8615 - recall: 0.3923 - precision: 0.9588 - f1_score: 0.6723 - val_loss: 0.0066 - val_acc: 0.8486 - val_recall: 0.3901 - val_precision: 0.9452 - val_f1_score: 0.6618\n",
      "Epoch 7/100\n",
      "810/810 [==============================] - ETA: 0s - loss: 0.0059 - acc: 0.8860 - recall: 0.4179 - precision: 0.9662 - f1_score: 0.6893\n",
      "Epoch 00007: val_f1_score improved from 0.66184 to 0.67251, saving model to /app/_data/models/from_nocall/Eff0_2/Eff0_2.h5\n",
      "810/810 [==============================] - 697s 861ms/step - loss: 0.0059 - acc: 0.8860 - recall: 0.4179 - precision: 0.9662 - f1_score: 0.6893 - val_loss: 0.0062 - val_acc: 0.8638 - val_recall: 0.4140 - val_precision: 0.9518 - val_f1_score: 0.6725\n",
      "Epoch 8/100\n",
      "810/810 [==============================] - ETA: 0s - loss: 0.0054 - acc: 0.9051 - recall: 0.4386 - precision: 0.9716 - f1_score: 0.7025\n",
      "Epoch 00008: val_f1_score improved from 0.67251 to 0.68238, saving model to /app/_data/models/from_nocall/Eff0_2/Eff0_2.h5\n",
      "810/810 [==============================] - 698s 862ms/step - loss: 0.0054 - acc: 0.9051 - recall: 0.4386 - precision: 0.9716 - f1_score: 0.7025 - val_loss: 0.0058 - val_acc: 0.8779 - val_recall: 0.4514 - val_precision: 0.9552 - val_f1_score: 0.6824\n",
      "Epoch 9/100\n",
      "810/810 [==============================] - ETA: 0s - loss: 0.0050 - acc: 0.9205 - recall: 0.4543 - precision: 0.9760 - f1_score: 0.7129\n",
      "Epoch 00009: val_f1_score improved from 0.68238 to 0.68651, saving model to /app/_data/models/from_nocall/Eff0_2/Eff0_2.h5\n",
      "810/810 [==============================] - 697s 861ms/step - loss: 0.0050 - acc: 0.9205 - recall: 0.4543 - precision: 0.9760 - f1_score: 0.7129 - val_loss: 0.0057 - val_acc: 0.8837 - val_recall: 0.4379 - val_precision: 0.9583 - val_f1_score: 0.6865\n",
      "Epoch 10/100\n",
      "810/810 [==============================] - ETA: 0s - loss: 0.0048 - acc: 0.9315 - recall: 0.4672 - precision: 0.9795 - f1_score: 0.7202\n",
      "Epoch 00010: val_f1_score improved from 0.68651 to 0.68660, saving model to /app/_data/models/from_nocall/Eff0_2/Eff0_2.h5\n",
      "810/810 [==============================] - 696s 859ms/step - loss: 0.0048 - acc: 0.9315 - recall: 0.4672 - precision: 0.9795 - f1_score: 0.7202 - val_loss: 0.0057 - val_acc: 0.8837 - val_recall: 0.4337 - val_precision: 0.9618 - val_f1_score: 0.6866\n",
      "Epoch 11/100\n",
      "810/810 [==============================] - ETA: 0s - loss: 0.0045 - acc: 0.9405 - recall: 0.4774 - precision: 0.9825 - f1_score: 0.7261\n",
      "Epoch 00011: val_f1_score improved from 0.68660 to 0.69258, saving model to /app/_data/models/from_nocall/Eff0_2/Eff0_2.h5\n",
      "810/810 [==============================] - 696s 859ms/step - loss: 0.0045 - acc: 0.9405 - recall: 0.4774 - precision: 0.9825 - f1_score: 0.7261 - val_loss: 0.0055 - val_acc: 0.8925 - val_recall: 0.4504 - val_precision: 0.9632 - val_f1_score: 0.6926\n",
      "Epoch 12/100\n",
      "810/810 [==============================] - ETA: 0s - loss: 0.0044 - acc: 0.9479 - recall: 0.4861 - precision: 0.9843 - f1_score: 0.7309\n",
      "Epoch 00012: val_f1_score improved from 0.69258 to 0.69669, saving model to /app/_data/models/from_nocall/Eff0_2/Eff0_2.h5\n",
      "810/810 [==============================] - 700s 864ms/step - loss: 0.0044 - acc: 0.9479 - recall: 0.4861 - precision: 0.9843 - f1_score: 0.7309 - val_loss: 0.0053 - val_acc: 0.8990 - val_recall: 0.4678 - val_precision: 0.9633 - val_f1_score: 0.6967\n",
      "Epoch 13/100\n",
      "810/810 [==============================] - ETA: 0s - loss: 0.0042 - acc: 0.9549 - recall: 0.4921 - precision: 0.9867 - f1_score: 0.7353\n",
      "Epoch 00013: val_f1_score improved from 0.69669 to 0.70069, saving model to /app/_data/models/from_nocall/Eff0_2/Eff0_2.h5\n",
      "810/810 [==============================] - 700s 864ms/step - loss: 0.0042 - acc: 0.9549 - recall: 0.4921 - precision: 0.9867 - f1_score: 0.7353 - val_loss: 0.0052 - val_acc: 0.9051 - val_recall: 0.4638 - val_precision: 0.9648 - val_f1_score: 0.7007\n",
      "Epoch 14/100\n",
      "810/810 [==============================] - ETA: 0s - loss: 0.0041 - acc: 0.9598 - recall: 0.4972 - precision: 0.9881 - f1_score: 0.7383\n",
      "Epoch 00014: val_f1_score did not improve from 0.70069\n",
      "810/810 [==============================] - 696s 859ms/step - loss: 0.0041 - acc: 0.9598 - recall: 0.4972 - precision: 0.9881 - f1_score: 0.7383 - val_loss: 0.0054 - val_acc: 0.9004 - val_recall: 0.4366 - val_precision: 0.9670 - val_f1_score: 0.6983\n",
      "Epoch 15/100\n",
      "810/810 [==============================] - ETA: 0s - loss: 0.0040 - acc: 0.9639 - recall: 0.5017 - precision: 0.9893 - f1_score: 0.7408\n",
      "Epoch 00015: val_f1_score improved from 0.70069 to 0.70547, saving model to /app/_data/models/from_nocall/Eff0_2/Eff0_2.h5\n",
      "810/810 [==============================] - 699s 863ms/step - loss: 0.0040 - acc: 0.9639 - recall: 0.5017 - precision: 0.9893 - f1_score: 0.7408 - val_loss: 0.0050 - val_acc: 0.9126 - val_recall: 0.4745 - val_precision: 0.9681 - val_f1_score: 0.7055\n",
      "Epoch 16/100\n",
      "810/810 [==============================] - ETA: 0s - loss: 0.0039 - acc: 0.9675 - recall: 0.5047 - precision: 0.9903 - f1_score: 0.7430\n",
      "Epoch 00016: val_f1_score improved from 0.70547 to 0.70752, saving model to /app/_data/models/from_nocall/Eff0_2/Eff0_2.h5\n",
      "810/810 [==============================] - 699s 863ms/step - loss: 0.0039 - acc: 0.9675 - recall: 0.5047 - precision: 0.9903 - f1_score: 0.7430 - val_loss: 0.0049 - val_acc: 0.9157 - val_recall: 0.4932 - val_precision: 0.9663 - val_f1_score: 0.7075\n",
      "Epoch 17/100\n",
      "810/810 [==============================] - ETA: 0s - loss: 0.0038 - acc: 0.9704 - recall: 0.5074 - precision: 0.9912 - f1_score: 0.7448\n",
      "Epoch 00017: val_f1_score improved from 0.70752 to 0.70822, saving model to /app/_data/models/from_nocall/Eff0_2/Eff0_2.h5\n",
      "810/810 [==============================] - 700s 865ms/step - loss: 0.0038 - acc: 0.9704 - recall: 0.5074 - precision: 0.9912 - f1_score: 0.7448 - val_loss: 0.0049 - val_acc: 0.9166 - val_recall: 0.4811 - val_precision: 0.9697 - val_f1_score: 0.7082\n",
      "Epoch 18/100\n",
      "810/810 [==============================] - ETA: 0s - loss: 0.0037 - acc: 0.9733 - recall: 0.5094 - precision: 0.9922 - f1_score: 0.7466\n",
      "Epoch 00018: val_f1_score did not improve from 0.70822\n",
      "810/810 [==============================] - 695s 858ms/step - loss: 0.0037 - acc: 0.9733 - recall: 0.5094 - precision: 0.9922 - f1_score: 0.7466 - val_loss: 0.0050 - val_acc: 0.9154 - val_recall: 0.4705 - val_precision: 0.9691 - val_f1_score: 0.7072\n",
      "Epoch 19/100\n",
      "810/810 [==============================] - ETA: 0s - loss: 0.0037 - acc: 0.9747 - recall: 0.5109 - precision: 0.9926 - f1_score: 0.7473\n",
      "Epoch 00019: val_f1_score improved from 0.70822 to 0.70940, saving model to /app/_data/models/from_nocall/Eff0_2/Eff0_2.h5\n",
      "810/810 [==============================] - 700s 864ms/step - loss: 0.0037 - acc: 0.9747 - recall: 0.5109 - precision: 0.9926 - f1_score: 0.7473 - val_loss: 0.0049 - val_acc: 0.9187 - val_recall: 0.4714 - val_precision: 0.9737 - val_f1_score: 0.7094\n",
      "Epoch 20/100\n",
      "810/810 [==============================] - ETA: 0s - loss: 0.0036 - acc: 0.9768 - recall: 0.5120 - precision: 0.9932 - f1_score: 0.7485\n",
      "Epoch 00020: val_f1_score improved from 0.70940 to 0.70980, saving model to /app/_data/models/from_nocall/Eff0_2/Eff0_2.h5\n",
      "810/810 [==============================] - 699s 863ms/step - loss: 0.0036 - acc: 0.9768 - recall: 0.5120 - precision: 0.9932 - f1_score: 0.7485 - val_loss: 0.0049 - val_acc: 0.9194 - val_recall: 0.4487 - val_precision: 0.9744 - val_f1_score: 0.7098\n",
      "Epoch 21/100\n",
      "810/810 [==============================] - ETA: 0s - loss: 0.0036 - acc: 0.9782 - recall: 0.5134 - precision: 0.9936 - f1_score: 0.7494\n",
      "Epoch 00021: val_f1_score improved from 0.70980 to 0.71149, saving model to /app/_data/models/from_nocall/Eff0_2/Eff0_2.h5\n",
      "810/810 [==============================] - 698s 862ms/step - loss: 0.0036 - acc: 0.9782 - recall: 0.5134 - precision: 0.9936 - f1_score: 0.7494 - val_loss: 0.0048 - val_acc: 0.9220 - val_recall: 0.4692 - val_precision: 0.9735 - val_f1_score: 0.7115\n",
      "Epoch 22/100\n",
      "810/810 [==============================] - ETA: 0s - loss: 0.0036 - acc: 0.9800 - recall: 0.5137 - precision: 0.9943 - f1_score: 0.7504\n",
      "Epoch 00022: val_f1_score improved from 0.71149 to 0.71236, saving model to /app/_data/models/from_nocall/Eff0_2/Eff0_2.h5\n",
      "810/810 [==============================] - 700s 864ms/step - loss: 0.0036 - acc: 0.9800 - recall: 0.5137 - precision: 0.9943 - f1_score: 0.7504 - val_loss: 0.0048 - val_acc: 0.9232 - val_recall: 0.4859 - val_precision: 0.9722 - val_f1_score: 0.7124\n",
      "Epoch 23/100\n",
      "810/810 [==============================] - ETA: 0s - loss: 0.0035 - acc: 0.9814 - recall: 0.5142 - precision: 0.9945 - f1_score: 0.7512\n",
      "Epoch 00023: val_f1_score improved from 0.71236 to 0.71452, saving model to /app/_data/models/from_nocall/Eff0_2/Eff0_2.h5\n",
      "810/810 [==============================] - 702s 867ms/step - loss: 0.0035 - acc: 0.9814 - recall: 0.5142 - precision: 0.9945 - f1_score: 0.7512 - val_loss: 0.0047 - val_acc: 0.9274 - val_recall: 0.4836 - val_precision: 0.9720 - val_f1_score: 0.7145\n",
      "Epoch 24/100\n",
      "810/810 [==============================] - ETA: 0s - loss: 0.0035 - acc: 0.9822 - recall: 0.5145 - precision: 0.9949 - f1_score: 0.7517\n",
      "Epoch 00024: val_f1_score did not improve from 0.71452\n",
      "810/810 [==============================] - 697s 861ms/step - loss: 0.0035 - acc: 0.9822 - recall: 0.5145 - precision: 0.9949 - f1_score: 0.7517 - val_loss: 0.0047 - val_acc: 0.9260 - val_recall: 0.4935 - val_precision: 0.9758 - val_f1_score: 0.7141\n",
      "Epoch 25/100\n",
      "810/810 [==============================] - ETA: 0s - loss: 0.0035 - acc: 0.9831 - recall: 0.5145 - precision: 0.9951 - f1_score: 0.7521\n",
      "Epoch 00025: val_f1_score improved from 0.71452 to 0.71564, saving model to /app/_data/models/from_nocall/Eff0_2/Eff0_2.h5\n",
      "810/810 [==============================] - 702s 867ms/step - loss: 0.0035 - acc: 0.9831 - recall: 0.5145 - precision: 0.9951 - f1_score: 0.7521 - val_loss: 0.0047 - val_acc: 0.9284 - val_recall: 0.4660 - val_precision: 0.9771 - val_f1_score: 0.7156\n",
      "Epoch 26/100\n",
      "810/810 [==============================] - ETA: 0s - loss: 0.0034 - acc: 0.9845 - recall: 0.5145 - precision: 0.9954 - f1_score: 0.7529\n",
      "Epoch 00026: val_f1_score improved from 0.71564 to 0.71662, saving model to /app/_data/models/from_nocall/Eff0_2/Eff0_2.h5\n",
      "810/810 [==============================] - 700s 864ms/step - loss: 0.0034 - acc: 0.9845 - recall: 0.5145 - precision: 0.9954 - f1_score: 0.7529 - val_loss: 0.0046 - val_acc: 0.9299 - val_recall: 0.4663 - val_precision: 0.9799 - val_f1_score: 0.7166\n",
      "Epoch 27/100\n",
      "810/810 [==============================] - ETA: 0s - loss: 0.0034 - acc: 0.9851 - recall: 0.5149 - precision: 0.9955 - f1_score: 0.7533\n",
      "Epoch 00027: val_f1_score did not improve from 0.71662\n",
      "810/810 [==============================] - 694s 857ms/step - loss: 0.0034 - acc: 0.9851 - recall: 0.5149 - precision: 0.9955 - f1_score: 0.7533 - val_loss: 0.0046 - val_acc: 0.9301 - val_recall: 0.4827 - val_precision: 0.9744 - val_f1_score: 0.7164\n",
      "Epoch 28/100\n",
      "810/810 [==============================] - ETA: 0s - loss: 0.0034 - acc: 0.9859 - recall: 0.5147 - precision: 0.9959 - f1_score: 0.7537\n",
      "Epoch 00028: val_f1_score did not improve from 0.71662\n",
      "810/810 [==============================] - 693s 855ms/step - loss: 0.0034 - acc: 0.9859 - recall: 0.5147 - precision: 0.9959 - f1_score: 0.7537 - val_loss: 0.0046 - val_acc: 0.9300 - val_recall: 0.4961 - val_precision: 0.9757 - val_f1_score: 0.7163\n",
      "Epoch 29/100\n",
      "810/810 [==============================] - ETA: 0s - loss: 0.0034 - acc: 0.9865 - recall: 0.5150 - precision: 0.9961 - f1_score: 0.7540\n",
      "Epoch 00029: val_f1_score improved from 0.71662 to 0.71798, saving model to /app/_data/models/from_nocall/Eff0_2/Eff0_2.h5\n",
      "810/810 [==============================] - 700s 864ms/step - loss: 0.0034 - acc: 0.9865 - recall: 0.5150 - precision: 0.9961 - f1_score: 0.7540 - val_loss: 0.0046 - val_acc: 0.9326 - val_recall: 0.4771 - val_precision: 0.9774 - val_f1_score: 0.7180\n",
      "Epoch 30/100\n",
      "810/810 [==============================] - ETA: 0s - loss: 0.0033 - acc: 0.9871 - recall: 0.5148 - precision: 0.9964 - f1_score: 0.7543\n",
      "Epoch 00030: val_f1_score did not improve from 0.71798\n",
      "810/810 [==============================] - 698s 861ms/step - loss: 0.0033 - acc: 0.9871 - recall: 0.5148 - precision: 0.9964 - f1_score: 0.7543 - val_loss: 0.0046 - val_acc: 0.9305 - val_recall: 0.4849 - val_precision: 0.9765 - val_f1_score: 0.7168\n",
      "Epoch 31/100\n",
      "810/810 [==============================] - ETA: 0s - loss: 0.0033 - acc: 0.9878 - recall: 0.5147 - precision: 0.9966 - f1_score: 0.7548\n",
      "Epoch 00031: val_f1_score improved from 0.71798 to 0.71845, saving model to /app/_data/models/from_nocall/Eff0_2/Eff0_2.h5\n",
      "810/810 [==============================] - 699s 863ms/step - loss: 0.0033 - acc: 0.9878 - recall: 0.5147 - precision: 0.9966 - f1_score: 0.7548 - val_loss: 0.0046 - val_acc: 0.9332 - val_recall: 0.4872 - val_precision: 0.9769 - val_f1_score: 0.7184\n",
      "Epoch 32/100\n",
      "810/810 [==============================] - ETA: 0s - loss: 0.0033 - acc: 0.9882 - recall: 0.5134 - precision: 0.9966 - f1_score: 0.7550\n",
      "Epoch 00032: val_f1_score improved from 0.71845 to 0.71881, saving model to /app/_data/models/from_nocall/Eff0_2/Eff0_2.h5\n",
      "810/810 [==============================] - 698s 862ms/step - loss: 0.0033 - acc: 0.9882 - recall: 0.5134 - precision: 0.9966 - f1_score: 0.7550 - val_loss: 0.0045 - val_acc: 0.9341 - val_recall: 0.4757 - val_precision: 0.9791 - val_f1_score: 0.7188\n",
      "Epoch 33/100\n",
      "810/810 [==============================] - ETA: 0s - loss: 0.0033 - acc: 0.9886 - recall: 0.5135 - precision: 0.9967 - f1_score: 0.7552\n",
      "Epoch 00033: val_f1_score improved from 0.71881 to 0.72095, saving model to /app/_data/models/from_nocall/Eff0_2/Eff0_2.h5\n",
      "810/810 [==============================] - 696s 859ms/step - loss: 0.0033 - acc: 0.9886 - recall: 0.5135 - precision: 0.9967 - f1_score: 0.7552 - val_loss: 0.0045 - val_acc: 0.9373 - val_recall: 0.4848 - val_precision: 0.9786 - val_f1_score: 0.7209\n",
      "Epoch 34/100\n",
      "810/810 [==============================] - ETA: 0s - loss: 0.0033 - acc: 0.9893 - recall: 0.5131 - precision: 0.9970 - f1_score: 0.7556\n",
      "Epoch 00034: val_f1_score did not improve from 0.72095\n",
      "810/810 [==============================] - 695s 858ms/step - loss: 0.0033 - acc: 0.9893 - recall: 0.5131 - precision: 0.9970 - f1_score: 0.7556 - val_loss: 0.0045 - val_acc: 0.9354 - val_recall: 0.4882 - val_precision: 0.9782 - val_f1_score: 0.7199\n",
      "Epoch 35/100\n",
      "810/810 [==============================] - ETA: 0s - loss: 0.0032 - acc: 0.9896 - recall: 0.5125 - precision: 0.9971 - f1_score: 0.7557\n",
      "Epoch 00035: val_f1_score did not improve from 0.72095\n",
      "810/810 [==============================] - 691s 853ms/step - loss: 0.0032 - acc: 0.9896 - recall: 0.5125 - precision: 0.9971 - f1_score: 0.7557 - val_loss: 0.0045 - val_acc: 0.9349 - val_recall: 0.4892 - val_precision: 0.9786 - val_f1_score: 0.7195\n",
      "Epoch 36/100\n",
      "810/810 [==============================] - ETA: 0s - loss: 0.0032 - acc: 0.9902 - recall: 0.5127 - precision: 0.9971 - f1_score: 0.7561\n",
      "Epoch 00036: val_f1_score did not improve from 0.72095\n",
      "810/810 [==============================] - 696s 859ms/step - loss: 0.0032 - acc: 0.9902 - recall: 0.5127 - precision: 0.9971 - f1_score: 0.7561 - val_loss: 0.0045 - val_acc: 0.9359 - val_recall: 0.4721 - val_precision: 0.9787 - val_f1_score: 0.7202\n",
      "Epoch 37/100\n",
      "810/810 [==============================] - ETA: 0s - loss: 0.0032 - acc: 0.9905 - recall: 0.5121 - precision: 0.9974 - f1_score: 0.7562\n",
      "Epoch 00037: val_f1_score did not improve from 0.72095\n",
      "810/810 [==============================] - 697s 860ms/step - loss: 0.0032 - acc: 0.9905 - recall: 0.5121 - precision: 0.9974 - f1_score: 0.7562 - val_loss: 0.0047 - val_acc: 0.9337 - val_recall: 0.4636 - val_precision: 0.9797 - val_f1_score: 0.7186\n",
      "Epoch 38/100\n",
      "810/810 [==============================] - ETA: 0s - loss: 0.0032 - acc: 0.9908 - recall: 0.5114 - precision: 0.9974 - f1_score: 0.7564\n",
      "Epoch 00038: val_f1_score did not improve from 0.72095\n",
      "\n",
      "Epoch 00038: ReduceLROnPlateau reducing learning rate to 0.0004500000213738531.\n",
      "810/810 [==============================] - 695s 858ms/step - loss: 0.0032 - acc: 0.9908 - recall: 0.5114 - precision: 0.9974 - f1_score: 0.7564 - val_loss: 0.0045 - val_acc: 0.9351 - val_recall: 0.4805 - val_precision: 0.9785 - val_f1_score: 0.7194\n",
      "Epoch 39/100\n",
      "810/810 [==============================] - ETA: 0s - loss: 0.0031 - acc: 0.9921 - recall: 0.5083 - precision: 0.9980 - f1_score: 0.7571\n",
      "Epoch 00039: val_f1_score improved from 0.72095 to 0.72283, saving model to /app/_data/models/from_nocall/Eff0_2/Eff0_2.h5\n",
      "810/810 [==============================] - 697s 860ms/step - loss: 0.0031 - acc: 0.9921 - recall: 0.5083 - precision: 0.9980 - f1_score: 0.7571 - val_loss: 0.0044 - val_acc: 0.9402 - val_recall: 0.4857 - val_precision: 0.9818 - val_f1_score: 0.7228\n",
      "Epoch 40/100\n",
      "810/810 [==============================] - ETA: 0s - loss: 0.0031 - acc: 0.9928 - recall: 0.5077 - precision: 0.9981 - f1_score: 0.7575\n",
      "Epoch 00040: val_f1_score did not improve from 0.72283\n",
      "810/810 [==============================] - 696s 860ms/step - loss: 0.0031 - acc: 0.9928 - recall: 0.5077 - precision: 0.9981 - f1_score: 0.7575 - val_loss: 0.0045 - val_acc: 0.9392 - val_recall: 0.4670 - val_precision: 0.9826 - val_f1_score: 0.7221\n",
      "Epoch 41/100\n",
      "810/810 [==============================] - ETA: 0s - loss: 0.0031 - acc: 0.9931 - recall: 0.5077 - precision: 0.9982 - f1_score: 0.7577\n",
      "Epoch 00041: val_f1_score improved from 0.72283 to 0.72287, saving model to /app/_data/models/from_nocall/Eff0_2/Eff0_2.h5\n",
      "810/810 [==============================] - 698s 862ms/step - loss: 0.0031 - acc: 0.9931 - recall: 0.5077 - precision: 0.9982 - f1_score: 0.7577 - val_loss: 0.0044 - val_acc: 0.9400 - val_recall: 0.4916 - val_precision: 0.9819 - val_f1_score: 0.7229\n",
      "Epoch 42/100\n",
      "810/810 [==============================] - ETA: 0s - loss: 0.0031 - acc: 0.9931 - recall: 0.5067 - precision: 0.9981 - f1_score: 0.7576\n",
      "Epoch 00042: val_f1_score did not improve from 0.72287\n",
      "810/810 [==============================] - 695s 858ms/step - loss: 0.0031 - acc: 0.9931 - recall: 0.5067 - precision: 0.9981 - f1_score: 0.7576 - val_loss: 0.0044 - val_acc: 0.9403 - val_recall: 0.4747 - val_precision: 0.9822 - val_f1_score: 0.7228\n",
      "Epoch 43/100\n",
      "810/810 [==============================] - ETA: 0s - loss: 0.0031 - acc: 0.9934 - recall: 0.5065 - precision: 0.9982 - f1_score: 0.7578\n",
      "Epoch 00043: val_f1_score improved from 0.72287 to 0.72292, saving model to /app/_data/models/from_nocall/Eff0_2/Eff0_2.h5\n",
      "810/810 [==============================] - 697s 861ms/step - loss: 0.0031 - acc: 0.9934 - recall: 0.5065 - precision: 0.9982 - f1_score: 0.7578 - val_loss: 0.0044 - val_acc: 0.9406 - val_recall: 0.4703 - val_precision: 0.9822 - val_f1_score: 0.7229\n",
      "Epoch 44/100\n",
      "810/810 [==============================] - ETA: 0s - loss: 0.0031 - acc: 0.9935 - recall: 0.5061 - precision: 0.9982 - f1_score: 0.7579\n",
      "Epoch 00044: val_f1_score did not improve from 0.72292\n",
      "\n",
      "Epoch 00044: ReduceLROnPlateau reducing learning rate to 0.0004050000192364678.\n",
      "810/810 [==============================] - 697s 860ms/step - loss: 0.0031 - acc: 0.9935 - recall: 0.5061 - precision: 0.9982 - f1_score: 0.7579 - val_loss: 0.0044 - val_acc: 0.9400 - val_recall: 0.4897 - val_precision: 0.9814 - val_f1_score: 0.7226\n",
      "Epoch 45/100\n",
      "810/810 [==============================] - ETA: 0s - loss: 0.0031 - acc: 0.9945 - recall: 0.5022 - precision: 0.9987 - f1_score: 0.7584\n",
      "Epoch 00045: val_f1_score improved from 0.72292 to 0.72430, saving model to /app/_data/models/from_nocall/Eff0_2/Eff0_2.h5\n",
      "810/810 [==============================] - 699s 863ms/step - loss: 0.0031 - acc: 0.9945 - recall: 0.5022 - precision: 0.9987 - f1_score: 0.7584 - val_loss: 0.0044 - val_acc: 0.9429 - val_recall: 0.4829 - val_precision: 0.9826 - val_f1_score: 0.7243\n",
      "Epoch 46/100\n",
      "810/810 [==============================] - ETA: 0s - loss: 0.0030 - acc: 0.9950 - recall: 0.5015 - precision: 0.9987 - f1_score: 0.7587\n",
      "Epoch 00046: val_f1_score improved from 0.72430 to 0.72435, saving model to /app/_data/models/from_nocall/Eff0_2/Eff0_2.h5\n",
      "810/810 [==============================] - 699s 864ms/step - loss: 0.0030 - acc: 0.9950 - recall: 0.5015 - precision: 0.9987 - f1_score: 0.7587 - val_loss: 0.0043 - val_acc: 0.9426 - val_recall: 0.4797 - val_precision: 0.9834 - val_f1_score: 0.7243\n",
      "Epoch 47/100\n",
      "810/810 [==============================] - ETA: 0s - loss: 0.0030 - acc: 0.9951 - recall: 0.5007 - precision: 0.9987 - f1_score: 0.7587\n",
      "Epoch 00047: val_f1_score improved from 0.72435 to 0.72440, saving model to /app/_data/models/from_nocall/Eff0_2/Eff0_2.h5\n",
      "810/810 [==============================] - 701s 865ms/step - loss: 0.0030 - acc: 0.9951 - recall: 0.5007 - precision: 0.9987 - f1_score: 0.7587 - val_loss: 0.0043 - val_acc: 0.9430 - val_recall: 0.4678 - val_precision: 0.9841 - val_f1_score: 0.7244\n",
      "Epoch 48/100\n",
      "810/810 [==============================] - ETA: 0s - loss: 0.0030 - acc: 0.9948 - recall: 0.5005 - precision: 0.9987 - f1_score: 0.7585\n",
      "Epoch 00048: val_f1_score did not improve from 0.72440\n",
      "810/810 [==============================] - 697s 861ms/step - loss: 0.0030 - acc: 0.9948 - recall: 0.5005 - precision: 0.9987 - f1_score: 0.7585 - val_loss: 0.0045 - val_acc: 0.9402 - val_recall: 0.4824 - val_precision: 0.9817 - val_f1_score: 0.7227\n",
      "Epoch 49/100\n",
      "810/810 [==============================] - ETA: 0s - loss: 0.0030 - acc: 0.9952 - recall: 0.5003 - precision: 0.9986 - f1_score: 0.7588\n",
      "Epoch 00049: val_f1_score improved from 0.72440 to 0.72496, saving model to /app/_data/models/from_nocall/Eff0_2/Eff0_2.h5\n",
      "810/810 [==============================] - 703s 868ms/step - loss: 0.0030 - acc: 0.9952 - recall: 0.5003 - precision: 0.9986 - f1_score: 0.7588 - val_loss: 0.0043 - val_acc: 0.9438 - val_recall: 0.4670 - val_precision: 0.9843 - val_f1_score: 0.7250\n",
      "Epoch 50/100\n",
      "810/810 [==============================] - ETA: 0s - loss: 0.0030 - acc: 0.9953 - recall: 0.4997 - precision: 0.9987 - f1_score: 0.7588\n",
      "Epoch 00050: val_f1_score did not improve from 0.72496\n",
      "810/810 [==============================] - 700s 864ms/step - loss: 0.0030 - acc: 0.9953 - recall: 0.4997 - precision: 0.9987 - f1_score: 0.7588 - val_loss: 0.0044 - val_acc: 0.9417 - val_recall: 0.4781 - val_precision: 0.9816 - val_f1_score: 0.7234\n",
      "Epoch 51/100\n",
      "810/810 [==============================] - ETA: 0s - loss: 0.0030 - acc: 0.9952 - recall: 0.4987 - precision: 0.9987 - f1_score: 0.7588\n",
      "Epoch 00051: val_f1_score improved from 0.72496 to 0.72512, saving model to /app/_data/models/from_nocall/Eff0_2/Eff0_2.h5\n",
      "810/810 [==============================] - 705s 870ms/step - loss: 0.0030 - acc: 0.9952 - recall: 0.4987 - precision: 0.9987 - f1_score: 0.7588 - val_loss: 0.0044 - val_acc: 0.9440 - val_recall: 0.4835 - val_precision: 0.9830 - val_f1_score: 0.7251\n",
      "Epoch 52/100\n",
      "810/810 [==============================] - ETA: 0s - loss: 0.0030 - acc: 0.9957 - recall: 0.4983 - precision: 0.9987 - f1_score: 0.7590\n",
      "Epoch 00052: val_f1_score did not improve from 0.72512\n",
      "810/810 [==============================] - 697s 861ms/step - loss: 0.0030 - acc: 0.9957 - recall: 0.4983 - precision: 0.9987 - f1_score: 0.7590 - val_loss: 0.0044 - val_acc: 0.9422 - val_recall: 0.4781 - val_precision: 0.9835 - val_f1_score: 0.7241\n",
      "Epoch 53/100\n",
      "810/810 [==============================] - ETA: 0s - loss: 0.0030 - acc: 0.9960 - recall: 0.4977 - precision: 0.9988 - f1_score: 0.7592\n",
      "Epoch 00053: val_f1_score did not improve from 0.72512\n",
      "810/810 [==============================] - 695s 859ms/step - loss: 0.0030 - acc: 0.9960 - recall: 0.4977 - precision: 0.9988 - f1_score: 0.7592 - val_loss: 0.0043 - val_acc: 0.9430 - val_recall: 0.4741 - val_precision: 0.9843 - val_f1_score: 0.7245\n",
      "Epoch 54/100\n",
      "810/810 [==============================] - ETA: 0s - loss: 0.0030 - acc: 0.9957 - recall: 0.4973 - precision: 0.9988 - f1_score: 0.7590\n",
      "Epoch 00054: val_f1_score did not improve from 0.72512\n",
      "810/810 [==============================] - 692s 854ms/step - loss: 0.0030 - acc: 0.9957 - recall: 0.4973 - precision: 0.9988 - f1_score: 0.7590 - val_loss: 0.0044 - val_acc: 0.9398 - val_recall: 0.4602 - val_precision: 0.9845 - val_f1_score: 0.7224\n",
      "Epoch 55/100\n",
      "810/810 [==============================] - ETA: 0s - loss: 0.0030 - acc: 0.9958 - recall: 0.4966 - precision: 0.9988 - f1_score: 0.7591\n",
      "Epoch 00055: val_f1_score did not improve from 0.72512\n",
      "810/810 [==============================] - 695s 858ms/step - loss: 0.0030 - acc: 0.9958 - recall: 0.4966 - precision: 0.9988 - f1_score: 0.7591 - val_loss: 0.0044 - val_acc: 0.9429 - val_recall: 0.4695 - val_precision: 0.9833 - val_f1_score: 0.7245\n",
      "Epoch 56/100\n",
      "810/810 [==============================] - ETA: 0s - loss: 0.0030 - acc: 0.9960 - recall: 0.4956 - precision: 0.9989 - f1_score: 0.7591\n",
      "Epoch 00056: val_f1_score did not improve from 0.72512\n",
      "\n",
      "Epoch 00056: ReduceLROnPlateau reducing learning rate to 0.0003645000251708552.\n",
      "810/810 [==============================] - 696s 860ms/step - loss: 0.0030 - acc: 0.9960 - recall: 0.4956 - precision: 0.9989 - f1_score: 0.7591 - val_loss: 0.0043 - val_acc: 0.9445 - val_recall: 0.4633 - val_precision: 0.9835 - val_f1_score: 0.7251\n",
      "Epoch 57/100\n",
      "810/810 [==============================] - ETA: 0s - loss: 0.0030 - acc: 0.9966 - recall: 0.4924 - precision: 0.9991 - f1_score: 0.7595\n",
      "Epoch 00057: val_f1_score improved from 0.72512 to 0.72604, saving model to /app/_data/models/from_nocall/Eff0_2/Eff0_2.h5\n",
      "810/810 [==============================] - 697s 861ms/step - loss: 0.0030 - acc: 0.9966 - recall: 0.4924 - precision: 0.9991 - f1_score: 0.7595 - val_loss: 0.0043 - val_acc: 0.9457 - val_recall: 0.4754 - val_precision: 0.9845 - val_f1_score: 0.7260\n",
      "Epoch 58/100\n",
      "810/810 [==============================] - ETA: 0s - loss: 0.0030 - acc: 0.9969 - recall: 0.4913 - precision: 0.9991 - f1_score: 0.7596\n",
      "Epoch 00058: val_f1_score improved from 0.72604 to 0.72669, saving model to /app/_data/models/from_nocall/Eff0_2/Eff0_2.h5\n",
      "810/810 [==============================] - 697s 860ms/step - loss: 0.0030 - acc: 0.9969 - recall: 0.4913 - precision: 0.9991 - f1_score: 0.7596 - val_loss: 0.0043 - val_acc: 0.9465 - val_recall: 0.4729 - val_precision: 0.9856 - val_f1_score: 0.7267\n",
      "Epoch 59/100\n",
      "810/810 [==============================] - ETA: 0s - loss: 0.0030 - acc: 0.9969 - recall: 0.4909 - precision: 0.9991 - f1_score: 0.7596\n",
      "Epoch 00059: val_f1_score improved from 0.72669 to 0.72704, saving model to /app/_data/models/from_nocall/Eff0_2/Eff0_2.h5\n",
      "810/810 [==============================] - 696s 859ms/step - loss: 0.0030 - acc: 0.9969 - recall: 0.4909 - precision: 0.9991 - f1_score: 0.7596 - val_loss: 0.0042 - val_acc: 0.9471 - val_recall: 0.4679 - val_precision: 0.9849 - val_f1_score: 0.7270\n",
      "Epoch 60/100\n",
      "810/810 [==============================] - ETA: 0s - loss: 0.0029 - acc: 0.9967 - recall: 0.4904 - precision: 0.9992 - f1_score: 0.7595\n",
      "Epoch 00060: val_f1_score did not improve from 0.72704\n",
      "810/810 [==============================] - 693s 855ms/step - loss: 0.0029 - acc: 0.9967 - recall: 0.4904 - precision: 0.9992 - f1_score: 0.7595 - val_loss: 0.0043 - val_acc: 0.9460 - val_recall: 0.4697 - val_precision: 0.9846 - val_f1_score: 0.7263\n",
      "Epoch 61/100\n",
      "810/810 [==============================] - ETA: 0s - loss: 0.0029 - acc: 0.9968 - recall: 0.4898 - precision: 0.9991 - f1_score: 0.7595"
     ]
    }
   ],
   "source": [
    "model = get_model()\n",
    "history = model.fit(\n",
    "    gen_train,\n",
    "    validation_data=gen_valid,\n",
    "    epochs=100,\n",
    "    steps_per_epoch=train.shape[0] // BATCH_SIZE,\n",
    "    validation_steps=valid.shape[0] // BATCH_SIZE,\n",
    "    verbose=1,\n",
    "    workers=20,\n",
    "    max_queue_size=50,\n",
    "    callbacks=callbacks,\n",
    ")"
   ]
  },
  {
   "cell_type": "code",
   "execution_count": null,
   "metadata": {},
   "outputs": [],
   "source": []
  }
 ],
 "metadata": {
  "kernelspec": {
   "display_name": "Python 3",
   "language": "python",
   "name": "python3"
  },
  "language_info": {
   "codemirror_mode": {
    "name": "ipython",
    "version": 3
   },
   "file_extension": ".py",
   "mimetype": "text/x-python",
   "name": "python",
   "nbconvert_exporter": "python",
   "pygments_lexer": "ipython3",
   "version": "3.8.5"
  }
 },
 "nbformat": 4,
 "nbformat_minor": 4
}
