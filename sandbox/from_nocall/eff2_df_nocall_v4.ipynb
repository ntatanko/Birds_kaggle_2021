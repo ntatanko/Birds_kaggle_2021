{
 "cells": [
  {
   "cell_type": "code",
   "execution_count": 1,
   "metadata": {},
   "outputs": [],
   "source": [
    "import os\n",
    "import shutil\n",
    "import warnings\n",
    "\n",
    "import numpy as np\n",
    "import pandas as pd\n",
    "import plotly.graph_objects as go\n",
    "import torchaudio\n",
    "\n",
    "warnings.filterwarnings(action=\"ignore\")\n",
    "from IPython.core.interactiveshell import InteractiveShell\n",
    "\n",
    "InteractiveShell.ast_node_interactivity = \"all\"\n",
    "import json\n",
    "\n",
    "import geopandas\n",
    "import librosa\n",
    "import librosa.display\n",
    "import matplotlib.pyplot as plt\n",
    "import scipy.stats as st\n",
    "import seaborn as sns\n",
    "import soundfile\n",
    "import tensorflow as tf\n",
    "import tensorflow_addons as tfa\n",
    "import torch\n",
    "\n",
    "%matplotlib inline\n",
    "from PIL import Image\n",
    "from sklearn.model_selection import train_test_split\n",
    "from sklearn.utils import shuffle\n",
    "from tensorflow import keras\n",
    "from tensorflow.keras.models import Sequential\n",
    "from tensorflow.keras.optimizers import Adam\n",
    "from torchaudio.transforms import MelSpectrogram\n",
    "from tqdm import tqdm\n",
    "\n",
    "from src.MEL_Gen import MEL_Gen, Mel_Provider\n",
    "from src.prepare_dataset import (\n",
    "    choose_ids,\n",
    "    make_dict_birds,\n",
    "    make_intervals,\n",
    "    make_intervals_upsampling,\n",
    "    prepare_dataset,\n",
    ")"
   ]
  },
  {
   "cell_type": "code",
   "execution_count": 2,
   "metadata": {},
   "outputs": [],
   "source": [
    "SEED = 42\n",
    "IMG_SIZE = 260\n",
    "SAMPLE_RATE = 32000\n",
    "N_FFT = 2048\n",
    "SIGNAL_LENGTH = 5\n",
    "FREQ_MIN = 0\n",
    "FREQ_MAX = 16000\n",
    "WIN_LENGHT = 1024\n",
    "BATCH_SIZE = 300\n",
    "list_drop = [\n",
    "    \"XC509721.ogg\",\n",
    "    \"XC428067.ogg\",\n",
    "    \"XC523831.ogg\",\n",
    "    \"XC523960.ogg\",\n",
    "    \"XC237870.ogg\",\n",
    "    \"XC129924.ogg\",\n",
    "    \"XC576851.ogg\",\n",
    "    \"XC579430.ogg\",\n",
    "    \"XC590621.ogg\",\n",
    "]"
   ]
  },
  {
   "cell_type": "code",
   "execution_count": 3,
   "metadata": {},
   "outputs": [],
   "source": [
    "final = pd.read_csv(\"/app/_data/labels_nocall/nocall_predictions.csv\")\n",
    "nocall = pd.read_csv(\"/app/_data/labels_nocall/all_nocalls.csv\")"
   ]
  },
  {
   "cell_type": "code",
   "execution_count": 4,
   "metadata": {},
   "outputs": [
    {
     "data": {
      "text/plain": [
       "(65128, 24)"
      ]
     },
     "execution_count": 4,
     "metadata": {},
     "output_type": "execute_result"
    }
   ],
   "source": [
    "all_audio_init = pd.read_csv(\"/app/_data/all_audio_initial.csv\")\n",
    "all_audio = all_audio_init.query(\"filename not in @list_drop\").reset_index(drop=True)\n",
    "all_audio = all_audio.query(\"year >=1980 and year<=2021\").reset_index(drop=True)\n",
    "\n",
    "all_audio.shape"
   ]
  },
  {
   "cell_type": "markdown",
   "metadata": {},
   "source": [
    "# dict_birds and weights"
   ]
  },
  {
   "cell_type": "code",
   "execution_count": 5,
   "metadata": {},
   "outputs": [],
   "source": [
    "dict_birds, all_audio = make_dict_birds(all_audio)"
   ]
  },
  {
   "cell_type": "code",
   "execution_count": 6,
   "metadata": {},
   "outputs": [
    {
     "data": {
      "text/plain": [
       "398"
      ]
     },
     "execution_count": 6,
     "metadata": {},
     "output_type": "execute_result"
    }
   ],
   "source": [
    "len(dict_birds)"
   ]
  },
  {
   "cell_type": "code",
   "execution_count": 7,
   "metadata": {},
   "outputs": [],
   "source": [
    "# os.mkdir(\"/app/_data/models/from_nocall/Eff2_1/\")"
   ]
  },
  {
   "cell_type": "code",
   "execution_count": 8,
   "metadata": {},
   "outputs": [],
   "source": [
    "file_json = open(\"/app/_data/models/from_nocall/Eff2_1/dict_birds.json\", \"w\")\n",
    "json.dump(dict_birds, file_json)\n",
    "file_json.close()"
   ]
  },
  {
   "cell_type": "code",
   "execution_count": 9,
   "metadata": {},
   "outputs": [],
   "source": [
    "dict_weights = (1 / all_audio[\"primary_label\"].value_counts()).to_dict()\n",
    "all_audio[\"class_weights\"] = all_audio[\"primary_label\"].replace(dict_weights)\n",
    "# all_audio[\"class_weights\"] = all_audio[\"class_weights\"] * all_audio[\"rating\"]"
   ]
  },
  {
   "cell_type": "code",
   "execution_count": 10,
   "metadata": {},
   "outputs": [],
   "source": [
    "all_audio = all_audio[all_audio[\"rating\"] >= 3]"
   ]
  },
  {
   "cell_type": "markdown",
   "metadata": {},
   "source": [
    "## calls"
   ]
  },
  {
   "cell_type": "code",
   "execution_count": 11,
   "metadata": {},
   "outputs": [],
   "source": [
    "drop_list_final = final[(final[\"bird\"] == 1) & (final[\"nocall\"] == 1)][\n",
    "    \"row_id\"\n",
    "].tolist()"
   ]
  },
  {
   "cell_type": "code",
   "execution_count": 12,
   "metadata": {},
   "outputs": [],
   "source": [
    "final = final.query(\"row_id not in @drop_list_final\")\n",
    "final = final.query(\"bird == 1\")\n"
   ]
  },
  {
   "cell_type": "code",
   "execution_count": 13,
   "metadata": {},
   "outputs": [],
   "source": [
    "final = final.merge(\n",
    "    all_audio[[\"filename\", \"primary_label\", \"class_weights\", 'duration']], on=\"filename\", how=\"left\"\n",
    ")"
   ]
  },
  {
   "cell_type": "code",
   "execution_count": 14,
   "metadata": {},
   "outputs": [],
   "source": [
    "final = final.dropna(axis=0)\n",
    "final = final.drop(['nocall', 'bird'], axis=1)"
   ]
  },
  {
   "cell_type": "code",
   "execution_count": 15,
   "metadata": {},
   "outputs": [],
   "source": [
    "dict_w = pd.DataFrame((1/final['filename'].value_counts()))\n",
    "dict_w.columns=['weights']\n",
    "dict_w['filename'] = dict_w.index"
   ]
  },
  {
   "cell_type": "code",
   "execution_count": 16,
   "metadata": {},
   "outputs": [],
   "source": [
    "final = final.merge(dict_w, on='filename', how='left')"
   ]
  },
  {
   "cell_type": "code",
   "execution_count": 17,
   "metadata": {},
   "outputs": [],
   "source": [
    "final_sample = final.sample(1000000, weights=\"weights\", random_state=SEED)\n",
    "final_sample = final_sample.sample(300000, weights=\"class_weights\", random_state=SEED)"
   ]
  },
  {
   "cell_type": "code",
   "execution_count": 18,
   "metadata": {},
   "outputs": [
    {
     "data": {
      "text/plain": [
       "normoc     1405\n",
       "bncfly     1300\n",
       "houspa     1288\n",
       "yebcha     1274\n",
       "houwre     1273\n",
       "           ... \n",
       "hofwoo1     131\n",
       "whcpar      114\n",
       "crfpar      109\n",
       "wegspa1      48\n",
       "stvhum2      47\n",
       "Name: primary_label, Length: 397, dtype: int64"
      ]
     },
     "execution_count": 18,
     "metadata": {},
     "output_type": "execute_result"
    }
   ],
   "source": [
    "final_sample['primary_label'].value_counts()"
   ]
  },
  {
   "cell_type": "code",
   "execution_count": 19,
   "metadata": {},
   "outputs": [
    {
     "data": {
      "text/plain": [
       "XC285559.ogg    46\n",
       "XC153986.ogg    37\n",
       "XC375514.ogg    37\n",
       "XC127999.ogg    35\n",
       "XC189428.ogg    35\n",
       "                ..\n",
       "XC388701.ogg     1\n",
       "XC118083.ogg     1\n",
       "XC129968.ogg     1\n",
       "XC193762.ogg     1\n",
       "XC459671.ogg     1\n",
       "Name: filename, Length: 49309, dtype: int64"
      ]
     },
     "execution_count": 19,
     "metadata": {},
     "output_type": "execute_result"
    }
   ],
   "source": [
    "final_sample['filename'].value_counts()"
   ]
  },
  {
   "cell_type": "code",
   "execution_count": 20,
   "metadata": {},
   "outputs": [
    {
     "data": {
      "text/html": [
       "<div>\n",
       "<style scoped>\n",
       "    .dataframe tbody tr th:only-of-type {\n",
       "        vertical-align: middle;\n",
       "    }\n",
       "\n",
       "    .dataframe tbody tr th {\n",
       "        vertical-align: top;\n",
       "    }\n",
       "\n",
       "    .dataframe thead th {\n",
       "        text-align: right;\n",
       "    }\n",
       "</style>\n",
       "<table border=\"1\" class=\"dataframe\">\n",
       "  <thead>\n",
       "    <tr style=\"text-align: right;\">\n",
       "      <th></th>\n",
       "      <th>row_id</th>\n",
       "      <th>filename</th>\n",
       "      <th>end_sec</th>\n",
       "      <th>primary_label</th>\n",
       "      <th>class_weights</th>\n",
       "      <th>duration</th>\n",
       "      <th>weights</th>\n",
       "    </tr>\n",
       "  </thead>\n",
       "  <tbody>\n",
       "    <tr>\n",
       "      <th>1478303</th>\n",
       "      <td>XC154276_60_0</td>\n",
       "      <td>XC154276.ogg</td>\n",
       "      <td>60.0</td>\n",
       "      <td>pabspi1</td>\n",
       "      <td>0.006711</td>\n",
       "      <td>109.401906</td>\n",
       "      <td>0.009524</td>\n",
       "    </tr>\n",
       "    <tr>\n",
       "      <th>716938</th>\n",
       "      <td>XC295597_113_0</td>\n",
       "      <td>XC295597.ogg</td>\n",
       "      <td>113.0</td>\n",
       "      <td>cubthr</td>\n",
       "      <td>0.002000</td>\n",
       "      <td>207.181000</td>\n",
       "      <td>0.004950</td>\n",
       "    </tr>\n",
       "    <tr>\n",
       "      <th>649944</th>\n",
       "      <td>XC192253_23_0</td>\n",
       "      <td>XC192253.ogg</td>\n",
       "      <td>23.0</td>\n",
       "      <td>comrav</td>\n",
       "      <td>0.002004</td>\n",
       "      <td>31.308844</td>\n",
       "      <td>0.043478</td>\n",
       "    </tr>\n",
       "    <tr>\n",
       "      <th>2105012</th>\n",
       "      <td>XC124521_168_0</td>\n",
       "      <td>XC124521.ogg</td>\n",
       "      <td>168.0</td>\n",
       "      <td>wewpew</td>\n",
       "      <td>0.004630</td>\n",
       "      <td>170.698250</td>\n",
       "      <td>0.006024</td>\n",
       "    </tr>\n",
       "    <tr>\n",
       "      <th>1980898</th>\n",
       "      <td>XC250541_45_0</td>\n",
       "      <td>XC250541.ogg</td>\n",
       "      <td>45.0</td>\n",
       "      <td>thswar1</td>\n",
       "      <td>0.008333</td>\n",
       "      <td>48.001094</td>\n",
       "      <td>0.100000</td>\n",
       "    </tr>\n",
       "    <tr>\n",
       "      <th>...</th>\n",
       "      <td>...</td>\n",
       "      <td>...</td>\n",
       "      <td>...</td>\n",
       "      <td>...</td>\n",
       "      <td>...</td>\n",
       "      <td>...</td>\n",
       "      <td>...</td>\n",
       "    </tr>\n",
       "    <tr>\n",
       "      <th>1252141</th>\n",
       "      <td>XC195600_31_0</td>\n",
       "      <td>XC195600.ogg</td>\n",
       "      <td>31.0</td>\n",
       "      <td>macwar</td>\n",
       "      <td>0.005155</td>\n",
       "      <td>147.188031</td>\n",
       "      <td>0.006993</td>\n",
       "    </tr>\n",
       "    <tr>\n",
       "      <th>1682673</th>\n",
       "      <td>XC376265_17_0</td>\n",
       "      <td>XC376265.ogg</td>\n",
       "      <td>17.0</td>\n",
       "      <td>rubrob</td>\n",
       "      <td>0.007634</td>\n",
       "      <td>28.983969</td>\n",
       "      <td>0.041667</td>\n",
       "    </tr>\n",
       "    <tr>\n",
       "      <th>766755</th>\n",
       "      <td>XC124644_75_0</td>\n",
       "      <td>XC124644.ogg</td>\n",
       "      <td>75.0</td>\n",
       "      <td>dusfly</td>\n",
       "      <td>0.008850</td>\n",
       "      <td>82.430500</td>\n",
       "      <td>0.014286</td>\n",
       "    </tr>\n",
       "    <tr>\n",
       "      <th>1880800</th>\n",
       "      <td>XC327617_36_0</td>\n",
       "      <td>XC327617.ogg</td>\n",
       "      <td>36.0</td>\n",
       "      <td>stbori</td>\n",
       "      <td>0.007812</td>\n",
       "      <td>47.008437</td>\n",
       "      <td>0.023256</td>\n",
       "    </tr>\n",
       "    <tr>\n",
       "      <th>560714</th>\n",
       "      <td>XC129809_66_0</td>\n",
       "      <td>XC129809.ogg</td>\n",
       "      <td>66.0</td>\n",
       "      <td>chbchi</td>\n",
       "      <td>0.015385</td>\n",
       "      <td>75.469000</td>\n",
       "      <td>0.014085</td>\n",
       "    </tr>\n",
       "  </tbody>\n",
       "</table>\n",
       "<p>300000 rows × 7 columns</p>\n",
       "</div>"
      ],
      "text/plain": [
       "                 row_id      filename  end_sec primary_label  class_weights  \\\n",
       "1478303   XC154276_60_0  XC154276.ogg     60.0       pabspi1       0.006711   \n",
       "716938   XC295597_113_0  XC295597.ogg    113.0        cubthr       0.002000   \n",
       "649944    XC192253_23_0  XC192253.ogg     23.0        comrav       0.002004   \n",
       "2105012  XC124521_168_0  XC124521.ogg    168.0        wewpew       0.004630   \n",
       "1980898   XC250541_45_0  XC250541.ogg     45.0       thswar1       0.008333   \n",
       "...                 ...           ...      ...           ...            ...   \n",
       "1252141   XC195600_31_0  XC195600.ogg     31.0        macwar       0.005155   \n",
       "1682673   XC376265_17_0  XC376265.ogg     17.0        rubrob       0.007634   \n",
       "766755    XC124644_75_0  XC124644.ogg     75.0        dusfly       0.008850   \n",
       "1880800   XC327617_36_0  XC327617.ogg     36.0        stbori       0.007812   \n",
       "560714    XC129809_66_0  XC129809.ogg     66.0        chbchi       0.015385   \n",
       "\n",
       "           duration   weights  \n",
       "1478303  109.401906  0.009524  \n",
       "716938   207.181000  0.004950  \n",
       "649944    31.308844  0.043478  \n",
       "2105012  170.698250  0.006024  \n",
       "1980898   48.001094  0.100000  \n",
       "...             ...       ...  \n",
       "1252141  147.188031  0.006993  \n",
       "1682673   28.983969  0.041667  \n",
       "766755    82.430500  0.014286  \n",
       "1880800   47.008437  0.023256  \n",
       "560714    75.469000  0.014085  \n",
       "\n",
       "[300000 rows x 7 columns]"
      ]
     },
     "execution_count": 20,
     "metadata": {},
     "output_type": "execute_result"
    }
   ],
   "source": [
    "final_sample"
   ]
  },
  {
   "cell_type": "code",
   "execution_count": 21,
   "metadata": {},
   "outputs": [],
   "source": [
    "final_sample = final_sample[\n",
    "    [\"row_id\", \"filename\", \"end_sec\", \"primary_label\", \"class_weights\"]\n",
    "].merge(\n",
    "    all_audio[\n",
    "        [\n",
    "            \"filename\",\n",
    "            \"secondary_labels\",\n",
    "            \"label_id\",\n",
    "            \"secondary_labels_id\",\n",
    "            \"duration\",\n",
    "            \"rating\",\n",
    "            \"year\",\n",
    "            \"file_path\",\n",
    "            \"sin_month\",\n",
    "            \"cos_month\",\n",
    "            \"sin_longitude\",\n",
    "            \"cos_longitude\",\n",
    "            \"latitude\",\n",
    "            \"norm_latitude\",\n",
    "        ]\n",
    "    ],\n",
    "    on=\"filename\",\n",
    "    how=\"left\",\n",
    ")"
   ]
  },
  {
   "cell_type": "code",
   "execution_count": 22,
   "metadata": {},
   "outputs": [],
   "source": [
    "final_sample = final_sample.sample(frac=1, random_state=SEED).reset_index(drop=True)"
   ]
  },
  {
   "cell_type": "code",
   "execution_count": 23,
   "metadata": {},
   "outputs": [
    {
     "data": {
      "text/plain": [
       "normoc     1405\n",
       "bncfly     1300\n",
       "houspa     1288\n",
       "yebcha     1274\n",
       "houwre     1273\n",
       "           ... \n",
       "hofwoo1     131\n",
       "whcpar      114\n",
       "crfpar      109\n",
       "wegspa1      48\n",
       "stvhum2      47\n",
       "Name: primary_label, Length: 397, dtype: int64"
      ]
     },
     "execution_count": 23,
     "metadata": {},
     "output_type": "execute_result"
    }
   ],
   "source": [
    "final_sample[\"primary_label\"].value_counts()"
   ]
  },
  {
   "cell_type": "markdown",
   "metadata": {},
   "source": [
    "# nocall"
   ]
  },
  {
   "cell_type": "code",
   "execution_count": 24,
   "metadata": {},
   "outputs": [],
   "source": [
    "nocall = nocall.drop_duplicates()"
   ]
  },
  {
   "cell_type": "code",
   "execution_count": 25,
   "metadata": {},
   "outputs": [],
   "source": [
    "nocall[\"file_path\"] = nocall[\"file_path\"].str.replace(\"birdclef-2021/\", \"\")"
   ]
  },
  {
   "cell_type": "code",
   "execution_count": 26,
   "metadata": {},
   "outputs": [],
   "source": [
    "nocall = nocall[~nocall['file_path'].str.contains('train_soundscapes')].reset_index(drop=True)"
   ]
  },
  {
   "cell_type": "code",
   "execution_count": 27,
   "metadata": {},
   "outputs": [],
   "source": [
    "soundscapes_nocall =all_audio[all_audio['file_path'].str.contains('train_soundscapes')]\n",
    "soundscapes_nocall = soundscapes_nocall[soundscapes_nocall['primary_label']=='nocall']"
   ]
  },
  {
   "cell_type": "code",
   "execution_count": 28,
   "metadata": {},
   "outputs": [],
   "source": [
    "dict_w = (1/nocall['filename'].value_counts()).to_dict()\n",
    "nocall['weights'] = nocall['filename'].replace(dict_w)"
   ]
  },
  {
   "cell_type": "code",
   "execution_count": 29,
   "metadata": {},
   "outputs": [],
   "source": [
    "nocall_sample = nocall.sample(1000, random_state=SEED,  weights='weights')"
   ]
  },
  {
   "cell_type": "code",
   "execution_count": 30,
   "metadata": {},
   "outputs": [
    {
     "data": {
      "text/plain": [
       "XC196022.ogg    13\n",
       "XC575220.ogg    12\n",
       "XC217786.ogg    10\n",
       "XC436935.ogg    10\n",
       "XC237885.ogg    10\n",
       "                ..\n",
       "XC564545.ogg     1\n",
       "XC132192.ogg     1\n",
       "XC291092.ogg     1\n",
       "XC391155.ogg     1\n",
       "XC259210.ogg     1\n",
       "Name: filename, Length: 192, dtype: int64"
      ]
     },
     "execution_count": 30,
     "metadata": {},
     "output_type": "execute_result"
    }
   ],
   "source": [
    "nocall_sample['filename'].value_counts()"
   ]
  },
  {
   "cell_type": "code",
   "execution_count": 31,
   "metadata": {},
   "outputs": [],
   "source": [
    "nocall_sample = nocall_sample.merge(\n",
    "    all_audio[\n",
    "        [\n",
    "            \"filename\",\n",
    "            \"rating\",\n",
    "            \"year\",\n",
    "            \"sin_month\",\n",
    "            \"cos_month\",\n",
    "            \"sin_longitude\",\n",
    "            \"cos_longitude\",\n",
    "            \"latitude\",\n",
    "            \"norm_latitude\",\n",
    "            'class_weights'\n",
    "        ]\n",
    "    ],\n",
    "    on=\"filename\",\n",
    "    how=\"left\",\n",
    ")"
   ]
  },
  {
   "cell_type": "code",
   "execution_count": 32,
   "metadata": {},
   "outputs": [],
   "source": [
    "nocall_sample = nocall_sample[['filename', 'row_id', 'start_sec', 'end_sec', 'file_path',\n",
    "       'duration', 'rating', 'year', 'sin_month', 'cos_month',\n",
    "       'sin_longitude', 'cos_longitude', 'latitude', 'norm_latitude',\n",
    "       'class_weights']]\n",
    "soundscapes_nocall = soundscapes_nocall[['filename', 'row_id', 'start_sec', 'end_sec', 'file_path',\n",
    "       'duration', 'rating', 'year', 'sin_month', 'cos_month',\n",
    "       'sin_longitude', 'cos_longitude', 'latitude', 'norm_latitude',\n",
    "       'class_weights']]"
   ]
  },
  {
   "cell_type": "code",
   "execution_count": 33,
   "metadata": {},
   "outputs": [],
   "source": [
    "soundscapes_nocall['duration']=600"
   ]
  },
  {
   "cell_type": "code",
   "execution_count": 34,
   "metadata": {},
   "outputs": [],
   "source": [
    "all_nocall = pd.concat([nocall_sample, soundscapes_nocall], axis=0, ignore_index=True)"
   ]
  },
  {
   "cell_type": "code",
   "execution_count": 35,
   "metadata": {},
   "outputs": [],
   "source": [
    "all_nocall[\"label_id\"] = dict_birds[\"nocall\"]\n",
    "all_nocall[\"secondary_labels_id\"] = np.nan\n",
    "all_nocall = all_nocall.sample(frac=1, random_state=SEED).reset_index(drop=True)"
   ]
  },
  {
   "cell_type": "code",
   "execution_count": 36,
   "metadata": {},
   "outputs": [
    {
     "data": {
      "text/plain": [
       "filename                  0\n",
       "row_id                    0\n",
       "start_sec                 0\n",
       "end_sec                   0\n",
       "file_path                 0\n",
       "duration                  0\n",
       "rating                    0\n",
       "year                      0\n",
       "sin_month                 0\n",
       "cos_month                 0\n",
       "sin_longitude             0\n",
       "cos_longitude             0\n",
       "latitude                  0\n",
       "norm_latitude             0\n",
       "class_weights             0\n",
       "label_id                  0\n",
       "secondary_labels_id    2529\n",
       "dtype: int64"
      ]
     },
     "execution_count": 36,
     "metadata": {},
     "output_type": "execute_result"
    }
   ],
   "source": [
    "all_nocall.isna().sum()"
   ]
  },
  {
   "cell_type": "code",
   "execution_count": 37,
   "metadata": {},
   "outputs": [
    {
     "data": {
      "text/plain": [
       "count    2529.000000\n",
       "mean     2016.058917\n",
       "std         4.660729\n",
       "min      1989.000000\n",
       "25%      2015.000000\n",
       "50%      2017.000000\n",
       "75%      2019.000000\n",
       "max      2021.000000\n",
       "Name: year, dtype: float64"
      ]
     },
     "execution_count": 37,
     "metadata": {},
     "output_type": "execute_result"
    }
   ],
   "source": [
    "all_nocall['year'].describe()"
   ]
  },
  {
   "cell_type": "markdown",
   "metadata": {},
   "source": [
    "# concat"
   ]
  },
  {
   "cell_type": "code",
   "execution_count": 38,
   "metadata": {},
   "outputs": [
    {
     "data": {
      "text/plain": [
       "(302529, 19)"
      ]
     },
     "execution_count": 38,
     "metadata": {},
     "output_type": "execute_result"
    }
   ],
   "source": [
    "final_audio = (\n",
    "    pd.concat(\n",
    "        [final_sample, all_nocall],\n",
    "        axis=0,\n",
    "        ignore_index=True,\n",
    "    )\n",
    "    .sample(frac=1, random_state=SEED)\n",
    "    .reset_index(drop=True)\n",
    ")\n",
    "final_audio.shape"
   ]
  },
  {
   "cell_type": "code",
   "execution_count": 39,
   "metadata": {},
   "outputs": [
    {
     "data": {
      "text/plain": [
       "norsho     362\n",
       "flrtan1    348\n",
       "nrwswa     346\n",
       "sander     335\n",
       "amewig     329\n",
       "buwtea     324\n",
       "higmot1    303\n",
       "rebsap     302\n",
       "grhcha1    244\n",
       "bucmot2    232\n",
       "rehbar1    227\n",
       "rthhum     211\n",
       "gretin1    195\n",
       "runwre1    169\n",
       "heptan     169\n",
       "hofwoo1    131\n",
       "whcpar     114\n",
       "crfpar     109\n",
       "wegspa1     48\n",
       "stvhum2     47\n",
       "Name: primary_label, dtype: int64"
      ]
     },
     "execution_count": 39,
     "metadata": {},
     "output_type": "execute_result"
    }
   ],
   "source": [
    "final_audio[\"primary_label\"].value_counts().tail(20)"
   ]
  },
  {
   "cell_type": "markdown",
   "metadata": {},
   "source": [
    "#  upsampling\n"
   ]
  },
  {
   "cell_type": "code",
   "execution_count": 40,
   "metadata": {},
   "outputs": [],
   "source": [
    "rare_birds = list(final_audio[\"primary_label\"].value_counts().tail(20).index.values)"
   ]
  },
  {
   "cell_type": "code",
   "execution_count": 41,
   "metadata": {},
   "outputs": [
    {
     "data": {
      "text/html": [
       "<div>\n",
       "<style scoped>\n",
       "    .dataframe tbody tr th:only-of-type {\n",
       "        vertical-align: middle;\n",
       "    }\n",
       "\n",
       "    .dataframe tbody tr th {\n",
       "        vertical-align: top;\n",
       "    }\n",
       "\n",
       "    .dataframe thead th {\n",
       "        text-align: right;\n",
       "    }\n",
       "</style>\n",
       "<table border=\"1\" class=\"dataframe\">\n",
       "  <thead>\n",
       "    <tr style=\"text-align: right;\">\n",
       "      <th></th>\n",
       "      <th>end_sec</th>\n",
       "      <th>class_weights</th>\n",
       "      <th>filename</th>\n",
       "    </tr>\n",
       "  </thead>\n",
       "  <tbody>\n",
       "    <tr>\n",
       "      <th>XC110104_5_0</th>\n",
       "      <td>5.00</td>\n",
       "      <td>0.013158</td>\n",
       "      <td>XC110104.ogg</td>\n",
       "    </tr>\n",
       "    <tr>\n",
       "      <th>XC110104_8_16</th>\n",
       "      <td>8.16</td>\n",
       "      <td>0.013158</td>\n",
       "      <td>XC110104.ogg</td>\n",
       "    </tr>\n",
       "    <tr>\n",
       "      <th>XC110104_11_33</th>\n",
       "      <td>11.33</td>\n",
       "      <td>0.013158</td>\n",
       "      <td>XC110104.ogg</td>\n",
       "    </tr>\n",
       "    <tr>\n",
       "      <th>XC110104_14_5</th>\n",
       "      <td>14.50</td>\n",
       "      <td>0.013158</td>\n",
       "      <td>XC110104.ogg</td>\n",
       "    </tr>\n",
       "    <tr>\n",
       "      <th>XC110104_17_67</th>\n",
       "      <td>17.67</td>\n",
       "      <td>0.013158</td>\n",
       "      <td>XC110104.ogg</td>\n",
       "    </tr>\n",
       "    <tr>\n",
       "      <th>...</th>\n",
       "      <td>...</td>\n",
       "      <td>...</td>\n",
       "      <td>...</td>\n",
       "    </tr>\n",
       "    <tr>\n",
       "      <th>XC617300_29_65</th>\n",
       "      <td>29.65</td>\n",
       "      <td>0.125000</td>\n",
       "      <td>XC617300.ogg</td>\n",
       "    </tr>\n",
       "    <tr>\n",
       "      <th>XC617300_29_83</th>\n",
       "      <td>29.83</td>\n",
       "      <td>0.125000</td>\n",
       "      <td>XC617300.ogg</td>\n",
       "    </tr>\n",
       "    <tr>\n",
       "      <th>XC617300_30_01</th>\n",
       "      <td>30.01</td>\n",
       "      <td>0.125000</td>\n",
       "      <td>XC617300.ogg</td>\n",
       "    </tr>\n",
       "    <tr>\n",
       "      <th>XC617300_30_19</th>\n",
       "      <td>30.19</td>\n",
       "      <td>0.125000</td>\n",
       "      <td>XC617300.ogg</td>\n",
       "    </tr>\n",
       "    <tr>\n",
       "      <th>XC617300_29_97</th>\n",
       "      <td>29.97</td>\n",
       "      <td>0.125000</td>\n",
       "      <td>XC617300.ogg</td>\n",
       "    </tr>\n",
       "  </tbody>\n",
       "</table>\n",
       "<p>11295 rows × 3 columns</p>\n",
       "</div>"
      ],
      "text/plain": [
       "                end_sec  class_weights      filename\n",
       "XC110104_5_0       5.00       0.013158  XC110104.ogg\n",
       "XC110104_8_16      8.16       0.013158  XC110104.ogg\n",
       "XC110104_11_33    11.33       0.013158  XC110104.ogg\n",
       "XC110104_14_5     14.50       0.013158  XC110104.ogg\n",
       "XC110104_17_67    17.67       0.013158  XC110104.ogg\n",
       "...                 ...            ...           ...\n",
       "XC617300_29_65    29.65       0.125000  XC617300.ogg\n",
       "XC617300_29_83    29.83       0.125000  XC617300.ogg\n",
       "XC617300_30_01    30.01       0.125000  XC617300.ogg\n",
       "XC617300_30_19    30.19       0.125000  XC617300.ogg\n",
       "XC617300_29_97    29.97       0.125000  XC617300.ogg\n",
       "\n",
       "[11295 rows x 3 columns]"
      ]
     },
     "execution_count": 41,
     "metadata": {},
     "output_type": "execute_result"
    }
   ],
   "source": [
    "df = pd.DataFrame(columns=[\"end_sec\", \"class_weights\", \"filename\"])\n",
    "for bird in rare_birds:\n",
    "    rare_bird_filenames = (\n",
    "    all_audio.query(\"primary_label ==@bird\")[\"filename\"].unique().tolist())\n",
    "    rare_array = all_audio.query(\n",
    "        \"primary_label ==@bird and rating!=0 and rating!=6 and filename in @rare_bird_filenames\"\n",
    "    )[[\"filename\", \"duration\", \"class_weights\"]].values\n",
    "    intervals = make_intervals_upsampling(rare_array)\n",
    "    df = pd.concat([df, intervals], axis=0)\n",
    "\n",
    "df"
   ]
  },
  {
   "cell_type": "code",
   "execution_count": 42,
   "metadata": {},
   "outputs": [
    {
     "data": {
      "text/plain": [
       "(509,)"
      ]
     },
     "execution_count": 42,
     "metadata": {},
     "output_type": "execute_result"
    }
   ],
   "source": [
    "df['filename'].unique().shape"
   ]
  },
  {
   "cell_type": "code",
   "execution_count": 43,
   "metadata": {},
   "outputs": [],
   "source": [
    "df[\"row_id\"] = df.index\n",
    "df = df.merge(\n",
    "    all_audio[\n",
    "        [\n",
    "            \"filename\",\n",
    "            \"primary_label\",\n",
    "            \"secondary_labels\",\n",
    "            \"label_id\",\n",
    "            \"secondary_labels_id\",\n",
    "            \"duration\",\n",
    "            \"rating\",\n",
    "            \"year\",\n",
    "            \"file_path\",\n",
    "            \"frames\",\n",
    "            \"sin_month\",\n",
    "            \"cos_month\",\n",
    "            \"sin_longitude\",\n",
    "            \"cos_longitude\",\n",
    "            \"latitude\",\n",
    "            \"norm_latitude\",\n",
    "            \"date\",\n",
    "        ]\n",
    "    ],\n",
    "    on=\"filename\",\n",
    "    how=\"left\",\n",
    ")\n",
    "df[\"end_sec\"] = df[\"end_sec\"].apply(lambda x: x if x > 5 else 5)\n",
    "df[\"start_sec\"] = df[\"end_sec\"] - 5"
   ]
  },
  {
   "cell_type": "code",
   "execution_count": 44,
   "metadata": {},
   "outputs": [
    {
     "data": {
      "text/plain": [
       "(20,)"
      ]
     },
     "execution_count": 44,
     "metadata": {},
     "output_type": "execute_result"
    }
   ],
   "source": [
    "df['primary_label'].unique().shape"
   ]
  },
  {
   "cell_type": "code",
   "execution_count": 45,
   "metadata": {},
   "outputs": [
    {
     "data": {
      "text/plain": [
       "(313824, 21)"
      ]
     },
     "execution_count": 45,
     "metadata": {},
     "output_type": "execute_result"
    },
    {
     "data": {
      "text/plain": [
       "comgol     460\n",
       "rugdov     454\n",
       "belkin1    452\n",
       "baleag     449\n",
       "semplo     440\n",
       "whimbr     440\n",
       "tropew1    435\n",
       "blctan1    430\n",
       "pavpig2    422\n",
       "gbbgul     415\n",
       "wooduc     403\n",
       "scrtan1    401\n",
       "lotduc     392\n",
       "brwpar1    392\n",
       "commer     392\n",
       "grnher     387\n",
       "sthwoo1    381\n",
       "leasan     374\n",
       "goowoo1    371\n",
       "cacgoo1    368\n",
       "Name: primary_label, dtype: int64"
      ]
     },
     "execution_count": 45,
     "metadata": {},
     "output_type": "execute_result"
    }
   ],
   "source": [
    "final_audio = (\n",
    "    pd.concat(\n",
    "        [final_audio, df],\n",
    "        axis=0,\n",
    "        ignore_index=True,\n",
    "    )\n",
    "    .sample(frac=1, random_state=SEED)\n",
    "    .reset_index(drop=True)\n",
    ")\n",
    "final_audio.shape\n",
    "\n",
    "final_audio[\"primary_label\"].value_counts().tail(20)"
   ]
  },
  {
   "cell_type": "code",
   "execution_count": 46,
   "metadata": {},
   "outputs": [],
   "source": [
    "train, valid = train_test_split(final_audio, train_size=0.8, random_state=SEED)\n",
    "train = train.reset_index(drop=True)\n",
    "valid = valid.reset_index(drop=True)"
   ]
  },
  {
   "cell_type": "markdown",
   "metadata": {},
   "source": [
    "# MEL_Gen"
   ]
  },
  {
   "cell_type": "code",
   "execution_count": 47,
   "metadata": {},
   "outputs": [],
   "source": [
    "NUM_CLASSES = len(dict_birds)\n",
    "BATCH_SIZE = 224"
   ]
  },
  {
   "cell_type": "code",
   "execution_count": 48,
   "metadata": {},
   "outputs": [],
   "source": [
    "mel_pr = Mel_Provider(\n",
    "    n_fft=N_FFT,\n",
    "    win_length=WIN_LENGHT,\n",
    "    n_mels=IMG_SIZE,\n",
    "    sample_rate=SAMPLE_RATE,\n",
    "    mel_image_size=IMG_SIZE,\n",
    "    min_frequency=FREQ_MIN,\n",
    "    max_frequency=FREQ_MAX,\n",
    "    signal_lenght=SIGNAL_LENGTH,\n",
    ")"
   ]
  },
  {
   "cell_type": "code",
   "execution_count": 49,
   "metadata": {},
   "outputs": [],
   "source": [
    "# shutil.rmtree('/app/_data/npy/short_mels_224_uint8/', ignore_errors=True)"
   ]
  },
  {
   "cell_type": "code",
   "execution_count": 50,
   "metadata": {},
   "outputs": [],
   "source": [
    "gen_train = MEL_Gen(\n",
    "    df=train,\n",
    "    n_mels=IMG_SIZE,\n",
    "    seed=SEED,\n",
    "    sample_rate=SAMPLE_RATE,\n",
    "    mel_image_size=IMG_SIZE,\n",
    "    batch_size=BATCH_SIZE,\n",
    "    n_classes=NUM_CLASSES,\n",
    "    signal_lenght=SIGNAL_LENGTH,\n",
    "    mel_provider=mel_pr,\n",
    "    wave_dir=\"/app/_data/npy/waves_npy/\",\n",
    "    short_mel_dir=\"/app/_data/npy/short_mels_260_uint8/\",\n",
    "    convert_to_rgb=True,\n",
    "    shuffle=True,\n",
    "    return_primary_labels=False,\n",
    "    return_concat_labels=True,\n",
    "    augment=False,\n",
    "    img_dtype=\"uint8\",\n",
    ")\n",
    "gen_valid = MEL_Gen(\n",
    "    df=valid,\n",
    "    n_mels=IMG_SIZE,\n",
    "    seed=SEED,\n",
    "    sample_rate=SAMPLE_RATE,\n",
    "    mel_image_size=IMG_SIZE,\n",
    "    batch_size=BATCH_SIZE,\n",
    "    n_classes=NUM_CLASSES,\n",
    "    signal_lenght=SIGNAL_LENGTH,\n",
    "    mel_provider=mel_pr,\n",
    "    wave_dir=\"/app/_data/npy/waves_npy/\",\n",
    "    short_mel_dir=\"/app/_data/npy/short_mels_260_uint8/\",\n",
    "    convert_to_rgb=True,\n",
    "    shuffle=False,\n",
    "    return_primary_labels=False,\n",
    "    return_concat_labels=True,\n",
    "    augment=False,\n",
    "    img_dtype=\"uint8\",\n",
    ")"
   ]
  },
  {
   "cell_type": "code",
   "execution_count": 51,
   "metadata": {},
   "outputs": [],
   "source": [
    "a = gen_train.__getitem__(0)"
   ]
  },
  {
   "cell_type": "code",
   "execution_count": 52,
   "metadata": {},
   "outputs": [
    {
     "data": {
      "text/plain": [
       "<matplotlib.image.AxesImage at 0x7f35237378e0>"
      ]
     },
     "execution_count": 52,
     "metadata": {},
     "output_type": "execute_result"
    },
    {
     "data": {
      "image/png": "[encoded data removed]",
      "text/plain": [
       "<Figure size 432x288 with 1 Axes>"
      ]
     },
     "metadata": {
      "image/png": {
       "height": 251,
       "width": 259
      },
      "needs_background": "light"
     },
     "output_type": "display_data"
    }
   ],
   "source": [
    "plt.imshow(a[0][0])"
   ]
  },
  {
   "cell_type": "markdown",
   "metadata": {},
   "source": [
    "# model"
   ]
  },
  {
   "cell_type": "code",
   "execution_count": 53,
   "metadata": {},
   "outputs": [
    {
     "name": "stdout",
     "output_type": "stream",
     "text": [
      "INFO:tensorflow:Mixed precision compatibility check (mixed_float16): OK\n",
      "Your GPU will likely run quickly with dtype policy mixed_float16 as it has compute capability of at least 7.0. Your GPU: NVIDIA GeForce RTX 3090, compute capability 8.6\n"
     ]
    }
   ],
   "source": [
    "def get_model():\n",
    "    inputs = keras.Input(shape=(IMG_SIZE, IMG_SIZE, 3))\n",
    "    base_model = keras.applications.EfficientNetB2(\n",
    "        weights=\"imagenet\", include_top=False\n",
    "    )\n",
    "    x = base_model(inputs)\n",
    "    x = keras.layers.GlobalAveragePooling2D(name=\"avg_pool\")(x)\n",
    "    x = keras.layers.Flatten(name=\"flatten\")(x)\n",
    "    outputs = keras.layers.Dense(NUM_CLASSES, activation=\"sigmoid\")(x)\n",
    "    model = keras.Model(inputs=inputs, outputs=outputs)\n",
    "    model.compile(\n",
    "        loss=\"binary_crossentropy\",\n",
    "        optimizer=Adam(lr=0.0005),\n",
    "        metrics=[\n",
    "            \"acc\",\n",
    "            keras.metrics.Recall(),\n",
    "            keras.metrics.Precision(),\n",
    "            tfa.metrics.F1Score(num_classes=NUM_CLASSES, average=\"micro\"),\n",
    "        ],\n",
    "    )\n",
    "    return model\n",
    "\n",
    "\n",
    "policy = keras.mixed_precision.experimental.Policy(\"mixed_float16\")\n",
    "keras.mixed_precision.experimental.set_policy(policy)"
   ]
  },
  {
   "cell_type": "code",
   "execution_count": 54,
   "metadata": {},
   "outputs": [],
   "source": [
    "callbacks = [\n",
    "    keras.callbacks.EarlyStopping(\n",
    "        monitor=\"val_f1_score\",\n",
    "        patience=12,\n",
    "        restore_best_weights=True,\n",
    "        verbose=1,\n",
    "        mode=\"max\",\n",
    "    ),\n",
    "    keras.callbacks.ModelCheckpoint(\n",
    "        \"/app/_data/models/from_nocall/Eff2_1/Eff2_1.h5\",\n",
    "        monitor=\"val_f1_score\",\n",
    "        verbose=1,\n",
    "        save_best_only=True,\n",
    "        save_weights_only=False,\n",
    "        mode=\"max\",\n",
    "        save_freq=\"epoch\",\n",
    "    ),\n",
    "    keras.callbacks.ReduceLROnPlateau(\n",
    "        monitor=\"val_f1_score\",\n",
    "        factor=0.9,\n",
    "        patience=5,\n",
    "        verbose=1,\n",
    "        mode=\"max\",\n",
    "        min_delta=1e-4,\n",
    "        min_lr=0.00000001,\n",
    "    ),\n",
    "    keras.callbacks.TensorBoard(\n",
    "        log_dir=\"/app/.tensorboard/Eff2_1_nc/\", histogram_freq=0\n",
    "    ),\n",
    "    keras.callbacks.experimental.BackupAndRestore(\n",
    "        \"/app/_data/models/from_nocall/Eff2_1/backup/\"\n",
    "    ),\n",
    "    keras.callbacks.TerminateOnNaN(),\n",
    "]"
   ]
  },
  {
   "cell_type": "code",
   "execution_count": null,
   "metadata": {},
   "outputs": [
    {
     "name": "stdout",
     "output_type": "stream",
     "text": [
      "Epoch 26/100\n",
      "   1/1120 [..............................] - ETA: 0s - loss: 0.0028 - acc: 0.9821 - recall: 0.5987 - precision: 0.9965 - f1_score: 0.8076WARNING:tensorflow:From /usr/local/lib/python3.8/dist-packages/tensorflow/python/ops/summary_ops_v2.py:1277: stop (from tensorflow.python.eager.profiler) is deprecated and will be removed after 2020-07-01.\n",
      "Instructions for updating:\n",
      "use `tf.profiler.experimental.stop` instead.\n",
      "1120/1120 [==============================] - ETA: 0s - loss: 0.0029 - acc: 0.9647 - recall: 0.5931 - precision: 0.9854 - f1_score: 0.8089\n",
      "Epoch 00026: val_f1_score improved from -inf to 0.80457, saving model to /app/_data/models/from_nocall/Eff2_1/Eff2_1.h5\n",
      "1120/1120 [==============================] - 1004s 897ms/step - loss: 0.0029 - acc: 0.9647 - recall: 0.5931 - precision: 0.9854 - f1_score: 0.8089 - val_loss: 0.0030 - val_acc: 0.9590 - val_recall: 0.6004 - val_precision: 0.9796 - val_f1_score: 0.8046\n",
      "Epoch 27/100\n",
      "1120/1120 [==============================] - ETA: 0s - loss: 0.0025 - acc: 0.9819 - recall: 0.6070 - precision: 0.9934 - f1_score: 0.8210\n",
      "Epoch 00027: val_f1_score improved from 0.80457 to 0.81140, saving model to /app/_data/models/from_nocall/Eff2_1/Eff2_1.h5\n",
      "1120/1120 [==============================] - 1205s 1s/step - loss: 0.0025 - acc: 0.9819 - recall: 0.6070 - precision: 0.9934 - f1_score: 0.8210 - val_loss: 0.0028 - val_acc: 0.9686 - val_recall: 0.6214 - val_precision: 0.9877 - val_f1_score: 0.8114\n",
      "Epoch 28/100\n",
      "1120/1120 [==============================] - ETA: 0s - loss: 0.0025 - acc: 0.9860 - recall: 0.6106 - precision: 0.9950 - f1_score: 0.8237\n",
      "Epoch 00028: val_f1_score did not improve from 0.81140\n",
      "1120/1120 [==============================] - 1194s 1s/step - loss: 0.0025 - acc: 0.9860 - recall: 0.6106 - precision: 0.9950 - f1_score: 0.8237 - val_loss: 0.0029 - val_acc: 0.9653 - val_recall: 0.6190 - val_precision: 0.9853 - val_f1_score: 0.8091\n",
      "Epoch 29/100\n",
      "1120/1120 [==============================] - ETA: 0s - loss: 0.0024 - acc: 0.9875 - recall: 0.6134 - precision: 0.9959 - f1_score: 0.8247\n",
      "Epoch 00029: val_f1_score did not improve from 0.81140\n",
      "1120/1120 [==============================] - 1201s 1s/step - loss: 0.0024 - acc: 0.9875 - recall: 0.6134 - precision: 0.9959 - f1_score: 0.8247 - val_loss: 0.0028 - val_acc: 0.9672 - val_recall: 0.6216 - val_precision: 0.9861 - val_f1_score: 0.8104\n",
      "Epoch 30/100\n",
      "1120/1120 [==============================] - ETA: 0s - loss: 0.0024 - acc: 0.9880 - recall: 0.6142 - precision: 0.9960 - f1_score: 0.8251\n",
      "Epoch 00030: val_f1_score did not improve from 0.81140\n",
      "1120/1120 [==============================] - 1181s 1s/step - loss: 0.0024 - acc: 0.9880 - recall: 0.6142 - precision: 0.9960 - f1_score: 0.8251 - val_loss: 0.0029 - val_acc: 0.9666 - val_recall: 0.5935 - val_precision: 0.9875 - val_f1_score: 0.8102\n",
      "Epoch 31/100\n",
      "1120/1120 [==============================] - ETA: 0s - loss: 0.0024 - acc: 0.9892 - recall: 0.6146 - precision: 0.9964 - f1_score: 0.8258\n",
      "Epoch 00031: val_f1_score did not improve from 0.81140\n",
      "1120/1120 [==============================] - 1082s 966ms/step - loss: 0.0024 - acc: 0.9892 - recall: 0.6146 - precision: 0.9964 - f1_score: 0.8258 - val_loss: 0.0029 - val_acc: 0.9632 - val_recall: 0.6152 - val_precision: 0.9845 - val_f1_score: 0.8080\n",
      "Epoch 32/100\n",
      "1120/1120 [==============================] - ETA: 0s - loss: 0.0023 - acc: 0.9901 - recall: 0.6154 - precision: 0.9966 - f1_score: 0.8263\n",
      "Epoch 00032: val_f1_score did not improve from 0.81140\n",
      "\n",
      "Epoch 00032: ReduceLROnPlateau reducing learning rate to 0.0004500000213738531.\n",
      "1120/1120 [==============================] - 1067s 953ms/step - loss: 0.0023 - acc: 0.9901 - recall: 0.6154 - precision: 0.9966 - f1_score: 0.8263 - val_loss: 0.0029 - val_acc: 0.9610 - val_recall: 0.6173 - val_precision: 0.9836 - val_f1_score: 0.8063\n",
      "Epoch 33/100\n",
      " 197/1120 [====>.........................] - ETA: 12:45 - loss: 0.0023 - acc: 0.9929 - recall: 0.6137 - precision: 0.9981 - f1_score: 0.8261"
     ]
    }
   ],
   "source": [
    "model = get_model()\n",
    "history = model.fit(\n",
    "    gen_train,\n",
    "    validation_data=gen_valid,\n",
    "    epochs=100,\n",
    "    steps_per_epoch=train.shape[0] // BATCH_SIZE,\n",
    "    validation_steps=valid.shape[0] // BATCH_SIZE,\n",
    "    verbose=1,\n",
    "    workers=20,\n",
    "    max_queue_size=50,\n",
    "    callbacks=callbacks,\n",
    ")"
   ]
  },
  {
   "cell_type": "code",
   "execution_count": null,
   "metadata": {},
   "outputs": [],
   "source": []
  }
 ],
 "metadata": {
  "kernelspec": {
   "display_name": "Python 3",
   "language": "python",
   "name": "python3"
  },
  "language_info": {
   "codemirror_mode": {
    "name": "ipython",
    "version": 3
   },
   "file_extension": ".py",
   "mimetype": "text/x-python",
   "name": "python",
   "nbconvert_exporter": "python",
   "pygments_lexer": "ipython3",
   "version": "3.8.5"
  }
 },
 "nbformat": 4,
 "nbformat_minor": 4
}
