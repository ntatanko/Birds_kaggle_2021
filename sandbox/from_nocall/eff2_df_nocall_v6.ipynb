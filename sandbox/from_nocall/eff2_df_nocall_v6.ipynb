{
 "cells": [
  {
   "cell_type": "code",
   "execution_count": 1,
   "metadata": {},
   "outputs": [],
   "source": [
    "import os\n",
    "import shutil\n",
    "import warnings\n",
    "\n",
    "import numpy as np\n",
    "import pandas as pd\n",
    "import plotly.graph_objects as go\n",
    "import torchaudio\n",
    "\n",
    "warnings.filterwarnings(action=\"ignore\")\n",
    "from IPython.core.interactiveshell import InteractiveShell\n",
    "\n",
    "InteractiveShell.ast_node_interactivity = \"all\"\n",
    "import json\n",
    "\n",
    "import geopandas\n",
    "import librosa\n",
    "import librosa.display\n",
    "import matplotlib.pyplot as plt\n",
    "import scipy.stats as st\n",
    "import seaborn as sns\n",
    "import soundfile\n",
    "import tensorflow as tf\n",
    "import tensorflow_addons as tfa\n",
    "import torch\n",
    "\n",
    "%matplotlib inline\n",
    "from PIL import Image\n",
    "from sklearn.model_selection import train_test_split\n",
    "from sklearn.utils import shuffle\n",
    "from tensorflow import keras\n",
    "from tensorflow.keras.models import Sequential\n",
    "from tensorflow.keras.optimizers import Adam\n",
    "from torchaudio.transforms import MelSpectrogram\n",
    "from tqdm import tqdm\n",
    "\n",
    "from src.MEL_Gen import MEL_Gen, Mel_Provider\n",
    "from src.prepare_dataset import (\n",
    "    choose_ids,\n",
    "    make_dict_birds,\n",
    "    make_intervals,\n",
    "    make_intervals_upsampling,\n",
    "    prepare_dataset,\n",
    ")"
   ]
  },
  {
   "cell_type": "code",
   "execution_count": 2,
   "metadata": {},
   "outputs": [],
   "source": [
    "SEED = 1488\n",
    "IMG_SIZE = 260\n",
    "SAMPLE_RATE = 32000\n",
    "N_FFT = 2048\n",
    "SIGNAL_LENGTH = 5\n",
    "FREQ_MIN = 0\n",
    "FREQ_MAX = 16000\n",
    "WIN_LENGHT = 1024\n",
    "BATCH_SIZE = 300\n",
    "list_drop = [\n",
    "    \"XC509721.ogg\",\n",
    "    \"XC428067.ogg\",\n",
    "    \"XC523831.ogg\",\n",
    "    \"XC523960.ogg\",\n",
    "    \"XC237870.ogg\",\n",
    "    \"XC129924.ogg\",\n",
    "    \"XC576851.ogg\",\n",
    "    \"XC579430.ogg\",\n",
    "    \"XC590621.ogg\",\n",
    "]"
   ]
  },
  {
   "cell_type": "code",
   "execution_count": 3,
   "metadata": {},
   "outputs": [],
   "source": [
    "final = pd.read_csv(\"/app/_data/labels_nocall/nocall_predictions.csv\")\n",
    "nocall = pd.read_csv(\"/app/_data/labels_nocall/all_nocalls.csv\")"
   ]
  },
  {
   "cell_type": "code",
   "execution_count": 4,
   "metadata": {},
   "outputs": [
    {
     "data": {
      "text/plain": [
       "(65128, 24)"
      ]
     },
     "execution_count": 4,
     "metadata": {},
     "output_type": "execute_result"
    }
   ],
   "source": [
    "all_audio_init = pd.read_csv(\"/app/_data/all_audio_initial.csv\")\n",
    "all_audio = all_audio_init.query(\"filename not in @list_drop\").reset_index(drop=True)\n",
    "all_audio = all_audio.query(\"year >=1980 and year<=2021\").reset_index(drop=True)\n",
    "\n",
    "all_audio.shape"
   ]
  },
  {
   "cell_type": "markdown",
   "metadata": {},
   "source": [
    "# dict_birds and weights"
   ]
  },
  {
   "cell_type": "code",
   "execution_count": 5,
   "metadata": {},
   "outputs": [],
   "source": [
    "all_audio = all_audio[all_audio[\"rating\"] >= 3]"
   ]
  },
  {
   "cell_type": "code",
   "execution_count": 6,
   "metadata": {},
   "outputs": [],
   "source": [
    "dict_birds, all_audio = make_dict_birds(all_audio)"
   ]
  },
  {
   "cell_type": "code",
   "execution_count": 7,
   "metadata": {},
   "outputs": [
    {
     "data": {
      "text/plain": [
       "398"
      ]
     },
     "execution_count": 7,
     "metadata": {},
     "output_type": "execute_result"
    }
   ],
   "source": [
    "len(dict_birds)"
   ]
  },
  {
   "cell_type": "code",
   "execution_count": 8,
   "metadata": {},
   "outputs": [],
   "source": [
    "# os.mkdir(\"/app/_data/models/from_nocall/Eff2_3/\")"
   ]
  },
  {
   "cell_type": "code",
   "execution_count": 9,
   "metadata": {},
   "outputs": [],
   "source": [
    "file_json = open(\"/app/_data/models/from_nocall/Eff2_3/dict_birds.json\", \"w\")\n",
    "json.dump(dict_birds, file_json)\n",
    "file_json.close()"
   ]
  },
  {
   "cell_type": "code",
   "execution_count": 10,
   "metadata": {},
   "outputs": [],
   "source": [
    "dict_weights = (1 / all_audio[\"primary_label\"].value_counts()).to_dict()\n",
    "all_audio[\"class_weights\"] = all_audio[\"primary_label\"].replace(dict_weights)\n",
    "# all_audio[\"class_weights\"] = all_audio[\"class_weights\"] * all_audio[\"rating\"]"
   ]
  },
  {
   "cell_type": "markdown",
   "metadata": {},
   "source": [
    "## calls"
   ]
  },
  {
   "cell_type": "code",
   "execution_count": 11,
   "metadata": {},
   "outputs": [],
   "source": [
    "drop_list_final = final[(final[\"bird\"] == 1) & (final[\"nocall\"] == 1)][\n",
    "    \"row_id\"\n",
    "].tolist()"
   ]
  },
  {
   "cell_type": "code",
   "execution_count": 12,
   "metadata": {},
   "outputs": [],
   "source": [
    "final = final.query(\"row_id not in @drop_list_final\")\n",
    "final = final.query(\"bird == 1\")\n"
   ]
  },
  {
   "cell_type": "code",
   "execution_count": 13,
   "metadata": {},
   "outputs": [],
   "source": [
    "final = final.merge(\n",
    "    all_audio[[\"filename\", \"primary_label\", \"class_weights\", 'duration']], on=\"filename\", how=\"left\"\n",
    ")"
   ]
  },
  {
   "cell_type": "code",
   "execution_count": 14,
   "metadata": {},
   "outputs": [],
   "source": [
    "final = final.dropna(axis=0)\n",
    "final = final.drop(['nocall', 'bird'], axis=1)"
   ]
  },
  {
   "cell_type": "code",
   "execution_count": 15,
   "metadata": {},
   "outputs": [],
   "source": [
    "final_0_20 = final[final['duration']<19]\n",
    "final_20_30 = final[(final['duration']>=19)&(final['duration']<=30)]\n",
    "final_30 = final[final['duration']>30]"
   ]
  },
  {
   "cell_type": "code",
   "execution_count": 16,
   "metadata": {},
   "outputs": [],
   "source": [
    "final_20_30['duration'] = final_20_30['duration']-4\n",
    "final_30['duration'] = final_30['duration']-7"
   ]
  },
  {
   "cell_type": "code",
   "execution_count": 17,
   "metadata": {},
   "outputs": [],
   "source": [
    "final_20_30 = final_20_30[final_20_30['end_sec']<=final_20_30['duration']]\n",
    "final_30 = final_30[final_30['end_sec']<=final_30['duration']]"
   ]
  },
  {
   "cell_type": "code",
   "execution_count": 18,
   "metadata": {},
   "outputs": [],
   "source": [
    "final = pd.concat([final_0_20,final_20_30,final_30], axis=0, ignore_index=True)"
   ]
  },
  {
   "cell_type": "code",
   "execution_count": 19,
   "metadata": {},
   "outputs": [
    {
     "data": {
      "text/html": [
       "<div>\n",
       "<style scoped>\n",
       "    .dataframe tbody tr th:only-of-type {\n",
       "        vertical-align: middle;\n",
       "    }\n",
       "\n",
       "    .dataframe tbody tr th {\n",
       "        vertical-align: top;\n",
       "    }\n",
       "\n",
       "    .dataframe thead th {\n",
       "        text-align: right;\n",
       "    }\n",
       "</style>\n",
       "<table border=\"1\" class=\"dataframe\">\n",
       "  <thead>\n",
       "    <tr style=\"text-align: right;\">\n",
       "      <th></th>\n",
       "      <th>row_id</th>\n",
       "      <th>filename</th>\n",
       "      <th>end_sec</th>\n",
       "      <th>primary_label</th>\n",
       "      <th>class_weights</th>\n",
       "      <th>duration</th>\n",
       "    </tr>\n",
       "  </thead>\n",
       "  <tbody>\n",
       "    <tr>\n",
       "      <th>0</th>\n",
       "      <td>XC11209_5_0</td>\n",
       "      <td>XC11209.ogg</td>\n",
       "      <td>5.0</td>\n",
       "      <td>acafly</td>\n",
       "      <td>0.008547</td>\n",
       "      <td>16.654156</td>\n",
       "    </tr>\n",
       "    <tr>\n",
       "      <th>1</th>\n",
       "      <td>XC11209_6_0</td>\n",
       "      <td>XC11209.ogg</td>\n",
       "      <td>6.0</td>\n",
       "      <td>acafly</td>\n",
       "      <td>0.008547</td>\n",
       "      <td>16.654156</td>\n",
       "    </tr>\n",
       "    <tr>\n",
       "      <th>2</th>\n",
       "      <td>XC11209_7_0</td>\n",
       "      <td>XC11209.ogg</td>\n",
       "      <td>7.0</td>\n",
       "      <td>acafly</td>\n",
       "      <td>0.008547</td>\n",
       "      <td>16.654156</td>\n",
       "    </tr>\n",
       "    <tr>\n",
       "      <th>3</th>\n",
       "      <td>XC11209_8_0</td>\n",
       "      <td>XC11209.ogg</td>\n",
       "      <td>8.0</td>\n",
       "      <td>acafly</td>\n",
       "      <td>0.008547</td>\n",
       "      <td>16.654156</td>\n",
       "    </tr>\n",
       "    <tr>\n",
       "      <th>4</th>\n",
       "      <td>XC11209_9_0</td>\n",
       "      <td>XC11209.ogg</td>\n",
       "      <td>9.0</td>\n",
       "      <td>acafly</td>\n",
       "      <td>0.008547</td>\n",
       "      <td>16.654156</td>\n",
       "    </tr>\n",
       "    <tr>\n",
       "      <th>...</th>\n",
       "      <td>...</td>\n",
       "      <td>...</td>\n",
       "      <td>...</td>\n",
       "      <td>...</td>\n",
       "      <td>...</td>\n",
       "      <td>...</td>\n",
       "    </tr>\n",
       "    <tr>\n",
       "      <th>2104838</th>\n",
       "      <td>XC615888_66_0</td>\n",
       "      <td>XC615888.ogg</td>\n",
       "      <td>66.0</td>\n",
       "      <td>yetvir</td>\n",
       "      <td>0.010870</td>\n",
       "      <td>70.125000</td>\n",
       "    </tr>\n",
       "    <tr>\n",
       "      <th>2104839</th>\n",
       "      <td>XC615888_67_0</td>\n",
       "      <td>XC615888.ogg</td>\n",
       "      <td>67.0</td>\n",
       "      <td>yetvir</td>\n",
       "      <td>0.010870</td>\n",
       "      <td>70.125000</td>\n",
       "    </tr>\n",
       "    <tr>\n",
       "      <th>2104840</th>\n",
       "      <td>XC615888_68_0</td>\n",
       "      <td>XC615888.ogg</td>\n",
       "      <td>68.0</td>\n",
       "      <td>yetvir</td>\n",
       "      <td>0.010870</td>\n",
       "      <td>70.125000</td>\n",
       "    </tr>\n",
       "    <tr>\n",
       "      <th>2104841</th>\n",
       "      <td>XC615888_69_0</td>\n",
       "      <td>XC615888.ogg</td>\n",
       "      <td>69.0</td>\n",
       "      <td>yetvir</td>\n",
       "      <td>0.010870</td>\n",
       "      <td>70.125000</td>\n",
       "    </tr>\n",
       "    <tr>\n",
       "      <th>2104842</th>\n",
       "      <td>XC615888_70_0</td>\n",
       "      <td>XC615888.ogg</td>\n",
       "      <td>70.0</td>\n",
       "      <td>yetvir</td>\n",
       "      <td>0.010870</td>\n",
       "      <td>70.125000</td>\n",
       "    </tr>\n",
       "  </tbody>\n",
       "</table>\n",
       "<p>2104843 rows × 6 columns</p>\n",
       "</div>"
      ],
      "text/plain": [
       "                row_id      filename  end_sec primary_label  class_weights  \\\n",
       "0          XC11209_5_0   XC11209.ogg      5.0        acafly       0.008547   \n",
       "1          XC11209_6_0   XC11209.ogg      6.0        acafly       0.008547   \n",
       "2          XC11209_7_0   XC11209.ogg      7.0        acafly       0.008547   \n",
       "3          XC11209_8_0   XC11209.ogg      8.0        acafly       0.008547   \n",
       "4          XC11209_9_0   XC11209.ogg      9.0        acafly       0.008547   \n",
       "...                ...           ...      ...           ...            ...   \n",
       "2104838  XC615888_66_0  XC615888.ogg     66.0        yetvir       0.010870   \n",
       "2104839  XC615888_67_0  XC615888.ogg     67.0        yetvir       0.010870   \n",
       "2104840  XC615888_68_0  XC615888.ogg     68.0        yetvir       0.010870   \n",
       "2104841  XC615888_69_0  XC615888.ogg     69.0        yetvir       0.010870   \n",
       "2104842  XC615888_70_0  XC615888.ogg     70.0        yetvir       0.010870   \n",
       "\n",
       "          duration  \n",
       "0        16.654156  \n",
       "1        16.654156  \n",
       "2        16.654156  \n",
       "3        16.654156  \n",
       "4        16.654156  \n",
       "...            ...  \n",
       "2104838  70.125000  \n",
       "2104839  70.125000  \n",
       "2104840  70.125000  \n",
       "2104841  70.125000  \n",
       "2104842  70.125000  \n",
       "\n",
       "[2104843 rows x 6 columns]"
      ]
     },
     "execution_count": 19,
     "metadata": {},
     "output_type": "execute_result"
    }
   ],
   "source": [
    "final"
   ]
  },
  {
   "cell_type": "code",
   "execution_count": 20,
   "metadata": {},
   "outputs": [],
   "source": [
    "dict_w = pd.DataFrame((1/final['filename'].value_counts()))\n",
    "dict_w.columns=['weights']\n",
    "dict_w['filename'] = dict_w.index"
   ]
  },
  {
   "cell_type": "code",
   "execution_count": 21,
   "metadata": {},
   "outputs": [],
   "source": [
    "final = final.merge(dict_w, on='filename', how='left')"
   ]
  },
  {
   "cell_type": "code",
   "execution_count": 22,
   "metadata": {},
   "outputs": [],
   "source": [
    "final_sample = final.sample(1000000, weights=\"weights\", random_state=SEED)\n",
    "final_sample = final_sample.sample(300000, weights=\"class_weights\", random_state=SEED)"
   ]
  },
  {
   "cell_type": "code",
   "execution_count": 23,
   "metadata": {},
   "outputs": [
    {
     "data": {
      "text/plain": [
       "normoc     1467\n",
       "bulori     1381\n",
       "yebcha     1333\n",
       "cubthr     1321\n",
       "bncfly     1275\n",
       "           ... \n",
       "hofwoo1     117\n",
       "crfpar      110\n",
       "whcpar      109\n",
       "stvhum2      42\n",
       "wegspa1      41\n",
       "Name: primary_label, Length: 397, dtype: int64"
      ]
     },
     "execution_count": 23,
     "metadata": {},
     "output_type": "execute_result"
    }
   ],
   "source": [
    "final_sample['primary_label'].value_counts()"
   ]
  },
  {
   "cell_type": "code",
   "execution_count": 24,
   "metadata": {},
   "outputs": [
    {
     "data": {
      "text/plain": [
       "XC285559.ogg    42\n",
       "XC580707.ogg    40\n",
       "XC320750.ogg    39\n",
       "XC153986.ogg    39\n",
       "XC237855.ogg    38\n",
       "                ..\n",
       "XC559874.ogg     1\n",
       "XC377325.ogg     1\n",
       "XC56863.ogg      1\n",
       "XC538463.ogg     1\n",
       "XC184987.ogg     1\n",
       "Name: filename, Length: 48702, dtype: int64"
      ]
     },
     "execution_count": 24,
     "metadata": {},
     "output_type": "execute_result"
    }
   ],
   "source": [
    "final_sample['filename'].value_counts()"
   ]
  },
  {
   "cell_type": "code",
   "execution_count": 25,
   "metadata": {},
   "outputs": [
    {
     "data": {
      "text/html": [
       "<div>\n",
       "<style scoped>\n",
       "    .dataframe tbody tr th:only-of-type {\n",
       "        vertical-align: middle;\n",
       "    }\n",
       "\n",
       "    .dataframe tbody tr th {\n",
       "        vertical-align: top;\n",
       "    }\n",
       "\n",
       "    .dataframe thead th {\n",
       "        text-align: right;\n",
       "    }\n",
       "</style>\n",
       "<table border=\"1\" class=\"dataframe\">\n",
       "  <thead>\n",
       "    <tr style=\"text-align: right;\">\n",
       "      <th></th>\n",
       "      <th>row_id</th>\n",
       "      <th>filename</th>\n",
       "      <th>end_sec</th>\n",
       "      <th>primary_label</th>\n",
       "      <th>class_weights</th>\n",
       "      <th>duration</th>\n",
       "      <th>weights</th>\n",
       "    </tr>\n",
       "  </thead>\n",
       "  <tbody>\n",
       "    <tr>\n",
       "      <th>398202</th>\n",
       "      <td>XC559561_9_0</td>\n",
       "      <td>XC559561.ogg</td>\n",
       "      <td>9.0</td>\n",
       "      <td>bewwre</td>\n",
       "      <td>0.002475</td>\n",
       "      <td>34.183156</td>\n",
       "      <td>0.033333</td>\n",
       "    </tr>\n",
       "    <tr>\n",
       "      <th>209382</th>\n",
       "      <td>XC233974_13_0</td>\n",
       "      <td>XC233974.ogg</td>\n",
       "      <td>13.0</td>\n",
       "      <td>webwoo1</td>\n",
       "      <td>0.009709</td>\n",
       "      <td>21.170094</td>\n",
       "      <td>0.076923</td>\n",
       "    </tr>\n",
       "    <tr>\n",
       "      <th>2003003</th>\n",
       "      <td>XC329805_9_0</td>\n",
       "      <td>XC329805.ogg</td>\n",
       "      <td>9.0</td>\n",
       "      <td>whtspa</td>\n",
       "      <td>0.004831</td>\n",
       "      <td>136.989000</td>\n",
       "      <td>0.016393</td>\n",
       "    </tr>\n",
       "    <tr>\n",
       "      <th>2101563</th>\n",
       "      <td>XC332589_20_0</td>\n",
       "      <td>XC332589.ogg</td>\n",
       "      <td>20.0</td>\n",
       "      <td>yeteup1</td>\n",
       "      <td>0.025000</td>\n",
       "      <td>23.368437</td>\n",
       "      <td>0.052632</td>\n",
       "    </tr>\n",
       "    <tr>\n",
       "      <th>197569</th>\n",
       "      <td>XC257520_16_0</td>\n",
       "      <td>XC257520.ogg</td>\n",
       "      <td>16.0</td>\n",
       "      <td>sposan</td>\n",
       "      <td>0.012500</td>\n",
       "      <td>16.807625</td>\n",
       "      <td>0.083333</td>\n",
       "    </tr>\n",
       "    <tr>\n",
       "      <th>...</th>\n",
       "      <td>...</td>\n",
       "      <td>...</td>\n",
       "      <td>...</td>\n",
       "      <td>...</td>\n",
       "      <td>...</td>\n",
       "      <td>...</td>\n",
       "      <td>...</td>\n",
       "    </tr>\n",
       "    <tr>\n",
       "      <th>594085</th>\n",
       "      <td>XC316127_10_0</td>\n",
       "      <td>XC316127.ogg</td>\n",
       "      <td>10.0</td>\n",
       "      <td>burwar1</td>\n",
       "      <td>0.006536</td>\n",
       "      <td>63.381000</td>\n",
       "      <td>0.018868</td>\n",
       "    </tr>\n",
       "    <tr>\n",
       "      <th>1389042</th>\n",
       "      <td>XC149480_36_0</td>\n",
       "      <td>XC149480.ogg</td>\n",
       "      <td>36.0</td>\n",
       "      <td>oaktit</td>\n",
       "      <td>0.010101</td>\n",
       "      <td>78.549000</td>\n",
       "      <td>0.014493</td>\n",
       "    </tr>\n",
       "    <tr>\n",
       "      <th>1859986</th>\n",
       "      <td>XC582727_76_0</td>\n",
       "      <td>XC582727.ogg</td>\n",
       "      <td>76.0</td>\n",
       "      <td>tromoc</td>\n",
       "      <td>0.008772</td>\n",
       "      <td>106.653000</td>\n",
       "      <td>0.009804</td>\n",
       "    </tr>\n",
       "    <tr>\n",
       "      <th>1825203</th>\n",
       "      <td>XC243411_137_0</td>\n",
       "      <td>XC243411.ogg</td>\n",
       "      <td>137.0</td>\n",
       "      <td>tenwar</td>\n",
       "      <td>0.008264</td>\n",
       "      <td>142.557000</td>\n",
       "      <td>0.008264</td>\n",
       "    </tr>\n",
       "    <tr>\n",
       "      <th>1198353</th>\n",
       "      <td>XC292762_21_0</td>\n",
       "      <td>XC292762.ogg</td>\n",
       "      <td>21.0</td>\n",
       "      <td>leafly</td>\n",
       "      <td>0.007812</td>\n",
       "      <td>49.360281</td>\n",
       "      <td>0.023810</td>\n",
       "    </tr>\n",
       "  </tbody>\n",
       "</table>\n",
       "<p>300000 rows × 7 columns</p>\n",
       "</div>"
      ],
      "text/plain": [
       "                 row_id      filename  end_sec primary_label  class_weights  \\\n",
       "398202     XC559561_9_0  XC559561.ogg      9.0        bewwre       0.002475   \n",
       "209382    XC233974_13_0  XC233974.ogg     13.0       webwoo1       0.009709   \n",
       "2003003    XC329805_9_0  XC329805.ogg      9.0        whtspa       0.004831   \n",
       "2101563   XC332589_20_0  XC332589.ogg     20.0       yeteup1       0.025000   \n",
       "197569    XC257520_16_0  XC257520.ogg     16.0        sposan       0.012500   \n",
       "...                 ...           ...      ...           ...            ...   \n",
       "594085    XC316127_10_0  XC316127.ogg     10.0       burwar1       0.006536   \n",
       "1389042   XC149480_36_0  XC149480.ogg     36.0        oaktit       0.010101   \n",
       "1859986   XC582727_76_0  XC582727.ogg     76.0        tromoc       0.008772   \n",
       "1825203  XC243411_137_0  XC243411.ogg    137.0        tenwar       0.008264   \n",
       "1198353   XC292762_21_0  XC292762.ogg     21.0        leafly       0.007812   \n",
       "\n",
       "           duration   weights  \n",
       "398202    34.183156  0.033333  \n",
       "209382    21.170094  0.076923  \n",
       "2003003  136.989000  0.016393  \n",
       "2101563   23.368437  0.052632  \n",
       "197569    16.807625  0.083333  \n",
       "...             ...       ...  \n",
       "594085    63.381000  0.018868  \n",
       "1389042   78.549000  0.014493  \n",
       "1859986  106.653000  0.009804  \n",
       "1825203  142.557000  0.008264  \n",
       "1198353   49.360281  0.023810  \n",
       "\n",
       "[300000 rows x 7 columns]"
      ]
     },
     "execution_count": 25,
     "metadata": {},
     "output_type": "execute_result"
    }
   ],
   "source": [
    "final_sample"
   ]
  },
  {
   "cell_type": "code",
   "execution_count": 26,
   "metadata": {},
   "outputs": [],
   "source": [
    "final_sample = final_sample[\n",
    "    [\"row_id\", \"filename\", \"end_sec\", \"primary_label\", \"class_weights\"]\n",
    "].merge(\n",
    "    all_audio[\n",
    "        [\n",
    "            \"filename\",\n",
    "            \"secondary_labels\",\n",
    "            \"label_id\",\n",
    "            \"secondary_labels_id\",\n",
    "            \"duration\",\n",
    "            \"rating\",\n",
    "            \"year\",\n",
    "            \"file_path\",\n",
    "            \"sin_month\",\n",
    "            \"cos_month\",\n",
    "            \"sin_longitude\",\n",
    "            \"cos_longitude\",\n",
    "            \"latitude\",\n",
    "            \"norm_latitude\",\n",
    "        ]\n",
    "    ],\n",
    "    on=\"filename\",\n",
    "    how=\"left\",\n",
    ")"
   ]
  },
  {
   "cell_type": "code",
   "execution_count": 27,
   "metadata": {},
   "outputs": [],
   "source": [
    "final_sample = final_sample.sample(frac=1, random_state=SEED).reset_index(drop=True)"
   ]
  },
  {
   "cell_type": "code",
   "execution_count": 28,
   "metadata": {},
   "outputs": [
    {
     "data": {
      "text/plain": [
       "normoc     1467\n",
       "bulori     1381\n",
       "yebcha     1333\n",
       "cubthr     1321\n",
       "bncfly     1275\n",
       "           ... \n",
       "hofwoo1     117\n",
       "crfpar      110\n",
       "whcpar      109\n",
       "stvhum2      42\n",
       "wegspa1      41\n",
       "Name: primary_label, Length: 397, dtype: int64"
      ]
     },
     "execution_count": 28,
     "metadata": {},
     "output_type": "execute_result"
    }
   ],
   "source": [
    "final_sample[\"primary_label\"].value_counts()"
   ]
  },
  {
   "cell_type": "markdown",
   "metadata": {},
   "source": [
    "# nocall"
   ]
  },
  {
   "cell_type": "code",
   "execution_count": 29,
   "metadata": {},
   "outputs": [
    {
     "data": {
      "text/plain": [
       "XC327562.ogg    15\n",
       "XC277582.ogg    13\n",
       "XC293291.ogg    13\n",
       "XC217733.ogg    12\n",
       "XC256594.ogg    12\n",
       "                ..\n",
       "XC210768.ogg     1\n",
       "XC291092.ogg     1\n",
       "XC259210.ogg     1\n",
       "XC132192.ogg     1\n",
       "XC187408.ogg     1\n",
       "Name: filename, Length: 192, dtype: int64"
      ]
     },
     "execution_count": 29,
     "metadata": {},
     "output_type": "execute_result"
    }
   ],
   "source": [
    "nocall = nocall.drop_duplicates()\n",
    "\n",
    "nocall[\"file_path\"] = nocall[\"file_path\"].str.replace(\"birdclef-2021/\", \"\")\n",
    "\n",
    "nocall = nocall[~nocall['file_path'].str.contains('train_soundscapes')].reset_index(drop=True)\n",
    "\n",
    "soundscapes_nocall =all_audio[all_audio['file_path'].str.contains('train_soundscapes')]\n",
    "soundscapes_nocall = soundscapes_nocall[soundscapes_nocall['primary_label']=='nocall']\n",
    "\n",
    "dict_w = (1/nocall['filename'].value_counts()).to_dict()\n",
    "nocall['weights'] = nocall['filename'].replace(dict_w)\n",
    "\n",
    "nocall_sample = nocall.sample(1200, random_state=SEED,  weights='weights')\n",
    "\n",
    "nocall_sample['filename'].value_counts()"
   ]
  },
  {
   "cell_type": "code",
   "execution_count": 30,
   "metadata": {},
   "outputs": [
    {
     "data": {
      "text/plain": [
       "filename                  0\n",
       "row_id                    0\n",
       "start_sec                 0\n",
       "end_sec                   0\n",
       "file_path                 0\n",
       "duration                  0\n",
       "rating                    0\n",
       "year                      0\n",
       "sin_month                 0\n",
       "cos_month                 0\n",
       "sin_longitude             0\n",
       "cos_longitude             0\n",
       "latitude                  0\n",
       "norm_latitude             0\n",
       "class_weights             0\n",
       "label_id                  0\n",
       "secondary_labels_id    2729\n",
       "dtype: int64"
      ]
     },
     "execution_count": 30,
     "metadata": {},
     "output_type": "execute_result"
    },
    {
     "data": {
      "text/plain": [
       "count    2729.000000\n",
       "mean     2015.901063\n",
       "std         4.798173\n",
       "min      1989.000000\n",
       "25%      2015.000000\n",
       "50%      2017.000000\n",
       "75%      2019.000000\n",
       "max      2021.000000\n",
       "Name: year, dtype: float64"
      ]
     },
     "execution_count": 30,
     "metadata": {},
     "output_type": "execute_result"
    }
   ],
   "source": [
    "nocall_sample = nocall_sample.merge(\n",
    "    all_audio[\n",
    "        [\n",
    "            \"filename\",\n",
    "            \"rating\",\n",
    "            \"year\",\n",
    "            \"sin_month\",\n",
    "            \"cos_month\",\n",
    "            \"sin_longitude\",\n",
    "            \"cos_longitude\",\n",
    "            \"latitude\",\n",
    "            \"norm_latitude\",\n",
    "            'class_weights'\n",
    "        ]\n",
    "    ],\n",
    "    on=\"filename\",\n",
    "    how=\"left\",\n",
    ")\n",
    "\n",
    "nocall_sample = nocall_sample[['filename', 'row_id', 'start_sec', 'end_sec', 'file_path',\n",
    "       'duration', 'rating', 'year', 'sin_month', 'cos_month',\n",
    "       'sin_longitude', 'cos_longitude', 'latitude', 'norm_latitude',\n",
    "       'class_weights']]\n",
    "soundscapes_nocall = soundscapes_nocall[['filename', 'row_id', 'start_sec', 'end_sec', 'file_path',\n",
    "       'duration', 'rating', 'year', 'sin_month', 'cos_month',\n",
    "       'sin_longitude', 'cos_longitude', 'latitude', 'norm_latitude',\n",
    "       'class_weights']]\n",
    "\n",
    "soundscapes_nocall['duration']=600\n",
    "\n",
    "all_nocall = pd.concat([nocall_sample, soundscapes_nocall], axis=0, ignore_index=True)\n",
    "\n",
    "all_nocall[\"label_id\"] = dict_birds[\"nocall\"]\n",
    "all_nocall[\"secondary_labels_id\"] = np.nan\n",
    "all_nocall = all_nocall.sample(frac=1, random_state=SEED).reset_index(drop=True)\n",
    "\n",
    "all_nocall.isna().sum()\n",
    "\n",
    "all_nocall['year'].describe()"
   ]
  },
  {
   "cell_type": "code",
   "execution_count": null,
   "metadata": {},
   "outputs": [],
   "source": []
  },
  {
   "cell_type": "markdown",
   "metadata": {},
   "source": [
    "# concat"
   ]
  },
  {
   "cell_type": "code",
   "execution_count": 31,
   "metadata": {},
   "outputs": [
    {
     "data": {
      "text/plain": [
       "(302729, 19)"
      ]
     },
     "execution_count": 31,
     "metadata": {},
     "output_type": "execute_result"
    }
   ],
   "source": [
    "final_audio = (\n",
    "    pd.concat(\n",
    "        [final_sample, all_nocall],\n",
    "        axis=0,\n",
    "        ignore_index=True,\n",
    "    )\n",
    "    .sample(frac=1, random_state=SEED)\n",
    "    .reset_index(drop=True)\n",
    ")\n",
    "final_audio.shape"
   ]
  },
  {
   "cell_type": "code",
   "execution_count": 32,
   "metadata": {},
   "outputs": [
    {
     "data": {
      "text/plain": [
       "lotduc     377\n",
       "amewig     358\n",
       "flrtan1    342\n",
       "sander     338\n",
       "nrwswa     332\n",
       "goowoo1    328\n",
       "rebsap     318\n",
       "higmot1    306\n",
       "grhcha1    253\n",
       "bucmot2    220\n",
       "rthhum     218\n",
       "rehbar1    206\n",
       "gretin1    179\n",
       "heptan     168\n",
       "runwre1    152\n",
       "hofwoo1    117\n",
       "crfpar     110\n",
       "whcpar     109\n",
       "stvhum2     42\n",
       "wegspa1     41\n",
       "Name: primary_label, dtype: int64"
      ]
     },
     "execution_count": 32,
     "metadata": {},
     "output_type": "execute_result"
    }
   ],
   "source": [
    "final_audio[\"primary_label\"].value_counts().tail(20)"
   ]
  },
  {
   "cell_type": "markdown",
   "metadata": {},
   "source": [
    "#  upsampling\n"
   ]
  },
  {
   "cell_type": "code",
   "execution_count": 33,
   "metadata": {},
   "outputs": [],
   "source": [
    "rare_birds = list(final_audio[\"primary_label\"].value_counts().tail(20).index.values)"
   ]
  },
  {
   "cell_type": "code",
   "execution_count": 34,
   "metadata": {},
   "outputs": [
    {
     "data": {
      "text/html": [
       "<div>\n",
       "<style scoped>\n",
       "    .dataframe tbody tr th:only-of-type {\n",
       "        vertical-align: middle;\n",
       "    }\n",
       "\n",
       "    .dataframe tbody tr th {\n",
       "        vertical-align: top;\n",
       "    }\n",
       "\n",
       "    .dataframe thead th {\n",
       "        text-align: right;\n",
       "    }\n",
       "</style>\n",
       "<table border=\"1\" class=\"dataframe\">\n",
       "  <thead>\n",
       "    <tr style=\"text-align: right;\">\n",
       "      <th></th>\n",
       "      <th>end_sec</th>\n",
       "      <th>class_weights</th>\n",
       "      <th>filename</th>\n",
       "    </tr>\n",
       "  </thead>\n",
       "  <tbody>\n",
       "    <tr>\n",
       "      <th>XC113503_5_0</th>\n",
       "      <td>5.00</td>\n",
       "      <td>0.018182</td>\n",
       "      <td>XC113503.ogg</td>\n",
       "    </tr>\n",
       "    <tr>\n",
       "      <th>XC113503_7_62</th>\n",
       "      <td>7.62</td>\n",
       "      <td>0.018182</td>\n",
       "      <td>XC113503.ogg</td>\n",
       "    </tr>\n",
       "    <tr>\n",
       "      <th>XC113503_10_24</th>\n",
       "      <td>10.24</td>\n",
       "      <td>0.018182</td>\n",
       "      <td>XC113503.ogg</td>\n",
       "    </tr>\n",
       "    <tr>\n",
       "      <th>XC113503_12_85</th>\n",
       "      <td>12.85</td>\n",
       "      <td>0.018182</td>\n",
       "      <td>XC113503.ogg</td>\n",
       "    </tr>\n",
       "    <tr>\n",
       "      <th>XC113503_15_48</th>\n",
       "      <td>15.48</td>\n",
       "      <td>0.018182</td>\n",
       "      <td>XC113503.ogg</td>\n",
       "    </tr>\n",
       "    <tr>\n",
       "      <th>...</th>\n",
       "      <td>...</td>\n",
       "      <td>...</td>\n",
       "      <td>...</td>\n",
       "    </tr>\n",
       "    <tr>\n",
       "      <th>XC433788_36_58</th>\n",
       "      <td>36.58</td>\n",
       "      <td>0.200000</td>\n",
       "      <td>XC433788.ogg</td>\n",
       "    </tr>\n",
       "    <tr>\n",
       "      <th>XC433788_36_71</th>\n",
       "      <td>36.71</td>\n",
       "      <td>0.200000</td>\n",
       "      <td>XC433788.ogg</td>\n",
       "    </tr>\n",
       "    <tr>\n",
       "      <th>XC433788_36_84</th>\n",
       "      <td>36.84</td>\n",
       "      <td>0.200000</td>\n",
       "      <td>XC433788.ogg</td>\n",
       "    </tr>\n",
       "    <tr>\n",
       "      <th>XC433788_36_97</th>\n",
       "      <td>36.97</td>\n",
       "      <td>0.200000</td>\n",
       "      <td>XC433788.ogg</td>\n",
       "    </tr>\n",
       "    <tr>\n",
       "      <th>XC433788_36_23</th>\n",
       "      <td>36.23</td>\n",
       "      <td>0.200000</td>\n",
       "      <td>XC433788.ogg</td>\n",
       "    </tr>\n",
       "  </tbody>\n",
       "</table>\n",
       "<p>13415 rows × 3 columns</p>\n",
       "</div>"
      ],
      "text/plain": [
       "                end_sec  class_weights      filename\n",
       "XC113503_5_0       5.00       0.018182  XC113503.ogg\n",
       "XC113503_7_62      7.62       0.018182  XC113503.ogg\n",
       "XC113503_10_24    10.24       0.018182  XC113503.ogg\n",
       "XC113503_12_85    12.85       0.018182  XC113503.ogg\n",
       "XC113503_15_48    15.48       0.018182  XC113503.ogg\n",
       "...                 ...            ...           ...\n",
       "XC433788_36_58    36.58       0.200000  XC433788.ogg\n",
       "XC433788_36_71    36.71       0.200000  XC433788.ogg\n",
       "XC433788_36_84    36.84       0.200000  XC433788.ogg\n",
       "XC433788_36_97    36.97       0.200000  XC433788.ogg\n",
       "XC433788_36_23    36.23       0.200000  XC433788.ogg\n",
       "\n",
       "[13415 rows x 3 columns]"
      ]
     },
     "execution_count": 34,
     "metadata": {},
     "output_type": "execute_result"
    }
   ],
   "source": [
    "df = pd.DataFrame(columns=[\"end_sec\", \"class_weights\", \"filename\"])\n",
    "for bird in rare_birds:\n",
    "    rare_bird_filenames = (\n",
    "    all_audio.query(\"primary_label ==@bird\")[\"filename\"].unique().tolist())\n",
    "    rare_array = all_audio.query(\n",
    "        \"primary_label ==@bird and rating!=0 and rating!=6 and filename in @rare_bird_filenames\"\n",
    "    )[[\"filename\", \"duration\", \"class_weights\"]].values\n",
    "    intervals = make_intervals_upsampling(rare_array,sum_intervals=600)\n",
    "    df = pd.concat([df, intervals], axis=0)\n",
    "\n",
    "df"
   ]
  },
  {
   "cell_type": "code",
   "execution_count": 35,
   "metadata": {},
   "outputs": [
    {
     "data": {
      "text/plain": [
       "(545,)"
      ]
     },
     "execution_count": 35,
     "metadata": {},
     "output_type": "execute_result"
    }
   ],
   "source": [
    "df['filename'].unique().shape"
   ]
  },
  {
   "cell_type": "code",
   "execution_count": 36,
   "metadata": {},
   "outputs": [],
   "source": [
    "df[\"row_id\"] = df.index\n",
    "df = df.merge(\n",
    "    all_audio[\n",
    "        [\n",
    "            \"filename\",\n",
    "            \"primary_label\",\n",
    "            \"secondary_labels\",\n",
    "            \"label_id\",\n",
    "            \"secondary_labels_id\",\n",
    "            \"duration\",\n",
    "            \"rating\",\n",
    "            \"year\",\n",
    "            \"file_path\",\n",
    "            \"frames\",\n",
    "            \"sin_month\",\n",
    "            \"cos_month\",\n",
    "            \"sin_longitude\",\n",
    "            \"cos_longitude\",\n",
    "            \"latitude\",\n",
    "            \"norm_latitude\",\n",
    "            \"date\",\n",
    "        ]\n",
    "    ],\n",
    "    on=\"filename\",\n",
    "    how=\"left\",\n",
    ")\n",
    "df[\"end_sec\"] = df[\"end_sec\"].apply(lambda x: x if x > 5 else 5)\n",
    "df[\"start_sec\"] = df[\"end_sec\"] - 5"
   ]
  },
  {
   "cell_type": "code",
   "execution_count": 37,
   "metadata": {},
   "outputs": [
    {
     "data": {
      "text/plain": [
       "(20,)"
      ]
     },
     "execution_count": 37,
     "metadata": {},
     "output_type": "execute_result"
    }
   ],
   "source": [
    "df['primary_label'].unique().shape"
   ]
  },
  {
   "cell_type": "code",
   "execution_count": 38,
   "metadata": {},
   "outputs": [
    {
     "data": {
      "text/plain": [
       "(316144, 21)"
      ]
     },
     "execution_count": 38,
     "metadata": {},
     "output_type": "execute_result"
    },
    {
     "data": {
      "text/plain": [
       "whimbr     450\n",
       "rudtur     448\n",
       "rufhum     447\n",
       "rucwar     434\n",
       "pavpig2    421\n",
       "semplo     419\n",
       "comgol     416\n",
       "scamac1    413\n",
       "greegr     407\n",
       "grnher     401\n",
       "scrtan1    399\n",
       "leasan     398\n",
       "blctan1    398\n",
       "commer     397\n",
       "norsho     397\n",
       "sthwoo1    394\n",
       "cacgoo1    387\n",
       "wooduc     383\n",
       "brwpar1    381\n",
       "buwtea     378\n",
       "Name: primary_label, dtype: int64"
      ]
     },
     "execution_count": 38,
     "metadata": {},
     "output_type": "execute_result"
    }
   ],
   "source": [
    "final_audio = (\n",
    "    pd.concat(\n",
    "        [final_audio, df],\n",
    "        axis=0,\n",
    "        ignore_index=True,\n",
    "    )\n",
    "    .sample(frac=1, random_state=SEED)\n",
    "    .reset_index(drop=True)\n",
    ")\n",
    "final_audio.shape\n",
    "\n",
    "final_audio[\"primary_label\"].value_counts().tail(20)"
   ]
  },
  {
   "cell_type": "code",
   "execution_count": 39,
   "metadata": {},
   "outputs": [],
   "source": [
    "train, valid = train_test_split(final_audio, train_size=0.8, random_state=SEED)\n",
    "train = train.reset_index(drop=True)\n",
    "valid = valid.reset_index(drop=True)"
   ]
  },
  {
   "cell_type": "markdown",
   "metadata": {},
   "source": [
    "# MEL_Gen"
   ]
  },
  {
   "cell_type": "code",
   "execution_count": 40,
   "metadata": {},
   "outputs": [],
   "source": [
    "NUM_CLASSES = len(dict_birds)\n",
    "BATCH_SIZE = 224"
   ]
  },
  {
   "cell_type": "code",
   "execution_count": 41,
   "metadata": {},
   "outputs": [],
   "source": [
    "mel_pr = Mel_Provider(\n",
    "    n_fft=N_FFT,\n",
    "    win_length=WIN_LENGHT,\n",
    "    n_mels=IMG_SIZE,\n",
    "    sample_rate=SAMPLE_RATE,\n",
    "    mel_image_size=IMG_SIZE,\n",
    "    min_frequency=FREQ_MIN,\n",
    "    max_frequency=FREQ_MAX,\n",
    "    signal_lenght=SIGNAL_LENGTH,\n",
    ")"
   ]
  },
  {
   "cell_type": "code",
   "execution_count": 42,
   "metadata": {},
   "outputs": [],
   "source": [
    "# shutil.rmtree('/app/_data/npy/short_mels_224_uint8/', ignore_errors=True)"
   ]
  },
  {
   "cell_type": "code",
   "execution_count": 43,
   "metadata": {},
   "outputs": [],
   "source": [
    "gen_train = MEL_Gen(\n",
    "    df=train,\n",
    "    n_mels=IMG_SIZE,\n",
    "    seed=SEED,\n",
    "    sample_rate=SAMPLE_RATE,\n",
    "    mel_image_size=IMG_SIZE,\n",
    "    batch_size=BATCH_SIZE,\n",
    "    n_classes=NUM_CLASSES,\n",
    "    signal_lenght=SIGNAL_LENGTH,\n",
    "    mel_provider=mel_pr,\n",
    "    wave_dir=\"/app/_data/npy/waves_npy/\",\n",
    "    short_mel_dir=\"/app/_data/npy/short_mels_260_uint8/\",\n",
    "    convert_to_rgb=True,\n",
    "    shuffle=True,\n",
    "    return_primary_labels=False,\n",
    "    return_concat_labels=True,\n",
    "    augment=False,\n",
    "    img_dtype=\"uint8\",\n",
    "    secondary_coeff=0.3\n",
    ")\n",
    "gen_valid = MEL_Gen(\n",
    "    df=valid,\n",
    "    n_mels=IMG_SIZE,\n",
    "    seed=SEED,\n",
    "    sample_rate=SAMPLE_RATE,\n",
    "    mel_image_size=IMG_SIZE,\n",
    "    batch_size=BATCH_SIZE,\n",
    "    n_classes=NUM_CLASSES,\n",
    "    signal_lenght=SIGNAL_LENGTH,\n",
    "    mel_provider=mel_pr,\n",
    "    wave_dir=\"/app/_data/npy/waves_npy/\",\n",
    "    short_mel_dir=\"/app/_data/npy/short_mels_260_uint8/\",\n",
    "    convert_to_rgb=True,\n",
    "    shuffle=False,\n",
    "    return_primary_labels=False,\n",
    "    return_concat_labels=True,\n",
    "    augment=False,\n",
    "    img_dtype=\"uint8\",\n",
    "    secondary_coeff=0.3\n",
    ")"
   ]
  },
  {
   "cell_type": "code",
   "execution_count": 44,
   "metadata": {},
   "outputs": [],
   "source": [
    "a = gen_train.__getitem__(0)"
   ]
  },
  {
   "cell_type": "code",
   "execution_count": 45,
   "metadata": {},
   "outputs": [
    {
     "data": {
      "text/plain": [
       "<matplotlib.image.AxesImage at 0x7fedb64ae250>"
      ]
     },
     "execution_count": 45,
     "metadata": {},
     "output_type": "execute_result"
    },
    {
     "data": {
      "image/png": "[encoded data removed]",
      "text/plain": [
       "<Figure size 432x288 with 1 Axes>"
      ]
     },
     "metadata": {
      "image/png": {
       "height": 251,
       "width": 259
      },
      "needs_background": "light"
     },
     "output_type": "display_data"
    }
   ],
   "source": [
    "plt.imshow(a[0][0])"
   ]
  },
  {
   "cell_type": "markdown",
   "metadata": {},
   "source": [
    "# model"
   ]
  },
  {
   "cell_type": "code",
   "execution_count": 46,
   "metadata": {},
   "outputs": [
    {
     "name": "stdout",
     "output_type": "stream",
     "text": [
      "INFO:tensorflow:Mixed precision compatibility check (mixed_float16): OK\n",
      "Your GPU will likely run quickly with dtype policy mixed_float16 as it has compute capability of at least 7.0. Your GPU: NVIDIA GeForce RTX 3090, compute capability 8.6\n"
     ]
    }
   ],
   "source": [
    "def get_model():\n",
    "    inputs = keras.Input(shape=(IMG_SIZE, IMG_SIZE, 3))\n",
    "    base_model = keras.applications.EfficientNetB2(\n",
    "        weights=\"imagenet\", include_top=False\n",
    "    )\n",
    "    x = base_model(inputs)\n",
    "    x = keras.layers.GlobalAveragePooling2D(name=\"avg_pool\")(x)\n",
    "    x = keras.layers.Flatten(name=\"flatten\")(x)\n",
    "    outputs = keras.layers.Dense(NUM_CLASSES, activation=\"sigmoid\")(x)\n",
    "    model = keras.Model(inputs=inputs, outputs=outputs)\n",
    "    model.compile(\n",
    "        loss=\"binary_crossentropy\",\n",
    "        optimizer=Adam(lr=0.0005),\n",
    "        metrics=[\n",
    "            \"acc\",\n",
    "            keras.metrics.Recall(),\n",
    "            keras.metrics.Precision(),\n",
    "            tfa.metrics.F1Score(num_classes=NUM_CLASSES, average=\"micro\"),\n",
    "        ],\n",
    "    )\n",
    "    return model\n",
    "\n",
    "\n",
    "policy = keras.mixed_precision.experimental.Policy(\"mixed_float16\")\n",
    "keras.mixed_precision.experimental.set_policy(policy)"
   ]
  },
  {
   "cell_type": "code",
   "execution_count": 47,
   "metadata": {},
   "outputs": [],
   "source": [
    "callbacks = [\n",
    "    keras.callbacks.EarlyStopping(\n",
    "        monitor=\"val_loss\",\n",
    "        patience=12,\n",
    "        restore_best_weights=True,\n",
    "        verbose=1,\n",
    "        mode=\"min\",\n",
    "    ),\n",
    "    keras.callbacks.ModelCheckpoint(\n",
    "        \"/app/_data/models/from_nocall/Eff2_3/Eff2_3.h5\",\n",
    "        monitor=\"val_loss\",\n",
    "        verbose=1,\n",
    "        save_best_only=True,\n",
    "        save_weights_only=False,\n",
    "        mode=\"min\",\n",
    "        save_freq=\"epoch\",\n",
    "    ),\n",
    "    keras.callbacks.ReduceLROnPlateau(\n",
    "        monitor=\"val_loss\",\n",
    "        factor=0.9,\n",
    "        patience=5,\n",
    "        verbose=1,\n",
    "        mode=\"min\",\n",
    "        min_delta=1e-4,\n",
    "        min_lr=0.00000001,\n",
    "    ),\n",
    "    keras.callbacks.TensorBoard(\n",
    "        log_dir=\"/app/.tensorboard/Eff2_3_nc/\", histogram_freq=0\n",
    "    ),\n",
    "    keras.callbacks.experimental.BackupAndRestore(\n",
    "        \"/app/_data/models/from_nocall/Eff2_3/backup/\"\n",
    "    ),\n",
    "    keras.callbacks.TerminateOnNaN(),\n",
    "]"
   ]
  },
  {
   "cell_type": "code",
   "execution_count": 48,
   "metadata": {},
   "outputs": [
    {
     "name": "stdout",
     "output_type": "stream",
     "text": [
      "Epoch 1/100\n",
      "   1/1129 [..............................] - ETA: 5s - loss: 0.7065 - acc: 0.0000e+00 - recall: 0.4889 - precision: 0.0050 - f1_score: 0.0023WARNING:tensorflow:From /usr/local/lib/python3.8/dist-packages/tensorflow/python/ops/summary_ops_v2.py:1277: stop (from tensorflow.python.eager.profiler) is deprecated and will be removed after 2020-07-01.\n",
      "Instructions for updating:\n",
      "use `tf.profiler.experimental.stop` instead.\n",
      "1129/1129 [==============================] - ETA: 0s - loss: 0.0221 - acc: 0.1436 - recall: 0.0173 - precision: 0.0608 - f1_score: 0.1357\n",
      "Epoch 00001: val_loss improved from inf to 0.01316, saving model to /app/_data/models/from_nocall/Eff2_3/Eff2_3.h5\n",
      "1129/1129 [==============================] - 1409s 1s/step - loss: 0.0221 - acc: 0.1436 - recall: 0.0173 - precision: 0.0608 - f1_score: 0.1357 - val_loss: 0.0132 - val_acc: 0.4396 - val_recall: 0.1599 - val_precision: 0.6941 - val_f1_score: 0.3925\n",
      "Epoch 2/100\n",
      "1129/1129 [==============================] - ETA: 0s - loss: 0.0094 - acc: 0.6283 - recall: 0.2199 - precision: 0.8960 - f1_score: 0.5551\n",
      "Epoch 00002: val_loss improved from 0.01316 to 0.00804, saving model to /app/_data/models/from_nocall/Eff2_3/Eff2_3.h5\n",
      "1129/1129 [==============================] - 861s 763ms/step - loss: 0.0094 - acc: 0.6283 - recall: 0.2199 - precision: 0.8960 - f1_score: 0.5551 - val_loss: 0.0080 - val_acc: 0.7102 - val_recall: 0.3070 - val_precision: 0.8862 - val_f1_score: 0.6266\n",
      "Epoch 3/100\n",
      "1129/1129 [==============================] - ETA: 0s - loss: 0.0071 - acc: 0.7713 - recall: 0.3381 - precision: 0.9241 - f1_score: 0.6780\n",
      "Epoch 00003: val_loss improved from 0.00804 to 0.00671, saving model to /app/_data/models/from_nocall/Eff2_3/Eff2_3.h5\n",
      "1129/1129 [==============================] - 880s 779ms/step - loss: 0.0071 - acc: 0.7713 - recall: 0.3381 - precision: 0.9241 - f1_score: 0.6780 - val_loss: 0.0067 - val_acc: 0.7822 - val_recall: 0.3597 - val_precision: 0.9179 - val_f1_score: 0.6884\n",
      "Epoch 4/100\n",
      "1129/1129 [==============================] - ETA: 0s - loss: 0.0058 - acc: 0.8356 - recall: 0.3905 - precision: 0.9427 - f1_score: 0.7326\n",
      "Epoch 00004: val_loss improved from 0.00671 to 0.00588, saving model to /app/_data/models/from_nocall/Eff2_3/Eff2_3.h5\n",
      "1129/1129 [==============================] - 866s 767ms/step - loss: 0.0058 - acc: 0.8356 - recall: 0.3905 - precision: 0.9427 - f1_score: 0.7326 - val_loss: 0.0059 - val_acc: 0.8278 - val_recall: 0.4101 - val_precision: 0.9145 - val_f1_score: 0.7274\n",
      "Epoch 5/100\n",
      "1129/1129 [==============================] - ETA: 0s - loss: 0.0050 - acc: 0.8771 - recall: 0.4250 - precision: 0.9542 - f1_score: 0.7672\n",
      "Epoch 00005: val_loss improved from 0.00588 to 0.00534, saving model to /app/_data/models/from_nocall/Eff2_3/Eff2_3.h5\n",
      "1129/1129 [==============================] - 875s 775ms/step - loss: 0.0050 - acc: 0.8771 - recall: 0.4250 - precision: 0.9542 - f1_score: 0.7672 - val_loss: 0.0053 - val_acc: 0.8480 - val_recall: 0.4263 - val_precision: 0.9248 - val_f1_score: 0.7445\n",
      "Epoch 6/100\n",
      "1129/1129 [==============================] - ETA: 0s - loss: 0.0044 - acc: 0.9057 - recall: 0.4505 - precision: 0.9630 - f1_score: 0.7908\n",
      "Epoch 00006: val_loss improved from 0.00534 to 0.00494, saving model to /app/_data/models/from_nocall/Eff2_3/Eff2_3.h5\n",
      "1129/1129 [==============================] - 828s 734ms/step - loss: 0.0044 - acc: 0.9057 - recall: 0.4505 - precision: 0.9630 - f1_score: 0.7908 - val_loss: 0.0049 - val_acc: 0.8687 - val_recall: 0.4480 - val_precision: 0.9293 - val_f1_score: 0.7616\n",
      "Epoch 7/100\n",
      "1129/1129 [==============================] - ETA: 0s - loss: 0.0040 - acc: 0.9270 - recall: 0.4700 - precision: 0.9705 - f1_score: 0.8079\n",
      "Epoch 00007: val_loss improved from 0.00494 to 0.00468, saving model to /app/_data/models/from_nocall/Eff2_3/Eff2_3.h5\n",
      "1129/1129 [==============================] - 878s 778ms/step - loss: 0.0040 - acc: 0.9270 - recall: 0.4700 - precision: 0.9705 - f1_score: 0.8079 - val_loss: 0.0047 - val_acc: 0.8829 - val_recall: 0.4727 - val_precision: 0.9310 - val_f1_score: 0.7733\n",
      "Epoch 8/100\n",
      "1129/1129 [==============================] - ETA: 0s - loss: 0.0036 - acc: 0.9420 - recall: 0.4858 - precision: 0.9762 - f1_score: 0.8201\n",
      "Epoch 00008: val_loss improved from 0.00468 to 0.00451, saving model to /app/_data/models/from_nocall/Eff2_3/Eff2_3.h5\n",
      "1129/1129 [==============================] - 884s 783ms/step - loss: 0.0036 - acc: 0.9420 - recall: 0.4858 - precision: 0.9762 - f1_score: 0.8201 - val_loss: 0.0045 - val_acc: 0.8893 - val_recall: 0.4609 - val_precision: 0.9470 - val_f1_score: 0.7786\n",
      "Epoch 9/100\n",
      "1129/1129 [==============================] - ETA: 0s - loss: 0.0033 - acc: 0.9545 - recall: 0.4980 - precision: 0.9806 - f1_score: 0.8298\n",
      "Epoch 00009: val_loss did not improve from 0.00451\n",
      "1129/1129 [==============================] - 880s 779ms/step - loss: 0.0033 - acc: 0.9545 - recall: 0.4980 - precision: 0.9806 - f1_score: 0.8298 - val_loss: 0.0045 - val_acc: 0.8886 - val_recall: 0.4727 - val_precision: 0.9394 - val_f1_score: 0.7781\n",
      "Epoch 10/100\n",
      "1129/1129 [==============================] - ETA: 0s - loss: 0.0032 - acc: 0.9618 - recall: 0.5072 - precision: 0.9841 - f1_score: 0.8355\n",
      "Epoch 00010: val_loss improved from 0.00451 to 0.00446, saving model to /app/_data/models/from_nocall/Eff2_3/Eff2_3.h5\n",
      "1129/1129 [==============================] - 880s 779ms/step - loss: 0.0032 - acc: 0.9618 - recall: 0.5072 - precision: 0.9841 - f1_score: 0.8355 - val_loss: 0.0045 - val_acc: 0.8912 - val_recall: 0.4742 - val_precision: 0.9449 - val_f1_score: 0.7806\n",
      "Epoch 11/100\n",
      "1129/1129 [==============================] - ETA: 0s - loss: 0.0030 - acc: 0.9681 - recall: 0.5141 - precision: 0.9860 - f1_score: 0.8403\n",
      "Epoch 00011: val_loss improved from 0.00446 to 0.00425, saving model to /app/_data/models/from_nocall/Eff2_3/Eff2_3.h5\n",
      "1129/1129 [==============================] - 867s 768ms/step - loss: 0.0030 - acc: 0.9681 - recall: 0.5141 - precision: 0.9860 - f1_score: 0.8403 - val_loss: 0.0043 - val_acc: 0.8994 - val_recall: 0.4908 - val_precision: 0.9471 - val_f1_score: 0.7873\n",
      "Epoch 12/100\n",
      "1129/1129 [==============================] - ETA: 0s - loss: 0.0029 - acc: 0.9731 - recall: 0.5196 - precision: 0.9881 - f1_score: 0.8440\n",
      "Epoch 00012: val_loss improved from 0.00425 to 0.00409, saving model to /app/_data/models/from_nocall/Eff2_3/Eff2_3.h5\n",
      "1129/1129 [==============================] - 873s 773ms/step - loss: 0.0029 - acc: 0.9731 - recall: 0.5196 - precision: 0.9881 - f1_score: 0.8440 - val_loss: 0.0041 - val_acc: 0.9056 - val_recall: 0.4851 - val_precision: 0.9542 - val_f1_score: 0.7924\n",
      "Epoch 13/100\n",
      "1129/1129 [==============================] - ETA: 0s - loss: 0.0028 - acc: 0.9765 - recall: 0.5235 - precision: 0.9898 - f1_score: 0.8466\n",
      "Epoch 00013: val_loss improved from 0.00409 to 0.00404, saving model to /app/_data/models/from_nocall/Eff2_3/Eff2_3.h5\n",
      "1129/1129 [==============================] - 870s 771ms/step - loss: 0.0028 - acc: 0.9765 - recall: 0.5235 - precision: 0.9898 - f1_score: 0.8466 - val_loss: 0.0040 - val_acc: 0.9063 - val_recall: 0.5027 - val_precision: 0.9517 - val_f1_score: 0.7930\n",
      "Epoch 14/100\n",
      "1129/1129 [==============================] - ETA: 0s - loss: 0.0027 - acc: 0.9795 - recall: 0.5271 - precision: 0.9909 - f1_score: 0.8488\n",
      "Epoch 00014: val_loss improved from 0.00404 to 0.00399, saving model to /app/_data/models/from_nocall/Eff2_3/Eff2_3.h5\n",
      "1129/1129 [==============================] - 902s 799ms/step - loss: 0.0027 - acc: 0.9795 - recall: 0.5271 - precision: 0.9909 - f1_score: 0.8488 - val_loss: 0.0040 - val_acc: 0.9117 - val_recall: 0.5039 - val_precision: 0.9554 - val_f1_score: 0.7971\n",
      "Epoch 15/100\n",
      "1129/1129 [==============================] - ETA: 0s - loss: 0.0026 - acc: 0.9816 - recall: 0.5295 - precision: 0.9918 - f1_score: 0.8504\n",
      "Epoch 00015: val_loss improved from 0.00399 to 0.00390, saving model to /app/_data/models/from_nocall/Eff2_3/Eff2_3.h5\n",
      "1129/1129 [==============================] - 918s 813ms/step - loss: 0.0026 - acc: 0.9816 - recall: 0.5295 - precision: 0.9918 - f1_score: 0.8504 - val_loss: 0.0039 - val_acc: 0.9143 - val_recall: 0.4984 - val_precision: 0.9595 - val_f1_score: 0.7994\n",
      "Epoch 16/100\n",
      "1129/1129 [==============================] - ETA: 0s - loss: 0.0026 - acc: 0.9836 - recall: 0.5317 - precision: 0.9929 - f1_score: 0.8518\n",
      "Epoch 00016: val_loss did not improve from 0.00390\n",
      "1129/1129 [==============================] - 915s 811ms/step - loss: 0.0026 - acc: 0.9836 - recall: 0.5317 - precision: 0.9929 - f1_score: 0.8518 - val_loss: 0.0040 - val_acc: 0.9142 - val_recall: 0.4936 - val_precision: 0.9622 - val_f1_score: 0.7993\n",
      "Epoch 17/100\n",
      "1129/1129 [==============================] - ETA: 0s - loss: 0.0025 - acc: 0.9857 - recall: 0.5339 - precision: 0.9936 - f1_score: 0.8533\n",
      "Epoch 00017: val_loss improved from 0.00390 to 0.00379, saving model to /app/_data/models/from_nocall/Eff2_3/Eff2_3.h5\n",
      "1129/1129 [==============================] - 872s 773ms/step - loss: 0.0025 - acc: 0.9857 - recall: 0.5339 - precision: 0.9936 - f1_score: 0.8533 - val_loss: 0.0038 - val_acc: 0.9165 - val_recall: 0.5095 - val_precision: 0.9619 - val_f1_score: 0.8014\n",
      "Epoch 18/100\n",
      "1129/1129 [==============================] - ETA: 0s - loss: 0.0025 - acc: 0.9866 - recall: 0.5348 - precision: 0.9938 - f1_score: 0.8539\n",
      "Epoch 00018: val_loss did not improve from 0.00379\n",
      "1129/1129 [==============================] - 761s 674ms/step - loss: 0.0025 - acc: 0.9866 - recall: 0.5348 - precision: 0.9938 - f1_score: 0.8539 - val_loss: 0.0038 - val_acc: 0.9190 - val_recall: 0.5074 - val_precision: 0.9637 - val_f1_score: 0.8030\n",
      "Epoch 19/100\n",
      "1129/1129 [==============================] - ETA: 0s - loss: 0.0024 - acc: 0.9877 - recall: 0.5356 - precision: 0.9946 - f1_score: 0.8547\n",
      "Epoch 00019: val_loss improved from 0.00379 to 0.00377, saving model to /app/_data/models/from_nocall/Eff2_3/Eff2_3.h5\n",
      "1129/1129 [==============================] - 755s 669ms/step - loss: 0.0024 - acc: 0.9877 - recall: 0.5356 - precision: 0.9946 - f1_score: 0.8547 - val_loss: 0.0038 - val_acc: 0.9190 - val_recall: 0.5123 - val_precision: 0.9612 - val_f1_score: 0.8025\n",
      "Epoch 20/100\n",
      "1129/1129 [==============================] - ETA: 0s - loss: 0.0024 - acc: 0.9889 - recall: 0.5374 - precision: 0.9953 - f1_score: 0.8556\n",
      "Epoch 00020: val_loss improved from 0.00377 to 0.00366, saving model to /app/_data/models/from_nocall/Eff2_3/Eff2_3.h5\n",
      "1129/1129 [==============================] - 748s 662ms/step - loss: 0.0024 - acc: 0.9889 - recall: 0.5374 - precision: 0.9953 - f1_score: 0.8556 - val_loss: 0.0037 - val_acc: 0.9225 - val_recall: 0.5206 - val_precision: 0.9657 - val_f1_score: 0.8059\n",
      "Epoch 21/100\n",
      "1129/1129 [==============================] - ETA: 0s - loss: 0.0024 - acc: 0.9897 - recall: 0.5377 - precision: 0.9953 - f1_score: 0.8561\n",
      "Epoch 00021: val_loss did not improve from 0.00366\n",
      "1129/1129 [==============================] - 697s 617ms/step - loss: 0.0024 - acc: 0.9897 - recall: 0.5377 - precision: 0.9953 - f1_score: 0.8561 - val_loss: 0.0037 - val_acc: 0.9228 - val_recall: 0.5054 - val_precision: 0.9665 - val_f1_score: 0.8061\n",
      "Epoch 22/100\n",
      "1129/1129 [==============================] - ETA: 0s - loss: 0.0023 - acc: 0.9898 - recall: 0.5375 - precision: 0.9953 - f1_score: 0.8561\n",
      "Epoch 00022: val_loss improved from 0.00366 to 0.00365, saving model to /app/_data/models/from_nocall/Eff2_3/Eff2_3.h5\n",
      "1129/1129 [==============================] - 656s 581ms/step - loss: 0.0023 - acc: 0.9898 - recall: 0.5375 - precision: 0.9953 - f1_score: 0.8561 - val_loss: 0.0037 - val_acc: 0.9235 - val_recall: 0.5097 - val_precision: 0.9679 - val_f1_score: 0.8066\n",
      "Epoch 23/100\n",
      "1129/1129 [==============================] - ETA: 0s - loss: 0.0023 - acc: 0.9915 - recall: 0.5382 - precision: 0.9961 - f1_score: 0.8574\n",
      "Epoch 00023: val_loss improved from 0.00365 to 0.00364, saving model to /app/_data/models/from_nocall/Eff2_3/Eff2_3.h5\n",
      "1129/1129 [==============================] - 644s 570ms/step - loss: 0.0023 - acc: 0.9915 - recall: 0.5382 - precision: 0.9961 - f1_score: 0.8574 - val_loss: 0.0036 - val_acc: 0.9258 - val_recall: 0.5057 - val_precision: 0.9694 - val_f1_score: 0.8083\n",
      "Epoch 24/100\n",
      "1129/1129 [==============================] - ETA: 0s - loss: 0.0023 - acc: 0.9920 - recall: 0.5385 - precision: 0.9964 - f1_score: 0.8577\n",
      "Epoch 00024: val_loss improved from 0.00364 to 0.00360, saving model to /app/_data/models/from_nocall/Eff2_3/Eff2_3.h5\n",
      "1129/1129 [==============================] - 662s 586ms/step - loss: 0.0023 - acc: 0.9920 - recall: 0.5385 - precision: 0.9964 - f1_score: 0.8577 - val_loss: 0.0036 - val_acc: 0.9273 - val_recall: 0.5178 - val_precision: 0.9684 - val_f1_score: 0.8095\n",
      "Epoch 25/100\n",
      "1129/1129 [==============================] - ETA: 0s - loss: 0.0023 - acc: 0.9919 - recall: 0.5379 - precision: 0.9964 - f1_score: 0.8576\n",
      "Epoch 00025: val_loss did not improve from 0.00360\n",
      "\n",
      "Epoch 00025: ReduceLROnPlateau reducing learning rate to 0.0004500000213738531.\n",
      "1129/1129 [==============================] - 712s 631ms/step - loss: 0.0023 - acc: 0.9919 - recall: 0.5379 - precision: 0.9964 - f1_score: 0.8576 - val_loss: 0.0036 - val_acc: 0.9249 - val_recall: 0.5174 - val_precision: 0.9666 - val_f1_score: 0.8077\n",
      "Epoch 26/100\n",
      "1129/1129 [==============================] - ETA: 0s - loss: 0.0022 - acc: 0.9943 - recall: 0.5374 - precision: 0.9974 - f1_score: 0.8593\n",
      "Epoch 00026: val_loss improved from 0.00360 to 0.00346, saving model to /app/_data/models/from_nocall/Eff2_3/Eff2_3.h5\n",
      "1129/1129 [==============================] - 680s 602ms/step - loss: 0.0022 - acc: 0.9943 - recall: 0.5374 - precision: 0.9974 - f1_score: 0.8593 - val_loss: 0.0035 - val_acc: 0.9317 - val_recall: 0.5253 - val_precision: 0.9721 - val_f1_score: 0.8131\n",
      "Epoch 27/100\n",
      "1129/1129 [==============================] - ETA: 0s - loss: 0.0021 - acc: 0.9950 - recall: 0.5372 - precision: 0.9979 - f1_score: 0.8598\n",
      "Epoch 00027: val_loss did not improve from 0.00346\n",
      "1129/1129 [==============================] - 710s 629ms/step - loss: 0.0021 - acc: 0.9950 - recall: 0.5372 - precision: 0.9979 - f1_score: 0.8598 - val_loss: 0.0035 - val_acc: 0.9300 - val_recall: 0.5222 - val_precision: 0.9691 - val_f1_score: 0.8117\n",
      "Epoch 28/100\n",
      "1129/1129 [==============================] - ETA: 0s - loss: 0.0021 - acc: 0.9951 - recall: 0.5375 - precision: 0.9979 - f1_score: 0.8598\n",
      "Epoch 00028: val_loss did not improve from 0.00346\n",
      "1129/1129 [==============================] - 755s 669ms/step - loss: 0.0021 - acc: 0.9951 - recall: 0.5375 - precision: 0.9979 - f1_score: 0.8598 - val_loss: 0.0036 - val_acc: 0.9303 - val_recall: 0.5038 - val_precision: 0.9747 - val_f1_score: 0.8119\n",
      "Epoch 29/100\n",
      "1129/1129 [==============================] - ETA: 0s - loss: 0.0021 - acc: 0.9951 - recall: 0.5368 - precision: 0.9979 - f1_score: 0.8599\n",
      "Epoch 00029: val_loss did not improve from 0.00346\n",
      "1129/1129 [==============================] - 923s 817ms/step - loss: 0.0021 - acc: 0.9951 - recall: 0.5368 - precision: 0.9979 - f1_score: 0.8599 - val_loss: 0.0035 - val_acc: 0.9315 - val_recall: 0.5064 - val_precision: 0.9752 - val_f1_score: 0.8132\n",
      "Epoch 30/100\n",
      "1129/1129 [==============================] - ETA: 0s - loss: 0.0021 - acc: 0.9954 - recall: 0.5368 - precision: 0.9980 - f1_score: 0.8600\n",
      "Epoch 00030: val_loss did not improve from 0.00346\n",
      "1129/1129 [==============================] - 964s 854ms/step - loss: 0.0021 - acc: 0.9954 - recall: 0.5368 - precision: 0.9980 - f1_score: 0.8600 - val_loss: 0.0035 - val_acc: 0.9315 - val_recall: 0.5063 - val_precision: 0.9735 - val_f1_score: 0.8128\n",
      "Epoch 31/100\n",
      "1129/1129 [==============================] - ETA: 0s - loss: 0.0021 - acc: 0.9959 - recall: 0.5357 - precision: 0.9982 - f1_score: 0.8604\n",
      "Epoch 00031: val_loss improved from 0.00346 to 0.00345, saving model to /app/_data/models/from_nocall/Eff2_3/Eff2_3.h5\n",
      "\n",
      "Epoch 00031: ReduceLROnPlateau reducing learning rate to 0.0004050000192364678.\n",
      "1129/1129 [==============================] - 1037s 919ms/step - loss: 0.0021 - acc: 0.9959 - recall: 0.5357 - precision: 0.9982 - f1_score: 0.8604 - val_loss: 0.0034 - val_acc: 0.9326 - val_recall: 0.5215 - val_precision: 0.9725 - val_f1_score: 0.8136\n",
      "Epoch 32/100\n",
      "1129/1129 [==============================] - ETA: 0s - loss: 0.0020 - acc: 0.9968 - recall: 0.5342 - precision: 0.9987 - f1_score: 0.8610\n",
      "Epoch 00032: val_loss improved from 0.00345 to 0.00340, saving model to /app/_data/models/from_nocall/Eff2_3/Eff2_3.h5\n",
      "1129/1129 [==============================] - 983s 871ms/step - loss: 0.0020 - acc: 0.9968 - recall: 0.5342 - precision: 0.9987 - f1_score: 0.8610 - val_loss: 0.0034 - val_acc: 0.9348 - val_recall: 0.5247 - val_precision: 0.9741 - val_f1_score: 0.8155\n",
      "Epoch 33/100\n",
      "1129/1129 [==============================] - ETA: 0s - loss: 0.0020 - acc: 0.9970 - recall: 0.5334 - precision: 0.9986 - f1_score: 0.8611\n",
      "Epoch 00033: val_loss did not improve from 0.00340\n",
      "1129/1129 [==============================] - 967s 856ms/step - loss: 0.0020 - acc: 0.9970 - recall: 0.5334 - precision: 0.9986 - f1_score: 0.8611 - val_loss: 0.0034 - val_acc: 0.9351 - val_recall: 0.5216 - val_precision: 0.9750 - val_f1_score: 0.8157\n",
      "Epoch 34/100\n",
      "1129/1129 [==============================] - ETA: 0s - loss: 0.0020 - acc: 0.9972 - recall: 0.5329 - precision: 0.9988 - f1_score: 0.8613\n",
      "Epoch 00034: val_loss did not improve from 0.00340\n",
      "1129/1129 [==============================] - 954s 845ms/step - loss: 0.0020 - acc: 0.9972 - recall: 0.5329 - precision: 0.9988 - f1_score: 0.8613 - val_loss: 0.0034 - val_acc: 0.9350 - val_recall: 0.5202 - val_precision: 0.9755 - val_f1_score: 0.8155\n",
      "Epoch 35/100\n",
      "1129/1129 [==============================] - ETA: 0s - loss: 0.0020 - acc: 0.9973 - recall: 0.5332 - precision: 0.9988 - f1_score: 0.8613\n",
      "Epoch 00035: val_loss improved from 0.00340 to 0.00339, saving model to /app/_data/models/from_nocall/Eff2_3/Eff2_3.h5\n",
      "1129/1129 [==============================] - 977s 865ms/step - loss: 0.0020 - acc: 0.9973 - recall: 0.5332 - precision: 0.9988 - f1_score: 0.8613 - val_loss: 0.0034 - val_acc: 0.9350 - val_recall: 0.5199 - val_precision: 0.9754 - val_f1_score: 0.8157\n",
      "Epoch 36/100\n",
      "1129/1129 [==============================] - ETA: 0s - loss: 0.0020 - acc: 0.9977 - recall: 0.5321 - precision: 0.9989 - f1_score: 0.8616\n",
      "Epoch 00036: val_loss improved from 0.00339 to 0.00337, saving model to /app/_data/models/from_nocall/Eff2_3/Eff2_3.h5\n",
      "\n",
      "Epoch 00036: ReduceLROnPlateau reducing learning rate to 0.0003645000251708552.\n",
      "1129/1129 [==============================] - 1021s 905ms/step - loss: 0.0020 - acc: 0.9977 - recall: 0.5321 - precision: 0.9989 - f1_score: 0.8616 - val_loss: 0.0034 - val_acc: 0.9365 - val_recall: 0.5134 - val_precision: 0.9771 - val_f1_score: 0.8168\n",
      "Epoch 37/100\n",
      "1129/1129 [==============================] - ETA: 0s - loss: 0.0020 - acc: 0.9977 - recall: 0.5300 - precision: 0.9990 - f1_score: 0.8616\n",
      "Epoch 00037: val_loss improved from 0.00337 to 0.00330, saving model to /app/_data/models/from_nocall/Eff2_3/Eff2_3.h5\n",
      "1129/1129 [==============================] - 997s 883ms/step - loss: 0.0020 - acc: 0.9977 - recall: 0.5300 - precision: 0.9990 - f1_score: 0.8616 - val_loss: 0.0033 - val_acc: 0.9374 - val_recall: 0.5195 - val_precision: 0.9765 - val_f1_score: 0.8175\n",
      "Epoch 38/100\n",
      "1129/1129 [==============================] - ETA: 0s - loss: 0.0019 - acc: 0.9980 - recall: 0.5288 - precision: 0.9991 - f1_score: 0.8618\n",
      "Epoch 00038: val_loss improved from 0.00330 to 0.00327, saving model to /app/_data/models/from_nocall/Eff2_3/Eff2_3.h5\n",
      "1129/1129 [==============================] - 877s 777ms/step - loss: 0.0019 - acc: 0.9980 - recall: 0.5288 - precision: 0.9991 - f1_score: 0.8618 - val_loss: 0.0033 - val_acc: 0.9385 - val_recall: 0.5214 - val_precision: 0.9775 - val_f1_score: 0.8183\n",
      "Epoch 39/100\n",
      "1129/1129 [==============================] - ETA: 0s - loss: 0.0019 - acc: 0.9983 - recall: 0.5285 - precision: 0.9993 - f1_score: 0.8621\n",
      "Epoch 00039: val_loss did not improve from 0.00327\n",
      "1129/1129 [==============================] - 1024s 907ms/step - loss: 0.0019 - acc: 0.9983 - recall: 0.5285 - precision: 0.9993 - f1_score: 0.8621 - val_loss: 0.0033 - val_acc: 0.9401 - val_recall: 0.5079 - val_precision: 0.9786 - val_f1_score: 0.8195\n",
      "Epoch 40/100\n",
      "1129/1129 [==============================] - ETA: 0s - loss: 0.0019 - acc: 0.9982 - recall: 0.5286 - precision: 0.9993 - f1_score: 0.8620\n",
      "Epoch 00040: val_loss did not improve from 0.00327\n",
      "1129/1129 [==============================] - 1054s 933ms/step - loss: 0.0019 - acc: 0.9982 - recall: 0.5286 - precision: 0.9993 - f1_score: 0.8620 - val_loss: 0.0033 - val_acc: 0.9385 - val_recall: 0.5129 - val_precision: 0.9788 - val_f1_score: 0.8183\n",
      "Epoch 41/100\n",
      "1129/1129 [==============================] - ETA: 0s - loss: 0.0019 - acc: 0.9984 - recall: 0.5276 - precision: 0.9993 - f1_score: 0.8621\n",
      "Epoch 00041: val_loss did not improve from 0.00327\n",
      "1129/1129 [==============================] - 1058s 937ms/step - loss: 0.0019 - acc: 0.9984 - recall: 0.5276 - precision: 0.9993 - f1_score: 0.8621 - val_loss: 0.0033 - val_acc: 0.9392 - val_recall: 0.5104 - val_precision: 0.9786 - val_f1_score: 0.8190\n",
      "Epoch 42/100\n",
      "1129/1129 [==============================] - ETA: 0s - loss: 0.0019 - acc: 0.9984 - recall: 0.5271 - precision: 0.9993 - f1_score: 0.8621\n",
      "Epoch 00042: val_loss did not improve from 0.00327\n",
      "\n",
      "Epoch 00042: ReduceLROnPlateau reducing learning rate to 0.0003280500357504934.\n",
      "1129/1129 [==============================] - 1063s 942ms/step - loss: 0.0019 - acc: 0.9984 - recall: 0.5271 - precision: 0.9993 - f1_score: 0.8621 - val_loss: 0.0033 - val_acc: 0.9402 - val_recall: 0.5181 - val_precision: 0.9785 - val_f1_score: 0.8195\n",
      "Epoch 43/100\n",
      "1129/1129 [==============================] - ETA: 0s - loss: 0.0019 - acc: 0.9987 - recall: 0.5245 - precision: 0.9994 - f1_score: 0.8623\n",
      "Epoch 00043: val_loss improved from 0.00327 to 0.00319, saving model to /app/_data/models/from_nocall/Eff2_3/Eff2_3.h5\n",
      "1129/1129 [==============================] - 1061s 940ms/step - loss: 0.0019 - acc: 0.9987 - recall: 0.5245 - precision: 0.9994 - f1_score: 0.8623 - val_loss: 0.0032 - val_acc: 0.9414 - val_recall: 0.5134 - val_precision: 0.9804 - val_f1_score: 0.8206\n",
      "Epoch 44/100\n",
      "1129/1129 [==============================] - ETA: 0s - loss: 0.0019 - acc: 0.9987 - recall: 0.5235 - precision: 0.9995 - f1_score: 0.8623\n",
      "Epoch 00044: val_loss did not improve from 0.00319\n",
      "1129/1129 [==============================] - 1076s 953ms/step - loss: 0.0019 - acc: 0.9987 - recall: 0.5235 - precision: 0.9995 - f1_score: 0.8623 - val_loss: 0.0033 - val_acc: 0.9403 - val_recall: 0.5190 - val_precision: 0.9792 - val_f1_score: 0.8196\n",
      "Epoch 45/100\n",
      "1129/1129 [==============================] - ETA: 0s - loss: 0.0019 - acc: 0.9989 - recall: 0.5230 - precision: 0.9994 - f1_score: 0.8624\n",
      "Epoch 00045: val_loss did not improve from 0.00319\n",
      "1129/1129 [==============================] - 1084s 960ms/step - loss: 0.0019 - acc: 0.9989 - recall: 0.5230 - precision: 0.9994 - f1_score: 0.8624 - val_loss: 0.0033 - val_acc: 0.9413 - val_recall: 0.5193 - val_precision: 0.9786 - val_f1_score: 0.8203\n",
      "Epoch 46/100\n",
      "1129/1129 [==============================] - ETA: 0s - loss: 0.0019 - acc: 0.9989 - recall: 0.5230 - precision: 0.9993 - f1_score: 0.8624\n",
      "Epoch 00046: val_loss did not improve from 0.00319\n",
      "1129/1129 [==============================] - 1107s 980ms/step - loss: 0.0019 - acc: 0.9989 - recall: 0.5230 - precision: 0.9993 - f1_score: 0.8624 - val_loss: 0.0032 - val_acc: 0.9414 - val_recall: 0.5300 - val_precision: 0.9789 - val_f1_score: 0.8203\n",
      "Epoch 47/100\n",
      "1129/1129 [==============================] - ETA: 0s - loss: 0.0019 - acc: 0.9988 - recall: 0.5220 - precision: 0.9994 - f1_score: 0.8624\n",
      "Epoch 00047: val_loss did not improve from 0.00319\n",
      "1129/1129 [==============================] - 1103s 977ms/step - loss: 0.0019 - acc: 0.9988 - recall: 0.5220 - precision: 0.9994 - f1_score: 0.8624 - val_loss: 0.0033 - val_acc: 0.9388 - val_recall: 0.5157 - val_precision: 0.9776 - val_f1_score: 0.8184\n",
      "Epoch 48/100\n",
      "1129/1129 [==============================] - ETA: 0s - loss: 0.0019 - acc: 0.9990 - recall: 0.5219 - precision: 0.9995 - f1_score: 0.8625\n",
      "Epoch 00048: val_loss did not improve from 0.00319\n",
      "\n",
      "Epoch 00048: ReduceLROnPlateau reducing learning rate to 0.00029524502169806513.\n",
      "1129/1129 [==============================] - 1130s 1s/step - loss: 0.0019 - acc: 0.9990 - recall: 0.5219 - precision: 0.9995 - f1_score: 0.8625 - val_loss: 0.0033 - val_acc: 0.9403 - val_recall: 0.5111 - val_precision: 0.9788 - val_f1_score: 0.8197\n",
      "Epoch 49/100\n",
      "1129/1129 [==============================] - ETA: 0s - loss: 0.0018 - acc: 0.9991 - recall: 0.5191 - precision: 0.9995 - f1_score: 0.8626\n",
      "Epoch 00049: val_loss improved from 0.00319 to 0.00319, saving model to /app/_data/models/from_nocall/Eff2_3/Eff2_3.h5\n",
      "1129/1129 [==============================] - 1147s 1s/step - loss: 0.0018 - acc: 0.9991 - recall: 0.5191 - precision: 0.9995 - f1_score: 0.8626 - val_loss: 0.0032 - val_acc: 0.9425 - val_recall: 0.5142 - val_precision: 0.9809 - val_f1_score: 0.8214\n",
      "Epoch 50/100\n",
      "1129/1129 [==============================] - ETA: 0s - loss: 0.0018 - acc: 0.9992 - recall: 0.5181 - precision: 0.9997 - f1_score: 0.8626\n",
      "Epoch 00050: val_loss did not improve from 0.00319\n",
      "1129/1129 [==============================] - 1124s 995ms/step - loss: 0.0018 - acc: 0.9992 - recall: 0.5181 - precision: 0.9997 - f1_score: 0.8626 - val_loss: 0.0032 - val_acc: 0.9434 - val_recall: 0.5173 - val_precision: 0.9798 - val_f1_score: 0.8220\n",
      "Epoch 51/100\n",
      "1129/1129 [==============================] - ETA: 0s - loss: 0.0018 - acc: 0.9992 - recall: 0.5183 - precision: 0.9996 - f1_score: 0.8626\n",
      "Epoch 00051: val_loss did not improve from 0.00319\n",
      "1129/1129 [==============================] - 1140s 1s/step - loss: 0.0018 - acc: 0.9992 - recall: 0.5183 - precision: 0.9996 - f1_score: 0.8626 - val_loss: 0.0032 - val_acc: 0.9440 - val_recall: 0.5192 - val_precision: 0.9817 - val_f1_score: 0.8225\n",
      "Epoch 52/100\n",
      "1129/1129 [==============================] - ETA: 0s - loss: 0.0018 - acc: 0.9992 - recall: 0.5172 - precision: 0.9996 - f1_score: 0.8626\n",
      "Epoch 00052: val_loss did not improve from 0.00319\n",
      "1129/1129 [==============================] - 1162s 1s/step - loss: 0.0018 - acc: 0.9992 - recall: 0.5172 - precision: 0.9996 - f1_score: 0.8626 - val_loss: 0.0032 - val_acc: 0.9440 - val_recall: 0.5262 - val_precision: 0.9803 - val_f1_score: 0.8225\n",
      "Epoch 53/100\n",
      "1129/1129 [==============================] - ETA: 0s - loss: 0.0018 - acc: 0.9994 - recall: 0.5173 - precision: 0.9997 - f1_score: 0.8628\n",
      "Epoch 00053: val_loss did not improve from 0.00319\n",
      "\n",
      "Epoch 00053: ReduceLROnPlateau reducing learning rate to 0.00026572052738629284.\n",
      "1129/1129 [==============================] - 1156s 1s/step - loss: 0.0018 - acc: 0.9994 - recall: 0.5173 - precision: 0.9997 - f1_score: 0.8628 - val_loss: 0.0032 - val_acc: 0.9433 - val_recall: 0.5159 - val_precision: 0.9811 - val_f1_score: 0.8220\n",
      "Epoch 54/100\n",
      "1129/1129 [==============================] - ETA: 0s - loss: 0.0018 - acc: 0.9993 - recall: 0.5153 - precision: 0.9996 - f1_score: 0.8627\n",
      "Epoch 00054: val_loss improved from 0.00319 to 0.00315, saving model to /app/_data/models/from_nocall/Eff2_3/Eff2_3.h5\n",
      "1129/1129 [==============================] - 1174s 1s/step - loss: 0.0018 - acc: 0.9993 - recall: 0.5153 - precision: 0.9996 - f1_score: 0.8627 - val_loss: 0.0032 - val_acc: 0.9442 - val_recall: 0.5204 - val_precision: 0.9804 - val_f1_score: 0.8226\n",
      "Epoch 55/100\n",
      "1129/1129 [==============================] - ETA: 0s - loss: 0.0018 - acc: 0.9994 - recall: 0.5138 - precision: 0.9997 - f1_score: 0.8627\n",
      "Epoch 00055: val_loss did not improve from 0.00315\n",
      "1129/1129 [==============================] - 1125s 997ms/step - loss: 0.0018 - acc: 0.9994 - recall: 0.5138 - precision: 0.9997 - f1_score: 0.8627 - val_loss: 0.0032 - val_acc: 0.9448 - val_recall: 0.5165 - val_precision: 0.9815 - val_f1_score: 0.8231\n",
      "Epoch 56/100\n",
      " 924/1129 [=======================>......] - ETA: 2:50 - loss: 0.0018 - acc: 0.9994 - recall: 0.5132 - precision: 0.9997 - f1_score: 0.8625"
     ]
    },
    {
     "ename": "ResourceExhaustedError",
     "evalue": " OOM when allocating tensor with shape[224,131,131,96] and type half on /job:localhost/replica:0/task:0/device:GPU:0 by allocator GPU_0_bfc\n\t [[node gradient_tape/functional_1/efficientnetb2/block2a_dwconv/depthwise/DepthwiseConv2dNativeBackpropInput (defined at <ipython-input-48-2f01e9ec22f2>:2) ]]\nHint: If you want to see a list of allocated tensors when OOM happens, add report_tensor_allocations_upon_oom to RunOptions for current allocation info.\n [Op:__inference_train_function_40510]\n\nFunction call stack:\ntrain_function\n",
     "output_type": "error",
     "traceback": [
      "\u001b[0;31m\u001b[0m",
      "\u001b[0;31mResourceExhaustedError\u001b[0mTraceback (most recent call last)",
      "\u001b[0;32m<ipython-input-48-2f01e9ec22f2>\u001b[0m in \u001b[0;36m<module>\u001b[0;34m\u001b[0m\n\u001b[1;32m      1\u001b[0m \u001b[0mmodel\u001b[0m \u001b[0;34m=\u001b[0m \u001b[0mget_model\u001b[0m\u001b[0;34m(\u001b[0m\u001b[0;34m)\u001b[0m\u001b[0;34m\u001b[0m\u001b[0;34m\u001b[0m\u001b[0m\n\u001b[0;32m----> 2\u001b[0;31m history = model.fit(\n\u001b[0m\u001b[1;32m      3\u001b[0m     \u001b[0mgen_train\u001b[0m\u001b[0;34m,\u001b[0m\u001b[0;34m\u001b[0m\u001b[0;34m\u001b[0m\u001b[0m\n\u001b[1;32m      4\u001b[0m     \u001b[0mvalidation_data\u001b[0m\u001b[0;34m=\u001b[0m\u001b[0mgen_valid\u001b[0m\u001b[0;34m,\u001b[0m\u001b[0;34m\u001b[0m\u001b[0;34m\u001b[0m\u001b[0m\n\u001b[1;32m      5\u001b[0m     \u001b[0mepochs\u001b[0m\u001b[0;34m=\u001b[0m\u001b[0;36m100\u001b[0m\u001b[0;34m,\u001b[0m\u001b[0;34m\u001b[0m\u001b[0;34m\u001b[0m\u001b[0m\n",
      "\u001b[0;32m/usr/local/lib/python3.8/dist-packages/tensorflow/python/keras/engine/training.py\u001b[0m in \u001b[0;36m_method_wrapper\u001b[0;34m(self, *args, **kwargs)\u001b[0m\n\u001b[1;32m    106\u001b[0m   \u001b[0;32mdef\u001b[0m \u001b[0m_method_wrapper\u001b[0m\u001b[0;34m(\u001b[0m\u001b[0mself\u001b[0m\u001b[0;34m,\u001b[0m \u001b[0;34m*\u001b[0m\u001b[0margs\u001b[0m\u001b[0;34m,\u001b[0m \u001b[0;34m**\u001b[0m\u001b[0mkwargs\u001b[0m\u001b[0;34m)\u001b[0m\u001b[0;34m:\u001b[0m\u001b[0;34m\u001b[0m\u001b[0;34m\u001b[0m\u001b[0m\n\u001b[1;32m    107\u001b[0m     \u001b[0;32mif\u001b[0m \u001b[0;32mnot\u001b[0m \u001b[0mself\u001b[0m\u001b[0;34m.\u001b[0m\u001b[0m_in_multi_worker_mode\u001b[0m\u001b[0;34m(\u001b[0m\u001b[0;34m)\u001b[0m\u001b[0;34m:\u001b[0m  \u001b[0;31m# pylint: disable=protected-access\u001b[0m\u001b[0;34m\u001b[0m\u001b[0;34m\u001b[0m\u001b[0m\n\u001b[0;32m--> 108\u001b[0;31m       \u001b[0;32mreturn\u001b[0m \u001b[0mmethod\u001b[0m\u001b[0;34m(\u001b[0m\u001b[0mself\u001b[0m\u001b[0;34m,\u001b[0m \u001b[0;34m*\u001b[0m\u001b[0margs\u001b[0m\u001b[0;34m,\u001b[0m \u001b[0;34m**\u001b[0m\u001b[0mkwargs\u001b[0m\u001b[0;34m)\u001b[0m\u001b[0;34m\u001b[0m\u001b[0;34m\u001b[0m\u001b[0m\n\u001b[0m\u001b[1;32m    109\u001b[0m \u001b[0;34m\u001b[0m\u001b[0m\n\u001b[1;32m    110\u001b[0m     \u001b[0;31m# Running inside `run_distribute_coordinator` already.\u001b[0m\u001b[0;34m\u001b[0m\u001b[0;34m\u001b[0m\u001b[0;34m\u001b[0m\u001b[0m\n",
      "\u001b[0;32m/usr/local/lib/python3.8/dist-packages/tensorflow/python/keras/engine/training.py\u001b[0m in \u001b[0;36mfit\u001b[0;34m(self, x, y, batch_size, epochs, verbose, callbacks, validation_split, validation_data, shuffle, class_weight, sample_weight, initial_epoch, steps_per_epoch, validation_steps, validation_batch_size, validation_freq, max_queue_size, workers, use_multiprocessing)\u001b[0m\n\u001b[1;32m   1096\u001b[0m                 batch_size=batch_size):\n\u001b[1;32m   1097\u001b[0m               \u001b[0mcallbacks\u001b[0m\u001b[0;34m.\u001b[0m\u001b[0mon_train_batch_begin\u001b[0m\u001b[0;34m(\u001b[0m\u001b[0mstep\u001b[0m\u001b[0;34m)\u001b[0m\u001b[0;34m\u001b[0m\u001b[0;34m\u001b[0m\u001b[0m\n\u001b[0;32m-> 1098\u001b[0;31m               \u001b[0mtmp_logs\u001b[0m \u001b[0;34m=\u001b[0m \u001b[0mtrain_function\u001b[0m\u001b[0;34m(\u001b[0m\u001b[0miterator\u001b[0m\u001b[0;34m)\u001b[0m\u001b[0;34m\u001b[0m\u001b[0;34m\u001b[0m\u001b[0m\n\u001b[0m\u001b[1;32m   1099\u001b[0m               \u001b[0;32mif\u001b[0m \u001b[0mdata_handler\u001b[0m\u001b[0;34m.\u001b[0m\u001b[0mshould_sync\u001b[0m\u001b[0;34m:\u001b[0m\u001b[0;34m\u001b[0m\u001b[0;34m\u001b[0m\u001b[0m\n\u001b[1;32m   1100\u001b[0m                 \u001b[0mcontext\u001b[0m\u001b[0;34m.\u001b[0m\u001b[0masync_wait\u001b[0m\u001b[0;34m(\u001b[0m\u001b[0;34m)\u001b[0m\u001b[0;34m\u001b[0m\u001b[0;34m\u001b[0m\u001b[0m\n",
      "\u001b[0;32m/usr/local/lib/python3.8/dist-packages/tensorflow/python/eager/def_function.py\u001b[0m in \u001b[0;36m__call__\u001b[0;34m(self, *args, **kwds)\u001b[0m\n\u001b[1;32m    778\u001b[0m       \u001b[0;32melse\u001b[0m\u001b[0;34m:\u001b[0m\u001b[0;34m\u001b[0m\u001b[0;34m\u001b[0m\u001b[0m\n\u001b[1;32m    779\u001b[0m         \u001b[0mcompiler\u001b[0m \u001b[0;34m=\u001b[0m \u001b[0;34m\"nonXla\"\u001b[0m\u001b[0;34m\u001b[0m\u001b[0;34m\u001b[0m\u001b[0m\n\u001b[0;32m--> 780\u001b[0;31m         \u001b[0mresult\u001b[0m \u001b[0;34m=\u001b[0m \u001b[0mself\u001b[0m\u001b[0;34m.\u001b[0m\u001b[0m_call\u001b[0m\u001b[0;34m(\u001b[0m\u001b[0;34m*\u001b[0m\u001b[0margs\u001b[0m\u001b[0;34m,\u001b[0m \u001b[0;34m**\u001b[0m\u001b[0mkwds\u001b[0m\u001b[0;34m)\u001b[0m\u001b[0;34m\u001b[0m\u001b[0;34m\u001b[0m\u001b[0m\n\u001b[0m\u001b[1;32m    781\u001b[0m \u001b[0;34m\u001b[0m\u001b[0m\n\u001b[1;32m    782\u001b[0m       \u001b[0mnew_tracing_count\u001b[0m \u001b[0;34m=\u001b[0m \u001b[0mself\u001b[0m\u001b[0;34m.\u001b[0m\u001b[0m_get_tracing_count\u001b[0m\u001b[0;34m(\u001b[0m\u001b[0;34m)\u001b[0m\u001b[0;34m\u001b[0m\u001b[0;34m\u001b[0m\u001b[0m\n",
      "\u001b[0;32m/usr/local/lib/python3.8/dist-packages/tensorflow/python/eager/def_function.py\u001b[0m in \u001b[0;36m_call\u001b[0;34m(self, *args, **kwds)\u001b[0m\n\u001b[1;32m    805\u001b[0m       \u001b[0;31m# In this case we have created variables on the first call, so we run the\u001b[0m\u001b[0;34m\u001b[0m\u001b[0;34m\u001b[0m\u001b[0;34m\u001b[0m\u001b[0m\n\u001b[1;32m    806\u001b[0m       \u001b[0;31m# defunned version which is guaranteed to never create variables.\u001b[0m\u001b[0;34m\u001b[0m\u001b[0;34m\u001b[0m\u001b[0;34m\u001b[0m\u001b[0m\n\u001b[0;32m--> 807\u001b[0;31m       \u001b[0;32mreturn\u001b[0m \u001b[0mself\u001b[0m\u001b[0;34m.\u001b[0m\u001b[0m_stateless_fn\u001b[0m\u001b[0;34m(\u001b[0m\u001b[0;34m*\u001b[0m\u001b[0margs\u001b[0m\u001b[0;34m,\u001b[0m \u001b[0;34m**\u001b[0m\u001b[0mkwds\u001b[0m\u001b[0;34m)\u001b[0m  \u001b[0;31m# pylint: disable=not-callable\u001b[0m\u001b[0;34m\u001b[0m\u001b[0;34m\u001b[0m\u001b[0m\n\u001b[0m\u001b[1;32m    808\u001b[0m     \u001b[0;32melif\u001b[0m \u001b[0mself\u001b[0m\u001b[0;34m.\u001b[0m\u001b[0m_stateful_fn\u001b[0m \u001b[0;32mis\u001b[0m \u001b[0;32mnot\u001b[0m \u001b[0;32mNone\u001b[0m\u001b[0;34m:\u001b[0m\u001b[0;34m\u001b[0m\u001b[0;34m\u001b[0m\u001b[0m\n\u001b[1;32m    809\u001b[0m       \u001b[0;31m# Release the lock early so that multiple threads can perform the call\u001b[0m\u001b[0;34m\u001b[0m\u001b[0;34m\u001b[0m\u001b[0;34m\u001b[0m\u001b[0m\n",
      "\u001b[0;32m/usr/local/lib/python3.8/dist-packages/tensorflow/python/eager/function.py\u001b[0m in \u001b[0;36m__call__\u001b[0;34m(self, *args, **kwargs)\u001b[0m\n\u001b[1;32m   2827\u001b[0m     \u001b[0;32mwith\u001b[0m \u001b[0mself\u001b[0m\u001b[0;34m.\u001b[0m\u001b[0m_lock\u001b[0m\u001b[0;34m:\u001b[0m\u001b[0;34m\u001b[0m\u001b[0;34m\u001b[0m\u001b[0m\n\u001b[1;32m   2828\u001b[0m       \u001b[0mgraph_function\u001b[0m\u001b[0;34m,\u001b[0m \u001b[0margs\u001b[0m\u001b[0;34m,\u001b[0m \u001b[0mkwargs\u001b[0m \u001b[0;34m=\u001b[0m \u001b[0mself\u001b[0m\u001b[0;34m.\u001b[0m\u001b[0m_maybe_define_function\u001b[0m\u001b[0;34m(\u001b[0m\u001b[0margs\u001b[0m\u001b[0;34m,\u001b[0m \u001b[0mkwargs\u001b[0m\u001b[0;34m)\u001b[0m\u001b[0;34m\u001b[0m\u001b[0;34m\u001b[0m\u001b[0m\n\u001b[0;32m-> 2829\u001b[0;31m     \u001b[0;32mreturn\u001b[0m \u001b[0mgraph_function\u001b[0m\u001b[0;34m.\u001b[0m\u001b[0m_filtered_call\u001b[0m\u001b[0;34m(\u001b[0m\u001b[0margs\u001b[0m\u001b[0;34m,\u001b[0m \u001b[0mkwargs\u001b[0m\u001b[0;34m)\u001b[0m  \u001b[0;31m# pylint: disable=protected-access\u001b[0m\u001b[0;34m\u001b[0m\u001b[0;34m\u001b[0m\u001b[0m\n\u001b[0m\u001b[1;32m   2830\u001b[0m \u001b[0;34m\u001b[0m\u001b[0m\n\u001b[1;32m   2831\u001b[0m   \u001b[0;34m@\u001b[0m\u001b[0mproperty\u001b[0m\u001b[0;34m\u001b[0m\u001b[0;34m\u001b[0m\u001b[0m\n",
      "\u001b[0;32m/usr/local/lib/python3.8/dist-packages/tensorflow/python/eager/function.py\u001b[0m in \u001b[0;36m_filtered_call\u001b[0;34m(self, args, kwargs, cancellation_manager)\u001b[0m\n\u001b[1;32m   1841\u001b[0m       \u001b[0;31m`\u001b[0m\u001b[0margs\u001b[0m\u001b[0;31m`\u001b[0m \u001b[0;32mand\u001b[0m\u001b[0;31m \u001b[0m\u001b[0;31m`\u001b[0m\u001b[0mkwargs\u001b[0m\u001b[0;31m`\u001b[0m\u001b[0;34m.\u001b[0m\u001b[0;34m\u001b[0m\u001b[0;34m\u001b[0m\u001b[0m\n\u001b[1;32m   1842\u001b[0m     \"\"\"\n\u001b[0;32m-> 1843\u001b[0;31m     return self._call_flat(\n\u001b[0m\u001b[1;32m   1844\u001b[0m         [t for t in nest.flatten((args, kwargs), expand_composites=True)\n\u001b[1;32m   1845\u001b[0m          if isinstance(t, (ops.Tensor,\n",
      "\u001b[0;32m/usr/local/lib/python3.8/dist-packages/tensorflow/python/eager/function.py\u001b[0m in \u001b[0;36m_call_flat\u001b[0;34m(self, args, captured_inputs, cancellation_manager)\u001b[0m\n\u001b[1;32m   1921\u001b[0m         and executing_eagerly):\n\u001b[1;32m   1922\u001b[0m       \u001b[0;31m# No tape is watching; skip to running the function.\u001b[0m\u001b[0;34m\u001b[0m\u001b[0;34m\u001b[0m\u001b[0;34m\u001b[0m\u001b[0m\n\u001b[0;32m-> 1923\u001b[0;31m       return self._build_call_outputs(self._inference_function.call(\n\u001b[0m\u001b[1;32m   1924\u001b[0m           ctx, args, cancellation_manager=cancellation_manager))\n\u001b[1;32m   1925\u001b[0m     forward_backward = self._select_forward_and_backward_functions(\n",
      "\u001b[0;32m/usr/local/lib/python3.8/dist-packages/tensorflow/python/eager/function.py\u001b[0m in \u001b[0;36mcall\u001b[0;34m(self, ctx, args, cancellation_manager)\u001b[0m\n\u001b[1;32m    543\u001b[0m       \u001b[0;32mwith\u001b[0m \u001b[0m_InterpolateFunctionError\u001b[0m\u001b[0;34m(\u001b[0m\u001b[0mself\u001b[0m\u001b[0;34m)\u001b[0m\u001b[0;34m:\u001b[0m\u001b[0;34m\u001b[0m\u001b[0;34m\u001b[0m\u001b[0m\n\u001b[1;32m    544\u001b[0m         \u001b[0;32mif\u001b[0m \u001b[0mcancellation_manager\u001b[0m \u001b[0;32mis\u001b[0m \u001b[0;32mNone\u001b[0m\u001b[0;34m:\u001b[0m\u001b[0;34m\u001b[0m\u001b[0;34m\u001b[0m\u001b[0m\n\u001b[0;32m--> 545\u001b[0;31m           outputs = execute.execute(\n\u001b[0m\u001b[1;32m    546\u001b[0m               \u001b[0mstr\u001b[0m\u001b[0;34m(\u001b[0m\u001b[0mself\u001b[0m\u001b[0;34m.\u001b[0m\u001b[0msignature\u001b[0m\u001b[0;34m.\u001b[0m\u001b[0mname\u001b[0m\u001b[0;34m)\u001b[0m\u001b[0;34m,\u001b[0m\u001b[0;34m\u001b[0m\u001b[0;34m\u001b[0m\u001b[0m\n\u001b[1;32m    547\u001b[0m               \u001b[0mnum_outputs\u001b[0m\u001b[0;34m=\u001b[0m\u001b[0mself\u001b[0m\u001b[0;34m.\u001b[0m\u001b[0m_num_outputs\u001b[0m\u001b[0;34m,\u001b[0m\u001b[0;34m\u001b[0m\u001b[0;34m\u001b[0m\u001b[0m\n",
      "\u001b[0;32m/usr/local/lib/python3.8/dist-packages/tensorflow/python/eager/execute.py\u001b[0m in \u001b[0;36mquick_execute\u001b[0;34m(op_name, num_outputs, inputs, attrs, ctx, name)\u001b[0m\n\u001b[1;32m     57\u001b[0m   \u001b[0;32mtry\u001b[0m\u001b[0;34m:\u001b[0m\u001b[0;34m\u001b[0m\u001b[0;34m\u001b[0m\u001b[0m\n\u001b[1;32m     58\u001b[0m     \u001b[0mctx\u001b[0m\u001b[0;34m.\u001b[0m\u001b[0mensure_initialized\u001b[0m\u001b[0;34m(\u001b[0m\u001b[0;34m)\u001b[0m\u001b[0;34m\u001b[0m\u001b[0;34m\u001b[0m\u001b[0m\n\u001b[0;32m---> 59\u001b[0;31m     tensors = pywrap_tfe.TFE_Py_Execute(ctx._handle, device_name, op_name,\n\u001b[0m\u001b[1;32m     60\u001b[0m                                         inputs, attrs, num_outputs)\n\u001b[1;32m     61\u001b[0m   \u001b[0;32mexcept\u001b[0m \u001b[0mcore\u001b[0m\u001b[0;34m.\u001b[0m\u001b[0m_NotOkStatusException\u001b[0m \u001b[0;32mas\u001b[0m \u001b[0me\u001b[0m\u001b[0;34m:\u001b[0m\u001b[0;34m\u001b[0m\u001b[0;34m\u001b[0m\u001b[0m\n",
      "\u001b[0;31mResourceExhaustedError\u001b[0m:  OOM when allocating tensor with shape[224,131,131,96] and type half on /job:localhost/replica:0/task:0/device:GPU:0 by allocator GPU_0_bfc\n\t [[node gradient_tape/functional_1/efficientnetb2/block2a_dwconv/depthwise/DepthwiseConv2dNativeBackpropInput (defined at <ipython-input-48-2f01e9ec22f2>:2) ]]\nHint: If you want to see a list of allocated tensors when OOM happens, add report_tensor_allocations_upon_oom to RunOptions for current allocation info.\n [Op:__inference_train_function_40510]\n\nFunction call stack:\ntrain_function\n"
     ]
    }
   ],
   "source": [
    "model = get_model()\n",
    "history = model.fit(\n",
    "    gen_train,\n",
    "    validation_data=gen_valid,\n",
    "    epochs=100,\n",
    "    steps_per_epoch=train.shape[0] // BATCH_SIZE,\n",
    "    validation_steps=valid.shape[0] // BATCH_SIZE,\n",
    "    verbose=1,\n",
    "    workers=20,\n",
    "    max_queue_size=50,\n",
    "    callbacks=callbacks,\n",
    ")"
   ]
  },
  {
   "cell_type": "code",
   "execution_count": null,
   "metadata": {},
   "outputs": [],
   "source": []
  }
 ],
 "metadata": {
  "kernelspec": {
   "display_name": "Python 3",
   "language": "python",
   "name": "python3"
  },
  "language_info": {
   "codemirror_mode": {
    "name": "ipython",
    "version": 3
   },
   "file_extension": ".py",
   "mimetype": "text/x-python",
   "name": "python",
   "nbconvert_exporter": "python",
   "pygments_lexer": "ipython3",
   "version": "3.8.5"
  }
 },
 "nbformat": 4,
 "nbformat_minor": 4
}
