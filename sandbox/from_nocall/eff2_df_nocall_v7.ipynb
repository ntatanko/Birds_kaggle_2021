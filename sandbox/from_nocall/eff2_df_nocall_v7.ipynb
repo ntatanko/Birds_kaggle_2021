{
 "cells": [
  {
   "cell_type": "code",
   "execution_count": 1,
   "metadata": {},
   "outputs": [],
   "source": [
    "import os\n",
    "import shutil\n",
    "import warnings\n",
    "\n",
    "import numpy as np\n",
    "import pandas as pd\n",
    "import plotly.graph_objects as go\n",
    "import torchaudio\n",
    "\n",
    "warnings.filterwarnings(action=\"ignore\")\n",
    "from IPython.core.interactiveshell import InteractiveShell\n",
    "\n",
    "InteractiveShell.ast_node_interactivity = \"all\"\n",
    "import json\n",
    "\n",
    "import geopandas\n",
    "import librosa\n",
    "import librosa.display\n",
    "import matplotlib.pyplot as plt\n",
    "import scipy.stats as st\n",
    "import seaborn as sns\n",
    "import soundfile\n",
    "import tensorflow as tf\n",
    "import tensorflow_addons as tfa\n",
    "import torch\n",
    "\n",
    "%matplotlib inline\n",
    "from PIL import Image\n",
    "from sklearn.model_selection import train_test_split\n",
    "from sklearn.utils import shuffle\n",
    "from tensorflow import keras\n",
    "from tensorflow.keras.models import Sequential\n",
    "from tensorflow.keras.optimizers import Adam\n",
    "from torchaudio.transforms import MelSpectrogram\n",
    "from tqdm import tqdm\n",
    "\n",
    "from src.MEL_Gen import MEL_Gen, Mel_Provider\n",
    "from src.prepare_dataset import (\n",
    "    choose_ids,\n",
    "    make_dict_birds,\n",
    "    make_intervals,\n",
    "    make_intervals_upsampling,\n",
    "    prepare_dataset,\n",
    ")"
   ]
  },
  {
   "cell_type": "code",
   "execution_count": 2,
   "metadata": {},
   "outputs": [],
   "source": [
    "SEED = 1488\n",
    "IMG_SIZE = 260\n",
    "SAMPLE_RATE = 32000\n",
    "N_FFT = 2048\n",
    "SIGNAL_LENGTH = 5\n",
    "FREQ_MIN = 0\n",
    "FREQ_MAX = 16000\n",
    "WIN_LENGHT = 1024\n",
    "BATCH_SIZE = 300\n",
    "list_drop = [\n",
    "    \"XC509721.ogg\",\n",
    "    \"XC428067.ogg\",\n",
    "    \"XC523831.ogg\",\n",
    "    \"XC523960.ogg\",\n",
    "    \"XC237870.ogg\",\n",
    "    \"XC129924.ogg\",\n",
    "    \"XC576851.ogg\",\n",
    "    \"XC579430.ogg\",\n",
    "    \"XC590621.ogg\",\n",
    "]"
   ]
  },
  {
   "cell_type": "code",
   "execution_count": 3,
   "metadata": {},
   "outputs": [],
   "source": [
    "final = pd.read_csv(\"/app/_data/labels_nocall/nocall_predictions.csv\")\n",
    "nocall = pd.read_csv(\"/app/_data/labels_nocall/all_nocalls.csv\")"
   ]
  },
  {
   "cell_type": "code",
   "execution_count": 4,
   "metadata": {},
   "outputs": [
    {
     "data": {
      "text/plain": [
       "(65128, 24)"
      ]
     },
     "execution_count": 4,
     "metadata": {},
     "output_type": "execute_result"
    }
   ],
   "source": [
    "all_audio = pd.read_csv(\"/app/_data/all_audio_initial.csv\")\n",
    "all_audio = all_audio.query(\"filename not in @list_drop\").reset_index(drop=True)\n",
    "all_audio = all_audio.query(\"year >=1980 and year<=2021\").reset_index(drop=True)\n",
    "\n",
    "all_audio.shape"
   ]
  },
  {
   "cell_type": "code",
   "execution_count": 5,
   "metadata": {},
   "outputs": [
    {
     "data": {
      "text/plain": [
       "42727"
      ]
     },
     "execution_count": 5,
     "metadata": {},
     "output_type": "execute_result"
    }
   ],
   "source": [
    "_, list_filenames = choose_ids(1000, start_year=1990)\n",
    "len(list_filenames)"
   ]
  },
  {
   "cell_type": "code",
   "execution_count": 6,
   "metadata": {},
   "outputs": [],
   "source": [
    "all_audio = all_audio.query('filename in @list_filenames').reset_index(drop=True)"
   ]
  },
  {
   "cell_type": "markdown",
   "metadata": {},
   "source": [
    "# dict_birds and weights"
   ]
  },
  {
   "cell_type": "code",
   "execution_count": 7,
   "metadata": {},
   "outputs": [],
   "source": [
    "all_audio = all_audio[all_audio[\"rating\"] >= 2.5]"
   ]
  },
  {
   "cell_type": "code",
   "execution_count": 8,
   "metadata": {},
   "outputs": [
    {
     "data": {
      "text/plain": [
       "(41267, 24)"
      ]
     },
     "execution_count": 8,
     "metadata": {},
     "output_type": "execute_result"
    }
   ],
   "source": [
    "all_audio.shape"
   ]
  },
  {
   "cell_type": "code",
   "execution_count": 9,
   "metadata": {},
   "outputs": [],
   "source": [
    "dict_birds, all_audio = make_dict_birds(all_audio)"
   ]
  },
  {
   "cell_type": "code",
   "execution_count": 10,
   "metadata": {},
   "outputs": [
    {
     "data": {
      "text/plain": [
       "395"
      ]
     },
     "execution_count": 10,
     "metadata": {},
     "output_type": "execute_result"
    }
   ],
   "source": [
    "len(dict_birds)"
   ]
  },
  {
   "cell_type": "code",
   "execution_count": 11,
   "metadata": {},
   "outputs": [],
   "source": [
    "# os.mkdir(\"/app/_data/models/from_nocall/Eff2_4/\")"
   ]
  },
  {
   "cell_type": "code",
   "execution_count": 12,
   "metadata": {},
   "outputs": [],
   "source": [
    "file_json = open(\"/app/_data/models/from_nocall/Eff2_4/dict_birds.json\", \"w\")\n",
    "json.dump(dict_birds, file_json)\n",
    "file_json.close()"
   ]
  },
  {
   "cell_type": "code",
   "execution_count": 13,
   "metadata": {},
   "outputs": [],
   "source": [
    "dict_weights = (1 / all_audio[\"primary_label\"].value_counts()).to_dict()\n",
    "all_audio[\"class_weights\"] = all_audio[\"primary_label\"].replace(dict_weights)\n",
    "# all_audio[\"class_weights\"] = all_audio[\"class_weights\"] * all_audio[\"rating\"]"
   ]
  },
  {
   "cell_type": "markdown",
   "metadata": {},
   "source": [
    "## calls"
   ]
  },
  {
   "cell_type": "code",
   "execution_count": 14,
   "metadata": {},
   "outputs": [],
   "source": [
    "drop_list_final = final[(final[\"bird\"] == 1) & (final[\"nocall\"] == 1)][\n",
    "    \"row_id\"\n",
    "].tolist()"
   ]
  },
  {
   "cell_type": "code",
   "execution_count": 15,
   "metadata": {},
   "outputs": [],
   "source": [
    "final = final.query(\"row_id not in @drop_list_final\")\n",
    "final = final.query(\"bird == 1\")\n"
   ]
  },
  {
   "cell_type": "code",
   "execution_count": 16,
   "metadata": {},
   "outputs": [
    {
     "data": {
      "text/plain": [
       "(2559079, 5)"
      ]
     },
     "execution_count": 16,
     "metadata": {},
     "output_type": "execute_result"
    }
   ],
   "source": [
    "final.shape"
   ]
  },
  {
   "cell_type": "code",
   "execution_count": 17,
   "metadata": {},
   "outputs": [],
   "source": [
    "final = final.merge(\n",
    "    all_audio[[\"filename\", \"primary_label\", \"class_weights\", 'duration']], on=\"filename\", how=\"left\"\n",
    ")"
   ]
  },
  {
   "cell_type": "code",
   "execution_count": 18,
   "metadata": {},
   "outputs": [
    {
     "data": {
      "text/plain": [
       "nocall                0\n",
       "bird                  0\n",
       "row_id                0\n",
       "filename              0\n",
       "end_sec               0\n",
       "primary_label    845106\n",
       "class_weights    845106\n",
       "duration         845106\n",
       "dtype: int64"
      ]
     },
     "execution_count": 18,
     "metadata": {},
     "output_type": "execute_result"
    }
   ],
   "source": [
    "final.isna().sum()"
   ]
  },
  {
   "cell_type": "code",
   "execution_count": 19,
   "metadata": {},
   "outputs": [],
   "source": [
    "final = final.dropna(axis=0)\n",
    "final = final.drop(['nocall', 'bird'], axis=1)"
   ]
  },
  {
   "cell_type": "code",
   "execution_count": 20,
   "metadata": {},
   "outputs": [
    {
     "data": {
      "text/plain": [
       "(1713973, 6)"
      ]
     },
     "execution_count": 20,
     "metadata": {},
     "output_type": "execute_result"
    }
   ],
   "source": [
    "final.shape"
   ]
  },
  {
   "cell_type": "code",
   "execution_count": 21,
   "metadata": {},
   "outputs": [],
   "source": [
    "final_0_20 = final[final['duration']<19]\n",
    "final_20_30 = final[(final['duration']>=19)&(final['duration']<=30)]\n",
    "final_30 = final[final['duration']>30]"
   ]
  },
  {
   "cell_type": "code",
   "execution_count": 22,
   "metadata": {},
   "outputs": [],
   "source": [
    "final_20_30['duration'] = final_20_30['duration']-4\n",
    "final_30['duration'] = final_30['duration']-7"
   ]
  },
  {
   "cell_type": "code",
   "execution_count": 23,
   "metadata": {},
   "outputs": [],
   "source": [
    "final_20_30 = final_20_30[final_20_30['end_sec']<=final_20_30['duration']]\n",
    "final_30 = final_30[final_30['end_sec']<=final_30['duration']]"
   ]
  },
  {
   "cell_type": "code",
   "execution_count": 24,
   "metadata": {},
   "outputs": [],
   "source": [
    "final = pd.concat([final_0_20,final_20_30,final_30], axis=0, ignore_index=True)"
   ]
  },
  {
   "cell_type": "code",
   "execution_count": 25,
   "metadata": {},
   "outputs": [
    {
     "data": {
      "text/html": [
       "<div>\n",
       "<style scoped>\n",
       "    .dataframe tbody tr th:only-of-type {\n",
       "        vertical-align: middle;\n",
       "    }\n",
       "\n",
       "    .dataframe tbody tr th {\n",
       "        vertical-align: top;\n",
       "    }\n",
       "\n",
       "    .dataframe thead th {\n",
       "        text-align: right;\n",
       "    }\n",
       "</style>\n",
       "<table border=\"1\" class=\"dataframe\">\n",
       "  <thead>\n",
       "    <tr style=\"text-align: right;\">\n",
       "      <th></th>\n",
       "      <th>row_id</th>\n",
       "      <th>filename</th>\n",
       "      <th>end_sec</th>\n",
       "      <th>primary_label</th>\n",
       "      <th>class_weights</th>\n",
       "      <th>duration</th>\n",
       "    </tr>\n",
       "  </thead>\n",
       "  <tbody>\n",
       "    <tr>\n",
       "      <th>0</th>\n",
       "      <td>XC11209_5_0</td>\n",
       "      <td>XC11209.ogg</td>\n",
       "      <td>5.0</td>\n",
       "      <td>acafly</td>\n",
       "      <td>0.008850</td>\n",
       "      <td>16.654156</td>\n",
       "    </tr>\n",
       "    <tr>\n",
       "      <th>1</th>\n",
       "      <td>XC11209_6_0</td>\n",
       "      <td>XC11209.ogg</td>\n",
       "      <td>6.0</td>\n",
       "      <td>acafly</td>\n",
       "      <td>0.008850</td>\n",
       "      <td>16.654156</td>\n",
       "    </tr>\n",
       "    <tr>\n",
       "      <th>2</th>\n",
       "      <td>XC11209_7_0</td>\n",
       "      <td>XC11209.ogg</td>\n",
       "      <td>7.0</td>\n",
       "      <td>acafly</td>\n",
       "      <td>0.008850</td>\n",
       "      <td>16.654156</td>\n",
       "    </tr>\n",
       "    <tr>\n",
       "      <th>3</th>\n",
       "      <td>XC11209_8_0</td>\n",
       "      <td>XC11209.ogg</td>\n",
       "      <td>8.0</td>\n",
       "      <td>acafly</td>\n",
       "      <td>0.008850</td>\n",
       "      <td>16.654156</td>\n",
       "    </tr>\n",
       "    <tr>\n",
       "      <th>4</th>\n",
       "      <td>XC11209_9_0</td>\n",
       "      <td>XC11209.ogg</td>\n",
       "      <td>9.0</td>\n",
       "      <td>acafly</td>\n",
       "      <td>0.008850</td>\n",
       "      <td>16.654156</td>\n",
       "    </tr>\n",
       "    <tr>\n",
       "      <th>...</th>\n",
       "      <td>...</td>\n",
       "      <td>...</td>\n",
       "      <td>...</td>\n",
       "      <td>...</td>\n",
       "      <td>...</td>\n",
       "      <td>...</td>\n",
       "    </tr>\n",
       "    <tr>\n",
       "      <th>1564675</th>\n",
       "      <td>XC615888_66_0</td>\n",
       "      <td>XC615888.ogg</td>\n",
       "      <td>66.0</td>\n",
       "      <td>yetvir</td>\n",
       "      <td>0.012195</td>\n",
       "      <td>70.125000</td>\n",
       "    </tr>\n",
       "    <tr>\n",
       "      <th>1564676</th>\n",
       "      <td>XC615888_67_0</td>\n",
       "      <td>XC615888.ogg</td>\n",
       "      <td>67.0</td>\n",
       "      <td>yetvir</td>\n",
       "      <td>0.012195</td>\n",
       "      <td>70.125000</td>\n",
       "    </tr>\n",
       "    <tr>\n",
       "      <th>1564677</th>\n",
       "      <td>XC615888_68_0</td>\n",
       "      <td>XC615888.ogg</td>\n",
       "      <td>68.0</td>\n",
       "      <td>yetvir</td>\n",
       "      <td>0.012195</td>\n",
       "      <td>70.125000</td>\n",
       "    </tr>\n",
       "    <tr>\n",
       "      <th>1564678</th>\n",
       "      <td>XC615888_69_0</td>\n",
       "      <td>XC615888.ogg</td>\n",
       "      <td>69.0</td>\n",
       "      <td>yetvir</td>\n",
       "      <td>0.012195</td>\n",
       "      <td>70.125000</td>\n",
       "    </tr>\n",
       "    <tr>\n",
       "      <th>1564679</th>\n",
       "      <td>XC615888_70_0</td>\n",
       "      <td>XC615888.ogg</td>\n",
       "      <td>70.0</td>\n",
       "      <td>yetvir</td>\n",
       "      <td>0.012195</td>\n",
       "      <td>70.125000</td>\n",
       "    </tr>\n",
       "  </tbody>\n",
       "</table>\n",
       "<p>1564680 rows × 6 columns</p>\n",
       "</div>"
      ],
      "text/plain": [
       "                row_id      filename  end_sec primary_label  class_weights  \\\n",
       "0          XC11209_5_0   XC11209.ogg      5.0        acafly       0.008850   \n",
       "1          XC11209_6_0   XC11209.ogg      6.0        acafly       0.008850   \n",
       "2          XC11209_7_0   XC11209.ogg      7.0        acafly       0.008850   \n",
       "3          XC11209_8_0   XC11209.ogg      8.0        acafly       0.008850   \n",
       "4          XC11209_9_0   XC11209.ogg      9.0        acafly       0.008850   \n",
       "...                ...           ...      ...           ...            ...   \n",
       "1564675  XC615888_66_0  XC615888.ogg     66.0        yetvir       0.012195   \n",
       "1564676  XC615888_67_0  XC615888.ogg     67.0        yetvir       0.012195   \n",
       "1564677  XC615888_68_0  XC615888.ogg     68.0        yetvir       0.012195   \n",
       "1564678  XC615888_69_0  XC615888.ogg     69.0        yetvir       0.012195   \n",
       "1564679  XC615888_70_0  XC615888.ogg     70.0        yetvir       0.012195   \n",
       "\n",
       "          duration  \n",
       "0        16.654156  \n",
       "1        16.654156  \n",
       "2        16.654156  \n",
       "3        16.654156  \n",
       "4        16.654156  \n",
       "...            ...  \n",
       "1564675  70.125000  \n",
       "1564676  70.125000  \n",
       "1564677  70.125000  \n",
       "1564678  70.125000  \n",
       "1564679  70.125000  \n",
       "\n",
       "[1564680 rows x 6 columns]"
      ]
     },
     "execution_count": 25,
     "metadata": {},
     "output_type": "execute_result"
    }
   ],
   "source": [
    "final"
   ]
  },
  {
   "cell_type": "code",
   "execution_count": 26,
   "metadata": {},
   "outputs": [],
   "source": [
    "dict_w = pd.DataFrame((1/final['filename'].value_counts()))\n",
    "dict_w.columns=['weights']\n",
    "dict_w['filename'] = dict_w.index"
   ]
  },
  {
   "cell_type": "code",
   "execution_count": 27,
   "metadata": {},
   "outputs": [],
   "source": [
    "final = final.merge(dict_w, on='filename', how='left')"
   ]
  },
  {
   "cell_type": "code",
   "execution_count": 28,
   "metadata": {},
   "outputs": [],
   "source": [
    "final_sample = final.sample(700000, weights=\"weights\", random_state=SEED)\n",
    "final_sample = final_sample.sample(400000, weights=\"class_weights\", random_state=SEED)"
   ]
  },
  {
   "cell_type": "code",
   "execution_count": 29,
   "metadata": {},
   "outputs": [
    {
     "data": {
      "text/plain": [
       "cubthr     2357\n",
       "bncfly     2297\n",
       "bulori     2270\n",
       "normoc     2238\n",
       "yebcha     2229\n",
       "           ... \n",
       "comgol       73\n",
       "gbbgul       66\n",
       "sander       62\n",
       "wegspa1      61\n",
       "stvhum2      42\n",
       "Name: primary_label, Length: 393, dtype: int64"
      ]
     },
     "execution_count": 29,
     "metadata": {},
     "output_type": "execute_result"
    }
   ],
   "source": [
    "final_sample['primary_label'].value_counts()"
   ]
  },
  {
   "cell_type": "code",
   "execution_count": 30,
   "metadata": {},
   "outputs": [
    {
     "data": {
      "text/plain": [
       "XC267940.ogg    48\n",
       "XC529255.ogg    44\n",
       "XC267935.ogg    44\n",
       "XC617948.ogg    44\n",
       "XC316089.ogg    43\n",
       "                ..\n",
       "XC331386.ogg     1\n",
       "XC203142.ogg     1\n",
       "XC494690.ogg     1\n",
       "XC255174.ogg     1\n",
       "XC375735.ogg     1\n",
       "Name: filename, Length: 37323, dtype: int64"
      ]
     },
     "execution_count": 30,
     "metadata": {},
     "output_type": "execute_result"
    }
   ],
   "source": [
    "final_sample['filename'].value_counts()"
   ]
  },
  {
   "cell_type": "code",
   "execution_count": 31,
   "metadata": {},
   "outputs": [
    {
     "data": {
      "text/html": [
       "<div>\n",
       "<style scoped>\n",
       "    .dataframe tbody tr th:only-of-type {\n",
       "        vertical-align: middle;\n",
       "    }\n",
       "\n",
       "    .dataframe tbody tr th {\n",
       "        vertical-align: top;\n",
       "    }\n",
       "\n",
       "    .dataframe thead th {\n",
       "        text-align: right;\n",
       "    }\n",
       "</style>\n",
       "<table border=\"1\" class=\"dataframe\">\n",
       "  <thead>\n",
       "    <tr style=\"text-align: right;\">\n",
       "      <th></th>\n",
       "      <th>row_id</th>\n",
       "      <th>filename</th>\n",
       "      <th>end_sec</th>\n",
       "      <th>primary_label</th>\n",
       "      <th>class_weights</th>\n",
       "      <th>duration</th>\n",
       "      <th>weights</th>\n",
       "    </tr>\n",
       "  </thead>\n",
       "  <tbody>\n",
       "    <tr>\n",
       "      <th>100645</th>\n",
       "      <td>XC120808_12_0</td>\n",
       "      <td>XC120808.ogg</td>\n",
       "      <td>12.0</td>\n",
       "      <td>gocfly1</td>\n",
       "      <td>0.010870</td>\n",
       "      <td>24.357031</td>\n",
       "      <td>0.050000</td>\n",
       "    </tr>\n",
       "    <tr>\n",
       "      <th>1536410</th>\n",
       "      <td>XC566182_61_0</td>\n",
       "      <td>XC566182.ogg</td>\n",
       "      <td>61.0</td>\n",
       "      <td>yebcha</td>\n",
       "      <td>0.004292</td>\n",
       "      <td>86.085000</td>\n",
       "      <td>0.012195</td>\n",
       "    </tr>\n",
       "    <tr>\n",
       "      <th>1147754</th>\n",
       "      <td>XC475992_10_0</td>\n",
       "      <td>XC475992.ogg</td>\n",
       "      <td>10.0</td>\n",
       "      <td>reshaw</td>\n",
       "      <td>0.015873</td>\n",
       "      <td>26.320281</td>\n",
       "      <td>0.045455</td>\n",
       "    </tr>\n",
       "    <tr>\n",
       "      <th>646537</th>\n",
       "      <td>XC601092_7_0</td>\n",
       "      <td>XC601092.ogg</td>\n",
       "      <td>7.0</td>\n",
       "      <td>daejun</td>\n",
       "      <td>0.003546</td>\n",
       "      <td>32.685000</td>\n",
       "      <td>0.038462</td>\n",
       "    </tr>\n",
       "    <tr>\n",
       "      <th>572691</th>\n",
       "      <td>XC241333_10_0</td>\n",
       "      <td>XC241333.ogg</td>\n",
       "      <td>10.0</td>\n",
       "      <td>coltro1</td>\n",
       "      <td>0.008333</td>\n",
       "      <td>81.405000</td>\n",
       "      <td>0.017241</td>\n",
       "    </tr>\n",
       "    <tr>\n",
       "      <th>...</th>\n",
       "      <td>...</td>\n",
       "      <td>...</td>\n",
       "      <td>...</td>\n",
       "      <td>...</td>\n",
       "      <td>...</td>\n",
       "      <td>...</td>\n",
       "      <td>...</td>\n",
       "    </tr>\n",
       "    <tr>\n",
       "      <th>1359976</th>\n",
       "      <td>XC276416_20_0</td>\n",
       "      <td>XC276416.ogg</td>\n",
       "      <td>20.0</td>\n",
       "      <td>trogna1</td>\n",
       "      <td>0.013158</td>\n",
       "      <td>27.260688</td>\n",
       "      <td>0.043478</td>\n",
       "    </tr>\n",
       "    <tr>\n",
       "      <th>1498386</th>\n",
       "      <td>XC187235_50_0</td>\n",
       "      <td>XC187235.ogg</td>\n",
       "      <td>50.0</td>\n",
       "      <td>wilsni1</td>\n",
       "      <td>0.016667</td>\n",
       "      <td>68.612531</td>\n",
       "      <td>0.029412</td>\n",
       "    </tr>\n",
       "    <tr>\n",
       "      <th>1060854</th>\n",
       "      <td>XC368259_45_0</td>\n",
       "      <td>XC368259.ogg</td>\n",
       "      <td>45.0</td>\n",
       "      <td>orbspa1</td>\n",
       "      <td>0.007576</td>\n",
       "      <td>59.469688</td>\n",
       "      <td>0.018519</td>\n",
       "    </tr>\n",
       "    <tr>\n",
       "      <th>493109</th>\n",
       "      <td>XC201398_32_0</td>\n",
       "      <td>XC201398.ogg</td>\n",
       "      <td>32.0</td>\n",
       "      <td>casfin</td>\n",
       "      <td>0.008772</td>\n",
       "      <td>155.421000</td>\n",
       "      <td>0.006757</td>\n",
       "    </tr>\n",
       "    <tr>\n",
       "      <th>337304</th>\n",
       "      <td>XC557230_15_0</td>\n",
       "      <td>XC557230.ogg</td>\n",
       "      <td>15.0</td>\n",
       "      <td>blsspa1</td>\n",
       "      <td>0.010000</td>\n",
       "      <td>45.117000</td>\n",
       "      <td>0.027027</td>\n",
       "    </tr>\n",
       "  </tbody>\n",
       "</table>\n",
       "<p>400000 rows × 7 columns</p>\n",
       "</div>"
      ],
      "text/plain": [
       "                row_id      filename  end_sec primary_label  class_weights  \\\n",
       "100645   XC120808_12_0  XC120808.ogg     12.0       gocfly1       0.010870   \n",
       "1536410  XC566182_61_0  XC566182.ogg     61.0        yebcha       0.004292   \n",
       "1147754  XC475992_10_0  XC475992.ogg     10.0        reshaw       0.015873   \n",
       "646537    XC601092_7_0  XC601092.ogg      7.0        daejun       0.003546   \n",
       "572691   XC241333_10_0  XC241333.ogg     10.0       coltro1       0.008333   \n",
       "...                ...           ...      ...           ...            ...   \n",
       "1359976  XC276416_20_0  XC276416.ogg     20.0       trogna1       0.013158   \n",
       "1498386  XC187235_50_0  XC187235.ogg     50.0       wilsni1       0.016667   \n",
       "1060854  XC368259_45_0  XC368259.ogg     45.0       orbspa1       0.007576   \n",
       "493109   XC201398_32_0  XC201398.ogg     32.0        casfin       0.008772   \n",
       "337304   XC557230_15_0  XC557230.ogg     15.0       blsspa1       0.010000   \n",
       "\n",
       "           duration   weights  \n",
       "100645    24.357031  0.050000  \n",
       "1536410   86.085000  0.012195  \n",
       "1147754   26.320281  0.045455  \n",
       "646537    32.685000  0.038462  \n",
       "572691    81.405000  0.017241  \n",
       "...             ...       ...  \n",
       "1359976   27.260688  0.043478  \n",
       "1498386   68.612531  0.029412  \n",
       "1060854   59.469688  0.018519  \n",
       "493109   155.421000  0.006757  \n",
       "337304    45.117000  0.027027  \n",
       "\n",
       "[400000 rows x 7 columns]"
      ]
     },
     "execution_count": 31,
     "metadata": {},
     "output_type": "execute_result"
    }
   ],
   "source": [
    "final_sample"
   ]
  },
  {
   "cell_type": "code",
   "execution_count": 32,
   "metadata": {},
   "outputs": [],
   "source": [
    "final_sample = final_sample[\n",
    "    [\"row_id\", \"filename\", \"end_sec\", \"primary_label\", \"class_weights\"]\n",
    "].merge(\n",
    "    all_audio[\n",
    "        [\n",
    "            \"filename\",\n",
    "            \"secondary_labels\",\n",
    "            \"label_id\",\n",
    "            \"secondary_labels_id\",\n",
    "            \"duration\",\n",
    "            \"rating\",\n",
    "            \"year\",\n",
    "            \"file_path\",\n",
    "            \"sin_month\",\n",
    "            \"cos_month\",\n",
    "            \"sin_longitude\",\n",
    "            \"cos_longitude\",\n",
    "            \"latitude\",\n",
    "            \"norm_latitude\",\n",
    "        ]\n",
    "    ],\n",
    "    on=\"filename\",\n",
    "    how=\"left\",\n",
    ")"
   ]
  },
  {
   "cell_type": "code",
   "execution_count": 33,
   "metadata": {},
   "outputs": [],
   "source": [
    "final_sample = final_sample.sample(frac=1, random_state=SEED).reset_index(drop=True)"
   ]
  },
  {
   "cell_type": "code",
   "execution_count": 34,
   "metadata": {},
   "outputs": [
    {
     "data": {
      "text/plain": [
       "cubthr     2357\n",
       "bncfly     2297\n",
       "bulori     2270\n",
       "normoc     2238\n",
       "yebcha     2229\n",
       "           ... \n",
       "comgol       73\n",
       "gbbgul       66\n",
       "sander       62\n",
       "wegspa1      61\n",
       "stvhum2      42\n",
       "Name: primary_label, Length: 393, dtype: int64"
      ]
     },
     "execution_count": 34,
     "metadata": {},
     "output_type": "execute_result"
    }
   ],
   "source": [
    "final_sample[\"primary_label\"].value_counts()"
   ]
  },
  {
   "cell_type": "markdown",
   "metadata": {},
   "source": [
    "# nocall"
   ]
  },
  {
   "cell_type": "code",
   "execution_count": 35,
   "metadata": {},
   "outputs": [
    {
     "data": {
      "text/plain": [
       "XC327562.ogg    15\n",
       "XC293291.ogg    13\n",
       "XC277582.ogg    13\n",
       "XC217733.ogg    12\n",
       "XC419561.ogg    12\n",
       "                ..\n",
       "XC132192.ogg     1\n",
       "XC291092.ogg     1\n",
       "XC168589.ogg     1\n",
       "XC259210.ogg     1\n",
       "XC187408.ogg     1\n",
       "Name: filename, Length: 192, dtype: int64"
      ]
     },
     "execution_count": 35,
     "metadata": {},
     "output_type": "execute_result"
    }
   ],
   "source": [
    "nocall = nocall.drop_duplicates()\n",
    "\n",
    "nocall[\"file_path\"] = nocall[\"file_path\"].str.replace(\"birdclef-2021/\", \"\")\n",
    "\n",
    "nocall = nocall[~nocall['file_path'].str.contains('train_soundscapes')].reset_index(drop=True)\n",
    "\n",
    "soundscapes_nocall =all_audio[all_audio['file_path'].str.contains('train_soundscapes')]\n",
    "soundscapes_nocall = soundscapes_nocall[soundscapes_nocall['primary_label']=='nocall']\n",
    "\n",
    "dict_w = (1/nocall['filename'].value_counts()).to_dict()\n",
    "nocall['weights'] = nocall['filename'].replace(dict_w)\n",
    "\n",
    "nocall_sample = nocall.sample(1200, random_state=SEED,  weights='weights')\n",
    "\n",
    "nocall_sample['filename'].value_counts()"
   ]
  },
  {
   "cell_type": "code",
   "execution_count": 36,
   "metadata": {},
   "outputs": [
    {
     "data": {
      "text/plain": [
       "filename                  0\n",
       "row_id                    0\n",
       "start_sec                 0\n",
       "end_sec                   0\n",
       "file_path                 0\n",
       "duration                  0\n",
       "rating                  273\n",
       "year                    273\n",
       "sin_month               273\n",
       "cos_month               273\n",
       "sin_longitude           273\n",
       "cos_longitude           273\n",
       "latitude                273\n",
       "norm_latitude           273\n",
       "class_weights           273\n",
       "label_id                  0\n",
       "secondary_labels_id    2729\n",
       "dtype: int64"
      ]
     },
     "execution_count": 36,
     "metadata": {},
     "output_type": "execute_result"
    },
    {
     "data": {
      "text/plain": [
       "count    2456.000000\n",
       "mean     2016.318404\n",
       "std         4.392783\n",
       "min      1990.000000\n",
       "25%      2016.000000\n",
       "50%      2017.000000\n",
       "75%      2019.000000\n",
       "max      2021.000000\n",
       "Name: year, dtype: float64"
      ]
     },
     "execution_count": 36,
     "metadata": {},
     "output_type": "execute_result"
    }
   ],
   "source": [
    "nocall_sample = nocall_sample.merge(\n",
    "    all_audio[\n",
    "        [\n",
    "            \"filename\",\n",
    "            \"rating\",\n",
    "            \"year\",\n",
    "            \"sin_month\",\n",
    "            \"cos_month\",\n",
    "            \"sin_longitude\",\n",
    "            \"cos_longitude\",\n",
    "            \"latitude\",\n",
    "            \"norm_latitude\",\n",
    "            'class_weights'\n",
    "        ]\n",
    "    ],\n",
    "    on=\"filename\",\n",
    "    how=\"left\",\n",
    ")\n",
    "\n",
    "nocall_sample = nocall_sample[['filename', 'row_id', 'start_sec', 'end_sec', 'file_path',\n",
    "       'duration', 'rating', 'year', 'sin_month', 'cos_month',\n",
    "       'sin_longitude', 'cos_longitude', 'latitude', 'norm_latitude',\n",
    "       'class_weights']]\n",
    "soundscapes_nocall = soundscapes_nocall[['filename', 'row_id', 'start_sec', 'end_sec', 'file_path',\n",
    "       'duration', 'rating', 'year', 'sin_month', 'cos_month',\n",
    "       'sin_longitude', 'cos_longitude', 'latitude', 'norm_latitude',\n",
    "       'class_weights']]\n",
    "\n",
    "soundscapes_nocall['duration']=600\n",
    "\n",
    "all_nocall = pd.concat([nocall_sample, soundscapes_nocall], axis=0, ignore_index=True)\n",
    "\n",
    "all_nocall[\"label_id\"] = dict_birds[\"nocall\"]\n",
    "all_nocall[\"secondary_labels_id\"] = np.nan\n",
    "all_nocall = all_nocall.sample(frac=1, random_state=SEED).reset_index(drop=True)\n",
    "\n",
    "all_nocall.isna().sum()\n",
    "\n",
    "all_nocall['year'].describe()"
   ]
  },
  {
   "cell_type": "code",
   "execution_count": null,
   "metadata": {},
   "outputs": [],
   "source": []
  },
  {
   "cell_type": "markdown",
   "metadata": {},
   "source": [
    "# concat"
   ]
  },
  {
   "cell_type": "code",
   "execution_count": 37,
   "metadata": {},
   "outputs": [
    {
     "data": {
      "text/plain": [
       "(402729, 19)"
      ]
     },
     "execution_count": 37,
     "metadata": {},
     "output_type": "execute_result"
    }
   ],
   "source": [
    "final_audio = (\n",
    "    pd.concat(\n",
    "        [final_sample, all_nocall],\n",
    "        axis=0,\n",
    "        ignore_index=True,\n",
    "    )\n",
    "    .sample(frac=1, random_state=SEED)\n",
    "    .reset_index(drop=True)\n",
    ")\n",
    "final_audio.shape"
   ]
  },
  {
   "cell_type": "code",
   "execution_count": 38,
   "metadata": {},
   "outputs": [
    {
     "data": {
      "text/plain": [
       "buwtea     239\n",
       "oliwoo1    225\n",
       "categr     221\n",
       "tropew1    219\n",
       "norsho     191\n",
       "rthhum     187\n",
       "whimbr     173\n",
       "commer     149\n",
       "hofwoo1    148\n",
       "crfpar     113\n",
       "runwre1    110\n",
       "whcpar     106\n",
       "banswa     106\n",
       "lotduc     103\n",
       "rudtur      92\n",
       "comgol      73\n",
       "gbbgul      66\n",
       "sander      62\n",
       "wegspa1     61\n",
       "stvhum2     42\n",
       "Name: primary_label, dtype: int64"
      ]
     },
     "execution_count": 38,
     "metadata": {},
     "output_type": "execute_result"
    }
   ],
   "source": [
    "final_audio[\"primary_label\"].value_counts().tail(20)"
   ]
  },
  {
   "cell_type": "markdown",
   "metadata": {},
   "source": [
    "#  upsampling\n"
   ]
  },
  {
   "cell_type": "code",
   "execution_count": 39,
   "metadata": {},
   "outputs": [],
   "source": [
    "rare_birds = list(final_audio[\"primary_label\"].value_counts().tail(20).index.values)"
   ]
  },
  {
   "cell_type": "code",
   "execution_count": 40,
   "metadata": {},
   "outputs": [
    {
     "data": {
      "text/html": [
       "<div>\n",
       "<style scoped>\n",
       "    .dataframe tbody tr th:only-of-type {\n",
       "        vertical-align: middle;\n",
       "    }\n",
       "\n",
       "    .dataframe tbody tr th {\n",
       "        vertical-align: top;\n",
       "    }\n",
       "\n",
       "    .dataframe thead th {\n",
       "        text-align: right;\n",
       "    }\n",
       "</style>\n",
       "<table border=\"1\" class=\"dataframe\">\n",
       "  <thead>\n",
       "    <tr style=\"text-align: right;\">\n",
       "      <th></th>\n",
       "      <th>end_sec</th>\n",
       "      <th>class_weights</th>\n",
       "      <th>filename</th>\n",
       "    </tr>\n",
       "  </thead>\n",
       "  <tbody>\n",
       "    <tr>\n",
       "      <th>XC101288_5_0</th>\n",
       "      <td>5.00</td>\n",
       "      <td>0.045455</td>\n",
       "      <td>XC101288.ogg</td>\n",
       "    </tr>\n",
       "    <tr>\n",
       "      <th>XC101288_5_46</th>\n",
       "      <td>5.46</td>\n",
       "      <td>0.045455</td>\n",
       "      <td>XC101288.ogg</td>\n",
       "    </tr>\n",
       "    <tr>\n",
       "      <th>XC101288_5_93</th>\n",
       "      <td>5.93</td>\n",
       "      <td>0.045455</td>\n",
       "      <td>XC101288.ogg</td>\n",
       "    </tr>\n",
       "    <tr>\n",
       "      <th>XC101288_6_4</th>\n",
       "      <td>6.40</td>\n",
       "      <td>0.045455</td>\n",
       "      <td>XC101288.ogg</td>\n",
       "    </tr>\n",
       "    <tr>\n",
       "      <th>XC101288_6_87</th>\n",
       "      <td>6.87</td>\n",
       "      <td>0.045455</td>\n",
       "      <td>XC101288.ogg</td>\n",
       "    </tr>\n",
       "    <tr>\n",
       "      <th>...</th>\n",
       "      <td>...</td>\n",
       "      <td>...</td>\n",
       "      <td>...</td>\n",
       "    </tr>\n",
       "    <tr>\n",
       "      <th>XC617300_29_75</th>\n",
       "      <td>29.75</td>\n",
       "      <td>0.200000</td>\n",
       "      <td>XC617300.ogg</td>\n",
       "    </tr>\n",
       "    <tr>\n",
       "      <th>XC617300_29_9</th>\n",
       "      <td>29.90</td>\n",
       "      <td>0.200000</td>\n",
       "      <td>XC617300.ogg</td>\n",
       "    </tr>\n",
       "    <tr>\n",
       "      <th>XC617300_30_05</th>\n",
       "      <td>30.05</td>\n",
       "      <td>0.200000</td>\n",
       "      <td>XC617300.ogg</td>\n",
       "    </tr>\n",
       "    <tr>\n",
       "      <th>XC617300_30_2</th>\n",
       "      <td>30.20</td>\n",
       "      <td>0.200000</td>\n",
       "      <td>XC617300.ogg</td>\n",
       "    </tr>\n",
       "    <tr>\n",
       "      <th>XC617300_29_86</th>\n",
       "      <td>29.86</td>\n",
       "      <td>0.200000</td>\n",
       "      <td>XC617300.ogg</td>\n",
       "    </tr>\n",
       "  </tbody>\n",
       "</table>\n",
       "<p>12778 rows × 3 columns</p>\n",
       "</div>"
      ],
      "text/plain": [
       "                end_sec  class_weights      filename\n",
       "XC101288_5_0       5.00       0.045455  XC101288.ogg\n",
       "XC101288_5_46      5.46       0.045455  XC101288.ogg\n",
       "XC101288_5_93      5.93       0.045455  XC101288.ogg\n",
       "XC101288_6_4       6.40       0.045455  XC101288.ogg\n",
       "XC101288_6_87      6.87       0.045455  XC101288.ogg\n",
       "...                 ...            ...           ...\n",
       "XC617300_29_75    29.75       0.200000  XC617300.ogg\n",
       "XC617300_29_9     29.90       0.200000  XC617300.ogg\n",
       "XC617300_30_05    30.05       0.200000  XC617300.ogg\n",
       "XC617300_30_2     30.20       0.200000  XC617300.ogg\n",
       "XC617300_29_86    29.86       0.200000  XC617300.ogg\n",
       "\n",
       "[12778 rows x 3 columns]"
      ]
     },
     "execution_count": 40,
     "metadata": {},
     "output_type": "execute_result"
    }
   ],
   "source": [
    "df = pd.DataFrame(columns=[\"end_sec\", \"class_weights\", \"filename\"])\n",
    "for bird in rare_birds:\n",
    "    rare_bird_filenames = (\n",
    "    all_audio.query(\"primary_label ==@bird\")[\"filename\"].unique().tolist())\n",
    "    rare_array = all_audio.query(\n",
    "        \"primary_label ==@bird and rating!=0 and rating!=6 and filename in @rare_bird_filenames\"\n",
    "    )[[\"filename\", \"duration\", \"class_weights\"]].values\n",
    "    intervals = make_intervals_upsampling(rare_array,sum_intervals=600)\n",
    "    df = pd.concat([df, intervals], axis=0)\n",
    "\n",
    "df"
   ]
  },
  {
   "cell_type": "code",
   "execution_count": 41,
   "metadata": {},
   "outputs": [
    {
     "data": {
      "text/plain": [
       "(278,)"
      ]
     },
     "execution_count": 41,
     "metadata": {},
     "output_type": "execute_result"
    }
   ],
   "source": [
    "df['filename'].unique().shape"
   ]
  },
  {
   "cell_type": "code",
   "execution_count": 42,
   "metadata": {},
   "outputs": [],
   "source": [
    "df[\"row_id\"] = df.index\n",
    "df = df.merge(\n",
    "    all_audio[\n",
    "        [\n",
    "            \"filename\",\n",
    "            \"primary_label\",\n",
    "            \"secondary_labels\",\n",
    "            \"label_id\",\n",
    "            \"secondary_labels_id\",\n",
    "            \"duration\",\n",
    "            \"rating\",\n",
    "            \"year\",\n",
    "            \"file_path\",\n",
    "            \"frames\",\n",
    "            \"sin_month\",\n",
    "            \"cos_month\",\n",
    "            \"sin_longitude\",\n",
    "            \"cos_longitude\",\n",
    "            \"latitude\",\n",
    "            \"norm_latitude\",\n",
    "            \"date\",\n",
    "        ]\n",
    "    ],\n",
    "    on=\"filename\",\n",
    "    how=\"left\",\n",
    ")\n",
    "df[\"end_sec\"] = df[\"end_sec\"].apply(lambda x: x if x > 5 else 5)\n",
    "df[\"start_sec\"] = df[\"end_sec\"] - 5"
   ]
  },
  {
   "cell_type": "code",
   "execution_count": 43,
   "metadata": {},
   "outputs": [
    {
     "data": {
      "text/plain": [
       "(20,)"
      ]
     },
     "execution_count": 43,
     "metadata": {},
     "output_type": "execute_result"
    }
   ],
   "source": [
    "df['primary_label'].unique().shape"
   ]
  },
  {
   "cell_type": "code",
   "execution_count": 44,
   "metadata": {},
   "outputs": [
    {
     "data": {
      "text/plain": [
       "(415507, 21)"
      ]
     },
     "execution_count": 44,
     "metadata": {},
     "output_type": "execute_result"
    },
    {
     "data": {
      "text/plain": [
       "laugul     335\n",
       "flrtan1    326\n",
       "orfpar     321\n",
       "nrwswa     321\n",
       "baleag     314\n",
       "rubrob     305\n",
       "bkbplo     305\n",
       "amewig     300\n",
       "solsan     284\n",
       "grhcha1    278\n",
       "bucmot2    278\n",
       "rotbec     276\n",
       "lobdow     268\n",
       "tunswa     262\n",
       "rugdov     262\n",
       "greegr     259\n",
       "rebsap     252\n",
       "gretin1    244\n",
       "gwfgoo     242\n",
       "rehbar1    240\n",
       "Name: primary_label, dtype: int64"
      ]
     },
     "execution_count": 44,
     "metadata": {},
     "output_type": "execute_result"
    }
   ],
   "source": [
    "final_audio = (\n",
    "    pd.concat(\n",
    "        [final_audio, df],\n",
    "        axis=0,\n",
    "        ignore_index=True,\n",
    "    )\n",
    "    .sample(frac=1, random_state=SEED)\n",
    "    .reset_index(drop=True)\n",
    ")\n",
    "final_audio.shape\n",
    "\n",
    "final_audio[\"primary_label\"].value_counts().tail(20)"
   ]
  },
  {
   "cell_type": "code",
   "execution_count": 45,
   "metadata": {},
   "outputs": [],
   "source": [
    "train, valid = train_test_split(final_audio, train_size=0.8, random_state=SEED)\n",
    "train = train.reset_index(drop=True)\n",
    "valid = valid.reset_index(drop=True)"
   ]
  },
  {
   "cell_type": "markdown",
   "metadata": {},
   "source": [
    "# MEL_Gen"
   ]
  },
  {
   "cell_type": "code",
   "execution_count": 46,
   "metadata": {},
   "outputs": [],
   "source": [
    "NUM_CLASSES = len(dict_birds)\n",
    "BATCH_SIZE = 224"
   ]
  },
  {
   "cell_type": "code",
   "execution_count": 47,
   "metadata": {},
   "outputs": [],
   "source": [
    "mel_pr = Mel_Provider(\n",
    "    n_fft=N_FFT,\n",
    "    win_length=WIN_LENGHT,\n",
    "    n_mels=IMG_SIZE,\n",
    "    sample_rate=SAMPLE_RATE,\n",
    "    mel_image_size=IMG_SIZE,\n",
    "    min_frequency=FREQ_MIN,\n",
    "    max_frequency=FREQ_MAX,\n",
    "    signal_lenght=SIGNAL_LENGTH,\n",
    ")"
   ]
  },
  {
   "cell_type": "code",
   "execution_count": 48,
   "metadata": {},
   "outputs": [],
   "source": [
    "# shutil.rmtree('/app/_data/npy/short_mels_224_uint8/', ignore_errors=True)"
   ]
  },
  {
   "cell_type": "code",
   "execution_count": 49,
   "metadata": {},
   "outputs": [],
   "source": [
    "gen_train = MEL_Gen(\n",
    "    df=train,\n",
    "    n_mels=IMG_SIZE,\n",
    "    seed=SEED,\n",
    "    sample_rate=SAMPLE_RATE,\n",
    "    mel_image_size=IMG_SIZE,\n",
    "    batch_size=BATCH_SIZE,\n",
    "    n_classes=NUM_CLASSES,\n",
    "    signal_lenght=SIGNAL_LENGTH,\n",
    "    mel_provider=mel_pr,\n",
    "    wave_dir=\"/app/_data/npy/waves_npy/\",\n",
    "    short_mel_dir=\"/app/_data/npy/short_mels_260_uint8/\",\n",
    "    convert_to_rgb=True,\n",
    "    shuffle=True,\n",
    "    return_primary_labels=False,\n",
    "    return_concat_labels=True,\n",
    "    augment=False,\n",
    "    img_dtype=\"uint8\",\n",
    "    secondary_coeff=0.3\n",
    ")\n",
    "gen_valid = MEL_Gen(\n",
    "    df=valid,\n",
    "    n_mels=IMG_SIZE,\n",
    "    seed=SEED,\n",
    "    sample_rate=SAMPLE_RATE,\n",
    "    mel_image_size=IMG_SIZE,\n",
    "    batch_size=BATCH_SIZE,\n",
    "    n_classes=NUM_CLASSES,\n",
    "    signal_lenght=SIGNAL_LENGTH,\n",
    "    mel_provider=mel_pr,\n",
    "    wave_dir=\"/app/_data/npy/waves_npy/\",\n",
    "    short_mel_dir=\"/app/_data/npy/short_mels_260_uint8/\",\n",
    "    convert_to_rgb=True,\n",
    "    shuffle=False,\n",
    "    return_primary_labels=False,\n",
    "    return_concat_labels=True,\n",
    "    augment=False,\n",
    "    img_dtype=\"uint8\",\n",
    "    secondary_coeff=0.3\n",
    ")"
   ]
  },
  {
   "cell_type": "code",
   "execution_count": 50,
   "metadata": {},
   "outputs": [],
   "source": [
    "a = gen_train.__getitem__(0)"
   ]
  },
  {
   "cell_type": "code",
   "execution_count": 51,
   "metadata": {},
   "outputs": [
    {
     "data": {
      "text/plain": [
       "<matplotlib.image.AxesImage at 0x7f579bfc5c70>"
      ]
     },
     "execution_count": 51,
     "metadata": {},
     "output_type": "execute_result"
    },
    {
     "data": {
      "image/png": "[encoded data removed]",
      "text/plain": [
       "<Figure size 432x288 with 1 Axes>"
      ]
     },
     "metadata": {
      "image/png": {
       "height": 251,
       "width": 259
      },
      "needs_background": "light"
     },
     "output_type": "display_data"
    }
   ],
   "source": [
    "plt.imshow(a[0][0])"
   ]
  },
  {
   "cell_type": "markdown",
   "metadata": {},
   "source": [
    "# model"
   ]
  },
  {
   "cell_type": "code",
   "execution_count": 52,
   "metadata": {},
   "outputs": [
    {
     "name": "stdout",
     "output_type": "stream",
     "text": [
      "INFO:tensorflow:Mixed precision compatibility check (mixed_float16): OK\n",
      "Your GPU will likely run quickly with dtype policy mixed_float16 as it has compute capability of at least 7.0. Your GPU: NVIDIA GeForce RTX 3090, compute capability 8.6\n"
     ]
    }
   ],
   "source": [
    "def get_model():\n",
    "    inputs = keras.Input(shape=(IMG_SIZE, IMG_SIZE, 3))\n",
    "    base_model = keras.applications.EfficientNetB2(\n",
    "        weights=\"imagenet\", include_top=False\n",
    "    )\n",
    "    x = base_model(inputs)\n",
    "    x = keras.layers.GlobalAveragePooling2D(name=\"avg_pool\")(x)\n",
    "    x = keras.layers.Flatten(name=\"flatten\")(x)\n",
    "    outputs = keras.layers.Dense(NUM_CLASSES, activation=\"sigmoid\")(x)\n",
    "    model = keras.Model(inputs=inputs, outputs=outputs)\n",
    "    model.compile(\n",
    "        loss=\"binary_crossentropy\",\n",
    "        optimizer=Adam(lr=0.0005),\n",
    "        metrics=[\n",
    "            \"acc\",\n",
    "            keras.metrics.Recall(),\n",
    "            keras.metrics.Precision(),\n",
    "            tfa.metrics.F1Score(num_classes=NUM_CLASSES, average=\"micro\"),\n",
    "        ],\n",
    "    )\n",
    "    return model\n",
    "\n",
    "\n",
    "policy = keras.mixed_precision.experimental.Policy(\"mixed_float16\")\n",
    "keras.mixed_precision.experimental.set_policy(policy)"
   ]
  },
  {
   "cell_type": "code",
   "execution_count": 53,
   "metadata": {},
   "outputs": [],
   "source": [
    "callbacks = [\n",
    "    keras.callbacks.EarlyStopping(\n",
    "        monitor=\"val_loss\",\n",
    "        patience=12,\n",
    "        restore_best_weights=True,\n",
    "        verbose=1,\n",
    "        mode=\"min\",\n",
    "    ),\n",
    "    keras.callbacks.ModelCheckpoint(\n",
    "        \"/app/_data/models/from_nocall/Eff2_4/Eff2_4.h5\",\n",
    "        monitor=\"val_loss\",\n",
    "        verbose=1,\n",
    "        save_best_only=True,\n",
    "        save_weights_only=False,\n",
    "        mode=\"min\",\n",
    "        save_freq=\"epoch\",\n",
    "    ),\n",
    "    keras.callbacks.ReduceLROnPlateau(\n",
    "        monitor=\"val_loss\",\n",
    "        factor=0.9,\n",
    "        patience=5,\n",
    "        verbose=1,\n",
    "        mode=\"min\",\n",
    "        min_delta=1e-4,\n",
    "        min_lr=0.00000001,\n",
    "    ),\n",
    "    keras.callbacks.TensorBoard(\n",
    "        log_dir=\"/app/.tensorboard/Eff2_4/\", histogram_freq=0\n",
    "    ),\n",
    "    keras.callbacks.experimental.BackupAndRestore(\n",
    "        \"/app/_data/models/from_nocall/Eff2_4/backup/\"\n",
    "    ),\n",
    "    keras.callbacks.TerminateOnNaN(),\n",
    "]"
   ]
  },
  {
   "cell_type": "code",
   "execution_count": 54,
   "metadata": {},
   "outputs": [
    {
     "name": "stdout",
     "output_type": "stream",
     "text": [
      "Epoch 10/100\n",
      "   1/1483 [..............................] - ETA: 0s - loss: 0.0028 - acc: 0.9866 - recall: 0.5240 - precision: 0.9882 - f1_score: 0.8461WARNING:tensorflow:From /usr/local/lib/python3.8/dist-packages/tensorflow/python/ops/summary_ops_v2.py:1277: stop (from tensorflow.python.eager.profiler) is deprecated and will be removed after 2020-07-01.\n",
      "Instructions for updating:\n",
      "use `tf.profiler.experimental.stop` instead.\n",
      "1483/1483 [==============================] - ETA: 0s - loss: 0.0029 - acc: 0.9740 - recall: 0.5209 - precision: 0.9898 - f1_score: 0.8411\n",
      "Epoch 00010: val_loss improved from inf to 0.00361, saving model to /app/_data/models/from_nocall/Eff2_4/Eff2_4.h5\n",
      "1483/1483 [==============================] - 827s 558ms/step - loss: 0.0029 - acc: 0.9740 - recall: 0.5209 - precision: 0.9898 - f1_score: 0.8411 - val_loss: 0.0036 - val_acc: 0.9316 - val_recall: 0.4964 - val_precision: 0.9719 - val_f1_score: 0.8076\n",
      "Epoch 11/100\n",
      "1483/1483 [==============================] - ETA: 0s - loss: 0.0028 - acc: 0.9790 - recall: 0.5245 - precision: 0.9913 - f1_score: 0.8447\n",
      "Epoch 00011: val_loss improved from 0.00361 to 0.00345, saving model to /app/_data/models/from_nocall/Eff2_4/Eff2_4.h5\n",
      "1483/1483 [==============================] - 838s 565ms/step - loss: 0.0028 - acc: 0.9790 - recall: 0.5245 - precision: 0.9913 - f1_score: 0.8447 - val_loss: 0.0034 - val_acc: 0.9388 - val_recall: 0.5106 - val_precision: 0.9739 - val_f1_score: 0.8129\n",
      "Epoch 12/100\n",
      "1483/1483 [==============================] - ETA: 0s - loss: 0.0027 - acc: 0.9817 - recall: 0.5275 - precision: 0.9928 - f1_score: 0.8467\n",
      "Epoch 00012: val_loss improved from 0.00345 to 0.00339, saving model to /app/_data/models/from_nocall/Eff2_4/Eff2_4.h5\n",
      "1483/1483 [==============================] - 836s 564ms/step - loss: 0.0027 - acc: 0.9817 - recall: 0.5275 - precision: 0.9928 - f1_score: 0.8467 - val_loss: 0.0034 - val_acc: 0.9419 - val_recall: 0.5140 - val_precision: 0.9728 - val_f1_score: 0.8148\n",
      "Epoch 13/100\n",
      "1483/1483 [==============================] - ETA: 0s - loss: 0.0026 - acc: 0.9837 - recall: 0.5295 - precision: 0.9933 - f1_score: 0.8481\n",
      "Epoch 00013: val_loss did not improve from 0.00339\n",
      "1483/1483 [==============================] - 843s 569ms/step - loss: 0.0026 - acc: 0.9837 - recall: 0.5295 - precision: 0.9933 - f1_score: 0.8481 - val_loss: 0.0034 - val_acc: 0.9397 - val_recall: 0.5278 - val_precision: 0.9727 - val_f1_score: 0.8134\n",
      "Epoch 14/100\n",
      "1483/1483 [==============================] - ETA: 0s - loss: 0.0025 - acc: 0.9856 - recall: 0.5309 - precision: 0.9942 - f1_score: 0.8494\n",
      "Epoch 00014: val_loss improved from 0.00339 to 0.00328, saving model to /app/_data/models/from_nocall/Eff2_4/Eff2_4.h5\n",
      "1483/1483 [==============================] - 839s 566ms/step - loss: 0.0025 - acc: 0.9856 - recall: 0.5309 - precision: 0.9942 - f1_score: 0.8494 - val_loss: 0.0033 - val_acc: 0.9443 - val_recall: 0.5170 - val_precision: 0.9752 - val_f1_score: 0.8168\n",
      "Epoch 15/100\n",
      "1483/1483 [==============================] - ETA: 0s - loss: 0.0025 - acc: 0.9873 - recall: 0.5316 - precision: 0.9948 - f1_score: 0.8507\n",
      "Epoch 00015: val_loss improved from 0.00328 to 0.00318, saving model to /app/_data/models/from_nocall/Eff2_4/Eff2_4.h5\n",
      "1483/1483 [==============================] - 843s 568ms/step - loss: 0.0025 - acc: 0.9873 - recall: 0.5316 - precision: 0.9948 - f1_score: 0.8507 - val_loss: 0.0032 - val_acc: 0.9478 - val_recall: 0.5234 - val_precision: 0.9791 - val_f1_score: 0.8198\n",
      "Epoch 16/100\n",
      "1483/1483 [==============================] - ETA: 0s - loss: 0.0024 - acc: 0.9889 - recall: 0.5321 - precision: 0.9956 - f1_score: 0.8518\n",
      "Epoch 00016: val_loss did not improve from 0.00318\n",
      "1483/1483 [==============================] - 842s 568ms/step - loss: 0.0024 - acc: 0.9889 - recall: 0.5321 - precision: 0.9956 - f1_score: 0.8518 - val_loss: 0.0032 - val_acc: 0.9469 - val_recall: 0.5142 - val_precision: 0.9790 - val_f1_score: 0.8189\n",
      "Epoch 17/100\n",
      "1483/1483 [==============================] - ETA: 0s - loss: 0.0024 - acc: 0.9895 - recall: 0.5321 - precision: 0.9957 - f1_score: 0.8521\n",
      "Epoch 00017: val_loss did not improve from 0.00318\n",
      "1483/1483 [==============================] - 847s 571ms/step - loss: 0.0024 - acc: 0.9895 - recall: 0.5321 - precision: 0.9957 - f1_score: 0.8521 - val_loss: 0.0032 - val_acc: 0.9466 - val_recall: 0.5158 - val_precision: 0.9787 - val_f1_score: 0.8189\n",
      "Epoch 18/100\n",
      "1483/1483 [==============================] - ETA: 0s - loss: 0.0024 - acc: 0.9905 - recall: 0.5322 - precision: 0.9960 - f1_score: 0.8528\n",
      "Epoch 00018: val_loss improved from 0.00318 to 0.00311, saving model to /app/_data/models/from_nocall/Eff2_4/Eff2_4.h5\n",
      "1483/1483 [==============================] - 845s 570ms/step - loss: 0.0024 - acc: 0.9905 - recall: 0.5322 - precision: 0.9960 - f1_score: 0.8528 - val_loss: 0.0031 - val_acc: 0.9511 - val_recall: 0.5441 - val_precision: 0.9777 - val_f1_score: 0.8220\n",
      "Epoch 19/100\n",
      "1483/1483 [==============================] - ETA: 0s - loss: 0.0023 - acc: 0.9912 - recall: 0.5326 - precision: 0.9964 - f1_score: 0.8533\n",
      "Epoch 00019: val_loss did not improve from 0.00311\n",
      "1483/1483 [==============================] - 848s 572ms/step - loss: 0.0023 - acc: 0.9912 - recall: 0.5326 - precision: 0.9964 - f1_score: 0.8533 - val_loss: 0.0031 - val_acc: 0.9492 - val_recall: 0.5179 - val_precision: 0.9798 - val_f1_score: 0.8207\n",
      "Epoch 20/100\n",
      "1483/1483 [==============================] - ETA: 0s - loss: 0.0023 - acc: 0.9922 - recall: 0.5321 - precision: 0.9968 - f1_score: 0.8540\n",
      "Epoch 00020: val_loss improved from 0.00311 to 0.00306, saving model to /app/_data/models/from_nocall/Eff2_4/Eff2_4.h5\n",
      "1483/1483 [==============================] - 851s 574ms/step - loss: 0.0023 - acc: 0.9922 - recall: 0.5321 - precision: 0.9968 - f1_score: 0.8540 - val_loss: 0.0031 - val_acc: 0.9518 - val_recall: 0.5187 - val_precision: 0.9825 - val_f1_score: 0.8228\n",
      "Epoch 21/100\n",
      "1483/1483 [==============================] - ETA: 0s - loss: 0.0023 - acc: 0.9927 - recall: 0.5321 - precision: 0.9971 - f1_score: 0.8544\n",
      "Epoch 00021: val_loss improved from 0.00306 to 0.00303, saving model to /app/_data/models/from_nocall/Eff2_4/Eff2_4.h5\n",
      "1483/1483 [==============================] - 850s 573ms/step - loss: 0.0023 - acc: 0.9927 - recall: 0.5321 - precision: 0.9971 - f1_score: 0.8544 - val_loss: 0.0030 - val_acc: 0.9539 - val_recall: 0.5351 - val_precision: 0.9814 - val_f1_score: 0.8242\n",
      "Epoch 22/100\n",
      "1483/1483 [==============================] - ETA: 0s - loss: 0.0023 - acc: 0.9931 - recall: 0.5310 - precision: 0.9967 - f1_score: 0.8546\n",
      "Epoch 00022: val_loss improved from 0.00303 to 0.00297, saving model to /app/_data/models/from_nocall/Eff2_4/Eff2_4.h5\n",
      "1483/1483 [==============================] - 854s 576ms/step - loss: 0.0023 - acc: 0.9931 - recall: 0.5310 - precision: 0.9967 - f1_score: 0.8546 - val_loss: 0.0030 - val_acc: 0.9548 - val_recall: 0.5204 - val_precision: 0.9833 - val_f1_score: 0.8247\n",
      "Epoch 23/100\n",
      "1483/1483 [==============================] - ETA: 0s - loss: 0.0022 - acc: 0.9936 - recall: 0.5311 - precision: 0.9974 - f1_score: 0.8550\n",
      "Epoch 00023: val_loss improved from 0.00297 to 0.00294, saving model to /app/_data/models/from_nocall/Eff2_4/Eff2_4.h5\n",
      "1483/1483 [==============================] - 854s 576ms/step - loss: 0.0022 - acc: 0.9936 - recall: 0.5311 - precision: 0.9974 - f1_score: 0.8550 - val_loss: 0.0029 - val_acc: 0.9571 - val_recall: 0.5292 - val_precision: 0.9845 - val_f1_score: 0.8265\n",
      "Epoch 24/100\n",
      "1483/1483 [==============================] - ETA: 0s - loss: 0.0022 - acc: 0.9944 - recall: 0.5308 - precision: 0.9976 - f1_score: 0.8555\n",
      "Epoch 00024: val_loss did not improve from 0.00294\n",
      "1483/1483 [==============================] - 854s 576ms/step - loss: 0.0022 - acc: 0.9944 - recall: 0.5308 - precision: 0.9976 - f1_score: 0.8555 - val_loss: 0.0031 - val_acc: 0.9510 - val_recall: 0.5184 - val_precision: 0.9816 - val_f1_score: 0.8218\n",
      "Epoch 25/100\n",
      "1483/1483 [==============================] - ETA: 0s - loss: 0.0022 - acc: 0.9943 - recall: 0.5299 - precision: 0.9975 - f1_score: 0.8555\n",
      "Epoch 00025: val_loss improved from 0.00294 to 0.00292, saving model to /app/_data/models/from_nocall/Eff2_4/Eff2_4.h5\n",
      "1483/1483 [==============================] - 855s 576ms/step - loss: 0.0022 - acc: 0.9943 - recall: 0.5299 - precision: 0.9975 - f1_score: 0.8555 - val_loss: 0.0029 - val_acc: 0.9585 - val_recall: 0.5231 - val_precision: 0.9856 - val_f1_score: 0.8275\n",
      "Epoch 26/100\n",
      "1483/1483 [==============================] - ETA: 0s - loss: 0.0022 - acc: 0.9949 - recall: 0.5293 - precision: 0.9977 - f1_score: 0.8559\n",
      "Epoch 00026: val_loss improved from 0.00292 to 0.00291, saving model to /app/_data/models/from_nocall/Eff2_4/Eff2_4.h5\n",
      "1483/1483 [==============================] - 859s 579ms/step - loss: 0.0022 - acc: 0.9949 - recall: 0.5293 - precision: 0.9977 - f1_score: 0.8559 - val_loss: 0.0029 - val_acc: 0.9574 - val_recall: 0.5239 - val_precision: 0.9843 - val_f1_score: 0.8268\n",
      "Epoch 27/100\n",
      "1483/1483 [==============================] - ETA: 0s - loss: 0.0021 - acc: 0.9955 - recall: 0.5286 - precision: 0.9979 - f1_score: 0.8562\n",
      "Epoch 00027: val_loss improved from 0.00291 to 0.00289, saving model to /app/_data/models/from_nocall/Eff2_4/Eff2_4.h5\n",
      "1483/1483 [==============================] - 860s 580ms/step - loss: 0.0021 - acc: 0.9955 - recall: 0.5286 - precision: 0.9979 - f1_score: 0.8562 - val_loss: 0.0029 - val_acc: 0.9586 - val_recall: 0.5325 - val_precision: 0.9850 - val_f1_score: 0.8277\n",
      "Epoch 28/100\n",
      "1483/1483 [==============================] - ETA: 0s - loss: 0.0021 - acc: 0.9952 - recall: 0.5279 - precision: 0.9979 - f1_score: 0.8561\n",
      "Epoch 00028: val_loss improved from 0.00289 to 0.00287, saving model to /app/_data/models/from_nocall/Eff2_4/Eff2_4.h5\n",
      "\n",
      "Epoch 00028: ReduceLROnPlateau reducing learning rate to 0.0004500000213738531.\n",
      "1483/1483 [==============================] - 856s 577ms/step - loss: 0.0021 - acc: 0.9952 - recall: 0.5279 - precision: 0.9979 - f1_score: 0.8561 - val_loss: 0.0029 - val_acc: 0.9576 - val_recall: 0.5176 - val_precision: 0.9847 - val_f1_score: 0.8268\n",
      "Epoch 29/100\n",
      "1483/1483 [==============================] - ETA: 0s - loss: 0.0021 - acc: 0.9965 - recall: 0.5249 - precision: 0.9985 - f1_score: 0.8570\n",
      "Epoch 00029: val_loss improved from 0.00287 to 0.00279, saving model to /app/_data/models/from_nocall/Eff2_4/Eff2_4.h5\n",
      "1483/1483 [==============================] - 868s 585ms/step - loss: 0.0021 - acc: 0.9965 - recall: 0.5249 - precision: 0.9985 - f1_score: 0.8570 - val_loss: 0.0028 - val_acc: 0.9616 - val_recall: 0.5101 - val_precision: 0.9884 - val_f1_score: 0.8298\n",
      "Epoch 30/100\n",
      "1483/1483 [==============================] - ETA: 0s - loss: 0.0021 - acc: 0.9967 - recall: 0.5245 - precision: 0.9986 - f1_score: 0.8571\n",
      "Epoch 00030: val_loss did not improve from 0.00279\n",
      "1483/1483 [==============================] - 867s 584ms/step - loss: 0.0021 - acc: 0.9967 - recall: 0.5245 - precision: 0.9986 - f1_score: 0.8571 - val_loss: 0.0028 - val_acc: 0.9615 - val_recall: 0.5429 - val_precision: 0.9852 - val_f1_score: 0.8296\n",
      "Epoch 31/100\n",
      "1483/1483 [==============================] - ETA: 0s - loss: 0.0021 - acc: 0.9969 - recall: 0.5238 - precision: 0.9985 - f1_score: 0.8572\n",
      "Epoch 00031: val_loss did not improve from 0.00279\n",
      "1483/1483 [==============================] - 864s 582ms/step - loss: 0.0021 - acc: 0.9969 - recall: 0.5238 - precision: 0.9985 - f1_score: 0.8572 - val_loss: 0.0029 - val_acc: 0.9567 - val_recall: 0.5161 - val_precision: 0.9838 - val_f1_score: 0.8259\n",
      "Epoch 32/100\n",
      "1483/1483 [==============================] - ETA: 0s - loss: 0.0020 - acc: 0.9970 - recall: 0.5233 - precision: 0.9986 - f1_score: 0.8573\n",
      "Epoch 00032: val_loss improved from 0.00279 to 0.00278, saving model to /app/_data/models/from_nocall/Eff2_4/Eff2_4.h5\n",
      "1483/1483 [==============================] - 849s 573ms/step - loss: 0.0020 - acc: 0.9970 - recall: 0.5233 - precision: 0.9986 - f1_score: 0.8573 - val_loss: 0.0028 - val_acc: 0.9615 - val_recall: 0.5352 - val_precision: 0.9859 - val_f1_score: 0.8297\n",
      "Epoch 33/100\n",
      "1483/1483 [==============================] - ETA: 0s - loss: 0.0020 - acc: 0.9973 - recall: 0.5225 - precision: 0.9988 - f1_score: 0.8575\n",
      "Epoch 00033: val_loss improved from 0.00278 to 0.00273, saving model to /app/_data/models/from_nocall/Eff2_4/Eff2_4.h5\n",
      "1483/1483 [==============================] - 844s 569ms/step - loss: 0.0020 - acc: 0.9973 - recall: 0.5225 - precision: 0.9988 - f1_score: 0.8575 - val_loss: 0.0027 - val_acc: 0.9627 - val_recall: 0.5142 - val_precision: 0.9877 - val_f1_score: 0.8306\n",
      "Epoch 34/100\n",
      "1483/1483 [==============================] - ETA: 0s - loss: 0.0020 - acc: 0.9974 - recall: 0.5219 - precision: 0.9987 - f1_score: 0.8575\n",
      "Epoch 00034: val_loss did not improve from 0.00273\n",
      "\n",
      "Epoch 00034: ReduceLROnPlateau reducing learning rate to 0.0004050000192364678.\n",
      "1483/1483 [==============================] - 849s 572ms/step - loss: 0.0020 - acc: 0.9974 - recall: 0.5219 - precision: 0.9987 - f1_score: 0.8575 - val_loss: 0.0029 - val_acc: 0.9569 - val_recall: 0.5295 - val_precision: 0.9831 - val_f1_score: 0.8261\n",
      "Epoch 35/100\n",
      "1483/1483 [==============================] - ETA: 0s - loss: 0.0020 - acc: 0.9976 - recall: 0.5185 - precision: 0.9989 - f1_score: 0.8577\n",
      "Epoch 00035: val_loss improved from 0.00273 to 0.00272, saving model to /app/_data/models/from_nocall/Eff2_4/Eff2_4.h5\n",
      "1483/1483 [==============================] - 860s 580ms/step - loss: 0.0020 - acc: 0.9976 - recall: 0.5185 - precision: 0.9989 - f1_score: 0.8577 - val_loss: 0.0027 - val_acc: 0.9624 - val_recall: 0.5231 - val_precision: 0.9869 - val_f1_score: 0.8303\n",
      "Epoch 36/100\n",
      "1483/1483 [==============================] - ETA: 0s - loss: 0.0020 - acc: 0.9980 - recall: 0.5174 - precision: 0.9990 - f1_score: 0.8580\n",
      "Epoch 00036: val_loss improved from 0.00272 to 0.00269, saving model to /app/_data/models/from_nocall/Eff2_4/Eff2_4.h5\n",
      "1483/1483 [==============================] - 861s 581ms/step - loss: 0.0020 - acc: 0.9980 - recall: 0.5174 - precision: 0.9990 - f1_score: 0.8580 - val_loss: 0.0027 - val_acc: 0.9649 - val_recall: 0.5260 - val_precision: 0.9879 - val_f1_score: 0.8322\n",
      "Epoch 37/100\n",
      "1483/1483 [==============================] - ETA: 0s - loss: 0.0020 - acc: 0.9980 - recall: 0.5169 - precision: 0.9991 - f1_score: 0.8580\n",
      "Epoch 00037: val_loss improved from 0.00269 to 0.00268, saving model to /app/_data/models/from_nocall/Eff2_4/Eff2_4.h5\n",
      "1483/1483 [==============================] - 856s 577ms/step - loss: 0.0020 - acc: 0.9980 - recall: 0.5169 - precision: 0.9991 - f1_score: 0.8580 - val_loss: 0.0027 - val_acc: 0.9650 - val_recall: 0.5327 - val_precision: 0.9873 - val_f1_score: 0.8321\n",
      "Epoch 38/100\n",
      "1483/1483 [==============================] - ETA: 0s - loss: 0.0020 - acc: 0.9982 - recall: 0.5159 - precision: 0.9991 - f1_score: 0.8581\n",
      "Epoch 00038: val_loss improved from 0.00268 to 0.00267, saving model to /app/_data/models/from_nocall/Eff2_4/Eff2_4.h5\n",
      "1483/1483 [==============================] - 857s 578ms/step - loss: 0.0020 - acc: 0.9982 - recall: 0.5159 - precision: 0.9991 - f1_score: 0.8581 - val_loss: 0.0027 - val_acc: 0.9659 - val_recall: 0.5247 - val_precision: 0.9887 - val_f1_score: 0.8329\n",
      "Epoch 39/100\n",
      "1483/1483 [==============================] - ETA: 0s - loss: 0.0020 - acc: 0.9982 - recall: 0.5157 - precision: 0.9992 - f1_score: 0.8581\n",
      "Epoch 00039: val_loss did not improve from 0.00267\n",
      "1483/1483 [==============================] - 857s 578ms/step - loss: 0.0020 - acc: 0.9982 - recall: 0.5157 - precision: 0.9992 - f1_score: 0.8581 - val_loss: 0.0027 - val_acc: 0.9644 - val_recall: 0.5310 - val_precision: 0.9869 - val_f1_score: 0.8316\n",
      "Epoch 40/100\n",
      "1483/1483 [==============================] - ETA: 0s - loss: 0.0020 - acc: 0.9984 - recall: 0.5150 - precision: 0.9991 - f1_score: 0.8582\n",
      "Epoch 00040: val_loss did not improve from 0.00267\n",
      "1483/1483 [==============================] - 862s 581ms/step - loss: 0.0020 - acc: 0.9984 - recall: 0.5150 - precision: 0.9991 - f1_score: 0.8582 - val_loss: 0.0028 - val_acc: 0.9605 - val_recall: 0.5176 - val_precision: 0.9865 - val_f1_score: 0.8288\n",
      "Epoch 41/100\n",
      "1483/1483 [==============================] - ETA: 0s - loss: 0.0019 - acc: 0.9986 - recall: 0.5142 - precision: 0.9993 - f1_score: 0.8583\n",
      "Epoch 00041: val_loss improved from 0.00267 to 0.00266, saving model to /app/_data/models/from_nocall/Eff2_4/Eff2_4.h5\n",
      "1483/1483 [==============================] - 860s 580ms/step - loss: 0.0019 - acc: 0.9986 - recall: 0.5142 - precision: 0.9993 - f1_score: 0.8583 - val_loss: 0.0027 - val_acc: 0.9657 - val_recall: 0.5260 - val_precision: 0.9875 - val_f1_score: 0.8328\n",
      "Epoch 42/100\n",
      "1483/1483 [==============================] - ETA: 0s - loss: 0.0019 - acc: 0.9984 - recall: 0.5140 - precision: 0.9991 - f1_score: 0.8583\n",
      "Epoch 00042: val_loss did not improve from 0.00266\n",
      "\n",
      "Epoch 00042: ReduceLROnPlateau reducing learning rate to 0.0003645000251708552.\n",
      "1483/1483 [==============================] - 857s 578ms/step - loss: 0.0019 - acc: 0.9984 - recall: 0.5140 - precision: 0.9991 - f1_score: 0.8583 - val_loss: 0.0028 - val_acc: 0.9633 - val_recall: 0.5244 - val_precision: 0.9865 - val_f1_score: 0.8307\n",
      "Epoch 43/100\n",
      "1483/1483 [==============================] - ETA: 0s - loss: 0.0019 - acc: 0.9987 - recall: 0.5107 - precision: 0.9994 - f1_score: 0.8585\n",
      "Epoch 00043: val_loss improved from 0.00266 to 0.00264, saving model to /app/_data/models/from_nocall/Eff2_4/Eff2_4.h5\n",
      "1483/1483 [==============================] - 862s 581ms/step - loss: 0.0019 - acc: 0.9987 - recall: 0.5107 - precision: 0.9994 - f1_score: 0.8585 - val_loss: 0.0026 - val_acc: 0.9666 - val_recall: 0.5299 - val_precision: 0.9879 - val_f1_score: 0.8334\n",
      "Epoch 44/100\n",
      "1483/1483 [==============================] - ETA: 0s - loss: 0.0019 - acc: 0.9988 - recall: 0.5098 - precision: 0.9994 - f1_score: 0.8585\n",
      "Epoch 00044: val_loss did not improve from 0.00264\n",
      "1483/1483 [==============================] - 864s 583ms/step - loss: 0.0019 - acc: 0.9988 - recall: 0.5098 - precision: 0.9994 - f1_score: 0.8585 - val_loss: 0.0027 - val_acc: 0.9655 - val_recall: 0.5161 - val_precision: 0.9884 - val_f1_score: 0.8326\n",
      "Epoch 45/100\n",
      "1483/1483 [==============================] - ETA: 0s - loss: 0.0019 - acc: 0.9988 - recall: 0.5096 - precision: 0.9994 - f1_score: 0.8585\n",
      "Epoch 00045: val_loss did not improve from 0.00264\n",
      "1483/1483 [==============================] - 860s 580ms/step - loss: 0.0019 - acc: 0.9988 - recall: 0.5096 - precision: 0.9994 - f1_score: 0.8585 - val_loss: 0.0027 - val_acc: 0.9659 - val_recall: 0.5318 - val_precision: 0.9892 - val_f1_score: 0.8329\n",
      "Epoch 46/100\n",
      "1483/1483 [==============================] - ETA: 0s - loss: 0.0019 - acc: 0.9990 - recall: 0.5088 - precision: 0.9995 - f1_score: 0.8587\n",
      "Epoch 00046: val_loss improved from 0.00264 to 0.00262, saving model to /app/_data/models/from_nocall/Eff2_4/Eff2_4.h5\n",
      "1483/1483 [==============================] - 862s 581ms/step - loss: 0.0019 - acc: 0.9990 - recall: 0.5088 - precision: 0.9995 - f1_score: 0.8587 - val_loss: 0.0026 - val_acc: 0.9675 - val_recall: 0.5260 - val_precision: 0.9883 - val_f1_score: 0.8341\n",
      "Epoch 47/100\n",
      "1483/1483 [==============================] - ETA: 0s - loss: 0.0019 - acc: 0.9989 - recall: 0.5083 - precision: 0.9995 - f1_score: 0.8586\n",
      "Epoch 00047: val_loss improved from 0.00262 to 0.00262, saving model to /app/_data/models/from_nocall/Eff2_4/Eff2_4.h5\n",
      "\n",
      "Epoch 00047: ReduceLROnPlateau reducing learning rate to 0.0003280500357504934.\n",
      "1483/1483 [==============================] - 856s 577ms/step - loss: 0.0019 - acc: 0.9989 - recall: 0.5083 - precision: 0.9995 - f1_score: 0.8586 - val_loss: 0.0026 - val_acc: 0.9681 - val_recall: 0.5157 - val_precision: 0.9885 - val_f1_score: 0.8345\n",
      "Epoch 48/100\n",
      " 258/1483 [====>.........................] - ETA: 9:42 - loss: 0.0019 - acc: 0.9988 - recall: 0.5044 - precision: 0.9996 - f1_score: 0.8578"
     ]
    },
    {
     "ename": "ResourceExhaustedError",
     "evalue": " OOM when allocating tensor with shape[224,131,131,96] and type half on /job:localhost/replica:0/task:0/device:GPU:0 by allocator GPU_0_bfc\n\t [[node gradient_tape/functional_1/efficientnetb2/block2a_dwconv/depthwise/DepthwiseConv2dNativeBackpropInput (defined at <ipython-input-54-2f01e9ec22f2>:2) ]]\nHint: If you want to see a list of allocated tensors when OOM happens, add report_tensor_allocations_upon_oom to RunOptions for current allocation info.\n [Op:__inference_train_function_43833]\n\nFunction call stack:\ntrain_function\n",
     "output_type": "error",
     "traceback": [
      "\u001b[0;31m\u001b[0m",
      "\u001b[0;31mResourceExhaustedError\u001b[0mTraceback (most recent call last)",
      "\u001b[0;32m<ipython-input-54-2f01e9ec22f2>\u001b[0m in \u001b[0;36m<module>\u001b[0;34m\u001b[0m\n\u001b[1;32m      1\u001b[0m \u001b[0mmodel\u001b[0m \u001b[0;34m=\u001b[0m \u001b[0mget_model\u001b[0m\u001b[0;34m(\u001b[0m\u001b[0;34m)\u001b[0m\u001b[0;34m\u001b[0m\u001b[0;34m\u001b[0m\u001b[0m\n\u001b[0;32m----> 2\u001b[0;31m history = model.fit(\n\u001b[0m\u001b[1;32m      3\u001b[0m     \u001b[0mgen_train\u001b[0m\u001b[0;34m,\u001b[0m\u001b[0;34m\u001b[0m\u001b[0;34m\u001b[0m\u001b[0m\n\u001b[1;32m      4\u001b[0m     \u001b[0mvalidation_data\u001b[0m\u001b[0;34m=\u001b[0m\u001b[0mgen_valid\u001b[0m\u001b[0;34m,\u001b[0m\u001b[0;34m\u001b[0m\u001b[0;34m\u001b[0m\u001b[0m\n\u001b[1;32m      5\u001b[0m     \u001b[0mepochs\u001b[0m\u001b[0;34m=\u001b[0m\u001b[0;36m100\u001b[0m\u001b[0;34m,\u001b[0m\u001b[0;34m\u001b[0m\u001b[0;34m\u001b[0m\u001b[0m\n",
      "\u001b[0;32m/usr/local/lib/python3.8/dist-packages/tensorflow/python/keras/engine/training.py\u001b[0m in \u001b[0;36m_method_wrapper\u001b[0;34m(self, *args, **kwargs)\u001b[0m\n\u001b[1;32m    106\u001b[0m   \u001b[0;32mdef\u001b[0m \u001b[0m_method_wrapper\u001b[0m\u001b[0;34m(\u001b[0m\u001b[0mself\u001b[0m\u001b[0;34m,\u001b[0m \u001b[0;34m*\u001b[0m\u001b[0margs\u001b[0m\u001b[0;34m,\u001b[0m \u001b[0;34m**\u001b[0m\u001b[0mkwargs\u001b[0m\u001b[0;34m)\u001b[0m\u001b[0;34m:\u001b[0m\u001b[0;34m\u001b[0m\u001b[0;34m\u001b[0m\u001b[0m\n\u001b[1;32m    107\u001b[0m     \u001b[0;32mif\u001b[0m \u001b[0;32mnot\u001b[0m \u001b[0mself\u001b[0m\u001b[0;34m.\u001b[0m\u001b[0m_in_multi_worker_mode\u001b[0m\u001b[0;34m(\u001b[0m\u001b[0;34m)\u001b[0m\u001b[0;34m:\u001b[0m  \u001b[0;31m# pylint: disable=protected-access\u001b[0m\u001b[0;34m\u001b[0m\u001b[0;34m\u001b[0m\u001b[0m\n\u001b[0;32m--> 108\u001b[0;31m       \u001b[0;32mreturn\u001b[0m \u001b[0mmethod\u001b[0m\u001b[0;34m(\u001b[0m\u001b[0mself\u001b[0m\u001b[0;34m,\u001b[0m \u001b[0;34m*\u001b[0m\u001b[0margs\u001b[0m\u001b[0;34m,\u001b[0m \u001b[0;34m**\u001b[0m\u001b[0mkwargs\u001b[0m\u001b[0;34m)\u001b[0m\u001b[0;34m\u001b[0m\u001b[0;34m\u001b[0m\u001b[0m\n\u001b[0m\u001b[1;32m    109\u001b[0m \u001b[0;34m\u001b[0m\u001b[0m\n\u001b[1;32m    110\u001b[0m     \u001b[0;31m# Running inside `run_distribute_coordinator` already.\u001b[0m\u001b[0;34m\u001b[0m\u001b[0;34m\u001b[0m\u001b[0;34m\u001b[0m\u001b[0m\n",
      "\u001b[0;32m/usr/local/lib/python3.8/dist-packages/tensorflow/python/keras/engine/training.py\u001b[0m in \u001b[0;36mfit\u001b[0;34m(self, x, y, batch_size, epochs, verbose, callbacks, validation_split, validation_data, shuffle, class_weight, sample_weight, initial_epoch, steps_per_epoch, validation_steps, validation_batch_size, validation_freq, max_queue_size, workers, use_multiprocessing)\u001b[0m\n\u001b[1;32m   1096\u001b[0m                 batch_size=batch_size):\n\u001b[1;32m   1097\u001b[0m               \u001b[0mcallbacks\u001b[0m\u001b[0;34m.\u001b[0m\u001b[0mon_train_batch_begin\u001b[0m\u001b[0;34m(\u001b[0m\u001b[0mstep\u001b[0m\u001b[0;34m)\u001b[0m\u001b[0;34m\u001b[0m\u001b[0;34m\u001b[0m\u001b[0m\n\u001b[0;32m-> 1098\u001b[0;31m               \u001b[0mtmp_logs\u001b[0m \u001b[0;34m=\u001b[0m \u001b[0mtrain_function\u001b[0m\u001b[0;34m(\u001b[0m\u001b[0miterator\u001b[0m\u001b[0;34m)\u001b[0m\u001b[0;34m\u001b[0m\u001b[0;34m\u001b[0m\u001b[0m\n\u001b[0m\u001b[1;32m   1099\u001b[0m               \u001b[0;32mif\u001b[0m \u001b[0mdata_handler\u001b[0m\u001b[0;34m.\u001b[0m\u001b[0mshould_sync\u001b[0m\u001b[0;34m:\u001b[0m\u001b[0;34m\u001b[0m\u001b[0;34m\u001b[0m\u001b[0m\n\u001b[1;32m   1100\u001b[0m                 \u001b[0mcontext\u001b[0m\u001b[0;34m.\u001b[0m\u001b[0masync_wait\u001b[0m\u001b[0;34m(\u001b[0m\u001b[0;34m)\u001b[0m\u001b[0;34m\u001b[0m\u001b[0;34m\u001b[0m\u001b[0m\n",
      "\u001b[0;32m/usr/local/lib/python3.8/dist-packages/tensorflow/python/eager/def_function.py\u001b[0m in \u001b[0;36m__call__\u001b[0;34m(self, *args, **kwds)\u001b[0m\n\u001b[1;32m    778\u001b[0m       \u001b[0;32melse\u001b[0m\u001b[0;34m:\u001b[0m\u001b[0;34m\u001b[0m\u001b[0;34m\u001b[0m\u001b[0m\n\u001b[1;32m    779\u001b[0m         \u001b[0mcompiler\u001b[0m \u001b[0;34m=\u001b[0m \u001b[0;34m\"nonXla\"\u001b[0m\u001b[0;34m\u001b[0m\u001b[0;34m\u001b[0m\u001b[0m\n\u001b[0;32m--> 780\u001b[0;31m         \u001b[0mresult\u001b[0m \u001b[0;34m=\u001b[0m \u001b[0mself\u001b[0m\u001b[0;34m.\u001b[0m\u001b[0m_call\u001b[0m\u001b[0;34m(\u001b[0m\u001b[0;34m*\u001b[0m\u001b[0margs\u001b[0m\u001b[0;34m,\u001b[0m \u001b[0;34m**\u001b[0m\u001b[0mkwds\u001b[0m\u001b[0;34m)\u001b[0m\u001b[0;34m\u001b[0m\u001b[0;34m\u001b[0m\u001b[0m\n\u001b[0m\u001b[1;32m    781\u001b[0m \u001b[0;34m\u001b[0m\u001b[0m\n\u001b[1;32m    782\u001b[0m       \u001b[0mnew_tracing_count\u001b[0m \u001b[0;34m=\u001b[0m \u001b[0mself\u001b[0m\u001b[0;34m.\u001b[0m\u001b[0m_get_tracing_count\u001b[0m\u001b[0;34m(\u001b[0m\u001b[0;34m)\u001b[0m\u001b[0;34m\u001b[0m\u001b[0;34m\u001b[0m\u001b[0m\n",
      "\u001b[0;32m/usr/local/lib/python3.8/dist-packages/tensorflow/python/eager/def_function.py\u001b[0m in \u001b[0;36m_call\u001b[0;34m(self, *args, **kwds)\u001b[0m\n\u001b[1;32m    805\u001b[0m       \u001b[0;31m# In this case we have created variables on the first call, so we run the\u001b[0m\u001b[0;34m\u001b[0m\u001b[0;34m\u001b[0m\u001b[0;34m\u001b[0m\u001b[0m\n\u001b[1;32m    806\u001b[0m       \u001b[0;31m# defunned version which is guaranteed to never create variables.\u001b[0m\u001b[0;34m\u001b[0m\u001b[0;34m\u001b[0m\u001b[0;34m\u001b[0m\u001b[0m\n\u001b[0;32m--> 807\u001b[0;31m       \u001b[0;32mreturn\u001b[0m \u001b[0mself\u001b[0m\u001b[0;34m.\u001b[0m\u001b[0m_stateless_fn\u001b[0m\u001b[0;34m(\u001b[0m\u001b[0;34m*\u001b[0m\u001b[0margs\u001b[0m\u001b[0;34m,\u001b[0m \u001b[0;34m**\u001b[0m\u001b[0mkwds\u001b[0m\u001b[0;34m)\u001b[0m  \u001b[0;31m# pylint: disable=not-callable\u001b[0m\u001b[0;34m\u001b[0m\u001b[0;34m\u001b[0m\u001b[0m\n\u001b[0m\u001b[1;32m    808\u001b[0m     \u001b[0;32melif\u001b[0m \u001b[0mself\u001b[0m\u001b[0;34m.\u001b[0m\u001b[0m_stateful_fn\u001b[0m \u001b[0;32mis\u001b[0m \u001b[0;32mnot\u001b[0m \u001b[0;32mNone\u001b[0m\u001b[0;34m:\u001b[0m\u001b[0;34m\u001b[0m\u001b[0;34m\u001b[0m\u001b[0m\n\u001b[1;32m    809\u001b[0m       \u001b[0;31m# Release the lock early so that multiple threads can perform the call\u001b[0m\u001b[0;34m\u001b[0m\u001b[0;34m\u001b[0m\u001b[0;34m\u001b[0m\u001b[0m\n",
      "\u001b[0;32m/usr/local/lib/python3.8/dist-packages/tensorflow/python/eager/function.py\u001b[0m in \u001b[0;36m__call__\u001b[0;34m(self, *args, **kwargs)\u001b[0m\n\u001b[1;32m   2827\u001b[0m     \u001b[0;32mwith\u001b[0m \u001b[0mself\u001b[0m\u001b[0;34m.\u001b[0m\u001b[0m_lock\u001b[0m\u001b[0;34m:\u001b[0m\u001b[0;34m\u001b[0m\u001b[0;34m\u001b[0m\u001b[0m\n\u001b[1;32m   2828\u001b[0m       \u001b[0mgraph_function\u001b[0m\u001b[0;34m,\u001b[0m \u001b[0margs\u001b[0m\u001b[0;34m,\u001b[0m \u001b[0mkwargs\u001b[0m \u001b[0;34m=\u001b[0m \u001b[0mself\u001b[0m\u001b[0;34m.\u001b[0m\u001b[0m_maybe_define_function\u001b[0m\u001b[0;34m(\u001b[0m\u001b[0margs\u001b[0m\u001b[0;34m,\u001b[0m \u001b[0mkwargs\u001b[0m\u001b[0;34m)\u001b[0m\u001b[0;34m\u001b[0m\u001b[0;34m\u001b[0m\u001b[0m\n\u001b[0;32m-> 2829\u001b[0;31m     \u001b[0;32mreturn\u001b[0m \u001b[0mgraph_function\u001b[0m\u001b[0;34m.\u001b[0m\u001b[0m_filtered_call\u001b[0m\u001b[0;34m(\u001b[0m\u001b[0margs\u001b[0m\u001b[0;34m,\u001b[0m \u001b[0mkwargs\u001b[0m\u001b[0;34m)\u001b[0m  \u001b[0;31m# pylint: disable=protected-access\u001b[0m\u001b[0;34m\u001b[0m\u001b[0;34m\u001b[0m\u001b[0m\n\u001b[0m\u001b[1;32m   2830\u001b[0m \u001b[0;34m\u001b[0m\u001b[0m\n\u001b[1;32m   2831\u001b[0m   \u001b[0;34m@\u001b[0m\u001b[0mproperty\u001b[0m\u001b[0;34m\u001b[0m\u001b[0;34m\u001b[0m\u001b[0m\n",
      "\u001b[0;32m/usr/local/lib/python3.8/dist-packages/tensorflow/python/eager/function.py\u001b[0m in \u001b[0;36m_filtered_call\u001b[0;34m(self, args, kwargs, cancellation_manager)\u001b[0m\n\u001b[1;32m   1841\u001b[0m       \u001b[0;31m`\u001b[0m\u001b[0margs\u001b[0m\u001b[0;31m`\u001b[0m \u001b[0;32mand\u001b[0m\u001b[0;31m \u001b[0m\u001b[0;31m`\u001b[0m\u001b[0mkwargs\u001b[0m\u001b[0;31m`\u001b[0m\u001b[0;34m.\u001b[0m\u001b[0;34m\u001b[0m\u001b[0;34m\u001b[0m\u001b[0m\n\u001b[1;32m   1842\u001b[0m     \"\"\"\n\u001b[0;32m-> 1843\u001b[0;31m     return self._call_flat(\n\u001b[0m\u001b[1;32m   1844\u001b[0m         [t for t in nest.flatten((args, kwargs), expand_composites=True)\n\u001b[1;32m   1845\u001b[0m          if isinstance(t, (ops.Tensor,\n",
      "\u001b[0;32m/usr/local/lib/python3.8/dist-packages/tensorflow/python/eager/function.py\u001b[0m in \u001b[0;36m_call_flat\u001b[0;34m(self, args, captured_inputs, cancellation_manager)\u001b[0m\n\u001b[1;32m   1921\u001b[0m         and executing_eagerly):\n\u001b[1;32m   1922\u001b[0m       \u001b[0;31m# No tape is watching; skip to running the function.\u001b[0m\u001b[0;34m\u001b[0m\u001b[0;34m\u001b[0m\u001b[0;34m\u001b[0m\u001b[0m\n\u001b[0;32m-> 1923\u001b[0;31m       return self._build_call_outputs(self._inference_function.call(\n\u001b[0m\u001b[1;32m   1924\u001b[0m           ctx, args, cancellation_manager=cancellation_manager))\n\u001b[1;32m   1925\u001b[0m     forward_backward = self._select_forward_and_backward_functions(\n",
      "\u001b[0;32m/usr/local/lib/python3.8/dist-packages/tensorflow/python/eager/function.py\u001b[0m in \u001b[0;36mcall\u001b[0;34m(self, ctx, args, cancellation_manager)\u001b[0m\n\u001b[1;32m    543\u001b[0m       \u001b[0;32mwith\u001b[0m \u001b[0m_InterpolateFunctionError\u001b[0m\u001b[0;34m(\u001b[0m\u001b[0mself\u001b[0m\u001b[0;34m)\u001b[0m\u001b[0;34m:\u001b[0m\u001b[0;34m\u001b[0m\u001b[0;34m\u001b[0m\u001b[0m\n\u001b[1;32m    544\u001b[0m         \u001b[0;32mif\u001b[0m \u001b[0mcancellation_manager\u001b[0m \u001b[0;32mis\u001b[0m \u001b[0;32mNone\u001b[0m\u001b[0;34m:\u001b[0m\u001b[0;34m\u001b[0m\u001b[0;34m\u001b[0m\u001b[0m\n\u001b[0;32m--> 545\u001b[0;31m           outputs = execute.execute(\n\u001b[0m\u001b[1;32m    546\u001b[0m               \u001b[0mstr\u001b[0m\u001b[0;34m(\u001b[0m\u001b[0mself\u001b[0m\u001b[0;34m.\u001b[0m\u001b[0msignature\u001b[0m\u001b[0;34m.\u001b[0m\u001b[0mname\u001b[0m\u001b[0;34m)\u001b[0m\u001b[0;34m,\u001b[0m\u001b[0;34m\u001b[0m\u001b[0;34m\u001b[0m\u001b[0m\n\u001b[1;32m    547\u001b[0m               \u001b[0mnum_outputs\u001b[0m\u001b[0;34m=\u001b[0m\u001b[0mself\u001b[0m\u001b[0;34m.\u001b[0m\u001b[0m_num_outputs\u001b[0m\u001b[0;34m,\u001b[0m\u001b[0;34m\u001b[0m\u001b[0;34m\u001b[0m\u001b[0m\n",
      "\u001b[0;32m/usr/local/lib/python3.8/dist-packages/tensorflow/python/eager/execute.py\u001b[0m in \u001b[0;36mquick_execute\u001b[0;34m(op_name, num_outputs, inputs, attrs, ctx, name)\u001b[0m\n\u001b[1;32m     57\u001b[0m   \u001b[0;32mtry\u001b[0m\u001b[0;34m:\u001b[0m\u001b[0;34m\u001b[0m\u001b[0;34m\u001b[0m\u001b[0m\n\u001b[1;32m     58\u001b[0m     \u001b[0mctx\u001b[0m\u001b[0;34m.\u001b[0m\u001b[0mensure_initialized\u001b[0m\u001b[0;34m(\u001b[0m\u001b[0;34m)\u001b[0m\u001b[0;34m\u001b[0m\u001b[0;34m\u001b[0m\u001b[0m\n\u001b[0;32m---> 59\u001b[0;31m     tensors = pywrap_tfe.TFE_Py_Execute(ctx._handle, device_name, op_name,\n\u001b[0m\u001b[1;32m     60\u001b[0m                                         inputs, attrs, num_outputs)\n\u001b[1;32m     61\u001b[0m   \u001b[0;32mexcept\u001b[0m \u001b[0mcore\u001b[0m\u001b[0;34m.\u001b[0m\u001b[0m_NotOkStatusException\u001b[0m \u001b[0;32mas\u001b[0m \u001b[0me\u001b[0m\u001b[0;34m:\u001b[0m\u001b[0;34m\u001b[0m\u001b[0;34m\u001b[0m\u001b[0m\n",
      "\u001b[0;31mResourceExhaustedError\u001b[0m:  OOM when allocating tensor with shape[224,131,131,96] and type half on /job:localhost/replica:0/task:0/device:GPU:0 by allocator GPU_0_bfc\n\t [[node gradient_tape/functional_1/efficientnetb2/block2a_dwconv/depthwise/DepthwiseConv2dNativeBackpropInput (defined at <ipython-input-54-2f01e9ec22f2>:2) ]]\nHint: If you want to see a list of allocated tensors when OOM happens, add report_tensor_allocations_upon_oom to RunOptions for current allocation info.\n [Op:__inference_train_function_43833]\n\nFunction call stack:\ntrain_function\n"
     ]
    }
   ],
   "source": [
    "model = get_model()\n",
    "history = model.fit(\n",
    "    gen_train,\n",
    "    validation_data=gen_valid,\n",
    "    epochs=100,\n",
    "    steps_per_epoch=train.shape[0] // BATCH_SIZE,\n",
    "    validation_steps=valid.shape[0] // BATCH_SIZE,\n",
    "    verbose=1,\n",
    "    workers=20,\n",
    "    max_queue_size=50,\n",
    "    callbacks=callbacks,\n",
    ")"
   ]
  },
  {
   "cell_type": "code",
   "execution_count": null,
   "metadata": {},
   "outputs": [],
   "source": []
  }
 ],
 "metadata": {
  "kernelspec": {
   "display_name": "Python 3",
   "language": "python",
   "name": "python3"
  },
  "language_info": {
   "codemirror_mode": {
    "name": "ipython",
    "version": 3
   },
   "file_extension": ".py",
   "mimetype": "text/x-python",
   "name": "python",
   "nbconvert_exporter": "python",
   "pygments_lexer": "ipython3",
   "version": "3.8.5"
  }
 },
 "nbformat": 4,
 "nbformat_minor": 4
}
