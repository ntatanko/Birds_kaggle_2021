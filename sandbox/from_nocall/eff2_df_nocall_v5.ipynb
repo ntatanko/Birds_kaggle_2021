{
 "cells": [
  {
   "cell_type": "code",
   "execution_count": 1,
   "metadata": {},
   "outputs": [],
   "source": [
    "import os\n",
    "import shutil\n",
    "import warnings\n",
    "\n",
    "import numpy as np\n",
    "import pandas as pd\n",
    "import plotly.graph_objects as go\n",
    "import torchaudio\n",
    "\n",
    "warnings.filterwarnings(action=\"ignore\")\n",
    "from IPython.core.interactiveshell import InteractiveShell\n",
    "\n",
    "InteractiveShell.ast_node_interactivity = \"all\"\n",
    "import json\n",
    "\n",
    "import geopandas\n",
    "import librosa\n",
    "import librosa.display\n",
    "import matplotlib.pyplot as plt\n",
    "import scipy.stats as st\n",
    "import seaborn as sns\n",
    "import soundfile\n",
    "import tensorflow as tf\n",
    "import tensorflow_addons as tfa\n",
    "import torch\n",
    "\n",
    "%matplotlib inline\n",
    "from PIL import Image\n",
    "from sklearn.model_selection import train_test_split\n",
    "from sklearn.utils import shuffle\n",
    "from tensorflow import keras\n",
    "from tensorflow.keras.models import Sequential\n",
    "from tensorflow.keras.optimizers import Adam\n",
    "from torchaudio.transforms import MelSpectrogram\n",
    "from tqdm import tqdm\n",
    "\n",
    "from src.MEL_Gen import MEL_Gen, Mel_Provider\n",
    "from src.prepare_dataset import (\n",
    "    choose_ids,\n",
    "    make_dict_birds,\n",
    "    make_intervals,\n",
    "    make_intervals_upsampling,\n",
    "    prepare_dataset,\n",
    ")"
   ]
  },
  {
   "cell_type": "code",
   "execution_count": 2,
   "metadata": {},
   "outputs": [],
   "source": [
    "SEED = 37\n",
    "IMG_SIZE = 260\n",
    "SAMPLE_RATE = 32000\n",
    "N_FFT = 2048\n",
    "SIGNAL_LENGTH = 5\n",
    "FREQ_MIN = 0\n",
    "FREQ_MAX = 16000\n",
    "WIN_LENGHT = 1024\n",
    "BATCH_SIZE = 300\n",
    "list_drop = [\n",
    "    \"XC509721.ogg\",\n",
    "    \"XC428067.ogg\",\n",
    "    \"XC523831.ogg\",\n",
    "    \"XC523960.ogg\",\n",
    "    \"XC237870.ogg\",\n",
    "    \"XC129924.ogg\",\n",
    "    \"XC576851.ogg\",\n",
    "    \"XC579430.ogg\",\n",
    "    \"XC590621.ogg\",\n",
    "]"
   ]
  },
  {
   "cell_type": "code",
   "execution_count": 3,
   "metadata": {},
   "outputs": [],
   "source": [
    "final = pd.read_csv(\"/app/_data/labels_nocall/nocall_predictions.csv\")\n",
    "nocall = pd.read_csv(\"/app/_data/labels_nocall/all_nocalls.csv\")"
   ]
  },
  {
   "cell_type": "code",
   "execution_count": 4,
   "metadata": {},
   "outputs": [
    {
     "data": {
      "text/plain": [
       "(65128, 24)"
      ]
     },
     "execution_count": 4,
     "metadata": {},
     "output_type": "execute_result"
    }
   ],
   "source": [
    "all_audio_init = pd.read_csv(\"/app/_data/all_audio_initial.csv\")\n",
    "all_audio = all_audio_init.query(\"filename not in @list_drop\").reset_index(drop=True)\n",
    "all_audio = all_audio.query(\"year >=1980 and year<=2021\").reset_index(drop=True)\n",
    "\n",
    "all_audio.shape"
   ]
  },
  {
   "cell_type": "markdown",
   "metadata": {},
   "source": [
    "# dict_birds and weights"
   ]
  },
  {
   "cell_type": "code",
   "execution_count": 5,
   "metadata": {},
   "outputs": [],
   "source": [
    "dict_birds, all_audio = make_dict_birds(all_audio)"
   ]
  },
  {
   "cell_type": "code",
   "execution_count": 6,
   "metadata": {},
   "outputs": [
    {
     "data": {
      "text/plain": [
       "398"
      ]
     },
     "execution_count": 6,
     "metadata": {},
     "output_type": "execute_result"
    }
   ],
   "source": [
    "len(dict_birds)"
   ]
  },
  {
   "cell_type": "code",
   "execution_count": 7,
   "metadata": {},
   "outputs": [],
   "source": [
    "# os.mkdir(\"/app/_data/models/from_nocall/Eff2_1/\")"
   ]
  },
  {
   "cell_type": "code",
   "execution_count": 8,
   "metadata": {},
   "outputs": [],
   "source": [
    "file_json = open(\"/app/_data/models/from_nocall/Eff2_2/dict_birds.json\", \"w\")\n",
    "json.dump(dict_birds, file_json)\n",
    "file_json.close()"
   ]
  },
  {
   "cell_type": "code",
   "execution_count": 9,
   "metadata": {},
   "outputs": [],
   "source": [
    "dict_weights = (1 / all_audio[\"primary_label\"].value_counts()).to_dict()\n",
    "all_audio[\"class_weights\"] = all_audio[\"primary_label\"].replace(dict_weights)\n",
    "# all_audio[\"class_weights\"] = all_audio[\"class_weights\"] * all_audio[\"rating\"]"
   ]
  },
  {
   "cell_type": "code",
   "execution_count": 10,
   "metadata": {},
   "outputs": [],
   "source": [
    "all_audio = all_audio[all_audio[\"rating\"] >= 3]"
   ]
  },
  {
   "cell_type": "markdown",
   "metadata": {},
   "source": [
    "## calls"
   ]
  },
  {
   "cell_type": "code",
   "execution_count": 11,
   "metadata": {},
   "outputs": [],
   "source": [
    "drop_list_final = final[(final[\"bird\"] == 1) & (final[\"nocall\"] == 1)][\n",
    "    \"row_id\"\n",
    "].tolist()"
   ]
  },
  {
   "cell_type": "code",
   "execution_count": 12,
   "metadata": {},
   "outputs": [],
   "source": [
    "final = final.query(\"row_id not in @drop_list_final\")\n",
    "final = final.query(\"bird == 1\")\n"
   ]
  },
  {
   "cell_type": "code",
   "execution_count": 13,
   "metadata": {},
   "outputs": [],
   "source": [
    "final = final.merge(\n",
    "    all_audio[[\"filename\", \"primary_label\", \"class_weights\", 'duration']], on=\"filename\", how=\"left\"\n",
    ")"
   ]
  },
  {
   "cell_type": "code",
   "execution_count": 14,
   "metadata": {},
   "outputs": [],
   "source": [
    "final = final.dropna(axis=0)\n",
    "final = final.drop(['nocall', 'bird'], axis=1)"
   ]
  },
  {
   "cell_type": "code",
   "execution_count": 15,
   "metadata": {},
   "outputs": [],
   "source": [
    "dict_w = pd.DataFrame((1/final['filename'].value_counts()))\n",
    "dict_w.columns=['weights']\n",
    "dict_w['filename'] = dict_w.index"
   ]
  },
  {
   "cell_type": "code",
   "execution_count": 16,
   "metadata": {},
   "outputs": [],
   "source": [
    "final = final.merge(dict_w, on='filename', how='left')"
   ]
  },
  {
   "cell_type": "code",
   "execution_count": 17,
   "metadata": {},
   "outputs": [],
   "source": [
    "final_sample = final.sample(1000000, weights=\"weights\", random_state=SEED)\n",
    "final_sample = final_sample.sample(300000, weights=\"class_weights\", random_state=SEED)"
   ]
  },
  {
   "cell_type": "code",
   "execution_count": 18,
   "metadata": {},
   "outputs": [
    {
     "data": {
      "text/plain": [
       "normoc     1435\n",
       "bncfly     1336\n",
       "houwre     1323\n",
       "houspa     1292\n",
       "spotow     1267\n",
       "           ... \n",
       "hofwoo1     133\n",
       "crfpar      118\n",
       "whcpar      109\n",
       "stvhum2      50\n",
       "wegspa1      49\n",
       "Name: primary_label, Length: 397, dtype: int64"
      ]
     },
     "execution_count": 18,
     "metadata": {},
     "output_type": "execute_result"
    }
   ],
   "source": [
    "final_sample['primary_label'].value_counts()"
   ]
  },
  {
   "cell_type": "code",
   "execution_count": 19,
   "metadata": {},
   "outputs": [
    {
     "data": {
      "text/plain": [
       "XC152396.ogg    38\n",
       "XC320750.ogg    38\n",
       "XC429777.ogg    36\n",
       "XC153986.ogg    36\n",
       "XC565865.ogg    36\n",
       "                ..\n",
       "XC333640.ogg     1\n",
       "XC395126.ogg     1\n",
       "XC139095.ogg     1\n",
       "XC192706.ogg     1\n",
       "XC568349.ogg     1\n",
       "Name: filename, Length: 49196, dtype: int64"
      ]
     },
     "execution_count": 19,
     "metadata": {},
     "output_type": "execute_result"
    }
   ],
   "source": [
    "final_sample['filename'].value_counts()"
   ]
  },
  {
   "cell_type": "code",
   "execution_count": 20,
   "metadata": {},
   "outputs": [
    {
     "data": {
      "text/html": [
       "<div>\n",
       "<style scoped>\n",
       "    .dataframe tbody tr th:only-of-type {\n",
       "        vertical-align: middle;\n",
       "    }\n",
       "\n",
       "    .dataframe tbody tr th {\n",
       "        vertical-align: top;\n",
       "    }\n",
       "\n",
       "    .dataframe thead th {\n",
       "        text-align: right;\n",
       "    }\n",
       "</style>\n",
       "<table border=\"1\" class=\"dataframe\">\n",
       "  <thead>\n",
       "    <tr style=\"text-align: right;\">\n",
       "      <th></th>\n",
       "      <th>row_id</th>\n",
       "      <th>filename</th>\n",
       "      <th>end_sec</th>\n",
       "      <th>primary_label</th>\n",
       "      <th>class_weights</th>\n",
       "      <th>duration</th>\n",
       "      <th>weights</th>\n",
       "    </tr>\n",
       "  </thead>\n",
       "  <tbody>\n",
       "    <tr>\n",
       "      <th>2124045</th>\n",
       "      <td>XC350798_56_0</td>\n",
       "      <td>XC350798.ogg</td>\n",
       "      <td>56.0</td>\n",
       "      <td>whbnut</td>\n",
       "      <td>0.003155</td>\n",
       "      <td>108.448437</td>\n",
       "      <td>0.009615</td>\n",
       "    </tr>\n",
       "    <tr>\n",
       "      <th>1488594</th>\n",
       "      <td>XC193766_87_0</td>\n",
       "      <td>XC193766.ogg</td>\n",
       "      <td>87.0</td>\n",
       "      <td>pasfly</td>\n",
       "      <td>0.006369</td>\n",
       "      <td>215.498250</td>\n",
       "      <td>0.005618</td>\n",
       "    </tr>\n",
       "    <tr>\n",
       "      <th>1732840</th>\n",
       "      <td>XC588548_19_0</td>\n",
       "      <td>XC588548.ogg</td>\n",
       "      <td>19.0</td>\n",
       "      <td>rudtur</td>\n",
       "      <td>0.007937</td>\n",
       "      <td>38.806000</td>\n",
       "      <td>0.031250</td>\n",
       "    </tr>\n",
       "    <tr>\n",
       "      <th>1803325</th>\n",
       "      <td>XC393354_6_0</td>\n",
       "      <td>XC393354.ogg</td>\n",
       "      <td>6.0</td>\n",
       "      <td>smbani</td>\n",
       "      <td>0.006250</td>\n",
       "      <td>11.899875</td>\n",
       "      <td>0.142857</td>\n",
       "    </tr>\n",
       "    <tr>\n",
       "      <th>2286913</th>\n",
       "      <td>XC278367_19_0</td>\n",
       "      <td>XC278367.ogg</td>\n",
       "      <td>19.0</td>\n",
       "      <td>yelwar</td>\n",
       "      <td>0.008696</td>\n",
       "      <td>34.051719</td>\n",
       "      <td>0.037037</td>\n",
       "    </tr>\n",
       "    <tr>\n",
       "      <th>...</th>\n",
       "      <td>...</td>\n",
       "      <td>...</td>\n",
       "      <td>...</td>\n",
       "      <td>...</td>\n",
       "      <td>...</td>\n",
       "      <td>...</td>\n",
       "      <td>...</td>\n",
       "    </tr>\n",
       "    <tr>\n",
       "      <th>1206992</th>\n",
       "      <td>XC312979_15_0</td>\n",
       "      <td>XC312979.ogg</td>\n",
       "      <td>15.0</td>\n",
       "      <td>lesvio1</td>\n",
       "      <td>0.006410</td>\n",
       "      <td>41.029000</td>\n",
       "      <td>0.038462</td>\n",
       "    </tr>\n",
       "    <tr>\n",
       "      <th>257292</th>\n",
       "      <td>XC133081_12_0</td>\n",
       "      <td>XC133081.ogg</td>\n",
       "      <td>12.0</td>\n",
       "      <td>bknsti</td>\n",
       "      <td>0.007353</td>\n",
       "      <td>22.557844</td>\n",
       "      <td>0.055556</td>\n",
       "    </tr>\n",
       "    <tr>\n",
       "      <th>10261</th>\n",
       "      <td>XC616749_19_0</td>\n",
       "      <td>XC616749.ogg</td>\n",
       "      <td>19.0</td>\n",
       "      <td>acowoo</td>\n",
       "      <td>0.005263</td>\n",
       "      <td>24.781000</td>\n",
       "      <td>0.058824</td>\n",
       "    </tr>\n",
       "    <tr>\n",
       "      <th>6309</th>\n",
       "      <td>XC245856_31_0</td>\n",
       "      <td>XC245856.ogg</td>\n",
       "      <td>31.0</td>\n",
       "      <td>acowoo</td>\n",
       "      <td>0.005263</td>\n",
       "      <td>32.458250</td>\n",
       "      <td>0.038462</td>\n",
       "    </tr>\n",
       "    <tr>\n",
       "      <th>1736853</th>\n",
       "      <td>XC387956_8_0</td>\n",
       "      <td>XC387956.ogg</td>\n",
       "      <td>8.0</td>\n",
       "      <td>rumfly1</td>\n",
       "      <td>0.008621</td>\n",
       "      <td>9.418250</td>\n",
       "      <td>0.250000</td>\n",
       "    </tr>\n",
       "  </tbody>\n",
       "</table>\n",
       "<p>300000 rows × 7 columns</p>\n",
       "</div>"
      ],
      "text/plain": [
       "                row_id      filename  end_sec primary_label  class_weights  \\\n",
       "2124045  XC350798_56_0  XC350798.ogg     56.0        whbnut       0.003155   \n",
       "1488594  XC193766_87_0  XC193766.ogg     87.0        pasfly       0.006369   \n",
       "1732840  XC588548_19_0  XC588548.ogg     19.0        rudtur       0.007937   \n",
       "1803325   XC393354_6_0  XC393354.ogg      6.0        smbani       0.006250   \n",
       "2286913  XC278367_19_0  XC278367.ogg     19.0        yelwar       0.008696   \n",
       "...                ...           ...      ...           ...            ...   \n",
       "1206992  XC312979_15_0  XC312979.ogg     15.0       lesvio1       0.006410   \n",
       "257292   XC133081_12_0  XC133081.ogg     12.0        bknsti       0.007353   \n",
       "10261    XC616749_19_0  XC616749.ogg     19.0        acowoo       0.005263   \n",
       "6309     XC245856_31_0  XC245856.ogg     31.0        acowoo       0.005263   \n",
       "1736853   XC387956_8_0  XC387956.ogg      8.0       rumfly1       0.008621   \n",
       "\n",
       "           duration   weights  \n",
       "2124045  108.448437  0.009615  \n",
       "1488594  215.498250  0.005618  \n",
       "1732840   38.806000  0.031250  \n",
       "1803325   11.899875  0.142857  \n",
       "2286913   34.051719  0.037037  \n",
       "...             ...       ...  \n",
       "1206992   41.029000  0.038462  \n",
       "257292    22.557844  0.055556  \n",
       "10261     24.781000  0.058824  \n",
       "6309      32.458250  0.038462  \n",
       "1736853    9.418250  0.250000  \n",
       "\n",
       "[300000 rows x 7 columns]"
      ]
     },
     "execution_count": 20,
     "metadata": {},
     "output_type": "execute_result"
    }
   ],
   "source": [
    "final_sample"
   ]
  },
  {
   "cell_type": "code",
   "execution_count": 21,
   "metadata": {},
   "outputs": [],
   "source": [
    "final_sample = final_sample[\n",
    "    [\"row_id\", \"filename\", \"end_sec\", \"primary_label\", \"class_weights\"]\n",
    "].merge(\n",
    "    all_audio[\n",
    "        [\n",
    "            \"filename\",\n",
    "            \"secondary_labels\",\n",
    "            \"label_id\",\n",
    "            \"secondary_labels_id\",\n",
    "            \"duration\",\n",
    "            \"rating\",\n",
    "            \"year\",\n",
    "            \"file_path\",\n",
    "            \"sin_month\",\n",
    "            \"cos_month\",\n",
    "            \"sin_longitude\",\n",
    "            \"cos_longitude\",\n",
    "            \"latitude\",\n",
    "            \"norm_latitude\",\n",
    "        ]\n",
    "    ],\n",
    "    on=\"filename\",\n",
    "    how=\"left\",\n",
    ")"
   ]
  },
  {
   "cell_type": "code",
   "execution_count": 22,
   "metadata": {},
   "outputs": [],
   "source": [
    "final_sample = final_sample.sample(frac=1, random_state=SEED).reset_index(drop=True)"
   ]
  },
  {
   "cell_type": "code",
   "execution_count": 23,
   "metadata": {},
   "outputs": [
    {
     "data": {
      "text/plain": [
       "normoc     1435\n",
       "bncfly     1336\n",
       "houwre     1323\n",
       "houspa     1292\n",
       "spotow     1267\n",
       "           ... \n",
       "hofwoo1     133\n",
       "crfpar      118\n",
       "whcpar      109\n",
       "stvhum2      50\n",
       "wegspa1      49\n",
       "Name: primary_label, Length: 397, dtype: int64"
      ]
     },
     "execution_count": 23,
     "metadata": {},
     "output_type": "execute_result"
    }
   ],
   "source": [
    "final_sample[\"primary_label\"].value_counts()"
   ]
  },
  {
   "cell_type": "markdown",
   "metadata": {},
   "source": [
    "# nocall"
   ]
  },
  {
   "cell_type": "code",
   "execution_count": 24,
   "metadata": {},
   "outputs": [],
   "source": [
    "nocall = nocall.drop_duplicates()"
   ]
  },
  {
   "cell_type": "code",
   "execution_count": 25,
   "metadata": {},
   "outputs": [],
   "source": [
    "nocall[\"file_path\"] = nocall[\"file_path\"].str.replace(\"birdclef-2021/\", \"\")"
   ]
  },
  {
   "cell_type": "code",
   "execution_count": 26,
   "metadata": {},
   "outputs": [],
   "source": [
    "nocall = nocall[~nocall['file_path'].str.contains('train_soundscapes')].reset_index(drop=True)"
   ]
  },
  {
   "cell_type": "code",
   "execution_count": 27,
   "metadata": {},
   "outputs": [],
   "source": [
    "soundscapes_nocall =all_audio[all_audio['file_path'].str.contains('train_soundscapes')]\n",
    "soundscapes_nocall = soundscapes_nocall[soundscapes_nocall['primary_label']=='nocall']"
   ]
  },
  {
   "cell_type": "code",
   "execution_count": 28,
   "metadata": {},
   "outputs": [],
   "source": [
    "dict_w = (1/nocall['filename'].value_counts()).to_dict()\n",
    "nocall['weights'] = nocall['filename'].replace(dict_w)"
   ]
  },
  {
   "cell_type": "code",
   "execution_count": 29,
   "metadata": {},
   "outputs": [],
   "source": [
    "nocall_sample = nocall.sample(1200, random_state=SEED,  weights='weights')"
   ]
  },
  {
   "cell_type": "code",
   "execution_count": 30,
   "metadata": {},
   "outputs": [
    {
     "data": {
      "text/plain": [
       "XC283162.ogg    15\n",
       "XC256594.ogg    13\n",
       "XC144701.ogg    13\n",
       "XC318014.ogg    12\n",
       "XC483212.ogg    11\n",
       "                ..\n",
       "XC187408.ogg     1\n",
       "XC617299.ogg     1\n",
       "XC259210.ogg     1\n",
       "XC132192.ogg     1\n",
       "XC564545.ogg     1\n",
       "Name: filename, Length: 191, dtype: int64"
      ]
     },
     "execution_count": 30,
     "metadata": {},
     "output_type": "execute_result"
    }
   ],
   "source": [
    "nocall_sample['filename'].value_counts()"
   ]
  },
  {
   "cell_type": "code",
   "execution_count": 31,
   "metadata": {},
   "outputs": [],
   "source": [
    "nocall_sample = nocall_sample.merge(\n",
    "    all_audio[\n",
    "        [\n",
    "            \"filename\",\n",
    "            \"rating\",\n",
    "            \"year\",\n",
    "            \"sin_month\",\n",
    "            \"cos_month\",\n",
    "            \"sin_longitude\",\n",
    "            \"cos_longitude\",\n",
    "            \"latitude\",\n",
    "            \"norm_latitude\",\n",
    "            'class_weights'\n",
    "        ]\n",
    "    ],\n",
    "    on=\"filename\",\n",
    "    how=\"left\",\n",
    ")"
   ]
  },
  {
   "cell_type": "code",
   "execution_count": 32,
   "metadata": {},
   "outputs": [],
   "source": [
    "nocall_sample = nocall_sample[['filename', 'row_id', 'start_sec', 'end_sec', 'file_path',\n",
    "       'duration', 'rating', 'year', 'sin_month', 'cos_month',\n",
    "       'sin_longitude', 'cos_longitude', 'latitude', 'norm_latitude',\n",
    "       'class_weights']]\n",
    "soundscapes_nocall = soundscapes_nocall[['filename', 'row_id', 'start_sec', 'end_sec', 'file_path',\n",
    "       'duration', 'rating', 'year', 'sin_month', 'cos_month',\n",
    "       'sin_longitude', 'cos_longitude', 'latitude', 'norm_latitude',\n",
    "       'class_weights']]"
   ]
  },
  {
   "cell_type": "code",
   "execution_count": 33,
   "metadata": {},
   "outputs": [],
   "source": [
    "soundscapes_nocall['duration']=600"
   ]
  },
  {
   "cell_type": "code",
   "execution_count": 34,
   "metadata": {},
   "outputs": [],
   "source": [
    "all_nocall = pd.concat([nocall_sample, soundscapes_nocall], axis=0, ignore_index=True)"
   ]
  },
  {
   "cell_type": "code",
   "execution_count": 35,
   "metadata": {},
   "outputs": [],
   "source": [
    "all_nocall[\"label_id\"] = dict_birds[\"nocall\"]\n",
    "all_nocall[\"secondary_labels_id\"] = np.nan\n",
    "all_nocall = all_nocall.sample(frac=1, random_state=SEED).reset_index(drop=True)"
   ]
  },
  {
   "cell_type": "code",
   "execution_count": 36,
   "metadata": {},
   "outputs": [
    {
     "data": {
      "text/plain": [
       "filename                  0\n",
       "row_id                    0\n",
       "start_sec                 0\n",
       "end_sec                   0\n",
       "file_path                 0\n",
       "duration                  0\n",
       "rating                    0\n",
       "year                      0\n",
       "sin_month                 0\n",
       "cos_month                 0\n",
       "sin_longitude             0\n",
       "cos_longitude             0\n",
       "latitude                  0\n",
       "norm_latitude             0\n",
       "class_weights             0\n",
       "label_id                  0\n",
       "secondary_labels_id    2729\n",
       "dtype: int64"
      ]
     },
     "execution_count": 36,
     "metadata": {},
     "output_type": "execute_result"
    }
   ],
   "source": [
    "all_nocall.isna().sum()"
   ]
  },
  {
   "cell_type": "code",
   "execution_count": 37,
   "metadata": {},
   "outputs": [
    {
     "data": {
      "text/plain": [
       "count    2729.000000\n",
       "mean     2015.933675\n",
       "std         4.758963\n",
       "min      1989.000000\n",
       "25%      2015.000000\n",
       "50%      2017.000000\n",
       "75%      2019.000000\n",
       "max      2021.000000\n",
       "Name: year, dtype: float64"
      ]
     },
     "execution_count": 37,
     "metadata": {},
     "output_type": "execute_result"
    }
   ],
   "source": [
    "all_nocall['year'].describe()"
   ]
  },
  {
   "cell_type": "markdown",
   "metadata": {},
   "source": [
    "# concat"
   ]
  },
  {
   "cell_type": "code",
   "execution_count": 38,
   "metadata": {},
   "outputs": [
    {
     "data": {
      "text/plain": [
       "(302729, 19)"
      ]
     },
     "execution_count": 38,
     "metadata": {},
     "output_type": "execute_result"
    }
   ],
   "source": [
    "final_audio = (\n",
    "    pd.concat(\n",
    "        [final_sample, all_nocall],\n",
    "        axis=0,\n",
    "        ignore_index=True,\n",
    "    )\n",
    "    .sample(frac=1, random_state=SEED)\n",
    "    .reset_index(drop=True)\n",
    ")\n",
    "final_audio.shape"
   ]
  },
  {
   "cell_type": "code",
   "execution_count": 39,
   "metadata": {},
   "outputs": [
    {
     "data": {
      "text/plain": [
       "grnher     361\n",
       "amewig     346\n",
       "buwtea     346\n",
       "flrtan1    341\n",
       "nrwswa     328\n",
       "higmot1    316\n",
       "sander     306\n",
       "rebsap     286\n",
       "bucmot2    247\n",
       "grhcha1    243\n",
       "rthhum     221\n",
       "rehbar1    217\n",
       "gretin1    196\n",
       "heptan     167\n",
       "runwre1    148\n",
       "hofwoo1    133\n",
       "crfpar     118\n",
       "whcpar     109\n",
       "stvhum2     50\n",
       "wegspa1     49\n",
       "Name: primary_label, dtype: int64"
      ]
     },
     "execution_count": 39,
     "metadata": {},
     "output_type": "execute_result"
    }
   ],
   "source": [
    "final_audio[\"primary_label\"].value_counts().tail(20)"
   ]
  },
  {
   "cell_type": "markdown",
   "metadata": {},
   "source": [
    "#  upsampling\n"
   ]
  },
  {
   "cell_type": "code",
   "execution_count": 40,
   "metadata": {},
   "outputs": [],
   "source": [
    "rare_birds = list(final_audio[\"primary_label\"].value_counts().tail(20).index.values)"
   ]
  },
  {
   "cell_type": "code",
   "execution_count": 41,
   "metadata": {},
   "outputs": [
    {
     "data": {
      "text/html": [
       "<div>\n",
       "<style scoped>\n",
       "    .dataframe tbody tr th:only-of-type {\n",
       "        vertical-align: middle;\n",
       "    }\n",
       "\n",
       "    .dataframe tbody tr th {\n",
       "        vertical-align: top;\n",
       "    }\n",
       "\n",
       "    .dataframe thead th {\n",
       "        text-align: right;\n",
       "    }\n",
       "</style>\n",
       "<table border=\"1\" class=\"dataframe\">\n",
       "  <thead>\n",
       "    <tr style=\"text-align: right;\">\n",
       "      <th></th>\n",
       "      <th>end_sec</th>\n",
       "      <th>class_weights</th>\n",
       "      <th>filename</th>\n",
       "    </tr>\n",
       "  </thead>\n",
       "  <tbody>\n",
       "    <tr>\n",
       "      <th>XC109031_5_0</th>\n",
       "      <td>5.00</td>\n",
       "      <td>0.017241</td>\n",
       "      <td>XC109031.ogg</td>\n",
       "    </tr>\n",
       "    <tr>\n",
       "      <th>XC109031_6_15</th>\n",
       "      <td>6.15</td>\n",
       "      <td>0.017241</td>\n",
       "      <td>XC109031.ogg</td>\n",
       "    </tr>\n",
       "    <tr>\n",
       "      <th>XC109031_7_3</th>\n",
       "      <td>7.30</td>\n",
       "      <td>0.017241</td>\n",
       "      <td>XC109031.ogg</td>\n",
       "    </tr>\n",
       "    <tr>\n",
       "      <th>XC109031_8_45</th>\n",
       "      <td>8.45</td>\n",
       "      <td>0.017241</td>\n",
       "      <td>XC109031.ogg</td>\n",
       "    </tr>\n",
       "    <tr>\n",
       "      <th>XC109031_9_6</th>\n",
       "      <td>9.60</td>\n",
       "      <td>0.017241</td>\n",
       "      <td>XC109031.ogg</td>\n",
       "    </tr>\n",
       "    <tr>\n",
       "      <th>...</th>\n",
       "      <td>...</td>\n",
       "      <td>...</td>\n",
       "      <td>...</td>\n",
       "    </tr>\n",
       "    <tr>\n",
       "      <th>XC433788_36_52</th>\n",
       "      <td>36.52</td>\n",
       "      <td>0.100000</td>\n",
       "      <td>XC433788.ogg</td>\n",
       "    </tr>\n",
       "    <tr>\n",
       "      <th>XC433788_36_68</th>\n",
       "      <td>36.68</td>\n",
       "      <td>0.100000</td>\n",
       "      <td>XC433788.ogg</td>\n",
       "    </tr>\n",
       "    <tr>\n",
       "      <th>XC433788_36_84</th>\n",
       "      <td>36.84</td>\n",
       "      <td>0.100000</td>\n",
       "      <td>XC433788.ogg</td>\n",
       "    </tr>\n",
       "    <tr>\n",
       "      <th>XC433788_37_0</th>\n",
       "      <td>37.00</td>\n",
       "      <td>0.100000</td>\n",
       "      <td>XC433788.ogg</td>\n",
       "    </tr>\n",
       "    <tr>\n",
       "      <th>XC433788_36_9</th>\n",
       "      <td>36.90</td>\n",
       "      <td>0.100000</td>\n",
       "      <td>XC433788.ogg</td>\n",
       "    </tr>\n",
       "  </tbody>\n",
       "</table>\n",
       "<p>11266 rows × 3 columns</p>\n",
       "</div>"
      ],
      "text/plain": [
       "                end_sec  class_weights      filename\n",
       "XC109031_5_0       5.00       0.017241  XC109031.ogg\n",
       "XC109031_6_15      6.15       0.017241  XC109031.ogg\n",
       "XC109031_7_3       7.30       0.017241  XC109031.ogg\n",
       "XC109031_8_45      8.45       0.017241  XC109031.ogg\n",
       "XC109031_9_6       9.60       0.017241  XC109031.ogg\n",
       "...                 ...            ...           ...\n",
       "XC433788_36_52    36.52       0.100000  XC433788.ogg\n",
       "XC433788_36_68    36.68       0.100000  XC433788.ogg\n",
       "XC433788_36_84    36.84       0.100000  XC433788.ogg\n",
       "XC433788_37_0     37.00       0.100000  XC433788.ogg\n",
       "XC433788_36_9     36.90       0.100000  XC433788.ogg\n",
       "\n",
       "[11266 rows x 3 columns]"
      ]
     },
     "execution_count": 41,
     "metadata": {},
     "output_type": "execute_result"
    }
   ],
   "source": [
    "df = pd.DataFrame(columns=[\"end_sec\", \"class_weights\", \"filename\"])\n",
    "for bird in rare_birds:\n",
    "    rare_bird_filenames = (\n",
    "    all_audio.query(\"primary_label ==@bird\")[\"filename\"].unique().tolist())\n",
    "    rare_array = all_audio.query(\n",
    "        \"primary_label ==@bird and rating!=0 and rating!=6 and filename in @rare_bird_filenames\"\n",
    "    )[[\"filename\", \"duration\", \"class_weights\"]].values\n",
    "    intervals = make_intervals_upsampling(rare_array)\n",
    "    df = pd.concat([df, intervals], axis=0)\n",
    "\n",
    "df"
   ]
  },
  {
   "cell_type": "code",
   "execution_count": 42,
   "metadata": {},
   "outputs": [
    {
     "data": {
      "text/plain": [
       "(499,)"
      ]
     },
     "execution_count": 42,
     "metadata": {},
     "output_type": "execute_result"
    }
   ],
   "source": [
    "df['filename'].unique().shape"
   ]
  },
  {
   "cell_type": "code",
   "execution_count": 43,
   "metadata": {},
   "outputs": [],
   "source": [
    "df[\"row_id\"] = df.index\n",
    "df = df.merge(\n",
    "    all_audio[\n",
    "        [\n",
    "            \"filename\",\n",
    "            \"primary_label\",\n",
    "            \"secondary_labels\",\n",
    "            \"label_id\",\n",
    "            \"secondary_labels_id\",\n",
    "            \"duration\",\n",
    "            \"rating\",\n",
    "            \"year\",\n",
    "            \"file_path\",\n",
    "            \"frames\",\n",
    "            \"sin_month\",\n",
    "            \"cos_month\",\n",
    "            \"sin_longitude\",\n",
    "            \"cos_longitude\",\n",
    "            \"latitude\",\n",
    "            \"norm_latitude\",\n",
    "            \"date\",\n",
    "        ]\n",
    "    ],\n",
    "    on=\"filename\",\n",
    "    how=\"left\",\n",
    ")\n",
    "df[\"end_sec\"] = df[\"end_sec\"].apply(lambda x: x if x > 5 else 5)\n",
    "df[\"start_sec\"] = df[\"end_sec\"] - 5"
   ]
  },
  {
   "cell_type": "code",
   "execution_count": 44,
   "metadata": {},
   "outputs": [
    {
     "data": {
      "text/plain": [
       "(20,)"
      ]
     },
     "execution_count": 44,
     "metadata": {},
     "output_type": "execute_result"
    }
   ],
   "source": [
    "df['primary_label'].unique().shape"
   ]
  },
  {
   "cell_type": "code",
   "execution_count": 45,
   "metadata": {},
   "outputs": [
    {
     "data": {
      "text/plain": [
       "(313995, 21)"
      ]
     },
     "execution_count": 45,
     "metadata": {},
     "output_type": "execute_result"
    },
    {
     "data": {
      "text/plain": [
       "baleag     464\n",
       "solsan     462\n",
       "belkin1    459\n",
       "comgol     446\n",
       "rugdov     433\n",
       "pavpig2    426\n",
       "brwpar1    421\n",
       "tropew1    421\n",
       "semplo     420\n",
       "blctan1    411\n",
       "scrtan1    407\n",
       "leasan     395\n",
       "whimbr     393\n",
       "sthwoo1    393\n",
       "commer     391\n",
       "norsho     390\n",
       "wooduc     376\n",
       "lotduc     373\n",
       "cacgoo1    370\n",
       "goowoo1    363\n",
       "Name: primary_label, dtype: int64"
      ]
     },
     "execution_count": 45,
     "metadata": {},
     "output_type": "execute_result"
    }
   ],
   "source": [
    "final_audio = (\n",
    "    pd.concat(\n",
    "        [final_audio, df],\n",
    "        axis=0,\n",
    "        ignore_index=True,\n",
    "    )\n",
    "    .sample(frac=1, random_state=SEED)\n",
    "    .reset_index(drop=True)\n",
    ")\n",
    "final_audio.shape\n",
    "\n",
    "final_audio[\"primary_label\"].value_counts().tail(20)"
   ]
  },
  {
   "cell_type": "code",
   "execution_count": 46,
   "metadata": {},
   "outputs": [],
   "source": [
    "train, valid = train_test_split(final_audio, train_size=0.8, random_state=SEED)\n",
    "train = train.reset_index(drop=True)\n",
    "valid = valid.reset_index(drop=True)"
   ]
  },
  {
   "cell_type": "markdown",
   "metadata": {},
   "source": [
    "# MEL_Gen"
   ]
  },
  {
   "cell_type": "code",
   "execution_count": 47,
   "metadata": {},
   "outputs": [],
   "source": [
    "NUM_CLASSES = len(dict_birds)\n",
    "BATCH_SIZE = 220"
   ]
  },
  {
   "cell_type": "code",
   "execution_count": 48,
   "metadata": {},
   "outputs": [],
   "source": [
    "mel_pr = Mel_Provider(\n",
    "    n_fft=N_FFT,\n",
    "    win_length=WIN_LENGHT,\n",
    "    n_mels=IMG_SIZE,\n",
    "    sample_rate=SAMPLE_RATE,\n",
    "    mel_image_size=IMG_SIZE,\n",
    "    min_frequency=FREQ_MIN,\n",
    "    max_frequency=FREQ_MAX,\n",
    "    signal_lenght=SIGNAL_LENGTH,\n",
    ")"
   ]
  },
  {
   "cell_type": "code",
   "execution_count": 49,
   "metadata": {},
   "outputs": [],
   "source": [
    "# shutil.rmtree('/app/_data/npy/short_mels_224_uint8/', ignore_errors=True)"
   ]
  },
  {
   "cell_type": "code",
   "execution_count": 50,
   "metadata": {},
   "outputs": [],
   "source": [
    "gen_train = MEL_Gen(\n",
    "    df=train,\n",
    "    n_mels=IMG_SIZE,\n",
    "    seed=SEED,\n",
    "    sample_rate=SAMPLE_RATE,\n",
    "    mel_image_size=IMG_SIZE,\n",
    "    batch_size=BATCH_SIZE,\n",
    "    n_classes=NUM_CLASSES,\n",
    "    signal_lenght=SIGNAL_LENGTH,\n",
    "    mel_provider=mel_pr,\n",
    "    wave_dir=\"/app/_data/npy/waves_npy/\",\n",
    "    short_mel_dir=\"/app/_data/npy/short_mels_260_uint8/\",\n",
    "    convert_to_rgb=True,\n",
    "    shuffle=True,\n",
    "    return_primary_labels=False,\n",
    "    return_concat_labels=True,\n",
    "    augment=False,\n",
    "    img_dtype=\"uint8\",\n",
    ")\n",
    "gen_valid = MEL_Gen(\n",
    "    df=valid,\n",
    "    n_mels=IMG_SIZE,\n",
    "    seed=SEED,\n",
    "    sample_rate=SAMPLE_RATE,\n",
    "    mel_image_size=IMG_SIZE,\n",
    "    batch_size=BATCH_SIZE,\n",
    "    n_classes=NUM_CLASSES,\n",
    "    signal_lenght=SIGNAL_LENGTH,\n",
    "    mel_provider=mel_pr,\n",
    "    wave_dir=\"/app/_data/npy/waves_npy/\",\n",
    "    short_mel_dir=\"/app/_data/npy/short_mels_260_uint8/\",\n",
    "    convert_to_rgb=True,\n",
    "    shuffle=False,\n",
    "    return_primary_labels=False,\n",
    "    return_concat_labels=True,\n",
    "    augment=False,\n",
    "    img_dtype=\"uint8\",\n",
    ")"
   ]
  },
  {
   "cell_type": "code",
   "execution_count": 51,
   "metadata": {},
   "outputs": [],
   "source": [
    "a = gen_train.__getitem__(0)"
   ]
  },
  {
   "cell_type": "code",
   "execution_count": 52,
   "metadata": {},
   "outputs": [
    {
     "data": {
      "text/plain": [
       "<matplotlib.image.AxesImage at 0x7f2e69beb7f0>"
      ]
     },
     "execution_count": 52,
     "metadata": {},
     "output_type": "execute_result"
    },
    {
     "data": {
      "image/png": "[encoded data removed]",
      "text/plain": [
       "<Figure size 432x288 with 1 Axes>"
      ]
     },
     "metadata": {
      "image/png": {
       "height": 251,
       "width": 259
      },
      "needs_background": "light"
     },
     "output_type": "display_data"
    }
   ],
   "source": [
    "plt.imshow(a[0][0])"
   ]
  },
  {
   "cell_type": "markdown",
   "metadata": {},
   "source": [
    "# model"
   ]
  },
  {
   "cell_type": "code",
   "execution_count": 53,
   "metadata": {},
   "outputs": [
    {
     "name": "stdout",
     "output_type": "stream",
     "text": [
      "INFO:tensorflow:Mixed precision compatibility check (mixed_float16): OK\n",
      "Your GPU will likely run quickly with dtype policy mixed_float16 as it has compute capability of at least 7.0. Your GPU: NVIDIA GeForce RTX 3090, compute capability 8.6\n"
     ]
    }
   ],
   "source": [
    "def get_model():\n",
    "    inputs = keras.Input(shape=(IMG_SIZE, IMG_SIZE, 3))\n",
    "    base_model = keras.applications.EfficientNetB2(\n",
    "        weights=\"imagenet\", include_top=False\n",
    "    )\n",
    "    x = base_model(inputs)\n",
    "    x = keras.layers.GlobalAveragePooling2D(name=\"avg_pool\")(x)\n",
    "    x = keras.layers.Flatten(name=\"flatten\")(x)\n",
    "    outputs = keras.layers.Dense(NUM_CLASSES, activation=\"sigmoid\")(x)\n",
    "    model = keras.Model(inputs=inputs, outputs=outputs)\n",
    "    model.compile(\n",
    "        loss=\"binary_crossentropy\",\n",
    "        optimizer=Adam(lr=0.0005),\n",
    "        metrics=[\n",
    "            \"acc\",\n",
    "            keras.metrics.Recall(),\n",
    "            keras.metrics.Precision(),\n",
    "            tfa.metrics.F1Score(num_classes=NUM_CLASSES, average=\"micro\"),\n",
    "        ],\n",
    "    )\n",
    "    return model\n",
    "\n",
    "\n",
    "policy = keras.mixed_precision.experimental.Policy(\"mixed_float16\")\n",
    "keras.mixed_precision.experimental.set_policy(policy)"
   ]
  },
  {
   "cell_type": "code",
   "execution_count": 54,
   "metadata": {},
   "outputs": [],
   "source": [
    "callbacks = [\n",
    "    keras.callbacks.EarlyStopping(\n",
    "        monitor=\"val_f1_score\",\n",
    "        patience=12,\n",
    "        restore_best_weights=True,\n",
    "        verbose=1,\n",
    "        mode=\"max\",\n",
    "    ),\n",
    "    keras.callbacks.ModelCheckpoint(\n",
    "        \"/app/_data/models/from_nocall/Eff2_2/Eff2_2.h5\",\n",
    "        monitor=\"val_f1_score\",\n",
    "        verbose=1,\n",
    "        save_best_only=True,\n",
    "        save_weights_only=False,\n",
    "        mode=\"max\",\n",
    "        save_freq=\"epoch\",\n",
    "    ),\n",
    "    keras.callbacks.ReduceLROnPlateau(\n",
    "        monitor=\"val_f1_score\",\n",
    "        factor=0.9,\n",
    "        patience=5,\n",
    "        verbose=1,\n",
    "        mode=\"max\",\n",
    "        min_delta=1e-4,\n",
    "        min_lr=0.00000001,\n",
    "    ),\n",
    "    keras.callbacks.TensorBoard(\n",
    "        log_dir=\"/app/.tensorboard/Eff2_2_nc/\", histogram_freq=0\n",
    "    ),\n",
    "    keras.callbacks.experimental.BackupAndRestore(\n",
    "        \"/app/_data/models/from_nocall/Eff2_2/backup/\"\n",
    "    ),\n",
    "    keras.callbacks.TerminateOnNaN(),\n",
    "]"
   ]
  },
  {
   "cell_type": "code",
   "execution_count": null,
   "metadata": {},
   "outputs": [
    {
     "name": "stdout",
     "output_type": "stream",
     "text": [
      "Epoch 55/100\n",
      "   1/1141 [..............................] - ETA: 0s - loss: 0.0030 - acc: 0.9727 - recall: 0.6098 - precision: 0.9892 - f1_score: 0.8084WARNING:tensorflow:From /usr/local/lib/python3.8/dist-packages/tensorflow/python/ops/summary_ops_v2.py:1277: stop (from tensorflow.python.eager.profiler) is deprecated and will be removed after 2020-07-01.\n",
      "Instructions for updating:\n",
      "use `tf.profiler.experimental.stop` instead.\n",
      "1141/1141 [==============================] - ETA: 0s - loss: 0.0026 - acc: 0.9775 - recall: 0.6020 - precision: 0.9905 - f1_score: 0.8173\n",
      "Epoch 00055: val_f1_score improved from -inf to 0.81347, saving model to /app/_data/models/from_nocall/Eff2_2/Eff2_2.h5\n",
      "1141/1141 [==============================] - 632s 554ms/step - loss: 0.0026 - acc: 0.9775 - recall: 0.6020 - precision: 0.9905 - f1_score: 0.8173 - val_loss: 0.0026 - val_acc: 0.9744 - val_recall: 0.6684 - val_precision: 0.9868 - val_f1_score: 0.8135\n",
      "Epoch 56/100\n",
      "1141/1141 [==============================] - ETA: 0s - loss: 0.0022 - acc: 0.9914 - recall: 0.6099 - precision: 0.9966 - f1_score: 0.8271\n",
      "Epoch 00056: val_f1_score improved from 0.81347 to 0.81628, saving model to /app/_data/models/from_nocall/Eff2_2/Eff2_2.h5\n",
      "1141/1141 [==============================] - 674s 591ms/step - loss: 0.0022 - acc: 0.9914 - recall: 0.6099 - precision: 0.9966 - f1_score: 0.8271 - val_loss: 0.0025 - val_acc: 0.9783 - val_recall: 0.6626 - val_precision: 0.9908 - val_f1_score: 0.8163\n",
      "Epoch 57/100\n",
      "1141/1141 [==============================] - ETA: 0s - loss: 0.0021 - acc: 0.9940 - recall: 0.6114 - precision: 0.9977 - f1_score: 0.8287\n",
      "Epoch 00057: val_f1_score did not improve from 0.81628\n",
      "1141/1141 [==============================] - 660s 579ms/step - loss: 0.0021 - acc: 0.9940 - recall: 0.6114 - precision: 0.9977 - f1_score: 0.8287 - val_loss: 0.0026 - val_acc: 0.9741 - val_recall: 0.6314 - val_precision: 0.9885 - val_f1_score: 0.8131\n",
      "Epoch 58/100\n",
      "1141/1141 [==============================] - ETA: 0s - loss: 0.0021 - acc: 0.9945 - recall: 0.6117 - precision: 0.9980 - f1_score: 0.8291\n",
      "Epoch 00058: val_f1_score did not improve from 0.81628\n",
      "1141/1141 [==============================] - 663s 581ms/step - loss: 0.0021 - acc: 0.9945 - recall: 0.6117 - precision: 0.9980 - f1_score: 0.8291 - val_loss: 0.0025 - val_acc: 0.9781 - val_recall: 0.6691 - val_precision: 0.9913 - val_f1_score: 0.8161\n",
      "Epoch 59/100\n",
      "1141/1141 [==============================] - ETA: 0s - loss: 0.0021 - acc: 0.9949 - recall: 0.6127 - precision: 0.9979 - f1_score: 0.8294\n",
      "Epoch 00059: val_f1_score did not improve from 0.81628\n",
      "1141/1141 [==============================] - 662s 580ms/step - loss: 0.0021 - acc: 0.9949 - recall: 0.6127 - precision: 0.9979 - f1_score: 0.8294 - val_loss: 0.0025 - val_acc: 0.9769 - val_recall: 0.6563 - val_precision: 0.9916 - val_f1_score: 0.8154\n",
      "Epoch 60/100\n",
      "1141/1141 [==============================] - ETA: 0s - loss: 0.0021 - acc: 0.9954 - recall: 0.6117 - precision: 0.9983 - f1_score: 0.8297\n",
      "Epoch 00060: val_f1_score did not improve from 0.81628\n",
      "1141/1141 [==============================] - 666s 584ms/step - loss: 0.0021 - acc: 0.9954 - recall: 0.6117 - precision: 0.9983 - f1_score: 0.8297 - val_loss: 0.0026 - val_acc: 0.9756 - val_recall: 0.6356 - val_precision: 0.9903 - val_f1_score: 0.8144\n",
      "Epoch 61/100\n",
      "1141/1141 [==============================] - ETA: 0s - loss: 0.0021 - acc: 0.9956 - recall: 0.6117 - precision: 0.9981 - f1_score: 0.8298\n",
      "Epoch 00061: val_f1_score did not improve from 0.81628\n",
      "\n",
      "Epoch 00061: ReduceLROnPlateau reducing learning rate to 0.0004500000213738531.\n",
      "1141/1141 [==============================] - 668s 586ms/step - loss: 0.0021 - acc: 0.9956 - recall: 0.6117 - precision: 0.9981 - f1_score: 0.8298 - val_loss: 0.0025 - val_acc: 0.9761 - val_recall: 0.6314 - val_precision: 0.9913 - val_f1_score: 0.8150\n",
      "Epoch 62/100\n",
      "1141/1141 [==============================] - ETA: 0s - loss: 0.0020 - acc: 0.9969 - recall: 0.6095 - precision: 0.9987 - f1_score: 0.8305\n",
      "Epoch 00062: val_f1_score improved from 0.81628 to 0.81650, saving model to /app/_data/models/from_nocall/Eff2_2/Eff2_2.h5\n",
      "1141/1141 [==============================] - 666s 583ms/step - loss: 0.0020 - acc: 0.9969 - recall: 0.6095 - precision: 0.9987 - f1_score: 0.8305 - val_loss: 0.0025 - val_acc: 0.9783 - val_recall: 0.6356 - val_precision: 0.9931 - val_f1_score: 0.8165\n",
      "Epoch 63/100\n",
      "1141/1141 [==============================] - ETA: 0s - loss: 0.0020 - acc: 0.9971 - recall: 0.6091 - precision: 0.9989 - f1_score: 0.8307\n",
      "Epoch 00063: val_f1_score did not improve from 0.81650\n",
      "1141/1141 [==============================] - 659s 577ms/step - loss: 0.0020 - acc: 0.9971 - recall: 0.6091 - precision: 0.9989 - f1_score: 0.8307 - val_loss: 0.0025 - val_acc: 0.9771 - val_recall: 0.6345 - val_precision: 0.9919 - val_f1_score: 0.8157\n",
      "Epoch 64/100\n",
      "1141/1141 [==============================] - ETA: 0s - loss: 0.0020 - acc: 0.9971 - recall: 0.6088 - precision: 0.9988 - f1_score: 0.8306\n",
      "Epoch 00064: val_f1_score did not improve from 0.81650\n",
      "1141/1141 [==============================] - 645s 565ms/step - loss: 0.0020 - acc: 0.9971 - recall: 0.6088 - precision: 0.9988 - f1_score: 0.8306 - val_loss: 0.0025 - val_acc: 0.9777 - val_recall: 0.6454 - val_precision: 0.9925 - val_f1_score: 0.8160\n",
      "Epoch 65/100\n",
      "1141/1141 [==============================] - ETA: 0s - loss: 0.0020 - acc: 0.9974 - recall: 0.6083 - precision: 0.9989 - f1_score: 0.8309\n",
      "Epoch 00065: val_f1_score did not improve from 0.81650\n",
      "1141/1141 [==============================] - 641s 562ms/step - loss: 0.0020 - acc: 0.9974 - recall: 0.6083 - precision: 0.9989 - f1_score: 0.8309 - val_loss: 0.0025 - val_acc: 0.9776 - val_recall: 0.6218 - val_precision: 0.9925 - val_f1_score: 0.8160\n",
      "Epoch 66/100\n",
      "1141/1141 [==============================] - ETA: 0s - loss: 0.0020 - acc: 0.9975 - recall: 0.6077 - precision: 0.9991 - f1_score: 0.8309\n",
      "Epoch 00066: val_f1_score did not improve from 0.81650\n",
      "1141/1141 [==============================] - 640s 561ms/step - loss: 0.0020 - acc: 0.9975 - recall: 0.6077 - precision: 0.9991 - f1_score: 0.8309 - val_loss: 0.0025 - val_acc: 0.9769 - val_recall: 0.6371 - val_precision: 0.9920 - val_f1_score: 0.8155\n",
      "Epoch 67/100\n",
      " 608/1141 [==============>...............] - ETA: 4:00 - loss: 0.0020 - acc: 0.9976 - recall: 0.6076 - precision: 0.9992 - f1_score: 0.8313"
     ]
    }
   ],
   "source": [
    "model = get_model()\n",
    "history = model.fit(\n",
    "    gen_train,\n",
    "    validation_data=gen_valid,\n",
    "    epochs=100,\n",
    "    steps_per_epoch=train.shape[0] // BATCH_SIZE,\n",
    "    validation_steps=valid.shape[0] // BATCH_SIZE,\n",
    "    verbose=1,\n",
    "    workers=20,\n",
    "    max_queue_size=50,\n",
    "    callbacks=callbacks,\n",
    ")"
   ]
  },
  {
   "cell_type": "code",
   "execution_count": null,
   "metadata": {},
   "outputs": [],
   "source": []
  }
 ],
 "metadata": {
  "kernelspec": {
   "display_name": "Python 3",
   "language": "python",
   "name": "python3"
  },
  "language_info": {
   "codemirror_mode": {
    "name": "ipython",
    "version": 3
   },
   "file_extension": ".py",
   "mimetype": "text/x-python",
   "name": "python",
   "nbconvert_exporter": "python",
   "pygments_lexer": "ipython3",
   "version": "3.8.5"
  }
 },
 "nbformat": 4,
 "nbformat_minor": 4
}
