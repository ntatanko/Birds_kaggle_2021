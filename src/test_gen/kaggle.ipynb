{
 "cells": [
  {
   "cell_type": "code",
   "execution_count": 1,
   "metadata": {},
   "outputs": [
    {
     "name": "stdout",
     "output_type": "stream",
     "text": [
      "Warning: Your Kaggle API key is readable by other users on this system! To fix this, you can run 'chmod 600 /app/kaggle.json'\n"
     ]
    }
   ],
   "source": [
    "import kaggle"
   ]
  },
  {
   "cell_type": "code",
   "execution_count": 10,
   "metadata": {},
   "outputs": [
    {
     "name": "stdout",
     "output_type": "stream",
     "text": [
      "Warning: Your Kaggle API key is readable by other users on this system! To fix this, you can run 'chmod 600 /app/kaggle.json'\n",
      "Starting upload for file kaggle.ipynb\n",
      "100%|██████████████████████████████████████| 6.54k/6.54k [00:02<00:00, 3.20kB/s]\n",
      "Upload successful: kaggle.ipynb (7KB)\n",
      "Starting upload for file test_gen.py\n",
      "100%|██████████████████████████████████████| 7.68k/7.68k [00:01<00:00, 5.74kB/s]\n",
      "Upload successful: test_gen.py (8KB)\n",
      "Starting upload for file prediction_values.csv\n",
      "100%|███████████████████████████████████████| 3.70M/3.70M [00:06<00:00, 599kB/s]\n",
      "Upload successful: prediction_values.csv (4MB)\n",
      "Starting upload for file generator_for_test.ipynb\n",
      "100%|███████████████████████████████████████| 1.01M/1.01M [00:02<00:00, 421kB/s]\n",
      "Upload successful: generator_for_test.ipynb (1MB)\n",
      "Starting upload for file submission.csv\n",
      "100%|██████████████████████████████████████| 81.3k/81.3k [00:01<00:00, 49.6kB/s]\n",
      "Upload successful: submission.csv (81KB)\n",
      "Skipping folder: .ipynb_checkpoints; use '--dir-mode' to upload folders\n",
      "Starting upload for file test_gen_long.py\n",
      "100%|██████████████████████████████████████| 10.9k/10.9k [00:01<00:00, 6.10kB/s]\n",
      "Upload successful: test_gen_long.py (11KB)\n",
      "Your private Dataset is being created. Please check progress at https://www.kaggle.com/nataliayurasova/TestGenerator\n"
     ]
    }
   ],
   "source": [
    "!kaggle datasets create -p /app/src/test_gen/"
   ]
  },
  {
   "cell_type": "code",
   "execution_count": 15,
   "metadata": {},
   "outputs": [
    {
     "name": "stdout",
     "output_type": "stream",
     "text": [
      "Warning: Your Kaggle API key is readable by other users on this system! To fix this, you can run 'chmod 600 /app/kaggle.json'\n",
      "Starting upload for file kaggle.ipynb\n",
      "100%|██████████████████████████████████████| 7.04k/7.04k [00:02<00:00, 3.33kB/s]\n",
      "Upload successful: kaggle.ipynb (7KB)\n",
      "Starting upload for file test_gen.py\n",
      "100%|██████████████████████████████████████| 7.68k/7.68k [00:02<00:00, 3.47kB/s]\n",
      "Upload successful: test_gen.py (8KB)\n",
      "Starting upload for file prediction_values.csv\n",
      "100%|███████████████████████████████████████| 3.70M/3.70M [00:06<00:00, 578kB/s]\n",
      "Upload successful: prediction_values.csv (4MB)\n",
      "Starting upload for file generator_for_test.ipynb\n",
      "100%|███████████████████████████████████████| 1.01M/1.01M [00:02<00:00, 393kB/s]\n",
      "Upload successful: generator_for_test.ipynb (1MB)\n",
      "Starting upload for file gen.py\n",
      "100%|██████████████████████████████████████| 11.1k/11.1k [00:01<00:00, 6.02kB/s]\n",
      "Upload successful: gen.py (11KB)\n",
      "Starting upload for file submission.csv\n",
      "100%|██████████████████████████████████████| 81.3k/81.3k [00:01<00:00, 45.0kB/s]\n",
      "Upload successful: submission.csv (81KB)\n",
      "Skipping folder: .ipynb_checkpoints; use '--dir-mode' to upload folders\n",
      "Starting upload for file test_gen_long.py\n",
      "100%|██████████████████████████████████████| 11.2k/11.2k [00:02<00:00, 4.62kB/s]\n",
      "Upload successful: test_gen_long.py (11KB)\n",
      "Starting upload for file Untitled.ipynb\n",
      "100%|██████████████████████████████████████| 14.0k/14.0k [00:01<00:00, 9.05kB/s]\n",
      "Upload successful: Untitled.ipynb (14KB)\n",
      "Dataset version is being created. Please check progress at https://www.kaggle.com/nataliayurasova/testgenerator\n"
     ]
    }
   ],
   "source": [
    "!kaggle datasets version -p /app/src/test_gen/ -m 'upd4'\n"
   ]
  },
  {
   "cell_type": "code",
   "execution_count": 6,
   "metadata": {},
   "outputs": [
    {
     "name": "stdout",
     "output_type": "stream",
     "text": [
      "Warning: Your Kaggle API key is readable by other users on this system! To fix this, you can run 'chmod 600 /app/kaggle.json'\n",
      "usage: kaggle datasets [-h]\n",
      "                       {list,files,download,create,version,init,metadata,status}\n",
      "                       ...\n",
      "kaggle datasets: error: the following arguments are required: command\n"
     ]
    }
   ],
   "source": [
    "!kaggle datasets"
   ]
  },
  {
   "cell_type": "code",
   "execution_count": 10,
   "metadata": {},
   "outputs": [
    {
     "name": "stdout",
     "output_type": "stream",
     "text": [
      "Warning: Your Kaggle API key is readable by other users on this system! To fix this, you can run 'chmod 600 /app/kaggle.json'\n",
      "usage: kaggle datasets version [-h] -m VERSION_NOTES [-p FOLDER] [-q] [-t]\n",
      "                               [-r {skip,zip,tar}] [-d]\n",
      "kaggle datasets version: error: the following arguments are required: -m/--message\n"
     ]
    }
   ],
   "source": [
    "!kaggle datasets version [-h]"
   ]
  },
  {
   "cell_type": "code",
   "execution_count": null,
   "metadata": {},
   "outputs": [],
   "source": []
  }
 ],
 "metadata": {
  "kernelspec": {
   "display_name": "Python 3",
   "language": "python",
   "name": "python3"
  },
  "language_info": {
   "codemirror_mode": {
    "name": "ipython",
    "version": 3
   },
   "file_extension": ".py",
   "mimetype": "text/x-python",
   "name": "python",
   "nbconvert_exporter": "python",
   "pygments_lexer": "ipython3",
   "version": "3.8.5"
  }
 },
 "nbformat": 4,
 "nbformat_minor": 4
}
