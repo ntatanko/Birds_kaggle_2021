{
 "cells": [
  {
   "cell_type": "code",
   "execution_count": 1,
   "metadata": {},
   "outputs": [],
   "source": [
    "import os\n",
    "import shutil\n",
    "import warnings\n",
    "\n",
    "import numpy as np\n",
    "import pandas as pd\n",
    "import plotly.graph_objects as go\n",
    "import torchaudio\n",
    "\n",
    "warnings.filterwarnings(action=\"ignore\")\n",
    "from IPython.core.interactiveshell import InteractiveShell\n",
    "\n",
    "InteractiveShell.ast_node_interactivity = \"all\"\n",
    "import json\n",
    "\n",
    "import geopandas\n",
    "import librosa\n",
    "import librosa.display\n",
    "import matplotlib.pyplot as plt\n",
    "import scipy.stats as st\n",
    "import seaborn as sns\n",
    "import soundfile\n",
    "import tensorflow as tf\n",
    "import tensorflow_addons as tfa\n",
    "import torch\n",
    "\n",
    "%matplotlib inline\n",
    "from PIL import Image\n",
    "from sklearn.model_selection import train_test_split\n",
    "from sklearn.utils import shuffle\n",
    "from tensorflow import keras\n",
    "from tensorflow.keras.models import Sequential\n",
    "from tensorflow.keras.optimizers import Adam\n",
    "from torchaudio.transforms import MelSpectrogram\n",
    "from tqdm import tqdm\n",
    "\n",
    "from src.gen_short import MEL_Generator_Short, Mel_Provider\n",
    "from src.prepare_dataset import (\n",
    "    choose_ids,\n",
    "    make_dict_birds,\n",
    "    make_intervals,\n",
    "    make_intervals_upsampling,\n",
    "    prepare_dataset,\n",
    ")"
   ]
  },
  {
   "cell_type": "code",
   "execution_count": 2,
   "metadata": {},
   "outputs": [],
   "source": [
    "birds_SNE_600 = list(np.load(\"/app/sandbox/sites/birds_SNE_600.npy\", allow_pickle=True))\n",
    "birds_SNE_600.append('nocall')\n",
    "birds_SNE_600.sort()"
   ]
  },
  {
   "cell_type": "code",
   "execution_count": 3,
   "metadata": {},
   "outputs": [
    {
     "data": {
      "text/plain": [
       "181"
      ]
     },
     "execution_count": 3,
     "metadata": {},
     "output_type": "execute_result"
    }
   ],
   "source": [
    "len(birds_SNE_600)"
   ]
  },
  {
   "cell_type": "code",
   "execution_count": 4,
   "metadata": {},
   "outputs": [],
   "source": [
    "SEED = 42\n",
    "IMG_SIZE = 224\n",
    "SAMPLE_RATE = 32000\n",
    "N_FFT = 2048\n",
    "SIGNAL_LENGTH = 5\n",
    "FREQ_MIN = 0\n",
    "FREQ_MAX = 16000\n",
    "WIN_LENGHT = 1024\n",
    "BATCH_SIZE = 50"
   ]
  },
  {
   "cell_type": "markdown",
   "metadata": {},
   "source": [
    "## Initial dataframes"
   ]
  },
  {
   "cell_type": "code",
   "execution_count": 5,
   "metadata": {},
   "outputs": [
    {
     "data": {
      "text/plain": [
       "(35249, 24)"
      ]
     },
     "execution_count": 5,
     "metadata": {},
     "output_type": "execute_result"
    }
   ],
   "source": [
    "all_audio_init = pd.read_csv(\"/app/_data/all_audio_initial.csv\")\n",
    "all_audio = all_audio_init.query(\"primary_label in @birds_SNE_600\").reset_index(drop=True)\n",
    "all_audio.shape"
   ]
  },
  {
   "cell_type": "code",
   "execution_count": 6,
   "metadata": {},
   "outputs": [
    {
     "name": "stderr",
     "output_type": "stream",
     "text": [
      "100%|██████████| 35249/35249 [00:00<00:00, 51726.93it/s]\n"
     ]
    },
    {
     "data": {
      "text/plain": [
       "3077"
      ]
     },
     "execution_count": 6,
     "metadata": {},
     "output_type": "execute_result"
    }
   ],
   "source": [
    "list_ixs = []\n",
    "for i in tqdm(all_audio.index.tolist()):\n",
    "    sec_labels = all_audio.loc[i,'secondary_labels']\n",
    "    if type(sec_labels)!=float:\n",
    "        sec_labels = sec_labels.split()\n",
    "        for j in sec_labels:\n",
    "            if j not in birds_SNE_600:\n",
    "                list_ixs.append(i)\n",
    "len(set(list_ixs))"
   ]
  },
  {
   "cell_type": "code",
   "execution_count": 7,
   "metadata": {},
   "outputs": [
    {
     "data": {
      "text/plain": [
       "(32172, 24)"
      ]
     },
     "execution_count": 7,
     "metadata": {},
     "output_type": "execute_result"
    }
   ],
   "source": [
    "list_ixs = set(list_ixs)\n",
    "\n",
    "all_audio = all_audio.query(\"index not in @list_ixs\").reset_index(drop=True)\n",
    "all_audio.shape"
   ]
  },
  {
   "cell_type": "code",
   "execution_count": 8,
   "metadata": {},
   "outputs": [],
   "source": [
    "dict_birds, all_audio = make_dict_birds(all_audio)"
   ]
  },
  {
   "cell_type": "code",
   "execution_count": 9,
   "metadata": {},
   "outputs": [],
   "source": [
    "file_json = open(\"/app/_data/models/sites/sne/dict_birds_sne_600.json\", \"w\")\n",
    "json.dump(dict_birds, file_json)\n",
    "file_json.close()\n",
    "\n",
    "dict_weights = (1 / all_audio[\"primary_label\"].value_counts()).to_dict()\n",
    "all_audio[\"class_weights\"] = all_audio[\"primary_label\"].replace(dict_weights)\n",
    "all_audio[\"class_weights\"] = all_audio[\"class_weights\"] * all_audio[\"rating\"]\n",
    "\n",
    "short_audio = all_audio[all_audio[\"rating\"] != 6].reset_index(\n",
    "    drop=True\n",
    ")  # only short audio\n",
    "train_sondscapes = all_audio[all_audio[\"rating\"] == 6].reset_index(\n",
    "    drop=True\n",
    ")  # only train_soundscapes\n",
    "short_audio.shape\n",
    "train_sondscapes.shape\n",
    "\n",
    "len(dict_birds)\n",
    "\n",
    "train_sondscapes['duration']=600\n",
    "\n",
    "## Make intervals for short audio\n",
    "\n",
    "array_for_cut = short_audio[[\"filename\", \"duration\", \"class_weights\"]].values\n",
    "\n",
    "birds_intervals = make_intervals(array_for_cut, 5, max_intervals=200, max_lenght=400)\n",
    "birds_intervals.shape\n",
    "\n",
    "birds_intervals[\"row_id\"] = birds_intervals.index\n",
    "\n",
    "birds_intervals[\"filename\"].value_counts()\n",
    "\n",
    "birds_intervals_sample = birds_intervals.sample(\n",
    "    n=500000, weights=\"class_weights\", random_state=SEED\n",
    ")\n",
    "\n",
    "short_audio = birds_intervals_sample.merge(\n",
    "    short_audio[\n",
    "        [\n",
    "            \"filename\",\n",
    "            \"primary_label\",\n",
    "            \"secondary_labels\",\n",
    "            \"label_id\",\n",
    "            \"secondary_labels_id\",\n",
    "            \"duration\",\n",
    "            \"rating\",\n",
    "            \"year\",\n",
    "            \"file_path\",\n",
    "            \"frames\",\n",
    "            \"sin_month\",\n",
    "            \"cos_month\",\n",
    "            \"sin_longitude\",\n",
    "            \"cos_longitude\",\n",
    "            \"latitude\",\n",
    "            \"norm_latitude\",\n",
    "            \"date\",\n",
    "        ]\n",
    "    ],\n",
    "    on=\"filename\",\n",
    "    how=\"left\",\n",
    ")\n",
    "\n",
    "short_audio[\"filename\"].value_counts()\n",
    "\n",
    "short_audio[\"end_sec\"] = short_audio[\"end_sec\"].apply(lambda x: x if x > 5 else 5)\n",
    "\n",
    "short_audio[\"start_sec\"] = short_audio[\"end_sec\"] - 5\n",
    "\n",
    "# concat short+long\n",
    "\n",
    "short_audio = prepare_dataset(short_audio)\n",
    "train_sondscapes = prepare_dataset(train_sondscapes)\n",
    "\n",
    "final_audio = (\n",
    "    pd.concat(\n",
    "        [short_audio, train_sondscapes, train_sondscapes, train_sondscapes],\n",
    "        axis=0,\n",
    "        ignore_index=True,\n",
    "    )\n",
    "    .sample(frac=1, random_state=SEED)\n",
    "    .reset_index(drop=True)\n",
    ")\n",
    "final_audio.shape\n",
    "\n",
    "final_audio[\"primary_label\"].value_counts().tail(20)\n",
    "\n",
    "final_audio.query(\"end_sec > duration and rating!=6\")[['end_sec', 'duration']]\n",
    "\n",
    "for ix in final_audio.query(\"end_sec > duration and rating!=6\")[['end_sec', 'duration']].index:\n",
    "    final_audio.loc[ix, 'end_sec']= final_audio.loc[ix, 'duration']"
   ]
  },
  {
   "cell_type": "code",
   "execution_count": 10,
   "metadata": {},
   "outputs": [],
   "source": [
    "final_audio.to_csv('/app/_data/models/sites/sne/final_audio.csv', index=False)\n",
    "# final_audio=pd.read_csv('/app/_data/models/sites/sne/final_audio.csv')"
   ]
  },
  {
   "cell_type": "markdown",
   "metadata": {},
   "source": [
    "# train_test_split"
   ]
  },
  {
   "cell_type": "code",
   "execution_count": 11,
   "metadata": {},
   "outputs": [],
   "source": [
    "train, valid = train_test_split(final_audio, train_size=0.85, random_state=SEED)\n",
    "train = train.reset_index(drop=True)\n",
    "valid = valid.reset_index(drop=True)"
   ]
  },
  {
   "cell_type": "code",
   "execution_count": 12,
   "metadata": {},
   "outputs": [
    {
     "data": {
      "text/plain": [
       "nan"
      ]
     },
     "execution_count": 12,
     "metadata": {},
     "output_type": "execute_result"
    }
   ],
   "source": [
    "final_audio[final_audio[\"end_sec\"] > final_audio[\"duration\"]][\"rating\"].mean()"
   ]
  },
  {
   "cell_type": "code",
   "execution_count": 13,
   "metadata": {},
   "outputs": [
    {
     "data": {
      "text/plain": [
       "0"
      ]
     },
     "execution_count": 13,
     "metadata": {},
     "output_type": "execute_result"
    }
   ],
   "source": [
    "final_audio[\"end_sec\"].isna().sum()"
   ]
  },
  {
   "cell_type": "code",
   "execution_count": 14,
   "metadata": {},
   "outputs": [],
   "source": [
    "mel_pr = Mel_Provider(\n",
    "    n_fft=N_FFT,\n",
    "    win_length=WIN_LENGHT,\n",
    "    n_mels=IMG_SIZE,\n",
    "    sample_rate=SAMPLE_RATE,\n",
    "    mel_image_size=IMG_SIZE,\n",
    "    min_frequency=FREQ_MIN,\n",
    "    max_frequency=FREQ_MAX,\n",
    "    signal_lenght=SIGNAL_LENGTH,\n",
    ")"
   ]
  },
  {
   "cell_type": "code",
   "execution_count": 15,
   "metadata": {},
   "outputs": [],
   "source": [
    "callbacks = [\n",
    "    keras.callbacks.EarlyStopping(\n",
    "        monitor=\"val_f1_score\",\n",
    "        patience=12,\n",
    "        restore_best_weights=True,\n",
    "        verbose=1,\n",
    "        mode=\"max\",\n",
    "    ),\n",
    "    keras.callbacks.ModelCheckpoint(\n",
    "        \"/app/_data/models/sites/sne/eff0_sne_2.h5\",\n",
    "        monitor=\"val_f1_score\",\n",
    "        verbose=1,\n",
    "        save_best_only=True,\n",
    "        save_weights_only=False,\n",
    "        mode=\"max\",\n",
    "        save_freq=\"epoch\",\n",
    "    ),\n",
    "    keras.callbacks.ReduceLROnPlateau(\n",
    "        monitor=\"val_f1_score\",\n",
    "        factor=0.9,\n",
    "        patience=5,\n",
    "        verbose=1,\n",
    "        mode=\"max\",\n",
    "        min_delta=1e-4,\n",
    "        min_lr=0.00000001,\n",
    "    ),\n",
    "    keras.callbacks.TensorBoard(log_dir=\"/app/.tensorboard/sne_0_2/\", histogram_freq=0),\n",
    "    keras.callbacks.experimental.BackupAndRestore(\n",
    "        \"/app/_data/models/sites/sne/backup/\"\n",
    "    ),\n",
    "    keras.callbacks.TerminateOnNaN(),\n",
    "]"
   ]
  },
  {
   "cell_type": "code",
   "execution_count": 17,
   "metadata": {},
   "outputs": [],
   "source": [
    "def get_model():\n",
    "    inputs = keras.Input(shape=(IMG_SIZE, IMG_SIZE, 3))\n",
    "    base_model = keras.applications.EfficientNetB0(\n",
    "        weights=\"imagenet\", include_top=False\n",
    "    )\n",
    "    x = base_model(inputs)\n",
    "    x = keras.layers.GlobalAveragePooling2D(name=\"avg_pool\")(x)\n",
    "    x = keras.layers.Flatten(name=\"flatten\")(x)\n",
    "    outputs = keras.layers.Dense(NUM_CLASSES, activation=\"sigmoid\")(x)\n",
    "    model = keras.Model(inputs=inputs, outputs=outputs)\n",
    "    model.compile(\n",
    "        loss=\"binary_crossentropy\",\n",
    "        optimizer=Adam(lr=0.0005),\n",
    "        metrics=[\n",
    "            \"acc\",\n",
    "            keras.metrics.Recall(),\n",
    "            keras.metrics.Precision(),\n",
    "            tfa.metrics.F1Score(num_classes=NUM_CLASSES, average=\"micro\"),\n",
    "        ],\n",
    "    )\n",
    "    return model\n",
    "\n",
    "policy = keras.mixed_precision.experimental.Policy(\"mixed_float16\")\n",
    "keras.mixed_precision.experimental.set_policy(policy)"
   ]
  },
  {
   "cell_type": "code",
   "execution_count": 19,
   "metadata": {},
   "outputs": [],
   "source": [
    "NUM_CLASSES = len(dict_birds)\n",
    "BATCH_SIZE = 410"
   ]
  },
  {
   "cell_type": "code",
   "execution_count": 20,
   "metadata": {},
   "outputs": [],
   "source": [
    "gen_train = MEL_Generator_Short(\n",
    "    df=train,\n",
    "    n_mels=IMG_SIZE,\n",
    "    seed=SEED,\n",
    "    sample_rate=SAMPLE_RATE,\n",
    "    mel_image_size=IMG_SIZE,\n",
    "    batch_size=BATCH_SIZE,\n",
    "    n_classes=NUM_CLASSES,\n",
    "    signal_lenght=SIGNAL_LENGTH,\n",
    "    mel_provider=mel_pr,\n",
    "    wave_dir=\"/app/_data/npy/waves_npy/\",\n",
    "    short_mel_dir=\"/app/_data/npy/short_mels/\",\n",
    "    norm_mel=True,\n",
    "    convert_to_rgb=True,\n",
    "    shuffle=True,\n",
    "    return_primary_labels=False,\n",
    "    return_secondary_labels=False,\n",
    "    return_concat_labels=True,\n",
    "    augment=False,\n",
    ")\n",
    "\n",
    "gen_valid = MEL_Generator_Short(\n",
    "    df=valid,\n",
    "    n_mels=IMG_SIZE,\n",
    "    seed=SEED,\n",
    "    sample_rate=SAMPLE_RATE,\n",
    "    mel_image_size=IMG_SIZE,\n",
    "    batch_size=BATCH_SIZE,\n",
    "    n_classes=NUM_CLASSES,\n",
    "    signal_lenght=SIGNAL_LENGTH,\n",
    "    mel_provider=mel_pr,\n",
    "    wave_dir=\"/app/_data/npy/waves_npy/\",\n",
    "    short_mel_dir=\"/app/_data/npy/short_mels/\",\n",
    "    norm_mel=True,\n",
    "    convert_to_rgb=True,\n",
    "    shuffle=False,\n",
    "    return_primary_labels=False,\n",
    "    return_secondary_labels=False,\n",
    "    return_concat_labels=True,\n",
    "    augment=False,\n",
    ")"
   ]
  },
  {
   "cell_type": "code",
   "execution_count": 23,
   "metadata": {},
   "outputs": [],
   "source": [
    "model = get_model()"
   ]
  },
  {
   "cell_type": "code",
   "execution_count": 24,
   "metadata": {},
   "outputs": [
    {
     "name": "stdout",
     "output_type": "stream",
     "text": [
      "Epoch 39/100\n",
      "   1/1047 [..............................] - ETA: 0s - loss: 0.0061 - acc: 0.9976 - recall: 0.5105 - precision: 1.0000 - f1_score: 0.7763WARNING:tensorflow:From /usr/local/lib/python3.8/dist-packages/tensorflow/python/ops/summary_ops_v2.py:1277: stop (from tensorflow.python.eager.profiler) is deprecated and will be removed after 2020-07-01.\n",
      "Instructions for updating:\n",
      "use `tf.profiler.experimental.stop` instead.\n",
      "1047/1047 [==============================] - ETA: 0s - loss: 0.0059 - acc: 0.9954 - recall: 0.5454 - precision: 0.9984 - f1_score: 0.7853\n",
      "Epoch 00039: val_f1_score improved from -inf to 0.76501, saving model to /app/_data/models/sites/sne/eff0_sne_2.h5\n",
      "1047/1047 [==============================] - 729s 696ms/step - loss: 0.0059 - acc: 0.9954 - recall: 0.5454 - precision: 0.9984 - f1_score: 0.7853 - val_loss: 0.0088 - val_acc: 0.9643 - val_recall: 0.4168 - val_precision: 0.9934 - val_f1_score: 0.7650\n",
      "Epoch 40/100\n",
      "1047/1047 [==============================] - ETA: 0s - loss: 0.0058 - acc: 0.9955 - recall: 0.5447 - precision: 0.9985 - f1_score: 0.7853\n",
      "Epoch 00040: val_f1_score did not improve from 0.76501\n",
      "1047/1047 [==============================] - 932s 890ms/step - loss: 0.0058 - acc: 0.9955 - recall: 0.5447 - precision: 0.9985 - f1_score: 0.7853 - val_loss: 0.0120 - val_acc: 0.9351 - val_recall: 0.4022 - val_precision: 0.9877 - val_f1_score: 0.7464\n",
      "Epoch 41/100\n",
      "1047/1047 [==============================] - ETA: 0s - loss: 0.0058 - acc: 0.9960 - recall: 0.5430 - precision: 0.9987 - f1_score: 0.7856\n",
      "Epoch 00041: val_f1_score improved from 0.76501 to 0.76519, saving model to /app/_data/models/sites/sne/eff0_sne_2.h5\n",
      "1047/1047 [==============================] - 966s 922ms/step - loss: 0.0058 - acc: 0.9960 - recall: 0.5430 - precision: 0.9987 - f1_score: 0.7856 - val_loss: 0.0086 - val_acc: 0.9648 - val_recall: 0.4246 - val_precision: 0.9929 - val_f1_score: 0.7652\n",
      "Epoch 42/100\n",
      "1047/1047 [==============================] - ETA: 0s - loss: 0.0058 - acc: 0.9961 - recall: 0.5426 - precision: 0.9988 - f1_score: 0.7857\n",
      "Epoch 00042: val_f1_score improved from 0.76519 to 0.77074, saving model to /app/_data/models/sites/sne/eff0_sne_2.h5\n",
      "1047/1047 [==============================] - 950s 907ms/step - loss: 0.0058 - acc: 0.9961 - recall: 0.5426 - precision: 0.9988 - f1_score: 0.7857 - val_loss: 0.0073 - val_acc: 0.9731 - val_recall: 0.4730 - val_precision: 0.9930 - val_f1_score: 0.7707\n",
      "Epoch 43/100\n",
      "1047/1047 [==============================] - ETA: 0s - loss: 0.0058 - acc: 0.9963 - recall: 0.5414 - precision: 0.9988 - f1_score: 0.7858\n",
      "Epoch 00043: val_f1_score did not improve from 0.77074\n",
      "1047/1047 [==============================] - 979s 935ms/step - loss: 0.0058 - acc: 0.9963 - recall: 0.5414 - precision: 0.9988 - f1_score: 0.7858 - val_loss: 0.0081 - val_acc: 0.9613 - val_recall: 0.5169 - val_precision: 0.9872 - val_f1_score: 0.7629\n",
      "Epoch 44/100\n",
      "1047/1047 [==============================] - ETA: 0s - loss: 0.0058 - acc: 0.9961 - recall: 0.5413 - precision: 0.9988 - f1_score: 0.7857\n",
      "Epoch 00044: val_f1_score improved from 0.77074 to 0.77296, saving model to /app/_data/models/sites/sne/eff0_sne_2.h5\n",
      "1047/1047 [==============================] - 951s 908ms/step - loss: 0.0058 - acc: 0.9961 - recall: 0.5413 - precision: 0.9988 - f1_score: 0.7857 - val_loss: 0.0068 - val_acc: 0.9769 - val_recall: 0.4866 - val_precision: 0.9944 - val_f1_score: 0.7730\n",
      "Epoch 45/100\n",
      "1047/1047 [==============================] - ETA: 0s - loss: 0.0057 - acc: 0.9963 - recall: 0.5407 - precision: 0.9989 - f1_score: 0.7858\n",
      "Epoch 00045: val_f1_score did not improve from 0.77296\n",
      "1047/1047 [==============================] - 950s 907ms/step - loss: 0.0057 - acc: 0.9963 - recall: 0.5407 - precision: 0.9989 - f1_score: 0.7858 - val_loss: 0.0093 - val_acc: 0.9491 - val_recall: 0.4337 - val_precision: 0.9870 - val_f1_score: 0.7544\n",
      "Epoch 46/100\n",
      "1047/1047 [==============================] - ETA: 0s - loss: 0.0057 - acc: 0.9965 - recall: 0.5409 - precision: 0.9989 - f1_score: 0.7859\n",
      "Epoch 00046: val_f1_score did not improve from 0.77296\n",
      "1047/1047 [==============================] - 963s 920ms/step - loss: 0.0057 - acc: 0.9965 - recall: 0.5409 - precision: 0.9989 - f1_score: 0.7859 - val_loss: 0.0074 - val_acc: 0.9693 - val_recall: 0.4602 - val_precision: 0.9922 - val_f1_score: 0.7683\n",
      "Epoch 47/100\n",
      "1047/1047 [==============================] - ETA: 0s - loss: 0.0057 - acc: 0.9966 - recall: 0.5393 - precision: 0.9989 - f1_score: 0.7859\n",
      "Epoch 00047: val_f1_score did not improve from 0.77296\n",
      "1047/1047 [==============================] - 940s 898ms/step - loss: 0.0057 - acc: 0.9966 - recall: 0.5393 - precision: 0.9989 - f1_score: 0.7859 - val_loss: 0.0114 - val_acc: 0.9198 - val_recall: 0.4093 - val_precision: 0.9801 - val_f1_score: 0.7353\n",
      "Epoch 48/100\n",
      "1047/1047 [==============================] - ETA: 0s - loss: 0.0057 - acc: 0.9968 - recall: 0.5388 - precision: 0.9990 - f1_score: 0.7860\n",
      "Epoch 00048: val_f1_score did not improve from 0.77296\n",
      "1047/1047 [==============================] - 954s 911ms/step - loss: 0.0057 - acc: 0.9968 - recall: 0.5388 - precision: 0.9990 - f1_score: 0.7860 - val_loss: 0.0074 - val_acc: 0.9695 - val_recall: 0.4906 - val_precision: 0.9910 - val_f1_score: 0.7679\n",
      "Epoch 49/100\n",
      "1047/1047 [==============================] - ETA: 0s - loss: 0.0057 - acc: 0.9969 - recall: 0.5388 - precision: 0.9989 - f1_score: 0.7861\n",
      "Epoch 00049: val_f1_score did not improve from 0.77296\n",
      "\n",
      "Epoch 00049: ReduceLROnPlateau reducing learning rate to 0.004049999825656414.\n",
      "1047/1047 [==============================] - 917s 876ms/step - loss: 0.0057 - acc: 0.9969 - recall: 0.5388 - precision: 0.9989 - f1_score: 0.7861 - val_loss: 0.0078 - val_acc: 0.9698 - val_recall: 0.4438 - val_precision: 0.9943 - val_f1_score: 0.7684\n",
      "Epoch 50/100\n",
      "1047/1047 [==============================] - ETA: 0s - loss: 0.0056 - acc: 0.9973 - recall: 0.5335 - precision: 0.9992 - f1_score: 0.7863\n",
      "Epoch 00050: val_f1_score improved from 0.77296 to 0.77340, saving model to /app/_data/models/sites/sne/eff0_sne_2.h5\n",
      "1047/1047 [==============================] - 934s 892ms/step - loss: 0.0056 - acc: 0.9973 - recall: 0.5335 - precision: 0.9992 - f1_score: 0.7863 - val_loss: 0.0068 - val_acc: 0.9773 - val_recall: 0.5177 - val_precision: 0.9935 - val_f1_score: 0.7734\n",
      "Epoch 51/100\n",
      "1047/1047 [==============================] - ETA: 0s - loss: 0.0056 - acc: 0.9976 - recall: 0.5329 - precision: 0.9993 - f1_score: 0.7865\n",
      "Epoch 00051: val_f1_score did not improve from 0.77340\n",
      "1047/1047 [==============================] - 914s 873ms/step - loss: 0.0056 - acc: 0.9976 - recall: 0.5329 - precision: 0.9993 - f1_score: 0.7865 - val_loss: 0.0088 - val_acc: 0.9598 - val_recall: 0.4498 - val_precision: 0.9902 - val_f1_score: 0.7620\n",
      "Epoch 52/100\n",
      "1047/1047 [==============================] - ETA: 0s - loss: 0.0056 - acc: 0.9976 - recall: 0.5322 - precision: 0.9993 - f1_score: 0.7865\n",
      "Epoch 00052: val_f1_score did not improve from 0.77340\n",
      "1047/1047 [==============================] - 920s 878ms/step - loss: 0.0056 - acc: 0.9976 - recall: 0.5322 - precision: 0.9993 - f1_score: 0.7865 - val_loss: 0.0081 - val_acc: 0.9656 - val_recall: 0.5002 - val_precision: 0.9910 - val_f1_score: 0.7660\n",
      "Epoch 53/100\n",
      "1047/1047 [==============================] - ETA: 0s - loss: 0.0056 - acc: 0.9976 - recall: 0.5323 - precision: 0.9992 - f1_score: 0.7865\n",
      "Epoch 00053: val_f1_score did not improve from 0.77340\n",
      "1047/1047 [==============================] - 904s 864ms/step - loss: 0.0056 - acc: 0.9976 - recall: 0.5323 - precision: 0.9992 - f1_score: 0.7865 - val_loss: 0.0070 - val_acc: 0.9755 - val_recall: 0.6511 - val_precision: 0.9922 - val_f1_score: 0.7721\n",
      "Epoch 54/100\n",
      "1047/1047 [==============================] - ETA: 0s - loss: 0.0056 - acc: 0.9976 - recall: 0.5307 - precision: 0.9993 - f1_score: 0.7865\n",
      "Epoch 00054: val_f1_score did not improve from 0.77340\n",
      "1047/1047 [==============================] - 911s 870ms/step - loss: 0.0056 - acc: 0.9976 - recall: 0.5307 - precision: 0.9993 - f1_score: 0.7865 - val_loss: 0.0097 - val_acc: 0.9439 - val_recall: 0.4432 - val_precision: 0.9859 - val_f1_score: 0.7513\n",
      "Epoch 55/100\n",
      "1047/1047 [==============================] - ETA: 0s - loss: 0.0055 - acc: 0.9978 - recall: 0.5298 - precision: 0.9994 - f1_score: 0.7866\n",
      "Epoch 00055: val_f1_score improved from 0.77340 to 0.77354, saving model to /app/_data/models/sites/sne/eff0_sne_2.h5\n",
      "1047/1047 [==============================] - 917s 876ms/step - loss: 0.0055 - acc: 0.9978 - recall: 0.5298 - precision: 0.9994 - f1_score: 0.7866 - val_loss: 0.0067 - val_acc: 0.9780 - val_recall: 0.5351 - val_precision: 0.9941 - val_f1_score: 0.7735\n",
      "Epoch 56/100\n",
      "1047/1047 [==============================] - ETA: 0s - loss: 0.0056 - acc: 0.9978 - recall: 0.5305 - precision: 0.9993 - f1_score: 0.7866\n",
      "Epoch 00056: val_f1_score did not improve from 0.77354\n",
      "1047/1047 [==============================] - 906s 865ms/step - loss: 0.0056 - acc: 0.9978 - recall: 0.5305 - precision: 0.9993 - f1_score: 0.7866 - val_loss: 0.0075 - val_acc: 0.9682 - val_recall: 0.5038 - val_precision: 0.9912 - val_f1_score: 0.7671\n",
      "Epoch 57/100\n",
      "1047/1047 [==============================] - ETA: 0s - loss: 0.0056 - acc: 0.9977 - recall: 0.5299 - precision: 0.9993 - f1_score: 0.7865\n",
      "Epoch 00057: val_f1_score did not improve from 0.77354\n",
      "1047/1047 [==============================] - 916s 875ms/step - loss: 0.0056 - acc: 0.9977 - recall: 0.5299 - precision: 0.9993 - f1_score: 0.7865 - val_loss: 0.0070 - val_acc: 0.9770 - val_recall: 0.5135 - val_precision: 0.9946 - val_f1_score: 0.7731\n",
      "Epoch 58/100\n",
      "1047/1047 [==============================] - ETA: 0s - loss: 0.0055 - acc: 0.9978 - recall: 0.5291 - precision: 0.9993 - f1_score: 0.7866\n",
      "Epoch 00058: val_f1_score did not improve from 0.77354\n",
      "1047/1047 [==============================] - 887s 847ms/step - loss: 0.0055 - acc: 0.9978 - recall: 0.5291 - precision: 0.9993 - f1_score: 0.7866 - val_loss: 0.0071 - val_acc: 0.9760 - val_recall: 0.4547 - val_precision: 0.9945 - val_f1_score: 0.7723\n",
      "Epoch 59/100\n",
      "1047/1047 [==============================] - ETA: 0s - loss: 0.0056 - acc: 0.9978 - recall: 0.5293 - precision: 0.9992 - f1_score: 0.7866\n",
      "Epoch 00059: val_f1_score did not improve from 0.77354\n",
      "1047/1047 [==============================] - 915s 874ms/step - loss: 0.0056 - acc: 0.9978 - recall: 0.5293 - precision: 0.9992 - f1_score: 0.7866 - val_loss: 0.0080 - val_acc: 0.9631 - val_recall: 0.4616 - val_precision: 0.9894 - val_f1_score: 0.7637\n",
      "Epoch 60/100\n",
      "1047/1047 [==============================] - ETA: 0s - loss: 0.0055 - acc: 0.9980 - recall: 0.5279 - precision: 0.9993 - f1_score: 0.7867\n",
      "Epoch 00060: val_f1_score did not improve from 0.77354\n",
      "\n",
      "Epoch 00060: ReduceLROnPlateau reducing learning rate to 0.0036449996754527093.\n",
      "1047/1047 [==============================] - 888s 848ms/step - loss: 0.0055 - acc: 0.9980 - recall: 0.5279 - precision: 0.9993 - f1_score: 0.7867 - val_loss: 0.0070 - val_acc: 0.9768 - val_recall: 0.4859 - val_precision: 0.9933 - val_f1_score: 0.7728\n",
      "Epoch 61/100\n",
      "1047/1047 [==============================] - ETA: 0s - loss: 0.0055 - acc: 0.9982 - recall: 0.5224 - precision: 0.9995 - f1_score: 0.7868\n",
      "Epoch 00061: val_f1_score did not improve from 0.77354\n",
      "1047/1047 [==============================] - 913s 872ms/step - loss: 0.0055 - acc: 0.9982 - recall: 0.5224 - precision: 0.9995 - f1_score: 0.7868 - val_loss: 0.0092 - val_acc: 0.9561 - val_recall: 0.4662 - val_precision: 0.9886 - val_f1_score: 0.7592\n",
      "Epoch 62/100\n",
      "1047/1047 [==============================] - ETA: 0s - loss: 0.0055 - acc: 0.9984 - recall: 0.5213 - precision: 0.9996 - f1_score: 0.7869\n",
      "Epoch 00062: val_f1_score improved from 0.77354 to 0.77469, saving model to /app/_data/models/sites/sne/eff0_sne_2.h5\n",
      "1047/1047 [==============================] - 903s 862ms/step - loss: 0.0055 - acc: 0.9984 - recall: 0.5213 - precision: 0.9996 - f1_score: 0.7869 - val_loss: 0.0065 - val_acc: 0.9798 - val_recall: 0.5033 - val_precision: 0.9946 - val_f1_score: 0.7747\n",
      "Epoch 63/100\n",
      "1047/1047 [==============================] - ETA: 0s - loss: 0.0054 - acc: 0.9984 - recall: 0.5215 - precision: 0.9996 - f1_score: 0.7869\n",
      "Epoch 00063: val_f1_score did not improve from 0.77469\n",
      "1047/1047 [==============================] - 924s 882ms/step - loss: 0.0054 - acc: 0.9984 - recall: 0.5215 - precision: 0.9996 - f1_score: 0.7869 - val_loss: 0.0104 - val_acc: 0.9516 - val_recall: 0.4015 - val_precision: 0.9919 - val_f1_score: 0.7567\n",
      "Epoch 64/100\n",
      "1047/1047 [==============================] - ETA: 0s - loss: 0.0055 - acc: 0.9983 - recall: 0.5212 - precision: 0.9995 - f1_score: 0.7869\n",
      "Epoch 00064: val_f1_score did not improve from 0.77469\n",
      "1047/1047 [==============================] - 908s 867ms/step - loss: 0.0055 - acc: 0.9983 - recall: 0.5212 - precision: 0.9995 - f1_score: 0.7869 - val_loss: 0.0094 - val_acc: 0.9545 - val_recall: 0.4337 - val_precision: 0.9910 - val_f1_score: 0.7592\n",
      "Epoch 65/100\n",
      "1047/1047 [==============================] - ETA: 0s - loss: 0.0054 - acc: 0.9985 - recall: 0.5207 - precision: 0.9996 - f1_score: 0.7870\n",
      "Epoch 00065: val_f1_score did not improve from 0.77469\n",
      "1047/1047 [==============================] - 665s 635ms/step - loss: 0.0054 - acc: 0.9985 - recall: 0.5207 - precision: 0.9996 - f1_score: 0.7870 - val_loss: 0.0068 - val_acc: 0.9776 - val_recall: 0.5044 - val_precision: 0.9945 - val_f1_score: 0.7734\n",
      "Epoch 66/100\n",
      "1047/1047 [==============================] - ETA: 0s - loss: 0.0054 - acc: 0.9985 - recall: 0.5198 - precision: 0.9995 - f1_score: 0.7870\n",
      "Epoch 00066: val_f1_score did not improve from 0.77469\n",
      "1047/1047 [==============================] - 659s 629ms/step - loss: 0.0054 - acc: 0.9985 - recall: 0.5198 - precision: 0.9995 - f1_score: 0.7870 - val_loss: 0.0071 - val_acc: 0.9765 - val_recall: 0.4755 - val_precision: 0.9947 - val_f1_score: 0.7728\n",
      "Epoch 67/100\n",
      "1047/1047 [==============================] - ETA: 0s - loss: 0.0054 - acc: 0.9986 - recall: 0.5187 - precision: 0.9996 - f1_score: 0.7870\n",
      "Epoch 00067: val_f1_score did not improve from 0.77469\n",
      "\n",
      "Epoch 00067: ReduceLROnPlateau reducing learning rate to 0.0032804996240884065.\n",
      "1047/1047 [==============================] - 712s 680ms/step - loss: 0.0054 - acc: 0.9986 - recall: 0.5187 - precision: 0.9996 - f1_score: 0.7870 - val_loss: 0.0109 - val_acc: 0.9505 - val_recall: 0.3969 - val_precision: 0.9905 - val_f1_score: 0.7557\n",
      "Epoch 68/100\n",
      "1047/1047 [==============================] - ETA: 0s - loss: 0.0054 - acc: 0.9987 - recall: 0.5143 - precision: 0.9997 - f1_score: 0.7871\n",
      "Epoch 00068: val_f1_score did not improve from 0.77469\n",
      "1047/1047 [==============================] - 884s 845ms/step - loss: 0.0054 - acc: 0.9987 - recall: 0.5143 - precision: 0.9997 - f1_score: 0.7871 - val_loss: 0.0069 - val_acc: 0.9786 - val_recall: 0.5039 - val_precision: 0.9952 - val_f1_score: 0.7740\n",
      "Epoch 69/100\n",
      " 139/1047 [==>...........................] - ETA: 10:54 - loss: 0.0054 - acc: 0.9988 - recall: 0.5106 - precision: 0.9998 - f1_score: 0.7871"
     ]
    },
    {
     "ename": "KeyboardInterrupt",
     "evalue": "",
     "output_type": "error",
     "traceback": [
      "\u001b[0;31m\u001b[0m",
      "\u001b[0;31mKeyboardInterrupt\u001b[0mTraceback (most recent call last)",
      "\u001b[0;32m<ipython-input-24-0c62553b3cb9>\u001b[0m in \u001b[0;36m<module>\u001b[0;34m\u001b[0m\n\u001b[0;32m----> 1\u001b[0;31m history = model.fit(\n\u001b[0m\u001b[1;32m      2\u001b[0m     \u001b[0mgen_train\u001b[0m\u001b[0;34m,\u001b[0m\u001b[0;34m\u001b[0m\u001b[0;34m\u001b[0m\u001b[0m\n\u001b[1;32m      3\u001b[0m     \u001b[0mvalidation_data\u001b[0m\u001b[0;34m=\u001b[0m\u001b[0mgen_valid\u001b[0m\u001b[0;34m,\u001b[0m\u001b[0;34m\u001b[0m\u001b[0;34m\u001b[0m\u001b[0m\n\u001b[1;32m      4\u001b[0m     \u001b[0mepochs\u001b[0m\u001b[0;34m=\u001b[0m\u001b[0;36m100\u001b[0m\u001b[0;34m,\u001b[0m\u001b[0;34m\u001b[0m\u001b[0;34m\u001b[0m\u001b[0m\n\u001b[1;32m      5\u001b[0m     \u001b[0msteps_per_epoch\u001b[0m\u001b[0;34m=\u001b[0m\u001b[0mtrain\u001b[0m\u001b[0;34m.\u001b[0m\u001b[0mshape\u001b[0m\u001b[0;34m[\u001b[0m\u001b[0;36m0\u001b[0m\u001b[0;34m]\u001b[0m \u001b[0;34m//\u001b[0m \u001b[0mBATCH_SIZE\u001b[0m\u001b[0;34m,\u001b[0m\u001b[0;34m\u001b[0m\u001b[0;34m\u001b[0m\u001b[0m\n",
      "\u001b[0;32m/usr/local/lib/python3.8/dist-packages/tensorflow/python/keras/engine/training.py\u001b[0m in \u001b[0;36m_method_wrapper\u001b[0;34m(self, *args, **kwargs)\u001b[0m\n\u001b[1;32m    106\u001b[0m   \u001b[0;32mdef\u001b[0m \u001b[0m_method_wrapper\u001b[0m\u001b[0;34m(\u001b[0m\u001b[0mself\u001b[0m\u001b[0;34m,\u001b[0m \u001b[0;34m*\u001b[0m\u001b[0margs\u001b[0m\u001b[0;34m,\u001b[0m \u001b[0;34m**\u001b[0m\u001b[0mkwargs\u001b[0m\u001b[0;34m)\u001b[0m\u001b[0;34m:\u001b[0m\u001b[0;34m\u001b[0m\u001b[0;34m\u001b[0m\u001b[0m\n\u001b[1;32m    107\u001b[0m     \u001b[0;32mif\u001b[0m \u001b[0;32mnot\u001b[0m \u001b[0mself\u001b[0m\u001b[0;34m.\u001b[0m\u001b[0m_in_multi_worker_mode\u001b[0m\u001b[0;34m(\u001b[0m\u001b[0;34m)\u001b[0m\u001b[0;34m:\u001b[0m  \u001b[0;31m# pylint: disable=protected-access\u001b[0m\u001b[0;34m\u001b[0m\u001b[0;34m\u001b[0m\u001b[0m\n\u001b[0;32m--> 108\u001b[0;31m       \u001b[0;32mreturn\u001b[0m \u001b[0mmethod\u001b[0m\u001b[0;34m(\u001b[0m\u001b[0mself\u001b[0m\u001b[0;34m,\u001b[0m \u001b[0;34m*\u001b[0m\u001b[0margs\u001b[0m\u001b[0;34m,\u001b[0m \u001b[0;34m**\u001b[0m\u001b[0mkwargs\u001b[0m\u001b[0;34m)\u001b[0m\u001b[0;34m\u001b[0m\u001b[0;34m\u001b[0m\u001b[0m\n\u001b[0m\u001b[1;32m    109\u001b[0m \u001b[0;34m\u001b[0m\u001b[0m\n\u001b[1;32m    110\u001b[0m     \u001b[0;31m# Running inside `run_distribute_coordinator` already.\u001b[0m\u001b[0;34m\u001b[0m\u001b[0;34m\u001b[0m\u001b[0;34m\u001b[0m\u001b[0m\n",
      "\u001b[0;32m/usr/local/lib/python3.8/dist-packages/tensorflow/python/keras/engine/training.py\u001b[0m in \u001b[0;36mfit\u001b[0;34m(self, x, y, batch_size, epochs, verbose, callbacks, validation_split, validation_data, shuffle, class_weight, sample_weight, initial_epoch, steps_per_epoch, validation_steps, validation_batch_size, validation_freq, max_queue_size, workers, use_multiprocessing)\u001b[0m\n\u001b[1;32m   1096\u001b[0m                 batch_size=batch_size):\n\u001b[1;32m   1097\u001b[0m               \u001b[0mcallbacks\u001b[0m\u001b[0;34m.\u001b[0m\u001b[0mon_train_batch_begin\u001b[0m\u001b[0;34m(\u001b[0m\u001b[0mstep\u001b[0m\u001b[0;34m)\u001b[0m\u001b[0;34m\u001b[0m\u001b[0;34m\u001b[0m\u001b[0m\n\u001b[0;32m-> 1098\u001b[0;31m               \u001b[0mtmp_logs\u001b[0m \u001b[0;34m=\u001b[0m \u001b[0mtrain_function\u001b[0m\u001b[0;34m(\u001b[0m\u001b[0miterator\u001b[0m\u001b[0;34m)\u001b[0m\u001b[0;34m\u001b[0m\u001b[0;34m\u001b[0m\u001b[0m\n\u001b[0m\u001b[1;32m   1099\u001b[0m               \u001b[0;32mif\u001b[0m \u001b[0mdata_handler\u001b[0m\u001b[0;34m.\u001b[0m\u001b[0mshould_sync\u001b[0m\u001b[0;34m:\u001b[0m\u001b[0;34m\u001b[0m\u001b[0;34m\u001b[0m\u001b[0m\n\u001b[1;32m   1100\u001b[0m                 \u001b[0mcontext\u001b[0m\u001b[0;34m.\u001b[0m\u001b[0masync_wait\u001b[0m\u001b[0;34m(\u001b[0m\u001b[0;34m)\u001b[0m\u001b[0;34m\u001b[0m\u001b[0;34m\u001b[0m\u001b[0m\n",
      "\u001b[0;32m/usr/local/lib/python3.8/dist-packages/tensorflow/python/eager/def_function.py\u001b[0m in \u001b[0;36m__call__\u001b[0;34m(self, *args, **kwds)\u001b[0m\n\u001b[1;32m    778\u001b[0m       \u001b[0;32melse\u001b[0m\u001b[0;34m:\u001b[0m\u001b[0;34m\u001b[0m\u001b[0;34m\u001b[0m\u001b[0m\n\u001b[1;32m    779\u001b[0m         \u001b[0mcompiler\u001b[0m \u001b[0;34m=\u001b[0m \u001b[0;34m\"nonXla\"\u001b[0m\u001b[0;34m\u001b[0m\u001b[0;34m\u001b[0m\u001b[0m\n\u001b[0;32m--> 780\u001b[0;31m         \u001b[0mresult\u001b[0m \u001b[0;34m=\u001b[0m \u001b[0mself\u001b[0m\u001b[0;34m.\u001b[0m\u001b[0m_call\u001b[0m\u001b[0;34m(\u001b[0m\u001b[0;34m*\u001b[0m\u001b[0margs\u001b[0m\u001b[0;34m,\u001b[0m \u001b[0;34m**\u001b[0m\u001b[0mkwds\u001b[0m\u001b[0;34m)\u001b[0m\u001b[0;34m\u001b[0m\u001b[0;34m\u001b[0m\u001b[0m\n\u001b[0m\u001b[1;32m    781\u001b[0m \u001b[0;34m\u001b[0m\u001b[0m\n\u001b[1;32m    782\u001b[0m       \u001b[0mnew_tracing_count\u001b[0m \u001b[0;34m=\u001b[0m \u001b[0mself\u001b[0m\u001b[0;34m.\u001b[0m\u001b[0m_get_tracing_count\u001b[0m\u001b[0;34m(\u001b[0m\u001b[0;34m)\u001b[0m\u001b[0;34m\u001b[0m\u001b[0;34m\u001b[0m\u001b[0m\n",
      "\u001b[0;32m/usr/local/lib/python3.8/dist-packages/tensorflow/python/eager/def_function.py\u001b[0m in \u001b[0;36m_call\u001b[0;34m(self, *args, **kwds)\u001b[0m\n\u001b[1;32m    805\u001b[0m       \u001b[0;31m# In this case we have created variables on the first call, so we run the\u001b[0m\u001b[0;34m\u001b[0m\u001b[0;34m\u001b[0m\u001b[0;34m\u001b[0m\u001b[0m\n\u001b[1;32m    806\u001b[0m       \u001b[0;31m# defunned version which is guaranteed to never create variables.\u001b[0m\u001b[0;34m\u001b[0m\u001b[0;34m\u001b[0m\u001b[0;34m\u001b[0m\u001b[0m\n\u001b[0;32m--> 807\u001b[0;31m       \u001b[0;32mreturn\u001b[0m \u001b[0mself\u001b[0m\u001b[0;34m.\u001b[0m\u001b[0m_stateless_fn\u001b[0m\u001b[0;34m(\u001b[0m\u001b[0;34m*\u001b[0m\u001b[0margs\u001b[0m\u001b[0;34m,\u001b[0m \u001b[0;34m**\u001b[0m\u001b[0mkwds\u001b[0m\u001b[0;34m)\u001b[0m  \u001b[0;31m# pylint: disable=not-callable\u001b[0m\u001b[0;34m\u001b[0m\u001b[0;34m\u001b[0m\u001b[0m\n\u001b[0m\u001b[1;32m    808\u001b[0m     \u001b[0;32melif\u001b[0m \u001b[0mself\u001b[0m\u001b[0;34m.\u001b[0m\u001b[0m_stateful_fn\u001b[0m \u001b[0;32mis\u001b[0m \u001b[0;32mnot\u001b[0m \u001b[0;32mNone\u001b[0m\u001b[0;34m:\u001b[0m\u001b[0;34m\u001b[0m\u001b[0;34m\u001b[0m\u001b[0m\n\u001b[1;32m    809\u001b[0m       \u001b[0;31m# Release the lock early so that multiple threads can perform the call\u001b[0m\u001b[0;34m\u001b[0m\u001b[0;34m\u001b[0m\u001b[0;34m\u001b[0m\u001b[0m\n",
      "\u001b[0;32m/usr/local/lib/python3.8/dist-packages/tensorflow/python/eager/function.py\u001b[0m in \u001b[0;36m__call__\u001b[0;34m(self, *args, **kwargs)\u001b[0m\n\u001b[1;32m   2827\u001b[0m     \u001b[0;32mwith\u001b[0m \u001b[0mself\u001b[0m\u001b[0;34m.\u001b[0m\u001b[0m_lock\u001b[0m\u001b[0;34m:\u001b[0m\u001b[0;34m\u001b[0m\u001b[0;34m\u001b[0m\u001b[0m\n\u001b[1;32m   2828\u001b[0m       \u001b[0mgraph_function\u001b[0m\u001b[0;34m,\u001b[0m \u001b[0margs\u001b[0m\u001b[0;34m,\u001b[0m \u001b[0mkwargs\u001b[0m \u001b[0;34m=\u001b[0m \u001b[0mself\u001b[0m\u001b[0;34m.\u001b[0m\u001b[0m_maybe_define_function\u001b[0m\u001b[0;34m(\u001b[0m\u001b[0margs\u001b[0m\u001b[0;34m,\u001b[0m \u001b[0mkwargs\u001b[0m\u001b[0;34m)\u001b[0m\u001b[0;34m\u001b[0m\u001b[0;34m\u001b[0m\u001b[0m\n\u001b[0;32m-> 2829\u001b[0;31m     \u001b[0;32mreturn\u001b[0m \u001b[0mgraph_function\u001b[0m\u001b[0;34m.\u001b[0m\u001b[0m_filtered_call\u001b[0m\u001b[0;34m(\u001b[0m\u001b[0margs\u001b[0m\u001b[0;34m,\u001b[0m \u001b[0mkwargs\u001b[0m\u001b[0;34m)\u001b[0m  \u001b[0;31m# pylint: disable=protected-access\u001b[0m\u001b[0;34m\u001b[0m\u001b[0;34m\u001b[0m\u001b[0m\n\u001b[0m\u001b[1;32m   2830\u001b[0m \u001b[0;34m\u001b[0m\u001b[0m\n\u001b[1;32m   2831\u001b[0m   \u001b[0;34m@\u001b[0m\u001b[0mproperty\u001b[0m\u001b[0;34m\u001b[0m\u001b[0;34m\u001b[0m\u001b[0m\n",
      "\u001b[0;32m/usr/local/lib/python3.8/dist-packages/tensorflow/python/eager/function.py\u001b[0m in \u001b[0;36m_filtered_call\u001b[0;34m(self, args, kwargs, cancellation_manager)\u001b[0m\n\u001b[1;32m   1841\u001b[0m       \u001b[0;31m`\u001b[0m\u001b[0margs\u001b[0m\u001b[0;31m`\u001b[0m \u001b[0;32mand\u001b[0m\u001b[0;31m \u001b[0m\u001b[0;31m`\u001b[0m\u001b[0mkwargs\u001b[0m\u001b[0;31m`\u001b[0m\u001b[0;34m.\u001b[0m\u001b[0;34m\u001b[0m\u001b[0;34m\u001b[0m\u001b[0m\n\u001b[1;32m   1842\u001b[0m     \"\"\"\n\u001b[0;32m-> 1843\u001b[0;31m     return self._call_flat(\n\u001b[0m\u001b[1;32m   1844\u001b[0m         [t for t in nest.flatten((args, kwargs), expand_composites=True)\n\u001b[1;32m   1845\u001b[0m          if isinstance(t, (ops.Tensor,\n",
      "\u001b[0;32m/usr/local/lib/python3.8/dist-packages/tensorflow/python/eager/function.py\u001b[0m in \u001b[0;36m_call_flat\u001b[0;34m(self, args, captured_inputs, cancellation_manager)\u001b[0m\n\u001b[1;32m   1921\u001b[0m         and executing_eagerly):\n\u001b[1;32m   1922\u001b[0m       \u001b[0;31m# No tape is watching; skip to running the function.\u001b[0m\u001b[0;34m\u001b[0m\u001b[0;34m\u001b[0m\u001b[0;34m\u001b[0m\u001b[0m\n\u001b[0;32m-> 1923\u001b[0;31m       return self._build_call_outputs(self._inference_function.call(\n\u001b[0m\u001b[1;32m   1924\u001b[0m           ctx, args, cancellation_manager=cancellation_manager))\n\u001b[1;32m   1925\u001b[0m     forward_backward = self._select_forward_and_backward_functions(\n",
      "\u001b[0;32m/usr/local/lib/python3.8/dist-packages/tensorflow/python/eager/function.py\u001b[0m in \u001b[0;36mcall\u001b[0;34m(self, ctx, args, cancellation_manager)\u001b[0m\n\u001b[1;32m    543\u001b[0m       \u001b[0;32mwith\u001b[0m \u001b[0m_InterpolateFunctionError\u001b[0m\u001b[0;34m(\u001b[0m\u001b[0mself\u001b[0m\u001b[0;34m)\u001b[0m\u001b[0;34m:\u001b[0m\u001b[0;34m\u001b[0m\u001b[0;34m\u001b[0m\u001b[0m\n\u001b[1;32m    544\u001b[0m         \u001b[0;32mif\u001b[0m \u001b[0mcancellation_manager\u001b[0m \u001b[0;32mis\u001b[0m \u001b[0;32mNone\u001b[0m\u001b[0;34m:\u001b[0m\u001b[0;34m\u001b[0m\u001b[0;34m\u001b[0m\u001b[0m\n\u001b[0;32m--> 545\u001b[0;31m           outputs = execute.execute(\n\u001b[0m\u001b[1;32m    546\u001b[0m               \u001b[0mstr\u001b[0m\u001b[0;34m(\u001b[0m\u001b[0mself\u001b[0m\u001b[0;34m.\u001b[0m\u001b[0msignature\u001b[0m\u001b[0;34m.\u001b[0m\u001b[0mname\u001b[0m\u001b[0;34m)\u001b[0m\u001b[0;34m,\u001b[0m\u001b[0;34m\u001b[0m\u001b[0;34m\u001b[0m\u001b[0m\n\u001b[1;32m    547\u001b[0m               \u001b[0mnum_outputs\u001b[0m\u001b[0;34m=\u001b[0m\u001b[0mself\u001b[0m\u001b[0;34m.\u001b[0m\u001b[0m_num_outputs\u001b[0m\u001b[0;34m,\u001b[0m\u001b[0;34m\u001b[0m\u001b[0;34m\u001b[0m\u001b[0m\n",
      "\u001b[0;32m/usr/local/lib/python3.8/dist-packages/tensorflow/python/eager/execute.py\u001b[0m in \u001b[0;36mquick_execute\u001b[0;34m(op_name, num_outputs, inputs, attrs, ctx, name)\u001b[0m\n\u001b[1;32m     57\u001b[0m   \u001b[0;32mtry\u001b[0m\u001b[0;34m:\u001b[0m\u001b[0;34m\u001b[0m\u001b[0;34m\u001b[0m\u001b[0m\n\u001b[1;32m     58\u001b[0m     \u001b[0mctx\u001b[0m\u001b[0;34m.\u001b[0m\u001b[0mensure_initialized\u001b[0m\u001b[0;34m(\u001b[0m\u001b[0;34m)\u001b[0m\u001b[0;34m\u001b[0m\u001b[0;34m\u001b[0m\u001b[0m\n\u001b[0;32m---> 59\u001b[0;31m     tensors = pywrap_tfe.TFE_Py_Execute(ctx._handle, device_name, op_name,\n\u001b[0m\u001b[1;32m     60\u001b[0m                                         inputs, attrs, num_outputs)\n\u001b[1;32m     61\u001b[0m   \u001b[0;32mexcept\u001b[0m \u001b[0mcore\u001b[0m\u001b[0;34m.\u001b[0m\u001b[0m_NotOkStatusException\u001b[0m \u001b[0;32mas\u001b[0m \u001b[0me\u001b[0m\u001b[0;34m:\u001b[0m\u001b[0;34m\u001b[0m\u001b[0;34m\u001b[0m\u001b[0m\n",
      "\u001b[0;31mKeyboardInterrupt\u001b[0m: "
     ]
    }
   ],
   "source": [
    "history = model.fit(\n",
    "    gen_train,\n",
    "    validation_data=gen_valid,\n",
    "    epochs=100,\n",
    "    steps_per_epoch=train.shape[0] // BATCH_SIZE,\n",
    "    validation_steps=valid.shape[0] // BATCH_SIZE,\n",
    "    verbose=1,\n",
    "    workers=20,\n",
    "    max_queue_size=50,\n",
    "    callbacks=callbacks,\n",
    ")"
   ]
  }
 ],
 "metadata": {
  "kernelspec": {
   "display_name": "Python 3",
   "language": "python",
   "name": "python3"
  },
  "language_info": {
   "codemirror_mode": {
    "name": "ipython",
    "version": 3
   },
   "file_extension": ".py",
   "mimetype": "text/x-python",
   "name": "python",
   "nbconvert_exporter": "python",
   "pygments_lexer": "ipython3",
   "version": "3.8.5"
  }
 },
 "nbformat": 4,
 "nbformat_minor": 4
}
