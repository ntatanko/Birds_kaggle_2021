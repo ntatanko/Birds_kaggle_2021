{
 "cells": [
  {
   "cell_type": "code",
   "execution_count": 1,
   "metadata": {},
   "outputs": [],
   "source": [
    "import os\n",
    "import shutil\n",
    "import warnings\n",
    "\n",
    "import numpy as np\n",
    "import pandas as pd\n",
    "import plotly.graph_objects as go\n",
    "import torchaudio\n",
    "\n",
    "warnings.filterwarnings(action=\"ignore\")\n",
    "from IPython.core.interactiveshell import InteractiveShell\n",
    "\n",
    "InteractiveShell.ast_node_interactivity = \"all\"\n",
    "import json\n",
    "\n",
    "import geopandas\n",
    "import librosa\n",
    "import librosa.display\n",
    "import matplotlib.pyplot as plt\n",
    "import scipy.stats as st\n",
    "import seaborn as sns\n",
    "import soundfile\n",
    "import tensorflow as tf\n",
    "import tensorflow_addons as tfa\n",
    "import torch\n",
    "\n",
    "%matplotlib inline\n",
    "from PIL import Image\n",
    "from sklearn.model_selection import train_test_split, StratifiedKFold\n",
    "from sklearn.utils import shuffle\n",
    "from tensorflow import keras\n",
    "from tensorflow.keras.models import Sequential\n",
    "from tensorflow.keras.optimizers import Adam\n",
    "from torchaudio.transforms import MelSpectrogram\n",
    "from tqdm import tqdm\n",
    "\n",
    "from src.gen_short import MEL_Generator_Short, Mel_Provider\n",
    "from src.prepare_dataset import (\n",
    "    choose_ids,\n",
    "    make_dict_birds,\n",
    "    make_intervals,\n",
    "    make_intervals_upsampling,\n",
    "    prepare_dataset,\n",
    ")"
   ]
  },
  {
   "cell_type": "code",
   "execution_count": 2,
   "metadata": {},
   "outputs": [],
   "source": [
    "list_sites = [\n",
    "    \"birds_COL_300.npy\",\n",
    "    \"birds_COR_300.npy\",\n",
    "    \"birds_SSW_300.npy\",\n",
    "    \"birds_SNE_300.npy\",\n",
    "]"
   ]
  },
  {
   "cell_type": "code",
   "execution_count": 3,
   "metadata": {},
   "outputs": [],
   "source": [
    "list_all_birds = []\n",
    "for site in list_sites:\n",
    "    birds = list(np.load(\"/app/sandbox/sites/\"+site, allow_pickle=True))\n",
    "    list_all_birds.extend(birds)\n",
    "list_all_birds = list(set(list_all_birds))\n",
    "list_all_birds.sort()"
   ]
  },
  {
   "cell_type": "code",
   "execution_count": 4,
   "metadata": {},
   "outputs": [
    {
     "data": {
      "text/plain": [
       "373"
      ]
     },
     "execution_count": 4,
     "metadata": {},
     "output_type": "execute_result"
    }
   ],
   "source": [
    "len(list_all_birds)"
   ]
  },
  {
   "cell_type": "code",
   "execution_count": 5,
   "metadata": {},
   "outputs": [],
   "source": [
    "SEED = 42\n",
    "IMG_SIZE = 224\n",
    "SAMPLE_RATE = 32000\n",
    "N_FFT = 2048\n",
    "SIGNAL_LENGTH = 5\n",
    "FREQ_MIN = 0\n",
    "FREQ_MAX = 16000\n",
    "WIN_LENGHT = 1024\n",
    "BATCH_SIZE = 50"
   ]
  },
  {
   "cell_type": "markdown",
   "metadata": {},
   "source": [
    "## Initial dataframes"
   ]
  },
  {
   "cell_type": "code",
   "execution_count": 6,
   "metadata": {},
   "outputs": [
    {
     "data": {
      "text/plain": [
       "(61578, 24)"
      ]
     },
     "execution_count": 6,
     "metadata": {},
     "output_type": "execute_result"
    }
   ],
   "source": [
    "all_audio_init = pd.read_csv(\"/app/_data/all_audio_initial.csv\")\n",
    "all_audio = all_audio_init.query(\"primary_label in @list_all_birds\").reset_index(\n",
    "    drop=True\n",
    ")\n",
    "all_audio.shape"
   ]
  },
  {
   "cell_type": "code",
   "execution_count": 7,
   "metadata": {},
   "outputs": [
    {
     "name": "stderr",
     "output_type": "stream",
     "text": [
      "100%|██████████| 61578/61578 [00:01<00:00, 42522.52it/s]\n"
     ]
    },
    {
     "data": {
      "text/plain": [
       "1218"
      ]
     },
     "execution_count": 7,
     "metadata": {},
     "output_type": "execute_result"
    }
   ],
   "source": [
    "list_ixs = []\n",
    "for i in tqdm(all_audio.index.tolist()):\n",
    "    sec_labels = all_audio.loc[i, \"secondary_labels\"]\n",
    "    if type(sec_labels) != float:\n",
    "        sec_labels = sec_labels.split()\n",
    "        for j in sec_labels:\n",
    "            if j not in list_all_birds:\n",
    "                list_ixs.append(i)\n",
    "len(set(list_ixs))"
   ]
  },
  {
   "cell_type": "code",
   "execution_count": 8,
   "metadata": {},
   "outputs": [],
   "source": [
    "list_ixs = set(list_ixs)"
   ]
  },
  {
   "cell_type": "code",
   "execution_count": 9,
   "metadata": {},
   "outputs": [
    {
     "data": {
      "text/plain": [
       "(60360, 24)"
      ]
     },
     "execution_count": 9,
     "metadata": {},
     "output_type": "execute_result"
    }
   ],
   "source": [
    "all_audio = all_audio.query(\"index not in @list_ixs\").reset_index(drop=True)\n",
    "all_audio.shape"
   ]
  },
  {
   "cell_type": "code",
   "execution_count": 10,
   "metadata": {},
   "outputs": [],
   "source": [
    "dict_birds, all_audio = make_dict_birds(all_audio)"
   ]
  },
  {
   "cell_type": "code",
   "execution_count": 11,
   "metadata": {},
   "outputs": [],
   "source": [
    "file_json = open(\"/app/_data/models/sites/all/all_birds_300.json\", \"w\")\n",
    "json.dump(dict_birds, file_json)\n",
    "file_json.close()"
   ]
  },
  {
   "cell_type": "code",
   "execution_count": 12,
   "metadata": {},
   "outputs": [],
   "source": [
    "dict_weights = (1 / all_audio[\"primary_label\"].value_counts()).to_dict()\n",
    "all_audio[\"class_weights\"] = all_audio[\"primary_label\"].replace(dict_weights)\n",
    "all_audio[\"class_weights\"] = all_audio[\"class_weights\"] * all_audio[\"rating\"]\n",
    "\n",
    "short_audio = all_audio[all_audio[\"rating\"] != 6].reset_index(\n",
    "    drop=True\n",
    ")  # only short audio\n",
    "train_sondscapes = all_audio[all_audio[\"rating\"] == 6].reset_index(\n",
    "    drop=True\n",
    ")  # only train_soundscapes\n",
    "short_audio.shape\n",
    "train_sondscapes.shape\n",
    "\n",
    "len(dict_birds)\n",
    "\n",
    "train_sondscapes[\"duration\"] = 600\n",
    "\n",
    "## Make intervals for short audio\n",
    "\n",
    "array_for_cut = short_audio[[\"filename\", \"duration\", \"class_weights\"]].values\n",
    "\n",
    "birds_intervals = make_intervals(array_for_cut, 5, max_intervals=150, max_lenght=300)\n",
    "birds_intervals.shape\n",
    "\n",
    "birds_intervals[\"row_id\"] = birds_intervals.index\n",
    "\n",
    "birds_intervals[\"filename\"].value_counts()\n",
    "\n",
    "birds_intervals_sample = birds_intervals.sample(\n",
    "    n=500000, weights=\"class_weights\", random_state=SEED\n",
    ")\n",
    "\n",
    "short_audio = birds_intervals_sample.merge(\n",
    "    short_audio[\n",
    "        [\n",
    "            \"filename\",\n",
    "            \"primary_label\",\n",
    "            \"secondary_labels\",\n",
    "            \"label_id\",\n",
    "            \"secondary_labels_id\",\n",
    "            \"duration\",\n",
    "            \"rating\",\n",
    "            \"year\",\n",
    "            \"file_path\",\n",
    "            \"frames\",\n",
    "            \"sin_month\",\n",
    "            \"cos_month\",\n",
    "            \"sin_longitude\",\n",
    "            \"cos_longitude\",\n",
    "            \"latitude\",\n",
    "            \"norm_latitude\",\n",
    "            \"date\",\n",
    "        ]\n",
    "    ],\n",
    "    on=\"filename\",\n",
    "    how=\"left\",\n",
    ")\n",
    "\n",
    "short_audio[\"filename\"].value_counts()\n",
    "\n",
    "short_audio[\"end_sec\"] = short_audio[\"end_sec\"].apply(lambda x: x if x > 5 else 5)\n",
    "\n",
    "short_audio[\"start_sec\"] = short_audio[\"end_sec\"] - 5\n",
    "\n",
    "# concat short+long\n",
    "\n",
    "short_audio = prepare_dataset(short_audio)\n",
    "train_sondscapes = prepare_dataset(train_sondscapes)\n",
    "\n",
    "final_audio = (\n",
    "    pd.concat(\n",
    "        [short_audio, train_sondscapes, train_sondscapes],\n",
    "        axis=0,\n",
    "        ignore_index=True,\n",
    "    )\n",
    "    .sample(frac=1, random_state=SEED)\n",
    "    .reset_index(drop=True)\n",
    ")\n",
    "final_audio.shape\n",
    "\n",
    "final_audio[\"primary_label\"].value_counts().tail(20)\n",
    "\n",
    "final_audio.query(\"end_sec > duration and rating!=6\")[[\"end_sec\", \"duration\"]]\n",
    "\n",
    "for ix in final_audio.query(\"end_sec > duration and rating!=6\")[\n",
    "    [\"end_sec\", \"duration\"]\n",
    "].index:\n",
    "    final_audio.loc[ix, \"end_sec\"] = final_audio.loc[ix, \"duration\"]\n",
    "\n",
    "# upsampling\n",
    "\n",
    "# upsampling|\n",
    "\n",
    "rare_birds = list(final_audio[\"primary_label\"].value_counts().tail(5).index.values)\n",
    "rare_bird_filenames = (\n",
    "    all_audio.query(\"primary_label in @rare_birds\")[\"filename\"].unique().tolist()\n",
    ")\n",
    "rare_birds\n",
    "\n",
    "df = pd.DataFrame(columns=[\"end_sec\", \"class_weights\", \"filename\"])\n",
    "for bird in rare_birds:\n",
    "    rare_bird_filenames = (\n",
    "    all_audio.query(\"primary_label ==@bird\")[\"filename\"].unique().tolist())\n",
    "    rare_array = all_audio.query(\n",
    "        \"primary_label ==@bird and rating!=0 and rating!=6 and filename in @rare_bird_filenames\"\n",
    "    )[[\"filename\", \"duration\", \"class_weights\"]].values\n",
    "    intervals = make_intervals_upsampling(rare_array)\n",
    "    df = pd.concat([df, intervals], axis=0)\n",
    "\n",
    "df\n",
    "\n",
    "df[\"row_id\"] = df.index\n",
    "df = df.merge(\n",
    "    all_audio[\n",
    "        [\n",
    "            \"filename\",\n",
    "            \"primary_label\",\n",
    "            \"secondary_labels\",\n",
    "            \"label_id\",\n",
    "            \"secondary_labels_id\",\n",
    "            \"duration\",\n",
    "            \"rating\",\n",
    "            \"year\",\n",
    "            \"file_path\",\n",
    "            \"frames\",\n",
    "            \"sin_month\",\n",
    "            \"cos_month\",\n",
    "            \"sin_longitude\",\n",
    "            \"cos_longitude\",\n",
    "            \"latitude\",\n",
    "            \"norm_latitude\",\n",
    "            \"date\",\n",
    "        ]\n",
    "    ],\n",
    "    on=\"filename\",\n",
    "    how=\"left\",\n",
    ")\n",
    "df[\"end_sec\"] = df[\"end_sec\"].apply(lambda x: x if x > 5 else 5)\n",
    "df[\"start_sec\"] = df[\"end_sec\"] - 5\n",
    "df = prepare_dataset(df)\n",
    "final_audio = (\n",
    "    pd.concat(\n",
    "        [final_audio, df],\n",
    "        axis=0,\n",
    "        ignore_index=True,\n",
    "    )\n",
    "    .sample(frac=1, random_state=SEED)\n",
    "    .reset_index(drop=True)\n",
    ")\n",
    "final_audio.shape\n",
    "\n",
    "final_audio[\"primary_label\"].value_counts().tail(20)\n",
    "\n",
    "for ix in final_audio.query(\"end_sec > duration and rating!=6\")[\n",
    "    [\"end_sec\", \"duration\"]\n",
    "].index:\n",
    "    final_audio.loc[ix, \"end_sec\"] = final_audio.loc[ix, \"duration\"]"
   ]
  },
  {
   "cell_type": "code",
   "execution_count": 13,
   "metadata": {},
   "outputs": [],
   "source": [
    "final_audio.to_csv('/app/_data/models/sites/all/final_audio.csv', index=False)\n",
    "# final_audio = pd.read_csv('/app/_data/models/sites/all/final_audio.csv')\n"
   ]
  },
  {
   "cell_type": "markdown",
   "metadata": {},
   "source": [
    "# train_test_split"
   ]
  },
  {
   "cell_type": "code",
   "execution_count": 14,
   "metadata": {},
   "outputs": [],
   "source": [
    "train, valid = train_test_split(final_audio, train_size=0.85, random_state=SEED)\n",
    "train = train.reset_index(drop=True)\n",
    "valid = valid.reset_index(drop=True)"
   ]
  },
  {
   "cell_type": "code",
   "execution_count": 16,
   "metadata": {},
   "outputs": [],
   "source": [
    "mel_pr = Mel_Provider(\n",
    "    n_fft=N_FFT,\n",
    "    win_length=WIN_LENGHT,\n",
    "    n_mels=IMG_SIZE,\n",
    "    sample_rate=SAMPLE_RATE,\n",
    "    mel_image_size=IMG_SIZE,\n",
    "    min_frequency=FREQ_MIN,\n",
    "    max_frequency=FREQ_MAX,\n",
    "    signal_lenght=SIGNAL_LENGTH,\n",
    ")"
   ]
  },
  {
   "cell_type": "code",
   "execution_count": 17,
   "metadata": {},
   "outputs": [],
   "source": [
    "def get_model():\n",
    "    inputs = keras.Input(shape=(IMG_SIZE, IMG_SIZE, 3))\n",
    "    base_model = keras.applications.EfficientNetB0(\n",
    "        weights=\"imagenet\", include_top=False\n",
    "    )\n",
    "    x = base_model(inputs)\n",
    "    x = keras.layers.GlobalAveragePooling2D(name=\"avg_pool\")(x)\n",
    "    x = keras.layers.Flatten(name=\"flatten\")(x)\n",
    "    outputs = keras.layers.Dense(NUM_CLASSES, activation=\"sigmoid\")(x)\n",
    "    model = keras.Model(inputs=inputs, outputs=outputs)\n",
    "    model.compile(\n",
    "        loss=\"binary_crossentropy\",\n",
    "        optimizer=Adam(lr=0.001),\n",
    "        metrics=[\n",
    "            \"acc\",\n",
    "            keras.metrics.Recall(),\n",
    "            keras.metrics.Precision(),\n",
    "            tfa.metrics.F1Score(num_classes=NUM_CLASSES, average=\"micro\"),\n",
    "        ],\n",
    "    )\n",
    "    return model"
   ]
  },
  {
   "cell_type": "code",
   "execution_count": 18,
   "metadata": {},
   "outputs": [
    {
     "name": "stdout",
     "output_type": "stream",
     "text": [
      "INFO:tensorflow:Mixed precision compatibility check (mixed_float16): OK\n",
      "Your GPU will likely run quickly with dtype policy mixed_float16 as it has compute capability of at least 7.0. Your GPU: NVIDIA GeForce RTX 3090, compute capability 8.6\n"
     ]
    }
   ],
   "source": [
    "policy = keras.mixed_precision.experimental.Policy(\"mixed_float16\")\n",
    "keras.mixed_precision.experimental.set_policy(policy)"
   ]
  },
  {
   "cell_type": "code",
   "execution_count": 20,
   "metadata": {},
   "outputs": [],
   "source": [
    "skf = StratifiedKFold(n_splits=6, random_state=SEED, shuffle=True)\n",
    "train_index =[0,0,0,0,0,0]\n",
    "valid_index=[0,0,0,0,0,0]\n",
    "for i, (train_ixs, valid_ixs) in enumerate(\n",
    "    skf.split(final_audio, final_audio[\"primary_label\"])\n",
    "):\n",
    "    train_index[i]=train_ixs\n",
    "    valid_index[i]=valid_ixs"
   ]
  },
  {
   "cell_type": "code",
   "execution_count": null,
   "metadata": {},
   "outputs": [],
   "source": [
    "train = final_audio.loc[train_index[0]]\n",
    "valid = final_audio.loc[valid_index[0]]\n",
    "NUM_CLASSES = len(dict_birds)\n",
    "BATCH_SIZE = 2000\n",
    "gen_train = MEL_Generator_Short(\n",
    "    df=train,\n",
    "    n_mels=IMG_SIZE,\n",
    "    seed=SEED,\n",
    "    sample_rate=SAMPLE_RATE,\n",
    "    mel_image_size=IMG_SIZE,\n",
    "    batch_size=BATCH_SIZE,\n",
    "    n_classes=NUM_CLASSES,\n",
    "    signal_lenght=SIGNAL_LENGTH,\n",
    "    mel_provider=mel_pr,\n",
    "    wave_dir=\"/app/_data/npy/waves_npy/\",\n",
    "    short_mel_dir=\"/app/_data/npy/short_mels/\",\n",
    "    norm_mel=True,\n",
    "    convert_to_rgb=True,\n",
    "    shuffle=True,\n",
    "    return_primary_labels=False,\n",
    "    return_secondary_labels=False,\n",
    "    return_concat_labels=True,\n",
    "    augment=False,\n",
    ")\n",
    "\n",
    "gen_valid = MEL_Generator_Short(\n",
    "    df=valid,\n",
    "    n_mels=IMG_SIZE,\n",
    "    seed=SEED,\n",
    "    sample_rate=SAMPLE_RATE,\n",
    "    mel_image_size=IMG_SIZE,\n",
    "    batch_size=BATCH_SIZE,\n",
    "    n_classes=NUM_CLASSES,\n",
    "    signal_lenght=SIGNAL_LENGTH,\n",
    "    mel_provider=mel_pr,\n",
    "    wave_dir=\"/app/_data/npy/waves_npy/\",\n",
    "    short_mel_dir=\"/app/_data/npy/short_mels/\",\n",
    "    norm_mel=True,\n",
    "    convert_to_rgb=True,\n",
    "    shuffle=False,\n",
    "    return_primary_labels=False,\n",
    "    return_secondary_labels=False,\n",
    "    return_concat_labels=True,\n",
    "    augment=False,\n",
    ")\n",
    "callbacks = [\n",
    "    keras.callbacks.EarlyStopping(\n",
    "        monitor=\"val_f1_score\",\n",
    "        patience=12,\n",
    "        restore_best_weights=True,\n",
    "        verbose=1,\n",
    "        mode=\"max\",\n",
    "    ),\n",
    "    keras.callbacks.ModelCheckpoint(\n",
    "        \"/app/_data/models/sites/all/eff0_all_1_400.h5\",\n",
    "        monitor=\"val_f1_score\",\n",
    "        verbose=1,\n",
    "        save_best_only=True,\n",
    "        save_weights_only=False,\n",
    "        mode=\"max\",\n",
    "        save_freq=\"epoch\",\n",
    "    ),\n",
    "    keras.callbacks.ReduceLROnPlateau(\n",
    "        monitor=\"val_f1_score\",\n",
    "        factor=0.9,\n",
    "        patience=5,\n",
    "        verbose=1,\n",
    "        mode=\"max\",\n",
    "        min_delta=1e-4,\n",
    "        min_lr=0.00000001,\n",
    "    ),\n",
    "    keras.callbacks.TensorBoard(log_dir=\"/app/.tensorboard/all_eff0_1/\", histogram_freq=0),\n",
    "    keras.callbacks.experimental.BackupAndRestore(\n",
    "        \"/app/_data/models/sites/all/backup/\"\n",
    "    ),\n",
    "    keras.callbacks.TerminateOnNaN(),\n",
    "]\n",
    "\n",
    "model = get_model()\n",
    "history = model.fit(\n",
    "    gen_train,\n",
    "    validation_data=gen_valid,\n",
    "    epochs=200,\n",
    "    steps_per_epoch=train.shape[0] // BATCH_SIZE,\n",
    "    validation_steps=valid.shape[0] // BATCH_SIZE,\n",
    "    verbose=1,\n",
    "    workers=30,\n",
    "    callbacks=callbacks,\n",
    ")"
   ]
  },
  {
   "cell_type": "code",
   "execution_count": null,
   "metadata": {},
   "outputs": [],
   "source": []
  }
 ],
 "metadata": {
  "kernelspec": {
   "display_name": "Python 3",
   "language": "python",
   "name": "python3"
  },
  "language_info": {
   "codemirror_mode": {
    "name": "ipython",
    "version": 3
   },
   "file_extension": ".py",
   "mimetype": "text/x-python",
   "name": "python",
   "nbconvert_exporter": "python",
   "pygments_lexer": "ipython3",
   "version": "3.8.5"
  }
 },
 "nbformat": 4,
 "nbformat_minor": 4
}
